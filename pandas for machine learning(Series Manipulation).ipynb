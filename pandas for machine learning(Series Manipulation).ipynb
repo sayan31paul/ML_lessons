{
 "cells": [
  {
   "cell_type": "code",
   "execution_count": 1,
   "id": "c36148ed",
   "metadata": {},
   "outputs": [],
   "source": [
    "import pandas as pd\n",
    "import numpy as np"
   ]
  },
  {
   "cell_type": "code",
   "execution_count": 2,
   "id": "89e64db2",
   "metadata": {},
   "outputs": [],
   "source": [
    "#You can give your own index names\n",
    "ser1=pd.Series(data=[1,2,3,4],index=['CA','OR','CO','AZ'])\n",
    "\n",
    "#You can ignore writing data or index parameter. Pandas will understand accordingly.\n",
    "ser2=pd.Series([1,2,5,4],['CA','OR','NV','AZ'])"
   ]
  },
  {
   "cell_type": "code",
   "execution_count": 3,
   "id": "5b531290",
   "metadata": {},
   "outputs": [
    {
     "data": {
      "text/plain": [
       "CA    1\n",
       "OR    2\n",
       "NV    5\n",
       "AZ    4\n",
       "dtype: int64"
      ]
     },
     "execution_count": 3,
     "metadata": {},
     "output_type": "execute_result"
    }
   ],
   "source": [
    "ser2"
   ]
  },
  {
   "cell_type": "code",
   "execution_count": 4,
   "id": "8e92cfb1",
   "metadata": {},
   "outputs": [
    {
     "data": {
      "text/plain": [
       "CA    1\n",
       "OR    2\n",
       "CO    3\n",
       "AZ    4\n",
       "dtype: int64"
      ]
     },
     "execution_count": 4,
     "metadata": {},
     "output_type": "execute_result"
    }
   ],
   "source": [
    "ser1"
   ]
  },
  {
   "cell_type": "markdown",
   "id": "c0158080",
   "metadata": {},
   "source": [
    "Indexing by name of the item or object(string identifier)"
   ]
  },
  {
   "cell_type": "code",
   "execution_count": 6,
   "id": "c5d5839c",
   "metadata": {},
   "outputs": [
    {
     "data": {
      "text/plain": [
       "1"
      ]
     },
     "execution_count": 6,
     "metadata": {},
     "output_type": "execute_result"
    }
   ],
   "source": [
    "#Value for CA in ser1\n",
    "ser1['CA']"
   ]
  },
  {
   "cell_type": "code",
   "execution_count": 7,
   "id": "7a2f1c66",
   "metadata": {},
   "outputs": [
    {
     "data": {
      "text/plain": [
       "4"
      ]
     },
     "execution_count": 7,
     "metadata": {},
     "output_type": "execute_result"
    }
   ],
   "source": [
    "#Value for Az in ser1\n",
    "ser1['AZ']"
   ]
  },
  {
   "cell_type": "code",
   "execution_count": 8,
   "id": "17646883",
   "metadata": {},
   "outputs": [
    {
     "data": {
      "text/plain": [
       "5"
      ]
     },
     "execution_count": 8,
     "metadata": {},
     "output_type": "execute_result"
    }
   ],
   "source": [
    "#Value for NV in ser2\n",
    "ser2['NV']"
   ]
  },
  {
   "cell_type": "code",
   "execution_count": 10,
   "id": "03ca29ea",
   "metadata": {},
   "outputs": [
    {
     "data": {
      "text/plain": [
       "1"
      ]
     },
     "execution_count": 10,
     "metadata": {},
     "output_type": "execute_result"
    }
   ],
   "source": [
    "#You can also fetch elements by positional index\n",
    "ser1[0]"
   ]
  },
  {
   "cell_type": "code",
   "execution_count": 11,
   "id": "fa3cd3db",
   "metadata": {},
   "outputs": [
    {
     "data": {
      "text/plain": [
       "4"
      ]
     },
     "execution_count": 11,
     "metadata": {},
     "output_type": "execute_result"
    }
   ],
   "source": [
    "ser1[3]"
   ]
  },
  {
   "cell_type": "code",
   "execution_count": 12,
   "id": "ce0db4d5",
   "metadata": {},
   "outputs": [
    {
     "data": {
      "text/plain": [
       "5"
      ]
     },
     "execution_count": 12,
     "metadata": {},
     "output_type": "execute_result"
    }
   ],
   "source": [
    "ser2[2]"
   ]
  },
  {
   "cell_type": "code",
   "execution_count": 13,
   "id": "d000fe5b",
   "metadata": {},
   "outputs": [
    {
     "data": {
      "text/plain": [
       "OR    2\n",
       "CO    3\n",
       "AZ    4\n",
       "dtype: int64"
      ]
     },
     "execution_count": 13,
     "metadata": {},
     "output_type": "execute_result"
    }
   ],
   "source": [
    "#Slicing\n",
    "ser1[1:4]"
   ]
  },
  {
   "cell_type": "markdown",
   "id": "f5f6603c",
   "metadata": {},
   "source": [
    "Adding of two series"
   ]
  },
  {
   "cell_type": "code",
   "execution_count": 14,
   "id": "0c20bdbd",
   "metadata": {},
   "outputs": [],
   "source": [
    "ser3=pd.Series([1,2,3,4,10],['CA','OR','CO','AZ','NV'])\n",
    "ser4=pd.Series([1,2,5,4,30],['CA','OR','NV','PA','CO'])\n",
    "#Adding of two series\n",
    "ser5=ser3+ser4"
   ]
  },
  {
   "cell_type": "code",
   "execution_count": 15,
   "id": "a21a7f81",
   "metadata": {},
   "outputs": [
    {
     "data": {
      "text/plain": [
       "AZ     NaN\n",
       "CA     2.0\n",
       "CO    33.0\n",
       "NV    15.0\n",
       "OR     4.0\n",
       "PA     NaN\n",
       "dtype: float64"
      ]
     },
     "execution_count": 15,
     "metadata": {},
     "output_type": "execute_result"
    }
   ],
   "source": [
    "ser5"
   ]
  },
  {
   "cell_type": "markdown",
   "id": "2d533138",
   "metadata": {},
   "source": [
    "Similarly you can multiply, substract and do other operations on it"
   ]
  },
  {
   "cell_type": "code",
   "execution_count": 16,
   "id": "9bb2153d",
   "metadata": {},
   "outputs": [
    {
     "data": {
      "text/plain": [
       "AZ     NaN\n",
       "CA     0.0\n",
       "CO   -27.0\n",
       "NV     5.0\n",
       "OR     0.0\n",
       "PA     NaN\n",
       "dtype: float64"
      ]
     },
     "execution_count": 16,
     "metadata": {},
     "output_type": "execute_result"
    }
   ],
   "source": [
    "ser5=ser3-ser4\n",
    "ser5"
   ]
  },
  {
   "cell_type": "code",
   "execution_count": 17,
   "id": "b542723b",
   "metadata": {},
   "outputs": [
    {
     "data": {
      "text/plain": [
       "AZ     NaN\n",
       "CA     1.0\n",
       "CO    90.0\n",
       "NV    50.0\n",
       "OR     4.0\n",
       "PA     NaN\n",
       "dtype: float64"
      ]
     },
     "execution_count": 17,
     "metadata": {},
     "output_type": "execute_result"
    }
   ],
   "source": [
    "ser5=ser3*ser4\n",
    "ser5"
   ]
  },
  {
   "cell_type": "code",
   "execution_count": 18,
   "id": "fa12aa28",
   "metadata": {},
   "outputs": [
    {
     "data": {
      "text/plain": [
       "AZ    NaN\n",
       "CA    1.0\n",
       "CO    0.1\n",
       "NV    2.0\n",
       "OR    1.0\n",
       "PA    NaN\n",
       "dtype: float64"
      ]
     },
     "execution_count": 18,
     "metadata": {},
     "output_type": "execute_result"
    }
   ],
   "source": [
    "ser5=ser3/ser4\n",
    "ser5"
   ]
  },
  {
   "cell_type": "code",
   "execution_count": null,
   "id": "cc518884",
   "metadata": {},
   "outputs": [],
   "source": []
  }
 ],
 "metadata": {
  "kernelspec": {
   "display_name": "Python 3",
   "language": "python",
   "name": "python3"
  },
  "language_info": {
   "codemirror_mode": {
    "name": "ipython",
    "version": 3
   },
   "file_extension": ".py",
   "mimetype": "text/x-python",
   "name": "python",
   "nbconvert_exporter": "python",
   "pygments_lexer": "ipython3",
   "version": "3.8.8"
  }
 },
 "nbformat": 4,
 "nbformat_minor": 5
}
