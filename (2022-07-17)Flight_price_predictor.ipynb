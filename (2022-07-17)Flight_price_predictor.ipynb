{
 "cells": [
  {
   "cell_type": "code",
   "execution_count": 1,
   "id": "97d7c7c6",
   "metadata": {},
   "outputs": [],
   "source": [
    "import pandas as pd\n",
    "import numpy as np\n",
    "import matplotlib.pyplot as plt\n",
    "import seaborn as sns\n",
    "import datetime\n",
    "import warnings\n",
    "warnings.filterwarnings('ignore')\n",
    "from sklearn.preprocessing import LabelEncoder\n",
    "from sklearn.preprocessing import StandardScaler,power_transform\n",
    "from sklearn.preprocessing import PowerTransformer\n",
    "from sklearn.decomposition import PCA\n",
    "from sklearn.model_selection import train_test_split\n",
    "from sklearn.linear_model import LinearRegression,Lasso,Ridge\n",
    "from sklearn.neighbors import KNeighborsRegressor\n",
    "from sklearn.ensemble import RandomForestRegressor\n",
    "from sklearn.preprocessing import PolynomialFeatures\n",
    "from sklearn.model_selection import cross_val_score\n",
    "from sklearn.metrics import mean_squared_error,r2_score,mean_absolute_error\n",
    "from sklearn.model_selection import GridSearchCV"
   ]
  },
  {
   "cell_type": "code",
   "execution_count": 2,
   "id": "063e8bf5",
   "metadata": {},
   "outputs": [],
   "source": [
    "from sklearn.model_selection import train_test_split\n",
    "from sklearn.linear_model import LinearRegression,Lasso,Ridge\n",
    "from sklearn.neighbors import KNeighborsRegressor\n",
    "from sklearn.ensemble import RandomForestRegressor\n",
    "from sklearn.preprocessing import PolynomialFeatures\n",
    "from sklearn.model_selection import cross_val_score\n",
    "from sklearn.metrics import mean_squared_error,r2_score,mean_absolute_error\n",
    "from sklearn.ensemble import GradientBoostingRegressor\n",
    "from sklearn.model_selection import GridSearchCV"
   ]
  },
  {
   "cell_type": "code",
   "execution_count": 3,
   "id": "bfd3f743",
   "metadata": {},
   "outputs": [
    {
     "data": {
      "text/html": [
       "<div>\n",
       "<style scoped>\n",
       "    .dataframe tbody tr th:only-of-type {\n",
       "        vertical-align: middle;\n",
       "    }\n",
       "\n",
       "    .dataframe tbody tr th {\n",
       "        vertical-align: top;\n",
       "    }\n",
       "\n",
       "    .dataframe thead th {\n",
       "        text-align: right;\n",
       "    }\n",
       "</style>\n",
       "<table border=\"1\" class=\"dataframe\">\n",
       "  <thead>\n",
       "    <tr style=\"text-align: right;\">\n",
       "      <th></th>\n",
       "      <th>Unnamed: 0</th>\n",
       "      <th>Company</th>\n",
       "      <th>depart_time</th>\n",
       "      <th>flight_time</th>\n",
       "      <th>arrival_time</th>\n",
       "      <th>num_stops</th>\n",
       "      <th>stop_location</th>\n",
       "      <th>source</th>\n",
       "      <th>destination</th>\n",
       "      <th>days_remaining</th>\n",
       "      <th>price</th>\n",
       "    </tr>\n",
       "  </thead>\n",
       "  <tbody>\n",
       "    <tr>\n",
       "      <th>0</th>\n",
       "      <td>0</td>\n",
       "      <td>SpiceJet</td>\n",
       "      <td>08:45</td>\n",
       "      <td>02 h 55 m</td>\n",
       "      <td>11:40</td>\n",
       "      <td>0</td>\n",
       "      <td>None</td>\n",
       "      <td>Delhi</td>\n",
       "      <td>Chennai</td>\n",
       "      <td>0</td>\n",
       "      <td>₹ 6,312</td>\n",
       "    </tr>\n",
       "    <tr>\n",
       "      <th>1</th>\n",
       "      <td>1</td>\n",
       "      <td>IndiGo</td>\n",
       "      <td>07:10</td>\n",
       "      <td>02 h 50 m</td>\n",
       "      <td>10:00</td>\n",
       "      <td>0</td>\n",
       "      <td>None</td>\n",
       "      <td>Delhi</td>\n",
       "      <td>Chennai</td>\n",
       "      <td>0</td>\n",
       "      <td>₹ 6,584</td>\n",
       "    </tr>\n",
       "    <tr>\n",
       "      <th>2</th>\n",
       "      <td>2</td>\n",
       "      <td>IndiGo</td>\n",
       "      <td>08:30</td>\n",
       "      <td>02 h 50 m</td>\n",
       "      <td>11:20</td>\n",
       "      <td>0</td>\n",
       "      <td>None</td>\n",
       "      <td>Delhi</td>\n",
       "      <td>Chennai</td>\n",
       "      <td>0</td>\n",
       "      <td>₹ 6,584</td>\n",
       "    </tr>\n",
       "    <tr>\n",
       "      <th>3</th>\n",
       "      <td>3</td>\n",
       "      <td>IndiGo</td>\n",
       "      <td>12:55</td>\n",
       "      <td>02 h 55 m</td>\n",
       "      <td>15:50</td>\n",
       "      <td>0</td>\n",
       "      <td>None</td>\n",
       "      <td>Delhi</td>\n",
       "      <td>Chennai</td>\n",
       "      <td>0</td>\n",
       "      <td>₹ 6,584</td>\n",
       "    </tr>\n",
       "    <tr>\n",
       "      <th>4</th>\n",
       "      <td>4</td>\n",
       "      <td>IndiGo</td>\n",
       "      <td>17:25</td>\n",
       "      <td>02 h 50 m</td>\n",
       "      <td>20:15</td>\n",
       "      <td>0</td>\n",
       "      <td>None</td>\n",
       "      <td>Delhi</td>\n",
       "      <td>Chennai</td>\n",
       "      <td>0</td>\n",
       "      <td>₹ 6,584</td>\n",
       "    </tr>\n",
       "    <tr>\n",
       "      <th>...</th>\n",
       "      <td>...</td>\n",
       "      <td>...</td>\n",
       "      <td>...</td>\n",
       "      <td>...</td>\n",
       "      <td>...</td>\n",
       "      <td>...</td>\n",
       "      <td>...</td>\n",
       "      <td>...</td>\n",
       "      <td>...</td>\n",
       "      <td>...</td>\n",
       "      <td>...</td>\n",
       "    </tr>\n",
       "    <tr>\n",
       "      <th>1580</th>\n",
       "      <td>1580</td>\n",
       "      <td>IndiGo</td>\n",
       "      <td>06:25</td>\n",
       "      <td>08 h</td>\n",
       "      <td>14:25</td>\n",
       "      <td>1</td>\n",
       "      <td>Dehradun</td>\n",
       "      <td>Delhi</td>\n",
       "      <td>Kolkata</td>\n",
       "      <td>40</td>\n",
       "      <td>₹ 6,390</td>\n",
       "    </tr>\n",
       "    <tr>\n",
       "      <th>1581</th>\n",
       "      <td>1581</td>\n",
       "      <td>IndiGo</td>\n",
       "      <td>12:45</td>\n",
       "      <td>05 h 30 m</td>\n",
       "      <td>18:15</td>\n",
       "      <td>1</td>\n",
       "      <td>Lucknow</td>\n",
       "      <td>Delhi</td>\n",
       "      <td>Kolkata</td>\n",
       "      <td>40</td>\n",
       "      <td>₹ 6,442</td>\n",
       "    </tr>\n",
       "    <tr>\n",
       "      <th>1582</th>\n",
       "      <td>1582</td>\n",
       "      <td>IndiGo</td>\n",
       "      <td>07:55</td>\n",
       "      <td>10 h 20 m</td>\n",
       "      <td>18:15</td>\n",
       "      <td>1</td>\n",
       "      <td>Lucknow</td>\n",
       "      <td>Delhi</td>\n",
       "      <td>Kolkata</td>\n",
       "      <td>40</td>\n",
       "      <td>₹ 6,442</td>\n",
       "    </tr>\n",
       "    <tr>\n",
       "      <th>1583</th>\n",
       "      <td>1583</td>\n",
       "      <td>AirAsia, IndiGo</td>\n",
       "      <td>13:00</td>\n",
       "      <td>05 h 15 m</td>\n",
       "      <td>18:15</td>\n",
       "      <td>1</td>\n",
       "      <td>Lucknow</td>\n",
       "      <td>Delhi</td>\n",
       "      <td>Kolkata</td>\n",
       "      <td>40</td>\n",
       "      <td>₹ 7,296</td>\n",
       "    </tr>\n",
       "    <tr>\n",
       "      <th>1584</th>\n",
       "      <td>1584</td>\n",
       "      <td>Go First</td>\n",
       "      <td>11:20</td>\n",
       "      <td>04 h 40 m</td>\n",
       "      <td>16:00</td>\n",
       "      <td>1</td>\n",
       "      <td>Bagdogra</td>\n",
       "      <td>Delhi</td>\n",
       "      <td>Kolkata</td>\n",
       "      <td>40</td>\n",
       "      <td>₹ 7,395</td>\n",
       "    </tr>\n",
       "  </tbody>\n",
       "</table>\n",
       "<p>1585 rows × 11 columns</p>\n",
       "</div>"
      ],
      "text/plain": [
       "      Unnamed: 0          Company depart_time flight_time arrival_time  \\\n",
       "0              0         SpiceJet       08:45   02 h 55 m        11:40   \n",
       "1              1           IndiGo       07:10   02 h 50 m        10:00   \n",
       "2              2           IndiGo       08:30   02 h 50 m        11:20   \n",
       "3              3           IndiGo       12:55   02 h 55 m        15:50   \n",
       "4              4           IndiGo       17:25   02 h 50 m        20:15   \n",
       "...          ...              ...         ...         ...          ...   \n",
       "1580        1580           IndiGo       06:25        08 h        14:25   \n",
       "1581        1581           IndiGo       12:45   05 h 30 m        18:15   \n",
       "1582        1582           IndiGo       07:55   10 h 20 m        18:15   \n",
       "1583        1583  AirAsia, IndiGo       13:00   05 h 15 m        18:15   \n",
       "1584        1584         Go First       11:20   04 h 40 m        16:00   \n",
       "\n",
       "      num_stops stop_location source destination  days_remaining    price  \n",
       "0             0          None  Delhi     Chennai               0  ₹ 6,312  \n",
       "1             0          None  Delhi     Chennai               0  ₹ 6,584  \n",
       "2             0          None  Delhi     Chennai               0  ₹ 6,584  \n",
       "3             0          None  Delhi     Chennai               0  ₹ 6,584  \n",
       "4             0          None  Delhi     Chennai               0  ₹ 6,584  \n",
       "...         ...           ...    ...         ...             ...      ...  \n",
       "1580          1      Dehradun  Delhi     Kolkata              40  ₹ 6,390  \n",
       "1581          1       Lucknow  Delhi     Kolkata              40  ₹ 6,442  \n",
       "1582          1       Lucknow  Delhi     Kolkata              40  ₹ 6,442  \n",
       "1583          1       Lucknow  Delhi     Kolkata              40  ₹ 7,296  \n",
       "1584          1      Bagdogra  Delhi     Kolkata              40  ₹ 7,395  \n",
       "\n",
       "[1585 rows x 11 columns]"
      ]
     },
     "execution_count": 3,
     "metadata": {},
     "output_type": "execute_result"
    }
   ],
   "source": [
    "#df=pd.read_csv('flight_price1.csv')\n",
    "#df"
   ]
  },
  {
   "cell_type": "code",
   "execution_count": 5,
   "id": "21c350b9",
   "metadata": {},
   "outputs": [
    {
     "data": {
      "text/plain": [
       "Index(['Unnamed: 0', 'Company', 'depart_time', 'flight_time', 'arrival_time',\n",
       "       'num_stops', 'stop_location', 'source', 'destination', 'days_remaining',\n",
       "       'price'],\n",
       "      dtype='object')"
      ]
     },
     "execution_count": 5,
     "metadata": {},
     "output_type": "execute_result"
    }
   ],
   "source": [
    "#df.columns"
   ]
  },
  {
   "cell_type": "code",
   "execution_count": 6,
   "id": "77654378",
   "metadata": {},
   "outputs": [
    {
     "data": {
      "text/plain": [
       "(1585, 11)"
      ]
     },
     "execution_count": 6,
     "metadata": {},
     "output_type": "execute_result"
    }
   ],
   "source": [
    "#df.shape"
   ]
  },
  {
   "cell_type": "code",
   "execution_count": 8,
   "id": "be9f6d12",
   "metadata": {},
   "outputs": [],
   "source": [
    "#df=df.drop(columns=['Unnamed: 0'])"
   ]
  },
  {
   "cell_type": "code",
   "execution_count": 9,
   "id": "5b17e6a9",
   "metadata": {},
   "outputs": [
    {
     "data": {
      "text/plain": [
       "Index(['Company', 'depart_time', 'flight_time', 'arrival_time', 'num_stops',\n",
       "       'stop_location', 'source', 'destination', 'days_remaining', 'price'],\n",
       "      dtype='object')"
      ]
     },
     "execution_count": 9,
     "metadata": {},
     "output_type": "execute_result"
    }
   ],
   "source": [
    "#df.columns"
   ]
  },
  {
   "cell_type": "code",
   "execution_count": 10,
   "id": "bc7c9109",
   "metadata": {},
   "outputs": [
    {
     "data": {
      "text/html": [
       "<div>\n",
       "<style scoped>\n",
       "    .dataframe tbody tr th:only-of-type {\n",
       "        vertical-align: middle;\n",
       "    }\n",
       "\n",
       "    .dataframe tbody tr th {\n",
       "        vertical-align: top;\n",
       "    }\n",
       "\n",
       "    .dataframe thead th {\n",
       "        text-align: right;\n",
       "    }\n",
       "</style>\n",
       "<table border=\"1\" class=\"dataframe\">\n",
       "  <thead>\n",
       "    <tr style=\"text-align: right;\">\n",
       "      <th></th>\n",
       "      <th>Company</th>\n",
       "      <th>depart_time</th>\n",
       "      <th>flight_time</th>\n",
       "      <th>arrival_time</th>\n",
       "      <th>num_stops</th>\n",
       "      <th>stop_location</th>\n",
       "      <th>source</th>\n",
       "      <th>destination</th>\n",
       "      <th>days_remaining</th>\n",
       "      <th>price</th>\n",
       "    </tr>\n",
       "  </thead>\n",
       "  <tbody>\n",
       "    <tr>\n",
       "      <th>0</th>\n",
       "      <td>SpiceJet</td>\n",
       "      <td>08:45</td>\n",
       "      <td>02 h 55 m</td>\n",
       "      <td>11:40</td>\n",
       "      <td>0</td>\n",
       "      <td>None</td>\n",
       "      <td>Delhi</td>\n",
       "      <td>Chennai</td>\n",
       "      <td>0</td>\n",
       "      <td>₹ 6,312</td>\n",
       "    </tr>\n",
       "    <tr>\n",
       "      <th>1</th>\n",
       "      <td>IndiGo</td>\n",
       "      <td>07:10</td>\n",
       "      <td>02 h 50 m</td>\n",
       "      <td>10:00</td>\n",
       "      <td>0</td>\n",
       "      <td>None</td>\n",
       "      <td>Delhi</td>\n",
       "      <td>Chennai</td>\n",
       "      <td>0</td>\n",
       "      <td>₹ 6,584</td>\n",
       "    </tr>\n",
       "    <tr>\n",
       "      <th>2</th>\n",
       "      <td>IndiGo</td>\n",
       "      <td>08:30</td>\n",
       "      <td>02 h 50 m</td>\n",
       "      <td>11:20</td>\n",
       "      <td>0</td>\n",
       "      <td>None</td>\n",
       "      <td>Delhi</td>\n",
       "      <td>Chennai</td>\n",
       "      <td>0</td>\n",
       "      <td>₹ 6,584</td>\n",
       "    </tr>\n",
       "    <tr>\n",
       "      <th>3</th>\n",
       "      <td>IndiGo</td>\n",
       "      <td>12:55</td>\n",
       "      <td>02 h 55 m</td>\n",
       "      <td>15:50</td>\n",
       "      <td>0</td>\n",
       "      <td>None</td>\n",
       "      <td>Delhi</td>\n",
       "      <td>Chennai</td>\n",
       "      <td>0</td>\n",
       "      <td>₹ 6,584</td>\n",
       "    </tr>\n",
       "    <tr>\n",
       "      <th>4</th>\n",
       "      <td>IndiGo</td>\n",
       "      <td>17:25</td>\n",
       "      <td>02 h 50 m</td>\n",
       "      <td>20:15</td>\n",
       "      <td>0</td>\n",
       "      <td>None</td>\n",
       "      <td>Delhi</td>\n",
       "      <td>Chennai</td>\n",
       "      <td>0</td>\n",
       "      <td>₹ 6,584</td>\n",
       "    </tr>\n",
       "    <tr>\n",
       "      <th>...</th>\n",
       "      <td>...</td>\n",
       "      <td>...</td>\n",
       "      <td>...</td>\n",
       "      <td>...</td>\n",
       "      <td>...</td>\n",
       "      <td>...</td>\n",
       "      <td>...</td>\n",
       "      <td>...</td>\n",
       "      <td>...</td>\n",
       "      <td>...</td>\n",
       "    </tr>\n",
       "    <tr>\n",
       "      <th>1580</th>\n",
       "      <td>IndiGo</td>\n",
       "      <td>06:25</td>\n",
       "      <td>08 h</td>\n",
       "      <td>14:25</td>\n",
       "      <td>1</td>\n",
       "      <td>Dehradun</td>\n",
       "      <td>Delhi</td>\n",
       "      <td>Kolkata</td>\n",
       "      <td>40</td>\n",
       "      <td>₹ 6,390</td>\n",
       "    </tr>\n",
       "    <tr>\n",
       "      <th>1581</th>\n",
       "      <td>IndiGo</td>\n",
       "      <td>12:45</td>\n",
       "      <td>05 h 30 m</td>\n",
       "      <td>18:15</td>\n",
       "      <td>1</td>\n",
       "      <td>Lucknow</td>\n",
       "      <td>Delhi</td>\n",
       "      <td>Kolkata</td>\n",
       "      <td>40</td>\n",
       "      <td>₹ 6,442</td>\n",
       "    </tr>\n",
       "    <tr>\n",
       "      <th>1582</th>\n",
       "      <td>IndiGo</td>\n",
       "      <td>07:55</td>\n",
       "      <td>10 h 20 m</td>\n",
       "      <td>18:15</td>\n",
       "      <td>1</td>\n",
       "      <td>Lucknow</td>\n",
       "      <td>Delhi</td>\n",
       "      <td>Kolkata</td>\n",
       "      <td>40</td>\n",
       "      <td>₹ 6,442</td>\n",
       "    </tr>\n",
       "    <tr>\n",
       "      <th>1583</th>\n",
       "      <td>AirAsia, IndiGo</td>\n",
       "      <td>13:00</td>\n",
       "      <td>05 h 15 m</td>\n",
       "      <td>18:15</td>\n",
       "      <td>1</td>\n",
       "      <td>Lucknow</td>\n",
       "      <td>Delhi</td>\n",
       "      <td>Kolkata</td>\n",
       "      <td>40</td>\n",
       "      <td>₹ 7,296</td>\n",
       "    </tr>\n",
       "    <tr>\n",
       "      <th>1584</th>\n",
       "      <td>Go First</td>\n",
       "      <td>11:20</td>\n",
       "      <td>04 h 40 m</td>\n",
       "      <td>16:00</td>\n",
       "      <td>1</td>\n",
       "      <td>Bagdogra</td>\n",
       "      <td>Delhi</td>\n",
       "      <td>Kolkata</td>\n",
       "      <td>40</td>\n",
       "      <td>₹ 7,395</td>\n",
       "    </tr>\n",
       "  </tbody>\n",
       "</table>\n",
       "<p>1585 rows × 10 columns</p>\n",
       "</div>"
      ],
      "text/plain": [
       "              Company depart_time flight_time arrival_time  num_stops  \\\n",
       "0            SpiceJet       08:45   02 h 55 m        11:40          0   \n",
       "1              IndiGo       07:10   02 h 50 m        10:00          0   \n",
       "2              IndiGo       08:30   02 h 50 m        11:20          0   \n",
       "3              IndiGo       12:55   02 h 55 m        15:50          0   \n",
       "4              IndiGo       17:25   02 h 50 m        20:15          0   \n",
       "...               ...         ...         ...          ...        ...   \n",
       "1580           IndiGo       06:25        08 h        14:25          1   \n",
       "1581           IndiGo       12:45   05 h 30 m        18:15          1   \n",
       "1582           IndiGo       07:55   10 h 20 m        18:15          1   \n",
       "1583  AirAsia, IndiGo       13:00   05 h 15 m        18:15          1   \n",
       "1584         Go First       11:20   04 h 40 m        16:00          1   \n",
       "\n",
       "     stop_location source destination  days_remaining    price  \n",
       "0             None  Delhi     Chennai               0  ₹ 6,312  \n",
       "1             None  Delhi     Chennai               0  ₹ 6,584  \n",
       "2             None  Delhi     Chennai               0  ₹ 6,584  \n",
       "3             None  Delhi     Chennai               0  ₹ 6,584  \n",
       "4             None  Delhi     Chennai               0  ₹ 6,584  \n",
       "...            ...    ...         ...             ...      ...  \n",
       "1580      Dehradun  Delhi     Kolkata              40  ₹ 6,390  \n",
       "1581       Lucknow  Delhi     Kolkata              40  ₹ 6,442  \n",
       "1582       Lucknow  Delhi     Kolkata              40  ₹ 6,442  \n",
       "1583       Lucknow  Delhi     Kolkata              40  ₹ 7,296  \n",
       "1584      Bagdogra  Delhi     Kolkata              40  ₹ 7,395  \n",
       "\n",
       "[1585 rows x 10 columns]"
      ]
     },
     "execution_count": 10,
     "metadata": {},
     "output_type": "execute_result"
    }
   ],
   "source": [
    "#df"
   ]
  },
  {
   "cell_type": "code",
   "execution_count": 11,
   "id": "7f175d61",
   "metadata": {},
   "outputs": [
    {
     "data": {
      "text/plain": [
       "Company           object\n",
       "depart_time       object\n",
       "flight_time       object\n",
       "arrival_time      object\n",
       "num_stops          int64\n",
       "stop_location     object\n",
       "source            object\n",
       "destination       object\n",
       "days_remaining     int64\n",
       "price             object\n",
       "dtype: object"
      ]
     },
     "execution_count": 11,
     "metadata": {},
     "output_type": "execute_result"
    }
   ],
   "source": [
    "#df.dtypes"
   ]
  },
  {
   "cell_type": "code",
   "execution_count": 17,
   "id": "46d7bf5d",
   "metadata": {},
   "outputs": [
    {
     "data": {
      "text/plain": [
       "0       [08, 45]\n",
       "1       [07, 10]\n",
       "2       [08, 30]\n",
       "3       [12, 55]\n",
       "4       [17, 25]\n",
       "          ...   \n",
       "1580    [06, 25]\n",
       "1581    [12, 45]\n",
       "1582    [07, 55]\n",
       "1583    [13, 00]\n",
       "1584    [11, 20]\n",
       "Name: depart_time, Length: 1585, dtype: object"
      ]
     },
     "execution_count": 17,
     "metadata": {},
     "output_type": "execute_result"
    }
   ],
   "source": [
    "#df['depart_time'].str.split(':')"
   ]
  },
  {
   "cell_type": "code",
   "execution_count": 23,
   "id": "3afb6255",
   "metadata": {},
   "outputs": [
    {
     "data": {
      "text/plain": [
       "0       [08, 45]\n",
       "1       [07, 10]\n",
       "2       [08, 30]\n",
       "3       [12, 55]\n",
       "4       [17, 25]\n",
       "          ...   \n",
       "1580    [06, 25]\n",
       "1581    [12, 45]\n",
       "1582    [07, 55]\n",
       "1583    [13, 00]\n",
       "1584    [11, 20]\n",
       "Name: depart_time, Length: 1585, dtype: object"
      ]
     },
     "execution_count": 23,
     "metadata": {},
     "output_type": "execute_result"
    }
   ],
   "source": [
    "#df['depart_time'].apply(lambda x:x.split(':'))"
   ]
  },
  {
   "cell_type": "code",
   "execution_count": 25,
   "id": "e3265253",
   "metadata": {},
   "outputs": [],
   "source": [
    "#df['depart_time']=df['depart_time'].apply(lambda x:int(x.split(':')[0])+int(x.split(':')[1])/60)"
   ]
  },
  {
   "cell_type": "code",
   "execution_count": 30,
   "id": "2e86be3a",
   "metadata": {},
   "outputs": [
    {
     "data": {
      "text/plain": [
       "50    17.833333\n",
       "51    21.000000\n",
       "52     5.416667\n",
       "53     5.666667\n",
       "54    19.583333\n",
       "55     0.333333\n",
       "56     5.583333\n",
       "57     7.000000\n",
       "58     9.250000\n",
       "59    10.250000\n",
       "60    15.500000\n",
       "61    16.750000\n",
       "62     7.250000\n",
       "63    11.166667\n",
       "64     9.000000\n",
       "Name: depart_time, dtype: float64"
      ]
     },
     "execution_count": 30,
     "metadata": {},
     "output_type": "execute_result"
    }
   ],
   "source": [
    "#df.iloc[50:65,1]"
   ]
  },
  {
   "cell_type": "code",
   "execution_count": 31,
   "id": "962f4c59",
   "metadata": {},
   "outputs": [],
   "source": [
    "#df['arrival_time']=df['arrival_time'].apply(lambda x:int(x.split(':')[0])+int(x.split(':')[1])/60)"
   ]
  },
  {
   "cell_type": "code",
   "execution_count": 33,
   "id": "f7834fe1",
   "metadata": {},
   "outputs": [
    {
     "data": {
      "text/plain": [
       "Company            object\n",
       "depart_time       float64\n",
       "flight_time        object\n",
       "arrival_time      float64\n",
       "num_stops           int64\n",
       "stop_location      object\n",
       "source             object\n",
       "destination        object\n",
       "days_remaining      int64\n",
       "price              object\n",
       "dtype: object"
      ]
     },
     "execution_count": 33,
     "metadata": {},
     "output_type": "execute_result"
    }
   ],
   "source": [
    "#df.dtypes"
   ]
  },
  {
   "cell_type": "code",
   "execution_count": 39,
   "id": "07791b7f",
   "metadata": {},
   "outputs": [
    {
     "ename": "SyntaxError",
     "evalue": "invalid syntax (<ipython-input-39-65a6a30c84a1>, line 1)",
     "output_type": "error",
     "traceback": [
      "\u001b[1;36m  File \u001b[1;32m\"<ipython-input-39-65a6a30c84a1>\"\u001b[1;36m, line \u001b[1;32m1\u001b[0m\n\u001b[1;33m    df['flight_time'].apply(lambda x:int(x.split(' ')[0])+int(x.split(' ')[2])/60 if x.split(' ')[1]=='h' & x.split(' ')[3]=='m' elif x.split(' ')[1]=='h' int(x.split(' ')[0]) elif x.split(' ')[1]=='m' int(x.split(' ')[0])/60 )\u001b[0m\n\u001b[1;37m                                                                                                                                 ^\u001b[0m\n\u001b[1;31mSyntaxError\u001b[0m\u001b[1;31m:\u001b[0m invalid syntax\n"
     ]
    }
   ],
   "source": [
    "#df['flight_time'].apply(lambda x:int(x.split(' ')[0])+int(x.split(' ')[2])/60 if x.split(' ')[1]=='h' & x.split(' ')[3]=='m' elif x.split(' ')[1]=='h' int(x.split(' ')[0]) elif x.split(' ')[1]=='m' int(x.split(' ')[0])/60 )"
   ]
  },
  {
   "cell_type": "code",
   "execution_count": 44,
   "id": "8efa25c3",
   "metadata": {},
   "outputs": [],
   "source": [
    "#def parse_values(x):\n",
    "    if len(x.split(' '))==4:\n",
    "        return int(x.split(' ')[0])+int(x.split(' ')[2])/60\n",
    "    elif x.split(' ')[1]=='h':\n",
    "        return int(x.split(' ')[0])\n",
    "    elif x.split(' ')[1]=='m':\n",
    "        return int(x.split(' ')[0])/60"
   ]
  },
  {
   "cell_type": "code",
   "execution_count": 47,
   "id": "0d27d3af",
   "metadata": {},
   "outputs": [
    {
     "data": {
      "text/plain": [
       "array([ 5.08333333, 16.75      ,  4.75      ,  7.08333333,  8.        ,\n",
       "        8.25      ,  6.41666667,  7.41666667,  7.33333333,  8.83333333,\n",
       "        5.33333333,  9.08333333,  9.33333333,  3.66666667,  4.25      ,\n",
       "        5.91666667,  5.25      ,  4.83333333,  6.58333333,  5.91666667])"
      ]
     },
     "execution_count": 47,
     "metadata": {},
     "output_type": "execute_result"
    }
   ],
   "source": [
    "#df['flight_time'].apply(parse_values).values[250:270]"
   ]
  },
  {
   "cell_type": "code",
   "execution_count": 48,
   "id": "86738af4",
   "metadata": {},
   "outputs": [],
   "source": [
    "#df['flight_time']=df['flight_time'].apply(parse_values)"
   ]
  },
  {
   "cell_type": "code",
   "execution_count": 49,
   "id": "112db641",
   "metadata": {},
   "outputs": [
    {
     "data": {
      "text/html": [
       "<div>\n",
       "<style scoped>\n",
       "    .dataframe tbody tr th:only-of-type {\n",
       "        vertical-align: middle;\n",
       "    }\n",
       "\n",
       "    .dataframe tbody tr th {\n",
       "        vertical-align: top;\n",
       "    }\n",
       "\n",
       "    .dataframe thead th {\n",
       "        text-align: right;\n",
       "    }\n",
       "</style>\n",
       "<table border=\"1\" class=\"dataframe\">\n",
       "  <thead>\n",
       "    <tr style=\"text-align: right;\">\n",
       "      <th></th>\n",
       "      <th>Company</th>\n",
       "      <th>depart_time</th>\n",
       "      <th>flight_time</th>\n",
       "      <th>arrival_time</th>\n",
       "      <th>num_stops</th>\n",
       "      <th>stop_location</th>\n",
       "      <th>source</th>\n",
       "      <th>destination</th>\n",
       "      <th>days_remaining</th>\n",
       "      <th>price</th>\n",
       "    </tr>\n",
       "  </thead>\n",
       "  <tbody>\n",
       "    <tr>\n",
       "      <th>0</th>\n",
       "      <td>SpiceJet</td>\n",
       "      <td>8.750000</td>\n",
       "      <td>2.916667</td>\n",
       "      <td>11.666667</td>\n",
       "      <td>0</td>\n",
       "      <td>None</td>\n",
       "      <td>Delhi</td>\n",
       "      <td>Chennai</td>\n",
       "      <td>0</td>\n",
       "      <td>₹ 6,312</td>\n",
       "    </tr>\n",
       "    <tr>\n",
       "      <th>1</th>\n",
       "      <td>IndiGo</td>\n",
       "      <td>7.166667</td>\n",
       "      <td>2.833333</td>\n",
       "      <td>10.000000</td>\n",
       "      <td>0</td>\n",
       "      <td>None</td>\n",
       "      <td>Delhi</td>\n",
       "      <td>Chennai</td>\n",
       "      <td>0</td>\n",
       "      <td>₹ 6,584</td>\n",
       "    </tr>\n",
       "    <tr>\n",
       "      <th>2</th>\n",
       "      <td>IndiGo</td>\n",
       "      <td>8.500000</td>\n",
       "      <td>2.833333</td>\n",
       "      <td>11.333333</td>\n",
       "      <td>0</td>\n",
       "      <td>None</td>\n",
       "      <td>Delhi</td>\n",
       "      <td>Chennai</td>\n",
       "      <td>0</td>\n",
       "      <td>₹ 6,584</td>\n",
       "    </tr>\n",
       "    <tr>\n",
       "      <th>3</th>\n",
       "      <td>IndiGo</td>\n",
       "      <td>12.916667</td>\n",
       "      <td>2.916667</td>\n",
       "      <td>15.833333</td>\n",
       "      <td>0</td>\n",
       "      <td>None</td>\n",
       "      <td>Delhi</td>\n",
       "      <td>Chennai</td>\n",
       "      <td>0</td>\n",
       "      <td>₹ 6,584</td>\n",
       "    </tr>\n",
       "    <tr>\n",
       "      <th>4</th>\n",
       "      <td>IndiGo</td>\n",
       "      <td>17.416667</td>\n",
       "      <td>2.833333</td>\n",
       "      <td>20.250000</td>\n",
       "      <td>0</td>\n",
       "      <td>None</td>\n",
       "      <td>Delhi</td>\n",
       "      <td>Chennai</td>\n",
       "      <td>0</td>\n",
       "      <td>₹ 6,584</td>\n",
       "    </tr>\n",
       "    <tr>\n",
       "      <th>...</th>\n",
       "      <td>...</td>\n",
       "      <td>...</td>\n",
       "      <td>...</td>\n",
       "      <td>...</td>\n",
       "      <td>...</td>\n",
       "      <td>...</td>\n",
       "      <td>...</td>\n",
       "      <td>...</td>\n",
       "      <td>...</td>\n",
       "      <td>...</td>\n",
       "    </tr>\n",
       "    <tr>\n",
       "      <th>1580</th>\n",
       "      <td>IndiGo</td>\n",
       "      <td>6.416667</td>\n",
       "      <td>8.000000</td>\n",
       "      <td>14.416667</td>\n",
       "      <td>1</td>\n",
       "      <td>Dehradun</td>\n",
       "      <td>Delhi</td>\n",
       "      <td>Kolkata</td>\n",
       "      <td>40</td>\n",
       "      <td>₹ 6,390</td>\n",
       "    </tr>\n",
       "    <tr>\n",
       "      <th>1581</th>\n",
       "      <td>IndiGo</td>\n",
       "      <td>12.750000</td>\n",
       "      <td>5.500000</td>\n",
       "      <td>18.250000</td>\n",
       "      <td>1</td>\n",
       "      <td>Lucknow</td>\n",
       "      <td>Delhi</td>\n",
       "      <td>Kolkata</td>\n",
       "      <td>40</td>\n",
       "      <td>₹ 6,442</td>\n",
       "    </tr>\n",
       "    <tr>\n",
       "      <th>1582</th>\n",
       "      <td>IndiGo</td>\n",
       "      <td>7.916667</td>\n",
       "      <td>10.333333</td>\n",
       "      <td>18.250000</td>\n",
       "      <td>1</td>\n",
       "      <td>Lucknow</td>\n",
       "      <td>Delhi</td>\n",
       "      <td>Kolkata</td>\n",
       "      <td>40</td>\n",
       "      <td>₹ 6,442</td>\n",
       "    </tr>\n",
       "    <tr>\n",
       "      <th>1583</th>\n",
       "      <td>AirAsia, IndiGo</td>\n",
       "      <td>13.000000</td>\n",
       "      <td>5.250000</td>\n",
       "      <td>18.250000</td>\n",
       "      <td>1</td>\n",
       "      <td>Lucknow</td>\n",
       "      <td>Delhi</td>\n",
       "      <td>Kolkata</td>\n",
       "      <td>40</td>\n",
       "      <td>₹ 7,296</td>\n",
       "    </tr>\n",
       "    <tr>\n",
       "      <th>1584</th>\n",
       "      <td>Go First</td>\n",
       "      <td>11.333333</td>\n",
       "      <td>4.666667</td>\n",
       "      <td>16.000000</td>\n",
       "      <td>1</td>\n",
       "      <td>Bagdogra</td>\n",
       "      <td>Delhi</td>\n",
       "      <td>Kolkata</td>\n",
       "      <td>40</td>\n",
       "      <td>₹ 7,395</td>\n",
       "    </tr>\n",
       "  </tbody>\n",
       "</table>\n",
       "<p>1585 rows × 10 columns</p>\n",
       "</div>"
      ],
      "text/plain": [
       "              Company  depart_time  flight_time  arrival_time  num_stops  \\\n",
       "0            SpiceJet     8.750000     2.916667     11.666667          0   \n",
       "1              IndiGo     7.166667     2.833333     10.000000          0   \n",
       "2              IndiGo     8.500000     2.833333     11.333333          0   \n",
       "3              IndiGo    12.916667     2.916667     15.833333          0   \n",
       "4              IndiGo    17.416667     2.833333     20.250000          0   \n",
       "...               ...          ...          ...           ...        ...   \n",
       "1580           IndiGo     6.416667     8.000000     14.416667          1   \n",
       "1581           IndiGo    12.750000     5.500000     18.250000          1   \n",
       "1582           IndiGo     7.916667    10.333333     18.250000          1   \n",
       "1583  AirAsia, IndiGo    13.000000     5.250000     18.250000          1   \n",
       "1584         Go First    11.333333     4.666667     16.000000          1   \n",
       "\n",
       "     stop_location source destination  days_remaining    price  \n",
       "0             None  Delhi     Chennai               0  ₹ 6,312  \n",
       "1             None  Delhi     Chennai               0  ₹ 6,584  \n",
       "2             None  Delhi     Chennai               0  ₹ 6,584  \n",
       "3             None  Delhi     Chennai               0  ₹ 6,584  \n",
       "4             None  Delhi     Chennai               0  ₹ 6,584  \n",
       "...            ...    ...         ...             ...      ...  \n",
       "1580      Dehradun  Delhi     Kolkata              40  ₹ 6,390  \n",
       "1581       Lucknow  Delhi     Kolkata              40  ₹ 6,442  \n",
       "1582       Lucknow  Delhi     Kolkata              40  ₹ 6,442  \n",
       "1583       Lucknow  Delhi     Kolkata              40  ₹ 7,296  \n",
       "1584      Bagdogra  Delhi     Kolkata              40  ₹ 7,395  \n",
       "\n",
       "[1585 rows x 10 columns]"
      ]
     },
     "execution_count": 49,
     "metadata": {},
     "output_type": "execute_result"
    }
   ],
   "source": [
    "#df"
   ]
  },
  {
   "cell_type": "code",
   "execution_count": 50,
   "id": "143ae02d",
   "metadata": {},
   "outputs": [],
   "source": [
    "#df.to_csv('flight_price_final.csv')"
   ]
  },
  {
   "cell_type": "code",
   "execution_count": 3,
   "id": "90b6b126",
   "metadata": {},
   "outputs": [],
   "source": [
    "#df=pd.read_csv('flight_price_final.csv')"
   ]
  },
  {
   "cell_type": "code",
   "execution_count": 4,
   "id": "472c2e79",
   "metadata": {},
   "outputs": [
    {
     "data": {
      "text/html": [
       "<div>\n",
       "<style scoped>\n",
       "    .dataframe tbody tr th:only-of-type {\n",
       "        vertical-align: middle;\n",
       "    }\n",
       "\n",
       "    .dataframe tbody tr th {\n",
       "        vertical-align: top;\n",
       "    }\n",
       "\n",
       "    .dataframe thead th {\n",
       "        text-align: right;\n",
       "    }\n",
       "</style>\n",
       "<table border=\"1\" class=\"dataframe\">\n",
       "  <thead>\n",
       "    <tr style=\"text-align: right;\">\n",
       "      <th></th>\n",
       "      <th>Unnamed: 0</th>\n",
       "      <th>Company</th>\n",
       "      <th>depart_time</th>\n",
       "      <th>flight_time</th>\n",
       "      <th>arrival_time</th>\n",
       "      <th>num_stops</th>\n",
       "      <th>stop_location</th>\n",
       "      <th>source</th>\n",
       "      <th>destination</th>\n",
       "      <th>days_remaining</th>\n",
       "      <th>price</th>\n",
       "    </tr>\n",
       "  </thead>\n",
       "  <tbody>\n",
       "    <tr>\n",
       "      <th>0</th>\n",
       "      <td>0</td>\n",
       "      <td>SpiceJet</td>\n",
       "      <td>8.750000</td>\n",
       "      <td>2.916667</td>\n",
       "      <td>11.666667</td>\n",
       "      <td>0</td>\n",
       "      <td>None</td>\n",
       "      <td>Delhi</td>\n",
       "      <td>Chennai</td>\n",
       "      <td>0</td>\n",
       "      <td>₹ 6,312</td>\n",
       "    </tr>\n",
       "    <tr>\n",
       "      <th>1</th>\n",
       "      <td>1</td>\n",
       "      <td>IndiGo</td>\n",
       "      <td>7.166667</td>\n",
       "      <td>2.833333</td>\n",
       "      <td>10.000000</td>\n",
       "      <td>0</td>\n",
       "      <td>None</td>\n",
       "      <td>Delhi</td>\n",
       "      <td>Chennai</td>\n",
       "      <td>0</td>\n",
       "      <td>₹ 6,584</td>\n",
       "    </tr>\n",
       "    <tr>\n",
       "      <th>2</th>\n",
       "      <td>2</td>\n",
       "      <td>IndiGo</td>\n",
       "      <td>8.500000</td>\n",
       "      <td>2.833333</td>\n",
       "      <td>11.333333</td>\n",
       "      <td>0</td>\n",
       "      <td>None</td>\n",
       "      <td>Delhi</td>\n",
       "      <td>Chennai</td>\n",
       "      <td>0</td>\n",
       "      <td>₹ 6,584</td>\n",
       "    </tr>\n",
       "    <tr>\n",
       "      <th>3</th>\n",
       "      <td>3</td>\n",
       "      <td>IndiGo</td>\n",
       "      <td>12.916667</td>\n",
       "      <td>2.916667</td>\n",
       "      <td>15.833333</td>\n",
       "      <td>0</td>\n",
       "      <td>None</td>\n",
       "      <td>Delhi</td>\n",
       "      <td>Chennai</td>\n",
       "      <td>0</td>\n",
       "      <td>₹ 6,584</td>\n",
       "    </tr>\n",
       "    <tr>\n",
       "      <th>4</th>\n",
       "      <td>4</td>\n",
       "      <td>IndiGo</td>\n",
       "      <td>17.416667</td>\n",
       "      <td>2.833333</td>\n",
       "      <td>20.250000</td>\n",
       "      <td>0</td>\n",
       "      <td>None</td>\n",
       "      <td>Delhi</td>\n",
       "      <td>Chennai</td>\n",
       "      <td>0</td>\n",
       "      <td>₹ 6,584</td>\n",
       "    </tr>\n",
       "    <tr>\n",
       "      <th>...</th>\n",
       "      <td>...</td>\n",
       "      <td>...</td>\n",
       "      <td>...</td>\n",
       "      <td>...</td>\n",
       "      <td>...</td>\n",
       "      <td>...</td>\n",
       "      <td>...</td>\n",
       "      <td>...</td>\n",
       "      <td>...</td>\n",
       "      <td>...</td>\n",
       "      <td>...</td>\n",
       "    </tr>\n",
       "    <tr>\n",
       "      <th>1580</th>\n",
       "      <td>1580</td>\n",
       "      <td>IndiGo</td>\n",
       "      <td>6.416667</td>\n",
       "      <td>8.000000</td>\n",
       "      <td>14.416667</td>\n",
       "      <td>1</td>\n",
       "      <td>Dehradun</td>\n",
       "      <td>Delhi</td>\n",
       "      <td>Kolkata</td>\n",
       "      <td>40</td>\n",
       "      <td>₹ 6,390</td>\n",
       "    </tr>\n",
       "    <tr>\n",
       "      <th>1581</th>\n",
       "      <td>1581</td>\n",
       "      <td>IndiGo</td>\n",
       "      <td>12.750000</td>\n",
       "      <td>5.500000</td>\n",
       "      <td>18.250000</td>\n",
       "      <td>1</td>\n",
       "      <td>Lucknow</td>\n",
       "      <td>Delhi</td>\n",
       "      <td>Kolkata</td>\n",
       "      <td>40</td>\n",
       "      <td>₹ 6,442</td>\n",
       "    </tr>\n",
       "    <tr>\n",
       "      <th>1582</th>\n",
       "      <td>1582</td>\n",
       "      <td>IndiGo</td>\n",
       "      <td>7.916667</td>\n",
       "      <td>10.333333</td>\n",
       "      <td>18.250000</td>\n",
       "      <td>1</td>\n",
       "      <td>Lucknow</td>\n",
       "      <td>Delhi</td>\n",
       "      <td>Kolkata</td>\n",
       "      <td>40</td>\n",
       "      <td>₹ 6,442</td>\n",
       "    </tr>\n",
       "    <tr>\n",
       "      <th>1583</th>\n",
       "      <td>1583</td>\n",
       "      <td>AirAsia, IndiGo</td>\n",
       "      <td>13.000000</td>\n",
       "      <td>5.250000</td>\n",
       "      <td>18.250000</td>\n",
       "      <td>1</td>\n",
       "      <td>Lucknow</td>\n",
       "      <td>Delhi</td>\n",
       "      <td>Kolkata</td>\n",
       "      <td>40</td>\n",
       "      <td>₹ 7,296</td>\n",
       "    </tr>\n",
       "    <tr>\n",
       "      <th>1584</th>\n",
       "      <td>1584</td>\n",
       "      <td>Go First</td>\n",
       "      <td>11.333333</td>\n",
       "      <td>4.666667</td>\n",
       "      <td>16.000000</td>\n",
       "      <td>1</td>\n",
       "      <td>Bagdogra</td>\n",
       "      <td>Delhi</td>\n",
       "      <td>Kolkata</td>\n",
       "      <td>40</td>\n",
       "      <td>₹ 7,395</td>\n",
       "    </tr>\n",
       "  </tbody>\n",
       "</table>\n",
       "<p>1585 rows × 11 columns</p>\n",
       "</div>"
      ],
      "text/plain": [
       "      Unnamed: 0          Company  depart_time  flight_time  arrival_time  \\\n",
       "0              0         SpiceJet     8.750000     2.916667     11.666667   \n",
       "1              1           IndiGo     7.166667     2.833333     10.000000   \n",
       "2              2           IndiGo     8.500000     2.833333     11.333333   \n",
       "3              3           IndiGo    12.916667     2.916667     15.833333   \n",
       "4              4           IndiGo    17.416667     2.833333     20.250000   \n",
       "...          ...              ...          ...          ...           ...   \n",
       "1580        1580           IndiGo     6.416667     8.000000     14.416667   \n",
       "1581        1581           IndiGo    12.750000     5.500000     18.250000   \n",
       "1582        1582           IndiGo     7.916667    10.333333     18.250000   \n",
       "1583        1583  AirAsia, IndiGo    13.000000     5.250000     18.250000   \n",
       "1584        1584         Go First    11.333333     4.666667     16.000000   \n",
       "\n",
       "      num_stops stop_location source destination  days_remaining    price  \n",
       "0             0          None  Delhi     Chennai               0  ₹ 6,312  \n",
       "1             0          None  Delhi     Chennai               0  ₹ 6,584  \n",
       "2             0          None  Delhi     Chennai               0  ₹ 6,584  \n",
       "3             0          None  Delhi     Chennai               0  ₹ 6,584  \n",
       "4             0          None  Delhi     Chennai               0  ₹ 6,584  \n",
       "...         ...           ...    ...         ...             ...      ...  \n",
       "1580          1      Dehradun  Delhi     Kolkata              40  ₹ 6,390  \n",
       "1581          1       Lucknow  Delhi     Kolkata              40  ₹ 6,442  \n",
       "1582          1       Lucknow  Delhi     Kolkata              40  ₹ 6,442  \n",
       "1583          1       Lucknow  Delhi     Kolkata              40  ₹ 7,296  \n",
       "1584          1      Bagdogra  Delhi     Kolkata              40  ₹ 7,395  \n",
       "\n",
       "[1585 rows x 11 columns]"
      ]
     },
     "execution_count": 4,
     "metadata": {},
     "output_type": "execute_result"
    }
   ],
   "source": [
    "#df"
   ]
  },
  {
   "cell_type": "code",
   "execution_count": 10,
   "id": "ad47e8ee",
   "metadata": {},
   "outputs": [],
   "source": [
    "#df['price']=df['price'].apply(lambda x:int(x.split(' ')[1].split(',')[0]+x.split(' ')[1].split(',')[1]))"
   ]
  },
  {
   "cell_type": "code",
   "execution_count": 12,
   "id": "fb395bb0",
   "metadata": {},
   "outputs": [
    {
     "data": {
      "text/plain": [
       "Unnamed: 0          int64\n",
       "Company            object\n",
       "depart_time       float64\n",
       "flight_time       float64\n",
       "arrival_time      float64\n",
       "num_stops           int64\n",
       "stop_location      object\n",
       "source             object\n",
       "destination        object\n",
       "days_remaining      int64\n",
       "price               int64\n",
       "dtype: object"
      ]
     },
     "execution_count": 12,
     "metadata": {},
     "output_type": "execute_result"
    }
   ],
   "source": [
    "#df.dtypes"
   ]
  },
  {
   "cell_type": "code",
   "execution_count": 13,
   "id": "26c92eea",
   "metadata": {},
   "outputs": [],
   "source": [
    "#df.to_csv('flight_price_final.csv')"
   ]
  },
  {
   "cell_type": "code",
   "execution_count": 3,
   "id": "956b5b44",
   "metadata": {},
   "outputs": [],
   "source": [
    "df=pd.read_csv('flight_price_final.csv')"
   ]
  },
  {
   "cell_type": "code",
   "execution_count": 4,
   "id": "30687dd2",
   "metadata": {},
   "outputs": [
    {
     "data": {
      "text/html": [
       "<div>\n",
       "<style scoped>\n",
       "    .dataframe tbody tr th:only-of-type {\n",
       "        vertical-align: middle;\n",
       "    }\n",
       "\n",
       "    .dataframe tbody tr th {\n",
       "        vertical-align: top;\n",
       "    }\n",
       "\n",
       "    .dataframe thead th {\n",
       "        text-align: right;\n",
       "    }\n",
       "</style>\n",
       "<table border=\"1\" class=\"dataframe\">\n",
       "  <thead>\n",
       "    <tr style=\"text-align: right;\">\n",
       "      <th></th>\n",
       "      <th>Unnamed: 0</th>\n",
       "      <th>Unnamed: 0.1</th>\n",
       "      <th>Company</th>\n",
       "      <th>depart_time</th>\n",
       "      <th>flight_time</th>\n",
       "      <th>arrival_time</th>\n",
       "      <th>num_stops</th>\n",
       "      <th>stop_location</th>\n",
       "      <th>source</th>\n",
       "      <th>destination</th>\n",
       "      <th>days_remaining</th>\n",
       "      <th>price</th>\n",
       "    </tr>\n",
       "  </thead>\n",
       "  <tbody>\n",
       "    <tr>\n",
       "      <th>0</th>\n",
       "      <td>0</td>\n",
       "      <td>0</td>\n",
       "      <td>SpiceJet</td>\n",
       "      <td>8.750000</td>\n",
       "      <td>2.916667</td>\n",
       "      <td>11.666667</td>\n",
       "      <td>0</td>\n",
       "      <td>None</td>\n",
       "      <td>Delhi</td>\n",
       "      <td>Chennai</td>\n",
       "      <td>0</td>\n",
       "      <td>6312</td>\n",
       "    </tr>\n",
       "    <tr>\n",
       "      <th>1</th>\n",
       "      <td>1</td>\n",
       "      <td>1</td>\n",
       "      <td>IndiGo</td>\n",
       "      <td>7.166667</td>\n",
       "      <td>2.833333</td>\n",
       "      <td>10.000000</td>\n",
       "      <td>0</td>\n",
       "      <td>None</td>\n",
       "      <td>Delhi</td>\n",
       "      <td>Chennai</td>\n",
       "      <td>0</td>\n",
       "      <td>6584</td>\n",
       "    </tr>\n",
       "    <tr>\n",
       "      <th>2</th>\n",
       "      <td>2</td>\n",
       "      <td>2</td>\n",
       "      <td>IndiGo</td>\n",
       "      <td>8.500000</td>\n",
       "      <td>2.833333</td>\n",
       "      <td>11.333333</td>\n",
       "      <td>0</td>\n",
       "      <td>None</td>\n",
       "      <td>Delhi</td>\n",
       "      <td>Chennai</td>\n",
       "      <td>0</td>\n",
       "      <td>6584</td>\n",
       "    </tr>\n",
       "    <tr>\n",
       "      <th>3</th>\n",
       "      <td>3</td>\n",
       "      <td>3</td>\n",
       "      <td>IndiGo</td>\n",
       "      <td>12.916667</td>\n",
       "      <td>2.916667</td>\n",
       "      <td>15.833333</td>\n",
       "      <td>0</td>\n",
       "      <td>None</td>\n",
       "      <td>Delhi</td>\n",
       "      <td>Chennai</td>\n",
       "      <td>0</td>\n",
       "      <td>6584</td>\n",
       "    </tr>\n",
       "    <tr>\n",
       "      <th>4</th>\n",
       "      <td>4</td>\n",
       "      <td>4</td>\n",
       "      <td>IndiGo</td>\n",
       "      <td>17.416667</td>\n",
       "      <td>2.833333</td>\n",
       "      <td>20.250000</td>\n",
       "      <td>0</td>\n",
       "      <td>None</td>\n",
       "      <td>Delhi</td>\n",
       "      <td>Chennai</td>\n",
       "      <td>0</td>\n",
       "      <td>6584</td>\n",
       "    </tr>\n",
       "    <tr>\n",
       "      <th>...</th>\n",
       "      <td>...</td>\n",
       "      <td>...</td>\n",
       "      <td>...</td>\n",
       "      <td>...</td>\n",
       "      <td>...</td>\n",
       "      <td>...</td>\n",
       "      <td>...</td>\n",
       "      <td>...</td>\n",
       "      <td>...</td>\n",
       "      <td>...</td>\n",
       "      <td>...</td>\n",
       "      <td>...</td>\n",
       "    </tr>\n",
       "    <tr>\n",
       "      <th>1580</th>\n",
       "      <td>1580</td>\n",
       "      <td>1580</td>\n",
       "      <td>IndiGo</td>\n",
       "      <td>6.416667</td>\n",
       "      <td>8.000000</td>\n",
       "      <td>14.416667</td>\n",
       "      <td>1</td>\n",
       "      <td>Dehradun</td>\n",
       "      <td>Delhi</td>\n",
       "      <td>Kolkata</td>\n",
       "      <td>40</td>\n",
       "      <td>6390</td>\n",
       "    </tr>\n",
       "    <tr>\n",
       "      <th>1581</th>\n",
       "      <td>1581</td>\n",
       "      <td>1581</td>\n",
       "      <td>IndiGo</td>\n",
       "      <td>12.750000</td>\n",
       "      <td>5.500000</td>\n",
       "      <td>18.250000</td>\n",
       "      <td>1</td>\n",
       "      <td>Lucknow</td>\n",
       "      <td>Delhi</td>\n",
       "      <td>Kolkata</td>\n",
       "      <td>40</td>\n",
       "      <td>6442</td>\n",
       "    </tr>\n",
       "    <tr>\n",
       "      <th>1582</th>\n",
       "      <td>1582</td>\n",
       "      <td>1582</td>\n",
       "      <td>IndiGo</td>\n",
       "      <td>7.916667</td>\n",
       "      <td>10.333333</td>\n",
       "      <td>18.250000</td>\n",
       "      <td>1</td>\n",
       "      <td>Lucknow</td>\n",
       "      <td>Delhi</td>\n",
       "      <td>Kolkata</td>\n",
       "      <td>40</td>\n",
       "      <td>6442</td>\n",
       "    </tr>\n",
       "    <tr>\n",
       "      <th>1583</th>\n",
       "      <td>1583</td>\n",
       "      <td>1583</td>\n",
       "      <td>AirAsia, IndiGo</td>\n",
       "      <td>13.000000</td>\n",
       "      <td>5.250000</td>\n",
       "      <td>18.250000</td>\n",
       "      <td>1</td>\n",
       "      <td>Lucknow</td>\n",
       "      <td>Delhi</td>\n",
       "      <td>Kolkata</td>\n",
       "      <td>40</td>\n",
       "      <td>7296</td>\n",
       "    </tr>\n",
       "    <tr>\n",
       "      <th>1584</th>\n",
       "      <td>1584</td>\n",
       "      <td>1584</td>\n",
       "      <td>Go First</td>\n",
       "      <td>11.333333</td>\n",
       "      <td>4.666667</td>\n",
       "      <td>16.000000</td>\n",
       "      <td>1</td>\n",
       "      <td>Bagdogra</td>\n",
       "      <td>Delhi</td>\n",
       "      <td>Kolkata</td>\n",
       "      <td>40</td>\n",
       "      <td>7395</td>\n",
       "    </tr>\n",
       "  </tbody>\n",
       "</table>\n",
       "<p>1585 rows × 12 columns</p>\n",
       "</div>"
      ],
      "text/plain": [
       "      Unnamed: 0  Unnamed: 0.1          Company  depart_time  flight_time  \\\n",
       "0              0             0         SpiceJet     8.750000     2.916667   \n",
       "1              1             1           IndiGo     7.166667     2.833333   \n",
       "2              2             2           IndiGo     8.500000     2.833333   \n",
       "3              3             3           IndiGo    12.916667     2.916667   \n",
       "4              4             4           IndiGo    17.416667     2.833333   \n",
       "...          ...           ...              ...          ...          ...   \n",
       "1580        1580          1580           IndiGo     6.416667     8.000000   \n",
       "1581        1581          1581           IndiGo    12.750000     5.500000   \n",
       "1582        1582          1582           IndiGo     7.916667    10.333333   \n",
       "1583        1583          1583  AirAsia, IndiGo    13.000000     5.250000   \n",
       "1584        1584          1584         Go First    11.333333     4.666667   \n",
       "\n",
       "      arrival_time  num_stops stop_location source destination  \\\n",
       "0        11.666667          0          None  Delhi     Chennai   \n",
       "1        10.000000          0          None  Delhi     Chennai   \n",
       "2        11.333333          0          None  Delhi     Chennai   \n",
       "3        15.833333          0          None  Delhi     Chennai   \n",
       "4        20.250000          0          None  Delhi     Chennai   \n",
       "...            ...        ...           ...    ...         ...   \n",
       "1580     14.416667          1      Dehradun  Delhi     Kolkata   \n",
       "1581     18.250000          1       Lucknow  Delhi     Kolkata   \n",
       "1582     18.250000          1       Lucknow  Delhi     Kolkata   \n",
       "1583     18.250000          1       Lucknow  Delhi     Kolkata   \n",
       "1584     16.000000          1      Bagdogra  Delhi     Kolkata   \n",
       "\n",
       "      days_remaining  price  \n",
       "0                  0   6312  \n",
       "1                  0   6584  \n",
       "2                  0   6584  \n",
       "3                  0   6584  \n",
       "4                  0   6584  \n",
       "...              ...    ...  \n",
       "1580              40   6390  \n",
       "1581              40   6442  \n",
       "1582              40   6442  \n",
       "1583              40   7296  \n",
       "1584              40   7395  \n",
       "\n",
       "[1585 rows x 12 columns]"
      ]
     },
     "execution_count": 4,
     "metadata": {},
     "output_type": "execute_result"
    }
   ],
   "source": [
    "df"
   ]
  },
  {
   "cell_type": "code",
   "execution_count": 5,
   "id": "22966fbe",
   "metadata": {},
   "outputs": [
    {
     "data": {
      "text/plain": [
       "Index(['Unnamed: 0', 'Unnamed: 0.1', 'Company', 'depart_time', 'flight_time',\n",
       "       'arrival_time', 'num_stops', 'stop_location', 'source', 'destination',\n",
       "       'days_remaining', 'price'],\n",
       "      dtype='object')"
      ]
     },
     "execution_count": 5,
     "metadata": {},
     "output_type": "execute_result"
    }
   ],
   "source": [
    "df.columns"
   ]
  },
  {
   "cell_type": "code",
   "execution_count": 6,
   "id": "7e9c1a8f",
   "metadata": {},
   "outputs": [],
   "source": [
    "df=df.drop(columns=['Unnamed: 0','Unnamed: 0.1'])"
   ]
  },
  {
   "cell_type": "code",
   "execution_count": 7,
   "id": "d3e8623e",
   "metadata": {},
   "outputs": [
    {
     "data": {
      "text/plain": [
       "Index(['Company', 'depart_time', 'flight_time', 'arrival_time', 'num_stops',\n",
       "       'stop_location', 'source', 'destination', 'days_remaining', 'price'],\n",
       "      dtype='object')"
      ]
     },
     "execution_count": 7,
     "metadata": {},
     "output_type": "execute_result"
    }
   ],
   "source": [
    "df.columns"
   ]
  },
  {
   "cell_type": "markdown",
   "id": "0d864b74",
   "metadata": {},
   "source": [
    "# EDA"
   ]
  },
  {
   "cell_type": "code",
   "execution_count": 8,
   "id": "c673208c",
   "metadata": {},
   "outputs": [
    {
     "data": {
      "text/plain": [
       "Company           0\n",
       "depart_time       0\n",
       "flight_time       0\n",
       "arrival_time      0\n",
       "num_stops         0\n",
       "stop_location     0\n",
       "source            0\n",
       "destination       0\n",
       "days_remaining    0\n",
       "price             0\n",
       "dtype: int64"
      ]
     },
     "execution_count": 8,
     "metadata": {},
     "output_type": "execute_result"
    }
   ],
   "source": [
    "df.isnull().sum()\n",
    "\n",
    "#no null values present"
   ]
  },
  {
   "cell_type": "code",
   "execution_count": 9,
   "id": "d3377ea1",
   "metadata": {},
   "outputs": [
    {
     "data": {
      "text/plain": [
       "Company            object\n",
       "depart_time       float64\n",
       "flight_time       float64\n",
       "arrival_time      float64\n",
       "num_stops           int64\n",
       "stop_location      object\n",
       "source             object\n",
       "destination        object\n",
       "days_remaining      int64\n",
       "price               int64\n",
       "dtype: object"
      ]
     },
     "execution_count": 9,
     "metadata": {},
     "output_type": "execute_result"
    }
   ],
   "source": [
    "df.dtypes"
   ]
  },
  {
   "cell_type": "code",
   "execution_count": 10,
   "id": "5ca3c73a",
   "metadata": {},
   "outputs": [
    {
     "data": {
      "text/plain": [
       "array(['SpiceJet', 'IndiGo', 'Vistara', 'Air India', 'AirAsia',\n",
       "       'Go First', 'IndiGo, Go First', 'Alliance Air', 'Star Air',\n",
       "       'AirAsia, IndiGo'], dtype=object)"
      ]
     },
     "execution_count": 10,
     "metadata": {},
     "output_type": "execute_result"
    }
   ],
   "source": [
    "df['Company'].unique()"
   ]
  },
  {
   "cell_type": "code",
   "execution_count": 11,
   "id": "bb0a7d5f",
   "metadata": {},
   "outputs": [
    {
     "data": {
      "text/plain": [
       "IndiGo              955\n",
       "Vistara             252\n",
       "AirAsia             152\n",
       "Air India            76\n",
       "Go First             73\n",
       "SpiceJet             65\n",
       "Alliance Air          6\n",
       "IndiGo, Go First      3\n",
       "Star Air              2\n",
       "AirAsia, IndiGo       1\n",
       "Name: Company, dtype: int64"
      ]
     },
     "execution_count": 11,
     "metadata": {},
     "output_type": "execute_result"
    }
   ],
   "source": [
    "df['Company'].value_counts()"
   ]
  },
  {
   "cell_type": "code",
   "execution_count": 12,
   "id": "69c21bd0",
   "metadata": {},
   "outputs": [],
   "source": [
    "df=df[df.Company != 'AirAsia, IndiGo']"
   ]
  },
  {
   "cell_type": "code",
   "execution_count": 13,
   "id": "b34dd901",
   "metadata": {},
   "outputs": [],
   "source": [
    "df=df[df.Company != 'Star Air']"
   ]
  },
  {
   "cell_type": "code",
   "execution_count": 14,
   "id": "c12cf4bb",
   "metadata": {},
   "outputs": [],
   "source": [
    "df=df[df.Company != 'IndiGo, Go First']"
   ]
  },
  {
   "cell_type": "code",
   "execution_count": 15,
   "id": "1c51feea",
   "metadata": {},
   "outputs": [],
   "source": [
    "df=df[df.Company != 'Alliance Air']"
   ]
  },
  {
   "cell_type": "code",
   "execution_count": 16,
   "id": "af1fc6a8",
   "metadata": {},
   "outputs": [
    {
     "data": {
      "text/plain": [
       "IndiGo       955\n",
       "Vistara      252\n",
       "AirAsia      152\n",
       "Air India     76\n",
       "Go First      73\n",
       "SpiceJet      65\n",
       "Name: Company, dtype: int64"
      ]
     },
     "execution_count": 16,
     "metadata": {},
     "output_type": "execute_result"
    }
   ],
   "source": [
    "df['Company'].value_counts()"
   ]
  },
  {
   "attachments": {
    "Capture3.PNG": {
     "image/png": "[encoded data removed]"
    }
   },
   "cell_type": "markdown",
   "id": "44a5da9c",
   "metadata": {},
   "source": [
    "![Capture3.PNG](attachment:Capture3.PNG)"
   ]
  },
  {
   "cell_type": "code",
   "execution_count": 25,
   "id": "e67d5256",
   "metadata": {},
   "outputs": [
    {
     "data": {
      "image/png": "[encoded data removed]",
      "text/plain": [
       "<Figure size 432x288 with 1 Axes>"
      ]
     },
     "metadata": {
      "needs_background": "light"
     },
     "output_type": "display_data"
    }
   ],
   "source": [
    "sns.histplot(df['depart_time'],bins=24)\n",
    "#There are very less number of flights between 12am to 5 am\n",
    "#There are very high number of flights bewtween 5 am to 10 am \n",
    "#There are good number of flights between 10:00 and 20:00\n",
    "# After 20:00, the number of flights goes on decreasing"
   ]
  },
  {
   "cell_type": "code",
   "execution_count": 27,
   "id": "fb283abf",
   "metadata": {},
   "outputs": [
    {
     "data": {
      "text/plain": [
       "<AxesSubplot:xlabel='depart_time', ylabel='Density'>"
      ]
     },
     "execution_count": 27,
     "metadata": {},
     "output_type": "execute_result"
    },
    {
     "data": {
      "image/png": "[encoded data removed]",
      "text/plain": [
       "<Figure size 432x288 with 1 Axes>"
      ]
     },
     "metadata": {
      "needs_background": "light"
     },
     "output_type": "display_data"
    }
   ],
   "source": [
    "sns.distplot(df['depart_time'],bins=20)"
   ]
  },
  {
   "cell_type": "code",
   "execution_count": 28,
   "id": "c236aa4c",
   "metadata": {},
   "outputs": [
    {
     "data": {
      "text/plain": [
       "<AxesSubplot:xlabel='depart_time', ylabel='price'>"
      ]
     },
     "execution_count": 28,
     "metadata": {},
     "output_type": "execute_result"
    },
    {
     "data": {
      "image/png": "[encoded data removed]",
      "text/plain": [
       "<Figure size 432x288 with 1 Axes>"
      ]
     },
     "metadata": {
      "needs_background": "light"
     },
     "output_type": "display_data"
    }
   ],
   "source": [
    "sns.scatterplot(df['depart_time'],df['price'])"
   ]
  },
  {
   "attachments": {
    "Capture.PNG": {
     "image/png": "[encoded data removed]"
    }
   },
   "cell_type": "markdown",
   "id": "b7d313b3",
   "metadata": {},
   "source": [
    "![Capture.PNG](attachment:Capture.PNG)"
   ]
  },
  {
   "cell_type": "code",
   "execution_count": 31,
   "id": "dd8c0557",
   "metadata": {},
   "outputs": [
    {
     "data": {
      "image/png": "[encoded data removed]",
      "text/plain": [
       "<Figure size 432x288 with 1 Axes>"
      ]
     },
     "metadata": {
      "needs_background": "light"
     },
     "output_type": "display_data"
    }
   ],
   "source": [
    "sns.histplot(df['flight_time'])\n",
    "plt.show()"
   ]
  },
  {
   "cell_type": "code",
   "execution_count": 32,
   "id": "b7b87b15",
   "metadata": {},
   "outputs": [
    {
     "data": {
      "image/png": "[encoded data removed]",
      "text/plain": [
       "<Figure size 432x288 with 1 Axes>"
      ]
     },
     "metadata": {
      "needs_background": "light"
     },
     "output_type": "display_data"
    }
   ],
   "source": [
    "sns.distplot(df['flight_time'])\n",
    "plt.show()\n",
    "\n",
    "#skewness is present in data\n",
    "#most of the flights have less flight time."
   ]
  },
  {
   "attachments": {
    "Capture1.PNG": {
     "image/png": "[encoded data removed]"
    }
   },
   "cell_type": "markdown",
   "id": "1a0a9301",
   "metadata": {},
   "source": [
    "![Capture1.PNG](attachment:Capture1.PNG)"
   ]
  },
  {
   "cell_type": "code",
   "execution_count": 33,
   "id": "f52fd902",
   "metadata": {},
   "outputs": [],
   "source": [
    "#Average price initially shows an increase with flight time but then it doesnot show much variation with flight time."
   ]
  },
  {
   "cell_type": "code",
   "execution_count": 34,
   "id": "ca54323a",
   "metadata": {},
   "outputs": [
    {
     "data": {
      "image/png": "[encoded data removed]",
      "text/plain": [
       "<Figure size 432x288 with 1 Axes>"
      ]
     },
     "metadata": {
      "needs_background": "light"
     },
     "output_type": "display_data"
    }
   ],
   "source": [
    "sns.distplot(df['arrival_time'],bins=24)\n",
    "plt.show()\n",
    "\n",
    "#skewness is present in data."
   ]
  },
  {
   "attachments": {
    "Capture2.PNG": {
     "image/png": "[encoded data removed]"
    }
   },
   "cell_type": "markdown",
   "id": "b87f85bb",
   "metadata": {},
   "source": [
    "![Capture2.PNG](attachment:Capture2.PNG)\n",
    "Average price doesnot show much variation with arrival time"
   ]
  },
  {
   "cell_type": "code",
   "execution_count": 36,
   "id": "7dad4b36",
   "metadata": {},
   "outputs": [
    {
     "data": {
      "image/png": "[encoded data removed]",
      "text/plain": [
       "<Figure size 432x288 with 1 Axes>"
      ]
     },
     "metadata": {
      "needs_background": "light"
     },
     "output_type": "display_data"
    }
   ],
   "source": [
    "sns.countplot(df['num_stops'])\n",
    "plt.show()"
   ]
  },
  {
   "attachments": {
    "Capture4.PNG": {
     "image/png": "[encoded data removed]"
    }
   },
   "cell_type": "markdown",
   "id": "13394a79",
   "metadata": {},
   "source": [
    "![Capture4.PNG](attachment:Capture4.PNG)\n",
    "Average price increases with number of stops"
   ]
  },
  {
   "attachments": {
    "Capture5.PNG": {
     "image/png": "[encoded data removed]"
    }
   },
   "cell_type": "markdown",
   "id": "12911c91",
   "metadata": {},
   "source": [
    "![Capture5.PNG](attachment:Capture5.PNG)"
   ]
  },
  {
   "attachments": {
    "Capture6.PNG": {
     "image/png": "[encoded data removed]"
    }
   },
   "cell_type": "markdown",
   "id": "e82e2e38",
   "metadata": {},
   "source": [
    "![Capture6.PNG](attachment:Capture6.PNG)"
   ]
  },
  {
   "cell_type": "code",
   "execution_count": 37,
   "id": "362809f9",
   "metadata": {},
   "outputs": [
    {
     "data": {
      "image/png": "[encoded data removed]",
      "text/plain": [
       "<Figure size 432x288 with 1 Axes>"
      ]
     },
     "metadata": {
      "needs_background": "light"
     },
     "output_type": "display_data"
    }
   ],
   "source": [
    "sns.countplot(df['source'])\n",
    "plt.show()"
   ]
  },
  {
   "attachments": {
    "Capture7.PNG": {
     "image/png": "[encoded data removed]"
    }
   },
   "cell_type": "markdown",
   "id": "6e57b14d",
   "metadata": {},
   "source": [
    "![Capture7.PNG](attachment:Capture7.PNG)"
   ]
  },
  {
   "cell_type": "code",
   "execution_count": 38,
   "id": "dffa05b2",
   "metadata": {},
   "outputs": [
    {
     "data": {
      "image/png": "[encoded data removed]",
      "text/plain": [
       "<Figure size 432x288 with 1 Axes>"
      ]
     },
     "metadata": {
      "needs_background": "light"
     },
     "output_type": "display_data"
    }
   ],
   "source": [
    "sns.countplot(df['destination'])\n",
    "plt.show()"
   ]
  },
  {
   "attachments": {
    "Capture8.PNG": {
     "image/png": "[encoded data removed]"
    }
   },
   "cell_type": "markdown",
   "id": "c43d3f01",
   "metadata": {},
   "source": [
    "![Capture8.PNG](attachment:Capture8.PNG)\n",
    "Earlier the ticket is bought, lower is the price"
   ]
  },
  {
   "cell_type": "code",
   "execution_count": 41,
   "id": "e7dab6c6",
   "metadata": {},
   "outputs": [
    {
     "data": {
      "image/png": "[encoded data removed]",
      "text/plain": [
       "<Figure size 432x288 with 1 Axes>"
      ]
     },
     "metadata": {
      "needs_background": "light"
     },
     "output_type": "display_data"
    }
   ],
   "source": [
    "sns.distplot(df['price'])\n",
    "plt.show()"
   ]
  },
  {
   "cell_type": "markdown",
   "id": "fb55ef83",
   "metadata": {},
   "source": [
    "# Data PreProcessing"
   ]
  },
  {
   "cell_type": "code",
   "execution_count": 17,
   "id": "3110f0b5",
   "metadata": {},
   "outputs": [],
   "source": [
    "le_company=LabelEncoder() #initiating object from class\n",
    "df['Company']=le_company.fit_transform(df['Company'])"
   ]
  },
  {
   "cell_type": "code",
   "execution_count": 18,
   "id": "8488ee7b",
   "metadata": {},
   "outputs": [],
   "source": [
    "le_stop=LabelEncoder() #initiating object from class\n",
    "df['stop_location']=le_stop.fit_transform(df['stop_location'])"
   ]
  },
  {
   "cell_type": "code",
   "execution_count": 19,
   "id": "a162d941",
   "metadata": {},
   "outputs": [],
   "source": [
    "le_source=LabelEncoder()\n",
    "df['source']=le_source.fit_transform(df['source'])"
   ]
  },
  {
   "cell_type": "code",
   "execution_count": 20,
   "id": "c222c3a6",
   "metadata": {},
   "outputs": [],
   "source": [
    "le_desitnation=LabelEncoder()\n",
    "df['destination']=le_desitnation.fit_transform(df['destination'])"
   ]
  },
  {
   "cell_type": "code",
   "execution_count": 21,
   "id": "f7446303",
   "metadata": {},
   "outputs": [
    {
     "data": {
      "text/plain": [
       "Company             int32\n",
       "depart_time       float64\n",
       "flight_time       float64\n",
       "arrival_time      float64\n",
       "num_stops           int64\n",
       "stop_location       int32\n",
       "source              int32\n",
       "destination         int32\n",
       "days_remaining      int64\n",
       "price               int64\n",
       "dtype: object"
      ]
     },
     "execution_count": 21,
     "metadata": {},
     "output_type": "execute_result"
    }
   ],
   "source": [
    "df.dtypes"
   ]
  },
  {
   "cell_type": "code",
   "execution_count": 22,
   "id": "7c8154dc",
   "metadata": {},
   "outputs": [
    {
     "data": {
      "image/png": "[encoded data removed]",
      "text/plain": [
       "<Figure size 1080x360 with 2 Axes>"
      ]
     },
     "metadata": {
      "needs_background": "light"
     },
     "output_type": "display_data"
    }
   ],
   "source": [
    "plt.figure(figsize=(15,5))\n",
    "sns.heatmap(df.corr(),annot=True)\n",
    "plt.show()\n",
    "\n",
    "\n",
    "#all the columns has low correlation with target.\n",
    "#since the number of columns is less, we are not dropping any columns"
   ]
  },
  {
   "cell_type": "code",
   "execution_count": 23,
   "id": "0f005d68",
   "metadata": {},
   "outputs": [
    {
     "data": {
      "text/plain": [
       "Company          -0.360519\n",
       "depart_time       0.084732\n",
       "flight_time       1.238867\n",
       "arrival_time     -0.474022\n",
       "num_stops         0.006363\n",
       "stop_location    -0.770404\n",
       "source           -0.439803\n",
       "destination      -0.036103\n",
       "days_remaining    0.050146\n",
       "price             1.439605\n",
       "dtype: float64"
      ]
     },
     "execution_count": 23,
     "metadata": {},
     "output_type": "execute_result"
    }
   ],
   "source": [
    "df.skew()"
   ]
  },
  {
   "cell_type": "code",
   "execution_count": 60,
   "id": "3370edf0",
   "metadata": {},
   "outputs": [
    {
     "data": {
      "image/png": "[encoded data removed]",
      "text/plain": [
       "<Figure size 720x1440 with 12 Axes>"
      ]
     },
     "metadata": {
      "needs_background": "light"
     },
     "output_type": "display_data"
    }
   ],
   "source": [
    "df.plot(kind='box',subplots=True,layout=(4,3),figsize=(10,20),color='green')\n",
    "plt.show()"
   ]
  },
  {
   "cell_type": "code",
   "execution_count": 24,
   "id": "a704bf83",
   "metadata": {},
   "outputs": [
    {
     "name": "stdout",
     "output_type": "stream",
     "text": [
      "(1573, 10)\n",
      "(1535, 10)\n",
      "loss_percent=  2.4157660521296886\n"
     ]
    }
   ],
   "source": [
    "#outlier removal\n",
    "from scipy.stats import zscore\n",
    "z=np.abs(zscore(df))\n",
    "\n",
    "\n",
    "df_new=df[(z<3.0).all(axis=1)]\n",
    "print(df.shape)\n",
    "print(df_new.shape)\n",
    "\n",
    "print(\"loss_percent= \",(df.shape[0]-df_new.shape[0])/df.shape[0]*100)"
   ]
  },
  {
   "cell_type": "code",
   "execution_count": 25,
   "id": "86de9b11",
   "metadata": {},
   "outputs": [],
   "source": [
    "df=df_new"
   ]
  },
  {
   "cell_type": "markdown",
   "id": "de8558cb",
   "metadata": {},
   "source": [
    "# Model testing and training starts"
   ]
  },
  {
   "cell_type": "markdown",
   "id": "c8fbac82",
   "metadata": {},
   "source": [
    "##### Trying Linear Regression"
   ]
  },
  {
   "cell_type": "code",
   "execution_count": 63,
   "id": "5ba5c417",
   "metadata": {},
   "outputs": [
    {
     "name": "stdout",
     "output_type": "stream",
     "text": [
      "r2_score is: 0.3694033917159647\n",
      "root_mean_sqaured_error: 1083.9718280428256\n",
      "mean_absolute_error: 776.9278872822908\n"
     ]
    }
   ],
   "source": [
    "x=df.iloc[:,0:-1]\n",
    "y=df.iloc[:,-1]\n",
    "\n",
    "x_train,x_test,y_train,y_test=train_test_split(x,y,test_size=0.20,random_state=42)\n",
    "lr=LinearRegression()\n",
    "lr.fit(x_train,y_train)\n",
    "y_pred=lr.predict(x_test)\n",
    "print('r2_score is:',r2_score(y_test,y_pred))\n",
    "print('root_mean_sqaured_error:',mean_squared_error(y_test,y_pred)**0.5)\n",
    "print('mean_absolute_error:',mean_absolute_error(y_test,y_pred))"
   ]
  },
  {
   "cell_type": "code",
   "execution_count": 68,
   "id": "28987f00",
   "metadata": {},
   "outputs": [
    {
     "name": "stdout",
     "output_type": "stream",
     "text": [
      "r2_score is: 0.3832956215067562\n",
      "root_mean_sqaured_error: 0.7333966402875125\n",
      "mean_absolute_error: 0.529655178933554\n"
     ]
    }
   ],
   "source": [
    "x=df.iloc[:,0:-1]\n",
    "y=df.iloc[:,-1]\n",
    "\n",
    "pt_price=PowerTransformer()\n",
    "y=pt_price.fit_transform(y.values.reshape(-1,1))\n",
    "\n",
    "x_train,x_test,y_train,y_test=train_test_split(x,y,test_size=0.20,random_state=42)\n",
    "lr=LinearRegression()\n",
    "lr.fit(x_train,y_train)\n",
    "y_pred=lr.predict(x_test)\n",
    "print('r2_score is:',r2_score(y_test,y_pred))\n",
    "print('root_mean_sqaured_error:',mean_squared_error(y_test,y_pred)**0.5)\n",
    "print('mean_absolute_error:',mean_absolute_error(y_test,y_pred))"
   ]
  },
  {
   "cell_type": "code",
   "execution_count": 69,
   "id": "94fd70e7",
   "metadata": {},
   "outputs": [
    {
     "name": "stdout",
     "output_type": "stream",
     "text": [
      "r2_score is: 0.3997120104608569\n",
      "root_mean_sqaured_error: 0.72356945856335\n",
      "mean_absolute_error: 0.5230171219545866\n"
     ]
    }
   ],
   "source": [
    "x=df.iloc[:,0:-1]\n",
    "y=df.iloc[:,-1]\n",
    "\n",
    "pt_f_t=PowerTransformer()\n",
    "x['flight_time']=pt_f_t.fit_transform(x['flight_time'].values.reshape(-1,1))\n",
    "\n",
    "pt_price=PowerTransformer()\n",
    "y=pt_price.fit_transform(y.values.reshape(-1,1))\n",
    "\n",
    "x_train,x_test,y_train,y_test=train_test_split(x,y,test_size=0.20,random_state=42)\n",
    "lr=LinearRegression()\n",
    "lr.fit(x_train,y_train)\n",
    "y_pred=lr.predict(x_test)\n",
    "print('r2_score is:',r2_score(y_test,y_pred))\n",
    "print('root_mean_sqaured_error:',mean_squared_error(y_test,y_pred)**0.5)\n",
    "print('mean_absolute_error:',mean_absolute_error(y_test,y_pred))"
   ]
  },
  {
   "cell_type": "code",
   "execution_count": 73,
   "id": "b1daa1e5",
   "metadata": {},
   "outputs": [
    {
     "name": "stdout",
     "output_type": "stream",
     "text": [
      "r2_score is: 0.39527646891031376\n",
      "root_mean_sqaured_error: 0.7262377741327307\n",
      "mean_absolute_error: 0.5248848890614793\n"
     ]
    }
   ],
   "source": [
    "x=df.iloc[:,0:-1]\n",
    "y=df.iloc[:,-1]\n",
    "\n",
    "pt_f_t=PowerTransformer()\n",
    "x['flight_time']=pt_f_t.fit_transform(x['flight_time'].values.reshape(-1,1))\n",
    "\n",
    "pt_price=PowerTransformer()\n",
    "y=pt_price.fit_transform(y.values.reshape(-1,1))\n",
    "\n",
    "pt_dr=PowerTransformer()\n",
    "x['days_remaining']=pt_f_t.fit_transform(x['days_remaining'].values.reshape(-1,1))\n",
    "\n",
    "x_train,x_test,y_train,y_test=train_test_split(x,y,test_size=0.20,random_state=42)\n",
    "lr=LinearRegression()\n",
    "lr.fit(x_train,y_train)\n",
    "y_pred=lr.predict(x_test)\n",
    "print('r2_score is:',r2_score(y_test,y_pred))\n",
    "print('root_mean_sqaured_error:',mean_squared_error(y_test,y_pred)**0.5)\n",
    "print('mean_absolute_error:',mean_absolute_error(y_test,y_pred))"
   ]
  },
  {
   "cell_type": "code",
   "execution_count": 74,
   "id": "3a92ef4b",
   "metadata": {},
   "outputs": [
    {
     "name": "stdout",
     "output_type": "stream",
     "text": [
      "r2_score is: 0.39953717055852167\n",
      "root_mean_sqaured_error: 0.7236748243255118\n",
      "mean_absolute_error: 0.5232056772024823\n"
     ]
    }
   ],
   "source": [
    "x=df.iloc[:,0:-1]\n",
    "y=df.iloc[:,-1]\n",
    "\n",
    "pt_f_t=PowerTransformer()\n",
    "x['flight_time']=pt_f_t.fit_transform(x['flight_time'].values.reshape(-1,1))\n",
    "\n",
    "pt_price=PowerTransformer()\n",
    "y=pt_price.fit_transform(y.values.reshape(-1,1))\n",
    "\n",
    "#pt_dr=PowerTransformer()\n",
    "#x['days_remaining']=pt_f_t.fit_transform(x['days_remaining'].values.reshape(-1,1))\n",
    "\n",
    "pt_f_t=PowerTransformer()\n",
    "x['depart_time']=pt_f_t.fit_transform(x['depart_time'].values.reshape(-1,1))\n",
    "\n",
    "x_train,x_test,y_train,y_test=train_test_split(x,y,test_size=0.20,random_state=42)\n",
    "lr=LinearRegression()\n",
    "lr.fit(x_train,y_train)\n",
    "y_pred=lr.predict(x_test)\n",
    "print('r2_score is:',r2_score(y_test,y_pred))\n",
    "print('root_mean_sqaured_error:',mean_squared_error(y_test,y_pred)**0.5)\n",
    "print('mean_absolute_error:',mean_absolute_error(y_test,y_pred))"
   ]
  },
  {
   "cell_type": "markdown",
   "id": "243342b0",
   "metadata": {},
   "source": [
    "##### Trying KNN Regression"
   ]
  },
  {
   "cell_type": "code",
   "execution_count": 79,
   "id": "0cbd059c",
   "metadata": {},
   "outputs": [
    {
     "name": "stdout",
     "output_type": "stream",
     "text": [
      "r2_score is: 0.3996544567514926\n",
      "root_mean_sqaured_error: 1057.6520741564434\n",
      "mean_absolute_error: 736.3837133550488\n"
     ]
    }
   ],
   "source": [
    "x=df.iloc[:,0:-1]\n",
    "y=df.iloc[:,-1]\n",
    "\n",
    "x_train,x_test,y_train,y_test=train_test_split(x,y,test_size=0.20,random_state=42)\n",
    "KNN=KNeighborsRegressor()\n",
    "KNN.fit(x_train,y_train)\n",
    "y_pred_knn=KNN.predict(x_test)\n",
    "print('r2_score is:',r2_score(y_test,y_pred_knn))\n",
    "print('root_mean_sqaured_error:',mean_squared_error(y_test,y_pred_knn)**0.5)\n",
    "print('mean_absolute_error:',mean_absolute_error(y_test,y_pred_knn))"
   ]
  },
  {
   "cell_type": "code",
   "execution_count": 82,
   "id": "c5db71af",
   "metadata": {},
   "outputs": [
    {
     "name": "stdout",
     "output_type": "stream",
     "text": [
      "r2_score for RandomForestRegression is:  0.6332234112367277\n",
      "root_mean_sqaured_error: 0.5655893246690884\n",
      "mean_absolute_error: 0.36492771624334397\n"
     ]
    }
   ],
   "source": [
    "x=df.iloc[:,0:-1]\n",
    "y=df.iloc[:,-1]\n",
    "\n",
    "pt_f_t=PowerTransformer()\n",
    "x['flight_time']=pt_f_t.fit_transform(x['flight_time'].values.reshape(-1,1))\n",
    "\n",
    "pt_price=PowerTransformer()\n",
    "y=pt_price.fit_transform(y.values.reshape(-1,1))\n",
    "\n",
    "\n",
    "scaler = StandardScaler()\n",
    "x_knc=scaler.fit_transform(x)\n",
    "\n",
    "scaler_y=StandardScaler()\n",
    "\n",
    "\n",
    "x_train,x_test,y_train,y_test=train_test_split(x_knc,y,test_size=0.20,random_state=42)\n",
    "\n",
    "rfr=KNeighborsRegressor()\n",
    "rfr.fit(x_train,scaler_y.fit_transform(y_train))\n",
    "y_pred_rfr=rfr.predict(x_test)\n",
    "print(\"r2_score for RandomForestRegression is: \",r2_score(y_test,scaler_y.inverse_transform(y_pred_rfr)))\n",
    "print('root_mean_sqaured_error:',mean_squared_error(y_test,scaler_y.inverse_transform(y_pred_rfr))**0.5)\n",
    "print('mean_absolute_error:',mean_absolute_error(y_test,scaler_y.inverse_transform(y_pred_rfr)))"
   ]
  },
  {
   "cell_type": "code",
   "execution_count": 83,
   "id": "7db9850f",
   "metadata": {},
   "outputs": [
    {
     "name": "stdout",
     "output_type": "stream",
     "text": [
      "r2_score for RandomForestRegression is:  0.6265001308193509\n",
      "root_mean_sqaured_error: 834.2330799370388\n",
      "mean_absolute_error: 536.0684039087948\n"
     ]
    }
   ],
   "source": [
    "x=df.iloc[:,0:-1]\n",
    "y=df.iloc[:,-1]\n",
    "\n",
    "\n",
    "\n",
    "scaler = StandardScaler()\n",
    "x_knc=scaler.fit_transform(x)\n",
    "\n",
    "scaler_y=StandardScaler()\n",
    "\n",
    "\n",
    "x_train,x_test,y_train,y_test=train_test_split(x_knc,y,test_size=0.20,random_state=42)\n",
    "\n",
    "rfr=KNeighborsRegressor()\n",
    "rfr.fit(x_train,scaler_y.fit_transform(y_train.values.reshape(-1,1)))\n",
    "y_pred_rfr=rfr.predict(x_test)\n",
    "print(\"r2_score for RandomForestRegression is: \",r2_score(y_test,scaler_y.inverse_transform(y_pred_rfr)))\n",
    "print('root_mean_sqaured_error:',mean_squared_error(y_test,scaler_y.inverse_transform(y_pred_rfr))**0.5)\n",
    "print('mean_absolute_error:',mean_absolute_error(y_test,scaler_y.inverse_transform(y_pred_rfr)))"
   ]
  },
  {
   "cell_type": "code",
   "execution_count": 84,
   "id": "1b180238",
   "metadata": {},
   "outputs": [
    {
     "name": "stdout",
     "output_type": "stream",
     "text": [
      "r2_score for RandomForestRegression is:  0.6473412604604503\n",
      "root_mean_sqaured_error: 0.5545972677266756\n",
      "mean_absolute_error: 0.36436835732634404\n"
     ]
    }
   ],
   "source": [
    "x=df.iloc[:,0:-1]\n",
    "y=df.iloc[:,-1]\n",
    "\n",
    "pt_f_t=PowerTransformer()\n",
    "x['flight_time']=pt_f_t.fit_transform(x['flight_time'].values.reshape(-1,1))\n",
    "\n",
    "pt_price=PowerTransformer()\n",
    "y=pt_price.fit_transform(y.values.reshape(-1,1))\n",
    "\n",
    "pt_dr=PowerTransformer()\n",
    "x['days_remaining']=pt_f_t.fit_transform(x['days_remaining'].values.reshape(-1,1))\n",
    "\n",
    "pt_f_t=PowerTransformer()\n",
    "x['depart_time']=pt_f_t.fit_transform(x['depart_time'].values.reshape(-1,1))\n",
    "\n",
    "scaler = StandardScaler()\n",
    "x_knc=scaler.fit_transform(x)\n",
    "\n",
    "scaler_y=StandardScaler()\n",
    "\n",
    "\n",
    "x_train,x_test,y_train,y_test=train_test_split(x_knc,y,test_size=0.20,random_state=42)\n",
    "\n",
    "rfr=KNeighborsRegressor()\n",
    "rfr.fit(x_train,scaler_y.fit_transform(y_train))\n",
    "y_pred_rfr=rfr.predict(x_test)\n",
    "print(\"r2_score for RandomForestRegression is: \",r2_score(y_test,scaler_y.inverse_transform(y_pred_rfr)))\n",
    "print('root_mean_sqaured_error:',mean_squared_error(y_test,scaler_y.inverse_transform(y_pred_rfr))**0.5)\n",
    "print('mean_absolute_error:',mean_absolute_error(y_test,scaler_y.inverse_transform(y_pred_rfr)))"
   ]
  },
  {
   "cell_type": "code",
   "execution_count": 85,
   "id": "eef468c6",
   "metadata": {},
   "outputs": [
    {
     "name": "stdout",
     "output_type": "stream",
     "text": [
      "r2_score for RandomForestRegression is:  0.65040157658329\n",
      "root_mean_sqaured_error: 0.5521856712828045\n",
      "mean_absolute_error: 0.36261269991796363\n"
     ]
    }
   ],
   "source": [
    "x=df.iloc[:,0:-1]\n",
    "y=df.iloc[:,-1]\n",
    "\n",
    "pt_f_t=PowerTransformer()\n",
    "x['flight_time']=pt_f_t.fit_transform(x['flight_time'].values.reshape(-1,1))\n",
    "\n",
    "pt_price=PowerTransformer()\n",
    "y=pt_price.fit_transform(y.values.reshape(-1,1))\n",
    "\n",
    "pt_dr=PowerTransformer()\n",
    "x['days_remaining']=pt_f_t.fit_transform(x['days_remaining'].values.reshape(-1,1))\n",
    "\n",
    "pt_f_t=PowerTransformer()\n",
    "x['depart_time']=pt_f_t.fit_transform(x['depart_time'].values.reshape(-1,1))\n",
    "\n",
    "pt_f_t=PowerTransformer()\n",
    "x['arrival_time']=pt_f_t.fit_transform(x['arrival_time'].values.reshape(-1,1))\n",
    "\n",
    "scaler = StandardScaler()\n",
    "x_knc=scaler.fit_transform(x)\n",
    "\n",
    "scaler_y=StandardScaler()\n",
    "\n",
    "\n",
    "x_train,x_test,y_train,y_test=train_test_split(x_knc,y,test_size=0.20,random_state=42)\n",
    "\n",
    "rfr=KNeighborsRegressor()\n",
    "rfr.fit(x_train,scaler_y.fit_transform(y_train))\n",
    "y_pred_rfr=rfr.predict(x_test)\n",
    "print(\"r2_score for RandomForestRegression is: \",r2_score(y_test,scaler_y.inverse_transform(y_pred_rfr)))\n",
    "print('root_mean_sqaured_error:',mean_squared_error(y_test,scaler_y.inverse_transform(y_pred_rfr))**0.5)\n",
    "print('mean_absolute_error:',mean_absolute_error(y_test,scaler_y.inverse_transform(y_pred_rfr)))\n",
    "\n",
    "#best result in KNN Regressor."
   ]
  },
  {
   "cell_type": "code",
   "execution_count": 87,
   "id": "b63dd1e3",
   "metadata": {},
   "outputs": [
    {
     "name": "stdout",
     "output_type": "stream",
     "text": [
      "r2_score for RandomForestRegression is:  0.646211937113139\n",
      "root_mean_sqaured_error: 0.5554845547213474\n",
      "mean_absolute_error: 0.36704535743458727\n"
     ]
    }
   ],
   "source": [
    "x=df.iloc[:,0:-1]\n",
    "y=df.iloc[:,-1]\n",
    "\n",
    "pt_x=PowerTransformer()\n",
    "x=pt_x.fit_transform(x)\n",
    "\n",
    "pt_price=PowerTransformer()\n",
    "y=pt_price.fit_transform(y.values.reshape(-1,1))\n",
    "\n",
    "\n",
    "scaler = StandardScaler()\n",
    "x_knc=scaler.fit_transform(x)\n",
    "\n",
    "scaler_y=StandardScaler()\n",
    "\n",
    "\n",
    "x_train,x_test,y_train,y_test=train_test_split(x_knc,y,test_size=0.20,random_state=42)\n",
    "\n",
    "rfr=KNeighborsRegressor()\n",
    "rfr.fit(x_train,scaler_y.fit_transform(y_train))\n",
    "y_pred_rfr=rfr.predict(x_test)\n",
    "print(\"r2_score for RandomForestRegression is: \",r2_score(y_test,scaler_y.inverse_transform(y_pred_rfr)))\n",
    "print('root_mean_sqaured_error:',mean_squared_error(y_test,scaler_y.inverse_transform(y_pred_rfr))**0.5)\n",
    "print('mean_absolute_error:',mean_absolute_error(y_test,scaler_y.inverse_transform(y_pred_rfr)))"
   ]
  },
  {
   "cell_type": "code",
   "execution_count": 88,
   "id": "f5f7a8eb",
   "metadata": {},
   "outputs": [
    {
     "name": "stdout",
     "output_type": "stream",
     "text": [
      "{'algorithm': 'ball_tree', 'n_neighbors': 11, 'p': 1, 'weights': 'distance'}\n",
      "0.46826222020700303\n"
     ]
    }
   ],
   "source": [
    "#Now applying GridSearchCV on KNNRegressor\n",
    "x=df.iloc[:,0:-1]\n",
    "y=df.iloc[:,-1]\n",
    "\n",
    "pt_x=PowerTransformer()\n",
    "x=pt_x.fit_transform(x)\n",
    "\n",
    "pt_price=PowerTransformer()\n",
    "y=pt_price.fit_transform(y.values.reshape(-1,1))\n",
    "\n",
    "scaler = StandardScaler()\n",
    "x_knc=scaler.fit_transform(x)\n",
    "\n",
    "scaler_y=StandardScaler()\n",
    "y_knc=scaler_y.fit_transform(y)\n",
    "\n",
    "knr=KNeighborsRegressor()\n",
    "parameters={'n_neighbors':[5,6,7,9,10,11],\"weights\":['uniform','distance'],'algorithm':['auto', 'ball_tree', 'kd_tree', 'brute'],'p':[1,2]}\n",
    "gd_sr=GridSearchCV(estimator=knr, param_grid= parameters,scoring='r2')\n",
    "gd_sr.fit(x_knc,y_knc)\n",
    "best_parameters=gd_sr.best_params_\n",
    "print(best_parameters)\n",
    "best_result=gd_sr.best_score_\n",
    "print(best_result)"
   ]
  },
  {
   "cell_type": "code",
   "execution_count": 89,
   "id": "e0308c2e",
   "metadata": {},
   "outputs": [
    {
     "name": "stdout",
     "output_type": "stream",
     "text": [
      "{'algorithm': 'brute', 'n_neighbors': 13, 'p': 1, 'weights': 'distance'}\n",
      "0.47156798270120026\n"
     ]
    }
   ],
   "source": [
    "#Now applying GridSearchCV on KNNRegressor\n",
    "x=df.iloc[:,0:-1]\n",
    "y=df.iloc[:,-1]\n",
    "\n",
    "pt_x=PowerTransformer()\n",
    "x=pt_x.fit_transform(x)\n",
    "\n",
    "pt_price=PowerTransformer()\n",
    "y=pt_price.fit_transform(y.values.reshape(-1,1))\n",
    "\n",
    "scaler = StandardScaler()\n",
    "x_knc=scaler.fit_transform(x)\n",
    "\n",
    "scaler_y=StandardScaler()\n",
    "y_knc=scaler_y.fit_transform(y)\n",
    "\n",
    "knr=KNeighborsRegressor()\n",
    "parameters={'n_neighbors':[7,9,10,11,12,13],\"weights\":['uniform','distance'],'algorithm':['auto', 'ball_tree', 'kd_tree', 'brute'],'p':[1,2]}\n",
    "gd_sr=GridSearchCV(estimator=knr, param_grid= parameters,scoring='r2')\n",
    "gd_sr.fit(x_knc,y_knc)\n",
    "best_parameters=gd_sr.best_params_\n",
    "print(best_parameters)\n",
    "best_result=gd_sr.best_score_\n",
    "print(best_result)"
   ]
  },
  {
   "cell_type": "code",
   "execution_count": 92,
   "id": "1bbdb0c8",
   "metadata": {},
   "outputs": [
    {
     "name": "stdout",
     "output_type": "stream",
     "text": [
      "{'algorithm': 'brute', 'n_neighbors': 13, 'p': 1, 'weights': 'distance'}\n",
      "0.47156798270120026\n"
     ]
    }
   ],
   "source": [
    "#Now applying GridSearchCV on KNNRegressor\n",
    "x=df.iloc[:,0:-1]\n",
    "y=df.iloc[:,-1]\n",
    "\n",
    "pt_x=PowerTransformer()\n",
    "x=pt_x.fit_transform(x)\n",
    "\n",
    "pt_price=PowerTransformer()\n",
    "y=pt_price.fit_transform(y.values.reshape(-1,1))\n",
    "\n",
    "scaler = StandardScaler()\n",
    "x_knc=scaler.fit_transform(x)\n",
    "\n",
    "scaler_y=StandardScaler()\n",
    "y_knc=scaler_y.fit_transform(y)\n",
    "\n",
    "knr=KNeighborsRegressor()\n",
    "parameters={'n_neighbors':[3,4,5,6,10,11,12,13,14,15],\"weights\":['uniform','distance'],'algorithm':['auto', 'ball_tree', 'kd_tree', 'brute'],'p':[1,2]}\n",
    "gd_sr=GridSearchCV(estimator=knr, param_grid= parameters,scoring='r2')\n",
    "gd_sr.fit(x_knc,y_knc)\n",
    "best_parameters=gd_sr.best_params_\n",
    "print(best_parameters)\n",
    "best_result=gd_sr.best_score_\n",
    "print(best_result)"
   ]
  },
  {
   "cell_type": "code",
   "execution_count": 91,
   "id": "63b8369c",
   "metadata": {},
   "outputs": [
    {
     "name": "stdout",
     "output_type": "stream",
     "text": [
      "r2_score for RandomForestRegression is:  0.673424365671921\n",
      "root_mean_sqaured_error: 0.5336939624042659\n",
      "mean_absolute_error: 0.3416205643476891\n"
     ]
    }
   ],
   "source": [
    "x=df.iloc[:,0:-1]\n",
    "y=df.iloc[:,-1]\n",
    "\n",
    "pt_x=PowerTransformer()\n",
    "x=pt_x.fit_transform(x)\n",
    "\n",
    "pt_price=PowerTransformer()\n",
    "y=pt_price.fit_transform(y.values.reshape(-1,1))\n",
    "\n",
    "\n",
    "scaler = StandardScaler()\n",
    "x_knc=scaler.fit_transform(x)\n",
    "\n",
    "scaler_y=StandardScaler()\n",
    "\n",
    "\n",
    "x_train,x_test,y_train,y_test=train_test_split(x_knc,y,test_size=0.20,random_state=42)\n",
    "\n",
    "rfr=KNeighborsRegressor(algorithm='brute',n_neighbors=13,p=1,weights='distance')\n",
    "rfr.fit(x_train,scaler_y.fit_transform(y_train))\n",
    "y_pred_rfr=rfr.predict(x_test)\n",
    "print(\"r2_score for RandomForestRegression is: \",r2_score(y_test,scaler_y.inverse_transform(y_pred_rfr)))\n",
    "print('root_mean_sqaured_error:',mean_squared_error(y_test,scaler_y.inverse_transform(y_pred_rfr))**0.5)\n",
    "print('mean_absolute_error:',mean_absolute_error(y_test,scaler_y.inverse_transform(y_pred_rfr)))"
   ]
  },
  {
   "cell_type": "markdown",
   "id": "bb4661a7",
   "metadata": {},
   "source": [
    "##### Trying the Random Forest Regressor"
   ]
  },
  {
   "cell_type": "code",
   "execution_count": 26,
   "id": "d4389760",
   "metadata": {},
   "outputs": [
    {
     "name": "stdout",
     "output_type": "stream",
     "text": [
      "r2_score for RandomForestRegression is:  0.7105501795005966\n",
      "root_mean_sqaured_error: 734.3934964646784\n",
      "mean_absolute_error: 396.62382615945404\n"
     ]
    }
   ],
   "source": [
    "x=df.iloc[:,0:-1]\n",
    "y=df.iloc[:,-1]\n",
    "\n",
    "#pt_x=PowerTransformer()\n",
    "#x_pt=pt_x.fit_transform(x)\n",
    "\n",
    "\n",
    "\n",
    "x_train,x_test,y_train,y_test=train_test_split(x,y,test_size=0.20,random_state=42)\n",
    "knr=RandomForestRegressor()\n",
    "knr.fit(x_train,y_train)\n",
    "y_pred=knr.predict(x_test)\n",
    "print(\"r2_score for RandomForestRegression is: \",r2_score(y_test,y_pred))\n",
    "print('root_mean_sqaured_error:',mean_squared_error(y_test,y_pred)**0.5)\n",
    "print('mean_absolute_error:',mean_absolute_error(y_test,y_pred))"
   ]
  },
  {
   "cell_type": "code",
   "execution_count": 45,
   "id": "cecd5ef9",
   "metadata": {},
   "outputs": [
    {
     "name": "stdout",
     "output_type": "stream",
     "text": [
      "r2_score for RandomForestRegression is:  0.7403150840677857\n",
      "root_mean_sqaured_error: 0.4759088293237978\n",
      "mean_absolute_error: 0.26635222348374304\n"
     ]
    }
   ],
   "source": [
    "x=df.iloc[:,0:-1]\n",
    "y=df.iloc[:,-1]\n",
    "\n",
    "pt_price=PowerTransformer()\n",
    "y=pt_price.fit_transform(y.values.reshape(-1,1))\n",
    "\n",
    "x_train,x_test,y_train,y_test=train_test_split(x,y,test_size=0.20,random_state=42)\n",
    "knr=RandomForestRegressor()\n",
    "knr.fit(x_train,y_train)\n",
    "y_pred=knr.predict(x_test)\n",
    "print(\"r2_score for RandomForestRegression is: \",r2_score(y_test,y_pred))\n",
    "print('root_mean_sqaured_error:',mean_squared_error(y_test,y_pred)**0.5)\n",
    "print('mean_absolute_error:',mean_absolute_error(y_test,y_pred))"
   ]
  },
  {
   "cell_type": "code",
   "execution_count": 44,
   "id": "ff5d9faf",
   "metadata": {},
   "outputs": [
    {
     "name": "stdout",
     "output_type": "stream",
     "text": [
      "r2_score for RandomForestRegression is:  0.7273400975717133\n",
      "root_mean_sqaured_error: 0.48765315424183164\n",
      "mean_absolute_error: 0.26942006177372657\n"
     ]
    }
   ],
   "source": [
    "x=df.iloc[:,0:-1]\n",
    "y=df.iloc[:,-1]\n",
    "\n",
    "pt_f_t=PowerTransformer()\n",
    "#x['flight_time']=pt_f_t.fit_transform(x['flight_time'].values.reshape(-1,1))\n",
    "\n",
    "pt_dr=PowerTransformer()\n",
    "#x['days_remaining']=pt_f_t.fit_transform(x['days_remaining'].values.reshape(-1,1))\n",
    "\n",
    "pt_f_t=PowerTransformer()\n",
    "#x['depart_time']=pt_f_t.fit_transform(x['depart_time'].values.reshape(-1,1))\n",
    "\n",
    "pt_f_t=PowerTransformer()\n",
    "#x['arrival_time']=pt_f_t.fit_transform(x['arrival_time'].values.reshape(-1,1))\n",
    "\n",
    "pt_price=PowerTransformer()\n",
    "y=pt_price.fit_transform(y.values.reshape(-1,1))\n",
    "\n",
    "x_train,x_test,y_train,y_test=train_test_split(x,y,test_size=0.20,random_state=42)\n",
    "knr=RandomForestRegressor()\n",
    "knr.fit(x_train,y_train)\n",
    "y_pred=knr.predict(x_test)\n",
    "print(\"r2_score for RandomForestRegression is: \",r2_score(y_test,y_pred))\n",
    "print('root_mean_sqaured_error:',mean_squared_error(y_test,y_pred)**0.5)\n",
    "print('mean_absolute_error:',mean_absolute_error(y_test,y_pred))\n",
    "\n",
    "#we are getting better results without applying power tranformer."
   ]
  },
  {
   "cell_type": "code",
   "execution_count": 34,
   "id": "c932b4ca",
   "metadata": {},
   "outputs": [
    {
     "name": "stdout",
     "output_type": "stream",
     "text": [
      "r2_score for RandomForestRegression is:  0.7096903481537982\n",
      "root_mean_sqaured_error: 735.4834717462038\n",
      "mean_absolute_error: 390.774600938421\n"
     ]
    }
   ],
   "source": [
    "x=df.iloc[:,0:-1]\n",
    "y=df.iloc[:,-1]\n",
    "\n",
    "pt_x=PowerTransformer()\n",
    "x_pt=pt_x.fit_transform(x)\n",
    "\n",
    "\n",
    "\n",
    "x_train,x_test,y_train,y_test=train_test_split(x,y,test_size=0.20,random_state=42)\n",
    "knr=RandomForestRegressor()\n",
    "knr.fit(x_train,y_train)\n",
    "y_pred=knr.predict(x_test)\n",
    "print(\"r2_score for RandomForestRegression is: \",r2_score(y_test,y_pred))\n",
    "print('root_mean_sqaured_error:',mean_squared_error(y_test,y_pred)**0.5)\n",
    "print('mean_absolute_error:',mean_absolute_error(y_test,y_pred))\n",
    "\n",
    "#we are getting better results without power transformer."
   ]
  },
  {
   "cell_type": "code",
   "execution_count": 38,
   "id": "58fb91ef",
   "metadata": {},
   "outputs": [
    {
     "name": "stdout",
     "output_type": "stream",
     "text": [
      "{'criterion': 'absolute_error', 'max_depth': 12, 'max_features': 'sqrt', 'min_samples_leaf': 1, 'min_samples_split': 2, 'n_estimators': 100}\n",
      "0.5781128585605956\n"
     ]
    }
   ],
   "source": [
    "#Applying GridSearchCV on RandomForestRegressor.\n",
    "x=df.iloc[:,0:-1]\n",
    "y=df.iloc[:,-1]\n",
    "\n",
    "pt_price=PowerTransformer()\n",
    "y=pt_price.fit_transform(y.values.reshape(-1,1))\n",
    "\n",
    "rfr=RandomForestRegressor()\n",
    "parameters={'n_estimators':[80,90,100,110,120],'criterion':['squared_error','absolute_error','poisson'],'max_depth':[10,12,13,15,17,'None'],'min_samples_split':[2,5,7,10],'min_samples_leaf':[1,2,4],'max_features':['sqrt','log2','None']}\n",
    "gd_sr=GridSearchCV(estimator=rfr, param_grid= parameters,scoring='r2')\n",
    "gd_sr.fit(x,y)\n",
    "best_parameters=gd_sr.best_params_\n",
    "print(best_parameters)\n",
    "best_result=gd_sr.best_score_\n",
    "print(best_result)\n"
   ]
  },
  {
   "cell_type": "code",
   "execution_count": 47,
   "id": "cfc16879",
   "metadata": {},
   "outputs": [
    {
     "name": "stdout",
     "output_type": "stream",
     "text": [
      "r2_score for RandomForestRegression is:  0.724163709552472\n",
      "root_mean_sqaured_error: 0.490485419750274\n",
      "mean_absolute_error: 0.29727066528791446\n"
     ]
    }
   ],
   "source": [
    "x=df.iloc[:,0:-1]\n",
    "y=df.iloc[:,-1]\n",
    "\n",
    "pt_price=PowerTransformer()\n",
    "y=pt_price.fit_transform(y.values.reshape(-1,1))\n",
    "\n",
    "x_train,x_test,y_train,y_test=train_test_split(x,y,test_size=0.20,random_state=42)\n",
    "knr=RandomForestRegressor(criterion='absolute_error',max_depth=12,max_features='sqrt')\n",
    "knr.fit(x_train,y_train)\n",
    "y_pred=knr.predict(x_test)\n",
    "print(\"r2_score for RandomForestRegression is: \",r2_score(y_test,y_pred))\n",
    "print('root_mean_sqaured_error:',mean_squared_error(y_test,y_pred)**0.5)\n",
    "print('mean_absolute_error:',mean_absolute_error(y_test,y_pred))"
   ]
  },
  {
   "cell_type": "code",
   "execution_count": 49,
   "id": "aa31ca62",
   "metadata": {},
   "outputs": [
    {
     "name": "stdout",
     "output_type": "stream",
     "text": [
      "r2_score for RandomForestRegression is:  0.7168713228803405\n",
      "root_mean_sqaured_error: 0.496926697649044\n",
      "mean_absolute_error: 0.3003676832582708\n"
     ]
    }
   ],
   "source": [
    "x=df.iloc[:,0:-1]\n",
    "y=df.iloc[:,-1]\n",
    "\n",
    "pt_price=PowerTransformer()\n",
    "y=pt_price.fit_transform(y.values.reshape(-1,1))\n",
    "\n",
    "x_train,x_test,y_train,y_test=train_test_split(x,y,test_size=0.20,random_state=42)\n",
    "knr=RandomForestRegressor(criterion='absolute_error',max_depth=12,max_features='sqrt')\n",
    "knr.fit(x_train,y_train)\n",
    "y_pred=knr.predict(x_test)\n",
    "print(\"r2_score for RandomForestRegression is: \",r2_score(y_test,y_pred))\n",
    "print('root_mean_sqaured_error:',mean_squared_error(y_test,y_pred)**0.5)\n",
    "print('mean_absolute_error:',mean_absolute_error(y_test,y_pred))\n",
    "\n",
    "#criterion='absolute_error',max_depth=12,max_features='sqrt'\n",
    "#unfortunately r2_score decreases after hyperparameter tuning.\n",
    "#So we need to try other models."
   ]
  },
  {
   "cell_type": "code",
   "execution_count": 67,
   "id": "50dcf3d1",
   "metadata": {},
   "outputs": [
    {
     "name": "stdout",
     "output_type": "stream",
     "text": [
      "0.874401604763342\n",
      "27\n"
     ]
    }
   ],
   "source": [
    "max_r2_score=0\n",
    "best_rand_state=0\n",
    "\n",
    "x=df.iloc[:,0:-1]\n",
    "y=df.iloc[:,-1]\n",
    "\n",
    "pt_price=PowerTransformer()\n",
    "y=pt_price.fit_transform(y.values.reshape(-1,1))\n",
    "\n",
    "for i in range(0,100):\n",
    "    x_train,x_test,y_train,y_test=train_test_split(x,y,test_size=0.20,random_state=i)\n",
    "    gbr=RandomForestRegressor(criterion='absolute_error',max_depth=12,max_features='sqrt')\n",
    "    gbr.fit(x_train,y_train)\n",
    "    y_pred=gbr.predict(x_test)\n",
    "    \n",
    "    if r2_score(y_test,y_pred)>max_r2_score:\n",
    "        max_r2_score=r2_score(y_test,y_pred)\n",
    "        best_rand_state=i\n",
    "\n",
    "print(max_r2_score)\n",
    "print(best_rand_state)"
   ]
  },
  {
   "cell_type": "code",
   "execution_count": null,
   "id": "e68f8f48",
   "metadata": {},
   "outputs": [],
   "source": []
  },
  {
   "cell_type": "markdown",
   "id": "544c4f61",
   "metadata": {},
   "source": [
    "##### Trying decision tree regressor."
   ]
  },
  {
   "cell_type": "code",
   "execution_count": 52,
   "id": "e2b76c07",
   "metadata": {},
   "outputs": [
    {
     "name": "stdout",
     "output_type": "stream",
     "text": [
      "r2_score for RandomForestRegression is:  0.5776379776617921\n",
      "root_mean_sqaured_error: 0.60693590551355\n",
      "mean_absolute_error: 0.27562151871558904\n"
     ]
    }
   ],
   "source": [
    "from sklearn.tree import DecisionTreeRegressor\n",
    "x=df.iloc[:,0:-1]\n",
    "y=df.iloc[:,-1]\n",
    "\n",
    "pt_price=PowerTransformer()\n",
    "y=pt_price.fit_transform(y.values.reshape(-1,1))\n",
    "\n",
    "x_train,x_test,y_train,y_test=train_test_split(x,y,test_size=0.20,random_state=42)\n",
    "knr=DecisionTreeRegressor()\n",
    "knr.fit(x_train,y_train)\n",
    "y_pred=knr.predict(x_test)\n",
    "print(\"r2_score for RandomForestRegression is: \",r2_score(y_test,y_pred))\n",
    "print('root_mean_sqaured_error:',mean_squared_error(y_test,y_pred)**0.5)\n",
    "print('mean_absolute_error:',mean_absolute_error(y_test,y_pred))\n",
    "\n",
    "#The accuracy is far lower than the deafult RandomForestRegressor. So we are not working more on this model."
   ]
  },
  {
   "cell_type": "markdown",
   "id": "8301b169",
   "metadata": {},
   "source": [
    "##### Trying GradientBoosting Regressor"
   ]
  },
  {
   "cell_type": "code",
   "execution_count": 57,
   "id": "19d60b40",
   "metadata": {},
   "outputs": [
    {
     "name": "stdout",
     "output_type": "stream",
     "text": [
      "r2_score for RandomForestRegression is:  0.7064066568990436\n",
      "root_mean_sqaured_error: 0.5060267812477234\n",
      "mean_absolute_error: 0.3217051143037438\n"
     ]
    }
   ],
   "source": [
    "x=df.iloc[:,0:-1]\n",
    "y=df.iloc[:,-1]\n",
    "\n",
    "pt_price=PowerTransformer()\n",
    "y=pt_price.fit_transform(y.values.reshape(-1,1))\n",
    "\n",
    "x_train,x_test,y_train,y_test=train_test_split(x,y,test_size=0.20,random_state=42)\n",
    "knr=GradientBoostingRegressor(n_estimators=1000)\n",
    "knr.fit(x_train,y_train)\n",
    "y_pred=knr.predict(x_test)\n",
    "print(\"r2_score for RandomForestRegression is: \",r2_score(y_test,y_pred))\n",
    "print('root_mean_sqaured_error:',mean_squared_error(y_test,y_pred)**0.5)\n",
    "print('mean_absolute_error:',mean_absolute_error(y_test,y_pred))"
   ]
  },
  {
   "cell_type": "code",
   "execution_count": 58,
   "id": "5f580a26",
   "metadata": {},
   "outputs": [
    {
     "name": "stdout",
     "output_type": "stream",
     "text": [
      "r2_score for RandomForestRegression is:  0.7060886854347175\n",
      "root_mean_sqaured_error: 0.5063007291051714\n",
      "mean_absolute_error: 0.32180720059674167\n"
     ]
    }
   ],
   "source": [
    "x=df.iloc[:,0:-1]\n",
    "y=df.iloc[:,-1]\n",
    "\n",
    "pt_x=PowerTransformer()\n",
    "x_pt=pt_x.fit_transform(x)\n",
    "\n",
    "pt_price=PowerTransformer()\n",
    "y=pt_price.fit_transform(y.values.reshape(-1,1))\n",
    "\n",
    "x_train,x_test,y_train,y_test=train_test_split(x,y,test_size=0.20,random_state=42)\n",
    "knr=GradientBoostingRegressor(n_estimators=1000)\n",
    "knr.fit(x_train,y_train)\n",
    "y_pred=knr.predict(x_test)\n",
    "print(\"r2_score for RandomForestRegression is: \",r2_score(y_test,y_pred))\n",
    "print('root_mean_sqaured_error:',mean_squared_error(y_test,y_pred)**0.5)\n",
    "print('mean_absolute_error:',mean_absolute_error(y_test,y_pred))"
   ]
  },
  {
   "cell_type": "code",
   "execution_count": 64,
   "id": "1c01a057",
   "metadata": {},
   "outputs": [
    {
     "name": "stdout",
     "output_type": "stream",
     "text": [
      "r2_score for RandomForestRegression is:  0.7064408236188744\n",
      "root_mean_sqaured_error: 0.5059973361347736\n",
      "mean_absolute_error: 0.3219003317079957\n"
     ]
    }
   ],
   "source": [
    "x=df.iloc[:,0:-1]\n",
    "y=df.iloc[:,-1]\n",
    "\n",
    "pt_f_t=PowerTransformer()\n",
    "#x['flight_time']=pt_f_t.fit_transform(x['flight_time'].values.reshape(-1,1))\n",
    "\n",
    "pt_dr=PowerTransformer()\n",
    "#x['days_remaining']=pt_f_t.fit_transform(x['days_remaining'].values.reshape(-1,1))\n",
    "\n",
    "pt_f_t=PowerTransformer()\n",
    "#x['depart_time']=pt_f_t.fit_transform(x['depart_time'].values.reshape(-1,1))\n",
    "\n",
    "pt_f_t=PowerTransformer()\n",
    "#x['arrival_time']=pt_f_t.fit_transform(x['arrival_time'].values.reshape(-1,1))\n",
    "\n",
    "pt_price=PowerTransformer()\n",
    "y=pt_price.fit_transform(y.values.reshape(-1,1))\n",
    "\n",
    "x_train,x_test,y_train,y_test=train_test_split(x,y,test_size=0.20,random_state=42)\n",
    "knr=GradientBoostingRegressor(n_estimators=1000)\n",
    "knr.fit(x_train,y_train)\n",
    "y_pred=knr.predict(x_test)\n",
    "print(\"r2_score for RandomForestRegression is: \",r2_score(y_test,y_pred))\n",
    "print('root_mean_sqaured_error:',mean_squared_error(y_test,y_pred)**0.5)\n",
    "print('mean_absolute_error:',mean_absolute_error(y_test,y_pred))"
   ]
  },
  {
   "cell_type": "code",
   "execution_count": 65,
   "id": "0add3735",
   "metadata": {},
   "outputs": [
    {
     "name": "stdout",
     "output_type": "stream",
     "text": [
      "{'criterion': 'friedman_mse', 'learning_rate': 0.1, 'loss': 'absolute_error', 'max_depth': 3, 'min_samples_leaf': 1}\n",
      "0.580394572900347\n"
     ]
    }
   ],
   "source": [
    "#Applying hyper parameter tuning on GradientBoostingregressor\n",
    "x=df.iloc[:,0:-1]\n",
    "y=df.iloc[:,-1]\n",
    "\n",
    "pt_price=PowerTransformer()\n",
    "y=pt_price.fit_transform(y.values.reshape(-1,1))\n",
    "\n",
    "gbr=GradientBoostingRegressor(n_estimators=1000)\n",
    "parameters={'criterion':['friedman_mse','squared_error','mse'],'loss':['squared_error','absolute_error','huber','quantile'],'learning_rate': [0.01,0.5,0.1],'max_depth': [3,4,5],'min_samples_leaf': [1,4,5,6]}\n",
    "gd_sr=GridSearchCV(estimator=gbr, param_grid= parameters,scoring='r2')\n",
    "gd_sr.fit(x,y)\n",
    "best_parameters=gd_sr.best_params_\n",
    "print(best_parameters)\n",
    "best_result=gd_sr.best_score_\n",
    "print(best_result)"
   ]
  },
  {
   "cell_type": "code",
   "execution_count": 66,
   "id": "4fc46bd6",
   "metadata": {},
   "outputs": [
    {
     "name": "stdout",
     "output_type": "stream",
     "text": [
      "0.8307491846654054\n",
      "27\n"
     ]
    }
   ],
   "source": [
    "max_r2_score=0\n",
    "best_rand_state=0\n",
    "\n",
    "x=df.iloc[:,0:-1]\n",
    "y=df.iloc[:,-1]\n",
    "\n",
    "pt_price=PowerTransformer()\n",
    "y=pt_price.fit_transform(y.values.reshape(-1,1))\n",
    "\n",
    "for i in range(0,100):\n",
    "    x_train,x_test,y_train,y_test=train_test_split(x,y,test_size=0.20,random_state=i)\n",
    "    gbr=GradientBoostingRegressor(n_estimators=1000,criterion='friedman_mse',max_depth=3,min_samples_leaf=1,loss='absolute_error')\n",
    "    gbr.fit(x_train,y_train)\n",
    "    y_pred=gbr.predict(x_test)\n",
    "    \n",
    "    if r2_score(y_test,y_pred)>max_r2_score:\n",
    "        max_r2_score=r2_score(y_test,y_pred)\n",
    "        best_rand_state=i\n",
    "\n",
    "print(max_r2_score)\n",
    "print(best_rand_state)"
   ]
  },
  {
   "cell_type": "markdown",
   "id": "35ad85e8",
   "metadata": {},
   "source": [
    "Random Forest Regressor has given the best accuracy till now.\n",
    "So we are building a final Random Forest Regressor model."
   ]
  },
  {
   "cell_type": "markdown",
   "id": "932fa041",
   "metadata": {},
   "source": [
    "# Building the final model"
   ]
  },
  {
   "cell_type": "code",
   "execution_count": 72,
   "id": "08ea3445",
   "metadata": {},
   "outputs": [
    {
     "name": "stdout",
     "output_type": "stream",
     "text": [
      "r2_score for RandomForestRegression is:  0.8590667154019916\n",
      "root_mean_sqaured_error: 537.5972113528644\n",
      "mean_absolute_error: 339.30919808467246\n"
     ]
    }
   ],
   "source": [
    "x=df.iloc[:,0:-1]\n",
    "y=df.iloc[:,-1]\n",
    "\n",
    "pt_price=PowerTransformer()\n",
    "#y=pt_price.fit_transform(y.values.reshape(-1,1))\n",
    "\n",
    "x_train,x_test,y_train,y_test=train_test_split(x,y,test_size=0.20,random_state=27)\n",
    "gbr=RandomForestRegressor(criterion='absolute_error',max_depth=12,max_features='sqrt')\n",
    "gbr.fit(x_train,pt_price.fit_transform(y_train.values.reshape(-1,1)))\n",
    "y_pred=gbr.predict(x_test)\n",
    "print(\"r2_score for RandomForestRegression is: \",r2_score(y_test,pt_price.inverse_transform(y_pred.reshape(-1,1))))\n",
    "print('root_mean_sqaured_error:',mean_squared_error(y_test,pt_price.inverse_transform(y_pred.reshape(-1,1)))**0.5)\n",
    "print('mean_absolute_error:',mean_absolute_error(y_test,pt_price.inverse_transform(y_pred.reshape(-1,1))))\n"
   ]
  },
  {
   "cell_type": "markdown",
   "id": "74455b27",
   "metadata": {},
   "source": [
    "# Saving the final model"
   ]
  },
  {
   "cell_type": "code",
   "execution_count": 77,
   "id": "73995e3b",
   "metadata": {},
   "outputs": [],
   "source": [
    "import pickle\n",
    "filename='flight_price.pkl'\n",
    "pickle.dump(gbr,open(filename,'wb'))"
   ]
  },
  {
   "cell_type": "code",
   "execution_count": null,
   "id": "7230c54d",
   "metadata": {},
   "outputs": [],
   "source": []
  },
  {
   "cell_type": "code",
   "execution_count": null,
   "id": "3ea921bc",
   "metadata": {},
   "outputs": [],
   "source": []
  },
  {
   "cell_type": "code",
   "execution_count": null,
   "id": "c9bd3fc8",
   "metadata": {},
   "outputs": [],
   "source": []
  },
  {
   "cell_type": "code",
   "execution_count": null,
   "id": "56f8f752",
   "metadata": {},
   "outputs": [],
   "source": []
  },
  {
   "cell_type": "code",
   "execution_count": null,
   "id": "1261ce4a",
   "metadata": {},
   "outputs": [],
   "source": []
  },
  {
   "cell_type": "code",
   "execution_count": null,
   "id": "e00cf879",
   "metadata": {},
   "outputs": [],
   "source": []
  },
  {
   "cell_type": "code",
   "execution_count": null,
   "id": "6517313a",
   "metadata": {},
   "outputs": [],
   "source": []
  },
  {
   "cell_type": "code",
   "execution_count": null,
   "id": "9ea5f2a9",
   "metadata": {},
   "outputs": [],
   "source": []
  },
  {
   "cell_type": "code",
   "execution_count": null,
   "id": "f8d97802",
   "metadata": {},
   "outputs": [],
   "source": []
  },
  {
   "cell_type": "code",
   "execution_count": null,
   "id": "71c4d264",
   "metadata": {},
   "outputs": [],
   "source": []
  },
  {
   "cell_type": "code",
   "execution_count": null,
   "id": "187677fa",
   "metadata": {},
   "outputs": [],
   "source": []
  },
  {
   "cell_type": "code",
   "execution_count": null,
   "id": "7c15993c",
   "metadata": {},
   "outputs": [],
   "source": []
  },
  {
   "cell_type": "code",
   "execution_count": null,
   "id": "d9ed0565",
   "metadata": {},
   "outputs": [],
   "source": []
  },
  {
   "cell_type": "code",
   "execution_count": null,
   "id": "33235039",
   "metadata": {},
   "outputs": [],
   "source": []
  },
  {
   "cell_type": "code",
   "execution_count": null,
   "id": "0cc19fb4",
   "metadata": {},
   "outputs": [],
   "source": []
  },
  {
   "cell_type": "code",
   "execution_count": null,
   "id": "0949ea06",
   "metadata": {},
   "outputs": [],
   "source": []
  },
  {
   "cell_type": "code",
   "execution_count": null,
   "id": "2619c1a6",
   "metadata": {},
   "outputs": [],
   "source": []
  },
  {
   "cell_type": "code",
   "execution_count": null,
   "id": "ed59cfa4",
   "metadata": {},
   "outputs": [],
   "source": []
  },
  {
   "cell_type": "code",
   "execution_count": null,
   "id": "71696d82",
   "metadata": {},
   "outputs": [],
   "source": []
  },
  {
   "cell_type": "code",
   "execution_count": null,
   "id": "361d5ad9",
   "metadata": {},
   "outputs": [],
   "source": []
  },
  {
   "cell_type": "code",
   "execution_count": null,
   "id": "12dfa17d",
   "metadata": {},
   "outputs": [],
   "source": []
  },
  {
   "cell_type": "code",
   "execution_count": null,
   "id": "bf7bf2e1",
   "metadata": {},
   "outputs": [],
   "source": []
  },
  {
   "cell_type": "code",
   "execution_count": null,
   "id": "ba361ee4",
   "metadata": {},
   "outputs": [],
   "source": []
  },
  {
   "cell_type": "code",
   "execution_count": null,
   "id": "0976796f",
   "metadata": {},
   "outputs": [],
   "source": []
  },
  {
   "cell_type": "code",
   "execution_count": null,
   "id": "eb5d894d",
   "metadata": {},
   "outputs": [],
   "source": []
  },
  {
   "cell_type": "code",
   "execution_count": null,
   "id": "9f38b3f0",
   "metadata": {},
   "outputs": [],
   "source": []
  }
 ],
 "metadata": {
  "kernelspec": {
   "display_name": "Python 3",
   "language": "python",
   "name": "python3"
  },
  "language_info": {
   "codemirror_mode": {
    "name": "ipython",
    "version": 3
   },
   "file_extension": ".py",
   "mimetype": "text/x-python",
   "name": "python",
   "nbconvert_exporter": "python",
   "pygments_lexer": "ipython3",
   "version": "3.8.8"
  }
 },
 "nbformat": 4,
 "nbformat_minor": 5
}
