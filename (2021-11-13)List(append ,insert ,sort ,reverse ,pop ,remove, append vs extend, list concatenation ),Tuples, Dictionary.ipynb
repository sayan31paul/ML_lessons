{
 "cells": [
  {
   "cell_type": "raw",
   "id": "92dca73f",
   "metadata": {},
   "source": [
    "Data structures in python:-\n",
    "1. List\n",
    "2. Tuples\n",
    "3. Dictionary\n",
    "4. Sets   "
   ]
  },
  {
   "cell_type": "markdown",
   "id": "9948b110",
   "metadata": {},
   "source": [
    "# List data structures"
   ]
  },
  {
   "cell_type": "code",
   "execution_count": 1,
   "id": "19a0c6f8",
   "metadata": {},
   "outputs": [],
   "source": [
    "list1=[\"Mercury\",'Venus','Earth','Mars']"
   ]
  },
  {
   "cell_type": "code",
   "execution_count": 2,
   "id": "62b3e7f8",
   "metadata": {},
   "outputs": [
    {
     "data": {
      "text/plain": [
       "['Mercury', 'Venus', 'Earth', 'Mars']"
      ]
     },
     "execution_count": 2,
     "metadata": {},
     "output_type": "execute_result"
    }
   ],
   "source": [
    "list1"
   ]
  },
  {
   "cell_type": "code",
   "execution_count": 3,
   "id": "c504580d",
   "metadata": {},
   "outputs": [
    {
     "data": {
      "text/plain": [
       "['Mercury', 'Venus', 'Earth', 'Mars', 'Saturn']"
      ]
     },
     "execution_count": 3,
     "metadata": {},
     "output_type": "execute_result"
    }
   ],
   "source": [
    "#append() method adds data at the end of the list\n",
    "list1.append(\"Saturn\")\n",
    "list1"
   ]
  },
  {
   "cell_type": "code",
   "execution_count": 4,
   "id": "919f8516",
   "metadata": {},
   "outputs": [
    {
     "data": {
      "text/plain": [
       "['Mercury', 'Venus', 'Earth', 'Mars', 'Saturn', 'Jupiter']"
      ]
     },
     "execution_count": 4,
     "metadata": {},
     "output_type": "execute_result"
    }
   ],
   "source": [
    "list1.append(\"Jupiter\")\n",
    "list1"
   ]
  },
  {
   "cell_type": "code",
   "execution_count": 5,
   "id": "5a6b1654",
   "metadata": {},
   "outputs": [
    {
     "data": {
      "text/plain": [
       "[44, 55, 66, 77]"
      ]
     },
     "execution_count": 5,
     "metadata": {},
     "output_type": "execute_result"
    }
   ],
   "source": [
    "numberlist=[44,55,66,77]\n",
    "numberlist"
   ]
  },
  {
   "cell_type": "code",
   "execution_count": 6,
   "id": "f0fd2b47",
   "metadata": {},
   "outputs": [],
   "source": [
    "#adding the data at a particular index\n",
    "list1.insert(1,'Pluto') #1 is the index number"
   ]
  },
  {
   "cell_type": "code",
   "execution_count": 7,
   "id": "21e53e5d",
   "metadata": {},
   "outputs": [
    {
     "data": {
      "text/plain": [
       "['Mercury', 'Pluto', 'Venus', 'Earth', 'Mars', 'Saturn', 'Jupiter']"
      ]
     },
     "execution_count": 7,
     "metadata": {},
     "output_type": "execute_result"
    }
   ],
   "source": [
    "list1"
   ]
  },
  {
   "cell_type": "code",
   "execution_count": 8,
   "id": "97f669f3",
   "metadata": {},
   "outputs": [
    {
     "data": {
      "text/plain": [
       "['Mercury', 'Pluto', 'Venus', 'Earth', 'Jupiter', 'Mars', 'Saturn', 'Jupiter']"
      ]
     },
     "execution_count": 8,
     "metadata": {},
     "output_type": "execute_result"
    }
   ],
   "source": [
    "list1.insert(4,'Jupiter')\n",
    "list1"
   ]
  },
  {
   "cell_type": "code",
   "execution_count": 9,
   "id": "502d2361",
   "metadata": {},
   "outputs": [
    {
     "data": {
      "text/plain": [
       "['Earth', 'Jupiter', 'Jupiter', 'Mars', 'Mercury', 'Pluto', 'Saturn', 'Venus']"
      ]
     },
     "execution_count": 9,
     "metadata": {},
     "output_type": "execute_result"
    }
   ],
   "source": [
    "# arrange all the data in alphabetically ascending order\n",
    "list1.sort()\n",
    "list1"
   ]
  },
  {
   "cell_type": "code",
   "execution_count": 10,
   "id": "d6202e3b",
   "metadata": {},
   "outputs": [
    {
     "data": {
      "text/plain": [
       "['Venus', 'Saturn', 'Pluto', 'Mercury', 'Mars', 'Jupiter', 'Jupiter', 'Earth']"
      ]
     },
     "execution_count": 10,
     "metadata": {},
     "output_type": "execute_result"
    }
   ],
   "source": [
    "#reverse the entire list\n",
    "list1.reverse()\n",
    "list1"
   ]
  },
  {
   "cell_type": "code",
   "execution_count": 11,
   "id": "a5a223b7",
   "metadata": {},
   "outputs": [
    {
     "data": {
      "text/plain": [
       "['Venus', 'Saturn', 'Pluto', 'Mercury', 'Mars', 'Jupiter', 'Jupiter']"
      ]
     },
     "execution_count": 11,
     "metadata": {},
     "output_type": "execute_result"
    }
   ],
   "source": [
    "#pop() method removes the last element\n",
    "list1.pop()\n",
    "list1"
   ]
  },
  {
   "cell_type": "code",
   "execution_count": 12,
   "id": "33bf11f8",
   "metadata": {},
   "outputs": [
    {
     "data": {
      "text/plain": [
       "'Jupiter'"
      ]
     },
     "execution_count": 12,
     "metadata": {},
     "output_type": "execute_result"
    }
   ],
   "source": [
    "list1.pop() #pop() methos gives the removed data as output"
   ]
  },
  {
   "cell_type": "code",
   "execution_count": 13,
   "id": "c061f401",
   "metadata": {},
   "outputs": [
    {
     "data": {
      "text/plain": [
       "['Venus', 'Saturn', 'Pluto', 'Mercury', 'Mars', 'Jupiter']"
      ]
     },
     "execution_count": 13,
     "metadata": {},
     "output_type": "execute_result"
    }
   ],
   "source": [
    "list1"
   ]
  },
  {
   "cell_type": "code",
   "execution_count": 14,
   "id": "7e1876a8",
   "metadata": {},
   "outputs": [
    {
     "data": {
      "text/plain": [
       "'Mars'"
      ]
     },
     "execution_count": 14,
     "metadata": {},
     "output_type": "execute_result"
    }
   ],
   "source": [
    "list1.pop(4) #giving the index number inside pop() removes the element at that perticular index"
   ]
  },
  {
   "cell_type": "code",
   "execution_count": 15,
   "id": "6ff12e8b",
   "metadata": {},
   "outputs": [],
   "source": [
    "#remove() method also removes element from a list but index number is not applicable there. We have to give the value\n",
    "list1.remove('Pluto')"
   ]
  },
  {
   "cell_type": "code",
   "execution_count": 16,
   "id": "f9c68659",
   "metadata": {},
   "outputs": [
    {
     "data": {
      "text/plain": [
       "['Venus', 'Saturn', 'Mercury', 'Jupiter']"
      ]
     },
     "execution_count": 16,
     "metadata": {},
     "output_type": "execute_result"
    }
   ],
   "source": [
    "list1"
   ]
  },
  {
   "cell_type": "code",
   "execution_count": 17,
   "id": "c2114d81",
   "metadata": {},
   "outputs": [
    {
     "data": {
      "text/plain": [
       "['Venus', 'Saturn', 'Mercury', 'Jupiter', 'Venus']"
      ]
     },
     "execution_count": 17,
     "metadata": {},
     "output_type": "execute_result"
    }
   ],
   "source": [
    "list1.append('Venus')\n",
    "list1"
   ]
  },
  {
   "cell_type": "code",
   "execution_count": 18,
   "id": "7d558d0f",
   "metadata": {},
   "outputs": [
    {
     "data": {
      "text/plain": [
       "['Saturn', 'Mercury', 'Jupiter', 'Venus']"
      ]
     },
     "execution_count": 18,
     "metadata": {},
     "output_type": "execute_result"
    }
   ],
   "source": [
    "#remove command removes the first element from the list\n",
    "list1.remove('Venus')\n",
    "list1"
   ]
  },
  {
   "cell_type": "code",
   "execution_count": 19,
   "id": "92daf25c",
   "metadata": {},
   "outputs": [
    {
     "ename": "TypeError",
     "evalue": "append() takes exactly one argument (3 given)",
     "output_type": "error",
     "traceback": [
      "\u001b[1;31m---------------------------------------------------------------------------\u001b[0m",
      "\u001b[1;31mTypeError\u001b[0m                                 Traceback (most recent call last)",
      "\u001b[1;32m<ipython-input-19-b08ad1a17d8f>\u001b[0m in \u001b[0;36m<module>\u001b[1;34m\u001b[0m\n\u001b[0;32m      1\u001b[0m \u001b[1;31m#append cannot take more than 1 argument\u001b[0m\u001b[1;33m\u001b[0m\u001b[1;33m\u001b[0m\u001b[1;33m\u001b[0m\u001b[0m\n\u001b[1;32m----> 2\u001b[1;33m \u001b[0mlist1\u001b[0m\u001b[1;33m.\u001b[0m\u001b[0mappend\u001b[0m\u001b[1;33m(\u001b[0m\u001b[1;34m'Planets'\u001b[0m\u001b[1;33m,\u001b[0m\u001b[1;34m'Sun'\u001b[0m\u001b[1;33m,\u001b[0m\u001b[1;34m'Moon'\u001b[0m\u001b[1;33m)\u001b[0m \u001b[1;31m#append doesnot take more than one argument\u001b[0m\u001b[1;33m\u001b[0m\u001b[1;33m\u001b[0m\u001b[0m\n\u001b[0m",
      "\u001b[1;31mTypeError\u001b[0m: append() takes exactly one argument (3 given)"
     ]
    }
   ],
   "source": [
    "#append cannot take more than 1 argument\n",
    "list1.append('Planets','Sun','Moon') #append doesnot take more than one argument"
   ]
  },
  {
   "cell_type": "markdown",
   "id": "2c7322a4",
   "metadata": {},
   "source": [
    "# Append vs Entend"
   ]
  },
  {
   "cell_type": "code",
   "execution_count": 21,
   "id": "aefba7b2",
   "metadata": {},
   "outputs": [
    {
     "data": {
      "text/plain": [
       "[1, 2, 3, 4, 5]"
      ]
     },
     "execution_count": 21,
     "metadata": {},
     "output_type": "execute_result"
    }
   ],
   "source": [
    "l1=[1,2,3,4,5]\n",
    "l1"
   ]
  },
  {
   "cell_type": "code",
   "execution_count": 22,
   "id": "7519ac04",
   "metadata": {},
   "outputs": [
    {
     "data": {
      "text/plain": [
       "[1, 2, 3, 4, 5, [77, 88, 99]]"
      ]
     },
     "execution_count": 22,
     "metadata": {},
     "output_type": "execute_result"
    }
   ],
   "source": [
    "l1.append([77,88,99]) #append method is creating list inside a list\n",
    "l1"
   ]
  },
  {
   "cell_type": "code",
   "execution_count": 23,
   "id": "5e26b41b",
   "metadata": {},
   "outputs": [
    {
     "data": {
      "text/plain": [
       "[77, 88, 99]"
      ]
     },
     "execution_count": 23,
     "metadata": {},
     "output_type": "execute_result"
    }
   ],
   "source": [
    "l1.pop(5)"
   ]
  },
  {
   "cell_type": "code",
   "execution_count": 24,
   "id": "ac6d0b45",
   "metadata": {},
   "outputs": [
    {
     "data": {
      "text/plain": [
       "[1, 2, 3, 4, 5]"
      ]
     },
     "execution_count": 24,
     "metadata": {},
     "output_type": "execute_result"
    }
   ],
   "source": [
    "l1"
   ]
  },
  {
   "cell_type": "code",
   "execution_count": 25,
   "id": "cc4ae736",
   "metadata": {},
   "outputs": [
    {
     "data": {
      "text/plain": [
       "[1, 2, 3, 4, 5, 77, 88, 99]"
      ]
     },
     "execution_count": 25,
     "metadata": {},
     "output_type": "execute_result"
    }
   ],
   "source": [
    "l1.extend([77,88,99]) #list inside list is not created by append method\n",
    "l1"
   ]
  },
  {
   "cell_type": "code",
   "execution_count": 26,
   "id": "9c7cfd22",
   "metadata": {},
   "outputs": [],
   "source": [
    "fruits=['apples','grapes','oranges','banana']\n",
    "veggies=['corn','kale','mushroom']\n"
   ]
  },
  {
   "cell_type": "code",
   "execution_count": 27,
   "id": "89af6035",
   "metadata": {},
   "outputs": [
    {
     "data": {
      "text/plain": [
       "['apples', 'grapes', 'oranges', 'banana', ['corn', 'kale', 'mushroom']]"
      ]
     },
     "execution_count": 27,
     "metadata": {},
     "output_type": "execute_result"
    }
   ],
   "source": [
    "fruits.append(veggies)\n",
    "fruits"
   ]
  },
  {
   "cell_type": "code",
   "execution_count": 28,
   "id": "5a7bfc87",
   "metadata": {},
   "outputs": [
    {
     "data": {
      "text/plain": [
       "['corn', 'kale', 'mushroom']"
      ]
     },
     "execution_count": 28,
     "metadata": {},
     "output_type": "execute_result"
    }
   ],
   "source": [
    "fruits.pop(-1)"
   ]
  },
  {
   "cell_type": "code",
   "execution_count": 29,
   "id": "b2fbb81f",
   "metadata": {},
   "outputs": [
    {
     "data": {
      "text/plain": [
       "['apples', 'grapes', 'oranges', 'banana', 'corn', 'kale', 'mushroom']"
      ]
     },
     "execution_count": 29,
     "metadata": {},
     "output_type": "execute_result"
    }
   ],
   "source": [
    "#now using the extend function\n",
    "fruits.extend(veggies)\n",
    "fruits"
   ]
  },
  {
   "cell_type": "markdown",
   "id": "77fd82ef",
   "metadata": {},
   "source": [
    "# List concatenation"
   ]
  },
  {
   "cell_type": "code",
   "execution_count": 30,
   "id": "d5ec4cdb",
   "metadata": {},
   "outputs": [],
   "source": [
    "fruits=['apples','grapes','oranges','banana']\n",
    "veggies=['corn','kale','mushroom']"
   ]
  },
  {
   "cell_type": "code",
   "execution_count": 31,
   "id": "a42b9248",
   "metadata": {},
   "outputs": [
    {
     "data": {
      "text/plain": [
       "['apples', 'grapes', 'oranges', 'banana']"
      ]
     },
     "execution_count": 31,
     "metadata": {},
     "output_type": "execute_result"
    }
   ],
   "source": [
    "fruits"
   ]
  },
  {
   "cell_type": "code",
   "execution_count": 32,
   "id": "a6bd880e",
   "metadata": {},
   "outputs": [
    {
     "data": {
      "text/plain": [
       "['corn', 'kale', 'mushroom']"
      ]
     },
     "execution_count": 32,
     "metadata": {},
     "output_type": "execute_result"
    }
   ],
   "source": [
    "veggies"
   ]
  },
  {
   "cell_type": "code",
   "execution_count": 33,
   "id": "131a59c0",
   "metadata": {},
   "outputs": [
    {
     "data": {
      "text/plain": [
       "['apples', 'grapes', 'oranges', 'banana', 'corn', 'kale', 'mushroom']"
      ]
     },
     "execution_count": 33,
     "metadata": {},
     "output_type": "execute_result"
    }
   ],
   "source": [
    "grocery_list=fruits+veggies\n",
    "grocery_list"
   ]
  },
  {
   "cell_type": "code",
   "execution_count": 34,
   "id": "2de5db4f",
   "metadata": {},
   "outputs": [],
   "source": [
    "#with concatenation we need two precreated lists but with extend method we donot need two precreated lists."
   ]
  },
  {
   "cell_type": "code",
   "execution_count": 35,
   "id": "e78613d2",
   "metadata": {},
   "outputs": [
    {
     "data": {
      "text/plain": [
       "[]"
      ]
     },
     "execution_count": 35,
     "metadata": {},
     "output_type": "execute_result"
    }
   ],
   "source": [
    "#deleting all data from the list\n",
    "list1.clear()\n",
    "list1"
   ]
  },
  {
   "cell_type": "code",
   "execution_count": 36,
   "id": "8e4264ba",
   "metadata": {},
   "outputs": [
    {
     "data": {
      "text/plain": [
       "[1]"
      ]
     },
     "execution_count": 36,
     "metadata": {},
     "output_type": "execute_result"
    }
   ],
   "source": [
    "#data can again be added to the list using append\n",
    "list1.append(1)\n",
    "list1"
   ]
  },
  {
   "cell_type": "code",
   "execution_count": 37,
   "id": "026786a8",
   "metadata": {},
   "outputs": [],
   "source": [
    "#deleting the entire list\n",
    "del list1"
   ]
  },
  {
   "cell_type": "code",
   "execution_count": 38,
   "id": "20cd466e",
   "metadata": {},
   "outputs": [
    {
     "ename": "NameError",
     "evalue": "name 'list1' is not defined",
     "output_type": "error",
     "traceback": [
      "\u001b[1;31m---------------------------------------------------------------------------\u001b[0m",
      "\u001b[1;31mNameError\u001b[0m                                 Traceback (most recent call last)",
      "\u001b[1;32m<ipython-input-38-2cc31ebd56fd>\u001b[0m in \u001b[0;36m<module>\u001b[1;34m\u001b[0m\n\u001b[1;32m----> 1\u001b[1;33m \u001b[0mlist1\u001b[0m \u001b[1;31m#list1 no longer exixts\u001b[0m\u001b[1;33m\u001b[0m\u001b[1;33m\u001b[0m\u001b[0m\n\u001b[0m",
      "\u001b[1;31mNameError\u001b[0m: name 'list1' is not defined"
     ]
    }
   ],
   "source": [
    "list1 #list1 no longer exixts"
   ]
  },
  {
   "cell_type": "code",
   "execution_count": null,
   "id": "b6e13de7",
   "metadata": {},
   "outputs": [],
   "source": [
    "listno=[800,500,300,200,100]\n",
    "listno"
   ]
  },
  {
   "cell_type": "code",
   "execution_count": null,
   "id": "004be4ed",
   "metadata": {},
   "outputs": [],
   "source": [
    "listno[1] #indexing"
   ]
  },
  {
   "cell_type": "markdown",
   "id": "a68d56a5",
   "metadata": {},
   "source": [
    "# Lists are mutable"
   ]
  },
  {
   "cell_type": "raw",
   "id": "9d031946",
   "metadata": {},
   "source": [
    "Mutable= It means that values inside the list can be changed even after the creation of list"
   ]
  },
  {
   "cell_type": "code",
   "execution_count": null,
   "id": "d7e04caf",
   "metadata": {},
   "outputs": [],
   "source": [
    "#replace value at index 1 with another number\n",
    "listno[1]=667"
   ]
  },
  {
   "cell_type": "code",
   "execution_count": null,
   "id": "150f2e88",
   "metadata": {},
   "outputs": [],
   "source": [
    "listno"
   ]
  },
  {
   "attachments": {
    "tuple-in-python.png": {
     "image/png": "[encoded data removed]"
    }
   },
   "cell_type": "markdown",
   "id": "b89696a1",
   "metadata": {},
   "source": [
    "![tuple-in-python.png](attachment:tuple-in-python.png)"
   ]
  },
  {
   "cell_type": "markdown",
   "id": "a55dbbd9",
   "metadata": {},
   "source": [
    "# TUPLES"
   ]
  },
  {
   "cell_type": "raw",
   "id": "f4a1066d",
   "metadata": {},
   "source": [
    "Tuples are enclosed in () brakets.\n",
    "Only diference between lists and tuples is that lists are mutable(can be changed even after creation) but tuples are not mutable\n",
    "Tuples can also take multiple data types.\n",
    "\n",
    "Tuples are not used much in data science"
   ]
  },
  {
   "cell_type": "code",
   "execution_count": 39,
   "id": "bc4873bb",
   "metadata": {},
   "outputs": [],
   "source": [
    "my_tuple=('Michael','Herman',31,'Software developer')"
   ]
  },
  {
   "cell_type": "code",
   "execution_count": 40,
   "id": "af7c3bf4",
   "metadata": {},
   "outputs": [
    {
     "data": {
      "text/plain": [
       "'Herman'"
      ]
     },
     "execution_count": 40,
     "metadata": {},
     "output_type": "execute_result"
    }
   ],
   "source": [
    "my_tuple[1]"
   ]
  },
  {
   "cell_type": "code",
   "execution_count": 41,
   "id": "d6753a13",
   "metadata": {},
   "outputs": [
    {
     "ename": "TypeError",
     "evalue": "'tuple' object does not support item assignment",
     "output_type": "error",
     "traceback": [
      "\u001b[1;31m---------------------------------------------------------------------------\u001b[0m",
      "\u001b[1;31mTypeError\u001b[0m                                 Traceback (most recent call last)",
      "\u001b[1;32m<ipython-input-41-cb7a8d26f5c9>\u001b[0m in \u001b[0;36m<module>\u001b[1;34m\u001b[0m\n\u001b[1;32m----> 1\u001b[1;33m \u001b[0mmy_tuple\u001b[0m\u001b[1;33m[\u001b[0m\u001b[1;36m1\u001b[0m\u001b[1;33m]\u001b[0m\u001b[1;33m=\u001b[0m\u001b[1;36m33\u001b[0m \u001b[1;31m#tuples are immutable(its values cannot be chnaged after creation)\u001b[0m\u001b[1;33m\u001b[0m\u001b[1;33m\u001b[0m\u001b[0m\n\u001b[0m",
      "\u001b[1;31mTypeError\u001b[0m: 'tuple' object does not support item assignment"
     ]
    }
   ],
   "source": [
    "my_tuple[1]=33 #tuples are immutable(its values cannot be chnaged after creation)"
   ]
  },
  {
   "cell_type": "code",
   "execution_count": null,
   "id": "38f097af",
   "metadata": {},
   "outputs": [],
   "source": [
    "tuple1=(1,2,3,4)\n",
    "tuple2=(5,6,7,8)\n"
   ]
  },
  {
   "cell_type": "code",
   "execution_count": null,
   "id": "7fbdc0b3",
   "metadata": {},
   "outputs": [],
   "source": [
    "tuple3=tuple1+tuple2\n",
    "tuple3"
   ]
  },
  {
   "attachments": {
    "download.jpg": {
     "image/jpeg": "[encoded data removed]"
    }
   },
   "cell_type": "markdown",
   "id": "38695e10",
   "metadata": {},
   "source": [
    "![download.jpg](attachment:download.jpg)"
   ]
  },
  {
   "cell_type": "markdown",
   "id": "e205b99e",
   "metadata": {},
   "source": [
    "# DICTIONARIES"
   ]
  },
  {
   "cell_type": "raw",
   "id": "406d036a",
   "metadata": {},
   "source": [
    "Dictionaries are enclose in {} brakets.\n",
    "Dictionaries consists of keys and values"
   ]
  },
  {
   "cell_type": "code",
   "execution_count": 44,
   "id": "24530a8b",
   "metadata": {},
   "outputs": [
    {
     "data": {
      "text/plain": [
       "{'id': 101, 'name': 'John', 'course': 'Python'}"
      ]
     },
     "execution_count": 44,
     "metadata": {},
     "output_type": "execute_result"
    }
   ],
   "source": [
    "d1={'id':101,'name':'John','course':'Python'}\n",
    "d1"
   ]
  },
  {
   "attachments": {
    "Capture.PNG": {
     "image/png": "[encoded data removed]"
    }
   },
   "cell_type": "markdown",
   "id": "120ec49c",
   "metadata": {},
   "source": [
    "![Capture.PNG](attachment:Capture.PNG)"
   ]
  },
  {
   "cell_type": "code",
   "execution_count": 45,
   "id": "7128e8be",
   "metadata": {},
   "outputs": [
    {
     "data": {
      "text/plain": [
       "101"
      ]
     },
     "execution_count": 45,
     "metadata": {},
     "output_type": "execute_result"
    }
   ],
   "source": [
    "d1['id']"
   ]
  },
  {
   "cell_type": "code",
   "execution_count": 46,
   "id": "65d2f822",
   "metadata": {},
   "outputs": [
    {
     "data": {
      "text/plain": [
       "'John'"
      ]
     },
     "execution_count": 46,
     "metadata": {},
     "output_type": "execute_result"
    }
   ],
   "source": [
    "d1['name']"
   ]
  },
  {
   "cell_type": "code",
   "execution_count": 47,
   "id": "49b11cc3",
   "metadata": {},
   "outputs": [
    {
     "data": {
      "text/plain": [
       "'Python'"
      ]
     },
     "execution_count": 47,
     "metadata": {},
     "output_type": "execute_result"
    }
   ],
   "source": [
    "d1['course']"
   ]
  },
  {
   "cell_type": "code",
   "execution_count": 87,
   "id": "834344f5",
   "metadata": {},
   "outputs": [
    {
     "data": {
      "text/plain": [
       "dict_keys(['id', 'name', 'course'])"
      ]
     },
     "execution_count": 87,
     "metadata": {},
     "output_type": "execute_result"
    }
   ],
   "source": [
    "#show only the keys in the dictionaries\n",
    "d1.keys()"
   ]
  },
  {
   "cell_type": "code",
   "execution_count": 49,
   "id": "ef3a2cba",
   "metadata": {},
   "outputs": [
    {
     "data": {
      "text/plain": [
       "dict_values([101, 'John', 'Python'])"
      ]
     },
     "execution_count": 49,
     "metadata": {},
     "output_type": "execute_result"
    }
   ],
   "source": [
    "#show only the values in the dictionary\n",
    "d1.values()"
   ]
  },
  {
   "cell_type": "code",
   "execution_count": 50,
   "id": "108e7c00",
   "metadata": {},
   "outputs": [
    {
     "data": {
      "text/plain": [
       "dict_items([('id', 101), ('name', 'John'), ('course', 'Python')])"
      ]
     },
     "execution_count": 50,
     "metadata": {},
     "output_type": "execute_result"
    }
   ],
   "source": [
    "#shows both keys and values\n",
    "d1.items()"
   ]
  },
  {
   "cell_type": "code",
   "execution_count": 51,
   "id": "68625424",
   "metadata": {},
   "outputs": [],
   "source": [
    "#creating a new dictionary\n",
    "dict1={'Name':'zara','Age':7,'Class':'First'}"
   ]
  },
  {
   "cell_type": "code",
   "execution_count": 52,
   "id": "e05ee712",
   "metadata": {},
   "outputs": [
    {
     "data": {
      "text/plain": [
       "3"
      ]
     },
     "execution_count": 52,
     "metadata": {},
     "output_type": "execute_result"
    }
   ],
   "source": [
    "#How many keys are present in the dictionary\n",
    "len(dict1)"
   ]
  },
  {
   "cell_type": "code",
   "execution_count": 53,
   "id": "ed794693",
   "metadata": {},
   "outputs": [],
   "source": [
    "#Adding a new key-value pair\n",
    "dict1.update({'Fee':5000})   #() indicates the function. {} indicates the dictionary"
   ]
  },
  {
   "cell_type": "code",
   "execution_count": 54,
   "id": "bc1cbabc",
   "metadata": {},
   "outputs": [
    {
     "data": {
      "text/plain": [
       "{'Name': 'zara', 'Age': 7, 'Class': 'First', 'Fee': 5000}"
      ]
     },
     "execution_count": 54,
     "metadata": {},
     "output_type": "execute_result"
    }
   ],
   "source": [
    "dict1"
   ]
  },
  {
   "cell_type": "code",
   "execution_count": 55,
   "id": "2f3e197b",
   "metadata": {},
   "outputs": [
    {
     "data": {
      "text/plain": [
       "5000"
      ]
     },
     "execution_count": 55,
     "metadata": {},
     "output_type": "execute_result"
    }
   ],
   "source": [
    "dict1['Fee']"
   ]
  },
  {
   "cell_type": "code",
   "execution_count": 56,
   "id": "4e94823e",
   "metadata": {},
   "outputs": [
    {
     "data": {
      "text/plain": [
       "{'Name': 'zara', 'Age': 7, 'Class': 'First', 'Fee': 9500}"
      ]
     },
     "execution_count": 56,
     "metadata": {},
     "output_type": "execute_result"
    }
   ],
   "source": [
    "#updating existing key's vale\n",
    "dict1['Fee']=9500\n",
    "dict1"
   ]
  },
  {
   "cell_type": "code",
   "execution_count": 57,
   "id": "2baf6b45",
   "metadata": {},
   "outputs": [
    {
     "data": {
      "text/plain": [
       "{'rock': 'brown', 'trees': 'green', 'apple': 'red', 'banana': 'yellow'}"
      ]
     },
     "execution_count": 57,
     "metadata": {},
     "output_type": "execute_result"
    }
   ],
   "source": [
    "#making a new dictionary\n",
    "colordict={'rock':'brown','trees':'green','apple':'red','banana':'yellow'}\n",
    "colordict"
   ]
  },
  {
   "cell_type": "code",
   "execution_count": 58,
   "id": "68664269",
   "metadata": {},
   "outputs": [],
   "source": [
    "#dictionary with integer keys\n",
    "indict={10:'C++',20:'Java',30:'Python',40:'Ruby'}"
   ]
  },
  {
   "cell_type": "code",
   "execution_count": 59,
   "id": "76c1ca62",
   "metadata": {},
   "outputs": [
    {
     "data": {
      "text/plain": [
       "dict_keys([10, 20, 30, 40])"
      ]
     },
     "execution_count": 59,
     "metadata": {},
     "output_type": "execute_result"
    }
   ],
   "source": [
    "indict.keys()"
   ]
  },
  {
   "cell_type": "code",
   "execution_count": 89,
   "id": "fe223b0b",
   "metadata": {},
   "outputs": [
    {
     "data": {
      "text/plain": [
       "[10, 20, 40]"
      ]
     },
     "execution_count": 89,
     "metadata": {},
     "output_type": "execute_result"
    }
   ],
   "source": [
    "list(indict.keys())"
   ]
  },
  {
   "cell_type": "code",
   "execution_count": 60,
   "id": "f891d8dc",
   "metadata": {},
   "outputs": [
    {
     "data": {
      "text/plain": [
       "dict_values(['C++', 'Java', 'Python', 'Ruby'])"
      ]
     },
     "execution_count": 60,
     "metadata": {},
     "output_type": "execute_result"
    }
   ],
   "source": [
    "indict.values()"
   ]
  },
  {
   "cell_type": "code",
   "execution_count": 90,
   "id": "65f45a6b",
   "metadata": {},
   "outputs": [
    {
     "data": {
      "text/plain": [
       "['C++', 'Java', 'Csharp']"
      ]
     },
     "execution_count": 90,
     "metadata": {},
     "output_type": "execute_result"
    }
   ],
   "source": [
    "list(indict.values())"
   ]
  },
  {
   "cell_type": "code",
   "execution_count": 61,
   "id": "6d39eeae",
   "metadata": {},
   "outputs": [
    {
     "data": {
      "text/plain": [
       "dict_items([(10, 'C++'), (20, 'Java'), (30, 'Python'), (40, 'Ruby')])"
      ]
     },
     "execution_count": 61,
     "metadata": {},
     "output_type": "execute_result"
    }
   ],
   "source": [
    "indict.items()"
   ]
  },
  {
   "cell_type": "code",
   "execution_count": 62,
   "id": "95b28d1d",
   "metadata": {},
   "outputs": [
    {
     "data": {
      "text/plain": [
       "{10: 'C++', 20: 'Java', 30: 'Python', 40: 'Ruby', 50: 'Rails'}"
      ]
     },
     "execution_count": 62,
     "metadata": {},
     "output_type": "execute_result"
    }
   ],
   "source": [
    "#adding a new key to dictionary\n",
    "indict.update({50:'Rails'})\n",
    "indict"
   ]
  },
  {
   "cell_type": "code",
   "execution_count": 63,
   "id": "19008902",
   "metadata": {},
   "outputs": [
    {
     "data": {
      "text/plain": [
       "{10: 'C++', 20: 'Java', 30: 'Python', 40: 'Csharp', 50: 'Rails'}"
      ]
     },
     "execution_count": 63,
     "metadata": {},
     "output_type": "execute_result"
    }
   ],
   "source": [
    "#updating a value in a given key(changing value in a given key)\n",
    "indict[40]='Csharp'\n",
    "indict"
   ]
  },
  {
   "cell_type": "code",
   "execution_count": 64,
   "id": "54468a9e",
   "metadata": {},
   "outputs": [
    {
     "data": {
      "text/plain": [
       "{10: 'C++', 20: 'Java', 30: 'Python', 40: 'Csharp'}"
      ]
     },
     "execution_count": 64,
     "metadata": {},
     "output_type": "execute_result"
    }
   ],
   "source": [
    "#deleting a particular key using delete\n",
    "del indict[50]\n",
    "indict"
   ]
  },
  {
   "cell_type": "code",
   "execution_count": 65,
   "id": "1ecce960",
   "metadata": {},
   "outputs": [
    {
     "data": {
      "text/plain": [
       "'Python'"
      ]
     },
     "execution_count": 65,
     "metadata": {},
     "output_type": "execute_result"
    }
   ],
   "source": [
    "#delete a particular key using pop\n",
    "indict.pop(30)"
   ]
  },
  {
   "cell_type": "code",
   "execution_count": 66,
   "id": "d6451af5",
   "metadata": {},
   "outputs": [
    {
     "data": {
      "text/plain": [
       "{10: 'C++', 20: 'Java', 40: 'Csharp'}"
      ]
     },
     "execution_count": 66,
     "metadata": {},
     "output_type": "execute_result"
    }
   ],
   "source": [
    "indict"
   ]
  },
  {
   "cell_type": "code",
   "execution_count": 67,
   "id": "e1a12f11",
   "metadata": {},
   "outputs": [
    {
     "data": {
      "text/plain": [
       "{'id': [1, 2, 3],\n",
       " 'Name': ['Jack', 'John', 'Andrew'],\n",
       " 'grade': ['First', 'Second', 'Third']}"
      ]
     },
     "execution_count": 67,
     "metadata": {},
     "output_type": "execute_result"
    }
   ],
   "source": [
    "#dictionary can have mutiple values inside a single key\n",
    "dict2={'id':[1,2,3],'Name':['Jack','John','Andrew'],'grade':['First','Second','Third']}\n",
    "dict2"
   ]
  },
  {
   "cell_type": "code",
   "execution_count": 68,
   "id": "520ace6c",
   "metadata": {},
   "outputs": [
    {
     "data": {
      "text/plain": [
       "{1: ['Red', 'Green', 'Blue'],\n",
       " 2: ['white', 'Pink', 'Purple'],\n",
       " 3: ['brown', 'yellow', 'Light green']}"
      ]
     },
     "execution_count": 68,
     "metadata": {},
     "output_type": "execute_result"
    }
   ],
   "source": [
    "#dictionaries with multiple values and integer key\n",
    "newdict={1:['Red','Green','Blue'],2:['white','Pink','Purple'],3:['brown','yellow','Light green']}\n",
    "newdict"
   ]
  },
  {
   "cell_type": "code",
   "execution_count": 69,
   "id": "ddd5a2ba",
   "metadata": {},
   "outputs": [],
   "source": [
    "#deleting all data from the dictionary but not the dictionary\n",
    "newdict.clear()"
   ]
  },
  {
   "cell_type": "code",
   "execution_count": 70,
   "id": "d960b043",
   "metadata": {},
   "outputs": [
    {
     "data": {
      "text/plain": [
       "{}"
      ]
     },
     "execution_count": 70,
     "metadata": {},
     "output_type": "execute_result"
    }
   ],
   "source": [
    "newdict"
   ]
  },
  {
   "cell_type": "code",
   "execution_count": 71,
   "id": "8dc8c095",
   "metadata": {},
   "outputs": [],
   "source": [
    "#deleting the entire dictionary\n",
    "del newdict"
   ]
  },
  {
   "cell_type": "code",
   "execution_count": 72,
   "id": "a28e200b",
   "metadata": {},
   "outputs": [
    {
     "ename": "NameError",
     "evalue": "name 'newdict' is not defined",
     "output_type": "error",
     "traceback": [
      "\u001b[1;31m---------------------------------------------------------------------------\u001b[0m",
      "\u001b[1;31mNameError\u001b[0m                                 Traceback (most recent call last)",
      "\u001b[1;32m<ipython-input-72-df2c4e68cc6d>\u001b[0m in \u001b[0;36m<module>\u001b[1;34m\u001b[0m\n\u001b[1;32m----> 1\u001b[1;33m \u001b[0mnewdict\u001b[0m \u001b[1;31m#newdict no longer exists\u001b[0m\u001b[1;33m\u001b[0m\u001b[1;33m\u001b[0m\u001b[0m\n\u001b[0m",
      "\u001b[1;31mNameError\u001b[0m: name 'newdict' is not defined"
     ]
    }
   ],
   "source": [
    "newdict #newdict no longer exists"
   ]
  },
  {
   "cell_type": "code",
   "execution_count": 73,
   "id": "9a304f7d",
   "metadata": {},
   "outputs": [],
   "source": [
    "#creating a new dictionary\n",
    "d2={'id':[1,2,3],'Name':['ABC','GGG','DDD'],'Age':[2,4,5]}"
   ]
  },
  {
   "cell_type": "code",
   "execution_count": 74,
   "id": "6049674d",
   "metadata": {},
   "outputs": [
    {
     "data": {
      "text/plain": [
       "{'id': [1, 2, 3], 'Name': ['ABC', 'GGG', 'DDD'], 'Age': [2, 4, 5]}"
      ]
     },
     "execution_count": 74,
     "metadata": {},
     "output_type": "execute_result"
    }
   ],
   "source": [
    "d2"
   ]
  },
  {
   "cell_type": "code",
   "execution_count": 75,
   "id": "5a7ab408",
   "metadata": {},
   "outputs": [
    {
     "data": {
      "text/plain": [
       "[1, 2, 3]"
      ]
     },
     "execution_count": 75,
     "metadata": {},
     "output_type": "execute_result"
    }
   ],
   "source": [
    "d2['id']"
   ]
  },
  {
   "cell_type": "code",
   "execution_count": 76,
   "id": "ea7896d2",
   "metadata": {},
   "outputs": [
    {
     "data": {
      "text/plain": [
       "1"
      ]
     },
     "execution_count": 76,
     "metadata": {},
     "output_type": "execute_result"
    }
   ],
   "source": [
    "#taking out the value of a particular index\n",
    "d2['id'][0]"
   ]
  },
  {
   "cell_type": "code",
   "execution_count": 77,
   "id": "89d5fbc3",
   "metadata": {},
   "outputs": [
    {
     "data": {
      "text/plain": [
       "2"
      ]
     },
     "execution_count": 77,
     "metadata": {},
     "output_type": "execute_result"
    }
   ],
   "source": [
    "d2['id'][1]"
   ]
  },
  {
   "cell_type": "code",
   "execution_count": 78,
   "id": "04c99bae",
   "metadata": {},
   "outputs": [
    {
     "data": {
      "text/plain": [
       "['ABC', 'GGG', 'DDD']"
      ]
     },
     "execution_count": 78,
     "metadata": {},
     "output_type": "execute_result"
    }
   ],
   "source": [
    "d2['Name']"
   ]
  },
  {
   "cell_type": "code",
   "execution_count": 79,
   "id": "d8de687e",
   "metadata": {},
   "outputs": [
    {
     "data": {
      "text/plain": [
       "'DDD'"
      ]
     },
     "execution_count": 79,
     "metadata": {},
     "output_type": "execute_result"
    }
   ],
   "source": [
    "d2['Name'][2]"
   ]
  },
  {
   "cell_type": "code",
   "execution_count": 80,
   "id": "2a3e80c1",
   "metadata": {},
   "outputs": [
    {
     "data": {
      "text/plain": [
       "{'id': [1, 2, 3], 'Name': ['ABC', 'GGG', 'DDD'], 'Age': [2, 4, 5]}"
      ]
     },
     "execution_count": 80,
     "metadata": {},
     "output_type": "execute_result"
    }
   ],
   "source": [
    "d2"
   ]
  },
  {
   "cell_type": "code",
   "execution_count": null,
   "id": "6f3e455a",
   "metadata": {},
   "outputs": [],
   "source": []
  },
  {
   "cell_type": "code",
   "execution_count": null,
   "id": "62b79cf8",
   "metadata": {},
   "outputs": [],
   "source": []
  },
  {
   "cell_type": "code",
   "execution_count": null,
   "id": "0d8f2f80",
   "metadata": {},
   "outputs": [],
   "source": []
  },
  {
   "cell_type": "code",
   "execution_count": null,
   "id": "a0cb4677",
   "metadata": {},
   "outputs": [],
   "source": []
  },
  {
   "cell_type": "code",
   "execution_count": null,
   "id": "f3ed5ce9",
   "metadata": {},
   "outputs": [],
   "source": []
  }
 ],
 "metadata": {
  "kernelspec": {
   "display_name": "Python 3",
   "language": "python",
   "name": "python3"
  },
  "language_info": {
   "codemirror_mode": {
    "name": "ipython",
    "version": 3
   },
   "file_extension": ".py",
   "mimetype": "text/x-python",
   "name": "python",
   "nbconvert_exporter": "python",
   "pygments_lexer": "ipython3",
   "version": "3.8.8"
  }
 },
 "nbformat": 4,
 "nbformat_minor": 5
}
