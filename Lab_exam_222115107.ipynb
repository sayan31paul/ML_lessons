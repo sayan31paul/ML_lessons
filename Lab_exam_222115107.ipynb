{
 "cells": [
  {
   "cell_type": "markdown",
   "id": "8f540ac8",
   "metadata": {},
   "source": [
    "# Sayan Paul"
   ]
  },
  {
   "cell_type": "markdown",
   "id": "ad65f155",
   "metadata": {},
   "source": [
    "# Scholar number:222115107"
   ]
  },
  {
   "cell_type": "code",
   "execution_count": 89,
   "id": "ce689201",
   "metadata": {},
   "outputs": [],
   "source": [
    "import numpy as np\n",
    "import pandas as pd\n",
    "import warnings\n",
    "warnings.filterwarnings('ignore')"
   ]
  },
  {
   "cell_type": "code",
   "execution_count": 67,
   "id": "fb474ddf",
   "metadata": {},
   "outputs": [],
   "source": [
    "from sklearn.model_selection import train_test_split"
   ]
  },
  {
   "cell_type": "code",
   "execution_count": 68,
   "id": "c1f908e7",
   "metadata": {},
   "outputs": [
    {
     "data": {
      "text/html": [
       "<div>\n",
       "<style scoped>\n",
       "    .dataframe tbody tr th:only-of-type {\n",
       "        vertical-align: middle;\n",
       "    }\n",
       "\n",
       "    .dataframe tbody tr th {\n",
       "        vertical-align: top;\n",
       "    }\n",
       "\n",
       "    .dataframe thead th {\n",
       "        text-align: right;\n",
       "    }\n",
       "</style>\n",
       "<table border=\"1\" class=\"dataframe\">\n",
       "  <thead>\n",
       "    <tr style=\"text-align: right;\">\n",
       "      <th></th>\n",
       "      <th>x</th>\n",
       "      <th>y</th>\n",
       "    </tr>\n",
       "  </thead>\n",
       "  <tbody>\n",
       "    <tr>\n",
       "      <th>0</th>\n",
       "      <td>9.0</td>\n",
       "      <td>-15.0</td>\n",
       "    </tr>\n",
       "    <tr>\n",
       "      <th>1</th>\n",
       "      <td>1.0</td>\n",
       "      <td>5.1</td>\n",
       "    </tr>\n",
       "    <tr>\n",
       "      <th>2</th>\n",
       "      <td>7.0</td>\n",
       "      <td>-10.3</td>\n",
       "    </tr>\n",
       "    <tr>\n",
       "      <th>3</th>\n",
       "      <td>-3.0</td>\n",
       "      <td>14.2</td>\n",
       "    </tr>\n",
       "    <tr>\n",
       "      <th>4</th>\n",
       "      <td>-8.0</td>\n",
       "      <td>28.0</td>\n",
       "    </tr>\n",
       "    <tr>\n",
       "      <th>5</th>\n",
       "      <td>4.0</td>\n",
       "      <td>-2.9</td>\n",
       "    </tr>\n",
       "    <tr>\n",
       "      <th>6</th>\n",
       "      <td>23.0</td>\n",
       "      <td>-49.9</td>\n",
       "    </tr>\n",
       "    <tr>\n",
       "      <th>7</th>\n",
       "      <td>-11.0</td>\n",
       "      <td>34.6</td>\n",
       "    </tr>\n",
       "    <tr>\n",
       "      <th>8</th>\n",
       "      <td>19.0</td>\n",
       "      <td>-41.2</td>\n",
       "    </tr>\n",
       "    <tr>\n",
       "      <th>9</th>\n",
       "      <td>-1.1</td>\n",
       "      <td>-2.0</td>\n",
       "    </tr>\n",
       "  </tbody>\n",
       "</table>\n",
       "</div>"
      ],
      "text/plain": [
       "      x     y\n",
       "0   9.0 -15.0\n",
       "1   1.0   5.1\n",
       "2   7.0 -10.3\n",
       "3  -3.0  14.2\n",
       "4  -8.0  28.0\n",
       "5   4.0  -2.9\n",
       "6  23.0 -49.9\n",
       "7 -11.0  34.6\n",
       "8  19.0 -41.2\n",
       "9  -1.1  -2.0"
      ]
     },
     "execution_count": 68,
     "metadata": {},
     "output_type": "execute_result"
    }
   ],
   "source": [
    "data=[[9,-15],[1,5.1],[7,-10.3],[-3,14.2],[-8,28],[4,-2.9],[23,-49.9],[-11,34.6],[19,-41.2],[-1.1,-2]]\n",
    "df=pd.DataFrame(data,columns=[\"x\",\"y\"])\n",
    "df"
   ]
  },
  {
   "cell_type": "code",
   "execution_count": 69,
   "id": "40e858c0",
   "metadata": {},
   "outputs": [],
   "source": [
    "class LR_OLS:          # This is exactly the LinearRegression() class of SkLearn\n",
    "    \n",
    "    def __init__(self):\n",
    "        self.m=None\n",
    "        self.b=None\n",
    "        \n",
    "    def fit(self,X_train,y_train):\n",
    "        \n",
    "        num=0\n",
    "        den=0\n",
    "        for i in range(X_train.shape[0]):\n",
    "            \n",
    "            num=num+(X_train[i]-X_train.mean())*(y_train[i]-y_train.mean())\n",
    "            den=den+(X_train[i]-X_train.mean())**2\n",
    "        \n",
    "        self.m=num/den\n",
    "        self.b=y_train.mean()-(self.m* X_train.mean())\n",
    "        \n",
    "        print(self.m)\n",
    "        print(self.b)\n",
    "            \n",
    "    \n",
    "    def predict(self,X_test):\n",
    "        return self.m * X_test + self.b"
   ]
  },
  {
   "cell_type": "code",
   "execution_count": 70,
   "id": "2746b024",
   "metadata": {},
   "outputs": [],
   "source": [
    "X=df.iloc[:,0:-1].values\n",
    "y=df.iloc[:,-1].values"
   ]
  },
  {
   "cell_type": "code",
   "execution_count": 71,
   "id": "a274442a",
   "metadata": {},
   "outputs": [],
   "source": [
    "X_train,X_test,y_train,y_test=train_test_split(X,y,test_size=0.2,random_state=2)"
   ]
  },
  {
   "cell_type": "code",
   "execution_count": 72,
   "id": "a1961159",
   "metadata": {},
   "outputs": [],
   "source": [
    "lr=LR_OLS()"
   ]
  },
  {
   "cell_type": "code",
   "execution_count": 73,
   "id": "4769d261",
   "metadata": {},
   "outputs": [
    {
     "name": "stdout",
     "output_type": "stream",
     "text": [
      "[-2.4042003]\n",
      "[5.03212423]\n"
     ]
    }
   ],
   "source": [
    "lr.fit(X_train,y_train)"
   ]
  },
  {
   "cell_type": "code",
   "execution_count": 74,
   "id": "0c6c316b",
   "metadata": {},
   "outputs": [
    {
     "name": "stdout",
     "output_type": "stream",
     "text": [
      "[[24.26572659]\n",
      " [ 2.62792393]]\n"
     ]
    }
   ],
   "source": [
    "print(lr.predict(X_test))"
   ]
  },
  {
   "cell_type": "code",
   "execution_count": 75,
   "id": "20bb3730",
   "metadata": {},
   "outputs": [
    {
     "name": "stdout",
     "output_type": "stream",
     "text": [
      "[[-16.60567843]\n",
      " [  2.62792393]\n",
      " [-11.79727784]\n",
      " [ 12.24472511]\n",
      " [ 24.26572659]\n",
      " [ -4.58467695]\n",
      " [-50.26448256]\n",
      " [ 31.47832748]\n",
      " [-40.64768138]\n",
      " [  7.67674455]]\n"
     ]
    }
   ],
   "source": [
    "print(lr.predict(X))"
   ]
  },
  {
   "cell_type": "code",
   "execution_count": 76,
   "id": "23ef2fde",
   "metadata": {},
   "outputs": [],
   "source": [
    "results=lr.predict(X)"
   ]
  },
  {
   "cell_type": "code",
   "execution_count": 77,
   "id": "a53309f0",
   "metadata": {},
   "outputs": [
    {
     "name": "stdout",
     "output_type": "stream",
     "text": [
      "-16.605678425680892\n",
      "2.6279239346209837\n",
      "-11.797277835605422\n",
      "12.244725114771922\n",
      "24.265726589960593\n",
      "-4.58467695049222\n",
      "-50.264482556209174\n",
      "31.478327475073797\n",
      "-40.64768137605824\n",
      "7.676744554200226\n"
     ]
    }
   ],
   "source": [
    "for i in results:\n",
    "    print (i[0])"
   ]
  },
  {
   "cell_type": "code",
   "execution_count": 78,
   "id": "a7521932",
   "metadata": {},
   "outputs": [],
   "source": [
    "list_results=[]\n",
    "for i in results:\n",
    "    list_results.append(i[0])"
   ]
  },
  {
   "cell_type": "code",
   "execution_count": 79,
   "id": "7b7edefd",
   "metadata": {},
   "outputs": [
    {
     "data": {
      "text/plain": [
       "[-16.605678425680892,\n",
       " 2.6279239346209837,\n",
       " -11.797277835605422,\n",
       " 12.244725114771922,\n",
       " 24.265726589960593,\n",
       " -4.58467695049222,\n",
       " -50.264482556209174,\n",
       " 31.478327475073797,\n",
       " -40.64768137605824,\n",
       " 7.676744554200226]"
      ]
     },
     "execution_count": 79,
     "metadata": {},
     "output_type": "execute_result"
    }
   ],
   "source": [
    "list_results"
   ]
  },
  {
   "cell_type": "code",
   "execution_count": 80,
   "id": "e0433b83",
   "metadata": {},
   "outputs": [],
   "source": [
    "standard_error=0\n",
    "for i in range(10):\n",
    "    standard_error=standard_error+np.abs(df[\"y\"].values[i]-list_results[i])"
   ]
  },
  {
   "cell_type": "code",
   "execution_count": 81,
   "id": "7f96ff82",
   "metadata": {},
   "outputs": [
    {
     "data": {
      "text/plain": [
       "26.664475831702404"
      ]
     },
     "execution_count": 81,
     "metadata": {},
     "output_type": "execute_result"
    }
   ],
   "source": [
    "standard_error"
   ]
  },
  {
   "cell_type": "code",
   "execution_count": 82,
   "id": "95fb6417",
   "metadata": {},
   "outputs": [],
   "source": [
    "mse=0\n",
    "for i in range(10):\n",
    "    mse=mse+(df[\"y\"].values[i]-list_results[i])**2"
   ]
  },
  {
   "cell_type": "code",
   "execution_count": 83,
   "id": "3d10e360",
   "metadata": {},
   "outputs": [
    {
     "data": {
      "text/plain": [
       "135.3593663182195"
      ]
     },
     "execution_count": 83,
     "metadata": {},
     "output_type": "execute_result"
    }
   ],
   "source": [
    "mse"
   ]
  },
  {
   "cell_type": "code",
   "execution_count": 86,
   "id": "cb3d5659",
   "metadata": {},
   "outputs": [],
   "source": [
    "import matplotlib.pyplot as plt\n",
    "import seaborn as sns"
   ]
  },
  {
   "cell_type": "code",
   "execution_count": 91,
   "id": "c95e6779",
   "metadata": {},
   "outputs": [
    {
     "data": {
      "text/plain": [
       "[<matplotlib.lines.Line2D at 0x1825d1aac70>]"
      ]
     },
     "execution_count": 91,
     "metadata": {},
     "output_type": "execute_result"
    },
    {
     "data": {
      "image/png": "[encoded data removed]",
      "text/plain": [
       "<Figure size 432x288 with 1 Axes>"
      ]
     },
     "metadata": {
      "needs_background": "light"
     },
     "output_type": "display_data"
    }
   ],
   "source": [
    "sns.scatterplot(df['x'],df['y'])\n",
    "sns.scatterplot(df['x'],list_results)\n",
    "plt.plot(X_train, lr.predict(X_train), 'r')\n"
   ]
  },
  {
   "cell_type": "code",
   "execution_count": null,
   "id": "5c816d8a",
   "metadata": {},
   "outputs": [],
   "source": []
  },
  {
   "cell_type": "code",
   "execution_count": null,
   "id": "e28043a4",
   "metadata": {},
   "outputs": [],
   "source": []
  },
  {
   "cell_type": "code",
   "execution_count": null,
   "id": "53ae9082",
   "metadata": {},
   "outputs": [],
   "source": []
  },
  {
   "cell_type": "code",
   "execution_count": null,
   "id": "618f3f7a",
   "metadata": {},
   "outputs": [],
   "source": []
  },
  {
   "cell_type": "code",
   "execution_count": null,
   "id": "c07fe4e1",
   "metadata": {},
   "outputs": [],
   "source": []
  },
  {
   "cell_type": "code",
   "execution_count": null,
   "id": "0b86320f",
   "metadata": {},
   "outputs": [],
   "source": []
  },
  {
   "cell_type": "code",
   "execution_count": null,
   "id": "cf63d10d",
   "metadata": {},
   "outputs": [],
   "source": []
  },
  {
   "cell_type": "code",
   "execution_count": null,
   "id": "8f839161",
   "metadata": {},
   "outputs": [],
   "source": []
  },
  {
   "cell_type": "code",
   "execution_count": null,
   "id": "26fd7860",
   "metadata": {},
   "outputs": [],
   "source": []
  },
  {
   "cell_type": "code",
   "execution_count": null,
   "id": "a6c706a1",
   "metadata": {},
   "outputs": [],
   "source": []
  },
  {
   "cell_type": "code",
   "execution_count": null,
   "id": "25550025",
   "metadata": {},
   "outputs": [],
   "source": []
  }
 ],
 "metadata": {
  "kernelspec": {
   "display_name": "Python 3",
   "language": "python",
   "name": "python3"
  },
  "language_info": {
   "codemirror_mode": {
    "name": "ipython",
    "version": 3
   },
   "file_extension": ".py",
   "mimetype": "text/x-python",
   "name": "python",
   "nbconvert_exporter": "python",
   "pygments_lexer": "ipython3",
   "version": "3.8.8"
  }
 },
 "nbformat": 4,
 "nbformat_minor": 5
}
