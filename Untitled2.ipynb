{
 "cells": [
  {
   "cell_type": "code",
   "execution_count": 1,
   "id": "faafafda",
   "metadata": {},
   "outputs": [],
   "source": [
    "file='India is the fastest growing economy. India is looking for more investments'"
   ]
  },
  {
   "cell_type": "code",
   "execution_count": 3,
   "id": "22baebbf",
   "metadata": {},
   "outputs": [],
   "source": [
    "a=file.split(' ')"
   ]
  },
  {
   "cell_type": "code",
   "execution_count": 4,
   "id": "daa59b04",
   "metadata": {},
   "outputs": [
    {
     "data": {
      "text/plain": [
       "['India',\n",
       " 'is',\n",
       " 'the',\n",
       " 'fastest',\n",
       " 'growing',\n",
       " 'economy.',\n",
       " 'India',\n",
       " 'is',\n",
       " 'looking',\n",
       " 'for',\n",
       " 'more',\n",
       " 'investments']"
      ]
     },
     "execution_count": 4,
     "metadata": {},
     "output_type": "execute_result"
    }
   ],
   "source": [
    "a"
   ]
  },
  {
   "cell_type": "code",
   "execution_count": null,
   "id": "39b06cb2",
   "metadata": {},
   "outputs": [],
   "source": []
  },
  {
   "cell_type": "code",
   "execution_count": 6,
   "id": "78708744",
   "metadata": {},
   "outputs": [],
   "source": [
    "m=0\n",
    "for i in a:\n",
    "    if i=='India':\n",
    "        m=m+1"
   ]
  },
  {
   "cell_type": "code",
   "execution_count": 7,
   "id": "91480f9e",
   "metadata": {},
   "outputs": [
    {
     "data": {
      "text/plain": [
       "2"
      ]
     },
     "execution_count": 7,
     "metadata": {},
     "output_type": "execute_result"
    }
   ],
   "source": [
    "m"
   ]
  },
  {
   "cell_type": "code",
   "execution_count": 11,
   "id": "4f073953",
   "metadata": {},
   "outputs": [
    {
     "data": {
      "text/plain": [
       "['654v6dsd54dff65s5d5s']"
      ]
     },
     "execution_count": 11,
     "metadata": {},
     "output_type": "execute_result"
    }
   ],
   "source": [
    "user_inp=\"654v6dsd54dff65s5d5s\"\n",
    "user_inp.split(\" \")"
   ]
  },
  {
   "cell_type": "code",
   "execution_count": null,
   "id": "096743f0",
   "metadata": {},
   "outputs": [],
   "source": []
  },
  {
   "cell_type": "code",
   "execution_count": null,
   "id": "cb96b1cf",
   "metadata": {},
   "outputs": [],
   "source": []
  },
  {
   "cell_type": "code",
   "execution_count": null,
   "id": "2886c63a",
   "metadata": {},
   "outputs": [],
   "source": []
  },
  {
   "cell_type": "code",
   "execution_count": null,
   "id": "16a57c1b",
   "metadata": {},
   "outputs": [],
   "source": []
  },
  {
   "cell_type": "code",
   "execution_count": null,
   "id": "f10c78a6",
   "metadata": {},
   "outputs": [],
   "source": []
  }
 ],
 "metadata": {
  "kernelspec": {
   "display_name": "Python 3",
   "language": "python",
   "name": "python3"
  },
  "language_info": {
   "codemirror_mode": {
    "name": "ipython",
    "version": 3
   },
   "file_extension": ".py",
   "mimetype": "text/x-python",
   "name": "python",
   "nbconvert_exporter": "python",
   "pygments_lexer": "ipython3",
   "version": "3.8.8"
  }
 },
 "nbformat": 4,
 "nbformat_minor": 5
}
