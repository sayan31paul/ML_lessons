{
 "cells": [
  {
   "cell_type": "code",
   "execution_count": 1,
   "id": "08c377e3",
   "metadata": {},
   "outputs": [],
   "source": [
    "#Python is created on top of C and C++. So pyhton inherits all properties of C and C++."
   ]
  },
  {
   "cell_type": "code",
   "execution_count": 2,
   "id": "621d7f0f",
   "metadata": {},
   "outputs": [],
   "source": [
    "#Jupiter notebook is the graphical user interface(GUI) interface where we can write python commands"
   ]
  },
  {
   "cell_type": "code",
   "execution_count": 3,
   "id": "97695c32",
   "metadata": {},
   "outputs": [],
   "source": [
    "#GUI- Can be easily used using mouse"
   ]
  },
  {
   "cell_type": "code",
   "execution_count": 4,
   "id": "e28555d2",
   "metadata": {},
   "outputs": [],
   "source": [
    "# Operators in python- '+','-','*','/'"
   ]
  },
  {
   "cell_type": "markdown",
   "id": "61d42eff",
   "metadata": {},
   "source": [
    "Working with operators"
   ]
  },
  {
   "cell_type": "code",
   "execution_count": 5,
   "id": "e1266b6c",
   "metadata": {},
   "outputs": [
    {
     "data": {
      "text/plain": [
       "2"
      ]
     },
     "execution_count": 5,
     "metadata": {},
     "output_type": "execute_result"
    }
   ],
   "source": [
    "1+1"
   ]
  },
  {
   "cell_type": "code",
   "execution_count": 6,
   "id": "720d9846",
   "metadata": {},
   "outputs": [
    {
     "data": {
      "text/plain": [
       "1"
      ]
     },
     "execution_count": 6,
     "metadata": {},
     "output_type": "execute_result"
    }
   ],
   "source": [
    "2-1"
   ]
  },
  {
   "cell_type": "code",
   "execution_count": 8,
   "id": "f28ae84b",
   "metadata": {},
   "outputs": [
    {
     "data": {
      "text/plain": [
       "6"
      ]
     },
     "execution_count": 8,
     "metadata": {},
     "output_type": "execute_result"
    }
   ],
   "source": [
    "3*2"
   ]
  },
  {
   "cell_type": "code",
   "execution_count": 10,
   "id": "3fd0d468",
   "metadata": {},
   "outputs": [
    {
     "data": {
      "text/plain": [
       "5.0"
      ]
     },
     "execution_count": 10,
     "metadata": {},
     "output_type": "execute_result"
    }
   ],
   "source": [
    "10/2"
   ]
  },
  {
   "cell_type": "code",
   "execution_count": 11,
   "id": "f9eb7777",
   "metadata": {},
   "outputs": [
    {
     "data": {
      "text/plain": [
       "5"
      ]
     },
     "execution_count": 11,
     "metadata": {},
     "output_type": "execute_result"
    }
   ],
   "source": [
    "#floor division automatically removes the decimal part\n",
    "10//2"
   ]
  },
  {
   "cell_type": "code",
   "execution_count": 12,
   "id": "1d4fb627",
   "metadata": {},
   "outputs": [
    {
     "data": {
      "text/plain": [
       "1"
      ]
     },
     "execution_count": 12,
     "metadata": {},
     "output_type": "execute_result"
    }
   ],
   "source": [
    "# modulo operator (%) gives the remainder of a division\n",
    "10%3"
   ]
  },
  {
   "cell_type": "code",
   "execution_count": 13,
   "id": "f645d767",
   "metadata": {},
   "outputs": [
    {
     "data": {
      "text/plain": [
       "8"
      ]
     },
     "execution_count": 13,
     "metadata": {},
     "output_type": "execute_result"
    }
   ],
   "source": [
    "# power functions\n",
    "2**3"
   ]
  },
  {
   "cell_type": "code",
   "execution_count": 14,
   "id": "cd051136",
   "metadata": {},
   "outputs": [],
   "source": [
    "#Variables- Vessel or container holding the values."
   ]
  },
  {
   "cell_type": "markdown",
   "id": "58d49917",
   "metadata": {},
   "source": [
    "Working with variables"
   ]
  },
  {
   "cell_type": "code",
   "execution_count": 15,
   "id": "d37ee471",
   "metadata": {},
   "outputs": [],
   "source": [
    "a=10"
   ]
  },
  {
   "cell_type": "code",
   "execution_count": 16,
   "id": "348769c9",
   "metadata": {},
   "outputs": [
    {
     "data": {
      "text/plain": [
       "10"
      ]
     },
     "execution_count": 16,
     "metadata": {},
     "output_type": "execute_result"
    }
   ],
   "source": [
    "a"
   ]
  },
  {
   "cell_type": "code",
   "execution_count": 17,
   "id": "6e66b964",
   "metadata": {},
   "outputs": [
    {
     "data": {
      "text/plain": [
       "5"
      ]
     },
     "execution_count": 17,
     "metadata": {},
     "output_type": "execute_result"
    }
   ],
   "source": [
    "b=5\n",
    "b"
   ]
  },
  {
   "cell_type": "code",
   "execution_count": 18,
   "id": "469437ae",
   "metadata": {},
   "outputs": [
    {
     "data": {
      "text/plain": [
       "15"
      ]
     },
     "execution_count": 18,
     "metadata": {},
     "output_type": "execute_result"
    }
   ],
   "source": [
    "a+b"
   ]
  },
  {
   "cell_type": "code",
   "execution_count": 19,
   "id": "f5ff3449",
   "metadata": {},
   "outputs": [
    {
     "data": {
      "text/plain": [
       "5"
      ]
     },
     "execution_count": 19,
     "metadata": {},
     "output_type": "execute_result"
    }
   ],
   "source": [
    "a-b"
   ]
  },
  {
   "cell_type": "code",
   "execution_count": 20,
   "id": "5aac9629",
   "metadata": {},
   "outputs": [
    {
     "data": {
      "text/plain": [
       "50"
      ]
     },
     "execution_count": 20,
     "metadata": {},
     "output_type": "execute_result"
    }
   ],
   "source": [
    "a*b"
   ]
  },
  {
   "cell_type": "code",
   "execution_count": 21,
   "id": "0975b7d8",
   "metadata": {},
   "outputs": [
    {
     "data": {
      "text/plain": [
       "15"
      ]
     },
     "execution_count": 21,
     "metadata": {},
     "output_type": "execute_result"
    }
   ],
   "source": [
    "c=a+b\n",
    "c"
   ]
  },
  {
   "cell_type": "code",
   "execution_count": 22,
   "id": "33755ea6",
   "metadata": {},
   "outputs": [],
   "source": [
    "d=a-b"
   ]
  },
  {
   "cell_type": "code",
   "execution_count": 23,
   "id": "828665ea",
   "metadata": {},
   "outputs": [
    {
     "data": {
      "text/plain": [
       "5"
      ]
     },
     "execution_count": 23,
     "metadata": {},
     "output_type": "execute_result"
    }
   ],
   "source": [
    "d"
   ]
  },
  {
   "cell_type": "code",
   "execution_count": 24,
   "id": "a8e45e7f",
   "metadata": {},
   "outputs": [
    {
     "name": "stdout",
     "output_type": "stream",
     "text": [
      "d= 5\n"
     ]
    }
   ],
   "source": [
    "print(\"d=\",d)"
   ]
  },
  {
   "cell_type": "markdown",
   "id": "e25f7435",
   "metadata": {},
   "source": [
    "# Datatypes in python"
   ]
  },
  {
   "cell_type": "code",
   "execution_count": 26,
   "id": "34dbd60a",
   "metadata": {},
   "outputs": [],
   "source": [
    "#The datatypes in python are char/string, integer, float\n",
    "# Char- \"country\"(character is always enclosed in inverted commas)\n",
    "#Float- Whenever decimal is coming, it is a float data type\n",
    "#Boolean- True or False"
   ]
  },
  {
   "cell_type": "code",
   "execution_count": 27,
   "id": "5db9f872",
   "metadata": {},
   "outputs": [],
   "source": [
    "# Python is case sensitive"
   ]
  },
  {
   "cell_type": "code",
   "execution_count": 28,
   "id": "1fea0d6e",
   "metadata": {},
   "outputs": [
    {
     "name": "stdout",
     "output_type": "stream",
     "text": [
      "The area of rectangle with length= 50 and breadth= 6 is 300\n"
     ]
    }
   ],
   "source": [
    "length=50\n",
    "breadth=6\n",
    "area=length*breadth\n",
    "\n",
    "print(\"The area of rectangle with length=\",length,\"and breadth=\",breadth,\"is\",area)"
   ]
  },
  {
   "cell_type": "markdown",
   "id": "11f4e341",
   "metadata": {},
   "source": [
    "# String concatenation"
   ]
  },
  {
   "cell_type": "markdown",
   "id": "19fbf421",
   "metadata": {},
   "source": [
    "String concatenation= Adding of two strings"
   ]
  },
  {
   "cell_type": "code",
   "execution_count": 30,
   "id": "cf11f063",
   "metadata": {},
   "outputs": [
    {
     "data": {
      "text/plain": [
       "'99'"
      ]
     },
     "execution_count": 30,
     "metadata": {},
     "output_type": "execute_result"
    }
   ],
   "source": [
    "'9'+'9' #anything within inverted commas is string"
   ]
  },
  {
   "cell_type": "code",
   "execution_count": 33,
   "id": "81148102",
   "metadata": {},
   "outputs": [
    {
     "data": {
      "text/plain": [
       "'PythonLanguage'"
      ]
     },
     "execution_count": 33,
     "metadata": {},
     "output_type": "execute_result"
    }
   ],
   "source": [
    "\"Python\"+\"Language\""
   ]
  },
  {
   "cell_type": "code",
   "execution_count": 32,
   "id": "1e4be71a",
   "metadata": {},
   "outputs": [
    {
     "data": {
      "text/plain": [
       "'Python Language'"
      ]
     },
     "execution_count": 32,
     "metadata": {},
     "output_type": "execute_result"
    }
   ],
   "source": [
    "\"Python \"+\"Language\""
   ]
  },
  {
   "cell_type": "markdown",
   "id": "2f0e1517",
   "metadata": {},
   "source": [
    "# User input"
   ]
  },
  {
   "cell_type": "code",
   "execution_count": 40,
   "id": "67564d68",
   "metadata": {},
   "outputs": [
    {
     "name": "stdout",
     "output_type": "stream",
     "text": [
      "Enter any name Sayan\n"
     ]
    }
   ],
   "source": [
    "name=input(\"Enter any name \") #Press enter button after giving the input, otherwise jupiter notebook will hang.\n",
    "#In case the jupiter notebook hangs, go to kernel>interrupt"
   ]
  },
  {
   "cell_type": "code",
   "execution_count": 41,
   "id": "fe5c7f76",
   "metadata": {},
   "outputs": [
    {
     "data": {
      "text/plain": [
       "'Sayan'"
      ]
     },
     "execution_count": 41,
     "metadata": {},
     "output_type": "execute_result"
    }
   ],
   "source": [
    "name"
   ]
  },
  {
   "cell_type": "code",
   "execution_count": 42,
   "id": "59129a2b",
   "metadata": {},
   "outputs": [
    {
     "data": {
      "text/plain": [
       "3"
      ]
     },
     "execution_count": 42,
     "metadata": {},
     "output_type": "execute_result"
    }
   ],
   "source": [
    "#length of a string\n",
    "len(\"ABC\")"
   ]
  },
  {
   "cell_type": "code",
   "execution_count": 43,
   "id": "29a3e02e",
   "metadata": {},
   "outputs": [
    {
     "name": "stdout",
     "output_type": "stream",
     "text": [
      "Enter the word for length calculationSuperStar\n",
      "Length of the word is: 9\n"
     ]
    }
   ],
   "source": [
    "name=input(\"Enter the word for length calculation\")\n",
    "print(\"Length of the word is:\",len(name))"
   ]
  },
  {
   "cell_type": "code",
   "execution_count": 44,
   "id": "dc03cff1",
   "metadata": {},
   "outputs": [
    {
     "name": "stdout",
     "output_type": "stream",
     "text": [
      "5\n",
      "4\n"
     ]
    }
   ],
   "source": [
    "city=\"Noida\"\n",
    "print(len(city))     #Here city is a varible because it is not enclosed within inverted commas\n",
    "print(len(\"city\"))"
   ]
  },
  {
   "cell_type": "code",
   "execution_count": 45,
   "id": "03e07ab9",
   "metadata": {},
   "outputs": [
    {
     "data": {
      "text/plain": [
       "4"
      ]
     },
     "execution_count": 45,
     "metadata": {},
     "output_type": "execute_result"
    }
   ],
   "source": [
    "city=\"Noida\"\n",
    "len(city)\n",
    "len(\"city\")   #only the last command comes out as output if print() is not used"
   ]
  },
  {
   "cell_type": "markdown",
   "id": "91c8d18c",
   "metadata": {},
   "source": [
    "Boolean data Type"
   ]
  },
  {
   "cell_type": "code",
   "execution_count": 46,
   "id": "b8ad3706",
   "metadata": {},
   "outputs": [
    {
     "data": {
      "text/plain": [
       "True"
      ]
     },
     "execution_count": 46,
     "metadata": {},
     "output_type": "execute_result"
    }
   ],
   "source": [
    "5==5"
   ]
  },
  {
   "cell_type": "code",
   "execution_count": 47,
   "id": "fae01cc5",
   "metadata": {},
   "outputs": [
    {
     "data": {
      "text/plain": [
       "False"
      ]
     },
     "execution_count": 47,
     "metadata": {},
     "output_type": "execute_result"
    }
   ],
   "source": [
    "5==10"
   ]
  },
  {
   "cell_type": "code",
   "execution_count": 48,
   "id": "5db9ec27",
   "metadata": {},
   "outputs": [
    {
     "data": {
      "text/plain": [
       "True"
      ]
     },
     "execution_count": 48,
     "metadata": {},
     "output_type": "execute_result"
    }
   ],
   "source": [
    "5*2==10"
   ]
  },
  {
   "cell_type": "code",
   "execution_count": 49,
   "id": "ba3b2a9e",
   "metadata": {},
   "outputs": [
    {
     "data": {
      "text/plain": [
       "True"
      ]
     },
     "execution_count": 49,
     "metadata": {},
     "output_type": "execute_result"
    }
   ],
   "source": [
    "5!=2  #  != is the not equal to sign"
   ]
  },
  {
   "cell_type": "code",
   "execution_count": 50,
   "id": "3d38d7a4",
   "metadata": {},
   "outputs": [
    {
     "data": {
      "text/plain": [
       "False"
      ]
     },
     "execution_count": 50,
     "metadata": {},
     "output_type": "execute_result"
    }
   ],
   "source": [
    "4!=4"
   ]
  },
  {
   "cell_type": "code",
   "execution_count": 51,
   "id": "b7f0f2fe",
   "metadata": {},
   "outputs": [
    {
     "data": {
      "text/plain": [
       "False"
      ]
     },
     "execution_count": 51,
     "metadata": {},
     "output_type": "execute_result"
    }
   ],
   "source": [
    "5<2"
   ]
  },
  {
   "cell_type": "markdown",
   "id": "d525b22e",
   "metadata": {},
   "source": [
    "# Type Casting"
   ]
  },
  {
   "cell_type": "raw",
   "id": "0aa9258e",
   "metadata": {},
   "source": [
    "Type Casting= Converting from one data type to another"
   ]
  },
  {
   "cell_type": "code",
   "execution_count": 52,
   "id": "44b2d4d4",
   "metadata": {},
   "outputs": [
    {
     "data": {
      "text/plain": [
       "5"
      ]
     },
     "execution_count": 52,
     "metadata": {},
     "output_type": "execute_result"
    }
   ],
   "source": [
    "int(5.0)  #converting float to int"
   ]
  },
  {
   "cell_type": "code",
   "execution_count": 53,
   "id": "e7524af3",
   "metadata": {},
   "outputs": [
    {
     "data": {
      "text/plain": [
       "5"
      ]
     },
     "execution_count": 53,
     "metadata": {},
     "output_type": "execute_result"
    }
   ],
   "source": [
    "int(5.5)  #converting float to int"
   ]
  },
  {
   "cell_type": "code",
   "execution_count": 55,
   "id": "ed4b9f03",
   "metadata": {},
   "outputs": [
    {
     "data": {
      "text/plain": [
       "5"
      ]
     },
     "execution_count": 55,
     "metadata": {},
     "output_type": "execute_result"
    }
   ],
   "source": [
    "int(5.9)  #converting float to int is not same as rounding off"
   ]
  },
  {
   "cell_type": "code",
   "execution_count": 56,
   "id": "12ff0710",
   "metadata": {},
   "outputs": [
    {
     "data": {
      "text/plain": [
       "float"
      ]
     },
     "execution_count": 56,
     "metadata": {},
     "output_type": "execute_result"
    }
   ],
   "source": [
    "#How to find the data type?\n",
    "type(10.0)"
   ]
  },
  {
   "cell_type": "code",
   "execution_count": 57,
   "id": "d583dbfe",
   "metadata": {},
   "outputs": [
    {
     "data": {
      "text/plain": [
       "str"
      ]
     },
     "execution_count": 57,
     "metadata": {},
     "output_type": "execute_result"
    }
   ],
   "source": [
    "type(\"Sayan\")"
   ]
  },
  {
   "cell_type": "code",
   "execution_count": 58,
   "id": "b1f66f2d",
   "metadata": {},
   "outputs": [
    {
     "data": {
      "text/plain": [
       "int"
      ]
     },
     "execution_count": 58,
     "metadata": {},
     "output_type": "execute_result"
    }
   ],
   "source": [
    "a=10\n",
    "type(a)"
   ]
  },
  {
   "cell_type": "code",
   "execution_count": 63,
   "id": "85a80b07",
   "metadata": {},
   "outputs": [
    {
     "data": {
      "text/plain": [
       "'10'"
      ]
     },
     "execution_count": 63,
     "metadata": {},
     "output_type": "execute_result"
    }
   ],
   "source": [
    "(str(a)) #converting integer to string"
   ]
  },
  {
   "cell_type": "code",
   "execution_count": 61,
   "id": "7cad3aa2",
   "metadata": {},
   "outputs": [],
   "source": [
    "# It is possible to convert integer to string but it is not possible to convert string to integer"
   ]
  },
  {
   "cell_type": "code",
   "execution_count": 64,
   "id": "0a21bb9b",
   "metadata": {},
   "outputs": [
    {
     "data": {
      "text/plain": [
       "int"
      ]
     },
     "execution_count": 64,
     "metadata": {},
     "output_type": "execute_result"
    }
   ],
   "source": [
    "type(a)"
   ]
  },
  {
   "cell_type": "code",
   "execution_count": 65,
   "id": "db5da8bd",
   "metadata": {},
   "outputs": [
    {
     "data": {
      "text/plain": [
       "str"
      ]
     },
     "execution_count": 65,
     "metadata": {},
     "output_type": "execute_result"
    }
   ],
   "source": [
    "b=(str(a)) \n",
    "type(b)"
   ]
  },
  {
   "cell_type": "markdown",
   "id": "4b8845a2",
   "metadata": {},
   "source": [
    "# Python always takes input as string"
   ]
  },
  {
   "cell_type": "code",
   "execution_count": 66,
   "id": "27b93e61",
   "metadata": {},
   "outputs": [
    {
     "name": "stdout",
     "output_type": "stream",
     "text": [
      "enter first number 10\n",
      "10\n",
      "<class 'str'>\n"
     ]
    }
   ],
   "source": [
    "x=input(\"enter first number \")\n",
    "print(x)\n",
    "print(type(x))                  #Python always takes input as string"
   ]
  },
  {
   "cell_type": "code",
   "execution_count": 68,
   "id": "be828a57",
   "metadata": {},
   "outputs": [
    {
     "name": "stdout",
     "output_type": "stream",
     "text": [
      "enter first number 10\n",
      "10\n",
      "<class 'int'>\n"
     ]
    }
   ],
   "source": [
    "#Now doing the type casting\n",
    "x=int(input(\"enter first number \"))    #Doing the type casting\n",
    "print(x)\n",
    "print(type(x))"
   ]
  },
  {
   "cell_type": "code",
   "execution_count": null,
   "id": "2804d0e4",
   "metadata": {},
   "outputs": [],
   "source": []
  }
 ],
 "metadata": {
  "kernelspec": {
   "display_name": "Python 3",
   "language": "python",
   "name": "python3"
  },
  "language_info": {
   "codemirror_mode": {
    "name": "ipython",
    "version": 3
   },
   "file_extension": ".py",
   "mimetype": "text/x-python",
   "name": "python",
   "nbconvert_exporter": "python",
   "pygments_lexer": "ipython3",
   "version": "3.8.8"
  }
 },
 "nbformat": 4,
 "nbformat_minor": 5
}
