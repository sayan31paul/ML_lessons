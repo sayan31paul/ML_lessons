{
 "cells": [
  {
   "cell_type": "raw",
   "id": "0d8395b3",
   "metadata": {},
   "source": [
    "What is a file?\n",
    "\n",
    "File is a named location on disk to stoke related information. It is used to permanently store data in a non-volatile memory\n",
    "\n",
    "Since,random access memory(RAM) is volatile which loses its data when turned off,we use files for future use of data."
   ]
  },
  {
   "cell_type": "markdown",
   "id": "7bb29542",
   "metadata": {},
   "source": [
    "Python file modes"
   ]
  },
  {
   "cell_type": "raw",
   "id": "08d3aa2f",
   "metadata": {},
   "source": [
    "'r'-  Open a file for reading\n",
    "'w'-  Open a file for writing. Creates a new file if it doesnot exist or truncates(opens in jupiter notebook) the file if         it exists.\n",
    "'x'-  Open a file exclusively for creation. If the file already exists, the operation fails.\n",
    "'a'-  Open for appending at the end of the file without truncating it.\n",
    "'t'-  Open in text mode\n",
    "'b'-  Open in binary mode\n",
    "'+'-  Open a file for updating(Reading and writing)\n"
   ]
  },
  {
   "cell_type": "code",
   "execution_count": 1,
   "id": "eb3ded7c",
   "metadata": {},
   "outputs": [],
   "source": [
    "# f=open(\"test.txt\")      equivalent to r\n",
    "# f=open(\"test.txt\",'w')      Write in text mode\n",
    "# f=open(\"img.bmp\",'r+b')     Read and write in binary mode"
   ]
  },
  {
   "cell_type": "raw",
   "id": "d9291943",
   "metadata": {},
   "source": [
    "What is unicode?\n",
    "\n",
    "1.In computer systems, characters are transformed and stored as numbers(sequence of bits) that can be handled by the processor.\n",
    "2.A code page is an encoding scheme that maps a specific sequence of bits to its character representation.\n",
    "3.The pre-unicode world was populated with hundreds of encoding schemes that asigned a number to each letter or character.\n",
    "4.Many such schemes contained code pages that contained only 256 characters- each character requiring 8 bits of storage.\n",
    "\n",
    "Ex- We are creating a website in Hindi. It is not possible for spanish, english, german, japanese etc people to understand it. Unicode character set was created to convert one human language to multiple human languages without the need of creating the website in every language."
   ]
  },
  {
   "cell_type": "raw",
   "id": "26c3b547",
   "metadata": {},
   "source": [
    "The importance of unicode:\n",
    "1. From a translation/localization point of view, unicode is an important step towards standarization, at least from a tools and file format standpoint.\n",
    "2. Unicode enables a single software product or a single website to be designed on multiple platforms, languages and countries which can lead to a significant reduction in cost over the use of legacy character sets.\n"
   ]
  },
  {
   "cell_type": "raw",
   "id": "90e45b56",
   "metadata": {},
   "source": [
    "UTF 8 in used currently"
   ]
  },
  {
   "cell_type": "raw",
   "id": "c1527b01",
   "metadata": {},
   "source": [
    "Close a file\n",
    "f=open(\"test.txt\",encoding='utf-8')\n",
    "#preform the operation\n",
    "f.close()"
   ]
  },
  {
   "cell_type": "code",
   "execution_count": 3,
   "id": "ccc79e5c",
   "metadata": {},
   "outputs": [],
   "source": [
    "savefile=open('E:\\\\Python\\Dec12file.txt','w')#creating a new file with the name Dec12file in the folder Python in E drive"
   ]
  },
  {
   "cell_type": "code",
   "execution_count": 4,
   "id": "dee512c1",
   "metadata": {},
   "outputs": [
    {
     "data": {
      "text/plain": [
       "22"
      ]
     },
     "execution_count": 4,
     "metadata": {},
     "output_type": "execute_result"
    }
   ],
   "source": [
    "savefile.write(\"This is the first line\")"
   ]
  },
  {
   "cell_type": "code",
   "execution_count": 5,
   "id": "e4aa751f",
   "metadata": {},
   "outputs": [],
   "source": [
    "savefile.close()"
   ]
  },
  {
   "cell_type": "code",
   "execution_count": 6,
   "id": "7ea6e18b",
   "metadata": {},
   "outputs": [],
   "source": [
    "readme=open('E:\\\\Python\\Dec12file.txt','r') #open the file in read mode"
   ]
  },
  {
   "cell_type": "code",
   "execution_count": 8,
   "id": "24bdc917",
   "metadata": {},
   "outputs": [
    {
     "name": "stdout",
     "output_type": "stream",
     "text": [
      "This is the first line\n"
     ]
    }
   ],
   "source": [
    "print(readme.read())"
   ]
  },
  {
   "cell_type": "code",
   "execution_count": 10,
   "id": "40d4f8a0",
   "metadata": {},
   "outputs": [],
   "source": [
    "readme.close()#We will have to close a file everytime we open it(be it any mode)"
   ]
  },
  {
   "cell_type": "code",
   "execution_count": 11,
   "id": "1de9ca49",
   "metadata": {},
   "outputs": [],
   "source": [
    "appendfile=open('E:\\\\Python\\Dec12file.txt','a') #opening a file in append mode"
   ]
  },
  {
   "cell_type": "code",
   "execution_count": 13,
   "id": "f3e3769f",
   "metadata": {},
   "outputs": [
    {
     "data": {
      "text/plain": [
       "32"
      ]
     },
     "execution_count": 13,
     "metadata": {},
     "output_type": "execute_result"
    }
   ],
   "source": [
    "appendfile.write('\\n Lets add this in the next line') #writing the new line# \\n indicates next line."
   ]
  },
  {
   "cell_type": "code",
   "execution_count": 14,
   "id": "ba9aadac",
   "metadata": {},
   "outputs": [],
   "source": [
    "appendfile.close()"
   ]
  },
  {
   "cell_type": "code",
   "execution_count": 15,
   "id": "679555da",
   "metadata": {},
   "outputs": [],
   "source": [
    "readme=open('E:\\\\Python\\Dec12file.txt','r')"
   ]
  },
  {
   "cell_type": "code",
   "execution_count": 16,
   "id": "45043894",
   "metadata": {},
   "outputs": [
    {
     "name": "stdout",
     "output_type": "stream",
     "text": [
      "This is the first line\n",
      " Lets add this in the next line\n"
     ]
    }
   ],
   "source": [
    "print(readme.read())"
   ]
  },
  {
   "cell_type": "code",
   "execution_count": 17,
   "id": "86e95418",
   "metadata": {},
   "outputs": [],
   "source": [
    "readme.close()"
   ]
  },
  {
   "cell_type": "markdown",
   "id": "1aa571db",
   "metadata": {},
   "source": [
    "# Object serialization"
   ]
  },
  {
   "cell_type": "code",
   "execution_count": 18,
   "id": "5a94ddca",
   "metadata": {},
   "outputs": [],
   "source": [
    "#pickle library helps in object serialization.\n",
    "#Object serialization is heavily used in machine learning."
   ]
  },
  {
   "cell_type": "raw",
   "id": "18a51ab0",
   "metadata": {},
   "source": [
    "1. Pickle is used for serializing and deserializing Python object structures, also called marshalling or flattering.\n",
    "2. Serialization refers to the process of converting an object in memory to a byte stream that can be stored on disk or sent over a network\n",
    "3. Later on, this character stream can be retrived and de-serialized back to Python object."
   ]
  },
  {
   "cell_type": "code",
   "execution_count": 2,
   "id": "27e68892",
   "metadata": {},
   "outputs": [],
   "source": [
    "import pickle"
   ]
  },
  {
   "cell_type": "code",
   "execution_count": 36,
   "id": "4026f755",
   "metadata": {},
   "outputs": [],
   "source": [
    "flower_dict={1:'Rose',2:'Lily',3:'Lotus',4:'Tulip'}"
   ]
  },
  {
   "cell_type": "code",
   "execution_count": 22,
   "id": "1a213db5",
   "metadata": {},
   "outputs": [],
   "source": [
    "outfile=open('flower1.obj','wb')# flower1.obj is the new file created in homepage.\n",
    "#wb-write binary- write the file in binary mode"
   ]
  },
  {
   "cell_type": "code",
   "execution_count": 23,
   "id": "77c6c20d",
   "metadata": {},
   "outputs": [],
   "source": [
    "#pickle the file\n",
    "#dump object serialize\n",
    "pickle.dump(flower_dict,outfile) #dump dlower_dict into outfile\n",
    "outfile.close()"
   ]
  },
  {
   "cell_type": "code",
   "execution_count": 3,
   "id": "02df335a",
   "metadata": {},
   "outputs": [],
   "source": [
    "#unpickle the file\n",
    "infile=open('flower1.obj','rb') #rb-read binary file\n",
    "#Load method\n",
    "new_dict=pickle.load(infile) #unpickilng the file"
   ]
  },
  {
   "cell_type": "code",
   "execution_count": 4,
   "id": "9c3679a1",
   "metadata": {},
   "outputs": [
    {
     "data": {
      "text/plain": [
       "{1: 'Rose', 2: 'Lily', 3: 'Lotus', 4: 'tulip'}"
      ]
     },
     "execution_count": 4,
     "metadata": {},
     "output_type": "execute_result"
    }
   ],
   "source": [
    "new_dict"
   ]
  },
  {
   "cell_type": "code",
   "execution_count": 26,
   "id": "b7564385",
   "metadata": {},
   "outputs": [],
   "source": [
    "infile.close()"
   ]
  },
  {
   "cell_type": "code",
   "execution_count": 27,
   "id": "13adf483",
   "metadata": {},
   "outputs": [
    {
     "name": "stdout",
     "output_type": "stream",
     "text": [
      "{1: 'Rose', 2: 'Lily', 3: 'Lotus', 4: 'Tulip'}\n"
     ]
    }
   ],
   "source": [
    "print(new_dict) #printing the unpickled file."
   ]
  },
  {
   "cell_type": "code",
   "execution_count": 37,
   "id": "016afea6",
   "metadata": {},
   "outputs": [
    {
     "name": "stdout",
     "output_type": "stream",
     "text": [
      "True\n"
     ]
    }
   ],
   "source": [
    "print(new_dict==flower_dict) #checking whether new_dict ia same as flower_dict "
   ]
  },
  {
   "cell_type": "code",
   "execution_count": 32,
   "id": "7726d09a",
   "metadata": {},
   "outputs": [
    {
     "data": {
      "text/plain": [
       "dict"
      ]
     },
     "execution_count": 32,
     "metadata": {},
     "output_type": "execute_result"
    }
   ],
   "source": [
    "type(new_dict)"
   ]
  },
  {
   "cell_type": "markdown",
   "id": "0152c805",
   "metadata": {},
   "source": [
    "# Basics of python has been completed"
   ]
  },
  {
   "cell_type": "code",
   "execution_count": null,
   "id": "329091be",
   "metadata": {},
   "outputs": [],
   "source": []
  },
  {
   "cell_type": "markdown",
   "id": "f428508a",
   "metadata": {},
   "source": [
    "# DATABASES"
   ]
  },
  {
   "cell_type": "raw",
   "id": "2b8199a3",
   "metadata": {},
   "source": [
    "table= collection of rows and columns.\n",
    "Primary key= All the data  in this column should be unique and not null.Primary key is used for combining two tables."
   ]
  },
  {
   "cell_type": "raw",
   "id": "9c574b11",
   "metadata": {},
   "source": [
    "Referential integrity:- Data should be present in the primary key, then only we can enter the data into the foreign key."
   ]
  },
  {
   "cell_type": "raw",
   "id": "6e45a977",
   "metadata": {},
   "source": [
    "Database- collection of tables which are logically related to each other. There is referential integirty between the tables.\n",
    "Ex- In university database, all tables should be related to university.\n",
    "    In enployee database, all tables should be realted to employee.\n",
    "    In movie database, all tables should be related to movies."
   ]
  },
  {
   "cell_type": "raw",
   "id": "de8496d2",
   "metadata": {},
   "source": [
    "Database management system is used to interact with database.\n",
    "Ex-sqllite.\n",
    "sqllite is already present in anaconda."
   ]
  },
  {
   "cell_type": "code",
   "execution_count": null,
   "id": "6723e5bc",
   "metadata": {},
   "outputs": [],
   "source": []
  },
  {
   "cell_type": "code",
   "execution_count": null,
   "id": "9270e578",
   "metadata": {},
   "outputs": [],
   "source": []
  },
  {
   "cell_type": "code",
   "execution_count": null,
   "id": "552d242b",
   "metadata": {},
   "outputs": [],
   "source": []
  },
  {
   "cell_type": "code",
   "execution_count": null,
   "id": "492da1b1",
   "metadata": {},
   "outputs": [],
   "source": []
  },
  {
   "cell_type": "code",
   "execution_count": null,
   "id": "441c0a2e",
   "metadata": {},
   "outputs": [],
   "source": []
  }
 ],
 "metadata": {
  "kernelspec": {
   "display_name": "Python 3",
   "language": "python",
   "name": "python3"
  },
  "language_info": {
   "codemirror_mode": {
    "name": "ipython",
    "version": 3
   },
   "file_extension": ".py",
   "mimetype": "text/x-python",
   "name": "python",
   "nbconvert_exporter": "python",
   "pygments_lexer": "ipython3",
   "version": "3.8.8"
  }
 },
 "nbformat": 4,
 "nbformat_minor": 5
}
