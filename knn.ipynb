{
 "cells": [
  {
   "cell_type": "markdown",
   "id": "caeb2e38",
   "metadata": {},
   "source": [
    "# Name- Sayan Paul \n",
    "Scholar number -222115107"
   ]
  },
  {
   "cell_type": "markdown",
   "id": "d9913c2f",
   "metadata": {},
   "source": [
    "# Asignment number -1\n",
    "Asignment date- 06/01/2023"
   ]
  },
  {
   "cell_type": "code",
   "execution_count": 87,
   "id": "76b9a803",
   "metadata": {},
   "outputs": [],
   "source": [
    "import pandas as pd\n",
    "import numpy as np"
   ]
  },
  {
   "cell_type": "code",
   "execution_count": 88,
   "id": "daf71685",
   "metadata": {},
   "outputs": [],
   "source": [
    "import random "
   ]
  },
  {
   "cell_type": "code",
   "execution_count": 89,
   "id": "81de7f09",
   "metadata": {},
   "outputs": [],
   "source": [
    "from sklearn.neighbors import NearestNeighbors"
   ]
  },
  {
   "cell_type": "code",
   "execution_count": 90,
   "id": "1d1d74b4",
   "metadata": {},
   "outputs": [],
   "source": [
    "a = np.random.randint(0,50,size=500)"
   ]
  },
  {
   "cell_type": "code",
   "execution_count": 91,
   "id": "53ef0c55",
   "metadata": {},
   "outputs": [
    {
     "data": {
      "text/plain": [
       "array([25, 20, 10, 24, 38,  3, 16, 42, 40, 36, 45,  7,  3, 41,  5, 11, 30,\n",
       "       28, 35, 28, 23, 30, 18, 42,  5, 22, 27, 23, 28, 29, 13, 22,  9, 45,\n",
       "       47, 25, 26, 43, 39, 43, 26, 10, 42, 15, 40, 34,  4, 46,  9, 34, 16,\n",
       "       34, 33,  5, 46, 44, 47, 14,  3,  9, 17, 32, 15,  7,  5, 30, 25,  4,\n",
       "       25, 44, 49, 47, 10, 26, 12, 48, 36, 49,  1, 21, 13, 24, 15, 18, 38,\n",
       "       27, 33, 36, 36, 24, 43, 29,  4, 20, 49,  5, 36, 13, 12, 18, 14,  2,\n",
       "        9, 29, 44, 21, 41, 20, 15, 33, 17, 47, 19, 14, 20, 13, 25, 41, 11,\n",
       "        7,  8, 27, 16, 26,  4, 18,  6, 13, 45,  9, 29, 17, 34,  3, 42,  0,\n",
       "        4, 24, 30, 49, 23, 15, 34,  8, 40, 22,  0,  5, 46, 42, 28, 19, 13,\n",
       "       10, 25, 32, 19, 45,  0,  5, 11, 33, 20,  2, 28, 13,  2, 48, 14, 32,\n",
       "       22,  6, 10, 28, 40, 42, 36,  2,  7, 30,  9, 22, 12, 49, 29, 12, 47,\n",
       "       20, 23, 35, 13,  9, 40, 28, 14, 36, 24, 15,  7,  7, 16, 33,  3, 45,\n",
       "       31, 29, 25, 13, 40, 23, 11, 33,  2, 12, 34, 33, 39, 17,  9, 25, 40,\n",
       "       21, 12, 40,  2, 14, 11, 21, 40, 15, 47, 43, 43, 42, 38, 23, 11, 24,\n",
       "       47, 19, 29, 20, 28, 12, 41, 25, 44, 11, 45, 19, 39, 39, 20, 12,  9,\n",
       "       46, 48, 49, 36, 18, 15, 33, 40, 28, 24, 42,  6, 35, 23, 26, 31, 19,\n",
       "       36, 27,  7, 16, 43, 15, 35,  4,  7,  0, 46, 16, 27, 49, 21, 31, 27,\n",
       "       41, 44, 28, 23, 49, 11,  8,  6, 40, 21, 42, 38, 21, 45,  6, 24, 36,\n",
       "       16,  2, 40, 23, 10, 35, 31,  4, 42, 20, 40, 47, 43, 32, 29, 31, 30,\n",
       "       43, 45, 49,  6, 15,  7, 41,  3,  8, 17,  3, 10, 13, 36, 43, 18, 32,\n",
       "       37, 16, 17, 45, 34, 36, 38, 41, 29, 40, 30,  5, 12,  1,  3, 11, 22,\n",
       "       27, 26, 39, 45,  2, 29, 44, 23, 27, 40, 23, 36, 49, 49, 42, 30, 24,\n",
       "       12, 37,  6, 27,  1, 36, 18, 26, 45, 39, 49, 31,  9, 39, 25, 35,  6,\n",
       "       42, 25, 10, 39,  5, 45,  6, 35,  7, 11,  1,  7, 21, 15, 48, 19, 21,\n",
       "        9, 36, 13,  1,  3, 41, 21, 10, 15, 11, 21,  8, 41, 40, 19, 36,  4,\n",
       "       36, 41, 17, 39, 19,  8,  1, 46, 40,  1, 35, 33, 23, 34, 41,  1, 14,\n",
       "       18, 48, 49, 23, 45, 14, 26,  2,  0, 37, 48, 17, 40, 46, 36, 11, 38,\n",
       "       27,  4, 15, 10,  9, 32, 15,  0, 31, 32, 22, 45, 38, 25, 41, 25, 20,\n",
       "       40, 43, 37,  4, 19, 11, 38, 34, 39, 10,  1, 33, 32, 31, 14, 47, 45,\n",
       "       21, 42,  9,  4, 42, 27, 40])"
      ]
     },
     "execution_count": 91,
     "metadata": {},
     "output_type": "execute_result"
    }
   ],
   "source": [
    "a"
   ]
  },
  {
   "cell_type": "code",
   "execution_count": 92,
   "id": "70c45f50",
   "metadata": {},
   "outputs": [],
   "source": [
    "b=a.reshape(250,2)"
   ]
  },
  {
   "cell_type": "code",
   "execution_count": 93,
   "id": "30cbbc78",
   "metadata": {},
   "outputs": [
    {
     "data": {
      "text/plain": [
       "array([[25, 20],\n",
       "       [10, 24],\n",
       "       [38,  3],\n",
       "       [16, 42],\n",
       "       [40, 36],\n",
       "       [45,  7],\n",
       "       [ 3, 41],\n",
       "       [ 5, 11],\n",
       "       [30, 28],\n",
       "       [35, 28],\n",
       "       [23, 30],\n",
       "       [18, 42],\n",
       "       [ 5, 22],\n",
       "       [27, 23],\n",
       "       [28, 29],\n",
       "       [13, 22],\n",
       "       [ 9, 45],\n",
       "       [47, 25],\n",
       "       [26, 43],\n",
       "       [39, 43],\n",
       "       [26, 10],\n",
       "       [42, 15],\n",
       "       [40, 34],\n",
       "       [ 4, 46],\n",
       "       [ 9, 34],\n",
       "       [16, 34],\n",
       "       [33,  5],\n",
       "       [46, 44],\n",
       "       [47, 14],\n",
       "       [ 3,  9],\n",
       "       [17, 32],\n",
       "       [15,  7],\n",
       "       [ 5, 30],\n",
       "       [25,  4],\n",
       "       [25, 44],\n",
       "       [49, 47],\n",
       "       [10, 26],\n",
       "       [12, 48],\n",
       "       [36, 49],\n",
       "       [ 1, 21],\n",
       "       [13, 24],\n",
       "       [15, 18],\n",
       "       [38, 27],\n",
       "       [33, 36],\n",
       "       [36, 24],\n",
       "       [43, 29],\n",
       "       [ 4, 20],\n",
       "       [49,  5],\n",
       "       [36, 13],\n",
       "       [12, 18],\n",
       "       [14,  2],\n",
       "       [ 9, 29],\n",
       "       [44, 21],\n",
       "       [41, 20],\n",
       "       [15, 33],\n",
       "       [17, 47],\n",
       "       [19, 14],\n",
       "       [20, 13],\n",
       "       [25, 41],\n",
       "       [11,  7],\n",
       "       [ 8, 27],\n",
       "       [16, 26],\n",
       "       [ 4, 18],\n",
       "       [ 6, 13],\n",
       "       [45,  9],\n",
       "       [29, 17],\n",
       "       [34,  3],\n",
       "       [42,  0],\n",
       "       [ 4, 24],\n",
       "       [30, 49],\n",
       "       [23, 15],\n",
       "       [34,  8],\n",
       "       [40, 22],\n",
       "       [ 0,  5],\n",
       "       [46, 42],\n",
       "       [28, 19],\n",
       "       [13, 10],\n",
       "       [25, 32],\n",
       "       [19, 45],\n",
       "       [ 0,  5],\n",
       "       [11, 33],\n",
       "       [20,  2],\n",
       "       [28, 13],\n",
       "       [ 2, 48],\n",
       "       [14, 32],\n",
       "       [22,  6],\n",
       "       [10, 28],\n",
       "       [40, 42],\n",
       "       [36,  2],\n",
       "       [ 7, 30],\n",
       "       [ 9, 22],\n",
       "       [12, 49],\n",
       "       [29, 12],\n",
       "       [47, 20],\n",
       "       [23, 35],\n",
       "       [13,  9],\n",
       "       [40, 28],\n",
       "       [14, 36],\n",
       "       [24, 15],\n",
       "       [ 7,  7],\n",
       "       [16, 33],\n",
       "       [ 3, 45],\n",
       "       [31, 29],\n",
       "       [25, 13],\n",
       "       [40, 23],\n",
       "       [11, 33],\n",
       "       [ 2, 12],\n",
       "       [34, 33],\n",
       "       [39, 17],\n",
       "       [ 9, 25],\n",
       "       [40, 21],\n",
       "       [12, 40],\n",
       "       [ 2, 14],\n",
       "       [11, 21],\n",
       "       [40, 15],\n",
       "       [47, 43],\n",
       "       [43, 42],\n",
       "       [38, 23],\n",
       "       [11, 24],\n",
       "       [47, 19],\n",
       "       [29, 20],\n",
       "       [28, 12],\n",
       "       [41, 25],\n",
       "       [44, 11],\n",
       "       [45, 19],\n",
       "       [39, 39],\n",
       "       [20, 12],\n",
       "       [ 9, 46],\n",
       "       [48, 49],\n",
       "       [36, 18],\n",
       "       [15, 33],\n",
       "       [40, 28],\n",
       "       [24, 42],\n",
       "       [ 6, 35],\n",
       "       [23, 26],\n",
       "       [31, 19],\n",
       "       [36, 27],\n",
       "       [ 7, 16],\n",
       "       [43, 15],\n",
       "       [35,  4],\n",
       "       [ 7,  0],\n",
       "       [46, 16],\n",
       "       [27, 49],\n",
       "       [21, 31],\n",
       "       [27, 41],\n",
       "       [44, 28],\n",
       "       [23, 49],\n",
       "       [11,  8],\n",
       "       [ 6, 40],\n",
       "       [21, 42],\n",
       "       [38, 21],\n",
       "       [45,  6],\n",
       "       [24, 36],\n",
       "       [16,  2],\n",
       "       [40, 23],\n",
       "       [10, 35],\n",
       "       [31,  4],\n",
       "       [42, 20],\n",
       "       [40, 47],\n",
       "       [43, 32],\n",
       "       [29, 31],\n",
       "       [30, 43],\n",
       "       [45, 49],\n",
       "       [ 6, 15],\n",
       "       [ 7, 41],\n",
       "       [ 3,  8],\n",
       "       [17,  3],\n",
       "       [10, 13],\n",
       "       [36, 43],\n",
       "       [18, 32],\n",
       "       [37, 16],\n",
       "       [17, 45],\n",
       "       [34, 36],\n",
       "       [38, 41],\n",
       "       [29, 40],\n",
       "       [30,  5],\n",
       "       [12,  1],\n",
       "       [ 3, 11],\n",
       "       [22, 27],\n",
       "       [26, 39],\n",
       "       [45,  2],\n",
       "       [29, 44],\n",
       "       [23, 27],\n",
       "       [40, 23],\n",
       "       [36, 49],\n",
       "       [49, 42],\n",
       "       [30, 24],\n",
       "       [12, 37],\n",
       "       [ 6, 27],\n",
       "       [ 1, 36],\n",
       "       [18, 26],\n",
       "       [45, 39],\n",
       "       [49, 31],\n",
       "       [ 9, 39],\n",
       "       [25, 35],\n",
       "       [ 6, 42],\n",
       "       [25, 10],\n",
       "       [39,  5],\n",
       "       [45,  6],\n",
       "       [35,  7],\n",
       "       [11,  1],\n",
       "       [ 7, 21],\n",
       "       [15, 48],\n",
       "       [19, 21],\n",
       "       [ 9, 36],\n",
       "       [13,  1],\n",
       "       [ 3, 41],\n",
       "       [21, 10],\n",
       "       [15, 11],\n",
       "       [21,  8],\n",
       "       [41, 40],\n",
       "       [19, 36],\n",
       "       [ 4, 36],\n",
       "       [41, 17],\n",
       "       [39, 19],\n",
       "       [ 8,  1],\n",
       "       [46, 40],\n",
       "       [ 1, 35],\n",
       "       [33, 23],\n",
       "       [34, 41],\n",
       "       [ 1, 14],\n",
       "       [18, 48],\n",
       "       [49, 23],\n",
       "       [45, 14],\n",
       "       [26,  2],\n",
       "       [ 0, 37],\n",
       "       [48, 17],\n",
       "       [40, 46],\n",
       "       [36, 11],\n",
       "       [38, 27],\n",
       "       [ 4, 15],\n",
       "       [10,  9],\n",
       "       [32, 15],\n",
       "       [ 0, 31],\n",
       "       [32, 22],\n",
       "       [45, 38],\n",
       "       [25, 41],\n",
       "       [25, 20],\n",
       "       [40, 43],\n",
       "       [37,  4],\n",
       "       [19, 11],\n",
       "       [38, 34],\n",
       "       [39, 10],\n",
       "       [ 1, 33],\n",
       "       [32, 31],\n",
       "       [14, 47],\n",
       "       [45, 21],\n",
       "       [42,  9],\n",
       "       [ 4, 42],\n",
       "       [27, 40]])"
      ]
     },
     "execution_count": 93,
     "metadata": {},
     "output_type": "execute_result"
    }
   ],
   "source": [
    "b"
   ]
  },
  {
   "cell_type": "code",
   "execution_count": 94,
   "id": "67dccfc9",
   "metadata": {},
   "outputs": [
    {
     "data": {
      "text/plain": [
       "NearestNeighbors(n_neighbors=3)"
      ]
     },
     "execution_count": 94,
     "metadata": {},
     "output_type": "execute_result"
    }
   ],
   "source": [
    "neigh3 = NearestNeighbors(n_neighbors=3)\n",
    "neigh3.fit(b)"
   ]
  },
  {
   "cell_type": "code",
   "execution_count": 95,
   "id": "e05445f5",
   "metadata": {},
   "outputs": [
    {
     "data": {
      "text/plain": [
       "NearestNeighbors()"
      ]
     },
     "execution_count": 95,
     "metadata": {},
     "output_type": "execute_result"
    }
   ],
   "source": [
    "neigh5 = NearestNeighbors(n_neighbors=5)\n",
    "neigh5.fit(b)"
   ]
  },
  {
   "cell_type": "code",
   "execution_count": 96,
   "id": "fd0c84fd",
   "metadata": {},
   "outputs": [
    {
     "data": {
      "text/plain": [
       "NearestNeighbors(n_neighbors=7)"
      ]
     },
     "execution_count": 96,
     "metadata": {},
     "output_type": "execute_result"
    }
   ],
   "source": [
    "neigh7 = NearestNeighbors(n_neighbors=7)\n",
    "neigh7.fit(b)"
   ]
  },
  {
   "cell_type": "code",
   "execution_count": 97,
   "id": "c085debf",
   "metadata": {},
   "outputs": [],
   "source": [
    "X = np.random.randint(0,50,size=20).reshape(10,2)\n",
    "#new_b = np.random.randint(0,50,size=10).reshape(-1,1)"
   ]
  },
  {
   "cell_type": "code",
   "execution_count": 98,
   "id": "6bffe97b",
   "metadata": {},
   "outputs": [
    {
     "data": {
      "text/plain": [
       "array([[35,  9],\n",
       "       [ 4, 35],\n",
       "       [44, 21],\n",
       "       [25, 36],\n",
       "       [36,  6],\n",
       "       [26,  8],\n",
       "       [17, 14],\n",
       "       [ 8, 26],\n",
       "       [ 5, 16],\n",
       "       [37,  6]])"
      ]
     },
     "execution_count": 98,
     "metadata": {},
     "output_type": "execute_result"
    }
   ],
   "source": [
    "X"
   ]
  },
  {
   "cell_type": "code",
   "execution_count": 99,
   "id": "1a457f0d",
   "metadata": {},
   "outputs": [],
   "source": [
    "#for i in \n",
    "z=neigh3.kneighbors(X,n_neighbors=1,return_distance=False)"
   ]
  },
  {
   "cell_type": "code",
   "execution_count": 100,
   "id": "059f90b8",
   "metadata": {},
   "outputs": [
    {
     "data": {
      "text/plain": [
       "array([[ 71],\n",
       "       [212],\n",
       "       [ 52],\n",
       "       [152],\n",
       "       [199],\n",
       "       [ 20],\n",
       "       [ 56],\n",
       "       [ 60],\n",
       "       [163],\n",
       "       [239]], dtype=int64)"
      ]
     },
     "execution_count": 100,
     "metadata": {},
     "output_type": "execute_result"
    }
   ],
   "source": [
    "z"
   ]
  },
  {
   "cell_type": "code",
   "execution_count": 101,
   "id": "639ca5f2",
   "metadata": {},
   "outputs": [],
   "source": [
    "list_z=[]"
   ]
  },
  {
   "cell_type": "code",
   "execution_count": 102,
   "id": "c01589d3",
   "metadata": {},
   "outputs": [],
   "source": [
    "for i in z:\n",
    "    for j in i:\n",
    "        list_z.append(j)\n",
    "        "
   ]
  },
  {
   "cell_type": "code",
   "execution_count": 103,
   "id": "d06d55a1",
   "metadata": {},
   "outputs": [
    {
     "data": {
      "text/plain": [
       "[71, 212, 52, 152, 199, 20, 56, 60, 163, 239]"
      ]
     },
     "execution_count": 103,
     "metadata": {},
     "output_type": "execute_result"
    }
   ],
   "source": [
    "list_z"
   ]
  },
  {
   "cell_type": "code",
   "execution_count": 104,
   "id": "a6cdc34b",
   "metadata": {},
   "outputs": [],
   "source": [
    "list_X=[]"
   ]
  },
  {
   "cell_type": "code",
   "execution_count": 105,
   "id": "ced99076",
   "metadata": {},
   "outputs": [],
   "source": [
    "for i in X:\n",
    "    list_X.append(list(i))"
   ]
  },
  {
   "cell_type": "code",
   "execution_count": 106,
   "id": "b45ad2c2",
   "metadata": {},
   "outputs": [
    {
     "data": {
      "text/plain": [
       "[[35, 9],\n",
       " [4, 35],\n",
       " [44, 21],\n",
       " [25, 36],\n",
       " [36, 6],\n",
       " [26, 8],\n",
       " [17, 14],\n",
       " [8, 26],\n",
       " [5, 16],\n",
       " [37, 6]]"
      ]
     },
     "execution_count": 106,
     "metadata": {},
     "output_type": "execute_result"
    }
   ],
   "source": [
    "list_X"
   ]
  },
  {
   "cell_type": "code",
   "execution_count": 107,
   "id": "2be885a4",
   "metadata": {},
   "outputs": [],
   "source": [
    "list_a=[]\n",
    "for i in list_z:\n",
    "    list_a.append(list(b[i]))"
   ]
  },
  {
   "cell_type": "code",
   "execution_count": 108,
   "id": "a76020a0",
   "metadata": {},
   "outputs": [
    {
     "data": {
      "text/plain": [
       "[[34, 8],\n",
       " [4, 36],\n",
       " [44, 21],\n",
       " [24, 36],\n",
       " [35, 7],\n",
       " [26, 10],\n",
       " [19, 14],\n",
       " [8, 27],\n",
       " [6, 15],\n",
       " [37, 4]]"
      ]
     },
     "execution_count": 108,
     "metadata": {},
     "output_type": "execute_result"
    }
   ],
   "source": [
    "list_a"
   ]
  },
  {
   "cell_type": "code",
   "execution_count": 109,
   "id": "7dbd0373",
   "metadata": {},
   "outputs": [
    {
     "name": "stdout",
     "output_type": "stream",
     "text": [
      "Nearest point to [35, 9] is [34, 8]\n",
      "Nearest point to [4, 35] is [4, 36]\n",
      "Nearest point to [44, 21] is [44, 21]\n",
      "Nearest point to [25, 36] is [24, 36]\n",
      "Nearest point to [36, 6] is [35, 7]\n",
      "Nearest point to [26, 8] is [26, 10]\n",
      "Nearest point to [17, 14] is [19, 14]\n",
      "Nearest point to [8, 26] is [8, 27]\n",
      "Nearest point to [5, 16] is [6, 15]\n",
      "Nearest point to [37, 6] is [37, 4]\n"
     ]
    }
   ],
   "source": [
    "for i in range(10):\n",
    "    print(\"Nearest point to\", list_X[i], \"is\", list_a[i])"
   ]
  },
  {
   "cell_type": "markdown",
   "id": "cc56e920",
   "metadata": {},
   "source": [
    "# Entending the code to n-dimensional space"
   ]
  },
  {
   "cell_type": "code",
   "execution_count": 110,
   "id": "0cfd4952",
   "metadata": {},
   "outputs": [
    {
     "name": "stdout",
     "output_type": "stream",
     "text": [
      "Enter the number of points10\n"
     ]
    }
   ],
   "source": [
    "n=int(input(\"Enter the number of points\"))"
   ]
  },
  {
   "cell_type": "code",
   "execution_count": 111,
   "id": "772a55c0",
   "metadata": {},
   "outputs": [],
   "source": [
    "X_n = np.random.randint(0,50,size=(2*n)).reshape(n,2)"
   ]
  },
  {
   "cell_type": "code",
   "execution_count": 112,
   "id": "401cbffd",
   "metadata": {},
   "outputs": [],
   "source": [
    "z=neigh3.kneighbors(X_n,n_neighbors=1,return_distance=False)"
   ]
  },
  {
   "cell_type": "code",
   "execution_count": 113,
   "id": "df7dd7da",
   "metadata": {},
   "outputs": [
    {
     "data": {
      "text/plain": [
       "array([[159],\n",
       "       [ 92],\n",
       "       [207],\n",
       "       [134],\n",
       "       [ 82],\n",
       "       [108],\n",
       "       [156],\n",
       "       [188],\n",
       "       [203],\n",
       "       [237]], dtype=int64)"
      ]
     },
     "execution_count": 113,
     "metadata": {},
     "output_type": "execute_result"
    }
   ],
   "source": [
    "z"
   ]
  },
  {
   "cell_type": "code",
   "execution_count": 114,
   "id": "67c4d3f0",
   "metadata": {},
   "outputs": [],
   "source": [
    "list_z_n=[]\n",
    "for i in z:\n",
    "    for j in i:\n",
    "        list_z_n.append(j)"
   ]
  },
  {
   "cell_type": "code",
   "execution_count": 123,
   "id": "1c62c50b",
   "metadata": {},
   "outputs": [
    {
     "data": {
      "text/plain": [
       "[159, 92, 207, 134, 82, 108, 156, 188, 203, 237]"
      ]
     },
     "execution_count": 123,
     "metadata": {},
     "output_type": "execute_result"
    }
   ],
   "source": [
    "list_z_n"
   ]
  },
  {
   "cell_type": "code",
   "execution_count": 115,
   "id": "f68ad49a",
   "metadata": {},
   "outputs": [],
   "source": [
    "list_x_n=[]\n",
    "for i in X_n:\n",
    "    list_x_n.append(list(i))"
   ]
  },
  {
   "cell_type": "code",
   "execution_count": 116,
   "id": "8fd14eee",
   "metadata": {},
   "outputs": [
    {
     "data": {
      "text/plain": [
       "[[43, 35],\n",
       " [29, 12],\n",
       " [21, 10],\n",
       " [23, 25],\n",
       " [27, 13],\n",
       " [39, 18],\n",
       " [31, 0],\n",
       " [7, 26],\n",
       " [19, 21],\n",
       " [26, 20]]"
      ]
     },
     "execution_count": 116,
     "metadata": {},
     "output_type": "execute_result"
    }
   ],
   "source": [
    "list_x_n"
   ]
  },
  {
   "cell_type": "code",
   "execution_count": 124,
   "id": "4c9eb237",
   "metadata": {},
   "outputs": [],
   "source": [
    "list_a_n=[]\n",
    "for i in list_z_n:\n",
    "    list_a_n.append(list(b[i]))"
   ]
  },
  {
   "cell_type": "code",
   "execution_count": 125,
   "id": "2fb896d6",
   "metadata": {},
   "outputs": [
    {
     "data": {
      "text/plain": [
       "[[43, 32],\n",
       " [29, 12],\n",
       " [21, 10],\n",
       " [23, 26],\n",
       " [28, 13],\n",
       " [39, 17],\n",
       " [31, 4],\n",
       " [6, 27],\n",
       " [19, 21],\n",
       " [25, 20]]"
      ]
     },
     "execution_count": 125,
     "metadata": {},
     "output_type": "execute_result"
    }
   ],
   "source": [
    "list_a_n"
   ]
  },
  {
   "cell_type": "code",
   "execution_count": null,
   "id": "4623a64a",
   "metadata": {},
   "outputs": [],
   "source": []
  }
 ],
 "metadata": {
  "kernelspec": {
   "display_name": "Python 3",
   "language": "python",
   "name": "python3"
  },
  "language_info": {
   "codemirror_mode": {
    "name": "ipython",
    "version": 3
   },
   "file_extension": ".py",
   "mimetype": "text/x-python",
   "name": "python",
   "nbconvert_exporter": "python",
   "pygments_lexer": "ipython3",
   "version": "3.8.8"
  }
 },
 "nbformat": 4,
 "nbformat_minor": 5
}
