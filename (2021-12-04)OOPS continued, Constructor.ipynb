{
 "cells": [
  {
   "cell_type": "raw",
   "id": "355e0ba8",
   "metadata": {},
   "source": [
    "Object/instance creation is necessary for accessing the data members and methods."
   ]
  },
  {
   "cell_type": "raw",
   "id": "7118f156",
   "metadata": {},
   "source": [
    "The basic idea of an object oriented programming system is to combine both data and associated problems into a single unit which operate on the data. Such a unit is called an object.\n",
    "\n",
    "Python is an object oriented programming language. Everything in python is an object."
   ]
  },
  {
   "cell_type": "raw",
   "id": "46585b29",
   "metadata": {},
   "source": [
    "A user-defined prototype for an object that defines a set of attributes that characterizes any object is called class.\n",
    "The attributes are data members(class variables and instance variables) and methods,accessed via dot notation.Classes provide a means of bundling data and functionality together.\n",
    "Creating a new class allows new object/instances of that type to be made.\n",
    "Data Member- variables inside a class are known as data members.\n",
    "\n",
    "Function-- function is a code that specify some task.\n",
    "Instance-- An individual object of a certain class. "
   ]
  },
  {
   "cell_type": "raw",
   "id": "2cac985d",
   "metadata": {},
   "source": [
    "Class is the plan of the object. It is a proper description of the attributes and methods of a class. You can create many objects from a class. Like you can make many buildings from the same plan."
   ]
  },
  {
   "cell_type": "code",
   "execution_count": 10,
   "id": "0789346e",
   "metadata": {},
   "outputs": [],
   "source": [
    "class car:\n",
    "     #data members\n",
    "        year=2019\n",
    "        mpg=22\n",
    "        speed=100\n",
    "     #methods\n",
    "        def accelerate(self): #while creating the car1,car2 etc objects, it will automatically pass to the self.\n",
    "            return self.speed\n",
    "        \n",
    "        def brake(self):\n",
    "            return self.mpg"
   ]
  },
  {
   "cell_type": "code",
   "execution_count": 12,
   "id": "6d3d633b",
   "metadata": {},
   "outputs": [],
   "source": [
    "car1=car()"
   ]
  },
  {
   "cell_type": "code",
   "execution_count": 14,
   "id": "c271c816",
   "metadata": {},
   "outputs": [
    {
     "data": {
      "text/plain": [
       "100"
      ]
     },
     "execution_count": 14,
     "metadata": {},
     "output_type": "execute_result"
    }
   ],
   "source": [
    "car1.accelerate()"
   ]
  },
  {
   "cell_type": "code",
   "execution_count": 15,
   "id": "036df2e0",
   "metadata": {},
   "outputs": [
    {
     "data": {
      "text/plain": [
       "22"
      ]
     },
     "execution_count": 15,
     "metadata": {},
     "output_type": "execute_result"
    }
   ],
   "source": [
    "car1.brake()"
   ]
  },
  {
   "cell_type": "code",
   "execution_count": 16,
   "id": "e4db5e11",
   "metadata": {},
   "outputs": [
    {
     "data": {
      "text/plain": [
       "2019"
      ]
     },
     "execution_count": 16,
     "metadata": {},
     "output_type": "execute_result"
    }
   ],
   "source": [
    "car1.year"
   ]
  },
  {
   "cell_type": "code",
   "execution_count": 18,
   "id": "e04a2f7e",
   "metadata": {},
   "outputs": [
    {
     "data": {
      "text/plain": [
       "22"
      ]
     },
     "execution_count": 18,
     "metadata": {},
     "output_type": "execute_result"
    }
   ],
   "source": [
    "car1.mpg"
   ]
  },
  {
   "cell_type": "code",
   "execution_count": 19,
   "id": "8046875b",
   "metadata": {},
   "outputs": [
    {
     "data": {
      "text/plain": [
       "100"
      ]
     },
     "execution_count": 19,
     "metadata": {},
     "output_type": "execute_result"
    }
   ],
   "source": [
    "car1.speed"
   ]
  },
  {
   "cell_type": "code",
   "execution_count": 21,
   "id": "b17d8468",
   "metadata": {},
   "outputs": [
    {
     "name": "stdout",
     "output_type": "stream",
     "text": [
      "2019\n",
      "22\n",
      "100\n"
     ]
    }
   ],
   "source": [
    "#accessing the data members inside the class.\n",
    "print(car1.year)\n",
    "print(car1.mpg)\n",
    "print(car1.speed)"
   ]
  },
  {
   "cell_type": "code",
   "execution_count": 22,
   "id": "d8109762",
   "metadata": {},
   "outputs": [],
   "source": [
    "class myclass:\n",
    "    k=123\n",
    "    d=6.7\n",
    "    def testf(self):\n",
    "        print(\"This is my first class\")\n",
    "        "
   ]
  },
  {
   "cell_type": "code",
   "execution_count": 28,
   "id": "e43977fb",
   "metadata": {},
   "outputs": [
    {
     "name": "stdout",
     "output_type": "stream",
     "text": [
      "123\n",
      "6.7\n",
      "This is my first class\n"
     ]
    }
   ],
   "source": [
    "def main():\n",
    "    m=myclass()  #creating object/instance\n",
    "    #calling attribute with member function\n",
    "    print(m.k)\n",
    "    print(m.d)\n",
    "    m.testf()\n",
    "    \n",
    "\n",
    "if __name__==\"__main__\":  #If there is any function with the name of 'main', then run it.\n",
    "    main()                "
   ]
  },
  {
   "cell_type": "markdown",
   "id": "96ceeb82",
   "metadata": {},
   "source": [
    "# Constructor"
   ]
  },
  {
   "cell_type": "raw",
   "id": "30f5a451",
   "metadata": {},
   "source": [
    "There are many method names in python which have special importance. A class may define a special method named init which does some initilazation work and serves as a constructor for the class. Like other functions or methods init can take any number of arguments. The init method is run as soon as an object of a class is instantiated and class instantiation automatically invokes init() for the newly created class instance."
   ]
  },
  {
   "cell_type": "raw",
   "id": "f0fc13d0",
   "metadata": {},
   "source": [
    "Without a constructor, the values of Id and Name are vacant after object creation.\n",
    "With a constructor, the object is created prefilled with the values."
   ]
  },
  {
   "attachments": {
    "Capture.PNG": {
     "image/png": "[encoded data removed]"
    }
   },
   "cell_type": "markdown",
   "id": "c3e4f66d",
   "metadata": {},
   "source": [
    "![Capture.PNG](attachment:Capture.PNG)"
   ]
  },
  {
   "attachments": {
    "Capture1.PNG": {
     "image/png": "[encoded data removed]"
    }
   },
   "cell_type": "markdown",
   "id": "cee2f4e6",
   "metadata": {},
   "source": [
    "![Capture1.PNG](attachment:Capture1.PNG)"
   ]
  },
  {
   "cell_type": "code",
   "execution_count": 29,
   "id": "d518acb9",
   "metadata": {},
   "outputs": [],
   "source": [
    "class student:\n",
    "    def __init__(self,name,age): #This is the constructor.\n",
    "        self.name=name\n",
    "        self.age=age"
   ]
  },
  {
   "cell_type": "code",
   "execution_count": 33,
   "id": "2c73ec8a",
   "metadata": {},
   "outputs": [
    {
     "name": "stdout",
     "output_type": "stream",
     "text": [
      "name= Sam\n",
      "age= 25\n"
     ]
    }
   ],
   "source": [
    "p1=student('Sam',25) #object is being created along with the values.\n",
    "print('name=',p1.name)\n",
    "print('age=',p1.age)"
   ]
  },
  {
   "cell_type": "code",
   "execution_count": 36,
   "id": "1ede4be8",
   "metadata": {},
   "outputs": [
    {
     "name": "stdout",
     "output_type": "stream",
     "text": [
      "name= Andrew\n",
      "age= 15\n"
     ]
    }
   ],
   "source": [
    "p2=student('Andrew',15) # new object is being created along with the values from the same class.\n",
    "print('name=',p2.name)\n",
    "print('age=',p2.age)"
   ]
  },
  {
   "cell_type": "code",
   "execution_count": 37,
   "id": "1127389e",
   "metadata": {},
   "outputs": [
    {
     "name": "stdout",
     "output_type": "stream",
     "text": [
      "ID= 101 Name is Andrew\n",
      "ID= 102 Name is John\n"
     ]
    }
   ],
   "source": [
    "class Person:\n",
    "    #constructor / initialization automatically called\n",
    "    def __init__(self,id,name):\n",
    "        self.id=id\n",
    "        self.name=name\n",
    "        \n",
    "    def display(self):\n",
    "        print('ID=',self.id,'Name is',self.name)\n",
    "        \n",
    "        \n",
    "\n",
    "#instance/object creation\n",
    "p1=Person(101,\"Andrew\")\n",
    "p1.display()\n",
    "\n",
    "#second object creation from same class\n",
    "p2=Person(102,'John')\n",
    "p2.display()"
   ]
  },
  {
   "cell_type": "code",
   "execution_count": 38,
   "id": "33a21bee",
   "metadata": {},
   "outputs": [],
   "source": [
    "class employee:\n",
    "    def __init__(self,name,age,id,salary):\n",
    "        self.name=name\n",
    "        self.age=age\n",
    "        self.id=id\n",
    "        self.salary=salary\n",
    "        \n",
    "    def display(self):\n",
    "        print(\"Inside display function\")\n",
    "        print(self.name,self.age,self.id,self.salary)"
   ]
  },
  {
   "cell_type": "code",
   "execution_count": 40,
   "id": "cabea61c",
   "metadata": {},
   "outputs": [
    {
     "name": "stdout",
     "output_type": "stream",
     "text": [
      "Inside display function\n",
      "John 26 200 2343\n",
      "Inside display function\n",
      "Andrew 30 300 2354\n"
     ]
    }
   ],
   "source": [
    "emp1=employee(\"John\",26,200,2343)#first object creation from class 'employee' with prefilled values.\n",
    "emp2=employee(\"Andrew\",30,300,2354)#second object creation from class 'employee' with prefilled values.\n",
    "\n",
    "emp1.display()\n",
    "emp2.display()"
   ]
  },
  {
   "cell_type": "code",
   "execution_count": null,
   "id": "6aa2fa50",
   "metadata": {},
   "outputs": [],
   "source": []
  },
  {
   "cell_type": "code",
   "execution_count": null,
   "id": "165be6dd",
   "metadata": {},
   "outputs": [],
   "source": []
  },
  {
   "cell_type": "code",
   "execution_count": null,
   "id": "45949fe3",
   "metadata": {},
   "outputs": [],
   "source": []
  },
  {
   "cell_type": "code",
   "execution_count": null,
   "id": "3d21bd0c",
   "metadata": {},
   "outputs": [],
   "source": []
  },
  {
   "cell_type": "code",
   "execution_count": null,
   "id": "1aecf105",
   "metadata": {},
   "outputs": [],
   "source": []
  },
  {
   "cell_type": "code",
   "execution_count": null,
   "id": "1051b92b",
   "metadata": {},
   "outputs": [],
   "source": []
  },
  {
   "cell_type": "code",
   "execution_count": null,
   "id": "7af38496",
   "metadata": {},
   "outputs": [],
   "source": []
  },
  {
   "cell_type": "code",
   "execution_count": null,
   "id": "e918031e",
   "metadata": {},
   "outputs": [],
   "source": []
  },
  {
   "cell_type": "code",
   "execution_count": null,
   "id": "3b5083d3",
   "metadata": {},
   "outputs": [],
   "source": []
  },
  {
   "cell_type": "code",
   "execution_count": null,
   "id": "0feaa738",
   "metadata": {},
   "outputs": [],
   "source": []
  },
  {
   "cell_type": "code",
   "execution_count": null,
   "id": "219a2995",
   "metadata": {},
   "outputs": [],
   "source": []
  },
  {
   "cell_type": "code",
   "execution_count": null,
   "id": "aa1502bb",
   "metadata": {},
   "outputs": [],
   "source": []
  },
  {
   "cell_type": "code",
   "execution_count": null,
   "id": "8c182319",
   "metadata": {},
   "outputs": [],
   "source": []
  }
 ],
 "metadata": {
  "kernelspec": {
   "display_name": "Python 3",
   "language": "python",
   "name": "python3"
  },
  "language_info": {
   "codemirror_mode": {
    "name": "ipython",
    "version": 3
   },
   "file_extension": ".py",
   "mimetype": "text/x-python",
   "name": "python",
   "nbconvert_exporter": "python",
   "pygments_lexer": "ipython3",
   "version": "3.8.8"
  }
 },
 "nbformat": 4,
 "nbformat_minor": 5
}
