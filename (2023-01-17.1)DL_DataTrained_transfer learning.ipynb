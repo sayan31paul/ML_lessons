{
  "nbformat": 4,
  "nbformat_minor": 0,
  "metadata": {
    "colab": {
      "provenance": []
    },
    "kernelspec": {
      "name": "python3",
      "display_name": "Python 3"
    },
    "language_info": {
      "name": "python"
    }
  },
  "cells": [
    {
      "cell_type": "code",
      "execution_count": null,
      "metadata": {
        "id": "Vv-dLjoUB_z8"
      },
      "outputs": [],
      "source": [
        "#change location to drive\n",
        "!cd /content/drive/MyDrive"
      ]
    },
    {
      "cell_type": "code",
      "source": [],
      "metadata": {
        "id": "0diGeyMJ1an-"
      },
      "execution_count": null,
      "outputs": []
    },
    {
      "cell_type": "code",
      "source": [
        "#here 0 symbolizes cat and 1 symbolizes cat"
      ],
      "metadata": {
        "id": "hnG4gvFi8KVN"
      },
      "execution_count": null,
      "outputs": []
    },
    {
      "cell_type": "code",
      "source": [
        "#Extracting all files from zip\n",
        "from zipfile import ZipFile\n",
        "\n",
        "with ZipFile('dogs-vs-cats.zip','r') as zipObj:\n",
        "  #Extract all contents of zip file into current directory\n",
        "  zipObj.extractall() #on doing this extraction we will get two folders 'test' and 'train'.\n",
        "\n",
        "with ZipFile('train.zip','r') as zipObj:\n",
        "  #Extract all contents of zip into current directory\n",
        "  zipObj.extractall()\n",
        "  \n",
        "with ZipFile('test1.zip','r') as zipObj:\n",
        "  #Extract all contents of zip into current directory\n",
        "  zipObj.extractall()\n",
        "\n",
        "  #Both the training and test folder will contain a mixture of dog and cat photos.\n",
        "  #Inside both the training and test folder we will have to create separate folder for dogs and cats."
      ],
      "metadata": {
        "colab": {
          "base_uri": "https://localhost:8080/",
          "height": 356
        },
        "id": "dWPIeEvX8PR5",
        "outputId": "2de6332c-92b2-44b7-9f86-72f5dae223d9"
      },
      "execution_count": null,
      "outputs": [
        {
          "output_type": "error",
          "ename": "FileNotFoundError",
          "evalue": "ignored",
          "traceback": [
            "\u001b[0;31m---------------------------------------------------------------------------\u001b[0m",
            "\u001b[0;31mFileNotFoundError\u001b[0m                         Traceback (most recent call last)",
            "\u001b[0;32m<ipython-input-14-6c7f7e6c3f76>\u001b[0m in \u001b[0;36m<module>\u001b[0;34m\u001b[0m\n\u001b[1;32m      2\u001b[0m \u001b[0;32mfrom\u001b[0m \u001b[0mzipfile\u001b[0m \u001b[0;32mimport\u001b[0m \u001b[0mZipFile\u001b[0m\u001b[0;34m\u001b[0m\u001b[0;34m\u001b[0m\u001b[0m\n\u001b[1;32m      3\u001b[0m \u001b[0;34m\u001b[0m\u001b[0m\n\u001b[0;32m----> 4\u001b[0;31m \u001b[0;32mwith\u001b[0m \u001b[0mZipFile\u001b[0m\u001b[0;34m(\u001b[0m\u001b[0;34m'dogs-vs-cats.zip'\u001b[0m\u001b[0;34m,\u001b[0m\u001b[0;34m'r'\u001b[0m\u001b[0;34m)\u001b[0m \u001b[0;32mas\u001b[0m \u001b[0mzipObj\u001b[0m\u001b[0;34m:\u001b[0m\u001b[0;34m\u001b[0m\u001b[0;34m\u001b[0m\u001b[0m\n\u001b[0m\u001b[1;32m      5\u001b[0m   \u001b[0;31m#Extract all contents of zip file into current directory\u001b[0m\u001b[0;34m\u001b[0m\u001b[0;34m\u001b[0m\u001b[0;34m\u001b[0m\u001b[0m\n\u001b[1;32m      6\u001b[0m   \u001b[0mzipObj\u001b[0m\u001b[0;34m.\u001b[0m\u001b[0mextractall\u001b[0m\u001b[0;34m(\u001b[0m\u001b[0;34m)\u001b[0m \u001b[0;31m#on doing this extraction we will get two folders 'test' and 'train'.\u001b[0m\u001b[0;34m\u001b[0m\u001b[0;34m\u001b[0m\u001b[0m\n",
            "\u001b[0;32m/usr/lib/python3.8/zipfile.py\u001b[0m in \u001b[0;36m__init__\u001b[0;34m(self, file, mode, compression, allowZip64, compresslevel, strict_timestamps)\u001b[0m\n\u001b[1;32m   1249\u001b[0m             \u001b[0;32mwhile\u001b[0m \u001b[0;32mTrue\u001b[0m\u001b[0;34m:\u001b[0m\u001b[0;34m\u001b[0m\u001b[0;34m\u001b[0m\u001b[0m\n\u001b[1;32m   1250\u001b[0m                 \u001b[0;32mtry\u001b[0m\u001b[0;34m:\u001b[0m\u001b[0;34m\u001b[0m\u001b[0;34m\u001b[0m\u001b[0m\n\u001b[0;32m-> 1251\u001b[0;31m                     \u001b[0mself\u001b[0m\u001b[0;34m.\u001b[0m\u001b[0mfp\u001b[0m \u001b[0;34m=\u001b[0m \u001b[0mio\u001b[0m\u001b[0;34m.\u001b[0m\u001b[0mopen\u001b[0m\u001b[0;34m(\u001b[0m\u001b[0mfile\u001b[0m\u001b[0;34m,\u001b[0m \u001b[0mfilemode\u001b[0m\u001b[0;34m)\u001b[0m\u001b[0;34m\u001b[0m\u001b[0;34m\u001b[0m\u001b[0m\n\u001b[0m\u001b[1;32m   1252\u001b[0m                 \u001b[0;32mexcept\u001b[0m \u001b[0mOSError\u001b[0m\u001b[0;34m:\u001b[0m\u001b[0;34m\u001b[0m\u001b[0;34m\u001b[0m\u001b[0m\n\u001b[1;32m   1253\u001b[0m                     \u001b[0;32mif\u001b[0m \u001b[0mfilemode\u001b[0m \u001b[0;32min\u001b[0m \u001b[0mmodeDict\u001b[0m\u001b[0;34m:\u001b[0m\u001b[0;34m\u001b[0m\u001b[0;34m\u001b[0m\u001b[0m\n",
            "\u001b[0;31mFileNotFoundError\u001b[0m: [Errno 2] No such file or directory: 'dogs-vs-cats.zip'"
          ]
        }
      ]
    },
    {
      "cell_type": "code",
      "source": [
        "#create sub directories so that the data is in this format.\n",
        "#dataset_dogs_vs_cats\n",
        "#  -train\n",
        "#    --dogs\n",
        "#    --cats\n",
        "#  -test\n",
        "#    --dogs\n",
        "#    --cats"
      ],
      "metadata": {
        "id": "llReFjqe9ihW"
      },
      "execution_count": null,
      "outputs": []
    },
    {
      "cell_type": "code",
      "source": [
        "#creating directories\n",
        "dataset_home='dataset_dogs_vs_cats/'\n",
        "subdirs=['train/','test/']\n",
        "for subdir in subdirs:\n",
        "  #craete label sub directories\n",
        "  labeldirs=['dogs/','cats/']\n",
        "  for labldir in labeldirs:\n",
        "    newdir=dataset_home+subdir+labldir\n",
        "    makedirs(newdir,exist_ok=True) #used to create new directories."
      ],
      "metadata": {
        "id": "uLGvh_Uz_F6z",
        "colab": {
          "base_uri": "https://localhost:8080/",
          "height": 200
        },
        "outputId": "28e16a57-9a3d-4ce4-f2e8-7f9405365fb1"
      },
      "execution_count": null,
      "outputs": [
        {
          "output_type": "error",
          "ename": "NameError",
          "evalue": "ignored",
          "traceback": [
            "\u001b[0;31m---------------------------------------------------------------------------\u001b[0m",
            "\u001b[0;31mNameError\u001b[0m                                 Traceback (most recent call last)",
            "\u001b[0;32m<ipython-input-15-472eaf55e1c4>\u001b[0m in \u001b[0;36m<module>\u001b[0;34m\u001b[0m\n\u001b[1;32m      7\u001b[0m   \u001b[0;32mfor\u001b[0m \u001b[0mlabldir\u001b[0m \u001b[0;32min\u001b[0m \u001b[0mlabeldirs\u001b[0m\u001b[0;34m:\u001b[0m\u001b[0;34m\u001b[0m\u001b[0;34m\u001b[0m\u001b[0m\n\u001b[1;32m      8\u001b[0m     \u001b[0mnewdir\u001b[0m\u001b[0;34m=\u001b[0m\u001b[0mdataset_home\u001b[0m\u001b[0;34m+\u001b[0m\u001b[0msubdir\u001b[0m\u001b[0;34m+\u001b[0m\u001b[0mlabldir\u001b[0m\u001b[0;34m\u001b[0m\u001b[0;34m\u001b[0m\u001b[0m\n\u001b[0;32m----> 9\u001b[0;31m     \u001b[0mmakedirs\u001b[0m\u001b[0;34m(\u001b[0m\u001b[0mnewdir\u001b[0m\u001b[0;34m,\u001b[0m\u001b[0mexist_ok\u001b[0m\u001b[0;34m=\u001b[0m\u001b[0;32mTrue\u001b[0m\u001b[0;34m)\u001b[0m \u001b[0;31m#used to create new directories.\u001b[0m\u001b[0;34m\u001b[0m\u001b[0;34m\u001b[0m\u001b[0m\n\u001b[0m",
            "\u001b[0;31mNameError\u001b[0m: name 'makedirs' is not defined"
          ]
        }
      ]
    },
    {
      "cell_type": "code",
      "source": [
        "from os import makedirs\n",
        "from os import listdir\n",
        "from shutil import copyfile\n",
        "from random import seed,random\n",
        "seed(1)\n",
        "#define ratio of pictures to be used for validation\n",
        "val_ratio=0.25\n",
        "#copy training dataset images into sub-directories\n",
        "src_directory='train'\n",
        "dataset_home='dataset_dogs_vs_cats/'"
      ],
      "metadata": {
        "id": "pXaCOczrCcO6"
      },
      "execution_count": null,
      "outputs": []
    },
    {
      "cell_type": "code",
      "source": [
        "#prepare a model for transfer learning"
      ],
      "metadata": {
        "id": "ghsD51mnJJoP"
      },
      "execution_count": null,
      "outputs": []
    },
    {
      "cell_type": "code",
      "source": [
        "from keras.applications.vgg16 import VGG16\n",
        "from keras.models import Model\n",
        "from keras.layers import Dense\n",
        "from keras.layers import Flatten\n",
        "from keras.optimizers import SGD\n",
        "from keras.preprocessing.image import InageDataGenerator\n",
        "\n",
        "model=VGG16(include_top=False, input_shape=(224,224,3)) #Only the CNN layers are included. The layers after flatten layer are not included.\n",
        "# The fully connected layers are known as top or bottle_neck layers.\n",
        "#include_top=False excludes the top/bottle_neck layers.\n",
        "#every layers before flatten are known as stem_structure. every layer after flatten are known as top or bottleneck layers.\n",
        "\n",
        "#mark loaded layers as non trainable.\n",
        "for layer in model.layers:\n",
        "  layer.trainable=False\n",
        "\n",
        "#add new classifier layers.\n",
        "flat1=Flatten()(model.layers[-1].output) #the output of the last layer(-1) is entering as input to flat1\n",
        "class1=Dense(128,activation='relu',kernel_initializer='he_uniform')(flat1)\n",
        "output=Dense(1,activation='sigmoid')(class1)\n",
        "#since this is a binary classification, the number of output layers must be 1 and the activation_function must be sigmoid.\n",
        "\n",
        "#define new model\n",
        "model=Model(inputs=model.inputs,outputs=output)\n",
        "#compile model\n",
        "opt=SGD(learning_rate=0.001,momentum=0.9)\n",
        "model.compile(optimizer=opt,loss='binary_crossentropy',metrics=['accuraccy'])\n"
      ],
      "metadata": {
        "id": "3Obwh7JlJfkK"
      },
      "execution_count": null,
      "outputs": []
    },
    {
      "cell_type": "code",
      "source": [
        "\"\"\"This dataset is different from the mnist dataset. In the mnist dataset, the size of the images were 24*24*1 while\n",
        "here the size of the image is 224*224*3. Hence we cannot send all the 60000 images together into the RAM. Here we have \n",
        "to use generators.\n",
        "Image data generator has some features of augmentation as well.\n",
        "\"\"\"\n"
      ],
      "metadata": {
        "id": "aWU1Sxe3KfbL"
      },
      "execution_count": null,
      "outputs": []
    }
  ]
}