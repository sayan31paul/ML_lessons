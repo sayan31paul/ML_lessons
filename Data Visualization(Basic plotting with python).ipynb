{
 "cells": [
  {
   "cell_type": "code",
   "execution_count": 5,
   "id": "d92ac506",
   "metadata": {},
   "outputs": [],
   "source": [
    "import matplotlib as plt\n",
    "import matplotlib.pyplot as plt #This is the scripting interface"
   ]
  },
  {
   "cell_type": "code",
   "execution_count": 8,
   "id": "fcba5264",
   "metadata": {},
   "outputs": [
    {
     "data": {
      "image/png": "[encoded data removed]",
      "text/plain": [
       "<Figure size 432x288 with 1 Axes>"
      ]
     },
     "metadata": {
      "needs_background": "light"
     },
     "output_type": "display_data"
    }
   ],
   "source": [
    "plt.plot(5,5,'o') #Create a circular mark 'o' at the position (5,5)\n",
    "plt.show()"
   ]
  },
  {
   "cell_type": "raw",
   "id": "130df207",
   "metadata": {},
   "source": [
    "Line Plot- A line plot is a type of plot which displays information as a series of data points called 'markers' connected by straight line segments. "
   ]
  },
  {
   "cell_type": "raw",
   "id": "675b008a",
   "metadata": {},
   "source": [
    "Area plot:-\n",
    "1. Also known as area chart or area graph\n",
    "2. Commonly used to represent cumulated totals using numbers and percentages over time.\n",
    "3. It is based on line plot\n",
    "    "
   ]
  },
  {
   "cell_type": "code",
   "execution_count": null,
   "id": "2590f46d",
   "metadata": {},
   "outputs": [],
   "source": []
  }
 ],
 "metadata": {
  "kernelspec": {
   "display_name": "Python 3",
   "language": "python",
   "name": "python3"
  },
  "language_info": {
   "codemirror_mode": {
    "name": "ipython",
    "version": 3
   },
   "file_extension": ".py",
   "mimetype": "text/x-python",
   "name": "python",
   "nbconvert_exporter": "python",
   "pygments_lexer": "ipython3",
   "version": "3.8.8"
  }
 },
 "nbformat": 4,
 "nbformat_minor": 5
}
