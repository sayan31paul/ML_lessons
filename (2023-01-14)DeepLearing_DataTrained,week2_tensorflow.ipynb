{
 "cells": [
  {
   "cell_type": "code",
   "execution_count": 104,
   "metadata": {
    "id": "BfqEQWvnf9Ux"
   },
   "outputs": [],
   "source": [
    "import tensorflow as tf"
   ]
  },
  {
   "cell_type": "code",
   "execution_count": 105,
   "metadata": {
    "id": "XSkX1aKUixbz"
   },
   "outputs": [],
   "source": [
    "#!pip install tensorflow==1.14"
   ]
  },
  {
   "cell_type": "code",
   "execution_count": 106,
   "metadata": {
    "colab": {
     "base_uri": "https://localhost:8080/",
     "height": 35
    },
    "id": "n4rDE7HggMz1",
    "outputId": "42c449fe-f65e-4834-e679-554847d4f63f"
   },
   "outputs": [
    {
     "data": {
      "application/vnd.google.colaboratory.intrinsic+json": {
       "type": "string"
      },
      "text/plain": [
       "'2.9.2'"
      ]
     },
     "execution_count": 106,
     "metadata": {},
     "output_type": "execute_result"
    }
   ],
   "source": [
    "tf.__version__"
   ]
  },
  {
   "cell_type": "code",
   "execution_count": 107,
   "metadata": {
    "colab": {
     "base_uri": "https://localhost:8080/",
     "height": 35
    },
    "id": "BACAFgTLgSwn",
    "outputId": "73e2e86b-837b-4d15-d433-bb2d92b4a842"
   },
   "outputs": [
    {
     "data": {
      "application/vnd.google.colaboratory.intrinsic+json": {
       "type": "string"
      },
      "text/plain": [
       "'test'"
      ]
     },
     "execution_count": 107,
     "metadata": {},
     "output_type": "execute_result"
    }
   ],
   "source": [
    "s='test'\n",
    "s"
   ]
  },
  {
   "cell_type": "code",
   "execution_count": 108,
   "metadata": {
    "colab": {
     "base_uri": "https://localhost:8080/"
    },
    "id": "MKYRApg7gu4X",
    "outputId": "4d00c681-b44c-49f2-d15e-7e102bdc83f8"
   },
   "outputs": [
    {
     "data": {
      "text/plain": [
       "<tf.Tensor 'Const_20:0' shape=() dtype=string>"
      ]
     },
     "execution_count": 108,
     "metadata": {},
     "output_type": "execute_result"
    }
   ],
   "source": [
    "hello_constant=tf.constant(\"hello_constant\")\n",
    "hello_constant #here hello_constant is a graph and we can only run graphs in sessions."
   ]
  },
  {
   "cell_type": "code",
   "execution_count": 150,
   "metadata": {
    "colab": {
     "base_uri": "https://localhost:8080/"
    },
    "id": "vrfoqlKGf26g",
    "outputId": "869269e7-6baa-4747-8754-0215d6325805"
   },
   "outputs": [
    {
     "name": "stdout",
     "output_type": "stream",
     "text": [
      "b'hello_constant'\n"
     ]
    }
   ],
   "source": [
    "with tf.compat.v1.Session() as ss:\n",
    "  output=ss.run(hello_constant) #we are using session to run the graph hello_constant\n",
    "print(output)"
   ]
  },
  {
   "cell_type": "code",
   "execution_count": 109,
   "metadata": {
    "colab": {
     "base_uri": "https://localhost:8080/",
     "height": 53
    },
    "id": "NoHCcrRGg3-X",
    "outputId": "f2cb944a-0809-4a87-da8f-e3da62adff23"
   },
   "outputs": [
    {
     "data": {
      "application/vnd.google.colaboratory.intrinsic+json": {
       "type": "string"
      },
      "text/plain": [
       "'Tensor:\\nIn Tensorflow data is not stored as integer , float or strings. These values are encapsulated in a object called tensor.\\nIn case of hello_constant=tf.constant(\"Hello_world\"), hello_constant is a O dimensional string tensor but tensor comes in variety of sizes as shown below.'"
      ]
     },
     "execution_count": 109,
     "metadata": {},
     "output_type": "execute_result"
    }
   ],
   "source": [
    "\"\"\"Tensor:\n",
    "In Tensorflow data is not stored as integer , float or strings. These values are encapsulated in a object called tensor.\n",
    "In case of hello_constant=tf.constant(\"Hello_world\"), hello_constant is a O dimensional string tensor but tensor comes in variety of sizes as shown below.\"\"\"\n",
    "\n"
   ]
  },
  {
   "cell_type": "code",
   "execution_count": 110,
   "metadata": {
    "id": "f62ksjvUk9fF"
   },
   "outputs": [],
   "source": [
    "#A is a zero dimensional int 32 tensor\n",
    "A=tf.constant(1234)\n",
    "\n",
    "#B is a one dimensional int32 tensor\n",
    "B=tf.constant([123,456,789])\n",
    "\n",
    "#C is a two dimenional int 32 tensor\n",
    "C=tf.constant([[123,456,789],[222,333,444]])"
   ]
  },
  {
   "cell_type": "code",
   "execution_count": 111,
   "metadata": {
    "colab": {
     "base_uri": "https://localhost:8080/"
    },
    "id": "tULOtIIoloT1",
    "outputId": "d400777b-b41b-4d91-d75c-c32ee4418d02"
   },
   "outputs": [
    {
     "name": "stdout",
     "output_type": "stream",
     "text": [
      "c:0\n",
      "c_1:0\n"
     ]
    }
   ],
   "source": [
    "with tf.Graph().as_default():\n",
    "    c1=tf.constant(4,dtype=tf.float64,name='c')\n",
    "    c2=tf.constant(4,dtype=tf.int32,name='c')\n",
    "print(c1.name)\n",
    "print(c2.name)"
   ]
  },
  {
   "cell_type": "code",
   "execution_count": 112,
   "metadata": {
    "colab": {
     "base_uri": "https://localhost:8080/"
    },
    "id": "Z6WdNiEpn8k_",
    "outputId": "88542475-cc5d-4b73-ddad-f42c3fa86e72"
   },
   "outputs": [
    {
     "name": "stdout",
     "output_type": "stream",
     "text": [
      "c:0\n",
      "prefix_name_3/c:0\n",
      "prefix_name_3/c_1:0\n"
     ]
    }
   ],
   "source": [
    "with tf.Graph().as_default():\n",
    "    c1=tf.constant(4,dtype=tf.float64,name='c')\n",
    "with tf.name_scope(\"prefix_name\"): # used for grouping the names using prefix\n",
    "    c2=tf.constant(4,dtype=tf.int32,name='c')\n",
    "    c3=tf.constant(4,dtype=tf.float64,name='c')\n",
    "\n",
    "print(c1.name)\n",
    "print(c2.name)\n",
    "print(c3.name)"
   ]
  },
  {
   "cell_type": "code",
   "execution_count": 113,
   "metadata": {
    "colab": {
     "base_uri": "https://localhost:8080/"
    },
    "id": "SnYIFcIvpb0W",
    "outputId": "e3daa1bf-5fc1-48b6-dacd-3a86583e9a3f"
   },
   "outputs": [
    {
     "data": {
      "text/plain": [
       "array([[123, 456, 789],\n",
       "       [222, 333, 444]], dtype=int32)"
      ]
     },
     "execution_count": 113,
     "metadata": {},
     "output_type": "execute_result"
    }
   ],
   "source": [
    "C=tf.constant([[123,456,789],[222,333,444]])\n",
    "sess=tf.compat.v1.Session()\n",
    "sess.run(C)"
   ]
  },
  {
   "cell_type": "code",
   "execution_count": 114,
   "metadata": {
    "colab": {
     "base_uri": "https://localhost:8080/",
     "height": 35
    },
    "id": "Oq9cNqGFq3M3",
    "outputId": "059b6790-a802-4d92-e0d0-613650702031"
   },
   "outputs": [
    {
     "data": {
      "application/vnd.google.colaboratory.intrinsic+json": {
       "type": "string"
      },
      "text/plain": [
       "'Graph is anything that has nodes and edges. Here nodes represent operations. Edges repesent the data passing.'"
      ]
     },
     "execution_count": 114,
     "metadata": {},
     "output_type": "execute_result"
    }
   ],
   "source": [
    "\"\"\"Graph is anything that has nodes and edges. Here nodes represent operations. Edges repesent the data passing.\"\"\""
   ]
  },
  {
   "cell_type": "code",
   "execution_count": 115,
   "metadata": {
    "colab": {
     "base_uri": "https://localhost:8080/"
    },
    "id": "IPBVOF_8nxXM",
    "outputId": "083b4ae9-9bc3-424b-e8d8-a0f08f39510a"
   },
   "outputs": [
    {
     "name": "stdout",
     "output_type": "stream",
     "text": [
      "pre run: \n",
      "<tf.Variable 'var_2:0' shape=(1, 5) dtype=float32>\n"
     ]
    }
   ],
   "source": [
    "init_val=tf.random.normal((1,5),0,1)\n",
    "var=tf.Variable(init_val,name='var')\n",
    "print(\"pre run: \\n{}\".format(var))\n",
    "init=tf.compat.v1.global_variables_initializer()\n",
    "with tf.compat.v1.Session() as sess:\n",
    "    sess.run(init)\n",
    "    post_var=sess.run(var) "
   ]
  },
  {
   "cell_type": "code",
   "execution_count": 116,
   "metadata": {
    "id": "93A5FinSlWZ1"
   },
   "outputs": [],
   "source": [
    "#we will fit the values using tf.placeholder beacuse you will want your model to take in different datasets with different parameters."
   ]
  },
  {
   "cell_type": "code",
   "execution_count": 117,
   "metadata": {
    "colab": {
     "base_uri": "https://localhost:8080/"
    },
    "id": "vRAyvR8S56sy",
    "outputId": "4193a7a0-8042-4348-80ff-d794d68ea492"
   },
   "outputs": [
    {
     "name": "stdout",
     "output_type": "stream",
     "text": [
      "test\n"
     ]
    }
   ],
   "source": [
    "#tf.compat.v1.disable_eager_execution()\n",
    "x=tf.compat.v1.placeholder(tf.string) #Here string is a tensor flow datatype\n",
    "tf.compat.v1.disable_eager_execution()\n",
    "\n",
    "with tf.compat.v1.Session() as ss:\n",
    "    output=ss.run(x,feed_dict={x:\"test\"})\n",
    "    print(output)\n"
   ]
  },
  {
   "cell_type": "code",
   "execution_count": 118,
   "metadata": {
    "colab": {
     "base_uri": "https://localhost:8080/"
    },
    "id": "BOJsokax6oDG",
    "outputId": "18b686be-c6ab-4439-e7b0-09e133ee2b36"
   },
   "outputs": [
    {
     "name": "stdout",
     "output_type": "stream",
     "text": [
      "Test String\n",
      "123\n"
     ]
    }
   ],
   "source": [
    "x=tf.compat.v1.placeholder(tf.string)\n",
    "y=tf.compat.v1.placeholder(tf.int32)\n",
    "z=tf.compat.v1.placeholder(tf.float32)\n",
    "\n",
    "with tf.compat.v1.Session() as sess:\n",
    "    output_x=sess.run(x,feed_dict={x:\"Test String\", y:123, z:45.67})\n",
    "    output_y=sess.run(y,feed_dict={y:\"Test String\", y:123, z:45.67})\n",
    "    print(output_x)\n",
    "    print(output_y)\n"
   ]
  },
  {
   "cell_type": "code",
   "execution_count": 152,
   "metadata": {
    "colab": {
     "base_uri": "https://localhost:8080/"
    },
    "id": "UwttqEtCj91_",
    "outputId": "fcd6efeb-3c30-4933-d551-07d2a58e0377"
   },
   "outputs": [
    {
     "name": "stdout",
     "output_type": "stream",
     "text": [
      "[1. 4. 9.]\n"
     ]
    }
   ],
   "source": [
    "x=tf.compat.v1.placeholder(\"float\",None)\n",
    "y=x**2\n",
    "\n",
    "with tf.compat.v1.Session() as ss:\n",
    "    result=ss.run(y,feed_dict= {x:[1,2,3]})\n",
    "print(result)\n"
   ]
  },
  {
   "cell_type": "code",
   "execution_count": 120,
   "metadata": {
    "colab": {
     "base_uri": "https://localhost:8080/",
     "height": 35
    },
    "id": "6skO62ayBGdC",
    "outputId": "f40cc393-8cbc-4d30-a5ac-61c2f3e66483"
   },
   "outputs": [
    {
     "data": {
      "application/vnd.google.colaboratory.intrinsic+json": {
       "type": "string"
      },
      "text/plain": [
       "'Tensorflow Math'"
      ]
     },
     "execution_count": 120,
     "metadata": {},
     "output_type": "execute_result"
    }
   ],
   "source": [
    "\"\"\"Tensorflow Math\"\"\""
   ]
  },
  {
   "cell_type": "code",
   "execution_count": 121,
   "metadata": {
    "colab": {
     "base_uri": "https://localhost:8080/"
    },
    "id": "aIcZW7uthrT3",
    "outputId": "73445e9c-9088-4271-cbdd-1f285e692403"
   },
   "outputs": [
    {
     "name": "stdout",
     "output_type": "stream",
     "text": [
      "7\n"
     ]
    }
   ],
   "source": [
    "x=tf.add(5,2)\n",
    "with tf.compat.v1.Session() as ss:\n",
    "    output=ss.run(x)\n",
    "print(output)\n"
   ]
  },
  {
   "cell_type": "code",
   "execution_count": 122,
   "metadata": {
    "colab": {
     "base_uri": "https://localhost:8080/",
     "height": 397
    },
    "id": "yunekfQafgU9",
    "outputId": "2097e247-7c02-4926-cc43-80b36cdf34a9"
   },
   "outputs": [
    {
     "ename": "TypeError",
     "evalue": "ignored",
     "output_type": "error",
     "traceback": [
      "\u001b[0;31m---------------------------------------------------------------------------\u001b[0m",
      "\u001b[0;31mTypeError\u001b[0m                                 Traceback (most recent call last)",
      "\u001b[0;32m<ipython-input-122-c478b3d951ca>\u001b[0m in \u001b[0;36m<module>\u001b[0;34m\u001b[0m\n\u001b[1;32m      1\u001b[0m \u001b[0;31m#it may be necessary to convert between types to make certain operators work together.\u001b[0m\u001b[0;34m\u001b[0m\u001b[0;34m\u001b[0m\u001b[0;34m\u001b[0m\u001b[0m\n\u001b[0;32m----> 2\u001b[0;31m \u001b[0mx\u001b[0m\u001b[0;34m=\u001b[0m\u001b[0mtf\u001b[0m\u001b[0;34m.\u001b[0m\u001b[0msubtract\u001b[0m\u001b[0;34m(\u001b[0m\u001b[0mtf\u001b[0m\u001b[0;34m.\u001b[0m\u001b[0mconstant\u001b[0m\u001b[0;34m(\u001b[0m\u001b[0;36m2.0\u001b[0m\u001b[0;34m)\u001b[0m\u001b[0;34m,\u001b[0m\u001b[0mtf\u001b[0m\u001b[0;34m.\u001b[0m\u001b[0mconstant\u001b[0m\u001b[0;34m(\u001b[0m\u001b[0;36m1\u001b[0m\u001b[0;34m)\u001b[0m\u001b[0;34m)\u001b[0m\u001b[0;34m\u001b[0m\u001b[0;34m\u001b[0m\u001b[0m\n\u001b[0m\u001b[1;32m      3\u001b[0m \u001b[0;32mwith\u001b[0m \u001b[0mtf\u001b[0m\u001b[0;34m.\u001b[0m\u001b[0mcompat\u001b[0m\u001b[0;34m.\u001b[0m\u001b[0mv1\u001b[0m\u001b[0;34m.\u001b[0m\u001b[0mSession\u001b[0m\u001b[0;34m(\u001b[0m\u001b[0;34m)\u001b[0m \u001b[0;32mas\u001b[0m \u001b[0mss\u001b[0m\u001b[0;34m:\u001b[0m\u001b[0;34m\u001b[0m\u001b[0;34m\u001b[0m\u001b[0m\n\u001b[1;32m      4\u001b[0m     \u001b[0moutput\u001b[0m\u001b[0;34m=\u001b[0m\u001b[0mss\u001b[0m\u001b[0;34m.\u001b[0m\u001b[0mrun\u001b[0m\u001b[0;34m(\u001b[0m\u001b[0mx\u001b[0m\u001b[0;34m)\u001b[0m\u001b[0;34m\u001b[0m\u001b[0;34m\u001b[0m\u001b[0m\n\u001b[1;32m      5\u001b[0m \u001b[0mprint\u001b[0m\u001b[0;34m(\u001b[0m\u001b[0moutput\u001b[0m\u001b[0;34m)\u001b[0m\u001b[0;34m\u001b[0m\u001b[0;34m\u001b[0m\u001b[0m\n",
      "\u001b[0;32m/usr/local/lib/python3.8/dist-packages/tensorflow/python/util/traceback_utils.py\u001b[0m in \u001b[0;36merror_handler\u001b[0;34m(*args, **kwargs)\u001b[0m\n\u001b[1;32m    151\u001b[0m     \u001b[0;32mexcept\u001b[0m \u001b[0mException\u001b[0m \u001b[0;32mas\u001b[0m \u001b[0me\u001b[0m\u001b[0;34m:\u001b[0m\u001b[0;34m\u001b[0m\u001b[0;34m\u001b[0m\u001b[0m\n\u001b[1;32m    152\u001b[0m       \u001b[0mfiltered_tb\u001b[0m \u001b[0;34m=\u001b[0m \u001b[0m_process_traceback_frames\u001b[0m\u001b[0;34m(\u001b[0m\u001b[0me\u001b[0m\u001b[0;34m.\u001b[0m\u001b[0m__traceback__\u001b[0m\u001b[0;34m)\u001b[0m\u001b[0;34m\u001b[0m\u001b[0;34m\u001b[0m\u001b[0m\n\u001b[0;32m--> 153\u001b[0;31m       \u001b[0;32mraise\u001b[0m \u001b[0me\u001b[0m\u001b[0;34m.\u001b[0m\u001b[0mwith_traceback\u001b[0m\u001b[0;34m(\u001b[0m\u001b[0mfiltered_tb\u001b[0m\u001b[0;34m)\u001b[0m \u001b[0;32mfrom\u001b[0m \u001b[0;32mNone\u001b[0m\u001b[0;34m\u001b[0m\u001b[0;34m\u001b[0m\u001b[0m\n\u001b[0m\u001b[1;32m    154\u001b[0m     \u001b[0;32mfinally\u001b[0m\u001b[0;34m:\u001b[0m\u001b[0;34m\u001b[0m\u001b[0;34m\u001b[0m\u001b[0m\n\u001b[1;32m    155\u001b[0m       \u001b[0;32mdel\u001b[0m \u001b[0mfiltered_tb\u001b[0m\u001b[0;34m\u001b[0m\u001b[0;34m\u001b[0m\u001b[0m\n",
      "\u001b[0;32m/usr/local/lib/python3.8/dist-packages/tensorflow/python/framework/op_def_library.py\u001b[0m in \u001b[0;36m_ExtractInputsAndAttrs\u001b[0;34m(op_type_name, op_def, allowed_list_attr_map, keywords, default_type_attr_map, attrs, inputs, input_types)\u001b[0m\n\u001b[1;32m    588\u001b[0m                 \u001b[0minferred_from\u001b[0m\u001b[0;34m[\u001b[0m\u001b[0mk\u001b[0m\u001b[0;34m]\u001b[0m \u001b[0;34m=\u001b[0m \u001b[0;34m\"Default in OpDef\"\u001b[0m\u001b[0;34m\u001b[0m\u001b[0;34m\u001b[0m\u001b[0m\n\u001b[1;32m    589\u001b[0m \u001b[0;34m\u001b[0m\u001b[0m\n\u001b[0;32m--> 590\u001b[0;31m           raise TypeError(\n\u001b[0m\u001b[1;32m    591\u001b[0m               \u001b[0;34mf\"{prefix} type \"\u001b[0m\u001b[0;34m\u001b[0m\u001b[0;34m\u001b[0m\u001b[0m\n\u001b[1;32m    592\u001b[0m               \u001b[0;34mf\"{dtypes.as_dtype(attrs[input_arg.type_attr]).name} of \"\u001b[0m\u001b[0;34m\u001b[0m\u001b[0;34m\u001b[0m\u001b[0m\n",
      "\u001b[0;31mTypeError\u001b[0m: Input 'y' of 'Sub' Op has type int32 that does not match type float32 of argument 'x'."
     ]
    }
   ],
   "source": [
    "#it may be necessary to convert between types to make certain operators work together.\n",
    "x=tf.subtract(tf.constant(2.0),tf.constant(1))\n",
    "with tf.compat.v1.Session() as ss:\n",
    "    output=ss.run(x)\n",
    "print(output)\n",
    "\n"
   ]
  },
  {
   "cell_type": "code",
   "execution_count": 124,
   "metadata": {
    "colab": {
     "base_uri": "https://localhost:8080/"
    },
    "id": "WVAp3SFaEGd6",
    "outputId": "4b9d27f6-b3d6-4f03-ed41-27f8c474be61"
   },
   "outputs": [
    {
     "name": "stdout",
     "output_type": "stream",
     "text": [
      "1\n"
     ]
    }
   ],
   "source": [
    "x=tf.subtract(tf.cast(tf.constant(2.0),tf.int32),tf.constant(1))\n",
    "with tf.compat.v1.Session() as ss:\n",
    "    output=ss.run(x)\n",
    "print(output)"
   ]
  },
  {
   "cell_type": "code",
   "execution_count": 125,
   "metadata": {
    "colab": {
     "base_uri": "https://localhost:8080/"
    },
    "id": "4Gu2CpLtDSbA",
    "outputId": "8c912529-1bc1-4b25-fe95-e439ef8b58cf"
   },
   "outputs": [
    {
     "name": "stdout",
     "output_type": "stream",
     "text": [
      "1.0\n"
     ]
    }
   ],
   "source": [
    "x=tf.subtract(2.0,1)\n",
    "with tf.compat.v1.Session() as ss:\n",
    "    output=ss.run(x)\n",
    "print(output)"
   ]
  },
  {
   "cell_type": "code",
   "execution_count": 126,
   "metadata": {
    "colab": {
     "base_uri": "https://localhost:8080/"
    },
    "id": "H7rOWkVVC9le",
    "outputId": "ec314c9f-5abc-45fa-e486-02be3ca80f7c"
   },
   "outputs": [
    {
     "name": "stdout",
     "output_type": "stream",
     "text": [
      "4.0\n"
     ]
    }
   ],
   "source": [
    "x=tf.constant(10)\n",
    "y=tf.constant(2)\n",
    "z=tf.subtract(tf.divide(x,y),1)\n",
    "\n",
    "with tf.compat.v1.Session() as ss:\n",
    "    res=ss.run(z)\n",
    "print(res)"
   ]
  },
  {
   "cell_type": "code",
   "execution_count": 130,
   "metadata": {
    "colab": {
     "base_uri": "https://localhost:8080/",
     "height": 397
    },
    "id": "GcH7ck_2F_uY",
    "outputId": "523f34f8-f7e2-43ea-8516-1ee8b1abae54"
   },
   "outputs": [
    {
     "ename": "ValueError",
     "evalue": "ignored",
     "output_type": "error",
     "traceback": [
      "\u001b[0;31m---------------------------------------------------------------------------\u001b[0m",
      "\u001b[0;31mValueError\u001b[0m                                Traceback (most recent call last)",
      "\u001b[0;32m<ipython-input-130-ea27174a7630>\u001b[0m in \u001b[0;36m<module>\u001b[0;34m\u001b[0m\n\u001b[1;32m      5\u001b[0m \u001b[0mn_features\u001b[0m\u001b[0;34m=\u001b[0m\u001b[0;36m120\u001b[0m\u001b[0;34m\u001b[0m\u001b[0;34m\u001b[0m\u001b[0m\n\u001b[1;32m      6\u001b[0m \u001b[0mn_labels\u001b[0m\u001b[0;34m=\u001b[0m\u001b[0;36m5\u001b[0m\u001b[0;34m\u001b[0m\u001b[0;34m\u001b[0m\u001b[0m\n\u001b[0;32m----> 7\u001b[0;31m \u001b[0mweights\u001b[0m\u001b[0;34m=\u001b[0m\u001b[0mtf\u001b[0m\u001b[0;34m.\u001b[0m\u001b[0mcompat\u001b[0m\u001b[0;34m.\u001b[0m\u001b[0mv1\u001b[0m\u001b[0;34m.\u001b[0m\u001b[0mVariable\u001b[0m\u001b[0;34m(\u001b[0m\u001b[0mtf\u001b[0m\u001b[0;34m.\u001b[0m\u001b[0mcompat\u001b[0m\u001b[0;34m.\u001b[0m\u001b[0mv1\u001b[0m\u001b[0;34m.\u001b[0m\u001b[0mtruncated_normal\u001b[0m\u001b[0;34m(\u001b[0m\u001b[0mn_features\u001b[0m\u001b[0;34m,\u001b[0m\u001b[0mn_labels\u001b[0m\u001b[0;34m)\u001b[0m\u001b[0;34m)\u001b[0m\u001b[0;34m\u001b[0m\u001b[0;34m\u001b[0m\u001b[0m\n\u001b[0m\u001b[1;32m      8\u001b[0m \u001b[0;34m\u001b[0m\u001b[0m\n\u001b[1;32m      9\u001b[0m \u001b[0mweights\u001b[0m\u001b[0;34m\u001b[0m\u001b[0;34m\u001b[0m\u001b[0m\n",
      "\u001b[0;32m/usr/local/lib/python3.8/dist-packages/tensorflow/python/util/traceback_utils.py\u001b[0m in \u001b[0;36merror_handler\u001b[0;34m(*args, **kwargs)\u001b[0m\n\u001b[1;32m    151\u001b[0m     \u001b[0;32mexcept\u001b[0m \u001b[0mException\u001b[0m \u001b[0;32mas\u001b[0m \u001b[0me\u001b[0m\u001b[0;34m:\u001b[0m\u001b[0;34m\u001b[0m\u001b[0;34m\u001b[0m\u001b[0m\n\u001b[1;32m    152\u001b[0m       \u001b[0mfiltered_tb\u001b[0m \u001b[0;34m=\u001b[0m \u001b[0m_process_traceback_frames\u001b[0m\u001b[0;34m(\u001b[0m\u001b[0me\u001b[0m\u001b[0;34m.\u001b[0m\u001b[0m__traceback__\u001b[0m\u001b[0;34m)\u001b[0m\u001b[0;34m\u001b[0m\u001b[0;34m\u001b[0m\u001b[0m\n\u001b[0;32m--> 153\u001b[0;31m       \u001b[0;32mraise\u001b[0m \u001b[0me\u001b[0m\u001b[0;34m.\u001b[0m\u001b[0mwith_traceback\u001b[0m\u001b[0;34m(\u001b[0m\u001b[0mfiltered_tb\u001b[0m\u001b[0;34m)\u001b[0m \u001b[0;32mfrom\u001b[0m \u001b[0;32mNone\u001b[0m\u001b[0;34m\u001b[0m\u001b[0;34m\u001b[0m\u001b[0m\n\u001b[0m\u001b[1;32m    154\u001b[0m     \u001b[0;32mfinally\u001b[0m\u001b[0;34m:\u001b[0m\u001b[0;34m\u001b[0m\u001b[0;34m\u001b[0m\u001b[0m\n\u001b[1;32m    155\u001b[0m       \u001b[0;32mdel\u001b[0m \u001b[0mfiltered_tb\u001b[0m\u001b[0;34m\u001b[0m\u001b[0;34m\u001b[0m\u001b[0m\n",
      "\u001b[0;32m/usr/local/lib/python3.8/dist-packages/tensorflow/python/framework/ops.py\u001b[0m in \u001b[0;36m_create_c_op\u001b[0;34m(graph, node_def, inputs, control_inputs, op_def)\u001b[0m\n\u001b[1;32m   1961\u001b[0m   \u001b[0;32mexcept\u001b[0m \u001b[0merrors\u001b[0m\u001b[0;34m.\u001b[0m\u001b[0mInvalidArgumentError\u001b[0m \u001b[0;32mas\u001b[0m \u001b[0me\u001b[0m\u001b[0;34m:\u001b[0m\u001b[0;34m\u001b[0m\u001b[0;34m\u001b[0m\u001b[0m\n\u001b[1;32m   1962\u001b[0m     \u001b[0;31m# Convert to ValueError for backwards compatibility.\u001b[0m\u001b[0;34m\u001b[0m\u001b[0;34m\u001b[0m\u001b[0;34m\u001b[0m\u001b[0m\n\u001b[0;32m-> 1963\u001b[0;31m     \u001b[0;32mraise\u001b[0m \u001b[0mValueError\u001b[0m\u001b[0;34m(\u001b[0m\u001b[0me\u001b[0m\u001b[0;34m.\u001b[0m\u001b[0mmessage\u001b[0m\u001b[0;34m)\u001b[0m\u001b[0;34m\u001b[0m\u001b[0;34m\u001b[0m\u001b[0m\n\u001b[0m\u001b[1;32m   1964\u001b[0m \u001b[0;34m\u001b[0m\u001b[0m\n\u001b[1;32m   1965\u001b[0m   \u001b[0;32mreturn\u001b[0m \u001b[0mc_op\u001b[0m\u001b[0;34m\u001b[0m\u001b[0;34m\u001b[0m\u001b[0m\n",
      "\u001b[0;31mValueError\u001b[0m: Shape must be rank 1 but is rank 0 for '{{node truncated_normal_4/TruncatedNormal}} = TruncatedNormal[T=DT_INT32, dtype=DT_FLOAT, seed=0, seed2=0](truncated_normal_4/shape)' with input shapes: []."
     ]
    }
   ],
   "source": [
    "\"\"\"tf.truncated_normal()\"\"\"\n",
    "\"\"\"The truncated normal function returns a tensor with random values from a normal distribution whose magnitude is no more that two standard deviations from the\n",
    "mean. Since the weights are already preventing the model from getting stuck, you don't need to randomize the bias. lets use the simpliest solution setting \n",
    "bias to zero.\"\"\"\n",
    "n_features=120\n",
    "n_labels=5\n",
    "weights=tf.Variable(tf.compat.v1.truncated_normal(n_features,n_labels))\n",
    "\n",
    "weights"
   ]
  },
  {
   "cell_type": "code",
   "execution_count": 131,
   "metadata": {
    "id": "SsX4K7g-IT6e"
   },
   "outputs": [],
   "source": [
    "n_labels=5\n",
    "bias=tf.Variable(tf.zeros(n_labels))"
   ]
  },
  {
   "cell_type": "code",
   "execution_count": 133,
   "metadata": {
    "colab": {
     "base_uri": "https://localhost:8080/"
    },
    "id": "agVEogqcLzz1",
    "outputId": "4e795e7c-6ce9-4a1f-d09e-e1347b9e74f6"
   },
   "outputs": [
    {
     "name": "stdout",
     "output_type": "stream",
     "text": [
      "45\n"
     ]
    }
   ],
   "source": [
    "\"\"\"Feed is used to temporarily replace the output of the operation with a tensor value. The parameter feed_dict is used to override tensor values in the graph.\n",
    "and it expects a python dictionary object as input. feed_dict is also useful is specifying input values.\"\"\"\n",
    "\n",
    "a=tf.add(2,5)\n",
    "b=tf.multiply(a,3)\n",
    "sess=tf.compat.v1.Session()\n",
    "replace_dict={a:15}\n",
    "output=sess.run(b, feed_dict=replace_dict)\n",
    "print(output)"
   ]
  },
  {
   "cell_type": "code",
   "execution_count": 135,
   "metadata": {
    "id": "ME6K59dsPUV9"
   },
   "outputs": [],
   "source": [
    "\"\"\"Tensor flow softmax squashes its inputs typically known as logits or logit scores, to be between 0 and 1 and also normalises the outputs such that their sum \n",
    "adds to 1. The means of the outputs of a softmax function is equvalent to the categorical probability distribution. It is perfect for multiclass classification.\"\"\"\n",
    "\n",
    "x=tf.nn.softmax([1.0,2.0,0.5])\n"
   ]
  },
  {
   "cell_type": "code",
   "execution_count": 142,
   "metadata": {
    "id": "pjiqbD42SrDL"
   },
   "outputs": [],
   "source": [
    "def run():\n",
    "    output=None\n",
    "    logit_data=[19,354,354,45,54]\n",
    "    logits=tf.compat.v1.placeholder(tf.float32)\n",
    "\n",
    "    #calculate the softmax of the logits\n",
    "    softmax=tf.nn.softmax(logits) #nn stands for neural networks.\n",
    "\n",
    "    with tf.compat.v1.Session() as sess:\n",
    "      output=sess.run(softmax,feed_dict={logits: logit_data})\n",
    "\n",
    "    return output"
   ]
  },
  {
   "cell_type": "code",
   "execution_count": 143,
   "metadata": {
    "colab": {
     "base_uri": "https://localhost:8080/"
    },
    "id": "_WzMyEH7Tmmo",
    "outputId": "d239020d-427b-4d5f-dfed-17da6e6649ab"
   },
   "outputs": [
    {
     "name": "stdout",
     "output_type": "stream",
     "text": [
      "[0.  0.5 0.5 0.  0. ]\n"
     ]
    }
   ],
   "source": [
    "print(run())"
   ]
  },
  {
   "cell_type": "code",
   "execution_count": 148,
   "metadata": {
    "colab": {
     "base_uri": "https://localhost:8080/"
    },
    "id": "jIuVBmhoUCHa",
    "outputId": "d7b03135-b8c6-40f0-ad98-e599813b44ad"
   },
   "outputs": [
    {
     "name": "stdout",
     "output_type": "stream",
     "text": [
      "-0.46396342\n"
     ]
    }
   ],
   "source": [
    "softmax_data=[0.7,0.2,0.1]\n",
    "one_hot_data=[1.0,0.0,0.0]\n",
    "\n",
    "softmax_1=tf.compat.v1.placeholder(tf.float32)\n",
    "one_hot=tf.compat.v1.placeholder(tf.float32)\n",
    "\n",
    "cross_entropy= -tf.reduce_sum(tf.multiply(one_hot,tf.nn.softmax(softmax_1)))  #reduce sum refers to mean\n",
    "\n",
    "with tf.compat.v1.Session() as sess:\n",
    "  output=sess.run(cross_entropy,feed_dict={one_hot:one_hot_data, softmax_1:softmax_data})\n",
    "\n",
    "print(output)"
   ]
  },
  {
   "cell_type": "code",
   "execution_count": 1,
   "metadata": {
    "id": "ZjM3E_tXXALK"
   },
   "outputs": [
    {
     "data": {
      "text/plain": [
       "'Tensorflow2 can easily be integrated in keras.'"
      ]
     },
     "execution_count": 1,
     "metadata": {},
     "output_type": "execute_result"
    }
   ],
   "source": [
    "\"\"\"Difference between TensorFlow1 and TensorFlow2\"\"\"\n",
    "\"\"\"In tensorflow1 we had graph which we had to run in session but in tensorflow2 there is nothing as session. i.e TensorFlow 2 has eager execution.\"\"\"\n",
    "\"\"\"Tensorflow2 can easily be integrated in keras.\"\"\""
   ]
  },
  {
   "cell_type": "code",
   "execution_count": null,
   "metadata": {
    "id": "2LnHMAwZTulN"
   },
   "outputs": [],
   "source": []
  },
  {
   "cell_type": "markdown",
   "metadata": {
    "id": "fM4k0xCPfgtL"
   },
   "source": []
  }
 ],
 "metadata": {
  "colab": {
   "provenance": []
  },
  "kernelspec": {
   "display_name": "Python 3",
   "language": "python",
   "name": "python3"
  },
  "language_info": {
   "codemirror_mode": {
    "name": "ipython",
    "version": 3
   },
   "file_extension": ".py",
   "mimetype": "text/x-python",
   "name": "python",
   "nbconvert_exporter": "python",
   "pygments_lexer": "ipython3",
   "version": "3.8.8"
  }
 },
 "nbformat": 4,
 "nbformat_minor": 1
}
