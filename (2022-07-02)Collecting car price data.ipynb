{
 "cells": [
  {
   "cell_type": "code",
   "execution_count": 8,
   "id": "a3bff334",
   "metadata": {},
   "outputs": [],
   "source": [
    "import selenium\n",
    "import pandas as pd\n",
    "from selenium import webdriver\n",
    "import warnings\n",
    "warnings.filterwarnings('ignore')\n",
    "import time\n",
    "from selenium.common.exceptions import NoSuchElementException"
   ]
  },
  {
   "cell_type": "code",
   "execution_count": 449,
   "id": "5acc9bc6",
   "metadata": {},
   "outputs": [],
   "source": [
    "driver=webdriver.Chrome(\"chromedriver.exe\")"
   ]
  },
  {
   "cell_type": "code",
   "execution_count": 346,
   "id": "4e2e69f4",
   "metadata": {},
   "outputs": [],
   "source": [
    "driver.get('https://www.cardekho.com/used-cars+in+ahmedabad+first-owner')"
   ]
  },
  {
   "cell_type": "code",
   "execution_count": 147,
   "id": "24e7b655",
   "metadata": {},
   "outputs": [],
   "source": [
    "brand=[]\n",
    "model=[]\n",
    "variant=[]\n",
    "year=[]\n",
    "drv_kms=[]\n",
    "fuel=[]\n",
    "number_owners=[]\n",
    "location=[]\n",
    "price_lakhs=[]"
   ]
  },
  {
   "cell_type": "code",
   "execution_count": 148,
   "id": "ed46a908",
   "metadata": {},
   "outputs": [],
   "source": [
    "#/html/body/div[2]/div/div[1]/div/div/main/div[1]/div[1]/div[6]/div[1]/div/div[2]/div/div/a\n",
    "#/html/body/div[2]/div/div[1]/div/div/main/div[1]/div[1]/div[6]/div[1]/div/div[2]/div/div/a\n",
    "#/html/body/div[2]/div/div[1]/div/div/main/div[1]/div[1]/div[6]/div[2]/div/div[2]/div/div/a\n",
    "#/html/body/div[2]/div/div[1]/div/div/main/div[1]/div[1]/div[6]/div[11]/div/div[2]/div/div/a\n",
    "#/html/body/div[2]/div/div[1]/div/div/main/div[1]/div[1]/div[6]/div[13]/div/div[2]/div/div/a\n",
    "\n",
    "#/html/body/div[2]/div/div[1]/div/div/main/div[1]/div[1]/div[6]/div[68]/div/div[2]/div/div/a\n",
    "\n",
    "#//*[@id=\"carList-3352568\"]/div/div[2]/div/div/a\n",
    "#//*[@id=\"carList-3355136\"]/div/div[2]/div/div/a"
   ]
  },
  {
   "cell_type": "code",
   "execution_count": 347,
   "id": "dae0549c",
   "metadata": {},
   "outputs": [],
   "source": [
    "brand=[]\n",
    "for i in range(1,301):\n",
    "    try:\n",
    "        element=driver.find_element_by_xpath('/html/body/div[2]/div/div[1]/div/div/main/div[1]/div[1]/div[6]/div['+str(i)+']/div/div[2]/div/div/a')\n",
    "        brand.append(element.text.split(' '))\n",
    "    except NoSuchElementException:\n",
    "        continue"
   ]
  },
  {
   "cell_type": "code",
   "execution_count": 348,
   "id": "b18e0cc1",
   "metadata": {},
   "outputs": [
    {
     "data": {
      "text/plain": [
       "295"
      ]
     },
     "execution_count": 348,
     "metadata": {},
     "output_type": "execute_result"
    }
   ],
   "source": [
    "len(brand)"
   ]
  },
  {
   "cell_type": "code",
   "execution_count": 349,
   "id": "9d993acf",
   "metadata": {},
   "outputs": [
    {
     "data": {
      "text/plain": [
       "[['2018', 'Honda', 'Jazz'],\n",
       " ['2018', 'Hyundai', 'Verna'],\n",
       " ['2016', 'Honda', 'Jazz'],\n",
       " ['2017', 'Honda', 'Jazz'],\n",
       " ['2018', 'Hyundai', 'i20'],\n",
       " ['2018', 'Hyundai', 'i20'],\n",
       " ['2018', 'Honda', 'Jazz'],\n",
       " ['2020', 'Tata', 'Tiago'],\n",
       " ['2018', 'Hyundai', 'Grand', 'i10'],\n",
       " ['2018', 'Maruti', 'Ignis'],\n",
       " ['2020', 'Renault', 'KWID'],\n",
       " ['2021', 'Renault', 'Duster'],\n",
       " ['2021', 'Hyundai', 'Tucson'],\n",
       " ['2017', 'Jeep', 'Compass'],\n",
       " ['2017', 'Maruti', 'Ciaz'],\n",
       " ['2016', 'Mahindra', 'KUV', '100'],\n",
       " ['2017', 'Maruti', 'Vitara', 'Brezza'],\n",
       " ['2021', 'Nissan', 'Magnite'],\n",
       " ['2017', 'Hyundai', 'EON'],\n",
       " ['2018', 'Maruti', 'Ignis'],\n",
       " ['2018', 'Renault', 'KWID'],\n",
       " ['2017', 'Maruti', 'Baleno'],\n",
       " ['2020', 'MG', 'Hector'],\n",
       " ['2018', 'Maruti', 'Alto', '800'],\n",
       " ['2020', 'Honda', 'City'],\n",
       " ['2017', 'Renault', 'Duster'],\n",
       " ['2016', 'Renault', 'Lodgy'],\n",
       " ['2016', 'Hyundai', 'Grand', 'i10'],\n",
       " ['2017', 'Hyundai', 'i20'],\n",
       " ['2018', 'Maruti', 'Alto', 'K10'],\n",
       " ['2017', 'Maruti', 'Swift'],\n",
       " ['2017', 'Volkswagen', 'Polo'],\n",
       " ['2018', 'Datsun', 'RediGO'],\n",
       " ['2019', 'Jeep', 'Compass'],\n",
       " ['2019', 'Hyundai', 'Santro'],\n",
       " ['2016', 'Hyundai', 'Xcent'],\n",
       " ['2016', 'Nissan', 'Terrano'],\n",
       " ['2015', 'Hyundai', 'Grand', 'i10'],\n",
       " ['2017', 'Maruti', 'Baleno'],\n",
       " ['2022', 'Tata', 'Tigor'],\n",
       " ['2019', 'Maruti', 'Vitara', 'Brezza'],\n",
       " ['2012', 'Hyundai', 'i10'],\n",
       " ['2021', 'Renault', 'KWID'],\n",
       " ['2016', 'Honda', 'City'],\n",
       " ['2017', 'Maruti', 'Ignis'],\n",
       " ['2013', 'Honda', 'Brio'],\n",
       " ['2018', 'Maruti', 'SX4', 'S', 'Cross'],\n",
       " ['2015', 'Hyundai', 'i20'],\n",
       " ['2021', 'Nissan', 'Magnite'],\n",
       " ['2016', 'Maruti', 'Baleno'],\n",
       " ['2018', 'Mahindra', 'Marazzo'],\n",
       " ['2021', 'Maruti', 'Baleno'],\n",
       " ['2020', 'Maruti', 'Alto', '800'],\n",
       " ['2019', 'Maruti', 'Wagon', 'R'],\n",
       " ['2016', 'Honda', 'Jazz'],\n",
       " ['2019', 'Maruti', 'S-Presso'],\n",
       " ['2015', 'Maruti', 'Swift', 'Dzire'],\n",
       " ['2019', 'Hyundai', 'Verna'],\n",
       " ['2016', 'Maruti', 'Baleno'],\n",
       " ['2012', 'Hyundai', 'i10'],\n",
       " ['2017', 'Volkswagen', 'Vento'],\n",
       " ['2018', 'Maruti', 'Alto', '800'],\n",
       " ['2018', 'Maruti', 'Vitara', 'Brezza'],\n",
       " ['2014', 'Honda', 'Amaze'],\n",
       " ['2021', 'Hyundai', 'Grand', 'i10', 'Nios'],\n",
       " ['2017', 'Tata', 'Tigor'],\n",
       " ['2018', 'Maruti', 'Swift', 'Dzire'],\n",
       " ['2017', 'Volkswagen', 'Vento'],\n",
       " ['2018', 'Tata', 'Tiago'],\n",
       " ['2018', 'Maruti', 'Swift', 'Dzire'],\n",
       " ['2015', 'Maruti', 'Ciaz'],\n",
       " ['2014', 'Maruti', 'Swift', 'Dzire'],\n",
       " ['2016', 'Honda', 'City'],\n",
       " ['2016', 'Hyundai', 'i20'],\n",
       " ['2018', 'Jeep', 'Compass'],\n",
       " ['2016', 'Maruti', 'Baleno'],\n",
       " ['2018', 'Renault', 'KWID'],\n",
       " ['2018', 'Maruti', 'Baleno'],\n",
       " ['2015', 'Honda', 'Amaze'],\n",
       " ['2016', 'Hyundai', 'Verna'],\n",
       " ['2014', 'Hyundai', 'EON'],\n",
       " ['2015', 'Honda', 'CR-V'],\n",
       " ['2017', 'Hyundai', 'Creta'],\n",
       " ['2017', 'Mahindra', 'XUV500'],\n",
       " ['2016', 'Maruti', 'Ciaz'],\n",
       " ['2015', 'Hyundai', 'Grand', 'i10'],\n",
       " ['2015', 'Mahindra', 'XUV500'],\n",
       " ['2016', 'Maruti', 'SX4', 'S', 'Cross'],\n",
       " ['2019', 'Honda', 'Amaze'],\n",
       " ['2015', 'Maruti', 'Wagon', 'R'],\n",
       " ['2017', 'Maruti', 'Alto', 'K10'],\n",
       " ['2018', 'Maruti', 'Swift', 'Dzire'],\n",
       " ['2018', 'Hyundai', 'Grand', 'i10'],\n",
       " ['2012', 'Honda', 'Jazz'],\n",
       " ['2014', 'Honda', 'City'],\n",
       " ['2016', 'Skoda', 'Rapid'],\n",
       " ['2014', 'Maruti', 'Wagon', 'R'],\n",
       " ['2018', 'Honda', 'City'],\n",
       " ['2020', 'Datsun', 'RediGO'],\n",
       " ['2016', 'Hyundai', 'Grand', 'i10'],\n",
       " ['2014', 'Maruti', 'Wagon', 'R'],\n",
       " ['2016', 'Hyundai', 'Grand', 'i10'],\n",
       " ['2017', 'Hyundai', 'Creta'],\n",
       " ['2016', 'Honda', 'City'],\n",
       " ['2018', 'Hyundai', 'Grand', 'i10'],\n",
       " ['2014', 'Datsun', 'GO'],\n",
       " ['2017', 'Maruti', 'Alto', '800'],\n",
       " ['2017', 'Hyundai', 'EON'],\n",
       " ['2017', 'Hyundai', 'i20'],\n",
       " ['2017', 'Maruti', 'Alto', '800'],\n",
       " ['2016', 'Honda', 'City'],\n",
       " ['2016', 'Maruti', 'Swift'],\n",
       " ['2015', 'Hyundai', 'i10'],\n",
       " ['2016', 'Honda', 'City'],\n",
       " ['2018', 'Renault', 'Duster'],\n",
       " ['2014', 'Nissan', 'Micra', 'Active'],\n",
       " ['2015', 'Maruti', 'Alto', '800'],\n",
       " ['2016', 'Mahindra', 'Thar'],\n",
       " ['2015', 'Honda', 'Mobilio'],\n",
       " ['2014', 'Maruti', 'Alto', 'K10'],\n",
       " ['2018', 'Hyundai', 'Creta'],\n",
       " ['2018', 'Hyundai', 'EON'],\n",
       " ['2018', 'Maruti', 'Alto', '800'],\n",
       " ['2014', 'Maruti', 'Wagon', 'R'],\n",
       " ['2015', 'Maruti', 'Wagon', 'R'],\n",
       " ['2014', 'Maruti', 'Ciaz'],\n",
       " ['2015', 'Maruti', 'Wagon', 'R'],\n",
       " ['2015', 'Honda', 'Amaze'],\n",
       " ['2018', 'Datsun', 'GO'],\n",
       " ['2018', 'Hyundai', 'Verna'],\n",
       " ['2016', 'Mahindra', 'XUV500'],\n",
       " ['2014', 'Maruti', 'Swift', 'Dzire'],\n",
       " ['2017', 'Tata', 'Tiago'],\n",
       " ['2017', 'Mahindra', 'KUV', '100'],\n",
       " ['2016', 'Hyundai', 'Grand', 'i10'],\n",
       " ['2016', 'Renault', 'KWID'],\n",
       " ['2018', 'Maruti', 'Swift'],\n",
       " ['2012', 'Hyundai', 'i10'],\n",
       " ['2018', 'Tata', 'Tigor'],\n",
       " ['2017', 'Maruti', 'Vitara', 'Brezza'],\n",
       " ['2018', 'Hyundai', 'Grand', 'i10'],\n",
       " ['2018', 'Maruti', 'Ertiga'],\n",
       " ['2016', 'Mahindra', 'XUV500'],\n",
       " ['2017', 'Hyundai', 'Grand', 'i10'],\n",
       " ['2019', 'Maruti', 'Baleno'],\n",
       " ['2016', 'Hyundai', 'Verna'],\n",
       " ['2013', 'Hyundai', 'Verna'],\n",
       " ['2016', 'Renault', 'KWID'],\n",
       " ['2015', 'Hyundai', 'i10'],\n",
       " ['2018', 'Maruti', 'Baleno'],\n",
       " ['2020', 'Maruti', 'Wagon', 'R'],\n",
       " ['2015', 'Honda', 'City'],\n",
       " ['2015', 'Maruti', 'Ciaz'],\n",
       " ['2013', 'Maruti', 'Eeco'],\n",
       " ['2015', 'Mahindra', 'XUV500'],\n",
       " ['2016', 'Hyundai', 'Creta'],\n",
       " ['2003', 'Maruti', '800'],\n",
       " ['2017', 'Toyota', 'Innova', 'Crysta'],\n",
       " ['2018', 'Maruti', 'Alto', '800'],\n",
       " ['2010', 'Hyundai', 'i10'],\n",
       " ['2018', 'Mahindra', 'Bolero', 'Power', 'Plus'],\n",
       " ['2012', 'BMW', '5', 'Series'],\n",
       " ['2018', 'Maruti', 'Ignis'],\n",
       " ['2015', 'Mahindra', 'XUV500'],\n",
       " ['2013', 'Toyota', 'Innova'],\n",
       " ['2012', 'Toyota', 'Corolla', 'Altis'],\n",
       " ['2012', 'Nissan', 'Sunny'],\n",
       " ['2011', 'Volkswagen', 'Polo'],\n",
       " ['2007', 'Honda', 'Civic'],\n",
       " ['2010', 'Honda', 'City'],\n",
       " ['2012', 'Honda', 'City'],\n",
       " ['2017', 'Honda', 'City'],\n",
       " ['2015', 'Honda', 'Amaze'],\n",
       " ['2015', 'Honda', 'Amaze'],\n",
       " ['2018', 'Honda', 'WR-V'],\n",
       " ['2019', 'BMW', 'X1'],\n",
       " ['2019', 'Hyundai', 'Xcent'],\n",
       " ['2018', 'Hyundai', 'Verna'],\n",
       " ['2019', 'Hyundai', 'Verna'],\n",
       " ['2007', 'Hyundai', 'Sonata'],\n",
       " ['2005', 'Hyundai', 'Sonata'],\n",
       " ['2014', 'Maruti', 'Ritz'],\n",
       " ['2018', 'Maruti', 'Eeco'],\n",
       " ['2018', 'Maruti', 'Ciaz'],\n",
       " ['2013', 'Chevrolet', 'Cruze'],\n",
       " ['2020', 'Maruti', 'Baleno'],\n",
       " ['2016', 'Chevrolet', 'Cruze'],\n",
       " ['2016', 'Maruti', 'Alto', '800'],\n",
       " ['2015', 'Maruti', 'Baleno'],\n",
       " ['2019', 'Tata', 'Harrier'],\n",
       " ['2017', 'Hyundai', 'Verna'],\n",
       " ['2020', 'Honda', 'Amaze'],\n",
       " ['2011', 'Toyota', 'Innova'],\n",
       " ['2018', 'Ford', 'Ecosport'],\n",
       " ['2019', 'Maruti', 'XL6'],\n",
       " ['2018', 'Hyundai', 'Creta'],\n",
       " ['2020', 'Hyundai', 'Creta'],\n",
       " ['2018', 'Hyundai', 'Creta'],\n",
       " ['2015', 'Honda', 'City'],\n",
       " ['2017', 'Honda', 'City'],\n",
       " ['2011', 'Hyundai', 'i10'],\n",
       " ['2017', 'Honda', 'Jazz'],\n",
       " ['2016', 'Maruti', 'Baleno'],\n",
       " ['2019', 'Maruti', 'Alto', '800'],\n",
       " ['2018', 'Maruti', 'Ertiga'],\n",
       " ['2018', 'Datsun', 'RediGO'],\n",
       " ['2011', 'Honda', 'City'],\n",
       " ['2008', 'Maruti', 'Wagon', 'R'],\n",
       " ['2021', 'Tata', 'New', 'Safari'],\n",
       " ['2015', 'Renault', 'Pulse'],\n",
       " ['2015', 'Toyota', 'Innova'],\n",
       " ['2017', 'Mahindra', 'XUV500'],\n",
       " ['2020', 'Mahindra', 'XUV300'],\n",
       " ['2018', 'Mahindra', 'XUV500'],\n",
       " ['2017', 'Datsun', 'RediGO'],\n",
       " ['2015', 'Honda', 'City'],\n",
       " ['2015', 'Maruti', 'Ciaz'],\n",
       " ['2017', 'Hyundai', 'i20'],\n",
       " ['2016', 'Jaguar', 'XF'],\n",
       " ['2014', 'Maruti', 'Alto', 'K10'],\n",
       " ['2017', 'Mercedes-Benz', 'S-Class'],\n",
       " ['2021', 'Jeep', 'Wrangler'],\n",
       " ['2020', 'Ford', 'Endeavour'],\n",
       " ['2016', 'Hyundai', 'Grand', 'i10'],\n",
       " ['2017', 'Tata', 'Zest'],\n",
       " ['2018', 'Honda', 'WR-V'],\n",
       " ['2019', 'Tata', 'Tiago'],\n",
       " ['2016', 'Renault', 'KWID'],\n",
       " ['2016', 'Honda', 'Jazz'],\n",
       " ['2014', 'Honda', 'CR-V'],\n",
       " ['2017', 'Maruti', 'Ciaz'],\n",
       " ['2016', 'Honda', 'Brio'],\n",
       " ['2009', 'Toyota', 'Corolla', 'Altis'],\n",
       " ['2016', 'Skoda', 'Rapid'],\n",
       " ['2011', 'Hyundai', 'i10'],\n",
       " ['2020', 'Mahindra', 'Marazzo'],\n",
       " ['2018', 'Datsun', 'GO'],\n",
       " ['2018', 'Mahindra', 'XUV500'],\n",
       " ['2012', 'Volkswagen', 'Polo'],\n",
       " ['2019', 'Ford', 'Ecosport'],\n",
       " ['2008', 'Hyundai', 'i10'],\n",
       " ['2013', 'Honda', 'Brio'],\n",
       " ['2022', 'MG', 'Astor'],\n",
       " ['2013', 'Hyundai', 'i10'],\n",
       " ['2015', 'Ford', 'Ecosport'],\n",
       " ['2017', 'Ford', 'Figo'],\n",
       " ['2021', 'Maruti', 'Baleno'],\n",
       " ['2013', 'Honda', 'City'],\n",
       " ['2015', 'Mahindra', 'XUV500'],\n",
       " ['2020', 'MG', 'Hector'],\n",
       " ['2019', 'Land', 'Rover', 'Discovery'],\n",
       " ['2014', 'Fiat', 'Punto'],\n",
       " ['2013', 'Maruti', 'Swift'],\n",
       " ['2011', 'Nissan', 'Micra'],\n",
       " ['2022', 'Kia', 'Sonet'],\n",
       " ['2020', 'Hyundai', 'Creta'],\n",
       " ['2017', 'Maruti', 'Vitara', 'Brezza'],\n",
       " ['2015', 'Hyundai', 'i20'],\n",
       " ['2020', 'Maruti', 'Ciaz'],\n",
       " ['2019', 'MG', 'Hector'],\n",
       " ['2021', 'Maruti', 'Vitara', 'Brezza'],\n",
       " ['2020', 'Hyundai', 'Verna'],\n",
       " ['2018', 'Mercedes-Benz', 'GLA', 'Class'],\n",
       " ['2018', 'Mahindra', 'TUV', '300'],\n",
       " ['2020', 'Mahindra', 'Thar'],\n",
       " ['2017', 'Maruti', 'Ciaz'],\n",
       " ['2017', 'Maruti', 'Ciaz'],\n",
       " ['2019', 'MG', 'Hector'],\n",
       " ['2013', 'Audi', 'Q3'],\n",
       " ['2020', 'Kia', 'Seltos'],\n",
       " ['2021', 'Tata', 'Harrier'],\n",
       " ['2012', 'Toyota', 'Fortuner'],\n",
       " ['2018', 'Toyota', 'Fortuner'],\n",
       " ['2017', 'Mercedes-Benz', 'E-Class'],\n",
       " ['2017', 'Honda', 'City'],\n",
       " ['2018', 'Honda', 'City'],\n",
       " ['2012', 'BMW', '5', 'Series'],\n",
       " ['2020', 'Skoda', 'Rapid'],\n",
       " ['2014', 'Hyundai', 'Grand', 'i10'],\n",
       " ['2014', 'Honda', 'City'],\n",
       " ['2018', 'Hyundai', 'Grand', 'i10'],\n",
       " ['2014', 'Hyundai', 'EON'],\n",
       " ['2014', 'Hyundai', 'Elantra'],\n",
       " ['2016', 'Maruti', 'Celerio'],\n",
       " ['2017', 'Jeep', 'Compass'],\n",
       " ['2011', 'Maruti', 'Wagon', 'R'],\n",
       " ['2013', 'Mahindra', 'Xylo'],\n",
       " ['2018', 'Hyundai', 'Verna'],\n",
       " ['2015', 'Hyundai', 'Elantra'],\n",
       " ['2010', 'Hyundai', 'i20'],\n",
       " ['2020', 'Tata', 'Nexon'],\n",
       " ['2009', 'Honda', 'City'],\n",
       " ['2019', 'Hyundai', 'Verna'],\n",
       " ['2010', 'Maruti', 'Wagon', 'R'],\n",
       " ['2021', 'Volkswagen', 'Polo']]"
      ]
     },
     "execution_count": 349,
     "metadata": {},
     "output_type": "execute_result"
    }
   ],
   "source": [
    "brand"
   ]
  },
  {
   "cell_type": "code",
   "execution_count": 350,
   "id": "8bd2605e",
   "metadata": {},
   "outputs": [],
   "source": [
    "year=[]\n",
    "for i in brand:\n",
    "    year.append(int(i[0]))\n",
    "\n",
    "brand_name=[]\n",
    "for i in brand:\n",
    "    brand_name.append(i[1])\n",
    "\n",
    "model=[]\n",
    "for i in brand:\n",
    "    if len(i)==3:\n",
    "        model.append(i[2])\n",
    "    elif len(i)>3:\n",
    "        model.append(i[2]+'_'+i[3])\n",
    "\n",
    "#for i in model:\n",
    "    #if len(i)>1:\n",
    "        "
   ]
  },
  {
   "cell_type": "code",
   "execution_count": 351,
   "id": "ee51cc86",
   "metadata": {},
   "outputs": [
    {
     "data": {
      "text/plain": [
       "295"
      ]
     },
     "execution_count": 351,
     "metadata": {},
     "output_type": "execute_result"
    }
   ],
   "source": [
    "len(model)"
   ]
  },
  {
   "cell_type": "code",
   "execution_count": 354,
   "id": "535c2530",
   "metadata": {},
   "outputs": [
    {
     "data": {
      "text/plain": [
       "295"
      ]
     },
     "execution_count": 354,
     "metadata": {},
     "output_type": "execute_result"
    }
   ],
   "source": [
    "len(brand_name)"
   ]
  },
  {
   "cell_type": "code",
   "execution_count": 355,
   "id": "3202106e",
   "metadata": {},
   "outputs": [
    {
     "data": {
      "text/plain": [
       "295"
      ]
     },
     "execution_count": 355,
     "metadata": {},
     "output_type": "execute_result"
    }
   ],
   "source": [
    "len(model)"
   ]
  },
  {
   "cell_type": "code",
   "execution_count": 352,
   "id": "62c9241c",
   "metadata": {},
   "outputs": [],
   "source": [
    "#/html/body/div[2]/div/div[1]/div/div/main/div[1]/div[1]/div[6]/div[1]/div/div[2]/div/div/div[2]\n",
    "#/html/body/div[2]/div/div[1]/div/div/main/div[1]/div[1]/div[6]/div[2]/div/div[2]/div/div/div[2]"
   ]
  },
  {
   "cell_type": "code",
   "execution_count": 353,
   "id": "b0a5b9b3",
   "metadata": {},
   "outputs": [],
   "source": [
    "variant=[]\n",
    "for i in range(1,301):\n",
    "    try:\n",
    "        element=driver.find_element_by_xpath('/html/body/div[2]/div/div[1]/div/div/main/div[1]/div[1]/div[6]/div['+str(i)+']/div/div[2]/div/div/div[2]')\n",
    "        variant.append(element.text)\n",
    "    except NoSuchElementException:\n",
    "        continue"
   ]
  },
  {
   "cell_type": "code",
   "execution_count": 356,
   "id": "23d58ebb",
   "metadata": {},
   "outputs": [
    {
     "data": {
      "text/plain": [
       "295"
      ]
     },
     "execution_count": 356,
     "metadata": {},
     "output_type": "execute_result"
    }
   ],
   "source": [
    "len(variant)"
   ]
  },
  {
   "cell_type": "code",
   "execution_count": 303,
   "id": "2d711a1a",
   "metadata": {},
   "outputs": [],
   "source": [
    "#/html/body/div[2]/div/div[1]/div/div/main/div[1]/div[1]/div[6]/div[1]/div/div[2]/div/div/div[4]/div[1]\n",
    "#/html/body/div[2]/div/div[1]/div/div/main/div[1]/div[1]/div[6]/div[2]/div/div[2]/div/div/div[4]/div[1]"
   ]
  },
  {
   "cell_type": "code",
   "execution_count": 357,
   "id": "cf0033ad",
   "metadata": {},
   "outputs": [],
   "source": [
    "kms=[]\n",
    "for i in range(1,301):\n",
    "    try:\n",
    "        element=driver.find_element_by_xpath('/html/body/div[2]/div/div[1]/div/div/main/div[1]/div[1]/div[6]/div['+str(i)+']/div/div[2]/div/div/div[4]/div[1]')\n",
    "        kms.append(element.text)\n",
    "    except NoSuchElementException:\n",
    "        continue"
   ]
  },
  {
   "cell_type": "code",
   "execution_count": 358,
   "id": "b8e69e3d",
   "metadata": {},
   "outputs": [
    {
     "data": {
      "text/plain": [
       "295"
      ]
     },
     "execution_count": 358,
     "metadata": {},
     "output_type": "execute_result"
    }
   ],
   "source": [
    "len(kms)"
   ]
  },
  {
   "cell_type": "code",
   "execution_count": 359,
   "id": "174de7ab",
   "metadata": {},
   "outputs": [],
   "source": [
    "int_kms=[]\n",
    "for i in kms:\n",
    "    int_kms.append(int(i.split(' ')[0].split(',')[0]+i.split(' ')[0].split(',')[1]))"
   ]
  },
  {
   "cell_type": "code",
   "execution_count": 360,
   "id": "b5f92552",
   "metadata": {},
   "outputs": [
    {
     "data": {
      "text/plain": [
       "295"
      ]
     },
     "execution_count": 360,
     "metadata": {},
     "output_type": "execute_result"
    }
   ],
   "source": [
    "len(int_kms)"
   ]
  },
  {
   "cell_type": "code",
   "execution_count": 308,
   "id": "fb0461cf",
   "metadata": {},
   "outputs": [],
   "source": [
    "#/html/body/div[2]/div/div[1]/div/div/main/div[1]/div[1]/div[6]/div[1]/div/div[2]/div/div/div[4]/div[2]\n",
    "#/html/body/div[2]/div/div[1]/div/div/main/div[1]/div[1]/div[6]/div[2]/div/div[2]/div/div/div[4]/div[2]"
   ]
  },
  {
   "cell_type": "code",
   "execution_count": 361,
   "id": "1e2bbb55",
   "metadata": {},
   "outputs": [],
   "source": [
    "fuel=[]\n",
    "for i in range(1,301):\n",
    "    try:\n",
    "        element=driver.find_element_by_xpath('/html/body/div[2]/div/div[1]/div/div/main/div[1]/div[1]/div[6]/div['+str(i)+']/div/div[2]/div/div/div[4]/div[2]')\n",
    "        fuel.append(element.text)\n",
    "    except NoSuchElementException:\n",
    "        continue"
   ]
  },
  {
   "cell_type": "code",
   "execution_count": 362,
   "id": "7cfe9511",
   "metadata": {},
   "outputs": [
    {
     "data": {
      "text/plain": [
       "295"
      ]
     },
     "execution_count": 362,
     "metadata": {},
     "output_type": "execute_result"
    }
   ],
   "source": [
    "len(fuel)"
   ]
  },
  {
   "cell_type": "code",
   "execution_count": 363,
   "id": "fb593bff",
   "metadata": {},
   "outputs": [],
   "source": [
    "number_owners=[]\n",
    "location=[]\n",
    "for i in range(1,296):\n",
    "    number_owners.append(1)\n",
    "    location.append('Amhedabad')"
   ]
  },
  {
   "cell_type": "code",
   "execution_count": 364,
   "id": "6794bb94",
   "metadata": {},
   "outputs": [
    {
     "data": {
      "text/plain": [
       "295"
      ]
     },
     "execution_count": 364,
     "metadata": {},
     "output_type": "execute_result"
    }
   ],
   "source": [
    "len(number_owners)"
   ]
  },
  {
   "cell_type": "code",
   "execution_count": 365,
   "id": "0f909746",
   "metadata": {},
   "outputs": [
    {
     "data": {
      "text/plain": [
       "295"
      ]
     },
     "execution_count": 365,
     "metadata": {},
     "output_type": "execute_result"
    }
   ],
   "source": [
    "len(location)"
   ]
  },
  {
   "cell_type": "code",
   "execution_count": 366,
   "id": "1da0320e",
   "metadata": {},
   "outputs": [],
   "source": [
    "price_raw=[]\n",
    "for i in range(1,301):\n",
    "    try:\n",
    "        element=driver.find_element_by_xpath('/html/body/div[2]/div/div[1]/div/div/main/div[1]/div[1]/div[6]/div['+str(i)+']/div/div[2]/div/div/div[3]/span[2]')\n",
    "        price_raw.append(element.text)\n",
    "    except NoSuchElementException:\n",
    "        continue"
   ]
  },
  {
   "cell_type": "code",
   "execution_count": 367,
   "id": "f95d4ec9",
   "metadata": {},
   "outputs": [],
   "source": [
    "#/html/body/div[2]/div/div[1]/div/div/main/div[1]/div[1]/div[6]/div[138]/div/div[2]/div/div/div[3]/span[2]\n",
    "#/html/body/div[2]/div/div[1]/div/div/main/div[1]/div[1]/div[6]/div[139]/div/div[2]/div/div/div[3]/span[2]"
   ]
  },
  {
   "cell_type": "code",
   "execution_count": 368,
   "id": "b609b634",
   "metadata": {},
   "outputs": [
    {
     "data": {
      "text/plain": [
       "295"
      ]
     },
     "execution_count": 368,
     "metadata": {},
     "output_type": "execute_result"
    }
   ],
   "source": [
    "len(price_raw)"
   ]
  },
  {
   "cell_type": "code",
   "execution_count": 369,
   "id": "63cb4b33",
   "metadata": {},
   "outputs": [
    {
     "data": {
      "text/plain": [
       "['7.05 Lakh',\n",
       " '10.00 Lakh',\n",
       " '6.25 Lakh',\n",
       " '5.12 Lakh',\n",
       " '6.37 Lakh',\n",
       " '6.53 Lakh',\n",
       " '7.74 Lakh',\n",
       " '5.90 Lakh',\n",
       " '5.42 Lakh',\n",
       " '4.83 Lakh',\n",
       " '4.49 Lakh',\n",
       " '13.90 Lakh',\n",
       " '23.10 Lakh',\n",
       " '12.40 Lakh',\n",
       " '7.02 Lakh',\n",
       " '3.73 Lakh',\n",
       " '7.62 Lakh',\n",
       " '8.40 Lakh',\n",
       " '3.15 Lakh',\n",
       " '4.75 Lakh',\n",
       " '3.39 Lakh',\n",
       " '6.40 Lakh',\n",
       " '17.75 Lakh',\n",
       " '3.50 Lakh',\n",
       " '10.00 Lakh',\n",
       " '7.50 Lakh',\n",
       " '5.24 Lakh',\n",
       " '4.93 Lakh',\n",
       " '6.64 Lakh',\n",
       " '3.45 Lakh',\n",
       " '5.34 Lakh',\n",
       " '4.95 Lakh',\n",
       " '3.25 Lakh',\n",
       " '17.05 Lakh',\n",
       " '5.48 Lakh',\n",
       " '4.57 Lakh',\n",
       " '5.66 Lakh',\n",
       " '4.19 Lakh',\n",
       " '6.40 Lakh',\n",
       " '8.25 Lakh',\n",
       " '8.75 Lakh',\n",
       " '3.05 Lakh',\n",
       " '4.40 Lakh',\n",
       " '7.37 Lakh',\n",
       " '5.43 Lakh',\n",
       " '2.97 Lakh',\n",
       " '8.34 Lakh',\n",
       " '5.70 Lakh',\n",
       " '8.60 Lakh',\n",
       " '5.77 Lakh',\n",
       " '10.12 Lakh',\n",
       " '6.88 Lakh',\n",
       " '3.75 Lakh',\n",
       " '5.15 Lakh',\n",
       " '4.65 Lakh',\n",
       " '3.73 Lakh',\n",
       " '4.89 Lakh',\n",
       " '9.77 Lakh',\n",
       " '5.07 Lakh',\n",
       " '2.65 Lakh',\n",
       " '7.54 Lakh',\n",
       " '3.20 Lakh',\n",
       " '8.95 Lakh',\n",
       " '4.47 Lakh',\n",
       " '6.55 Lakh',\n",
       " '4.57 Lakh',\n",
       " '6.95 Lakh',\n",
       " '7.63 Lakh',\n",
       " '4.60 Lakh',\n",
       " '6.92 Lakh',\n",
       " '5.80 Lakh',\n",
       " '4.75 Lakh',\n",
       " '8.65 Lakh',\n",
       " '6.45 Lakh',\n",
       " '12.55 Lakh',\n",
       " '5.16 Lakh',\n",
       " '3.29 Lakh',\n",
       " '6.40 Lakh',\n",
       " '4.25 Lakh',\n",
       " '6.82 Lakh',\n",
       " '2.45 Lakh',\n",
       " '12.03 Lakh',\n",
       " '9.95 Lakh',\n",
       " '10.07 Lakh',\n",
       " '5.73 Lakh',\n",
       " '4.21 Lakh',\n",
       " '8.27 Lakh',\n",
       " '6.26 Lakh',\n",
       " '6.59 Lakh',\n",
       " '3.45 Lakh',\n",
       " '3.15 Lakh',\n",
       " '6.09 Lakh',\n",
       " '5.19 Lakh',\n",
       " '3.28 Lakh',\n",
       " '5.55 Lakh',\n",
       " '5.04 Lakh',\n",
       " '3.20 Lakh',\n",
       " '7.73 Lakh',\n",
       " '3.70 Lakh',\n",
       " '3.91 Lakh',\n",
       " '3.09 Lakh',\n",
       " '3.75 Lakh',\n",
       " '10.72 Lakh',\n",
       " '8.33 Lakh',\n",
       " '4.87 Lakh',\n",
       " '2.20 Lakh',\n",
       " '2.86 Lakh',\n",
       " '3.05 Lakh',\n",
       " '6.93 Lakh',\n",
       " '2.89 Lakh',\n",
       " '6.56 Lakh',\n",
       " '4.80 Lakh',\n",
       " '3.25 Lakh',\n",
       " '6.65 Lakh',\n",
       " '8.40 Lakh',\n",
       " '2.90 Lakh',\n",
       " '2.35 Lakh',\n",
       " '6.95 Lakh',\n",
       " '4.74 Lakh',\n",
       " '2.32 Lakh',\n",
       " '8.55 Lakh',\n",
       " '3.11 Lakh',\n",
       " '3.05 Lakh',\n",
       " '3.27 Lakh',\n",
       " '3.16 Lakh',\n",
       " '5.25 Lakh',\n",
       " '3.61 Lakh',\n",
       " '3.95 Lakh',\n",
       " '2.76 Lakh',\n",
       " '8.95 Lakh',\n",
       " '9.75 Lakh',\n",
       " '4.35 Lakh',\n",
       " '4.10 Lakh',\n",
       " '3.45 Lakh',\n",
       " '4.35 Lakh',\n",
       " '2.35 Lakh',\n",
       " '6.10 Lakh',\n",
       " '2.59 Lakh',\n",
       " '4.59 Lakh',\n",
       " '7.55 Lakh',\n",
       " '4.66 Lakh',\n",
       " '8.52 Lakh',\n",
       " '9.95 Lakh',\n",
       " '4.25 Lakh',\n",
       " '6.55 Lakh',\n",
       " '5.85 Lakh',\n",
       " '4.60 Lakh',\n",
       " '2.26 Lakh',\n",
       " '2.96 Lakh',\n",
       " '5.50 Lakh',\n",
       " '4.51 Lakh',\n",
       " '7.91 Lakh',\n",
       " '6.75 Lakh',\n",
       " '3.51 Lakh',\n",
       " '8.25 Lakh',\n",
       " '9.95 Lakh',\n",
       " '45000',\n",
       " '16.90 Lakh',\n",
       " '3.60 Lakh',\n",
       " '2.60 Lakh',\n",
       " '7.25 Lakh',\n",
       " '17.49 Lakh',\n",
       " '5.95 Lakh',\n",
       " '7.25 Lakh',\n",
       " '5.75 Lakh',\n",
       " '4.72 Lakh',\n",
       " '3.00 Lakh',\n",
       " '3.25 Lakh',\n",
       " '2.25 Lakh',\n",
       " '4.15 Lakh',\n",
       " '4.75 Lakh',\n",
       " '7.75 Lakh',\n",
       " '4.49 Lakh',\n",
       " '4.55 Lakh',\n",
       " '7.95 Lakh',\n",
       " '32.90 Lakh',\n",
       " '6.00 Lakh',\n",
       " '10.25 Lakh',\n",
       " '11.48 Lakh',\n",
       " '3.00 Lakh',\n",
       " '2.75 Lakh',\n",
       " '2.90 Lakh',\n",
       " '4.55 Lakh',\n",
       " '8.25 Lakh',\n",
       " '4.25 Lakh',\n",
       " '5.95 Lakh',\n",
       " '7.00 Lakh',\n",
       " '2.95 Lakh',\n",
       " '5.75 Lakh',\n",
       " '16.50 Lakh',\n",
       " '9.75 Lakh',\n",
       " '7.41 Lakh',\n",
       " '5.90 Lakh',\n",
       " '7.95 Lakh',\n",
       " '10.25 Lakh',\n",
       " '12.70 Lakh',\n",
       " '16.90 Lakh',\n",
       " '9.51 Lakh',\n",
       " '7.90 Lakh',\n",
       " '9.75 Lakh',\n",
       " '2.75 Lakh',\n",
       " '6.25 Lakh',\n",
       " '5.50 Lakh',\n",
       " '3.69 Lakh',\n",
       " '8.90 Lakh',\n",
       " '2.40 Lakh',\n",
       " '4.51 Lakh',\n",
       " '1.90 Lakh',\n",
       " '20.25 Lakh',\n",
       " '3.35 Lakh',\n",
       " '10.25 Lakh',\n",
       " '8.75 Lakh',\n",
       " '11.75 Lakh',\n",
       " '11.90 Lakh',\n",
       " '2.95 Lakh',\n",
       " '7.90 Lakh',\n",
       " '5.19 Lakh',\n",
       " '6.95 Lakh',\n",
       " '27.51 Lakh',\n",
       " '3.30 Lakh',\n",
       " '82.00 Lakh',\n",
       " '64.00 Lakh',\n",
       " '38.50 Lakh',\n",
       " '4.95 Lakh',\n",
       " '2.96 Lakh',\n",
       " '8.75 Lakh',\n",
       " '4.95 Lakh',\n",
       " '3.25 Lakh',\n",
       " '5.40 Lakh',\n",
       " '12.50 Lakh',\n",
       " '7.90 Lakh',\n",
       " '4.00 Lakh',\n",
       " '3.90 Lakh',\n",
       " '6.50 Lakh',\n",
       " '2.95 Lakh',\n",
       " '7.70 Lakh',\n",
       " '2.87 Lakh',\n",
       " '12.48 Lakh',\n",
       " '3.51 Lakh',\n",
       " '8.90 Lakh',\n",
       " '2.55 Lakh',\n",
       " '3.51 Lakh',\n",
       " '18.90 Lakh',\n",
       " '3.50 Lakh',\n",
       " '6.50 Lakh',\n",
       " '4.50 Lakh',\n",
       " '9.25 Lakh',\n",
       " '5.25 Lakh',\n",
       " '7.75 Lakh',\n",
       " '17.91 Lakh',\n",
       " '46.50 Lakh',\n",
       " '2.91 Lakh',\n",
       " '4.25 Lakh',\n",
       " '2.25 Lakh',\n",
       " '14.75 Lakh',\n",
       " '17.51 Lakh',\n",
       " '7.75 Lakh',\n",
       " '5.90 Lakh',\n",
       " '10.00 Lakh',\n",
       " '17.75 Lakh',\n",
       " '8.50 Lakh',\n",
       " '11.48 Lakh',\n",
       " '22.90 Lakh',\n",
       " '7.80 Lakh',\n",
       " '15.50 Lakh',\n",
       " '7.75 Lakh',\n",
       " '7.49 Lakh',\n",
       " '16.91 Lakh',\n",
       " '15.51 Lakh',\n",
       " '14.40 Lakh',\n",
       " '20.40 Lakh',\n",
       " '12.70 Lakh',\n",
       " '30.90 Lakh',\n",
       " '37.90 Lakh',\n",
       " '7.50 Lakh',\n",
       " '7.90 Lakh',\n",
       " '14.45 Lakh',\n",
       " '8.50 Lakh',\n",
       " '4.29 Lakh',\n",
       " '5.20 Lakh',\n",
       " '4.96 Lakh',\n",
       " '2.74 Lakh',\n",
       " '7.25 Lakh',\n",
       " '3.80 Lakh',\n",
       " '12.51 Lakh',\n",
       " '2.72 Lakh',\n",
       " '3.91 Lakh',\n",
       " '10.75 Lakh',\n",
       " '7.25 Lakh',\n",
       " '3.50 Lakh',\n",
       " '9.91 Lakh',\n",
       " '4.25 Lakh',\n",
       " '11.51 Lakh',\n",
       " '2.40 Lakh',\n",
       " '9.50 Lakh']"
      ]
     },
     "execution_count": 369,
     "metadata": {},
     "output_type": "execute_result"
    }
   ],
   "source": [
    "price_raw"
   ]
  },
  {
   "cell_type": "code",
   "execution_count": 371,
   "id": "60ed4b22",
   "metadata": {},
   "outputs": [],
   "source": [
    "price=[]\n",
    "for i in price_raw:\n",
    "    if i.split(' ')[-1]==\"Lakh\":\n",
    "        price.append(float(i.split(' ')[0]))\n",
    "    else:\n",
    "        price.append(float(i.split(' ')[0])*0.01)\n",
    "    "
   ]
  },
  {
   "cell_type": "code",
   "execution_count": 372,
   "id": "c766d230",
   "metadata": {},
   "outputs": [
    {
     "data": {
      "text/plain": [
       "295"
      ]
     },
     "execution_count": 372,
     "metadata": {},
     "output_type": "execute_result"
    }
   ],
   "source": [
    "len(price)"
   ]
  },
  {
   "cell_type": "code",
   "execution_count": null,
   "id": "a8e67d68",
   "metadata": {},
   "outputs": [],
   "source": []
  },
  {
   "cell_type": "code",
   "execution_count": null,
   "id": "0fdde592",
   "metadata": {},
   "outputs": [],
   "source": []
  },
  {
   "cell_type": "code",
   "execution_count": null,
   "id": "bc4848ab",
   "metadata": {},
   "outputs": [],
   "source": []
  },
  {
   "cell_type": "code",
   "execution_count": 373,
   "id": "349e67a5",
   "metadata": {},
   "outputs": [],
   "source": [
    "driver.get('https://www.cardekho.com/used-cars+in+ahmedabad+second-owner')"
   ]
  },
  {
   "cell_type": "code",
   "execution_count": 170,
   "id": "5ea1cd4b",
   "metadata": {},
   "outputs": [],
   "source": [
    "#/html/body/div[2]/div/div[1]/div/div/main/div[1]/div[1]/div[6]/div[1]/div/div[2]/div/div/a\n",
    "#/html/body/div[2]/div/div[1]/div/div/main/div[1]/div[1]/div[6]/div[2]/div/div[2]/div/div/a"
   ]
  },
  {
   "cell_type": "code",
   "execution_count": 374,
   "id": "044d829b",
   "metadata": {},
   "outputs": [],
   "source": [
    "brand=[]\n",
    "for i in range(1,301):\n",
    "    try:\n",
    "        element=driver.find_element_by_xpath('/html/body/div[2]/div/div[1]/div/div/main/div[1]/div[1]/div[6]/div['+str(i)+']/div/div[2]/div/div/a')\n",
    "        brand.append(element.text.split(' '))\n",
    "    except NoSuchElementException:\n",
    "        continue"
   ]
  },
  {
   "cell_type": "code",
   "execution_count": 375,
   "id": "eecd1125",
   "metadata": {},
   "outputs": [
    {
     "data": {
      "text/plain": [
       "[['2015', 'Hyundai', 'Verna'],\n",
       " ['2017', 'Maruti', 'Ciaz'],\n",
       " ['2015', 'Honda', 'Jazz'],\n",
       " ['2015', 'Honda', 'Brio'],\n",
       " ['2015', 'Nissan', 'Micra'],\n",
       " ['2017', 'Hyundai', 'EON'],\n",
       " ['2017', 'Hyundai', 'i20'],\n",
       " ['2018', 'Mahindra', 'Scorpio'],\n",
       " ['2015', 'Mahindra', 'XUV500'],\n",
       " ['2017', 'Hyundai', 'EON'],\n",
       " ['2016', 'Renault', 'KWID'],\n",
       " ['2016', 'Renault', 'KWID'],\n",
       " ['2014', 'Hyundai', 'EON'],\n",
       " ['2015', 'Honda', 'City'],\n",
       " ['2015', 'Honda', 'Jazz'],\n",
       " ['2016', 'Datsun', 'GO'],\n",
       " ['2016', 'Hyundai', 'i20'],\n",
       " ['2015', 'Hyundai', 'i20'],\n",
       " ['2016', 'Honda', 'City'],\n",
       " ['2014', 'Hyundai', 'i20'],\n",
       " ['2004', 'Maruti', 'Wagon', 'R'],\n",
       " ['2009', 'Honda', 'City'],\n",
       " ['2013', 'Honda', 'City'],\n",
       " ['2010', 'Ford', 'Fiesta'],\n",
       " ['2014', 'Honda', 'Amaze'],\n",
       " ['2011', 'Hyundai', 'i20'],\n",
       " ['2011', 'Hyundai', 'i10'],\n",
       " ['2004', 'Maruti', '800'],\n",
       " ['2018', 'Hyundai', 'Grand', 'i10'],\n",
       " ['2011', 'Maruti', 'SX4'],\n",
       " ['2014', 'Mahindra', 'XUV500'],\n",
       " ['2014', 'Honda', 'City'],\n",
       " ['2004', 'Toyota', 'Qualis'],\n",
       " ['2007', 'Maruti', 'Wagon', 'R'],\n",
       " ['2014', 'Honda', 'Amaze'],\n",
       " ['2015', 'Honda', 'Amaze'],\n",
       " ['2015', 'Honda', 'City'],\n",
       " ['2014', 'Honda', 'City'],\n",
       " ['2012', 'Toyota', 'Innova'],\n",
       " ['2018', 'BMW', 'X1'],\n",
       " ['2011', 'Hyundai', 'Verna'],\n",
       " ['2010', 'Honda', 'City'],\n",
       " ['2011', 'Maruti', 'Kizashi'],\n",
       " ['2017', 'Tata', 'Nexon'],\n",
       " ['2015', 'Hyundai', 'Xcent'],\n",
       " ['2015', 'Mahindra', 'XUV500'],\n",
       " ['2014', 'Maruti', 'Swift'],\n",
       " ['2008', 'Hyundai', 'Santro', 'Xing'],\n",
       " ['2012', 'Audi', 'Q3'],\n",
       " ['2009', 'Maruti', 'Zen', 'Estilo'],\n",
       " ['2018', 'Ford', 'Endeavour'],\n",
       " ['2017', 'Hyundai', 'Elantra'],\n",
       " ['2006', 'Honda', 'City'],\n",
       " ['2018', 'Renault', 'KWID'],\n",
       " ['2015', 'BMW', '5', 'Series'],\n",
       " ['2012', 'Nissan', 'Micra'],\n",
       " ['2010', 'Honda', 'City'],\n",
       " ['2017', 'Mahindra', 'XUV500'],\n",
       " ['2017', 'Jeep', 'Compass'],\n",
       " ['2013', 'Volkswagen', 'Polo'],\n",
       " ['2015', 'Honda', 'City'],\n",
       " ['2015', 'Volvo', 'S60'],\n",
       " ['2005', 'Toyota', 'Corolla'],\n",
       " ['2015', 'Audi', 'Q5'],\n",
       " ['2013', 'Maruti', 'Wagon', 'R'],\n",
       " ['2017', 'Maruti', 'Eeco'],\n",
       " ['2011', 'Tata', 'Aria'],\n",
       " ['2006', 'Hyundai', 'Santro'],\n",
       " ['2015', 'BMW', '3', 'Series'],\n",
       " ['2015', 'Porsche', 'Cayenne'],\n",
       " ['2013', 'Ford', 'Ecosport'],\n",
       " ['2019', 'Hyundai', 'Creta'],\n",
       " ['2014', 'Honda', 'City'],\n",
       " ['2010', 'Chevrolet', 'Spark'],\n",
       " ['2010', 'Maruti', 'Zen', 'Estilo'],\n",
       " ['2010', 'Mahindra', 'Logan'],\n",
       " ['2013', 'Maruti', 'Wagon', 'R'],\n",
       " ['2012', 'Hyundai', 'Verna'],\n",
       " ['2013', 'Honda', 'Amaze'],\n",
       " ['2018', 'Renault', 'KWID'],\n",
       " ['2012', 'Honda', 'City'],\n",
       " ['2013', 'Honda', 'Amaze'],\n",
       " ['2014', 'Toyota', 'Corolla', 'Altis'],\n",
       " ['2015', 'Hyundai', 'Santa', 'Fe'],\n",
       " ['2018', 'Skoda', 'Kodiaq'],\n",
       " ['2018', 'BMW', 'X1'],\n",
       " ['2013', 'Hyundai', 'EON'],\n",
       " ['2007', 'Maruti', 'Swift'],\n",
       " ['2014', 'Maruti', 'Swift', 'Dzire'],\n",
       " ['2011', 'Maruti', 'Alto'],\n",
       " ['2010', 'Mercedes-Benz', 'E-Class'],\n",
       " ['2020', 'Hyundai', 'Creta'],\n",
       " ['2016', 'Skoda', 'Superb'],\n",
       " ['2019', 'Mercedes-Benz', 'V-Class'],\n",
       " ['2011', 'Hyundai', 'i10'],\n",
       " ['2017', 'Hyundai', 'i20'],\n",
       " ['2012', 'BMW', '5', 'Series'],\n",
       " ['2011', 'Hyundai', 'Accent'],\n",
       " ['2013', 'Mahindra', 'Verito', 'Vibe'],\n",
       " ['2010', 'Maruti', 'Swift'],\n",
       " ['2014', 'Volkswagen', 'Polo'],\n",
       " ['2013', 'Chevrolet', 'Beat'],\n",
       " ['2009', 'Maruti', 'Swift', 'Dzire'],\n",
       " ['2020', 'Tata', 'Tigor'],\n",
       " ['2016', 'Maruti', 'Alto', 'K10'],\n",
       " ['2010', 'Maruti', 'SX4'],\n",
       " ['2013', 'Ford', 'Ecosport'],\n",
       " ['2013', 'Ford', 'Figo'],\n",
       " ['2011', 'Toyota', 'Innova'],\n",
       " ['2012', 'Mahindra', 'Scorpio'],\n",
       " ['2010', 'Hyundai', 'Santro', 'Xing'],\n",
       " ['2004', 'Hyundai', 'Santro', 'Xing'],\n",
       " ['2016', 'Maruti', 'Eeco'],\n",
       " ['2011', 'Maruti', 'Alto', 'K10'],\n",
       " ['2012', 'Toyota', 'Innova'],\n",
       " ['2010', 'Maruti', 'Zen', 'Estilo'],\n",
       " ['2016', 'Hyundai', 'Creta'],\n",
       " ['2012', 'Hyundai', 'i10'],\n",
       " ['2014', 'Mercedes-Benz', 'S-Class'],\n",
       " ['2012', 'Maruti', 'SX4'],\n",
       " ['2014', 'BMW', '3', 'Series'],\n",
       " ['2013', 'Maruti', 'Wagon', 'R'],\n",
       " ['2013', 'Mahindra', 'Ssangyong', 'Rexton'],\n",
       " ['2011', 'Volkswagen', 'Polo'],\n",
       " ['2007', 'Hyundai', 'Verna'],\n",
       " ['2021', 'Honda', 'Amaze']]"
      ]
     },
     "execution_count": 375,
     "metadata": {},
     "output_type": "execute_result"
    }
   ],
   "source": [
    "brand"
   ]
  },
  {
   "cell_type": "code",
   "execution_count": 376,
   "id": "28e929a9",
   "metadata": {},
   "outputs": [],
   "source": [
    "for i in brand:\n",
    "    year.append(int(i[0]))\n",
    "for i in brand:\n",
    "    brand_name.append(i[1])\n",
    "for i in brand:\n",
    "    if len(i)==3:\n",
    "        model.append(i[2])\n",
    "    elif len(i)>3:\n",
    "        model.append(i[2]+'_'+i[3])\n"
   ]
  },
  {
   "cell_type": "code",
   "execution_count": 377,
   "id": "48859944",
   "metadata": {},
   "outputs": [
    {
     "data": {
      "text/plain": [
       "126"
      ]
     },
     "execution_count": 377,
     "metadata": {},
     "output_type": "execute_result"
    }
   ],
   "source": [
    "len(brand)"
   ]
  },
  {
   "cell_type": "code",
   "execution_count": 378,
   "id": "94e663e9",
   "metadata": {},
   "outputs": [
    {
     "data": {
      "text/plain": [
       "421"
      ]
     },
     "execution_count": 378,
     "metadata": {},
     "output_type": "execute_result"
    }
   ],
   "source": [
    "len(year)"
   ]
  },
  {
   "cell_type": "code",
   "execution_count": 379,
   "id": "cb5a070d",
   "metadata": {},
   "outputs": [
    {
     "data": {
      "text/plain": [
       "421"
      ]
     },
     "execution_count": 379,
     "metadata": {},
     "output_type": "execute_result"
    }
   ],
   "source": [
    "len(brand_name)"
   ]
  },
  {
   "cell_type": "code",
   "execution_count": 380,
   "id": "268b9e10",
   "metadata": {},
   "outputs": [
    {
     "data": {
      "text/plain": [
       "421"
      ]
     },
     "execution_count": 380,
     "metadata": {},
     "output_type": "execute_result"
    }
   ],
   "source": [
    "len(model)"
   ]
  },
  {
   "cell_type": "code",
   "execution_count": 381,
   "id": "9b0e97ba",
   "metadata": {},
   "outputs": [],
   "source": [
    "for i in range(1,301):\n",
    "    try:\n",
    "        element=driver.find_element_by_xpath('/html/body/div[2]/div/div[1]/div/div/main/div[1]/div[1]/div[6]/div['+str(i)+']/div/div[2]/div/div/div[2]')\n",
    "        variant.append(element.text)\n",
    "    except NoSuchElementException:\n",
    "        continue"
   ]
  },
  {
   "cell_type": "code",
   "execution_count": 382,
   "id": "b0399223",
   "metadata": {},
   "outputs": [
    {
     "data": {
      "text/plain": [
       "421"
      ]
     },
     "execution_count": 382,
     "metadata": {},
     "output_type": "execute_result"
    }
   ],
   "source": [
    "len(variant)"
   ]
  },
  {
   "cell_type": "code",
   "execution_count": 383,
   "id": "fbb8462d",
   "metadata": {},
   "outputs": [],
   "source": [
    "kms=[]\n",
    "for i in range(1,301):\n",
    "    try:\n",
    "        element=driver.find_element_by_xpath('/html/body/div[2]/div/div[1]/div/div/main/div[1]/div[1]/div[6]/div['+str(i)+']/div/div[2]/div/div/div[4]/div[1]')\n",
    "        kms.append(element.text)\n",
    "    except NoSuchElementException:\n",
    "        continue"
   ]
  },
  {
   "cell_type": "code",
   "execution_count": 384,
   "id": "b36176dd",
   "metadata": {},
   "outputs": [],
   "source": [
    "for i in kms:\n",
    "    int_kms.append(int(i.split(' ')[0].split(',')[0]+i.split(' ')[0].split(',')[1]))"
   ]
  },
  {
   "cell_type": "code",
   "execution_count": 385,
   "id": "055068ad",
   "metadata": {},
   "outputs": [
    {
     "data": {
      "text/plain": [
       "421"
      ]
     },
     "execution_count": 385,
     "metadata": {},
     "output_type": "execute_result"
    }
   ],
   "source": [
    "len(int_kms)"
   ]
  },
  {
   "cell_type": "code",
   "execution_count": 386,
   "id": "7889d949",
   "metadata": {},
   "outputs": [],
   "source": [
    "for i in range(1,301):\n",
    "    try:\n",
    "        element=driver.find_element_by_xpath('/html/body/div[2]/div/div[1]/div/div/main/div[1]/div[1]/div[6]/div['+str(i)+']/div/div[2]/div/div/div[4]/div[2]')\n",
    "        fuel.append(element.text)\n",
    "    except NoSuchElementException:\n",
    "        continue"
   ]
  },
  {
   "cell_type": "code",
   "execution_count": 387,
   "id": "890fd053",
   "metadata": {},
   "outputs": [
    {
     "data": {
      "text/plain": [
       "421"
      ]
     },
     "execution_count": 387,
     "metadata": {},
     "output_type": "execute_result"
    }
   ],
   "source": [
    "len(fuel)"
   ]
  },
  {
   "cell_type": "code",
   "execution_count": 388,
   "id": "070190bc",
   "metadata": {},
   "outputs": [],
   "source": [
    "for i in range(1,127):\n",
    "    number_owners.append(2)\n",
    "    location.append('Amhedabad')"
   ]
  },
  {
   "cell_type": "code",
   "execution_count": 389,
   "id": "ef07351a",
   "metadata": {},
   "outputs": [
    {
     "data": {
      "text/plain": [
       "421"
      ]
     },
     "execution_count": 389,
     "metadata": {},
     "output_type": "execute_result"
    }
   ],
   "source": [
    "len(location)"
   ]
  },
  {
   "cell_type": "code",
   "execution_count": 390,
   "id": "8a98910c",
   "metadata": {},
   "outputs": [],
   "source": [
    "price_raw=[]\n",
    "for i in range(1,301):\n",
    "    try:\n",
    "        element=driver.find_element_by_xpath('/html/body/div[2]/div/div[1]/div/div/main/div[1]/div[1]/div[6]/div['+str(i)+']/div/div[2]/div/div/div[3]/span[2]')\n",
    "        price_raw.append(element.text)\n",
    "    except NoSuchElementException:\n",
    "        continue"
   ]
  },
  {
   "cell_type": "code",
   "execution_count": 391,
   "id": "8cdd7a8b",
   "metadata": {},
   "outputs": [
    {
     "data": {
      "text/plain": [
       "['5.95 Lakh',\n",
       " '6.70 Lakh',\n",
       " '5.25 Lakh',\n",
       " '3.30 Lakh',\n",
       " '3.10 Lakh',\n",
       " '2.57 Lakh',\n",
       " '6.00 Lakh',\n",
       " '10.25 Lakh',\n",
       " '8.63 Lakh',\n",
       " '2.61 Lakh',\n",
       " '2.45 Lakh',\n",
       " '2.45 Lakh',\n",
       " '2.50 Lakh',\n",
       " '5.63 Lakh',\n",
       " '4.33 Lakh',\n",
       " '2.08 Lakh',\n",
       " '5.20 Lakh',\n",
       " '5.07 Lakh',\n",
       " '5.44 Lakh',\n",
       " '3.75 Lakh',\n",
       " '50000',\n",
       " '3.49 Lakh',\n",
       " '5.25 Lakh',\n",
       " '2.25 Lakh',\n",
       " '4.89 Lakh',\n",
       " '2.87 Lakh',\n",
       " '2.55 Lakh',\n",
       " '40000',\n",
       " '4.00 Lakh',\n",
       " '2.51 Lakh',\n",
       " '6.90 Lakh',\n",
       " '5.50 Lakh',\n",
       " '2.50 Lakh',\n",
       " '1.45 Lakh',\n",
       " '4.65 Lakh',\n",
       " '4.65 Lakh',\n",
       " '6.75 Lakh',\n",
       " '6.80 Lakh',\n",
       " '7.30 Lakh',\n",
       " '27.50 Lakh',\n",
       " '4.50 Lakh',\n",
       " '3.75 Lakh',\n",
       " '4.00 Lakh',\n",
       " '7.75 Lakh',\n",
       " '3.53 Lakh',\n",
       " '8.25 Lakh',\n",
       " '4.45 Lakh',\n",
       " '2.00 Lakh',\n",
       " '11.90 Lakh',\n",
       " '2.15 Lakh',\n",
       " '20.90 Lakh',\n",
       " '9.00 Lakh',\n",
       " '1.80 Lakh',\n",
       " '3.30 Lakh',\n",
       " '22.50 Lakh',\n",
       " '2.91 Lakh',\n",
       " '3.75 Lakh',\n",
       " '7.90 Lakh',\n",
       " '12.50 Lakh',\n",
       " '3.50 Lakh',\n",
       " '7.50 Lakh',\n",
       " '14.50 Lakh',\n",
       " '2.90 Lakh',\n",
       " '17.90 Lakh',\n",
       " '3.30 Lakh',\n",
       " '4.50 Lakh',\n",
       " '3.15 Lakh',\n",
       " '1.20 Lakh',\n",
       " '20.00 Lakh',\n",
       " '44.00 Lakh',\n",
       " '4.15 Lakh',\n",
       " '13.90 Lakh',\n",
       " '5.90 Lakh',\n",
       " '90000',\n",
       " '1.55 Lakh',\n",
       " '1.30 Lakh',\n",
       " '3.25 Lakh',\n",
       " '5.00 Lakh',\n",
       " '2.75 Lakh',\n",
       " '3.20 Lakh',\n",
       " '3.80 Lakh',\n",
       " '4.75 Lakh',\n",
       " '7.50 Lakh',\n",
       " '13.75 Lakh',\n",
       " '27.50 Lakh',\n",
       " '27.50 Lakh',\n",
       " '2.40 Lakh',\n",
       " '1.50 Lakh',\n",
       " '4.25 Lakh',\n",
       " '1.50 Lakh',\n",
       " '9.50 Lakh',\n",
       " '17.00 Lakh',\n",
       " '15.00 Lakh',\n",
       " '64.00 Lakh',\n",
       " '2.80 Lakh',\n",
       " '5.75 Lakh',\n",
       " '16.00 Lakh',\n",
       " '2.00 Lakh',\n",
       " '2.25 Lakh',\n",
       " '3.70 Lakh',\n",
       " '3.50 Lakh',\n",
       " '1.45 Lakh',\n",
       " '1.50 Lakh',\n",
       " '5.00 Lakh',\n",
       " '2.30 Lakh',\n",
       " '2.50 Lakh',\n",
       " '4.00 Lakh',\n",
       " '1.60 Lakh',\n",
       " '6.00 Lakh',\n",
       " '3.00 Lakh',\n",
       " '1.55 Lakh',\n",
       " '60000',\n",
       " '3.10 Lakh',\n",
       " '2.10 Lakh',\n",
       " '7.00 Lakh',\n",
       " '1.50 Lakh',\n",
       " '7.70 Lakh',\n",
       " '2.85 Lakh',\n",
       " '39.00 Lakh',\n",
       " '2.10 Lakh',\n",
       " '16.50 Lakh',\n",
       " '3.25 Lakh',\n",
       " '7.00 Lakh',\n",
       " '1.95 Lakh',\n",
       " '1.50 Lakh',\n",
       " '5.50 Lakh']"
      ]
     },
     "execution_count": 391,
     "metadata": {},
     "output_type": "execute_result"
    }
   ],
   "source": [
    "price_raw"
   ]
  },
  {
   "cell_type": "code",
   "execution_count": 392,
   "id": "54730542",
   "metadata": {},
   "outputs": [],
   "source": [
    "for i in price_raw:\n",
    "    if i.split(' ')[-1]==\"Lakh\":\n",
    "        price.append(float(i.split(' ')[0]))\n",
    "    else:\n",
    "        price.append(float(i.split(' ')[0])/100000)"
   ]
  },
  {
   "cell_type": "code",
   "execution_count": 393,
   "id": "e9bc35b2",
   "metadata": {},
   "outputs": [
    {
     "data": {
      "text/plain": [
       "421"
      ]
     },
     "execution_count": 393,
     "metadata": {},
     "output_type": "execute_result"
    }
   ],
   "source": [
    "len(price)"
   ]
  },
  {
   "cell_type": "code",
   "execution_count": 394,
   "id": "a316c006",
   "metadata": {},
   "outputs": [],
   "source": [
    "copy_year=year\n",
    "copy_brand_name=brand_name\n",
    "copy_model=model\n",
    "copy_variant=variant\n",
    "copy_int_kms=int_kms\n",
    "copy_fuel=fuel\n",
    "copy_number_owners=number_owners\n",
    "copy_location=location\n",
    "copy_price=price"
   ]
  },
  {
   "cell_type": "code",
   "execution_count": null,
   "id": "ce0b91b8",
   "metadata": {},
   "outputs": [],
   "source": []
  },
  {
   "cell_type": "code",
   "execution_count": null,
   "id": "d89f9e9b",
   "metadata": {},
   "outputs": [],
   "source": []
  },
  {
   "cell_type": "code",
   "execution_count": 395,
   "id": "187bc062",
   "metadata": {},
   "outputs": [],
   "source": [
    "driver.get('https://www.cardekho.com/used-cars+in+bangalore+first-owner')"
   ]
  },
  {
   "cell_type": "code",
   "execution_count": 396,
   "id": "22fe3dd5",
   "metadata": {},
   "outputs": [],
   "source": [
    "brand=[]\n",
    "for i in range(1,300):\n",
    "    try:\n",
    "        element=driver.find_element_by_xpath('/html/body/div[2]/div/div[1]/div/div/main/div[1]/div[1]/div[6]/div['+str(i)+']/div/div[2]/div/div/a')\n",
    "        brand.append(element.text.split(' '))\n",
    "    except NoSuchElementException:\n",
    "        continue"
   ]
  },
  {
   "cell_type": "code",
   "execution_count": 397,
   "id": "9e900be8",
   "metadata": {},
   "outputs": [
    {
     "data": {
      "text/plain": [
       "280"
      ]
     },
     "execution_count": 397,
     "metadata": {},
     "output_type": "execute_result"
    }
   ],
   "source": [
    "len(brand)"
   ]
  },
  {
   "cell_type": "code",
   "execution_count": 398,
   "id": "a8c0309e",
   "metadata": {},
   "outputs": [],
   "source": [
    "for i in brand:\n",
    "    year.append(int(i[0]))\n",
    "for i in brand:\n",
    "    brand_name.append(i[1])\n",
    "for i in brand:\n",
    "    if len(i)==3:\n",
    "        model.append(i[2])\n",
    "    elif len(i)>3:\n",
    "        model.append(i[2]+'_'+i[3])"
   ]
  },
  {
   "cell_type": "code",
   "execution_count": 399,
   "id": "944074f9",
   "metadata": {},
   "outputs": [
    {
     "data": {
      "text/plain": [
       "701"
      ]
     },
     "execution_count": 399,
     "metadata": {},
     "output_type": "execute_result"
    }
   ],
   "source": [
    "len(year)"
   ]
  },
  {
   "cell_type": "code",
   "execution_count": 400,
   "id": "18b02055",
   "metadata": {},
   "outputs": [
    {
     "data": {
      "text/plain": [
       "701"
      ]
     },
     "execution_count": 400,
     "metadata": {},
     "output_type": "execute_result"
    }
   ],
   "source": [
    "len(brand_name)"
   ]
  },
  {
   "cell_type": "code",
   "execution_count": 401,
   "id": "3c14baf0",
   "metadata": {},
   "outputs": [
    {
     "data": {
      "text/plain": [
       "701"
      ]
     },
     "execution_count": 401,
     "metadata": {},
     "output_type": "execute_result"
    }
   ],
   "source": [
    "len(model)"
   ]
  },
  {
   "cell_type": "code",
   "execution_count": 402,
   "id": "a6463eb0",
   "metadata": {},
   "outputs": [],
   "source": [
    "for i in range(1,300):\n",
    "    try:\n",
    "        element=driver.find_element_by_xpath('/html/body/div[2]/div/div[1]/div/div/main/div[1]/div[1]/div[6]/div['+str(i)+']/div/div[2]/div/div/div[2]')\n",
    "        variant.append(element.text)\n",
    "    except NoSuchElementException:\n",
    "        continue"
   ]
  },
  {
   "cell_type": "code",
   "execution_count": 403,
   "id": "663d5ec0",
   "metadata": {},
   "outputs": [
    {
     "data": {
      "text/plain": [
       "701"
      ]
     },
     "execution_count": 403,
     "metadata": {},
     "output_type": "execute_result"
    }
   ],
   "source": [
    "len(variant)"
   ]
  },
  {
   "cell_type": "code",
   "execution_count": 404,
   "id": "c5cd4715",
   "metadata": {},
   "outputs": [],
   "source": [
    "kms=[]\n",
    "for i in range(1,300):\n",
    "    try:\n",
    "        element=driver.find_element_by_xpath('/html/body/div[2]/div/div[1]/div/div/main/div[1]/div[1]/div[6]/div['+str(i)+']/div/div[2]/div/div/div[4]/div[1]')\n",
    "        kms.append(element.text)\n",
    "    except NoSuchElementException:\n",
    "        continue"
   ]
  },
  {
   "cell_type": "code",
   "execution_count": 405,
   "id": "c2ef7a26",
   "metadata": {},
   "outputs": [
    {
     "data": {
      "text/plain": [
       "280"
      ]
     },
     "execution_count": 405,
     "metadata": {},
     "output_type": "execute_result"
    }
   ],
   "source": [
    "len(kms)"
   ]
  },
  {
   "cell_type": "code",
   "execution_count": 406,
   "id": "093b81b3",
   "metadata": {},
   "outputs": [],
   "source": [
    "for i in kms:\n",
    "    if len(i.split(' ')[0].split(','))==2:\n",
    "        int_kms.append(int(i.split(' ')[0].split(',')[0]+i.split(' ')[0].split(',')[1]))\n",
    "    elif len(i.split(' ')[0].split(','))==1:\n",
    "        int_kms.append(int(i.split(' ')[0].split(',')[0]))\n",
    "    elif len(i.split(' ')[0].split(','))==3:\n",
    "        int_kms.append(int(i.split(' ')[0].split(',')[0]+i.split(' ')[0].split(',')[1]+i.split(' ')[0].split(',')[2]))"
   ]
  },
  {
   "cell_type": "code",
   "execution_count": 407,
   "id": "6f87579f",
   "metadata": {},
   "outputs": [
    {
     "data": {
      "text/plain": [
       "701"
      ]
     },
     "execution_count": 407,
     "metadata": {},
     "output_type": "execute_result"
    }
   ],
   "source": [
    "len(int_kms)"
   ]
  },
  {
   "cell_type": "code",
   "execution_count": 408,
   "id": "98d70677",
   "metadata": {},
   "outputs": [],
   "source": [
    "for i in range(1,301):\n",
    "    try:\n",
    "        element=driver.find_element_by_xpath('/html/body/div[2]/div/div[1]/div/div/main/div[1]/div[1]/div[6]/div['+str(i)+']/div/div[2]/div/div/div[4]/div[2]')\n",
    "        fuel.append(element.text)\n",
    "    except NoSuchElementException:\n",
    "        continue"
   ]
  },
  {
   "cell_type": "code",
   "execution_count": 409,
   "id": "ffe88619",
   "metadata": {},
   "outputs": [
    {
     "data": {
      "text/plain": [
       "701"
      ]
     },
     "execution_count": 409,
     "metadata": {},
     "output_type": "execute_result"
    }
   ],
   "source": [
    "len(fuel)"
   ]
  },
  {
   "cell_type": "code",
   "execution_count": 414,
   "id": "f8ef0ffb",
   "metadata": {},
   "outputs": [],
   "source": [
    "for i in range(0,280):\n",
    "    number_owners.append(1)\n",
    "    location.append('Bangalore')"
   ]
  },
  {
   "cell_type": "code",
   "execution_count": 415,
   "id": "c728b598",
   "metadata": {},
   "outputs": [
    {
     "data": {
      "text/plain": [
       "701"
      ]
     },
     "execution_count": 415,
     "metadata": {},
     "output_type": "execute_result"
    }
   ],
   "source": [
    "len(number_owners)"
   ]
  },
  {
   "cell_type": "code",
   "execution_count": 416,
   "id": "c767f323",
   "metadata": {},
   "outputs": [
    {
     "data": {
      "text/plain": [
       "701"
      ]
     },
     "execution_count": 416,
     "metadata": {},
     "output_type": "execute_result"
    }
   ],
   "source": [
    "len(location)"
   ]
  },
  {
   "cell_type": "code",
   "execution_count": 410,
   "id": "90c376e2",
   "metadata": {},
   "outputs": [],
   "source": [
    "price_raw=[]\n",
    "for i in range(1,301):\n",
    "    try:\n",
    "        element=driver.find_element_by_xpath('/html/body/div[2]/div/div[1]/div/div/main/div[1]/div[1]/div[6]/div['+str(i)+']/div/div[2]/div/div/div[3]/span[2]')\n",
    "        price_raw.append(element.text)\n",
    "    except NoSuchElementException:\n",
    "        continue"
   ]
  },
  {
   "cell_type": "code",
   "execution_count": 411,
   "id": "050946cf",
   "metadata": {},
   "outputs": [],
   "source": [
    "for i in price_raw:\n",
    "    if i.split(' ')[-1]==\"Lakh\":\n",
    "        price.append(float(i.split(' ')[0]))\n",
    "    else:\n",
    "        price.append(float(i.split(' ')[0])/100000)"
   ]
  },
  {
   "cell_type": "code",
   "execution_count": 412,
   "id": "74c1024a",
   "metadata": {},
   "outputs": [
    {
     "data": {
      "text/plain": [
       "701"
      ]
     },
     "execution_count": 412,
     "metadata": {},
     "output_type": "execute_result"
    }
   ],
   "source": [
    "len(price)"
   ]
  },
  {
   "cell_type": "code",
   "execution_count": null,
   "id": "6cb2093a",
   "metadata": {},
   "outputs": [],
   "source": []
  },
  {
   "cell_type": "code",
   "execution_count": null,
   "id": "732dc1b9",
   "metadata": {},
   "outputs": [],
   "source": []
  },
  {
   "cell_type": "code",
   "execution_count": null,
   "id": "ef5a78e1",
   "metadata": {},
   "outputs": [],
   "source": []
  },
  {
   "cell_type": "code",
   "execution_count": 417,
   "id": "71d9695b",
   "metadata": {},
   "outputs": [],
   "source": [
    "driver.get('https://www.cardekho.com/used-cars+in+bangalore+second-owner')"
   ]
  },
  {
   "cell_type": "code",
   "execution_count": 418,
   "id": "d15a4efe",
   "metadata": {},
   "outputs": [],
   "source": [
    "brand=[]\n",
    "for i in range(1,300):\n",
    "    try:\n",
    "        element=driver.find_element_by_xpath('/html/body/div[2]/div/div[1]/div/div/main/div[1]/div[1]/div[6]/div['+str(i)+']/div/div[2]/div/div/a')\n",
    "        brand.append(element.text.split(' '))\n",
    "    except NoSuchElementException:\n",
    "        continue"
   ]
  },
  {
   "cell_type": "code",
   "execution_count": 419,
   "id": "39a6c6e6",
   "metadata": {},
   "outputs": [],
   "source": [
    "for i in brand:\n",
    "    year.append(int(i[0]))\n",
    "for i in brand:\n",
    "    brand_name.append(i[1])\n",
    "for i in brand:\n",
    "    if len(i)==3:\n",
    "        model.append(i[2])\n",
    "    elif len(i)>3:\n",
    "        model.append(i[2]+'_'+i[3])"
   ]
  },
  {
   "cell_type": "code",
   "execution_count": 420,
   "id": "9f69b3c5",
   "metadata": {},
   "outputs": [
    {
     "data": {
      "text/plain": [
       "294"
      ]
     },
     "execution_count": 420,
     "metadata": {},
     "output_type": "execute_result"
    }
   ],
   "source": [
    "len(brand)"
   ]
  },
  {
   "cell_type": "code",
   "execution_count": 421,
   "id": "220517f2",
   "metadata": {},
   "outputs": [
    {
     "data": {
      "text/plain": [
       "995"
      ]
     },
     "execution_count": 421,
     "metadata": {},
     "output_type": "execute_result"
    }
   ],
   "source": [
    "len(brand_name)"
   ]
  },
  {
   "cell_type": "code",
   "execution_count": 422,
   "id": "91593f0a",
   "metadata": {},
   "outputs": [
    {
     "data": {
      "text/plain": [
       "995"
      ]
     },
     "execution_count": 422,
     "metadata": {},
     "output_type": "execute_result"
    }
   ],
   "source": [
    "len(year)"
   ]
  },
  {
   "cell_type": "code",
   "execution_count": 423,
   "id": "ac5e81e6",
   "metadata": {},
   "outputs": [
    {
     "data": {
      "text/plain": [
       "995"
      ]
     },
     "execution_count": 423,
     "metadata": {},
     "output_type": "execute_result"
    }
   ],
   "source": [
    "len(model)"
   ]
  },
  {
   "cell_type": "code",
   "execution_count": 424,
   "id": "3040204a",
   "metadata": {},
   "outputs": [],
   "source": [
    "for i in range(1,300):\n",
    "    try:\n",
    "        element=driver.find_element_by_xpath('/html/body/div[2]/div/div[1]/div/div/main/div[1]/div[1]/div[6]/div['+str(i)+']/div/div[2]/div/div/div[2]')\n",
    "        variant.append(element.text)\n",
    "    except NoSuchElementException:\n",
    "        continue"
   ]
  },
  {
   "cell_type": "code",
   "execution_count": 425,
   "id": "cdf5158d",
   "metadata": {},
   "outputs": [
    {
     "data": {
      "text/plain": [
       "995"
      ]
     },
     "execution_count": 425,
     "metadata": {},
     "output_type": "execute_result"
    }
   ],
   "source": [
    "len(year)"
   ]
  },
  {
   "cell_type": "code",
   "execution_count": 426,
   "id": "ffbf8898",
   "metadata": {},
   "outputs": [
    {
     "data": {
      "text/plain": [
       "995"
      ]
     },
     "execution_count": 426,
     "metadata": {},
     "output_type": "execute_result"
    }
   ],
   "source": [
    "len(variant)"
   ]
  },
  {
   "cell_type": "code",
   "execution_count": 427,
   "id": "6b23eb68",
   "metadata": {},
   "outputs": [],
   "source": [
    "kms=[]\n",
    "for i in range(1,300):\n",
    "    try:\n",
    "        element=driver.find_element_by_xpath('/html/body/div[2]/div/div[1]/div/div/main/div[1]/div[1]/div[6]/div['+str(i)+']/div/div[2]/div/div/div[4]/div[1]')\n",
    "        kms.append(element.text)\n",
    "    except NoSuchElementException:\n",
    "        continue\n",
    "        \n",
    "for i in kms:\n",
    "    if len(i.split(' ')[0].split(','))==2:\n",
    "        int_kms.append(int(i.split(' ')[0].split(',')[0]+i.split(' ')[0].split(',')[1]))\n",
    "    elif len(i.split(' ')[0].split(','))==1:\n",
    "        int_kms.append(int(i.split(' ')[0].split(',')[0]))\n",
    "    elif len(i.split(' ')[0].split(','))==3:\n",
    "        int_kms.append(int(i.split(' ')[0].split(',')[0]+i.split(' ')[0].split(',')[1]+i.split(' ')[0].split(',')[2]))"
   ]
  },
  {
   "cell_type": "code",
   "execution_count": 428,
   "id": "62d31048",
   "metadata": {},
   "outputs": [
    {
     "data": {
      "text/plain": [
       "995"
      ]
     },
     "execution_count": 428,
     "metadata": {},
     "output_type": "execute_result"
    }
   ],
   "source": [
    "len(int_kms)"
   ]
  },
  {
   "cell_type": "code",
   "execution_count": 429,
   "id": "aac67289",
   "metadata": {},
   "outputs": [],
   "source": [
    "for i in range(0,294):\n",
    "    number_owners.append(2)\n",
    "    location.append('Bangalore')"
   ]
  },
  {
   "cell_type": "code",
   "execution_count": 430,
   "id": "19ae4183",
   "metadata": {},
   "outputs": [
    {
     "data": {
      "text/plain": [
       "995"
      ]
     },
     "execution_count": 430,
     "metadata": {},
     "output_type": "execute_result"
    }
   ],
   "source": [
    "len(number_owners)"
   ]
  },
  {
   "cell_type": "code",
   "execution_count": 431,
   "id": "3baff73c",
   "metadata": {},
   "outputs": [
    {
     "data": {
      "text/plain": [
       "995"
      ]
     },
     "execution_count": 431,
     "metadata": {},
     "output_type": "execute_result"
    }
   ],
   "source": [
    "len(location)"
   ]
  },
  {
   "cell_type": "code",
   "execution_count": 435,
   "id": "d1c1dba3",
   "metadata": {},
   "outputs": [],
   "source": [
    "price_raw=[]\n",
    "for i in range(1,300):\n",
    "    try:\n",
    "        element=driver.find_element_by_xpath('/html/body/div[2]/div/div[1]/div/div/main/div[1]/div[1]/div[6]/div['+str(i)+']/div/div[2]/div/div/div[3]/span[2]')\n",
    "        price_raw.append(element.text)\n",
    "    except NoSuchElementException:\n",
    "        continue"
   ]
  },
  {
   "cell_type": "code",
   "execution_count": 436,
   "id": "70c0a94d",
   "metadata": {},
   "outputs": [],
   "source": [
    "for i in price_raw:\n",
    "    if i.split(' ')[-1]==\"Lakh\":\n",
    "        price.append(float(i.split(' ')[0]))\n",
    "    else:\n",
    "        price.append(float(i.split(' ')[0])/100000)"
   ]
  },
  {
   "cell_type": "code",
   "execution_count": 437,
   "id": "59e10079",
   "metadata": {},
   "outputs": [
    {
     "data": {
      "text/plain": [
       "995"
      ]
     },
     "execution_count": 437,
     "metadata": {},
     "output_type": "execute_result"
    }
   ],
   "source": [
    "len(price)"
   ]
  },
  {
   "cell_type": "code",
   "execution_count": 438,
   "id": "3d0bca56",
   "metadata": {},
   "outputs": [],
   "source": [
    "copy1_year=year\n",
    "copy1_brand_name=brand_name\n",
    "copy1_model=model\n",
    "copy1_variant=variant\n",
    "copy1_int_kms=int_kms\n",
    "copy1_fuel=fuel\n",
    "copy1_number_owners=number_owners\n",
    "copy1_location=location\n",
    "copy1_price=price"
   ]
  },
  {
   "cell_type": "code",
   "execution_count": null,
   "id": "1f561211",
   "metadata": {},
   "outputs": [],
   "source": []
  },
  {
   "cell_type": "code",
   "execution_count": null,
   "id": "524dec86",
   "metadata": {},
   "outputs": [],
   "source": []
  },
  {
   "cell_type": "code",
   "execution_count": null,
   "id": "bccb20eb",
   "metadata": {},
   "outputs": [],
   "source": []
  },
  {
   "cell_type": "code",
   "execution_count": 440,
   "id": "9206b638",
   "metadata": {},
   "outputs": [],
   "source": [
    "driver.get('https://www.cardekho.com/used-cars+in+mumbai+first-owner')"
   ]
  },
  {
   "cell_type": "code",
   "execution_count": 441,
   "id": "dc375639",
   "metadata": {},
   "outputs": [
    {
     "data": {
      "text/plain": [
       "260"
      ]
     },
     "execution_count": 441,
     "metadata": {},
     "output_type": "execute_result"
    }
   ],
   "source": [
    "brand=[]\n",
    "for i in range(1,300):\n",
    "    try:\n",
    "        element=driver.find_element_by_xpath('/html/body/div[2]/div/div[1]/div/div/main/div[1]/div[1]/div[6]/div['+str(i)+']/div/div[2]/div/div/a')\n",
    "        brand.append(element.text.split(' '))\n",
    "    except NoSuchElementException:\n",
    "        continue\n",
    "\n",
    "len(brand)"
   ]
  },
  {
   "cell_type": "code",
   "execution_count": 442,
   "id": "9c24c8f5",
   "metadata": {},
   "outputs": [
    {
     "name": "stdout",
     "output_type": "stream",
     "text": [
      "1255\n",
      "1255\n",
      "1255\n",
      "1255\n",
      "260\n",
      "1255\n",
      "1255\n",
      "1255\n"
     ]
    },
    {
     "data": {
      "text/plain": [
       "1255"
      ]
     },
     "execution_count": 442,
     "metadata": {},
     "output_type": "execute_result"
    }
   ],
   "source": [
    "for i in brand:\n",
    "    year.append(int(i[0]))\n",
    "for i in brand:\n",
    "    brand_name.append(i[1])\n",
    "for i in brand:\n",
    "    if len(i)==3:\n",
    "        model.append(i[2])\n",
    "    elif len(i)>3:\n",
    "        model.append(i[2]+'_'+i[3])\n",
    "        \n",
    "print(len(year))\n",
    "print(len(brand_name))\n",
    "print(len(model))\n",
    "\n",
    "for i in range(1,300):\n",
    "    try:\n",
    "        element=driver.find_element_by_xpath('/html/body/div[2]/div/div[1]/div/div/main/div[1]/div[1]/div[6]/div['+str(i)+']/div/div[2]/div/div/div[2]')\n",
    "        variant.append(element.text)\n",
    "    except NoSuchElementException:\n",
    "        continue\n",
    "\n",
    "print(len(variant))\n",
    "\n",
    "kms=[]\n",
    "for i in range(1,300):\n",
    "    try:\n",
    "        element=driver.find_element_by_xpath('/html/body/div[2]/div/div[1]/div/div/main/div[1]/div[1]/div[6]/div['+str(i)+']/div/div[2]/div/div/div[4]/div[1]')\n",
    "        kms.append(element.text)\n",
    "    except NoSuchElementException:\n",
    "        continue\n",
    "        \n",
    "for i in kms:\n",
    "    if len(i.split(' ')[0].split(','))==2:\n",
    "        int_kms.append(int(i.split(' ')[0].split(',')[0]+i.split(' ')[0].split(',')[1]))\n",
    "    elif len(i.split(' ')[0].split(','))==1:\n",
    "        int_kms.append(int(i.split(' ')[0].split(',')[0]))\n",
    "    elif len(i.split(' ')[0].split(','))==3:\n",
    "        int_kms.append(int(i.split(' ')[0].split(',')[0]+i.split(' ')[0].split(',')[1]+i.split(' ')[0].split(',')[2]))\n",
    "\n",
    "print(len(kms))\n",
    "print(len(int_kms))\n",
    "\n",
    "for i in range(0,len(brand)):\n",
    "    number_owners.append(1)\n",
    "    location.append('Mumbai')\n",
    "    \n",
    "print(len(number_owners))\n",
    "print(len(location))\n",
    "\n",
    "price_raw=[]\n",
    "for i in range(1,300):\n",
    "    try:\n",
    "        element=driver.find_element_by_xpath('/html/body/div[2]/div/div[1]/div/div/main/div[1]/div[1]/div[6]/div['+str(i)+']/div/div[2]/div/div/div[3]/span[2]')\n",
    "        price_raw.append(element.text)\n",
    "    except NoSuchElementException:\n",
    "        continue\n",
    "\n",
    "for i in price_raw:\n",
    "    if i.split(' ')[-1]==\"Lakh\":\n",
    "        price.append(float(i.split(' ')[0]))\n",
    "    else:\n",
    "        price.append(float(i.split(' ')[0])/100000)\n",
    "\n",
    "len(price_raw)\n",
    "len(price)"
   ]
  },
  {
   "cell_type": "code",
   "execution_count": null,
   "id": "16d15e52",
   "metadata": {},
   "outputs": [],
   "source": []
  },
  {
   "cell_type": "code",
   "execution_count": null,
   "id": "6aa55948",
   "metadata": {},
   "outputs": [],
   "source": []
  },
  {
   "cell_type": "code",
   "execution_count": null,
   "id": "67f501ce",
   "metadata": {},
   "outputs": [],
   "source": []
  },
  {
   "cell_type": "code",
   "execution_count": 450,
   "id": "87aa4b14",
   "metadata": {},
   "outputs": [],
   "source": [
    "driver.get('https://www.cardekho.com/used-cars+in+mumbai+second-owner')"
   ]
  },
  {
   "cell_type": "code",
   "execution_count": 451,
   "id": "a09929d1",
   "metadata": {},
   "outputs": [
    {
     "data": {
      "text/plain": [
       "294"
      ]
     },
     "execution_count": 451,
     "metadata": {},
     "output_type": "execute_result"
    }
   ],
   "source": [
    "brand=[]\n",
    "for i in range(1,300):\n",
    "    try:\n",
    "        element=driver.find_element_by_xpath('/html/body/div[2]/div/div[1]/div/div/main/div[1]/div[1]/div[6]/div['+str(i)+']/div/div[2]/div/div/a')\n",
    "        brand.append(element.text.split(' '))\n",
    "    except NoSuchElementException:\n",
    "        continue\n",
    "\n",
    "len(brand)"
   ]
  },
  {
   "cell_type": "code",
   "execution_count": 452,
   "id": "4842995d",
   "metadata": {},
   "outputs": [
    {
     "name": "stdout",
     "output_type": "stream",
     "text": [
      "1549\n",
      "1549\n",
      "1549\n",
      "1549\n",
      "294\n",
      "1549\n",
      "1549\n",
      "1549\n"
     ]
    },
    {
     "data": {
      "text/plain": [
       "1549"
      ]
     },
     "execution_count": 452,
     "metadata": {},
     "output_type": "execute_result"
    }
   ],
   "source": [
    "for i in brand:\n",
    "    year.append(int(i[0]))\n",
    "for i in brand:\n",
    "    brand_name.append(i[1])\n",
    "for i in brand:\n",
    "    if len(i)==3:\n",
    "        model.append(i[2])\n",
    "    elif len(i)>3:\n",
    "        model.append(i[2]+'_'+i[3])\n",
    "        \n",
    "print(len(year))\n",
    "print(len(brand_name))\n",
    "print(len(model))\n",
    "\n",
    "for i in range(1,300):\n",
    "    try:\n",
    "        element=driver.find_element_by_xpath('/html/body/div[2]/div/div[1]/div/div/main/div[1]/div[1]/div[6]/div['+str(i)+']/div/div[2]/div/div/div[2]')\n",
    "        variant.append(element.text)\n",
    "    except NoSuchElementException:\n",
    "        continue\n",
    "\n",
    "print(len(variant))\n",
    "\n",
    "kms=[]\n",
    "for i in range(1,300):\n",
    "    try:\n",
    "        element=driver.find_element_by_xpath('/html/body/div[2]/div/div[1]/div/div/main/div[1]/div[1]/div[6]/div['+str(i)+']/div/div[2]/div/div/div[4]/div[1]')\n",
    "        kms.append(element.text)\n",
    "    except NoSuchElementException:\n",
    "        continue\n",
    "        \n",
    "for i in kms:\n",
    "    if len(i.split(' ')[0].split(','))==2:\n",
    "        int_kms.append(int(i.split(' ')[0].split(',')[0]+i.split(' ')[0].split(',')[1]))\n",
    "    elif len(i.split(' ')[0].split(','))==1:\n",
    "        int_kms.append(int(i.split(' ')[0].split(',')[0]))\n",
    "    elif len(i.split(' ')[0].split(','))==3:\n",
    "        int_kms.append(int(i.split(' ')[0].split(',')[0]+i.split(' ')[0].split(',')[1]+i.split(' ')[0].split(',')[2]))\n",
    "\n",
    "print(len(kms))\n",
    "print(len(int_kms))\n",
    "\n",
    "for i in range(0,len(brand)):\n",
    "    number_owners.append(2)\n",
    "    location.append('Mumbai')\n",
    "    \n",
    "print(len(number_owners))\n",
    "print(len(location))\n",
    "\n",
    "price_raw=[]\n",
    "for i in range(1,300):\n",
    "    try:\n",
    "        element=driver.find_element_by_xpath('/html/body/div[2]/div/div[1]/div/div/main/div[1]/div[1]/div[6]/div['+str(i)+']/div/div[2]/div/div/div[3]/span[2]')\n",
    "        price_raw.append(element.text)\n",
    "    except NoSuchElementException:\n",
    "        continue\n",
    "\n",
    "for i in price_raw:\n",
    "    if i.split(' ')[-1]==\"Lakh\":\n",
    "        price.append(float(i.split(' ')[0]))\n",
    "    else:\n",
    "        price.append(float(i.split(' ')[0])/100000)\n",
    "\n",
    "len(price_raw)\n",
    "len(price)"
   ]
  },
  {
   "cell_type": "code",
   "execution_count": 453,
   "id": "d68d84f5",
   "metadata": {},
   "outputs": [],
   "source": [
    "copy1_year=year\n",
    "copy1_brand_name=brand_name\n",
    "copy1_model=model\n",
    "copy1_variant=variant\n",
    "copy1_int_kms=int_kms\n",
    "copy1_fuel=fuel\n",
    "copy1_number_owners=number_owners\n",
    "copy1_location=location\n",
    "copy1_price=price"
   ]
  },
  {
   "cell_type": "code",
   "execution_count": null,
   "id": "4c1d8562",
   "metadata": {},
   "outputs": [],
   "source": []
  },
  {
   "cell_type": "code",
   "execution_count": null,
   "id": "5c7458e4",
   "metadata": {},
   "outputs": [],
   "source": []
  },
  {
   "cell_type": "code",
   "execution_count": 454,
   "id": "0347b563",
   "metadata": {},
   "outputs": [],
   "source": [
    "driver.get('https://www.cardekho.com/used-cars+in+kolkata+first-owner')"
   ]
  },
  {
   "cell_type": "code",
   "execution_count": 456,
   "id": "da3d01e4",
   "metadata": {},
   "outputs": [
    {
     "data": {
      "text/plain": [
       "294"
      ]
     },
     "execution_count": 456,
     "metadata": {},
     "output_type": "execute_result"
    }
   ],
   "source": [
    "brand=[]\n",
    "for i in range(1,300):\n",
    "    try:\n",
    "        element=driver.find_element_by_xpath('/html/body/div[2]/div/div[1]/div/div/main/div[1]/div[1]/div[6]/div['+str(i)+']/div/div[2]/div/div/a')\n",
    "        brand.append(element.text.split(' '))\n",
    "    except NoSuchElementException:\n",
    "        continue\n",
    "\n",
    "len(brand)"
   ]
  },
  {
   "cell_type": "code",
   "execution_count": 457,
   "id": "90dc3378",
   "metadata": {},
   "outputs": [
    {
     "name": "stdout",
     "output_type": "stream",
     "text": [
      "1843\n",
      "1843\n",
      "1843\n",
      "1843\n",
      "294\n",
      "1843\n",
      "1843\n",
      "1843\n"
     ]
    },
    {
     "data": {
      "text/plain": [
       "1843"
      ]
     },
     "execution_count": 457,
     "metadata": {},
     "output_type": "execute_result"
    }
   ],
   "source": [
    "for i in brand:\n",
    "    year.append(int(i[0]))\n",
    "for i in brand:\n",
    "    brand_name.append(i[1])\n",
    "for i in brand:\n",
    "    if len(i)==3:\n",
    "        model.append(i[2])\n",
    "    elif len(i)>3:\n",
    "        model.append(i[2]+'_'+i[3])\n",
    "        \n",
    "print(len(year))\n",
    "print(len(brand_name))\n",
    "print(len(model))\n",
    "\n",
    "for i in range(1,300):\n",
    "    try:\n",
    "        element=driver.find_element_by_xpath('/html/body/div[2]/div/div[1]/div/div/main/div[1]/div[1]/div[6]/div['+str(i)+']/div/div[2]/div/div/div[2]')\n",
    "        variant.append(element.text)\n",
    "    except NoSuchElementException:\n",
    "        continue\n",
    "\n",
    "print(len(variant))\n",
    "\n",
    "kms=[]\n",
    "for i in range(1,300):\n",
    "    try:\n",
    "        element=driver.find_element_by_xpath('/html/body/div[2]/div/div[1]/div/div/main/div[1]/div[1]/div[6]/div['+str(i)+']/div/div[2]/div/div/div[4]/div[1]')\n",
    "        kms.append(element.text)\n",
    "    except NoSuchElementException:\n",
    "        continue\n",
    "        \n",
    "for i in kms:\n",
    "    if len(i.split(' ')[0].split(','))==2:\n",
    "        int_kms.append(int(i.split(' ')[0].split(',')[0]+i.split(' ')[0].split(',')[1]))\n",
    "    elif len(i.split(' ')[0].split(','))==1:\n",
    "        int_kms.append(int(i.split(' ')[0].split(',')[0]))\n",
    "    elif len(i.split(' ')[0].split(','))==3:\n",
    "        int_kms.append(int(i.split(' ')[0].split(',')[0]+i.split(' ')[0].split(',')[1]+i.split(' ')[0].split(',')[2]))\n",
    "\n",
    "print(len(kms))\n",
    "print(len(int_kms))\n",
    "\n",
    "for i in range(0,len(brand)):\n",
    "    number_owners.append(1)\n",
    "    location.append('Kolkata')\n",
    "    \n",
    "print(len(number_owners))\n",
    "print(len(location))\n",
    "\n",
    "price_raw=[]\n",
    "for i in range(1,300):\n",
    "    try:\n",
    "        element=driver.find_element_by_xpath('/html/body/div[2]/div/div[1]/div/div/main/div[1]/div[1]/div[6]/div['+str(i)+']/div/div[2]/div/div/div[3]/span[2]')\n",
    "        price_raw.append(element.text)\n",
    "    except NoSuchElementException:\n",
    "        continue\n",
    "\n",
    "for i in price_raw:\n",
    "    if i.split(' ')[-1]==\"Lakh\":\n",
    "        price.append(float(i.split(' ')[0]))\n",
    "    else:\n",
    "        price.append(float(i.split(' ')[0])/100000)\n",
    "\n",
    "print(len(price_raw))\n",
    "print(len(price))"
   ]
  },
  {
   "cell_type": "code",
   "execution_count": null,
   "id": "6001629b",
   "metadata": {},
   "outputs": [],
   "source": []
  },
  {
   "cell_type": "code",
   "execution_count": null,
   "id": "e5077a1c",
   "metadata": {},
   "outputs": [],
   "source": []
  },
  {
   "cell_type": "code",
   "execution_count": 458,
   "id": "61563ae5",
   "metadata": {},
   "outputs": [],
   "source": [
    "driver.get('https://www.cardekho.com/used-cars+in+kolkata+second-owner')"
   ]
  },
  {
   "cell_type": "code",
   "execution_count": 459,
   "id": "55308a04",
   "metadata": {},
   "outputs": [
    {
     "data": {
      "text/plain": [
       "66"
      ]
     },
     "execution_count": 459,
     "metadata": {},
     "output_type": "execute_result"
    }
   ],
   "source": [
    "brand=[]\n",
    "for i in range(1,300):\n",
    "    try:\n",
    "        element=driver.find_element_by_xpath('/html/body/div[2]/div/div[1]/div/div/main/div[1]/div[1]/div[6]/div['+str(i)+']/div/div[2]/div/div/a')\n",
    "        brand.append(element.text.split(' '))\n",
    "    except NoSuchElementException:\n",
    "        continue\n",
    "\n",
    "len(brand)"
   ]
  },
  {
   "cell_type": "code",
   "execution_count": 460,
   "id": "8345f971",
   "metadata": {},
   "outputs": [
    {
     "name": "stdout",
     "output_type": "stream",
     "text": [
      "1909\n",
      "1909\n",
      "1909\n",
      "1909\n",
      "66\n",
      "1909\n",
      "1909\n",
      "1909\n",
      "66\n",
      "1909\n"
     ]
    }
   ],
   "source": [
    "for i in brand:\n",
    "    year.append(int(i[0]))\n",
    "for i in brand:\n",
    "    brand_name.append(i[1])\n",
    "for i in brand:\n",
    "    if len(i)==3:\n",
    "        model.append(i[2])\n",
    "    elif len(i)>3:\n",
    "        model.append(i[2]+'_'+i[3])\n",
    "        \n",
    "print(len(year))\n",
    "print(len(brand_name))\n",
    "print(len(model))\n",
    "\n",
    "for i in range(1,300):\n",
    "    try:\n",
    "        element=driver.find_element_by_xpath('/html/body/div[2]/div/div[1]/div/div/main/div[1]/div[1]/div[6]/div['+str(i)+']/div/div[2]/div/div/div[2]')\n",
    "        variant.append(element.text)\n",
    "    except NoSuchElementException:\n",
    "        continue\n",
    "\n",
    "print(len(variant))\n",
    "\n",
    "kms=[]\n",
    "for i in range(1,300):\n",
    "    try:\n",
    "        element=driver.find_element_by_xpath('/html/body/div[2]/div/div[1]/div/div/main/div[1]/div[1]/div[6]/div['+str(i)+']/div/div[2]/div/div/div[4]/div[1]')\n",
    "        kms.append(element.text)\n",
    "    except NoSuchElementException:\n",
    "        continue\n",
    "        \n",
    "for i in kms:\n",
    "    if len(i.split(' ')[0].split(','))==2:\n",
    "        int_kms.append(int(i.split(' ')[0].split(',')[0]+i.split(' ')[0].split(',')[1]))\n",
    "    elif len(i.split(' ')[0].split(','))==1:\n",
    "        int_kms.append(int(i.split(' ')[0].split(',')[0]))\n",
    "    elif len(i.split(' ')[0].split(','))==3:\n",
    "        int_kms.append(int(i.split(' ')[0].split(',')[0]+i.split(' ')[0].split(',')[1]+i.split(' ')[0].split(',')[2]))\n",
    "\n",
    "print(len(kms))\n",
    "print(len(int_kms))\n",
    "\n",
    "for i in range(0,len(brand)):\n",
    "    number_owners.append(2)\n",
    "    location.append('Kolkata')\n",
    "    \n",
    "print(len(number_owners))\n",
    "print(len(location))\n",
    "\n",
    "price_raw=[]\n",
    "for i in range(1,300):\n",
    "    try:\n",
    "        element=driver.find_element_by_xpath('/html/body/div[2]/div/div[1]/div/div/main/div[1]/div[1]/div[6]/div['+str(i)+']/div/div[2]/div/div/div[3]/span[2]')\n",
    "        price_raw.append(element.text)\n",
    "    except NoSuchElementException:\n",
    "        continue\n",
    "\n",
    "for i in price_raw:\n",
    "    if i.split(' ')[-1]==\"Lakh\":\n",
    "        price.append(float(i.split(' ')[0]))\n",
    "    else:\n",
    "        price.append(float(i.split(' ')[0])/100000)\n",
    "\n",
    "print(len(price_raw))\n",
    "print(len(price))"
   ]
  },
  {
   "cell_type": "code",
   "execution_count": null,
   "id": "8ef0afe2",
   "metadata": {},
   "outputs": [],
   "source": []
  },
  {
   "cell_type": "code",
   "execution_count": null,
   "id": "ad34cd40",
   "metadata": {},
   "outputs": [],
   "source": []
  },
  {
   "cell_type": "code",
   "execution_count": 470,
   "id": "2bf1829d",
   "metadata": {},
   "outputs": [],
   "source": [
    "driver=webdriver.Chrome(\"chromedriver.exe\")"
   ]
  },
  {
   "cell_type": "code",
   "execution_count": 471,
   "id": "92457566",
   "metadata": {},
   "outputs": [],
   "source": [
    "driver.get('https://www.cardekho.com/used-cars+in+hyderabad+first-owner')"
   ]
  },
  {
   "cell_type": "code",
   "execution_count": 472,
   "id": "a3564e18",
   "metadata": {},
   "outputs": [
    {
     "data": {
      "text/plain": [
       "294"
      ]
     },
     "execution_count": 472,
     "metadata": {},
     "output_type": "execute_result"
    }
   ],
   "source": [
    "brand=[]\n",
    "for i in range(1,300):\n",
    "    try:\n",
    "        element=driver.find_element_by_xpath('/html/body/div[2]/div/div[1]/div/div/main/div[1]/div[1]/div[6]/div['+str(i)+']/div/div[2]/div/div/a')\n",
    "        brand.append(element.text.split(' '))\n",
    "    except NoSuchElementException:\n",
    "        continue\n",
    "\n",
    "len(brand)"
   ]
  },
  {
   "cell_type": "code",
   "execution_count": 473,
   "id": "3a3f4809",
   "metadata": {},
   "outputs": [
    {
     "name": "stdout",
     "output_type": "stream",
     "text": [
      "2203\n",
      "2203\n",
      "2203\n",
      "2203\n",
      "294\n",
      "2203\n",
      "2203\n",
      "2203\n",
      "294\n",
      "2203\n"
     ]
    }
   ],
   "source": [
    "for i in brand:\n",
    "    year.append(int(i[0]))\n",
    "for i in brand:\n",
    "    brand_name.append(i[1])\n",
    "for i in brand:\n",
    "    if len(i)==3:\n",
    "        model.append(i[2])\n",
    "    elif len(i)>3:\n",
    "        model.append(i[2]+'_'+i[3])\n",
    "        \n",
    "print(len(year))\n",
    "print(len(brand_name))\n",
    "print(len(model))\n",
    "\n",
    "for i in range(1,300):\n",
    "    try:\n",
    "        element=driver.find_element_by_xpath('/html/body/div[2]/div/div[1]/div/div/main/div[1]/div[1]/div[6]/div['+str(i)+']/div/div[2]/div/div/div[2]')\n",
    "        variant.append(element.text)\n",
    "    except NoSuchElementException:\n",
    "        continue\n",
    "\n",
    "print(len(variant))\n",
    "\n",
    "kms=[]\n",
    "for i in range(1,300):\n",
    "    try:\n",
    "        element=driver.find_element_by_xpath('/html/body/div[2]/div/div[1]/div/div/main/div[1]/div[1]/div[6]/div['+str(i)+']/div/div[2]/div/div/div[4]/div[1]')\n",
    "        kms.append(element.text)\n",
    "    except NoSuchElementException:\n",
    "        continue\n",
    "        \n",
    "for i in kms:\n",
    "    if len(i.split(' ')[0].split(','))==2:\n",
    "        int_kms.append(int(i.split(' ')[0].split(',')[0]+i.split(' ')[0].split(',')[1]))\n",
    "    elif len(i.split(' ')[0].split(','))==1:\n",
    "        int_kms.append(int(i.split(' ')[0].split(',')[0]))\n",
    "    elif len(i.split(' ')[0].split(','))==3:\n",
    "        int_kms.append(int(i.split(' ')[0].split(',')[0]+i.split(' ')[0].split(',')[1]+i.split(' ')[0].split(',')[2]))\n",
    "\n",
    "print(len(kms))\n",
    "print(len(int_kms))\n",
    "\n",
    "for i in range(0,len(brand)):\n",
    "    number_owners.append(1)\n",
    "    location.append('Hyderabad')\n",
    "    \n",
    "print(len(number_owners))\n",
    "print(len(location))\n",
    "\n",
    "price_raw=[]\n",
    "for i in range(1,300):\n",
    "    try:\n",
    "        element=driver.find_element_by_xpath('/html/body/div[2]/div/div[1]/div/div/main/div[1]/div[1]/div[6]/div['+str(i)+']/div/div[2]/div/div/div[3]/span[2]')\n",
    "        price_raw.append(element.text)\n",
    "    except NoSuchElementException:\n",
    "        continue\n",
    "\n",
    "for i in price_raw:\n",
    "    if i.split(' ')[-1]==\"Lakh\":\n",
    "        price.append(float(i.split(' ')[0]))\n",
    "    else:\n",
    "        price.append(float(i.split(' ')[0])/100000)\n",
    "\n",
    "print(len(price_raw))\n",
    "print(len(price))"
   ]
  },
  {
   "cell_type": "code",
   "execution_count": null,
   "id": "d53f4fa2",
   "metadata": {},
   "outputs": [],
   "source": []
  },
  {
   "cell_type": "code",
   "execution_count": null,
   "id": "6ce5e50c",
   "metadata": {},
   "outputs": [],
   "source": []
  },
  {
   "cell_type": "code",
   "execution_count": 474,
   "id": "60fb1d60",
   "metadata": {},
   "outputs": [],
   "source": [
    "driver.get('https://www.cardekho.com/used-cars+in+hyderabad+second-owner')"
   ]
  },
  {
   "cell_type": "code",
   "execution_count": 475,
   "id": "43d30a1b",
   "metadata": {},
   "outputs": [
    {
     "data": {
      "text/plain": [
       "123"
      ]
     },
     "execution_count": 475,
     "metadata": {},
     "output_type": "execute_result"
    }
   ],
   "source": [
    "brand=[]\n",
    "for i in range(1,300):\n",
    "    try:\n",
    "        element=driver.find_element_by_xpath('/html/body/div[2]/div/div[1]/div/div/main/div[1]/div[1]/div[6]/div['+str(i)+']/div/div[2]/div/div/a')\n",
    "        brand.append(element.text.split(' '))\n",
    "    except NoSuchElementException:\n",
    "        continue\n",
    "\n",
    "len(brand)"
   ]
  },
  {
   "cell_type": "code",
   "execution_count": 476,
   "id": "7202bc9a",
   "metadata": {},
   "outputs": [
    {
     "name": "stdout",
     "output_type": "stream",
     "text": [
      "2326\n",
      "2326\n",
      "2326\n",
      "2326\n",
      "123\n",
      "2326\n",
      "2326\n",
      "2326\n",
      "123\n",
      "2326\n"
     ]
    }
   ],
   "source": [
    "for i in brand:\n",
    "    year.append(int(i[0]))\n",
    "for i in brand:\n",
    "    brand_name.append(i[1])\n",
    "for i in brand:\n",
    "    if len(i)==3:\n",
    "        model.append(i[2])\n",
    "    elif len(i)>3:\n",
    "        model.append(i[2]+'_'+i[3])\n",
    "        \n",
    "print(len(year))\n",
    "print(len(brand_name))\n",
    "print(len(model))\n",
    "\n",
    "for i in range(1,300):\n",
    "    try:\n",
    "        element=driver.find_element_by_xpath('/html/body/div[2]/div/div[1]/div/div/main/div[1]/div[1]/div[6]/div['+str(i)+']/div/div[2]/div/div/div[2]')\n",
    "        variant.append(element.text)\n",
    "    except NoSuchElementException:\n",
    "        continue\n",
    "\n",
    "print(len(variant))\n",
    "\n",
    "kms=[]\n",
    "for i in range(1,300):\n",
    "    try:\n",
    "        element=driver.find_element_by_xpath('/html/body/div[2]/div/div[1]/div/div/main/div[1]/div[1]/div[6]/div['+str(i)+']/div/div[2]/div/div/div[4]/div[1]')\n",
    "        kms.append(element.text)\n",
    "    except NoSuchElementException:\n",
    "        continue\n",
    "        \n",
    "for i in kms:\n",
    "    if len(i.split(' ')[0].split(','))==2:\n",
    "        int_kms.append(int(i.split(' ')[0].split(',')[0]+i.split(' ')[0].split(',')[1]))\n",
    "    elif len(i.split(' ')[0].split(','))==1:\n",
    "        int_kms.append(int(i.split(' ')[0].split(',')[0]))\n",
    "    elif len(i.split(' ')[0].split(','))==3:\n",
    "        int_kms.append(int(i.split(' ')[0].split(',')[0]+i.split(' ')[0].split(',')[1]+i.split(' ')[0].split(',')[2]))\n",
    "\n",
    "print(len(kms))\n",
    "print(len(int_kms))\n",
    "\n",
    "for i in range(0,len(brand)):\n",
    "    number_owners.append(2)\n",
    "    location.append('Hyderabad')\n",
    "    \n",
    "print(len(number_owners))\n",
    "print(len(location))\n",
    "\n",
    "price_raw=[]\n",
    "for i in range(1,300):\n",
    "    try:\n",
    "        element=driver.find_element_by_xpath('/html/body/div[2]/div/div[1]/div/div/main/div[1]/div[1]/div[6]/div['+str(i)+']/div/div[2]/div/div/div[3]/span[2]')\n",
    "        price_raw.append(element.text)\n",
    "    except NoSuchElementException:\n",
    "        continue\n",
    "\n",
    "for i in price_raw:\n",
    "    if i.split(' ')[-1]==\"Lakh\":\n",
    "        price.append(float(i.split(' ')[0]))\n",
    "    else:\n",
    "        price.append(float(i.split(' ')[0])/100000)\n",
    "\n",
    "print(len(price_raw))\n",
    "print(len(price))"
   ]
  },
  {
   "cell_type": "code",
   "execution_count": 477,
   "id": "62ae511c",
   "metadata": {},
   "outputs": [],
   "source": [
    "copy2_year=year\n",
    "copy2_brand_name=brand_name\n",
    "copy2_model=model\n",
    "copy2_variant=variant\n",
    "copy2_int_kms=int_kms\n",
    "copy2_fuel=fuel\n",
    "copy2_number_owners=number_owners\n",
    "copy2_location=location\n",
    "copy2_price=price"
   ]
  },
  {
   "cell_type": "code",
   "execution_count": 490,
   "id": "ca866a3e",
   "metadata": {},
   "outputs": [],
   "source": [
    "#year=year[0:2326]\n",
    "#brand_name=brand_name[0:2326]\n",
    "#model=model[0:2326]\n",
    "#variant=variant[0:2326]\n",
    "#int_kms=int_kms[0:2326]\n",
    "#fuel=fuel[0:2326]\n",
    "#number_owners=number_owners[0:2326]\n",
    "#location=location[0:2326]\n",
    "#price=price[0:2326]"
   ]
  },
  {
   "cell_type": "code",
   "execution_count": null,
   "id": "9f507d27",
   "metadata": {},
   "outputs": [],
   "source": []
  },
  {
   "cell_type": "code",
   "execution_count": 480,
   "id": "25ce6d7e",
   "metadata": {},
   "outputs": [],
   "source": [
    "driver.get('https://www.cardekho.com/used-cars+in+lucknow+first-owner')"
   ]
  },
  {
   "cell_type": "code",
   "execution_count": 493,
   "id": "1dfbb8da",
   "metadata": {},
   "outputs": [
    {
     "data": {
      "text/plain": [
       "265"
      ]
     },
     "execution_count": 493,
     "metadata": {},
     "output_type": "execute_result"
    }
   ],
   "source": [
    "brand=[]\n",
    "for i in range(1,300):\n",
    "    try:\n",
    "        element=driver.find_element_by_xpath('/html/body/div[2]/div/div[1]/div/div/main/div[1]/div[1]/div[6]/div['+str(i)+']/div/div[2]/div/div/a')\n",
    "        brand.append(element.text.split(' '))\n",
    "    except NoSuchElementException:\n",
    "        continue\n",
    "\n",
    "len(brand)"
   ]
  },
  {
   "cell_type": "code",
   "execution_count": 494,
   "id": "ad187c40",
   "metadata": {},
   "outputs": [
    {
     "name": "stdout",
     "output_type": "stream",
     "text": [
      "2591\n",
      "2591\n",
      "2591\n",
      "2591\n",
      "265\n",
      "2591\n",
      "2591\n",
      "2591\n",
      "265\n",
      "2591\n"
     ]
    }
   ],
   "source": [
    "for i in brand:\n",
    "    year.append(int(i[0]))\n",
    "for i in brand:\n",
    "    brand_name.append(i[1])\n",
    "for i in brand:\n",
    "    if len(i)==3:\n",
    "        model.append(i[2])\n",
    "    elif len(i)>3:\n",
    "        model.append(i[2]+'_'+i[3])\n",
    "        \n",
    "print(len(year))\n",
    "print(len(brand_name))\n",
    "print(len(model))\n",
    "\n",
    "for i in range(1,300):\n",
    "    try:\n",
    "        element=driver.find_element_by_xpath('/html/body/div[2]/div/div[1]/div/div/main/div[1]/div[1]/div[6]/div['+str(i)+']/div/div[2]/div/div/div[2]')\n",
    "        variant.append(element.text)\n",
    "    except NoSuchElementException:\n",
    "        continue\n",
    "\n",
    "print(len(variant))\n",
    "\n",
    "kms=[]\n",
    "for i in range(1,300):\n",
    "    try:\n",
    "        element=driver.find_element_by_xpath('/html/body/div[2]/div/div[1]/div/div/main/div[1]/div[1]/div[6]/div['+str(i)+']/div/div[2]/div/div/div[4]/div[1]')\n",
    "        kms.append(element.text)\n",
    "    except NoSuchElementException:\n",
    "        continue\n",
    "        \n",
    "for i in kms:\n",
    "    if len(i.split(' ')[0].split(','))==2:\n",
    "        int_kms.append(int(i.split(' ')[0].split(',')[0]+i.split(' ')[0].split(',')[1]))\n",
    "    elif len(i.split(' ')[0].split(','))==1:\n",
    "        int_kms.append(int(i.split(' ')[0].split(',')[0]))\n",
    "    elif len(i.split(' ')[0].split(','))==3:\n",
    "        int_kms.append(int(i.split(' ')[0].split(',')[0]+i.split(' ')[0].split(',')[1]+i.split(' ')[0].split(',')[2]))\n",
    "\n",
    "print(len(kms))\n",
    "print(len(int_kms))\n",
    "\n",
    "for i in range(0,len(brand)):\n",
    "    number_owners.append(1)\n",
    "    location.append('Lucknow')\n",
    "    \n",
    "print(len(number_owners))\n",
    "print(len(location))\n",
    "\n",
    "price_raw=[]\n",
    "for i in range(1,300):\n",
    "    try:\n",
    "        element=driver.find_element_by_xpath('/html/body/div[2]/div/div[1]/div/div/main/div[1]/div[1]/div[6]/div['+str(i)+']/div/div[2]/div/div/div[3]/span[2]')\n",
    "        price_raw.append(element.text)\n",
    "    except NoSuchElementException:\n",
    "        continue\n",
    "\n",
    "for i in price_raw:\n",
    "    if i.split(' ')[-1]==\"Lakh\":\n",
    "        price.append(float(i.split(' ')[0]))\n",
    "    else:\n",
    "        price.append(float(i.split(' ')[0])/100000)\n",
    "\n",
    "print(len(price_raw))\n",
    "print(len(price))"
   ]
  },
  {
   "cell_type": "code",
   "execution_count": null,
   "id": "5e508551",
   "metadata": {},
   "outputs": [],
   "source": []
  },
  {
   "cell_type": "code",
   "execution_count": null,
   "id": "70ceaf38",
   "metadata": {},
   "outputs": [],
   "source": []
  },
  {
   "cell_type": "code",
   "execution_count": 495,
   "id": "a6cce2fa",
   "metadata": {},
   "outputs": [],
   "source": [
    "driver.get('https://www.cardekho.com/used-cars+in+lucknow+second-owner')"
   ]
  },
  {
   "cell_type": "code",
   "execution_count": 496,
   "id": "0e411801",
   "metadata": {},
   "outputs": [
    {
     "data": {
      "text/plain": [
       "79"
      ]
     },
     "execution_count": 496,
     "metadata": {},
     "output_type": "execute_result"
    }
   ],
   "source": [
    "brand=[]\n",
    "for i in range(1,300):\n",
    "    try:\n",
    "        element=driver.find_element_by_xpath('/html/body/div[2]/div/div[1]/div/div/main/div[1]/div[1]/div[6]/div['+str(i)+']/div/div[2]/div/div/a')\n",
    "        brand.append(element.text.split(' '))\n",
    "    except NoSuchElementException:\n",
    "        continue\n",
    "\n",
    "len(brand)"
   ]
  },
  {
   "cell_type": "code",
   "execution_count": 497,
   "id": "5f6b421c",
   "metadata": {},
   "outputs": [
    {
     "name": "stdout",
     "output_type": "stream",
     "text": [
      "2670\n",
      "2670\n",
      "2670\n",
      "2670\n",
      "79\n",
      "2670\n",
      "2670\n",
      "2670\n",
      "79\n",
      "2670\n"
     ]
    }
   ],
   "source": [
    "for i in brand:\n",
    "    year.append(int(i[0]))\n",
    "for i in brand:\n",
    "    brand_name.append(i[1])\n",
    "for i in brand:\n",
    "    if len(i)==3:\n",
    "        model.append(i[2])\n",
    "    elif len(i)>3:\n",
    "        model.append(i[2]+'_'+i[3])\n",
    "        \n",
    "print(len(year))\n",
    "print(len(brand_name))\n",
    "print(len(model))\n",
    "\n",
    "for i in range(1,300):\n",
    "    try:\n",
    "        element=driver.find_element_by_xpath('/html/body/div[2]/div/div[1]/div/div/main/div[1]/div[1]/div[6]/div['+str(i)+']/div/div[2]/div/div/div[2]')\n",
    "        variant.append(element.text)\n",
    "    except NoSuchElementException:\n",
    "        continue\n",
    "\n",
    "print(len(variant))\n",
    "\n",
    "kms=[]\n",
    "for i in range(1,300):\n",
    "    try:\n",
    "        element=driver.find_element_by_xpath('/html/body/div[2]/div/div[1]/div/div/main/div[1]/div[1]/div[6]/div['+str(i)+']/div/div[2]/div/div/div[4]/div[1]')\n",
    "        kms.append(element.text)\n",
    "    except NoSuchElementException:\n",
    "        continue\n",
    "        \n",
    "for i in kms:\n",
    "    if len(i.split(' ')[0].split(','))==2:\n",
    "        int_kms.append(int(i.split(' ')[0].split(',')[0]+i.split(' ')[0].split(',')[1]))\n",
    "    elif len(i.split(' ')[0].split(','))==1:\n",
    "        int_kms.append(int(i.split(' ')[0].split(',')[0]))\n",
    "    elif len(i.split(' ')[0].split(','))==3:\n",
    "        int_kms.append(int(i.split(' ')[0].split(',')[0]+i.split(' ')[0].split(',')[1]+i.split(' ')[0].split(',')[2]))\n",
    "\n",
    "print(len(kms))\n",
    "print(len(int_kms))\n",
    "\n",
    "for i in range(0,len(brand)):\n",
    "    number_owners.append(2)\n",
    "    location.append('Lucknow')\n",
    "    \n",
    "print(len(number_owners))\n",
    "print(len(location))\n",
    "\n",
    "price_raw=[]\n",
    "for i in range(1,300):\n",
    "    try:\n",
    "        element=driver.find_element_by_xpath('/html/body/div[2]/div/div[1]/div/div/main/div[1]/div[1]/div[6]/div['+str(i)+']/div/div[2]/div/div/div[3]/span[2]')\n",
    "        price_raw.append(element.text)\n",
    "    except NoSuchElementException:\n",
    "        continue\n",
    "\n",
    "for i in price_raw:\n",
    "    if i.split(' ')[-1]==\"Lakh\":\n",
    "        price.append(float(i.split(' ')[0]))\n",
    "    else:\n",
    "        price.append(float(i.split(' ')[0])/100000)\n",
    "\n",
    "print(len(price_raw))\n",
    "print(len(price))"
   ]
  },
  {
   "cell_type": "code",
   "execution_count": null,
   "id": "afc08afb",
   "metadata": {},
   "outputs": [],
   "source": []
  },
  {
   "cell_type": "code",
   "execution_count": null,
   "id": "5fe2043e",
   "metadata": {},
   "outputs": [],
   "source": []
  },
  {
   "cell_type": "code",
   "execution_count": 503,
   "id": "ce254727",
   "metadata": {},
   "outputs": [],
   "source": [
    "driver.get('https://www.cardekho.com/used-cars+in+gurgaon+first-owner')"
   ]
  },
  {
   "cell_type": "code",
   "execution_count": 504,
   "id": "3c22d00e",
   "metadata": {},
   "outputs": [
    {
     "data": {
      "text/plain": [
       "294"
      ]
     },
     "execution_count": 504,
     "metadata": {},
     "output_type": "execute_result"
    }
   ],
   "source": [
    "brand=[]\n",
    "for i in range(1,300):\n",
    "    try:\n",
    "        element=driver.find_element_by_xpath('/html/body/div[2]/div/div[1]/div/div/main/div[1]/div[1]/div[6]/div['+str(i)+']/div/div[2]/div/div/a')\n",
    "        brand.append(element.text.split(' '))\n",
    "    except NoSuchElementException:\n",
    "        continue\n",
    "\n",
    "len(brand)"
   ]
  },
  {
   "cell_type": "code",
   "execution_count": 505,
   "id": "25b75825",
   "metadata": {},
   "outputs": [
    {
     "name": "stdout",
     "output_type": "stream",
     "text": [
      "2964\n",
      "2964\n",
      "2964\n",
      "2964\n",
      "294\n",
      "2964\n",
      "2964\n",
      "2964\n",
      "294\n",
      "2964\n"
     ]
    }
   ],
   "source": [
    "for i in brand:\n",
    "    year.append(int(i[0]))\n",
    "for i in brand:\n",
    "    brand_name.append(i[1])\n",
    "for i in brand:\n",
    "    if len(i)==3:\n",
    "        model.append(i[2])\n",
    "    elif len(i)>3:\n",
    "        model.append(i[2]+'_'+i[3])\n",
    "        \n",
    "print(len(year))\n",
    "print(len(brand_name))\n",
    "print(len(model))\n",
    "\n",
    "for i in range(1,300):\n",
    "    try:\n",
    "        element=driver.find_element_by_xpath('/html/body/div[2]/div/div[1]/div/div/main/div[1]/div[1]/div[6]/div['+str(i)+']/div/div[2]/div/div/div[2]')\n",
    "        variant.append(element.text)\n",
    "    except NoSuchElementException:\n",
    "        continue\n",
    "\n",
    "print(len(variant))\n",
    "\n",
    "kms=[]\n",
    "for i in range(1,300):\n",
    "    try:\n",
    "        element=driver.find_element_by_xpath('/html/body/div[2]/div/div[1]/div/div/main/div[1]/div[1]/div[6]/div['+str(i)+']/div/div[2]/div/div/div[4]/div[1]')\n",
    "        kms.append(element.text)\n",
    "    except NoSuchElementException:\n",
    "        continue\n",
    "        \n",
    "for i in kms:\n",
    "    if len(i.split(' ')[0].split(','))==2:\n",
    "        int_kms.append(int(i.split(' ')[0].split(',')[0]+i.split(' ')[0].split(',')[1]))\n",
    "    elif len(i.split(' ')[0].split(','))==1:\n",
    "        int_kms.append(int(i.split(' ')[0].split(',')[0]))\n",
    "    elif len(i.split(' ')[0].split(','))==3:\n",
    "        int_kms.append(int(i.split(' ')[0].split(',')[0]+i.split(' ')[0].split(',')[1]+i.split(' ')[0].split(',')[2]))\n",
    "\n",
    "print(len(kms))\n",
    "print(len(int_kms))\n",
    "\n",
    "for i in range(0,len(brand)):\n",
    "    number_owners.append(1)\n",
    "    location.append('Gurgaon')\n",
    "    \n",
    "print(len(number_owners))\n",
    "print(len(location))\n",
    "\n",
    "price_raw=[]\n",
    "for i in range(1,300):\n",
    "    try:\n",
    "        element=driver.find_element_by_xpath('/html/body/div[2]/div/div[1]/div/div/main/div[1]/div[1]/div[6]/div['+str(i)+']/div/div[2]/div/div/div[3]/span[2]')\n",
    "        price_raw.append(element.text)\n",
    "    except NoSuchElementException:\n",
    "        continue\n",
    "\n",
    "for i in price_raw:\n",
    "    if i.split(' ')[-1]==\"Lakh\":\n",
    "        price.append(float(i.split(' ')[0]))\n",
    "    else:\n",
    "        price.append(float(i.split(' ')[0])/100000)\n",
    "\n",
    "print(len(price_raw))\n",
    "print(len(price))"
   ]
  },
  {
   "cell_type": "code",
   "execution_count": 518,
   "id": "3f210829",
   "metadata": {},
   "outputs": [],
   "source": [
    "#year=year[0:2964]\n",
    "#brand_name=brand_name[0:2964]\n",
    "#model=model[0:2964]\n",
    "#variant=variant[0:2964]\n",
    "#int_kms=int_kms[0:2964]\n",
    "#fuel=fuel[0:2964]\n",
    "#number_owners=number_owners[0:2964]\n",
    "#location=location[0:2964]\n",
    "#price=price[0:2964]"
   ]
  },
  {
   "cell_type": "code",
   "execution_count": null,
   "id": "6aec8354",
   "metadata": {},
   "outputs": [],
   "source": []
  },
  {
   "cell_type": "code",
   "execution_count": 519,
   "id": "68d7e6c7",
   "metadata": {},
   "outputs": [],
   "source": [
    "driver.get('https://www.cardekho.com/used-cars+in+gurgaon+second-owner')"
   ]
  },
  {
   "cell_type": "code",
   "execution_count": 520,
   "id": "f5e3595a",
   "metadata": {},
   "outputs": [
    {
     "data": {
      "text/plain": [
       "183"
      ]
     },
     "execution_count": 520,
     "metadata": {},
     "output_type": "execute_result"
    }
   ],
   "source": [
    "brand=[]\n",
    "for i in range(1,300):\n",
    "    try:\n",
    "        element=driver.find_element_by_xpath('/html/body/div[2]/div/div[1]/div/div/main/div[1]/div[1]/div[6]/div['+str(i)+']/div/div[2]/div/div/a')\n",
    "        brand.append(element.text.split(' '))\n",
    "    except NoSuchElementException:\n",
    "        continue\n",
    "\n",
    "len(brand)"
   ]
  },
  {
   "cell_type": "code",
   "execution_count": 521,
   "id": "9a14bcc2",
   "metadata": {},
   "outputs": [
    {
     "name": "stdout",
     "output_type": "stream",
     "text": [
      "3147\n",
      "3147\n",
      "3147\n",
      "3147\n",
      "183\n",
      "3147\n",
      "3147\n",
      "3147\n",
      "183\n",
      "3147\n"
     ]
    }
   ],
   "source": [
    "for i in brand:\n",
    "    year.append(int(i[0]))\n",
    "for i in brand:\n",
    "    brand_name.append(i[1])\n",
    "for i in brand:\n",
    "    if len(i)==3:\n",
    "        model.append(i[2])\n",
    "    elif len(i)>3:\n",
    "        model.append(i[2]+'_'+i[3])\n",
    "    elif len(i)==2:\n",
    "        model.append('not given')\n",
    "        \n",
    "print(len(year))\n",
    "print(len(brand_name))\n",
    "print(len(model))\n",
    "\n",
    "for i in range(1,300):\n",
    "    try:\n",
    "        element=driver.find_element_by_xpath('/html/body/div[2]/div/div[1]/div/div/main/div[1]/div[1]/div[6]/div['+str(i)+']/div/div[2]/div/div/div[2]')\n",
    "        variant.append(element.text)\n",
    "    except NoSuchElementException:\n",
    "        continue\n",
    "\n",
    "print(len(variant))\n",
    "\n",
    "kms=[]\n",
    "for i in range(1,300):\n",
    "    try:\n",
    "        element=driver.find_element_by_xpath('/html/body/div[2]/div/div[1]/div/div/main/div[1]/div[1]/div[6]/div['+str(i)+']/div/div[2]/div/div/div[4]/div[1]')\n",
    "        kms.append(element.text)\n",
    "    except NoSuchElementException:\n",
    "        continue\n",
    "        \n",
    "for i in kms:\n",
    "    if len(i.split(' ')[0].split(','))==2:\n",
    "        int_kms.append(int(i.split(' ')[0].split(',')[0]+i.split(' ')[0].split(',')[1]))\n",
    "    elif len(i.split(' ')[0].split(','))==1:\n",
    "        int_kms.append(int(i.split(' ')[0].split(',')[0]))\n",
    "    elif len(i.split(' ')[0].split(','))==3:\n",
    "        int_kms.append(int(i.split(' ')[0].split(',')[0]+i.split(' ')[0].split(',')[1]+i.split(' ')[0].split(',')[2]))\n",
    "\n",
    "print(len(kms))\n",
    "print(len(int_kms))\n",
    "\n",
    "for i in range(0,len(brand)):\n",
    "    number_owners.append(2)\n",
    "    location.append('Gurgaon')\n",
    "    \n",
    "print(len(number_owners))\n",
    "print(len(location))\n",
    "\n",
    "price_raw=[]\n",
    "for i in range(1,300):\n",
    "    try:\n",
    "        element=driver.find_element_by_xpath('/html/body/div[2]/div/div[1]/div/div/main/div[1]/div[1]/div[6]/div['+str(i)+']/div/div[2]/div/div/div[3]/span[2]')\n",
    "        price_raw.append(element.text)\n",
    "    except NoSuchElementException:\n",
    "        continue\n",
    "\n",
    "for i in price_raw:\n",
    "    if i.split(' ')[-1]==\"Lakh\":\n",
    "        price.append(float(i.split(' ')[0]))\n",
    "    else:\n",
    "        price.append(float(i.split(' ')[0])/100000)\n",
    "\n",
    "print(len(price_raw))\n",
    "print(len(price))"
   ]
  },
  {
   "cell_type": "code",
   "execution_count": null,
   "id": "121873cf",
   "metadata": {},
   "outputs": [],
   "source": []
  },
  {
   "cell_type": "code",
   "execution_count": null,
   "id": "830cf704",
   "metadata": {},
   "outputs": [],
   "source": []
  },
  {
   "cell_type": "code",
   "execution_count": 522,
   "id": "bf97801f",
   "metadata": {},
   "outputs": [],
   "source": [
    "driver.get('https://www.cardekho.com/used-cars+in+chennai+first-owner')"
   ]
  },
  {
   "cell_type": "code",
   "execution_count": 523,
   "id": "198fd10c",
   "metadata": {},
   "outputs": [
    {
     "data": {
      "text/plain": [
       "294"
      ]
     },
     "execution_count": 523,
     "metadata": {},
     "output_type": "execute_result"
    }
   ],
   "source": [
    "brand=[]\n",
    "for i in range(1,300):\n",
    "    try:\n",
    "        element=driver.find_element_by_xpath('/html/body/div[2]/div/div[1]/div/div/main/div[1]/div[1]/div[6]/div['+str(i)+']/div/div[2]/div/div/a')\n",
    "        brand.append(element.text.split(' '))\n",
    "    except NoSuchElementException:\n",
    "        continue\n",
    "\n",
    "len(brand)"
   ]
  },
  {
   "cell_type": "code",
   "execution_count": 524,
   "id": "40aa866f",
   "metadata": {},
   "outputs": [
    {
     "name": "stdout",
     "output_type": "stream",
     "text": [
      "3441\n",
      "3441\n",
      "3441\n",
      "3441\n",
      "294\n",
      "3441\n",
      "3441\n",
      "3441\n",
      "294\n",
      "3441\n"
     ]
    }
   ],
   "source": [
    "for i in brand:\n",
    "    year.append(int(i[0]))\n",
    "for i in brand:\n",
    "    brand_name.append(i[1])\n",
    "for i in brand:\n",
    "    if len(i)==3:\n",
    "        model.append(i[2])\n",
    "    elif len(i)>3:\n",
    "        model.append(i[2]+'_'+i[3])\n",
    "    elif len(i)==2:\n",
    "        model.append('not given')\n",
    "        \n",
    "print(len(year))\n",
    "print(len(brand_name))\n",
    "print(len(model))\n",
    "\n",
    "for i in range(1,300):\n",
    "    try:\n",
    "        element=driver.find_element_by_xpath('/html/body/div[2]/div/div[1]/div/div/main/div[1]/div[1]/div[6]/div['+str(i)+']/div/div[2]/div/div/div[2]')\n",
    "        variant.append(element.text)\n",
    "    except NoSuchElementException:\n",
    "        continue\n",
    "\n",
    "print(len(variant))\n",
    "\n",
    "kms=[]\n",
    "for i in range(1,300):\n",
    "    try:\n",
    "        element=driver.find_element_by_xpath('/html/body/div[2]/div/div[1]/div/div/main/div[1]/div[1]/div[6]/div['+str(i)+']/div/div[2]/div/div/div[4]/div[1]')\n",
    "        kms.append(element.text)\n",
    "    except NoSuchElementException:\n",
    "        continue\n",
    "        \n",
    "for i in kms:\n",
    "    if len(i.split(' ')[0].split(','))==2:\n",
    "        int_kms.append(int(i.split(' ')[0].split(',')[0]+i.split(' ')[0].split(',')[1]))\n",
    "    elif len(i.split(' ')[0].split(','))==1:\n",
    "        int_kms.append(int(i.split(' ')[0].split(',')[0]))\n",
    "    elif len(i.split(' ')[0].split(','))==3:\n",
    "        int_kms.append(int(i.split(' ')[0].split(',')[0]+i.split(' ')[0].split(',')[1]+i.split(' ')[0].split(',')[2]))\n",
    "\n",
    "print(len(kms))\n",
    "print(len(int_kms))\n",
    "\n",
    "for i in range(0,len(brand)):\n",
    "    number_owners.append(1)\n",
    "    location.append('Chennai')\n",
    "    \n",
    "print(len(number_owners))\n",
    "print(len(location))\n",
    "\n",
    "price_raw=[]\n",
    "for i in range(1,300):\n",
    "    try:\n",
    "        element=driver.find_element_by_xpath('/html/body/div[2]/div/div[1]/div/div/main/div[1]/div[1]/div[6]/div['+str(i)+']/div/div[2]/div/div/div[3]/span[2]')\n",
    "        price_raw.append(element.text)\n",
    "    except NoSuchElementException:\n",
    "        continue\n",
    "\n",
    "for i in price_raw:\n",
    "    if i.split(' ')[-1]==\"Lakh\":\n",
    "        price.append(float(i.split(' ')[0]))\n",
    "    else:\n",
    "        price.append(float(i.split(' ')[0])/100000)\n",
    "\n",
    "print(len(price_raw))\n",
    "print(len(price))"
   ]
  },
  {
   "cell_type": "code",
   "execution_count": null,
   "id": "79d6e04c",
   "metadata": {},
   "outputs": [],
   "source": []
  },
  {
   "cell_type": "code",
   "execution_count": 531,
   "id": "1741934f",
   "metadata": {},
   "outputs": [],
   "source": [
    "driver=webdriver.Chrome(\"chromedriver.exe\")"
   ]
  },
  {
   "cell_type": "code",
   "execution_count": 532,
   "id": "46c1e4df",
   "metadata": {},
   "outputs": [],
   "source": [
    "driver.get('https://www.cardekho.com/used-cars+in+chennai+second-owner')"
   ]
  },
  {
   "cell_type": "code",
   "execution_count": 533,
   "id": "fec1a3f7",
   "metadata": {},
   "outputs": [
    {
     "data": {
      "text/plain": [
       "180"
      ]
     },
     "execution_count": 533,
     "metadata": {},
     "output_type": "execute_result"
    }
   ],
   "source": [
    "brand=[]\n",
    "for i in range(1,300):\n",
    "    try:\n",
    "        element=driver.find_element_by_xpath('/html/body/div[2]/div/div[1]/div/div/main/div[1]/div[1]/div[6]/div['+str(i)+']/div/div[2]/div/div/a')\n",
    "        brand.append(element.text.split(' '))\n",
    "    except NoSuchElementException:\n",
    "        continue\n",
    "\n",
    "len(brand)"
   ]
  },
  {
   "cell_type": "code",
   "execution_count": 534,
   "id": "fa79e69d",
   "metadata": {},
   "outputs": [
    {
     "name": "stdout",
     "output_type": "stream",
     "text": [
      "3621\n",
      "3621\n",
      "3621\n",
      "3621\n",
      "180\n",
      "3621\n",
      "3621\n",
      "3621\n",
      "180\n",
      "3621\n"
     ]
    }
   ],
   "source": [
    "for i in brand:\n",
    "    year.append(int(i[0]))\n",
    "for i in brand:\n",
    "    brand_name.append(i[1])\n",
    "for i in brand:\n",
    "    if len(i)==3:\n",
    "        model.append(i[2])\n",
    "    elif len(i)>3:\n",
    "        model.append(i[2]+'_'+i[3])\n",
    "    elif len(i)==2:\n",
    "        model.append('not given')\n",
    "        \n",
    "print(len(year))\n",
    "print(len(brand_name))\n",
    "print(len(model))\n",
    "\n",
    "for i in range(1,300):\n",
    "    try:\n",
    "        element=driver.find_element_by_xpath('/html/body/div[2]/div/div[1]/div/div/main/div[1]/div[1]/div[6]/div['+str(i)+']/div/div[2]/div/div/div[2]')\n",
    "        variant.append(element.text)\n",
    "    except NoSuchElementException:\n",
    "        continue\n",
    "\n",
    "print(len(variant))\n",
    "\n",
    "kms=[]\n",
    "for i in range(1,300):\n",
    "    try:\n",
    "        element=driver.find_element_by_xpath('/html/body/div[2]/div/div[1]/div/div/main/div[1]/div[1]/div[6]/div['+str(i)+']/div/div[2]/div/div/div[4]/div[1]')\n",
    "        kms.append(element.text)\n",
    "    except NoSuchElementException:\n",
    "        continue\n",
    "        \n",
    "for i in kms:\n",
    "    if len(i.split(' ')[0].split(','))==2:\n",
    "        int_kms.append(int(i.split(' ')[0].split(',')[0]+i.split(' ')[0].split(',')[1]))\n",
    "    elif len(i.split(' ')[0].split(','))==1:\n",
    "        int_kms.append(int(i.split(' ')[0].split(',')[0]))\n",
    "    elif len(i.split(' ')[0].split(','))==3:\n",
    "        int_kms.append(int(i.split(' ')[0].split(',')[0]+i.split(' ')[0].split(',')[1]+i.split(' ')[0].split(',')[2]))\n",
    "\n",
    "print(len(kms))\n",
    "print(len(int_kms))\n",
    "\n",
    "for i in range(0,len(brand)):\n",
    "    number_owners.append(2)\n",
    "    location.append('Chennai')\n",
    "    \n",
    "print(len(number_owners))\n",
    "print(len(location))\n",
    "\n",
    "price_raw=[]\n",
    "for i in range(1,300):\n",
    "    try:\n",
    "        element=driver.find_element_by_xpath('/html/body/div[2]/div/div[1]/div/div/main/div[1]/div[1]/div[6]/div['+str(i)+']/div/div[2]/div/div/div[3]/span[2]')\n",
    "        price_raw.append(element.text)\n",
    "    except NoSuchElementException:\n",
    "        continue\n",
    "\n",
    "for i in price_raw:\n",
    "    if i.split(' ')[-1]==\"Lakh\":\n",
    "        price.append(float(i.split(' ')[0]))\n",
    "    else:\n",
    "        price.append(float(i.split(' ')[0])/100000)\n",
    "\n",
    "print(len(price_raw))\n",
    "print(len(price))"
   ]
  },
  {
   "cell_type": "code",
   "execution_count": null,
   "id": "7bbb31a7",
   "metadata": {},
   "outputs": [],
   "source": []
  },
  {
   "cell_type": "code",
   "execution_count": null,
   "id": "0e442569",
   "metadata": {},
   "outputs": [],
   "source": []
  },
  {
   "cell_type": "code",
   "execution_count": 535,
   "id": "3afaaad5",
   "metadata": {},
   "outputs": [],
   "source": [
    "driver.get('https://www.cardekho.com/used-cars+in+chandigarh+first-owner')"
   ]
  },
  {
   "cell_type": "code",
   "execution_count": 536,
   "id": "26e1c754",
   "metadata": {},
   "outputs": [
    {
     "data": {
      "text/plain": [
       "149"
      ]
     },
     "execution_count": 536,
     "metadata": {},
     "output_type": "execute_result"
    }
   ],
   "source": [
    "brand=[]\n",
    "for i in range(1,300):\n",
    "    try:\n",
    "        element=driver.find_element_by_xpath('/html/body/div[2]/div/div[1]/div/div/main/div[1]/div[1]/div[6]/div['+str(i)+']/div/div[2]/div/div/a')\n",
    "        brand.append(element.text.split(' '))\n",
    "    except NoSuchElementException:\n",
    "        continue\n",
    "\n",
    "len(brand)"
   ]
  },
  {
   "cell_type": "code",
   "execution_count": 537,
   "id": "a9f01872",
   "metadata": {},
   "outputs": [
    {
     "name": "stdout",
     "output_type": "stream",
     "text": [
      "3770\n",
      "3770\n",
      "3770\n",
      "3770\n",
      "149\n",
      "3770\n",
      "3770\n",
      "3770\n",
      "149\n",
      "3770\n"
     ]
    }
   ],
   "source": [
    "for i in brand:\n",
    "    year.append(int(i[0]))\n",
    "for i in brand:\n",
    "    brand_name.append(i[1])\n",
    "for i in brand:\n",
    "    if len(i)==3:\n",
    "        model.append(i[2])\n",
    "    elif len(i)>3:\n",
    "        model.append(i[2]+'_'+i[3])\n",
    "    elif len(i)==2:\n",
    "        model.append('not given')\n",
    "        \n",
    "print(len(year))\n",
    "print(len(brand_name))\n",
    "print(len(model))\n",
    "\n",
    "for i in range(1,300):\n",
    "    try:\n",
    "        element=driver.find_element_by_xpath('/html/body/div[2]/div/div[1]/div/div/main/div[1]/div[1]/div[6]/div['+str(i)+']/div/div[2]/div/div/div[2]')\n",
    "        variant.append(element.text)\n",
    "    except NoSuchElementException:\n",
    "        continue\n",
    "\n",
    "print(len(variant))\n",
    "\n",
    "kms=[]\n",
    "for i in range(1,300):\n",
    "    try:\n",
    "        element=driver.find_element_by_xpath('/html/body/div[2]/div/div[1]/div/div/main/div[1]/div[1]/div[6]/div['+str(i)+']/div/div[2]/div/div/div[4]/div[1]')\n",
    "        kms.append(element.text)\n",
    "    except NoSuchElementException:\n",
    "        continue\n",
    "        \n",
    "for i in kms:\n",
    "    if len(i.split(' ')[0].split(','))==2:\n",
    "        int_kms.append(int(i.split(' ')[0].split(',')[0]+i.split(' ')[0].split(',')[1]))\n",
    "    elif len(i.split(' ')[0].split(','))==1:\n",
    "        int_kms.append(int(i.split(' ')[0].split(',')[0]))\n",
    "    elif len(i.split(' ')[0].split(','))==3:\n",
    "        int_kms.append(int(i.split(' ')[0].split(',')[0]+i.split(' ')[0].split(',')[1]+i.split(' ')[0].split(',')[2]))\n",
    "\n",
    "print(len(kms))\n",
    "print(len(int_kms))\n",
    "\n",
    "for i in range(0,len(brand)):\n",
    "    number_owners.append(1)\n",
    "    location.append('Chandigarh')\n",
    "    \n",
    "print(len(number_owners))\n",
    "print(len(location))\n",
    "\n",
    "price_raw=[]\n",
    "for i in range(1,300):\n",
    "    try:\n",
    "        element=driver.find_element_by_xpath('/html/body/div[2]/div/div[1]/div/div/main/div[1]/div[1]/div[6]/div['+str(i)+']/div/div[2]/div/div/div[3]/span[2]')\n",
    "        price_raw.append(element.text)\n",
    "    except NoSuchElementException:\n",
    "        continue\n",
    "\n",
    "for i in price_raw:\n",
    "    if i.split(' ')[-1]==\"Lakh\":\n",
    "        price.append(float(i.split(' ')[0]))\n",
    "    else:\n",
    "        price.append(float(i.split(' ')[0])/100000)\n",
    "\n",
    "print(len(price_raw))\n",
    "print(len(price))"
   ]
  },
  {
   "cell_type": "code",
   "execution_count": null,
   "id": "19f4e119",
   "metadata": {},
   "outputs": [],
   "source": []
  },
  {
   "cell_type": "code",
   "execution_count": null,
   "id": "889f3faf",
   "metadata": {},
   "outputs": [],
   "source": []
  },
  {
   "cell_type": "code",
   "execution_count": 538,
   "id": "23a97597",
   "metadata": {},
   "outputs": [],
   "source": [
    "driver.get('https://www.cardekho.com/used-cars+in+chandigarh+second-owner')"
   ]
  },
  {
   "cell_type": "code",
   "execution_count": 539,
   "id": "d5f82b38",
   "metadata": {},
   "outputs": [
    {
     "data": {
      "text/plain": [
       "44"
      ]
     },
     "execution_count": 539,
     "metadata": {},
     "output_type": "execute_result"
    }
   ],
   "source": [
    "brand=[]\n",
    "for i in range(1,300):\n",
    "    try:\n",
    "        element=driver.find_element_by_xpath('/html/body/div[2]/div/div[1]/div/div/main/div[1]/div[1]/div[6]/div['+str(i)+']/div/div[2]/div/div/a')\n",
    "        brand.append(element.text.split(' '))\n",
    "    except NoSuchElementException:\n",
    "        continue\n",
    "\n",
    "len(brand)"
   ]
  },
  {
   "cell_type": "code",
   "execution_count": 540,
   "id": "1a9b7fba",
   "metadata": {},
   "outputs": [
    {
     "name": "stdout",
     "output_type": "stream",
     "text": [
      "3814\n",
      "3814\n",
      "3814\n",
      "3814\n",
      "44\n",
      "3814\n",
      "3814\n",
      "3814\n",
      "44\n",
      "3814\n"
     ]
    }
   ],
   "source": [
    "for i in brand:\n",
    "    year.append(int(i[0]))\n",
    "for i in brand:\n",
    "    brand_name.append(i[1])\n",
    "for i in brand:\n",
    "    if len(i)==3:\n",
    "        model.append(i[2])\n",
    "    elif len(i)>3:\n",
    "        model.append(i[2]+'_'+i[3])\n",
    "    elif len(i)==2:\n",
    "        model.append('not given')\n",
    "        \n",
    "print(len(year))\n",
    "print(len(brand_name))\n",
    "print(len(model))\n",
    "\n",
    "for i in range(1,300):\n",
    "    try:\n",
    "        element=driver.find_element_by_xpath('/html/body/div[2]/div/div[1]/div/div/main/div[1]/div[1]/div[6]/div['+str(i)+']/div/div[2]/div/div/div[2]')\n",
    "        variant.append(element.text)\n",
    "    except NoSuchElementException:\n",
    "        continue\n",
    "\n",
    "print(len(variant))\n",
    "\n",
    "kms=[]\n",
    "for i in range(1,300):\n",
    "    try:\n",
    "        element=driver.find_element_by_xpath('/html/body/div[2]/div/div[1]/div/div/main/div[1]/div[1]/div[6]/div['+str(i)+']/div/div[2]/div/div/div[4]/div[1]')\n",
    "        kms.append(element.text)\n",
    "    except NoSuchElementException:\n",
    "        continue\n",
    "        \n",
    "for i in kms:\n",
    "    if len(i.split(' ')[0].split(','))==2:\n",
    "        int_kms.append(int(i.split(' ')[0].split(',')[0]+i.split(' ')[0].split(',')[1]))\n",
    "    elif len(i.split(' ')[0].split(','))==1:\n",
    "        int_kms.append(int(i.split(' ')[0].split(',')[0]))\n",
    "    elif len(i.split(' ')[0].split(','))==3:\n",
    "        int_kms.append(int(i.split(' ')[0].split(',')[0]+i.split(' ')[0].split(',')[1]+i.split(' ')[0].split(',')[2]))\n",
    "\n",
    "print(len(kms))\n",
    "print(len(int_kms))\n",
    "\n",
    "for i in range(0,len(brand)):\n",
    "    number_owners.append(2)\n",
    "    location.append('Chandigarh')\n",
    "    \n",
    "print(len(number_owners))\n",
    "print(len(location))\n",
    "\n",
    "price_raw=[]\n",
    "for i in range(1,300):\n",
    "    try:\n",
    "        element=driver.find_element_by_xpath('/html/body/div[2]/div/div[1]/div/div/main/div[1]/div[1]/div[6]/div['+str(i)+']/div/div[2]/div/div/div[3]/span[2]')\n",
    "        price_raw.append(element.text)\n",
    "    except NoSuchElementException:\n",
    "        continue\n",
    "\n",
    "for i in price_raw:\n",
    "    if i.split(' ')[-1]==\"Lakh\":\n",
    "        price.append(float(i.split(' ')[0]))\n",
    "    else:\n",
    "        price.append(float(i.split(' ')[0])/100000)\n",
    "\n",
    "print(len(price_raw))\n",
    "print(len(price))"
   ]
  },
  {
   "cell_type": "code",
   "execution_count": null,
   "id": "394191f6",
   "metadata": {},
   "outputs": [],
   "source": []
  },
  {
   "cell_type": "code",
   "execution_count": null,
   "id": "2a960262",
   "metadata": {},
   "outputs": [],
   "source": []
  },
  {
   "cell_type": "code",
   "execution_count": 541,
   "id": "fedadb9a",
   "metadata": {},
   "outputs": [],
   "source": [
    "driver.get('https://www.cardekho.com/used-cars+in+bhubaneswar+first-owner')"
   ]
  },
  {
   "cell_type": "code",
   "execution_count": 542,
   "id": "f7fe84bb",
   "metadata": {},
   "outputs": [
    {
     "data": {
      "text/plain": [
       "101"
      ]
     },
     "execution_count": 542,
     "metadata": {},
     "output_type": "execute_result"
    }
   ],
   "source": [
    "brand=[]\n",
    "for i in range(1,300):\n",
    "    try:\n",
    "        element=driver.find_element_by_xpath('/html/body/div[2]/div/div[1]/div/div/main/div[1]/div[1]/div[6]/div['+str(i)+']/div/div[2]/div/div/a')\n",
    "        brand.append(element.text.split(' '))\n",
    "    except NoSuchElementException:\n",
    "        continue\n",
    "\n",
    "len(brand)"
   ]
  },
  {
   "cell_type": "code",
   "execution_count": 543,
   "id": "ebe45630",
   "metadata": {},
   "outputs": [
    {
     "name": "stdout",
     "output_type": "stream",
     "text": [
      "3915\n",
      "3915\n",
      "3915\n",
      "3915\n",
      "101\n",
      "3915\n",
      "3915\n",
      "3915\n",
      "101\n",
      "3915\n"
     ]
    }
   ],
   "source": [
    "for i in brand:\n",
    "    year.append(int(i[0]))\n",
    "for i in brand:\n",
    "    brand_name.append(i[1])\n",
    "for i in brand:\n",
    "    if len(i)==3:\n",
    "        model.append(i[2])\n",
    "    elif len(i)>3:\n",
    "        model.append(i[2]+'_'+i[3])\n",
    "    elif len(i)==2:\n",
    "        model.append('not given')\n",
    "        \n",
    "print(len(year))\n",
    "print(len(brand_name))\n",
    "print(len(model))\n",
    "\n",
    "for i in range(1,300):\n",
    "    try:\n",
    "        element=driver.find_element_by_xpath('/html/body/div[2]/div/div[1]/div/div/main/div[1]/div[1]/div[6]/div['+str(i)+']/div/div[2]/div/div/div[2]')\n",
    "        variant.append(element.text)\n",
    "    except NoSuchElementException:\n",
    "        continue\n",
    "\n",
    "print(len(variant))\n",
    "\n",
    "kms=[]\n",
    "for i in range(1,300):\n",
    "    try:\n",
    "        element=driver.find_element_by_xpath('/html/body/div[2]/div/div[1]/div/div/main/div[1]/div[1]/div[6]/div['+str(i)+']/div/div[2]/div/div/div[4]/div[1]')\n",
    "        kms.append(element.text)\n",
    "    except NoSuchElementException:\n",
    "        continue\n",
    "        \n",
    "for i in kms:\n",
    "    if len(i.split(' ')[0].split(','))==2:\n",
    "        int_kms.append(int(i.split(' ')[0].split(',')[0]+i.split(' ')[0].split(',')[1]))\n",
    "    elif len(i.split(' ')[0].split(','))==1:\n",
    "        int_kms.append(int(i.split(' ')[0].split(',')[0]))\n",
    "    elif len(i.split(' ')[0].split(','))==3:\n",
    "        int_kms.append(int(i.split(' ')[0].split(',')[0]+i.split(' ')[0].split(',')[1]+i.split(' ')[0].split(',')[2]))\n",
    "\n",
    "print(len(kms))\n",
    "print(len(int_kms))\n",
    "\n",
    "for i in range(0,len(brand)):\n",
    "    number_owners.append(1)\n",
    "    location.append('Bhubaneswar')\n",
    "    \n",
    "print(len(number_owners))\n",
    "print(len(location))\n",
    "\n",
    "price_raw=[]\n",
    "for i in range(1,300):\n",
    "    try:\n",
    "        element=driver.find_element_by_xpath('/html/body/div[2]/div/div[1]/div/div/main/div[1]/div[1]/div[6]/div['+str(i)+']/div/div[2]/div/div/div[3]/span[2]')\n",
    "        price_raw.append(element.text)\n",
    "    except NoSuchElementException:\n",
    "        continue\n",
    "\n",
    "for i in price_raw:\n",
    "    if i.split(' ')[-1]==\"Lakh\":\n",
    "        price.append(float(i.split(' ')[0]))\n",
    "    else:\n",
    "        price.append(float(i.split(' ')[0])/100000)\n",
    "\n",
    "print(len(price_raw))\n",
    "print(len(price))"
   ]
  },
  {
   "cell_type": "code",
   "execution_count": null,
   "id": "0fc3a1db",
   "metadata": {},
   "outputs": [],
   "source": []
  },
  {
   "cell_type": "code",
   "execution_count": null,
   "id": "0cc262ec",
   "metadata": {},
   "outputs": [],
   "source": []
  },
  {
   "cell_type": "code",
   "execution_count": 544,
   "id": "af2f5cee",
   "metadata": {},
   "outputs": [],
   "source": [
    "driver.get('https://www.cardekho.com/used-cars+in+bhubaneswar+second-owner')"
   ]
  },
  {
   "cell_type": "code",
   "execution_count": 545,
   "id": "841a3aeb",
   "metadata": {},
   "outputs": [
    {
     "data": {
      "text/plain": [
       "25"
      ]
     },
     "execution_count": 545,
     "metadata": {},
     "output_type": "execute_result"
    }
   ],
   "source": [
    "brand=[]\n",
    "for i in range(1,300):\n",
    "    try:\n",
    "        element=driver.find_element_by_xpath('/html/body/div[2]/div/div[1]/div/div/main/div[1]/div[1]/div[6]/div['+str(i)+']/div/div[2]/div/div/a')\n",
    "        brand.append(element.text.split(' '))\n",
    "    except NoSuchElementException:\n",
    "        continue\n",
    "\n",
    "len(brand)"
   ]
  },
  {
   "cell_type": "code",
   "execution_count": 546,
   "id": "2bedd3c8",
   "metadata": {},
   "outputs": [
    {
     "name": "stdout",
     "output_type": "stream",
     "text": [
      "3940\n",
      "3940\n",
      "3940\n",
      "3940\n",
      "25\n",
      "3940\n",
      "3940\n",
      "3940\n",
      "25\n",
      "3940\n"
     ]
    }
   ],
   "source": [
    "for i in brand:\n",
    "    year.append(int(i[0]))\n",
    "for i in brand:\n",
    "    brand_name.append(i[1])\n",
    "for i in brand:\n",
    "    if len(i)==3:\n",
    "        model.append(i[2])\n",
    "    elif len(i)>3:\n",
    "        model.append(i[2]+'_'+i[3])\n",
    "    elif len(i)==2:\n",
    "        model.append('not given')\n",
    "        \n",
    "print(len(year))\n",
    "print(len(brand_name))\n",
    "print(len(model))\n",
    "\n",
    "for i in range(1,300):\n",
    "    try:\n",
    "        element=driver.find_element_by_xpath('/html/body/div[2]/div/div[1]/div/div/main/div[1]/div[1]/div[6]/div['+str(i)+']/div/div[2]/div/div/div[2]')\n",
    "        variant.append(element.text)\n",
    "    except NoSuchElementException:\n",
    "        continue\n",
    "\n",
    "print(len(variant))\n",
    "\n",
    "kms=[]\n",
    "for i in range(1,300):\n",
    "    try:\n",
    "        element=driver.find_element_by_xpath('/html/body/div[2]/div/div[1]/div/div/main/div[1]/div[1]/div[6]/div['+str(i)+']/div/div[2]/div/div/div[4]/div[1]')\n",
    "        kms.append(element.text)\n",
    "    except NoSuchElementException:\n",
    "        continue\n",
    "        \n",
    "for i in kms:\n",
    "    if len(i.split(' ')[0].split(','))==2:\n",
    "        int_kms.append(int(i.split(' ')[0].split(',')[0]+i.split(' ')[0].split(',')[1]))\n",
    "    elif len(i.split(' ')[0].split(','))==1:\n",
    "        int_kms.append(int(i.split(' ')[0].split(',')[0]))\n",
    "    elif len(i.split(' ')[0].split(','))==3:\n",
    "        int_kms.append(int(i.split(' ')[0].split(',')[0]+i.split(' ')[0].split(',')[1]+i.split(' ')[0].split(',')[2]))\n",
    "\n",
    "print(len(kms))\n",
    "print(len(int_kms))\n",
    "\n",
    "for i in range(0,len(brand)):\n",
    "    number_owners.append(2)\n",
    "    location.append('Bhubaneswar')\n",
    "    \n",
    "print(len(number_owners))\n",
    "print(len(location))\n",
    "\n",
    "price_raw=[]\n",
    "for i in range(1,300):\n",
    "    try:\n",
    "        element=driver.find_element_by_xpath('/html/body/div[2]/div/div[1]/div/div/main/div[1]/div[1]/div[6]/div['+str(i)+']/div/div[2]/div/div/div[3]/span[2]')\n",
    "        price_raw.append(element.text)\n",
    "    except NoSuchElementException:\n",
    "        continue\n",
    "\n",
    "for i in price_raw:\n",
    "    if i.split(' ')[-1]==\"Lakh\":\n",
    "        price.append(float(i.split(' ')[0]))\n",
    "    else:\n",
    "        price.append(float(i.split(' ')[0])/100000)\n",
    "\n",
    "print(len(price_raw))\n",
    "print(len(price))"
   ]
  },
  {
   "cell_type": "code",
   "execution_count": null,
   "id": "ac725f1d",
   "metadata": {},
   "outputs": [],
   "source": []
  },
  {
   "cell_type": "code",
   "execution_count": null,
   "id": "b154605a",
   "metadata": {},
   "outputs": [],
   "source": []
  },
  {
   "cell_type": "code",
   "execution_count": 547,
   "id": "92934540",
   "metadata": {},
   "outputs": [],
   "source": [
    "driver.get('https://www.cardekho.com/used-cars+in+dehradun+first-owner')"
   ]
  },
  {
   "cell_type": "code",
   "execution_count": 548,
   "id": "610adb41",
   "metadata": {},
   "outputs": [
    {
     "data": {
      "text/plain": [
       "39"
      ]
     },
     "execution_count": 548,
     "metadata": {},
     "output_type": "execute_result"
    }
   ],
   "source": [
    "brand=[]\n",
    "for i in range(1,300):\n",
    "    try:\n",
    "        element=driver.find_element_by_xpath('/html/body/div[2]/div/div[1]/div/div/main/div[1]/div[1]/div[6]/div['+str(i)+']/div/div[2]/div/div/a')\n",
    "        brand.append(element.text.split(' '))\n",
    "    except NoSuchElementException:\n",
    "        continue\n",
    "\n",
    "len(brand)"
   ]
  },
  {
   "cell_type": "code",
   "execution_count": 549,
   "id": "7263478e",
   "metadata": {},
   "outputs": [
    {
     "name": "stdout",
     "output_type": "stream",
     "text": [
      "3979\n",
      "3979\n",
      "3979\n",
      "3979\n",
      "39\n",
      "3979\n",
      "3979\n",
      "3979\n",
      "39\n",
      "3979\n"
     ]
    }
   ],
   "source": [
    "for i in brand:\n",
    "    year.append(int(i[0]))\n",
    "for i in brand:\n",
    "    brand_name.append(i[1])\n",
    "for i in brand:\n",
    "    if len(i)==3:\n",
    "        model.append(i[2])\n",
    "    elif len(i)>3:\n",
    "        model.append(i[2]+'_'+i[3])\n",
    "    elif len(i)==2:\n",
    "        model.append('not given')\n",
    "        \n",
    "print(len(year))\n",
    "print(len(brand_name))\n",
    "print(len(model))\n",
    "\n",
    "for i in range(1,300):\n",
    "    try:\n",
    "        element=driver.find_element_by_xpath('/html/body/div[2]/div/div[1]/div/div/main/div[1]/div[1]/div[6]/div['+str(i)+']/div/div[2]/div/div/div[2]')\n",
    "        variant.append(element.text)\n",
    "    except NoSuchElementException:\n",
    "        continue\n",
    "\n",
    "print(len(variant))\n",
    "\n",
    "kms=[]\n",
    "for i in range(1,300):\n",
    "    try:\n",
    "        element=driver.find_element_by_xpath('/html/body/div[2]/div/div[1]/div/div/main/div[1]/div[1]/div[6]/div['+str(i)+']/div/div[2]/div/div/div[4]/div[1]')\n",
    "        kms.append(element.text)\n",
    "    except NoSuchElementException:\n",
    "        continue\n",
    "        \n",
    "for i in kms:\n",
    "    if len(i.split(' ')[0].split(','))==2:\n",
    "        int_kms.append(int(i.split(' ')[0].split(',')[0]+i.split(' ')[0].split(',')[1]))\n",
    "    elif len(i.split(' ')[0].split(','))==1:\n",
    "        int_kms.append(int(i.split(' ')[0].split(',')[0]))\n",
    "    elif len(i.split(' ')[0].split(','))==3:\n",
    "        int_kms.append(int(i.split(' ')[0].split(',')[0]+i.split(' ')[0].split(',')[1]+i.split(' ')[0].split(',')[2]))\n",
    "\n",
    "print(len(kms))\n",
    "print(len(int_kms))\n",
    "\n",
    "for i in range(0,len(brand)):\n",
    "    number_owners.append(1)\n",
    "    location.append('Dehradun')\n",
    "    \n",
    "print(len(number_owners))\n",
    "print(len(location))\n",
    "\n",
    "price_raw=[]\n",
    "for i in range(1,300):\n",
    "    try:\n",
    "        element=driver.find_element_by_xpath('/html/body/div[2]/div/div[1]/div/div/main/div[1]/div[1]/div[6]/div['+str(i)+']/div/div[2]/div/div/div[3]/span[2]')\n",
    "        price_raw.append(element.text)\n",
    "    except NoSuchElementException:\n",
    "        continue\n",
    "\n",
    "for i in price_raw:\n",
    "    if i.split(' ')[-1]==\"Lakh\":\n",
    "        price.append(float(i.split(' ')[0]))\n",
    "    else:\n",
    "        price.append(float(i.split(' ')[0])/100000)\n",
    "\n",
    "print(len(price_raw))\n",
    "print(len(price))"
   ]
  },
  {
   "cell_type": "code",
   "execution_count": null,
   "id": "297ebcf3",
   "metadata": {},
   "outputs": [],
   "source": []
  },
  {
   "cell_type": "code",
   "execution_count": null,
   "id": "7fb6703b",
   "metadata": {},
   "outputs": [],
   "source": []
  },
  {
   "cell_type": "code",
   "execution_count": 550,
   "id": "c075639f",
   "metadata": {},
   "outputs": [],
   "source": [
    "driver.get('https://www.cardekho.com/used-cars+in+dehradun+second-owner')"
   ]
  },
  {
   "cell_type": "code",
   "execution_count": 551,
   "id": "198f4d7d",
   "metadata": {},
   "outputs": [
    {
     "data": {
      "text/plain": [
       "13"
      ]
     },
     "execution_count": 551,
     "metadata": {},
     "output_type": "execute_result"
    }
   ],
   "source": [
    "brand=[]\n",
    "for i in range(1,300):\n",
    "    try:\n",
    "        element=driver.find_element_by_xpath('/html/body/div[2]/div/div[1]/div/div/main/div[1]/div[1]/div[6]/div['+str(i)+']/div/div[2]/div/div/a')\n",
    "        brand.append(element.text.split(' '))\n",
    "    except NoSuchElementException:\n",
    "        continue\n",
    "\n",
    "len(brand)"
   ]
  },
  {
   "cell_type": "code",
   "execution_count": 552,
   "id": "f0a5f33c",
   "metadata": {},
   "outputs": [
    {
     "name": "stdout",
     "output_type": "stream",
     "text": [
      "3992\n",
      "3992\n",
      "3992\n",
      "3992\n",
      "13\n",
      "3992\n",
      "3992\n",
      "3992\n",
      "13\n",
      "3992\n"
     ]
    }
   ],
   "source": [
    "for i in brand:\n",
    "    year.append(int(i[0]))\n",
    "for i in brand:\n",
    "    brand_name.append(i[1])\n",
    "for i in brand:\n",
    "    if len(i)==3:\n",
    "        model.append(i[2])\n",
    "    elif len(i)>3:\n",
    "        model.append(i[2]+'_'+i[3])\n",
    "    elif len(i)==2:\n",
    "        model.append('not given')\n",
    "        \n",
    "print(len(year))\n",
    "print(len(brand_name))\n",
    "print(len(model))\n",
    "\n",
    "for i in range(1,300):\n",
    "    try:\n",
    "        element=driver.find_element_by_xpath('/html/body/div[2]/div/div[1]/div/div/main/div[1]/div[1]/div[6]/div['+str(i)+']/div/div[2]/div/div/div[2]')\n",
    "        variant.append(element.text)\n",
    "    except NoSuchElementException:\n",
    "        continue\n",
    "\n",
    "print(len(variant))\n",
    "\n",
    "kms=[]\n",
    "for i in range(1,300):\n",
    "    try:\n",
    "        element=driver.find_element_by_xpath('/html/body/div[2]/div/div[1]/div/div/main/div[1]/div[1]/div[6]/div['+str(i)+']/div/div[2]/div/div/div[4]/div[1]')\n",
    "        kms.append(element.text)\n",
    "    except NoSuchElementException:\n",
    "        continue\n",
    "        \n",
    "for i in kms:\n",
    "    if len(i.split(' ')[0].split(','))==2:\n",
    "        int_kms.append(int(i.split(' ')[0].split(',')[0]+i.split(' ')[0].split(',')[1]))\n",
    "    elif len(i.split(' ')[0].split(','))==1:\n",
    "        int_kms.append(int(i.split(' ')[0].split(',')[0]))\n",
    "    elif len(i.split(' ')[0].split(','))==3:\n",
    "        int_kms.append(int(i.split(' ')[0].split(',')[0]+i.split(' ')[0].split(',')[1]+i.split(' ')[0].split(',')[2]))\n",
    "\n",
    "print(len(kms))\n",
    "print(len(int_kms))\n",
    "\n",
    "for i in range(0,len(brand)):\n",
    "    number_owners.append(2)\n",
    "    location.append('Dehradun')\n",
    "    \n",
    "print(len(number_owners))\n",
    "print(len(location))\n",
    "\n",
    "price_raw=[]\n",
    "for i in range(1,300):\n",
    "    try:\n",
    "        element=driver.find_element_by_xpath('/html/body/div[2]/div/div[1]/div/div/main/div[1]/div[1]/div[6]/div['+str(i)+']/div/div[2]/div/div/div[3]/span[2]')\n",
    "        price_raw.append(element.text)\n",
    "    except NoSuchElementException:\n",
    "        continue\n",
    "\n",
    "for i in price_raw:\n",
    "    if i.split(' ')[-1]==\"Lakh\":\n",
    "        price.append(float(i.split(' ')[0]))\n",
    "    else:\n",
    "        price.append(float(i.split(' ')[0])/100000)\n",
    "\n",
    "print(len(price_raw))\n",
    "print(len(price))"
   ]
  },
  {
   "cell_type": "code",
   "execution_count": null,
   "id": "7e2d3821",
   "metadata": {},
   "outputs": [],
   "source": []
  },
  {
   "cell_type": "code",
   "execution_count": null,
   "id": "a0b9f69b",
   "metadata": {},
   "outputs": [],
   "source": []
  },
  {
   "cell_type": "code",
   "execution_count": 553,
   "id": "13fd3edd",
   "metadata": {},
   "outputs": [],
   "source": [
    "driver.get('https://www.cardekho.com/used-cars+in+jaipur+first-owner')"
   ]
  },
  {
   "cell_type": "code",
   "execution_count": 554,
   "id": "ad517332",
   "metadata": {},
   "outputs": [
    {
     "data": {
      "text/plain": [
       "294"
      ]
     },
     "execution_count": 554,
     "metadata": {},
     "output_type": "execute_result"
    }
   ],
   "source": [
    "brand=[]\n",
    "for i in range(1,300):\n",
    "    try:\n",
    "        element=driver.find_element_by_xpath('/html/body/div[2]/div/div[1]/div/div/main/div[1]/div[1]/div[6]/div['+str(i)+']/div/div[2]/div/div/a')\n",
    "        brand.append(element.text.split(' '))\n",
    "    except NoSuchElementException:\n",
    "        continue\n",
    "\n",
    "len(brand)"
   ]
  },
  {
   "cell_type": "code",
   "execution_count": 555,
   "id": "837b858e",
   "metadata": {},
   "outputs": [
    {
     "name": "stdout",
     "output_type": "stream",
     "text": [
      "4286\n",
      "4286\n",
      "4286\n",
      "4286\n",
      "294\n",
      "4286\n",
      "4286\n",
      "4286\n",
      "294\n",
      "4286\n"
     ]
    }
   ],
   "source": [
    "for i in brand:\n",
    "    year.append(int(i[0]))\n",
    "for i in brand:\n",
    "    brand_name.append(i[1])\n",
    "for i in brand:\n",
    "    if len(i)==3:\n",
    "        model.append(i[2])\n",
    "    elif len(i)>3:\n",
    "        model.append(i[2]+'_'+i[3])\n",
    "    elif len(i)==2:\n",
    "        model.append('not given')\n",
    "        \n",
    "print(len(year))\n",
    "print(len(brand_name))\n",
    "print(len(model))\n",
    "\n",
    "for i in range(1,300):\n",
    "    try:\n",
    "        element=driver.find_element_by_xpath('/html/body/div[2]/div/div[1]/div/div/main/div[1]/div[1]/div[6]/div['+str(i)+']/div/div[2]/div/div/div[2]')\n",
    "        variant.append(element.text)\n",
    "    except NoSuchElementException:\n",
    "        continue\n",
    "\n",
    "print(len(variant))\n",
    "\n",
    "kms=[]\n",
    "for i in range(1,300):\n",
    "    try:\n",
    "        element=driver.find_element_by_xpath('/html/body/div[2]/div/div[1]/div/div/main/div[1]/div[1]/div[6]/div['+str(i)+']/div/div[2]/div/div/div[4]/div[1]')\n",
    "        kms.append(element.text)\n",
    "    except NoSuchElementException:\n",
    "        continue\n",
    "        \n",
    "for i in kms:\n",
    "    if len(i.split(' ')[0].split(','))==2:\n",
    "        int_kms.append(int(i.split(' ')[0].split(',')[0]+i.split(' ')[0].split(',')[1]))\n",
    "    elif len(i.split(' ')[0].split(','))==1:\n",
    "        int_kms.append(int(i.split(' ')[0].split(',')[0]))\n",
    "    elif len(i.split(' ')[0].split(','))==3:\n",
    "        int_kms.append(int(i.split(' ')[0].split(',')[0]+i.split(' ')[0].split(',')[1]+i.split(' ')[0].split(',')[2]))\n",
    "\n",
    "print(len(kms))\n",
    "print(len(int_kms))\n",
    "\n",
    "for i in range(0,len(brand)):\n",
    "    number_owners.append(1)\n",
    "    location.append('Jaipur')\n",
    "    \n",
    "print(len(number_owners))\n",
    "print(len(location))\n",
    "\n",
    "price_raw=[]\n",
    "for i in range(1,300):\n",
    "    try:\n",
    "        element=driver.find_element_by_xpath('/html/body/div[2]/div/div[1]/div/div/main/div[1]/div[1]/div[6]/div['+str(i)+']/div/div[2]/div/div/div[3]/span[2]')\n",
    "        price_raw.append(element.text)\n",
    "    except NoSuchElementException:\n",
    "        continue\n",
    "\n",
    "for i in price_raw:\n",
    "    if i.split(' ')[-1]==\"Lakh\":\n",
    "        price.append(float(i.split(' ')[0]))\n",
    "    else:\n",
    "        price.append(float(i.split(' ')[0])/100000)\n",
    "\n",
    "print(len(price_raw))\n",
    "print(len(price))"
   ]
  },
  {
   "cell_type": "code",
   "execution_count": null,
   "id": "f1b8a8e1",
   "metadata": {},
   "outputs": [],
   "source": []
  },
  {
   "cell_type": "code",
   "execution_count": null,
   "id": "2040758c",
   "metadata": {},
   "outputs": [],
   "source": []
  },
  {
   "cell_type": "code",
   "execution_count": 556,
   "id": "48632362",
   "metadata": {},
   "outputs": [],
   "source": [
    "driver.get('https://www.cardekho.com/used-cars+in+jaipur+second-owner')"
   ]
  },
  {
   "cell_type": "code",
   "execution_count": 557,
   "id": "1e0c5582",
   "metadata": {},
   "outputs": [
    {
     "data": {
      "text/plain": [
       "71"
      ]
     },
     "execution_count": 557,
     "metadata": {},
     "output_type": "execute_result"
    }
   ],
   "source": [
    "brand=[]\n",
    "for i in range(1,300):\n",
    "    try:\n",
    "        element=driver.find_element_by_xpath('/html/body/div[2]/div/div[1]/div/div/main/div[1]/div[1]/div[6]/div['+str(i)+']/div/div[2]/div/div/a')\n",
    "        brand.append(element.text.split(' '))\n",
    "    except NoSuchElementException:\n",
    "        continue\n",
    "\n",
    "len(brand)"
   ]
  },
  {
   "cell_type": "code",
   "execution_count": 558,
   "id": "ca9c12b8",
   "metadata": {},
   "outputs": [
    {
     "name": "stdout",
     "output_type": "stream",
     "text": [
      "4357\n",
      "4357\n",
      "4357\n",
      "4357\n",
      "71\n",
      "4357\n",
      "4357\n",
      "4357\n",
      "71\n",
      "4357\n"
     ]
    }
   ],
   "source": [
    "for i in brand:\n",
    "    year.append(int(i[0]))\n",
    "for i in brand:\n",
    "    brand_name.append(i[1])\n",
    "for i in brand:\n",
    "    if len(i)==3:\n",
    "        model.append(i[2])\n",
    "    elif len(i)>3:\n",
    "        model.append(i[2]+'_'+i[3])\n",
    "    elif len(i)==2:\n",
    "        model.append('not given')\n",
    "        \n",
    "print(len(year))\n",
    "print(len(brand_name))\n",
    "print(len(model))\n",
    "\n",
    "for i in range(1,300):\n",
    "    try:\n",
    "        element=driver.find_element_by_xpath('/html/body/div[2]/div/div[1]/div/div/main/div[1]/div[1]/div[6]/div['+str(i)+']/div/div[2]/div/div/div[2]')\n",
    "        variant.append(element.text)\n",
    "    except NoSuchElementException:\n",
    "        continue\n",
    "\n",
    "print(len(variant))\n",
    "\n",
    "kms=[]\n",
    "for i in range(1,300):\n",
    "    try:\n",
    "        element=driver.find_element_by_xpath('/html/body/div[2]/div/div[1]/div/div/main/div[1]/div[1]/div[6]/div['+str(i)+']/div/div[2]/div/div/div[4]/div[1]')\n",
    "        kms.append(element.text)\n",
    "    except NoSuchElementException:\n",
    "        continue\n",
    "        \n",
    "for i in kms:\n",
    "    if len(i.split(' ')[0].split(','))==2:\n",
    "        int_kms.append(int(i.split(' ')[0].split(',')[0]+i.split(' ')[0].split(',')[1]))\n",
    "    elif len(i.split(' ')[0].split(','))==1:\n",
    "        int_kms.append(int(i.split(' ')[0].split(',')[0]))\n",
    "    elif len(i.split(' ')[0].split(','))==3:\n",
    "        int_kms.append(int(i.split(' ')[0].split(',')[0]+i.split(' ')[0].split(',')[1]+i.split(' ')[0].split(',')[2]))\n",
    "\n",
    "print(len(kms))\n",
    "print(len(int_kms))\n",
    "\n",
    "for i in range(0,len(brand)):\n",
    "    number_owners.append(2)\n",
    "    location.append('Jaipur')\n",
    "    \n",
    "print(len(number_owners))\n",
    "print(len(location))\n",
    "\n",
    "price_raw=[]\n",
    "for i in range(1,300):\n",
    "    try:\n",
    "        element=driver.find_element_by_xpath('/html/body/div[2]/div/div[1]/div/div/main/div[1]/div[1]/div[6]/div['+str(i)+']/div/div[2]/div/div/div[3]/span[2]')\n",
    "        price_raw.append(element.text)\n",
    "    except NoSuchElementException:\n",
    "        continue\n",
    "\n",
    "for i in price_raw:\n",
    "    if i.split(' ')[-1]==\"Lakh\":\n",
    "        price.append(float(i.split(' ')[0]))\n",
    "    else:\n",
    "        price.append(float(i.split(' ')[0])/100000)\n",
    "\n",
    "print(len(price_raw))\n",
    "print(len(price))"
   ]
  },
  {
   "cell_type": "code",
   "execution_count": null,
   "id": "b699d21b",
   "metadata": {},
   "outputs": [],
   "source": []
  },
  {
   "cell_type": "code",
   "execution_count": null,
   "id": "8ff67b8c",
   "metadata": {},
   "outputs": [],
   "source": []
  },
  {
   "cell_type": "code",
   "execution_count": 594,
   "id": "01836db9",
   "metadata": {},
   "outputs": [],
   "source": [
    "driver=webdriver.Chrome(\"chromedriver.exe\")"
   ]
  },
  {
   "cell_type": "code",
   "execution_count": 583,
   "id": "de27e4c7",
   "metadata": {},
   "outputs": [],
   "source": [
    "driver.get('https://www.cardekho.com/used-cars+in+delhi-ncr+first-owner')"
   ]
  },
  {
   "cell_type": "code",
   "execution_count": 585,
   "id": "bd228d11",
   "metadata": {},
   "outputs": [
    {
     "data": {
      "text/plain": [
       "220"
      ]
     },
     "execution_count": 585,
     "metadata": {},
     "output_type": "execute_result"
    }
   ],
   "source": [
    "brand=[]\n",
    "for i in range(1,500):\n",
    "    try:\n",
    "        element=driver.find_element_by_xpath('/html/body/div[2]/div/div[1]/div/div/main/div[1]/div[1]/div[6]/div['+str(i)+']/div/div[2]/div/div/a')\n",
    "        brand.append(element.text.split(' '))\n",
    "    except NoSuchElementException:\n",
    "        continue\n",
    "\n",
    "len(brand)"
   ]
  },
  {
   "cell_type": "code",
   "execution_count": 586,
   "id": "38fd5450",
   "metadata": {},
   "outputs": [
    {
     "name": "stdout",
     "output_type": "stream",
     "text": [
      "4577\n",
      "4577\n",
      "4577\n",
      "4577\n",
      "220\n",
      "4577\n",
      "4577\n",
      "4577\n",
      "220\n",
      "4577\n"
     ]
    }
   ],
   "source": [
    "for i in brand:\n",
    "    year.append(int(i[0]))\n",
    "for i in brand:\n",
    "    brand_name.append(i[1])\n",
    "for i in brand:\n",
    "    if len(i)==3:\n",
    "        model.append(i[2])\n",
    "    elif len(i)>3:\n",
    "        model.append(i[2]+'_'+i[3])\n",
    "    elif len(i)==2:\n",
    "        model.append('not given')\n",
    "        \n",
    "print(len(year))\n",
    "print(len(brand_name))\n",
    "print(len(model))\n",
    "\n",
    "for i in range(1,300):\n",
    "    try:\n",
    "        element=driver.find_element_by_xpath('/html/body/div[2]/div/div[1]/div/div/main/div[1]/div[1]/div[6]/div['+str(i)+']/div/div[2]/div/div/div[2]')\n",
    "        variant.append(element.text)\n",
    "    except NoSuchElementException:\n",
    "        continue\n",
    "\n",
    "print(len(variant))\n",
    "\n",
    "kms=[]\n",
    "for i in range(1,300):\n",
    "    try:\n",
    "        element=driver.find_element_by_xpath('/html/body/div[2]/div/div[1]/div/div/main/div[1]/div[1]/div[6]/div['+str(i)+']/div/div[2]/div/div/div[4]/div[1]')\n",
    "        kms.append(element.text)\n",
    "    except NoSuchElementException:\n",
    "        continue\n",
    "        \n",
    "for i in kms:\n",
    "    if len(i.split(' ')[0].split(','))==2:\n",
    "        int_kms.append(int(i.split(' ')[0].split(',')[0]+i.split(' ')[0].split(',')[1]))\n",
    "    elif len(i.split(' ')[0].split(','))==1:\n",
    "        int_kms.append(int(i.split(' ')[0].split(',')[0]))\n",
    "    elif len(i.split(' ')[0].split(','))==3:\n",
    "        int_kms.append(int(i.split(' ')[0].split(',')[0]+i.split(' ')[0].split(',')[1]+i.split(' ')[0].split(',')[2]))\n",
    "\n",
    "print(len(kms))\n",
    "print(len(int_kms))\n",
    "\n",
    "for i in range(0,len(brand)):\n",
    "    number_owners.append(1)\n",
    "    location.append('Delhi_NCR')\n",
    "    \n",
    "print(len(number_owners))\n",
    "print(len(location))\n",
    "\n",
    "price_raw=[]\n",
    "for i in range(1,300):\n",
    "    try:\n",
    "        element=driver.find_element_by_xpath('/html/body/div[2]/div/div[1]/div/div/main/div[1]/div[1]/div[6]/div['+str(i)+']/div/div[2]/div/div/div[3]/span[2]')\n",
    "        price_raw.append(element.text)\n",
    "    except NoSuchElementException:\n",
    "        continue\n",
    "\n",
    "for i in price_raw:\n",
    "    if i.split(' ')[-1]==\"Lakh\":\n",
    "        price.append(float(i.split(' ')[0]))\n",
    "    else:\n",
    "        price.append(float(i.split(' ')[0])/100000)\n",
    "\n",
    "print(len(price_raw))\n",
    "print(len(price))"
   ]
  },
  {
   "cell_type": "code",
   "execution_count": null,
   "id": "3e0ddf81",
   "metadata": {},
   "outputs": [],
   "source": []
  },
  {
   "cell_type": "code",
   "execution_count": null,
   "id": "ac177a18",
   "metadata": {},
   "outputs": [],
   "source": []
  },
  {
   "cell_type": "code",
   "execution_count": 595,
   "id": "4e54c2e9",
   "metadata": {},
   "outputs": [],
   "source": [
    "driver.get('https://www.cardekho.com/used-cars+in+delhi-ncr+second-owner')"
   ]
  },
  {
   "cell_type": "code",
   "execution_count": 597,
   "id": "aa1c6775",
   "metadata": {},
   "outputs": [
    {
     "data": {
      "text/plain": [
       "260"
      ]
     },
     "execution_count": 597,
     "metadata": {},
     "output_type": "execute_result"
    }
   ],
   "source": [
    "brand=[]\n",
    "for i in range(1,300):\n",
    "    try:\n",
    "        element=driver.find_element_by_xpath('/html/body/div[2]/div/div[1]/div/div/main/div[1]/div[1]/div[6]/div['+str(i)+']/div/div[2]/div/div/a')\n",
    "        brand.append(element.text.split(' '))\n",
    "    except NoSuchElementException:\n",
    "        continue\n",
    "\n",
    "len(brand)"
   ]
  },
  {
   "cell_type": "code",
   "execution_count": 598,
   "id": "b773eb64",
   "metadata": {},
   "outputs": [
    {
     "name": "stdout",
     "output_type": "stream",
     "text": [
      "4837\n",
      "4837\n",
      "4837\n",
      "4837\n",
      "260\n",
      "4837\n",
      "4837\n",
      "4837\n",
      "260\n",
      "4837\n"
     ]
    }
   ],
   "source": [
    "for i in brand:\n",
    "    year.append(int(i[0]))\n",
    "for i in brand:\n",
    "    brand_name.append(i[1])\n",
    "for i in brand:\n",
    "    if len(i)==3:\n",
    "        model.append(i[2])\n",
    "    elif len(i)>3:\n",
    "        model.append(i[2]+'_'+i[3])\n",
    "    elif len(i)==2:\n",
    "        model.append('not given')\n",
    "        \n",
    "print(len(year))\n",
    "print(len(brand_name))\n",
    "print(len(model))\n",
    "\n",
    "for i in range(1,300):\n",
    "    try:\n",
    "        element=driver.find_element_by_xpath('/html/body/div[2]/div/div[1]/div/div/main/div[1]/div[1]/div[6]/div['+str(i)+']/div/div[2]/div/div/div[2]')\n",
    "        variant.append(element.text)\n",
    "    except NoSuchElementException:\n",
    "        continue\n",
    "\n",
    "print(len(variant))\n",
    "\n",
    "kms=[]\n",
    "for i in range(1,300):\n",
    "    try:\n",
    "        element=driver.find_element_by_xpath('/html/body/div[2]/div/div[1]/div/div/main/div[1]/div[1]/div[6]/div['+str(i)+']/div/div[2]/div/div/div[4]/div[1]')\n",
    "        kms.append(element.text)\n",
    "    except NoSuchElementException:\n",
    "        continue\n",
    "        \n",
    "for i in kms:\n",
    "    if len(i.split(' ')[0].split(','))==2:\n",
    "        int_kms.append(int(i.split(' ')[0].split(',')[0]+i.split(' ')[0].split(',')[1]))\n",
    "    elif len(i.split(' ')[0].split(','))==1:\n",
    "        int_kms.append(int(i.split(' ')[0].split(',')[0]))\n",
    "    elif len(i.split(' ')[0].split(','))==3:\n",
    "        int_kms.append(int(i.split(' ')[0].split(',')[0]+i.split(' ')[0].split(',')[1]+i.split(' ')[0].split(',')[2]))\n",
    "\n",
    "print(len(kms))\n",
    "print(len(int_kms))\n",
    "\n",
    "for i in range(0,len(brand)):\n",
    "    number_owners.append(2)\n",
    "    location.append('Delhi_NCR')\n",
    "    \n",
    "print(len(number_owners))\n",
    "print(len(location))\n",
    "\n",
    "price_raw=[]\n",
    "for i in range(1,300):\n",
    "    try:\n",
    "        element=driver.find_element_by_xpath('/html/body/div[2]/div/div[1]/div/div/main/div[1]/div[1]/div[6]/div['+str(i)+']/div/div[2]/div/div/div[3]/span[2]')\n",
    "        price_raw.append(element.text)\n",
    "    except NoSuchElementException:\n",
    "        continue\n",
    "\n",
    "for i in price_raw:\n",
    "    if i.split(' ')[-1]==\"Lakh\":\n",
    "        price.append(float(i.split(' ')[0]))\n",
    "    else:\n",
    "        price.append(float(i.split(' ')[0])/100000)\n",
    "\n",
    "print(len(price_raw))\n",
    "print(len(price))"
   ]
  },
  {
   "cell_type": "code",
   "execution_count": null,
   "id": "727e9694",
   "metadata": {},
   "outputs": [],
   "source": []
  },
  {
   "cell_type": "code",
   "execution_count": null,
   "id": "1625a834",
   "metadata": {},
   "outputs": [],
   "source": []
  },
  {
   "cell_type": "code",
   "execution_count": 599,
   "id": "f44b5145",
   "metadata": {},
   "outputs": [],
   "source": [
    "driver.get('https://www.cardekho.com/used-cars+in+pune+first-owner')"
   ]
  },
  {
   "cell_type": "code",
   "execution_count": 600,
   "id": "da4d7244",
   "metadata": {},
   "outputs": [
    {
     "data": {
      "text/plain": [
       "180"
      ]
     },
     "execution_count": 600,
     "metadata": {},
     "output_type": "execute_result"
    }
   ],
   "source": [
    "brand=[]\n",
    "for i in range(1,300):\n",
    "    try:\n",
    "        element=driver.find_element_by_xpath('/html/body/div[2]/div/div[1]/div/div/main/div[1]/div[1]/div[6]/div['+str(i)+']/div/div[2]/div/div/a')\n",
    "        brand.append(element.text.split(' '))\n",
    "    except NoSuchElementException:\n",
    "        continue\n",
    "\n",
    "len(brand)"
   ]
  },
  {
   "cell_type": "code",
   "execution_count": 601,
   "id": "cfe9f397",
   "metadata": {},
   "outputs": [
    {
     "name": "stdout",
     "output_type": "stream",
     "text": [
      "5017\n",
      "5017\n",
      "5017\n",
      "5017\n",
      "180\n",
      "5017\n",
      "5017\n",
      "5017\n",
      "180\n",
      "5017\n"
     ]
    }
   ],
   "source": [
    "for i in brand:\n",
    "    year.append(int(i[0]))\n",
    "for i in brand:\n",
    "    brand_name.append(i[1])\n",
    "for i in brand:\n",
    "    if len(i)==3:\n",
    "        model.append(i[2])\n",
    "    elif len(i)>3:\n",
    "        model.append(i[2]+'_'+i[3])\n",
    "    elif len(i)==2:\n",
    "        model.append('not given')\n",
    "        \n",
    "print(len(year))\n",
    "print(len(brand_name))\n",
    "print(len(model))\n",
    "\n",
    "for i in range(1,300):\n",
    "    try:\n",
    "        element=driver.find_element_by_xpath('/html/body/div[2]/div/div[1]/div/div/main/div[1]/div[1]/div[6]/div['+str(i)+']/div/div[2]/div/div/div[2]')\n",
    "        variant.append(element.text)\n",
    "    except NoSuchElementException:\n",
    "        continue\n",
    "\n",
    "print(len(variant))\n",
    "\n",
    "kms=[]\n",
    "for i in range(1,300):\n",
    "    try:\n",
    "        element=driver.find_element_by_xpath('/html/body/div[2]/div/div[1]/div/div/main/div[1]/div[1]/div[6]/div['+str(i)+']/div/div[2]/div/div/div[4]/div[1]')\n",
    "        kms.append(element.text)\n",
    "    except NoSuchElementException:\n",
    "        continue\n",
    "        \n",
    "for i in kms:\n",
    "    if len(i.split(' ')[0].split(','))==2:\n",
    "        int_kms.append(int(i.split(' ')[0].split(',')[0]+i.split(' ')[0].split(',')[1]))\n",
    "    elif len(i.split(' ')[0].split(','))==1:\n",
    "        int_kms.append(int(i.split(' ')[0].split(',')[0]))\n",
    "    elif len(i.split(' ')[0].split(','))==3:\n",
    "        int_kms.append(int(i.split(' ')[0].split(',')[0]+i.split(' ')[0].split(',')[1]+i.split(' ')[0].split(',')[2]))\n",
    "\n",
    "print(len(kms))\n",
    "print(len(int_kms))\n",
    "\n",
    "for i in range(0,len(brand)):\n",
    "    number_owners.append(1)\n",
    "    location.append('Pune')\n",
    "    \n",
    "print(len(number_owners))\n",
    "print(len(location))\n",
    "\n",
    "price_raw=[]\n",
    "for i in range(1,300):\n",
    "    try:\n",
    "        element=driver.find_element_by_xpath('/html/body/div[2]/div/div[1]/div/div/main/div[1]/div[1]/div[6]/div['+str(i)+']/div/div[2]/div/div/div[3]/span[2]')\n",
    "        price_raw.append(element.text)\n",
    "    except NoSuchElementException:\n",
    "        continue\n",
    "\n",
    "for i in price_raw:\n",
    "    if i.split(' ')[-1]==\"Lakh\":\n",
    "        price.append(float(i.split(' ')[0]))\n",
    "    else:\n",
    "        price.append(float(i.split(' ')[0])/100000)\n",
    "\n",
    "print(len(price_raw))\n",
    "print(len(price))"
   ]
  },
  {
   "cell_type": "code",
   "execution_count": null,
   "id": "0933702a",
   "metadata": {},
   "outputs": [],
   "source": []
  },
  {
   "cell_type": "code",
   "execution_count": null,
   "id": "9dc3c883",
   "metadata": {},
   "outputs": [],
   "source": []
  },
  {
   "cell_type": "code",
   "execution_count": 602,
   "id": "9d1772e4",
   "metadata": {},
   "outputs": [],
   "source": [
    "driver.get('https://www.cardekho.com/used-cars+in+pune+second-owner')"
   ]
  },
  {
   "cell_type": "code",
   "execution_count": 603,
   "id": "22c74771",
   "metadata": {},
   "outputs": [
    {
     "data": {
      "text/plain": [
       "140"
      ]
     },
     "execution_count": 603,
     "metadata": {},
     "output_type": "execute_result"
    }
   ],
   "source": [
    "brand=[]\n",
    "for i in range(1,300):\n",
    "    try:\n",
    "        element=driver.find_element_by_xpath('/html/body/div[2]/div/div[1]/div/div/main/div[1]/div[1]/div[6]/div['+str(i)+']/div/div[2]/div/div/a')\n",
    "        brand.append(element.text.split(' '))\n",
    "    except NoSuchElementException:\n",
    "        continue\n",
    "\n",
    "len(brand)"
   ]
  },
  {
   "cell_type": "code",
   "execution_count": 605,
   "id": "7754ed56",
   "metadata": {},
   "outputs": [
    {
     "name": "stdout",
     "output_type": "stream",
     "text": [
      "5157\n",
      "5157\n",
      "5157\n",
      "5157\n",
      "140\n",
      "5157\n",
      "5157\n",
      "5157\n",
      "140\n",
      "5157\n"
     ]
    }
   ],
   "source": [
    "for i in brand:\n",
    "    year.append(int(i[0]))\n",
    "for i in brand:\n",
    "    brand_name.append(i[1])\n",
    "for i in brand:\n",
    "    if len(i)==3:\n",
    "        model.append(i[2])\n",
    "    elif len(i)>3:\n",
    "        model.append(i[2]+'_'+i[3])\n",
    "    elif len(i)==2:\n",
    "        model.append('not given')\n",
    "        \n",
    "print(len(year))\n",
    "print(len(brand_name))\n",
    "print(len(model))\n",
    "\n",
    "for i in range(1,300):\n",
    "    try:\n",
    "        element=driver.find_element_by_xpath('/html/body/div[2]/div/div[1]/div/div/main/div[1]/div[1]/div[6]/div['+str(i)+']/div/div[2]/div/div/div[2]')\n",
    "        variant.append(element.text)\n",
    "    except NoSuchElementException:\n",
    "        continue\n",
    "\n",
    "print(len(variant))\n",
    "\n",
    "kms=[]\n",
    "for i in range(1,300):\n",
    "    try:\n",
    "        element=driver.find_element_by_xpath('/html/body/div[2]/div/div[1]/div/div/main/div[1]/div[1]/div[6]/div['+str(i)+']/div/div[2]/div/div/div[4]/div[1]')\n",
    "        kms.append(element.text)\n",
    "    except NoSuchElementException:\n",
    "        continue\n",
    "        \n",
    "for i in kms:\n",
    "    if len(i.split(' ')[0].split(','))==2:\n",
    "        int_kms.append(int(i.split(' ')[0].split(',')[0]+i.split(' ')[0].split(',')[1]))\n",
    "    elif len(i.split(' ')[0].split(','))==1:\n",
    "        int_kms.append(int(i.split(' ')[0].split(',')[0]))\n",
    "    elif len(i.split(' ')[0].split(','))==3:\n",
    "        int_kms.append(int(i.split(' ')[0].split(',')[0]+i.split(' ')[0].split(',')[1]+i.split(' ')[0].split(',')[2]))\n",
    "\n",
    "print(len(kms))\n",
    "print(len(int_kms))\n",
    "\n",
    "for i in range(0,len(brand)):\n",
    "    number_owners.append(1)\n",
    "    location.append('Pune')\n",
    "    \n",
    "print(len(number_owners))\n",
    "print(len(location))\n",
    "\n",
    "price_raw=[]\n",
    "for i in range(1,300):\n",
    "    try:\n",
    "        element=driver.find_element_by_xpath('/html/body/div[2]/div/div[1]/div/div/main/div[1]/div[1]/div[6]/div['+str(i)+']/div/div[2]/div/div/div[3]/span[2]')\n",
    "        price_raw.append(element.text)\n",
    "    except NoSuchElementException:\n",
    "        continue\n",
    "\n",
    "for i in price_raw:\n",
    "    if i.split(' ')[-1]==\"Lakh\":\n",
    "        price.append(float(i.split(' ')[0]))\n",
    "    else:\n",
    "        price.append(float(i.split(' ')[0])/100000)\n",
    "\n",
    "print(len(price_raw))\n",
    "print(len(price))"
   ]
  },
  {
   "cell_type": "code",
   "execution_count": 606,
   "id": "78db7378",
   "metadata": {},
   "outputs": [],
   "source": [
    "car_price=pd.DataFrame()"
   ]
  },
  {
   "cell_type": "code",
   "execution_count": 607,
   "id": "4805f3e5",
   "metadata": {},
   "outputs": [],
   "source": [
    "car_price['brand_name']=brand_name\n",
    "car_price['model']=model\n",
    "car_price['year']=year\n",
    "car_price['variant']=variant\n",
    "car_price['distance']=int_kms\n",
    "car_price['city']=location\n",
    "car_price['num_of_owners']=number_owners\n",
    "car_price['price']=price"
   ]
  },
  {
   "cell_type": "code",
   "execution_count": 608,
   "id": "82500327",
   "metadata": {},
   "outputs": [
    {
     "data": {
      "text/html": [
       "<div>\n",
       "<style scoped>\n",
       "    .dataframe tbody tr th:only-of-type {\n",
       "        vertical-align: middle;\n",
       "    }\n",
       "\n",
       "    .dataframe tbody tr th {\n",
       "        vertical-align: top;\n",
       "    }\n",
       "\n",
       "    .dataframe thead th {\n",
       "        text-align: right;\n",
       "    }\n",
       "</style>\n",
       "<table border=\"1\" class=\"dataframe\">\n",
       "  <thead>\n",
       "    <tr style=\"text-align: right;\">\n",
       "      <th></th>\n",
       "      <th>brand_name</th>\n",
       "      <th>model</th>\n",
       "      <th>year</th>\n",
       "      <th>variant</th>\n",
       "      <th>distance</th>\n",
       "      <th>city</th>\n",
       "      <th>num_of_owners</th>\n",
       "      <th>price</th>\n",
       "    </tr>\n",
       "  </thead>\n",
       "  <tbody>\n",
       "    <tr>\n",
       "      <th>0</th>\n",
       "      <td>Honda</td>\n",
       "      <td>Jazz</td>\n",
       "      <td>2018</td>\n",
       "      <td>V CVT</td>\n",
       "      <td>64554</td>\n",
       "      <td>Amhedabad</td>\n",
       "      <td>1</td>\n",
       "      <td>7.05</td>\n",
       "    </tr>\n",
       "    <tr>\n",
       "      <th>1</th>\n",
       "      <td>Hyundai</td>\n",
       "      <td>Verna</td>\n",
       "      <td>2018</td>\n",
       "      <td>VTVT 1.6 SX Option</td>\n",
       "      <td>54195</td>\n",
       "      <td>Amhedabad</td>\n",
       "      <td>1</td>\n",
       "      <td>10.00</td>\n",
       "    </tr>\n",
       "    <tr>\n",
       "      <th>2</th>\n",
       "      <td>Honda</td>\n",
       "      <td>Jazz</td>\n",
       "      <td>2016</td>\n",
       "      <td>V CVT</td>\n",
       "      <td>39821</td>\n",
       "      <td>Amhedabad</td>\n",
       "      <td>1</td>\n",
       "      <td>6.25</td>\n",
       "    </tr>\n",
       "    <tr>\n",
       "      <th>3</th>\n",
       "      <td>Honda</td>\n",
       "      <td>Jazz</td>\n",
       "      <td>2017</td>\n",
       "      <td>1.2 S i VTEC</td>\n",
       "      <td>54966</td>\n",
       "      <td>Amhedabad</td>\n",
       "      <td>1</td>\n",
       "      <td>5.12</td>\n",
       "    </tr>\n",
       "    <tr>\n",
       "      <th>4</th>\n",
       "      <td>Hyundai</td>\n",
       "      <td>i20</td>\n",
       "      <td>2018</td>\n",
       "      <td>1.2 Spotz</td>\n",
       "      <td>29771</td>\n",
       "      <td>Amhedabad</td>\n",
       "      <td>1</td>\n",
       "      <td>6.37</td>\n",
       "    </tr>\n",
       "    <tr>\n",
       "      <th>...</th>\n",
       "      <td>...</td>\n",
       "      <td>...</td>\n",
       "      <td>...</td>\n",
       "      <td>...</td>\n",
       "      <td>...</td>\n",
       "      <td>...</td>\n",
       "      <td>...</td>\n",
       "      <td>...</td>\n",
       "    </tr>\n",
       "    <tr>\n",
       "      <th>5152</th>\n",
       "      <td>Mahindra</td>\n",
       "      <td>Thar</td>\n",
       "      <td>2014</td>\n",
       "      <td>CRDe AC</td>\n",
       "      <td>12000</td>\n",
       "      <td>Pune</td>\n",
       "      <td>1</td>\n",
       "      <td>7.75</td>\n",
       "    </tr>\n",
       "    <tr>\n",
       "      <th>5153</th>\n",
       "      <td>Toyota</td>\n",
       "      <td>Etios</td>\n",
       "      <td>2013</td>\n",
       "      <td>V</td>\n",
       "      <td>71000</td>\n",
       "      <td>Pune</td>\n",
       "      <td>1</td>\n",
       "      <td>3.65</td>\n",
       "    </tr>\n",
       "    <tr>\n",
       "      <th>5154</th>\n",
       "      <td>Hyundai</td>\n",
       "      <td>i10</td>\n",
       "      <td>2008</td>\n",
       "      <td>Magna</td>\n",
       "      <td>90000</td>\n",
       "      <td>Pune</td>\n",
       "      <td>1</td>\n",
       "      <td>1.90</td>\n",
       "    </tr>\n",
       "    <tr>\n",
       "      <th>5155</th>\n",
       "      <td>Hyundai</td>\n",
       "      <td>Santa_Fe</td>\n",
       "      <td>2012</td>\n",
       "      <td>4x4 AT</td>\n",
       "      <td>126000</td>\n",
       "      <td>Pune</td>\n",
       "      <td>1</td>\n",
       "      <td>7.75</td>\n",
       "    </tr>\n",
       "    <tr>\n",
       "      <th>5156</th>\n",
       "      <td>Mercedes-Benz</td>\n",
       "      <td>C-Class</td>\n",
       "      <td>2011</td>\n",
       "      <td>C 250 CDI Avantgarde</td>\n",
       "      <td>75000</td>\n",
       "      <td>Pune</td>\n",
       "      <td>1</td>\n",
       "      <td>11.90</td>\n",
       "    </tr>\n",
       "  </tbody>\n",
       "</table>\n",
       "<p>5157 rows × 8 columns</p>\n",
       "</div>"
      ],
      "text/plain": [
       "         brand_name     model  year               variant  distance  \\\n",
       "0             Honda      Jazz  2018                 V CVT     64554   \n",
       "1           Hyundai     Verna  2018    VTVT 1.6 SX Option     54195   \n",
       "2             Honda      Jazz  2016                 V CVT     39821   \n",
       "3             Honda      Jazz  2017          1.2 S i VTEC     54966   \n",
       "4           Hyundai       i20  2018             1.2 Spotz     29771   \n",
       "...             ...       ...   ...                   ...       ...   \n",
       "5152       Mahindra      Thar  2014               CRDe AC     12000   \n",
       "5153         Toyota     Etios  2013                     V     71000   \n",
       "5154        Hyundai       i10  2008                 Magna     90000   \n",
       "5155        Hyundai  Santa_Fe  2012                4x4 AT    126000   \n",
       "5156  Mercedes-Benz   C-Class  2011  C 250 CDI Avantgarde     75000   \n",
       "\n",
       "           city  num_of_owners  price  \n",
       "0     Amhedabad              1   7.05  \n",
       "1     Amhedabad              1  10.00  \n",
       "2     Amhedabad              1   6.25  \n",
       "3     Amhedabad              1   5.12  \n",
       "4     Amhedabad              1   6.37  \n",
       "...         ...            ...    ...  \n",
       "5152       Pune              1   7.75  \n",
       "5153       Pune              1   3.65  \n",
       "5154       Pune              1   1.90  \n",
       "5155       Pune              1   7.75  \n",
       "5156       Pune              1  11.90  \n",
       "\n",
       "[5157 rows x 8 columns]"
      ]
     },
     "execution_count": 608,
     "metadata": {},
     "output_type": "execute_result"
    }
   ],
   "source": [
    "car_price"
   ]
  },
  {
   "cell_type": "code",
   "execution_count": 609,
   "id": "79aa9962",
   "metadata": {},
   "outputs": [
    {
     "data": {
      "text/plain": [
       "brand_name       0\n",
       "model            0\n",
       "year             0\n",
       "variant          0\n",
       "distance         0\n",
       "city             0\n",
       "num_of_owners    0\n",
       "price            0\n",
       "dtype: int64"
      ]
     },
     "execution_count": 609,
     "metadata": {},
     "output_type": "execute_result"
    }
   ],
   "source": [
    "car_price.isnull().sum()"
   ]
  },
  {
   "cell_type": "code",
   "execution_count": 610,
   "id": "7cbf7c03",
   "metadata": {},
   "outputs": [],
   "source": [
    "car_price.to_csv('car_price.csv')"
   ]
  },
  {
   "cell_type": "code",
   "execution_count": null,
   "id": "758925bf",
   "metadata": {},
   "outputs": [],
   "source": []
  }
 ],
 "metadata": {
  "kernelspec": {
   "display_name": "Python 3",
   "language": "python",
   "name": "python3"
  },
  "language_info": {
   "codemirror_mode": {
    "name": "ipython",
    "version": 3
   },
   "file_extension": ".py",
   "mimetype": "text/x-python",
   "name": "python",
   "nbconvert_exporter": "python",
   "pygments_lexer": "ipython3",
   "version": "3.8.8"
  }
 },
 "nbformat": 4,
 "nbformat_minor": 5
}
