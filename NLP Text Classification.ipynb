{
 "cells": [
  {
   "cell_type": "code",
   "execution_count": 67,
   "id": "f5f89b2c",
   "metadata": {},
   "outputs": [],
   "source": [
    "import numpy as np\n",
    "import pandas as pd\n",
    "\n",
    "import warnings\n",
    "warnings.filterwarnings('ignore')"
   ]
  },
  {
   "cell_type": "code",
   "execution_count": 68,
   "id": "1d29c2ca",
   "metadata": {},
   "outputs": [],
   "source": [
    "temp_df=pd.read_csv('IMDB review Dataset.csv')"
   ]
  },
  {
   "cell_type": "code",
   "execution_count": 69,
   "id": "c37269bf",
   "metadata": {},
   "outputs": [],
   "source": [
    "df=temp_df.iloc[:10000]"
   ]
  },
  {
   "cell_type": "code",
   "execution_count": 70,
   "id": "579efc4a",
   "metadata": {},
   "outputs": [
    {
     "data": {
      "text/html": [
       "<div>\n",
       "<style scoped>\n",
       "    .dataframe tbody tr th:only-of-type {\n",
       "        vertical-align: middle;\n",
       "    }\n",
       "\n",
       "    .dataframe tbody tr th {\n",
       "        vertical-align: top;\n",
       "    }\n",
       "\n",
       "    .dataframe thead th {\n",
       "        text-align: right;\n",
       "    }\n",
       "</style>\n",
       "<table border=\"1\" class=\"dataframe\">\n",
       "  <thead>\n",
       "    <tr style=\"text-align: right;\">\n",
       "      <th></th>\n",
       "      <th>review</th>\n",
       "      <th>sentiment</th>\n",
       "    </tr>\n",
       "  </thead>\n",
       "  <tbody>\n",
       "    <tr>\n",
       "      <th>0</th>\n",
       "      <td>One of the other reviewers has mentioned that ...</td>\n",
       "      <td>positive</td>\n",
       "    </tr>\n",
       "    <tr>\n",
       "      <th>1</th>\n",
       "      <td>A wonderful little production. &lt;br /&gt;&lt;br /&gt;The...</td>\n",
       "      <td>positive</td>\n",
       "    </tr>\n",
       "    <tr>\n",
       "      <th>2</th>\n",
       "      <td>I thought this was a wonderful way to spend ti...</td>\n",
       "      <td>positive</td>\n",
       "    </tr>\n",
       "    <tr>\n",
       "      <th>3</th>\n",
       "      <td>Basically there's a family where a little boy ...</td>\n",
       "      <td>negative</td>\n",
       "    </tr>\n",
       "    <tr>\n",
       "      <th>4</th>\n",
       "      <td>Petter Mattei's \"Love in the Time of Money\" is...</td>\n",
       "      <td>positive</td>\n",
       "    </tr>\n",
       "  </tbody>\n",
       "</table>\n",
       "</div>"
      ],
      "text/plain": [
       "                                              review sentiment\n",
       "0  One of the other reviewers has mentioned that ...  positive\n",
       "1  A wonderful little production. <br /><br />The...  positive\n",
       "2  I thought this was a wonderful way to spend ti...  positive\n",
       "3  Basically there's a family where a little boy ...  negative\n",
       "4  Petter Mattei's \"Love in the Time of Money\" is...  positive"
      ]
     },
     "execution_count": 70,
     "metadata": {},
     "output_type": "execute_result"
    }
   ],
   "source": [
    "df.head()"
   ]
  },
  {
   "cell_type": "code",
   "execution_count": 71,
   "id": "35076977",
   "metadata": {},
   "outputs": [
    {
     "data": {
      "text/plain": [
       "array(['positive', 'negative'], dtype=object)"
      ]
     },
     "execution_count": 71,
     "metadata": {},
     "output_type": "execute_result"
    }
   ],
   "source": [
    "df['sentiment'].unique()"
   ]
  },
  {
   "cell_type": "code",
   "execution_count": 72,
   "id": "b0bc6afd",
   "metadata": {},
   "outputs": [
    {
     "data": {
      "text/plain": [
       "positive    5028\n",
       "negative    4972\n",
       "Name: sentiment, dtype: int64"
      ]
     },
     "execution_count": 72,
     "metadata": {},
     "output_type": "execute_result"
    }
   ],
   "source": [
    "df['sentiment'].value_counts()"
   ]
  },
  {
   "cell_type": "code",
   "execution_count": 73,
   "id": "b98f7512",
   "metadata": {},
   "outputs": [
    {
     "data": {
      "text/plain": [
       "'I thought this was a wonderful way to spend time on a too hot summer weekend, sitting in the air conditioned theater and watching a light-hearted comedy. The plot is simplistic, but the dialogue is witty and the characters are likable (even the well bread suspected serial killer). While some may be disappointed when they realize this is not Match Point 2: Risk Addiction, I thought it was proof that Woody Allen is still fully in control of the style many of us have grown to love.<br /><br />This was the most I\\'d laughed at one of Woody\\'s comedies in years (dare I say a decade?). While I\\'ve never been impressed with Scarlet Johanson, in this she managed to tone down her \"sexy\" image and jumped right into a average, but spirited young woman.<br /><br />This may not be the crown jewel of his career, but it was wittier than \"Devil Wears Prada\" and more interesting than \"Superman\" a great comedy to go see with friends.'"
      ]
     },
     "execution_count": 73,
     "metadata": {},
     "output_type": "execute_result"
    }
   ],
   "source": [
    "df['review'][2]"
   ]
  },
  {
   "cell_type": "code",
   "execution_count": 74,
   "id": "92184792",
   "metadata": {},
   "outputs": [
    {
     "data": {
      "text/plain": [
       "review       0\n",
       "sentiment    0\n",
       "dtype: int64"
      ]
     },
     "execution_count": 74,
     "metadata": {},
     "output_type": "execute_result"
    }
   ],
   "source": [
    "df.isnull().sum()"
   ]
  },
  {
   "cell_type": "code",
   "execution_count": 75,
   "id": "242cb13f",
   "metadata": {},
   "outputs": [
    {
     "data": {
      "text/plain": [
       "17"
      ]
     },
     "execution_count": 75,
     "metadata": {},
     "output_type": "execute_result"
    }
   ],
   "source": [
    "df.duplicated().sum() #There are 17 duplicate reviews"
   ]
  },
  {
   "cell_type": "code",
   "execution_count": 76,
   "id": "a3afd43c",
   "metadata": {},
   "outputs": [],
   "source": [
    "df.drop_duplicates(inplace=True)"
   ]
  },
  {
   "cell_type": "code",
   "execution_count": 77,
   "id": "29a0494e",
   "metadata": {},
   "outputs": [
    {
     "data": {
      "text/plain": [
       "0"
      ]
     },
     "execution_count": 77,
     "metadata": {},
     "output_type": "execute_result"
    }
   ],
   "source": [
    "df.duplicated().sum()"
   ]
  },
  {
   "cell_type": "code",
   "execution_count": 78,
   "id": "eb487754",
   "metadata": {},
   "outputs": [],
   "source": [
    "# Basic Preprocessing\n",
    "# Remove Tags\n",
    "# LowerCase\n",
    "# Remove stopwords"
   ]
  },
  {
   "cell_type": "code",
   "execution_count": 79,
   "id": "dc5a0ffc",
   "metadata": {},
   "outputs": [],
   "source": [
    "import re\n",
    "def remove_tags(raw_text):\n",
    "    cleaned_text=re.sub(re.compile('<.*?\\>'),'',raw_text)\n",
    "    return cleaned_text"
   ]
  },
  {
   "cell_type": "code",
   "execution_count": 80,
   "id": "8a022b55",
   "metadata": {},
   "outputs": [],
   "source": [
    "df['review']=df['review'].apply(remove_tags)"
   ]
  },
  {
   "cell_type": "code",
   "execution_count": 81,
   "id": "e2ec0cba",
   "metadata": {},
   "outputs": [],
   "source": [
    "df['review']=df['review'].apply(lambda x:x.lower())"
   ]
  },
  {
   "cell_type": "code",
   "execution_count": 82,
   "id": "9f9c5973",
   "metadata": {},
   "outputs": [],
   "source": [
    "import nltk"
   ]
  },
  {
   "cell_type": "code",
   "execution_count": 83,
   "id": "f5a6bc38",
   "metadata": {},
   "outputs": [],
   "source": [
    " #nltk.download('stopwords')"
   ]
  },
  {
   "cell_type": "code",
   "execution_count": 84,
   "id": "013bd7db",
   "metadata": {},
   "outputs": [],
   "source": [
    "#stopword removal\n",
    "\n",
    "from nltk.corpus import stopwords\n",
    "\n",
    "sw_list=stopwords.words('english')\n",
    "\n",
    "df['review']=df['review'].apply(lambda x:[item for item in x.split() if item not in sw_list]).apply(lambda x:' '.join(x))"
   ]
  },
  {
   "cell_type": "code",
   "execution_count": 85,
   "id": "4ad4c036",
   "metadata": {},
   "outputs": [
    {
     "data": {
      "text/html": [
       "<div>\n",
       "<style scoped>\n",
       "    .dataframe tbody tr th:only-of-type {\n",
       "        vertical-align: middle;\n",
       "    }\n",
       "\n",
       "    .dataframe tbody tr th {\n",
       "        vertical-align: top;\n",
       "    }\n",
       "\n",
       "    .dataframe thead th {\n",
       "        text-align: right;\n",
       "    }\n",
       "</style>\n",
       "<table border=\"1\" class=\"dataframe\">\n",
       "  <thead>\n",
       "    <tr style=\"text-align: right;\">\n",
       "      <th></th>\n",
       "      <th>review</th>\n",
       "      <th>sentiment</th>\n",
       "    </tr>\n",
       "  </thead>\n",
       "  <tbody>\n",
       "    <tr>\n",
       "      <th>0</th>\n",
       "      <td>one reviewers mentioned watching 1 oz episode ...</td>\n",
       "      <td>positive</td>\n",
       "    </tr>\n",
       "    <tr>\n",
       "      <th>1</th>\n",
       "      <td>wonderful little production. filming technique...</td>\n",
       "      <td>positive</td>\n",
       "    </tr>\n",
       "    <tr>\n",
       "      <th>2</th>\n",
       "      <td>thought wonderful way spend time hot summer we...</td>\n",
       "      <td>positive</td>\n",
       "    </tr>\n",
       "    <tr>\n",
       "      <th>3</th>\n",
       "      <td>basically there's family little boy (jake) thi...</td>\n",
       "      <td>negative</td>\n",
       "    </tr>\n",
       "    <tr>\n",
       "      <th>4</th>\n",
       "      <td>petter mattei's \"love time money\" visually stu...</td>\n",
       "      <td>positive</td>\n",
       "    </tr>\n",
       "    <tr>\n",
       "      <th>...</th>\n",
       "      <td>...</td>\n",
       "      <td>...</td>\n",
       "    </tr>\n",
       "    <tr>\n",
       "      <th>9995</th>\n",
       "      <td>fun, entertaining movie wwii german spy (julie...</td>\n",
       "      <td>positive</td>\n",
       "    </tr>\n",
       "    <tr>\n",
       "      <th>9996</th>\n",
       "      <td>give break. anyone say \"good hockey movie\"? kn...</td>\n",
       "      <td>negative</td>\n",
       "    </tr>\n",
       "    <tr>\n",
       "      <th>9997</th>\n",
       "      <td>movie bad movie. watching endless series bad h...</td>\n",
       "      <td>negative</td>\n",
       "    </tr>\n",
       "    <tr>\n",
       "      <th>9998</th>\n",
       "      <td>movie probably made entertain middle school, e...</td>\n",
       "      <td>negative</td>\n",
       "    </tr>\n",
       "    <tr>\n",
       "      <th>9999</th>\n",
       "      <td>smashing film film-making. shows intense stran...</td>\n",
       "      <td>positive</td>\n",
       "    </tr>\n",
       "  </tbody>\n",
       "</table>\n",
       "<p>9983 rows × 2 columns</p>\n",
       "</div>"
      ],
      "text/plain": [
       "                                                 review sentiment\n",
       "0     one reviewers mentioned watching 1 oz episode ...  positive\n",
       "1     wonderful little production. filming technique...  positive\n",
       "2     thought wonderful way spend time hot summer we...  positive\n",
       "3     basically there's family little boy (jake) thi...  negative\n",
       "4     petter mattei's \"love time money\" visually stu...  positive\n",
       "...                                                 ...       ...\n",
       "9995  fun, entertaining movie wwii german spy (julie...  positive\n",
       "9996  give break. anyone say \"good hockey movie\"? kn...  negative\n",
       "9997  movie bad movie. watching endless series bad h...  negative\n",
       "9998  movie probably made entertain middle school, e...  negative\n",
       "9999  smashing film film-making. shows intense stran...  positive\n",
       "\n",
       "[9983 rows x 2 columns]"
      ]
     },
     "execution_count": 85,
     "metadata": {},
     "output_type": "execute_result"
    }
   ],
   "source": [
    "df"
   ]
  },
  {
   "cell_type": "code",
   "execution_count": 86,
   "id": "69e21582",
   "metadata": {},
   "outputs": [
    {
     "data": {
      "text/plain": [
       "'wonderful little production. filming technique unassuming- old-time-bbc fashion gives comforting, sometimes discomforting, sense realism entire piece. actors extremely well chosen- michael sheen \"has got polari\" voices pat too! truly see seamless editing guided references williams\\' diary entries, well worth watching terrificly written performed piece. masterful production one great master\\'s comedy life. realism really comes home little things: fantasy guard which, rather use traditional \\'dream\\' techniques remains solid disappears. plays knowledge senses, particularly scenes concerning orton halliwell sets (particularly flat halliwell\\'s murals decorating every surface) terribly well done.'"
      ]
     },
     "execution_count": 86,
     "metadata": {},
     "output_type": "execute_result"
    }
   ],
   "source": [
    "df['review'][1]"
   ]
  },
  {
   "cell_type": "code",
   "execution_count": 87,
   "id": "60c6adff",
   "metadata": {},
   "outputs": [],
   "source": [
    "X=df.iloc[:,0:1]\n",
    "y=df['sentiment']"
   ]
  },
  {
   "cell_type": "code",
   "execution_count": 88,
   "id": "4e4a8d2c",
   "metadata": {},
   "outputs": [
    {
     "data": {
      "text/html": [
       "<div>\n",
       "<style scoped>\n",
       "    .dataframe tbody tr th:only-of-type {\n",
       "        vertical-align: middle;\n",
       "    }\n",
       "\n",
       "    .dataframe tbody tr th {\n",
       "        vertical-align: top;\n",
       "    }\n",
       "\n",
       "    .dataframe thead th {\n",
       "        text-align: right;\n",
       "    }\n",
       "</style>\n",
       "<table border=\"1\" class=\"dataframe\">\n",
       "  <thead>\n",
       "    <tr style=\"text-align: right;\">\n",
       "      <th></th>\n",
       "      <th>review</th>\n",
       "    </tr>\n",
       "  </thead>\n",
       "  <tbody>\n",
       "    <tr>\n",
       "      <th>0</th>\n",
       "      <td>one reviewers mentioned watching 1 oz episode ...</td>\n",
       "    </tr>\n",
       "    <tr>\n",
       "      <th>1</th>\n",
       "      <td>wonderful little production. filming technique...</td>\n",
       "    </tr>\n",
       "    <tr>\n",
       "      <th>2</th>\n",
       "      <td>thought wonderful way spend time hot summer we...</td>\n",
       "    </tr>\n",
       "    <tr>\n",
       "      <th>3</th>\n",
       "      <td>basically there's family little boy (jake) thi...</td>\n",
       "    </tr>\n",
       "    <tr>\n",
       "      <th>4</th>\n",
       "      <td>petter mattei's \"love time money\" visually stu...</td>\n",
       "    </tr>\n",
       "    <tr>\n",
       "      <th>...</th>\n",
       "      <td>...</td>\n",
       "    </tr>\n",
       "    <tr>\n",
       "      <th>9995</th>\n",
       "      <td>fun, entertaining movie wwii german spy (julie...</td>\n",
       "    </tr>\n",
       "    <tr>\n",
       "      <th>9996</th>\n",
       "      <td>give break. anyone say \"good hockey movie\"? kn...</td>\n",
       "    </tr>\n",
       "    <tr>\n",
       "      <th>9997</th>\n",
       "      <td>movie bad movie. watching endless series bad h...</td>\n",
       "    </tr>\n",
       "    <tr>\n",
       "      <th>9998</th>\n",
       "      <td>movie probably made entertain middle school, e...</td>\n",
       "    </tr>\n",
       "    <tr>\n",
       "      <th>9999</th>\n",
       "      <td>smashing film film-making. shows intense stran...</td>\n",
       "    </tr>\n",
       "  </tbody>\n",
       "</table>\n",
       "<p>9983 rows × 1 columns</p>\n",
       "</div>"
      ],
      "text/plain": [
       "                                                 review\n",
       "0     one reviewers mentioned watching 1 oz episode ...\n",
       "1     wonderful little production. filming technique...\n",
       "2     thought wonderful way spend time hot summer we...\n",
       "3     basically there's family little boy (jake) thi...\n",
       "4     petter mattei's \"love time money\" visually stu...\n",
       "...                                                 ...\n",
       "9995  fun, entertaining movie wwii german spy (julie...\n",
       "9996  give break. anyone say \"good hockey movie\"? kn...\n",
       "9997  movie bad movie. watching endless series bad h...\n",
       "9998  movie probably made entertain middle school, e...\n",
       "9999  smashing film film-making. shows intense stran...\n",
       "\n",
       "[9983 rows x 1 columns]"
      ]
     },
     "execution_count": 88,
     "metadata": {},
     "output_type": "execute_result"
    }
   ],
   "source": [
    "X"
   ]
  },
  {
   "cell_type": "code",
   "execution_count": 89,
   "id": "f6688eb8",
   "metadata": {},
   "outputs": [
    {
     "data": {
      "text/plain": [
       "0       positive\n",
       "1       positive\n",
       "2       positive\n",
       "3       negative\n",
       "4       positive\n",
       "          ...   \n",
       "9995    positive\n",
       "9996    negative\n",
       "9997    negative\n",
       "9998    negative\n",
       "9999    positive\n",
       "Name: sentiment, Length: 9983, dtype: object"
      ]
     },
     "execution_count": 89,
     "metadata": {},
     "output_type": "execute_result"
    }
   ],
   "source": [
    "y"
   ]
  },
  {
   "cell_type": "code",
   "execution_count": 90,
   "id": "08e388b2",
   "metadata": {},
   "outputs": [],
   "source": [
    "from sklearn.preprocessing import LabelEncoder\n",
    "\n",
    "encoder=LabelEncoder()\n",
    "\n",
    "y=encoder.fit_transform(y)"
   ]
  },
  {
   "cell_type": "code",
   "execution_count": 91,
   "id": "614c6dab",
   "metadata": {},
   "outputs": [],
   "source": [
    "from sklearn.model_selection import train_test_split\n",
    "X_train,X_test,y_train,y_test=train_test_split(X,y,test_size=0.2,random_state=1)"
   ]
  },
  {
   "cell_type": "code",
   "execution_count": 92,
   "id": "1cd201e8",
   "metadata": {},
   "outputs": [
    {
     "data": {
      "text/plain": [
       "(7986, 1)"
      ]
     },
     "execution_count": 92,
     "metadata": {},
     "output_type": "execute_result"
    }
   ],
   "source": [
    "X_train.shape"
   ]
  },
  {
   "cell_type": "code",
   "execution_count": 93,
   "id": "45030c05",
   "metadata": {},
   "outputs": [
    {
     "data": {
      "text/plain": [
       "(1997, 1)"
      ]
     },
     "execution_count": 93,
     "metadata": {},
     "output_type": "execute_result"
    }
   ],
   "source": [
    "X_test.shape"
   ]
  },
  {
   "cell_type": "code",
   "execution_count": 94,
   "id": "4e6c8ec8",
   "metadata": {},
   "outputs": [],
   "source": [
    "from sklearn.feature_extraction.text import CountVectorizer\n",
    "cv=CountVectorizer()"
   ]
  },
  {
   "cell_type": "code",
   "execution_count": 95,
   "id": "a9936ec8",
   "metadata": {},
   "outputs": [],
   "source": [
    "X_train_bow=cv.fit_transform(X_train['review']).toarray()\n",
    "X_test_bow=cv.transform(X_test['review']).toarray()"
   ]
  },
  {
   "cell_type": "code",
   "execution_count": 96,
   "id": "cd421a41",
   "metadata": {},
   "outputs": [
    {
     "data": {
      "text/plain": [
       "(7986, 48282)"
      ]
     },
     "execution_count": 96,
     "metadata": {},
     "output_type": "execute_result"
    }
   ],
   "source": [
    "X_train_bow.shape"
   ]
  },
  {
   "cell_type": "code",
   "execution_count": 100,
   "id": "585d8c9a",
   "metadata": {},
   "outputs": [
    {
     "data": {
      "text/plain": [
       "(1997, 48282)"
      ]
     },
     "execution_count": 100,
     "metadata": {},
     "output_type": "execute_result"
    }
   ],
   "source": [
    "X_test_bow.shape"
   ]
  },
  {
   "cell_type": "code",
   "execution_count": 99,
   "id": "5b4b5768",
   "metadata": {},
   "outputs": [
    {
     "data": {
      "text/plain": [
       "GaussianNB()"
      ]
     },
     "execution_count": 99,
     "metadata": {},
     "output_type": "execute_result"
    }
   ],
   "source": [
    "from sklearn.naive_bayes import GaussianNB\n",
    "gnb=GaussianNB()\n",
    "\n",
    "gnb.fit(X_train_bow,y_train)"
   ]
  },
  {
   "cell_type": "code",
   "execution_count": 101,
   "id": "687f776c",
   "metadata": {},
   "outputs": [],
   "source": [
    "y_pred=gnb.predict(X_test_bow)"
   ]
  },
  {
   "cell_type": "code",
   "execution_count": 102,
   "id": "76bd516f",
   "metadata": {},
   "outputs": [
    {
     "data": {
      "text/plain": [
       "array([1, 1, 0, ..., 1, 0, 0])"
      ]
     },
     "execution_count": 102,
     "metadata": {},
     "output_type": "execute_result"
    }
   ],
   "source": [
    "y_pred"
   ]
  },
  {
   "cell_type": "code",
   "execution_count": 103,
   "id": "eed9cef6",
   "metadata": {},
   "outputs": [
    {
     "data": {
      "text/plain": [
       "0.6324486730095142"
      ]
     },
     "execution_count": 103,
     "metadata": {},
     "output_type": "execute_result"
    }
   ],
   "source": [
    "from sklearn.metrics import accuracy_score,confusion_matrix\n",
    "accuracy_score(y_test,y_pred)"
   ]
  },
  {
   "cell_type": "code",
   "execution_count": 104,
   "id": "f55db10d",
   "metadata": {},
   "outputs": [
    {
     "data": {
      "text/plain": [
       "array([[717, 235],\n",
       "       [499, 546]], dtype=int64)"
      ]
     },
     "execution_count": 104,
     "metadata": {},
     "output_type": "execute_result"
    }
   ],
   "source": [
    "confusion_matrix(y_test,y_pred)"
   ]
  },
  {
   "cell_type": "code",
   "execution_count": 105,
   "id": "11bf08ae",
   "metadata": {},
   "outputs": [],
   "source": [
    "#Since our accuracy is not that high, we are going to apply another algorithm."
   ]
  },
  {
   "cell_type": "code",
   "execution_count": 106,
   "id": "453bb197",
   "metadata": {},
   "outputs": [
    {
     "data": {
      "text/plain": [
       "0.8537806710065098"
      ]
     },
     "execution_count": 106,
     "metadata": {},
     "output_type": "execute_result"
    }
   ],
   "source": [
    "from sklearn.ensemble import RandomForestClassifier\n",
    "rf=RandomForestClassifier()\n",
    "rf.fit(X_train_bow,y_train)\n",
    "y_pred=rf.predict(X_test_bow)\n",
    "accuracy_score(y_test,y_pred)"
   ]
  },
  {
   "cell_type": "code",
   "execution_count": 107,
   "id": "b5981f4d",
   "metadata": {},
   "outputs": [
    {
     "data": {
      "text/plain": [
       "0.8447671507260891"
      ]
     },
     "execution_count": 107,
     "metadata": {},
     "output_type": "execute_result"
    }
   ],
   "source": [
    "cv=CountVectorizer(max_features=3000)\n",
    "\n",
    "X_train_bow=cv.fit_transform(X_train['review']).toarray()\n",
    "X_test_bow=cv.transform(X_test['review']).toarray()\n",
    "\n",
    "rf=RandomForestClassifier()\n",
    "\n",
    "rf.fit(X_train_bow,y_train)\n",
    "y_pred=rf.predict(X_test_bow)\n",
    "accuracy_score(y_test,y_pred)\n",
    "\n",
    "#accuracy slightly reduced since we have reduced the vocabulary"
   ]
  },
  {
   "cell_type": "code",
   "execution_count": 108,
   "id": "5891d5e4",
   "metadata": {},
   "outputs": [
    {
     "ename": "MemoryError",
     "evalue": "Unable to allocate 44.5 GiB for an array with shape (7986, 748659) and data type int64",
     "output_type": "error",
     "traceback": [
      "\u001b[1;31m---------------------------------------------------------------------------\u001b[0m",
      "\u001b[1;31mMemoryError\u001b[0m                               Traceback (most recent call last)",
      "\u001b[1;32m<ipython-input-108-44553ebe24df>\u001b[0m in \u001b[0;36m<module>\u001b[1;34m\u001b[0m\n\u001b[0;32m      1\u001b[0m \u001b[0mcv\u001b[0m\u001b[1;33m=\u001b[0m\u001b[0mCountVectorizer\u001b[0m\u001b[1;33m(\u001b[0m\u001b[0mngram_range\u001b[0m\u001b[1;33m=\u001b[0m\u001b[1;33m(\u001b[0m\u001b[1;36m1\u001b[0m\u001b[1;33m,\u001b[0m\u001b[1;36m2\u001b[0m\u001b[1;33m)\u001b[0m\u001b[1;33m)\u001b[0m\u001b[1;33m\u001b[0m\u001b[1;33m\u001b[0m\u001b[0m\n\u001b[0;32m      2\u001b[0m \u001b[1;33m\u001b[0m\u001b[0m\n\u001b[1;32m----> 3\u001b[1;33m \u001b[0mX_train_bow\u001b[0m\u001b[1;33m=\u001b[0m\u001b[0mcv\u001b[0m\u001b[1;33m.\u001b[0m\u001b[0mfit_transform\u001b[0m\u001b[1;33m(\u001b[0m\u001b[0mX_train\u001b[0m\u001b[1;33m[\u001b[0m\u001b[1;34m'review'\u001b[0m\u001b[1;33m]\u001b[0m\u001b[1;33m)\u001b[0m\u001b[1;33m.\u001b[0m\u001b[0mtoarray\u001b[0m\u001b[1;33m(\u001b[0m\u001b[1;33m)\u001b[0m\u001b[1;33m\u001b[0m\u001b[1;33m\u001b[0m\u001b[0m\n\u001b[0m\u001b[0;32m      4\u001b[0m \u001b[0mX_test_bow\u001b[0m\u001b[1;33m=\u001b[0m\u001b[0mcv\u001b[0m\u001b[1;33m.\u001b[0m\u001b[0mtransform\u001b[0m\u001b[1;33m(\u001b[0m\u001b[0mX_test\u001b[0m\u001b[1;33m[\u001b[0m\u001b[1;34m'review'\u001b[0m\u001b[1;33m]\u001b[0m\u001b[1;33m)\u001b[0m\u001b[1;33m.\u001b[0m\u001b[0mtoarray\u001b[0m\u001b[1;33m(\u001b[0m\u001b[1;33m)\u001b[0m\u001b[1;33m\u001b[0m\u001b[1;33m\u001b[0m\u001b[0m\n\u001b[0;32m      5\u001b[0m \u001b[1;33m\u001b[0m\u001b[0m\n",
      "\u001b[1;32m~\\anaconda3\\lib\\site-packages\\scipy\\sparse\\compressed.py\u001b[0m in \u001b[0;36mtoarray\u001b[1;34m(self, order, out)\u001b[0m\n\u001b[0;32m   1029\u001b[0m         \u001b[1;32mif\u001b[0m \u001b[0mout\u001b[0m \u001b[1;32mis\u001b[0m \u001b[1;32mNone\u001b[0m \u001b[1;32mand\u001b[0m \u001b[0morder\u001b[0m \u001b[1;32mis\u001b[0m \u001b[1;32mNone\u001b[0m\u001b[1;33m:\u001b[0m\u001b[1;33m\u001b[0m\u001b[1;33m\u001b[0m\u001b[0m\n\u001b[0;32m   1030\u001b[0m             \u001b[0morder\u001b[0m \u001b[1;33m=\u001b[0m \u001b[0mself\u001b[0m\u001b[1;33m.\u001b[0m\u001b[0m_swap\u001b[0m\u001b[1;33m(\u001b[0m\u001b[1;34m'cf'\u001b[0m\u001b[1;33m)\u001b[0m\u001b[1;33m[\u001b[0m\u001b[1;36m0\u001b[0m\u001b[1;33m]\u001b[0m\u001b[1;33m\u001b[0m\u001b[1;33m\u001b[0m\u001b[0m\n\u001b[1;32m-> 1031\u001b[1;33m         \u001b[0mout\u001b[0m \u001b[1;33m=\u001b[0m \u001b[0mself\u001b[0m\u001b[1;33m.\u001b[0m\u001b[0m_process_toarray_args\u001b[0m\u001b[1;33m(\u001b[0m\u001b[0morder\u001b[0m\u001b[1;33m,\u001b[0m \u001b[0mout\u001b[0m\u001b[1;33m)\u001b[0m\u001b[1;33m\u001b[0m\u001b[1;33m\u001b[0m\u001b[0m\n\u001b[0m\u001b[0;32m   1032\u001b[0m         \u001b[1;32mif\u001b[0m \u001b[1;32mnot\u001b[0m \u001b[1;33m(\u001b[0m\u001b[0mout\u001b[0m\u001b[1;33m.\u001b[0m\u001b[0mflags\u001b[0m\u001b[1;33m.\u001b[0m\u001b[0mc_contiguous\u001b[0m \u001b[1;32mor\u001b[0m \u001b[0mout\u001b[0m\u001b[1;33m.\u001b[0m\u001b[0mflags\u001b[0m\u001b[1;33m.\u001b[0m\u001b[0mf_contiguous\u001b[0m\u001b[1;33m)\u001b[0m\u001b[1;33m:\u001b[0m\u001b[1;33m\u001b[0m\u001b[1;33m\u001b[0m\u001b[0m\n\u001b[0;32m   1033\u001b[0m             \u001b[1;32mraise\u001b[0m \u001b[0mValueError\u001b[0m\u001b[1;33m(\u001b[0m\u001b[1;34m'Output array must be C or F contiguous'\u001b[0m\u001b[1;33m)\u001b[0m\u001b[1;33m\u001b[0m\u001b[1;33m\u001b[0m\u001b[0m\n",
      "\u001b[1;32m~\\anaconda3\\lib\\site-packages\\scipy\\sparse\\base.py\u001b[0m in \u001b[0;36m_process_toarray_args\u001b[1;34m(self, order, out)\u001b[0m\n\u001b[0;32m   1200\u001b[0m             \u001b[1;32mreturn\u001b[0m \u001b[0mout\u001b[0m\u001b[1;33m\u001b[0m\u001b[1;33m\u001b[0m\u001b[0m\n\u001b[0;32m   1201\u001b[0m         \u001b[1;32melse\u001b[0m\u001b[1;33m:\u001b[0m\u001b[1;33m\u001b[0m\u001b[1;33m\u001b[0m\u001b[0m\n\u001b[1;32m-> 1202\u001b[1;33m             \u001b[1;32mreturn\u001b[0m \u001b[0mnp\u001b[0m\u001b[1;33m.\u001b[0m\u001b[0mzeros\u001b[0m\u001b[1;33m(\u001b[0m\u001b[0mself\u001b[0m\u001b[1;33m.\u001b[0m\u001b[0mshape\u001b[0m\u001b[1;33m,\u001b[0m \u001b[0mdtype\u001b[0m\u001b[1;33m=\u001b[0m\u001b[0mself\u001b[0m\u001b[1;33m.\u001b[0m\u001b[0mdtype\u001b[0m\u001b[1;33m,\u001b[0m \u001b[0morder\u001b[0m\u001b[1;33m=\u001b[0m\u001b[0morder\u001b[0m\u001b[1;33m)\u001b[0m\u001b[1;33m\u001b[0m\u001b[1;33m\u001b[0m\u001b[0m\n\u001b[0m\u001b[0;32m   1203\u001b[0m \u001b[1;33m\u001b[0m\u001b[0m\n\u001b[0;32m   1204\u001b[0m \u001b[1;33m\u001b[0m\u001b[0m\n",
      "\u001b[1;31mMemoryError\u001b[0m: Unable to allocate 44.5 GiB for an array with shape (7986, 748659) and data type int64"
     ]
    }
   ],
   "source": [
    "cv=CountVectorizer(ngram_range=(1,2))\n",
    "\n",
    "X_train_bow=cv.fit_transform(X_train['review']).toarray()\n",
    "X_test_bow=cv.transform(X_test['review']).toarray()\n",
    "\n",
    "rf=RandomForestClassifier()\n",
    "\n",
    "rf.fit(X_train_bow,y_train)\n",
    "y_pred=rf.predict(X_test_bow)\n",
    "accuracy_score(y_test,y_pred)\n",
    "\n",
    "#lack of space"
   ]
  },
  {
   "cell_type": "code",
   "execution_count": 109,
   "id": "11e22011",
   "metadata": {},
   "outputs": [
    {
     "data": {
      "text/plain": [
       "0.8387581372058087"
      ]
     },
     "execution_count": 109,
     "metadata": {},
     "output_type": "execute_result"
    }
   ],
   "source": [
    "cv=CountVectorizer(ngram_range=(1,2),max_features=3000)\n",
    "\n",
    "X_train_bow=cv.fit_transform(X_train['review']).toarray()\n",
    "X_test_bow=cv.transform(X_test['review']).toarray()\n",
    "\n",
    "rf=RandomForestClassifier()\n",
    "\n",
    "rf.fit(X_train_bow,y_train)\n",
    "y_pred=rf.predict(X_test_bow)\n",
    "accuracy_score(y_test,y_pred)"
   ]
  },
  {
   "cell_type": "markdown",
   "id": "ed2204af",
   "metadata": {},
   "source": [
    "# Using TF-IDF"
   ]
  },
  {
   "cell_type": "code",
   "execution_count": 110,
   "id": "bf577c55",
   "metadata": {},
   "outputs": [],
   "source": [
    "from sklearn.feature_extraction.text import TfidfVectorizer"
   ]
  },
  {
   "cell_type": "code",
   "execution_count": 113,
   "id": "730b5034",
   "metadata": {},
   "outputs": [
    {
     "ename": "AttributeError",
     "evalue": "'numpy.ndarray' object has no attribute 'lower'",
     "output_type": "error",
     "traceback": [
      "\u001b[1;31m---------------------------------------------------------------------------\u001b[0m",
      "\u001b[1;31mAttributeError\u001b[0m                            Traceback (most recent call last)",
      "\u001b[1;32m<ipython-input-113-ea3cd8f56f3f>\u001b[0m in \u001b[0;36m<module>\u001b[1;34m\u001b[0m\n\u001b[0;32m      6\u001b[0m \u001b[0mrf\u001b[0m\u001b[1;33m=\u001b[0m\u001b[0mRandomForestClassifier\u001b[0m\u001b[1;33m(\u001b[0m\u001b[1;33m)\u001b[0m\u001b[1;33m\u001b[0m\u001b[1;33m\u001b[0m\u001b[0m\n\u001b[0;32m      7\u001b[0m \u001b[1;33m\u001b[0m\u001b[0m\n\u001b[1;32m----> 8\u001b[1;33m \u001b[0mtfidf\u001b[0m\u001b[1;33m.\u001b[0m\u001b[0mfit\u001b[0m\u001b[1;33m(\u001b[0m\u001b[0mX_train_tfidf\u001b[0m\u001b[1;33m,\u001b[0m\u001b[0my_train\u001b[0m\u001b[1;33m)\u001b[0m\u001b[1;33m\u001b[0m\u001b[1;33m\u001b[0m\u001b[0m\n\u001b[0m\u001b[0;32m      9\u001b[0m \u001b[0my_pred\u001b[0m\u001b[1;33m=\u001b[0m\u001b[0mtfidf\u001b[0m\u001b[1;33m.\u001b[0m\u001b[0mpredict\u001b[0m\u001b[1;33m(\u001b[0m\u001b[0mX_test_tfidf\u001b[0m\u001b[1;33m)\u001b[0m\u001b[1;33m\u001b[0m\u001b[1;33m\u001b[0m\u001b[0m\n\u001b[0;32m     10\u001b[0m \u001b[0maccuracy_score\u001b[0m\u001b[1;33m(\u001b[0m\u001b[0my_test\u001b[0m\u001b[1;33m,\u001b[0m\u001b[0my_pred\u001b[0m\u001b[1;33m)\u001b[0m\u001b[1;33m\u001b[0m\u001b[1;33m\u001b[0m\u001b[0m\n",
      "\u001b[1;32m~\\anaconda3\\lib\\site-packages\\sklearn\\feature_extraction\\text.py\u001b[0m in \u001b[0;36mfit\u001b[1;34m(self, raw_documents, y)\u001b[0m\n\u001b[0;32m   2051\u001b[0m         \u001b[0mself\u001b[0m\u001b[1;33m.\u001b[0m\u001b[0m_check_params\u001b[0m\u001b[1;33m(\u001b[0m\u001b[1;33m)\u001b[0m\u001b[1;33m\u001b[0m\u001b[1;33m\u001b[0m\u001b[0m\n\u001b[0;32m   2052\u001b[0m         \u001b[0mself\u001b[0m\u001b[1;33m.\u001b[0m\u001b[0m_warn_for_unused_params\u001b[0m\u001b[1;33m(\u001b[0m\u001b[1;33m)\u001b[0m\u001b[1;33m\u001b[0m\u001b[1;33m\u001b[0m\u001b[0m\n\u001b[1;32m-> 2053\u001b[1;33m         \u001b[0mX\u001b[0m \u001b[1;33m=\u001b[0m \u001b[0msuper\u001b[0m\u001b[1;33m(\u001b[0m\u001b[1;33m)\u001b[0m\u001b[1;33m.\u001b[0m\u001b[0mfit_transform\u001b[0m\u001b[1;33m(\u001b[0m\u001b[0mraw_documents\u001b[0m\u001b[1;33m)\u001b[0m\u001b[1;33m\u001b[0m\u001b[1;33m\u001b[0m\u001b[0m\n\u001b[0m\u001b[0;32m   2054\u001b[0m         \u001b[0mself\u001b[0m\u001b[1;33m.\u001b[0m\u001b[0m_tfidf\u001b[0m\u001b[1;33m.\u001b[0m\u001b[0mfit\u001b[0m\u001b[1;33m(\u001b[0m\u001b[0mX\u001b[0m\u001b[1;33m)\u001b[0m\u001b[1;33m\u001b[0m\u001b[1;33m\u001b[0m\u001b[0m\n\u001b[0;32m   2055\u001b[0m         \u001b[1;32mreturn\u001b[0m \u001b[0mself\u001b[0m\u001b[1;33m\u001b[0m\u001b[1;33m\u001b[0m\u001b[0m\n",
      "\u001b[1;32m~\\anaconda3\\lib\\site-packages\\sklearn\\feature_extraction\\text.py\u001b[0m in \u001b[0;36mfit_transform\u001b[1;34m(self, raw_documents, y)\u001b[0m\n\u001b[0;32m   1328\u001b[0m                     \u001b[1;32mbreak\u001b[0m\u001b[1;33m\u001b[0m\u001b[1;33m\u001b[0m\u001b[0m\n\u001b[0;32m   1329\u001b[0m \u001b[1;33m\u001b[0m\u001b[0m\n\u001b[1;32m-> 1330\u001b[1;33m         \u001b[0mvocabulary\u001b[0m\u001b[1;33m,\u001b[0m \u001b[0mX\u001b[0m \u001b[1;33m=\u001b[0m \u001b[0mself\u001b[0m\u001b[1;33m.\u001b[0m\u001b[0m_count_vocab\u001b[0m\u001b[1;33m(\u001b[0m\u001b[0mraw_documents\u001b[0m\u001b[1;33m,\u001b[0m \u001b[0mself\u001b[0m\u001b[1;33m.\u001b[0m\u001b[0mfixed_vocabulary_\u001b[0m\u001b[1;33m)\u001b[0m\u001b[1;33m\u001b[0m\u001b[1;33m\u001b[0m\u001b[0m\n\u001b[0m\u001b[0;32m   1331\u001b[0m \u001b[1;33m\u001b[0m\u001b[0m\n\u001b[0;32m   1332\u001b[0m         \u001b[1;32mif\u001b[0m \u001b[0mself\u001b[0m\u001b[1;33m.\u001b[0m\u001b[0mbinary\u001b[0m\u001b[1;33m:\u001b[0m\u001b[1;33m\u001b[0m\u001b[1;33m\u001b[0m\u001b[0m\n",
      "\u001b[1;32m~\\anaconda3\\lib\\site-packages\\sklearn\\feature_extraction\\text.py\u001b[0m in \u001b[0;36m_count_vocab\u001b[1;34m(self, raw_documents, fixed_vocab)\u001b[0m\n\u001b[0;32m   1199\u001b[0m         \u001b[1;32mfor\u001b[0m \u001b[0mdoc\u001b[0m \u001b[1;32min\u001b[0m \u001b[0mraw_documents\u001b[0m\u001b[1;33m:\u001b[0m\u001b[1;33m\u001b[0m\u001b[1;33m\u001b[0m\u001b[0m\n\u001b[0;32m   1200\u001b[0m             \u001b[0mfeature_counter\u001b[0m \u001b[1;33m=\u001b[0m \u001b[1;33m{\u001b[0m\u001b[1;33m}\u001b[0m\u001b[1;33m\u001b[0m\u001b[1;33m\u001b[0m\u001b[0m\n\u001b[1;32m-> 1201\u001b[1;33m             \u001b[1;32mfor\u001b[0m \u001b[0mfeature\u001b[0m \u001b[1;32min\u001b[0m \u001b[0manalyze\u001b[0m\u001b[1;33m(\u001b[0m\u001b[0mdoc\u001b[0m\u001b[1;33m)\u001b[0m\u001b[1;33m:\u001b[0m\u001b[1;33m\u001b[0m\u001b[1;33m\u001b[0m\u001b[0m\n\u001b[0m\u001b[0;32m   1202\u001b[0m                 \u001b[1;32mtry\u001b[0m\u001b[1;33m:\u001b[0m\u001b[1;33m\u001b[0m\u001b[1;33m\u001b[0m\u001b[0m\n\u001b[0;32m   1203\u001b[0m                     \u001b[0mfeature_idx\u001b[0m \u001b[1;33m=\u001b[0m \u001b[0mvocabulary\u001b[0m\u001b[1;33m[\u001b[0m\u001b[0mfeature\u001b[0m\u001b[1;33m]\u001b[0m\u001b[1;33m\u001b[0m\u001b[1;33m\u001b[0m\u001b[0m\n",
      "\u001b[1;32m~\\anaconda3\\lib\\site-packages\\sklearn\\feature_extraction\\text.py\u001b[0m in \u001b[0;36m_analyze\u001b[1;34m(doc, analyzer, tokenizer, ngrams, preprocessor, decoder, stop_words)\u001b[0m\n\u001b[0;32m    111\u001b[0m     \u001b[1;32melse\u001b[0m\u001b[1;33m:\u001b[0m\u001b[1;33m\u001b[0m\u001b[1;33m\u001b[0m\u001b[0m\n\u001b[0;32m    112\u001b[0m         \u001b[1;32mif\u001b[0m \u001b[0mpreprocessor\u001b[0m \u001b[1;32mis\u001b[0m \u001b[1;32mnot\u001b[0m \u001b[1;32mNone\u001b[0m\u001b[1;33m:\u001b[0m\u001b[1;33m\u001b[0m\u001b[1;33m\u001b[0m\u001b[0m\n\u001b[1;32m--> 113\u001b[1;33m             \u001b[0mdoc\u001b[0m \u001b[1;33m=\u001b[0m \u001b[0mpreprocessor\u001b[0m\u001b[1;33m(\u001b[0m\u001b[0mdoc\u001b[0m\u001b[1;33m)\u001b[0m\u001b[1;33m\u001b[0m\u001b[1;33m\u001b[0m\u001b[0m\n\u001b[0m\u001b[0;32m    114\u001b[0m         \u001b[1;32mif\u001b[0m \u001b[0mtokenizer\u001b[0m \u001b[1;32mis\u001b[0m \u001b[1;32mnot\u001b[0m \u001b[1;32mNone\u001b[0m\u001b[1;33m:\u001b[0m\u001b[1;33m\u001b[0m\u001b[1;33m\u001b[0m\u001b[0m\n\u001b[0;32m    115\u001b[0m             \u001b[0mdoc\u001b[0m \u001b[1;33m=\u001b[0m \u001b[0mtokenizer\u001b[0m\u001b[1;33m(\u001b[0m\u001b[0mdoc\u001b[0m\u001b[1;33m)\u001b[0m\u001b[1;33m\u001b[0m\u001b[1;33m\u001b[0m\u001b[0m\n",
      "\u001b[1;32m~\\anaconda3\\lib\\site-packages\\sklearn\\feature_extraction\\text.py\u001b[0m in \u001b[0;36m_preprocess\u001b[1;34m(doc, accent_function, lower)\u001b[0m\n\u001b[0;32m     69\u001b[0m     \"\"\"\n\u001b[0;32m     70\u001b[0m     \u001b[1;32mif\u001b[0m \u001b[0mlower\u001b[0m\u001b[1;33m:\u001b[0m\u001b[1;33m\u001b[0m\u001b[1;33m\u001b[0m\u001b[0m\n\u001b[1;32m---> 71\u001b[1;33m         \u001b[0mdoc\u001b[0m \u001b[1;33m=\u001b[0m \u001b[0mdoc\u001b[0m\u001b[1;33m.\u001b[0m\u001b[0mlower\u001b[0m\u001b[1;33m(\u001b[0m\u001b[1;33m)\u001b[0m\u001b[1;33m\u001b[0m\u001b[1;33m\u001b[0m\u001b[0m\n\u001b[0m\u001b[0;32m     72\u001b[0m     \u001b[1;32mif\u001b[0m \u001b[0maccent_function\u001b[0m \u001b[1;32mis\u001b[0m \u001b[1;32mnot\u001b[0m \u001b[1;32mNone\u001b[0m\u001b[1;33m:\u001b[0m\u001b[1;33m\u001b[0m\u001b[1;33m\u001b[0m\u001b[0m\n\u001b[0;32m     73\u001b[0m         \u001b[0mdoc\u001b[0m \u001b[1;33m=\u001b[0m \u001b[0maccent_function\u001b[0m\u001b[1;33m(\u001b[0m\u001b[0mdoc\u001b[0m\u001b[1;33m)\u001b[0m\u001b[1;33m\u001b[0m\u001b[1;33m\u001b[0m\u001b[0m\n",
      "\u001b[1;31mAttributeError\u001b[0m: 'numpy.ndarray' object has no attribute 'lower'"
     ]
    }
   ],
   "source": [
    "tfidf=TfidfVectorizer()\n",
    "\n",
    "X_train_tfidf=tfidf.fit_transform(X_train['review']).toarray()\n",
    "X_test_tfidf=tfidf.transform(X_test['review'])\n",
    "\n",
    "rf=RandomForestClassifier()\n",
    "\n",
    "tfidf.fit(X_train_tfidf,y_train)\n",
    "y_pred=tfidf.predict(X_test_tfidf)\n",
    "accuracy_score(y_test,y_pred)"
   ]
  },
  {
   "cell_type": "markdown",
   "id": "eb40306e",
   "metadata": {},
   "source": [
    "# Word to vec"
   ]
  },
  {
   "cell_type": "raw",
   "id": "114ca39d",
   "metadata": {},
   "source": [
    "Here we can use two methods:-\n",
    "    1. Pre-Trained Word to vec\n",
    "    2. Our own model\n",
    "    \n",
    "Model made by us will be more accurate since the embeddings will be created based on our own data\n",
    "\n",
    "We can use Pre-Trained model if the vocabularies of the pre-trained model and our data matches atleast 80%"
   ]
  },
  {
   "cell_type": "raw",
   "id": "99137f91",
   "metadata": {},
   "source": [
    "Here we will be applying word2vec on a document/sentence"
   ]
  },
  {
   "cell_type": "code",
   "execution_count": 114,
   "id": "9716157e",
   "metadata": {},
   "outputs": [],
   "source": [
    "import numpy as np\n",
    "import pandas as pd"
   ]
  },
  {
   "cell_type": "code",
   "execution_count": 116,
   "id": "fb9778ac",
   "metadata": {},
   "outputs": [],
   "source": [
    "temp_df=pd.read_csv('IMDB review Dataset.csv')"
   ]
  },
  {
   "cell_type": "code",
   "execution_count": 117,
   "id": "54d0f731",
   "metadata": {},
   "outputs": [],
   "source": [
    "df=temp_df[:10000]"
   ]
  },
  {
   "cell_type": "code",
   "execution_count": 118,
   "id": "d368b2f3",
   "metadata": {},
   "outputs": [
    {
     "data": {
      "text/html": [
       "<div>\n",
       "<style scoped>\n",
       "    .dataframe tbody tr th:only-of-type {\n",
       "        vertical-align: middle;\n",
       "    }\n",
       "\n",
       "    .dataframe tbody tr th {\n",
       "        vertical-align: top;\n",
       "    }\n",
       "\n",
       "    .dataframe thead th {\n",
       "        text-align: right;\n",
       "    }\n",
       "</style>\n",
       "<table border=\"1\" class=\"dataframe\">\n",
       "  <thead>\n",
       "    <tr style=\"text-align: right;\">\n",
       "      <th></th>\n",
       "      <th>review</th>\n",
       "      <th>sentiment</th>\n",
       "    </tr>\n",
       "  </thead>\n",
       "  <tbody>\n",
       "    <tr>\n",
       "      <th>0</th>\n",
       "      <td>One of the other reviewers has mentioned that ...</td>\n",
       "      <td>positive</td>\n",
       "    </tr>\n",
       "    <tr>\n",
       "      <th>1</th>\n",
       "      <td>A wonderful little production. &lt;br /&gt;&lt;br /&gt;The...</td>\n",
       "      <td>positive</td>\n",
       "    </tr>\n",
       "    <tr>\n",
       "      <th>2</th>\n",
       "      <td>I thought this was a wonderful way to spend ti...</td>\n",
       "      <td>positive</td>\n",
       "    </tr>\n",
       "    <tr>\n",
       "      <th>3</th>\n",
       "      <td>Basically there's a family where a little boy ...</td>\n",
       "      <td>negative</td>\n",
       "    </tr>\n",
       "    <tr>\n",
       "      <th>4</th>\n",
       "      <td>Petter Mattei's \"Love in the Time of Money\" is...</td>\n",
       "      <td>positive</td>\n",
       "    </tr>\n",
       "  </tbody>\n",
       "</table>\n",
       "</div>"
      ],
      "text/plain": [
       "                                              review sentiment\n",
       "0  One of the other reviewers has mentioned that ...  positive\n",
       "1  A wonderful little production. <br /><br />The...  positive\n",
       "2  I thought this was a wonderful way to spend ti...  positive\n",
       "3  Basically there's a family where a little boy ...  negative\n",
       "4  Petter Mattei's \"Love in the Time of Money\" is...  positive"
      ]
     },
     "execution_count": 118,
     "metadata": {},
     "output_type": "execute_result"
    }
   ],
   "source": [
    "df.head()"
   ]
  },
  {
   "cell_type": "code",
   "execution_count": 119,
   "id": "1026e270",
   "metadata": {},
   "outputs": [],
   "source": [
    "df.drop_duplicates(inplace=True)"
   ]
  },
  {
   "cell_type": "code",
   "execution_count": 120,
   "id": "5a133de5",
   "metadata": {},
   "outputs": [],
   "source": [
    "import re\n",
    "def remove_tags(raw_text):\n",
    "    cleaned_text=re.sub(re.compile('<.*?\\>'),'',raw_text)\n",
    "    return cleaned_text"
   ]
  },
  {
   "cell_type": "code",
   "execution_count": 121,
   "id": "2e1d2ec6",
   "metadata": {},
   "outputs": [],
   "source": [
    "df['review']=df['review'].apply(remove_tags)"
   ]
  },
  {
   "cell_type": "code",
   "execution_count": 122,
   "id": "7a5d834e",
   "metadata": {},
   "outputs": [],
   "source": [
    "df['review']=df['review'].apply(lambda x:x.lower())"
   ]
  },
  {
   "cell_type": "code",
   "execution_count": 123,
   "id": "9e0a793c",
   "metadata": {},
   "outputs": [],
   "source": [
    "#stopword removal\n",
    "\n",
    "from nltk.corpus import stopwords\n",
    "\n",
    "sw_list=stopwords.words('english')\n",
    "\n",
    "df['review']=df['review'].apply(lambda x:[item for item in x.split() if item not in sw_list]).apply(lambda x:' '.join(x))"
   ]
  },
  {
   "cell_type": "code",
   "execution_count": 124,
   "id": "22b73737",
   "metadata": {},
   "outputs": [],
   "source": [
    "import gensim"
   ]
  },
  {
   "cell_type": "code",
   "execution_count": 125,
   "id": "b5e78783",
   "metadata": {},
   "outputs": [],
   "source": [
    "from nltk import sent_tokenize # sent_tokenize ---> sentence tokenization\n",
    "from gensim.utils import simple_preprocess"
   ]
  },
  {
   "cell_type": "code",
   "execution_count": 126,
   "id": "b0fa3d6c",
   "metadata": {},
   "outputs": [],
   "source": [
    "story=[]\n",
    "for doc in df['review']:\n",
    "    raw_sent=sent_tokenize(doc)\n",
    "    for sent in raw_sent:\n",
    "        story.append(simple_preprocess(sent))"
   ]
  },
  {
   "cell_type": "code",
   "execution_count": 128,
   "id": "798db41d",
   "metadata": {},
   "outputs": [],
   "source": [
    "model=gensim.models.Word2Vec(window=10,min_count=2) #min 2 words must we present in the sentence #initializing object\n",
    "#100 dimension vectors will be formed by deafult"
   ]
  },
  {
   "cell_type": "code",
   "execution_count": 131,
   "id": "c2da7e0f",
   "metadata": {},
   "outputs": [],
   "source": [
    "model.build_vocab(story)"
   ]
  },
  {
   "cell_type": "code",
   "execution_count": 132,
   "id": "0324365e",
   "metadata": {},
   "outputs": [
    {
     "data": {
      "text/plain": [
       "(5875770, 6212140)"
      ]
     },
     "execution_count": 132,
     "metadata": {},
     "output_type": "execute_result"
    }
   ],
   "source": [
    "model.train(story,total_examples=model.corpus_count, epochs=model.epochs)"
   ]
  },
  {
   "cell_type": "code",
   "execution_count": 134,
   "id": "0cd5a7f9",
   "metadata": {},
   "outputs": [
    {
     "data": {
      "text/plain": [
       "31845"
      ]
     },
     "execution_count": 134,
     "metadata": {},
     "output_type": "execute_result"
    }
   ],
   "source": [
    "len(model.wv.index_to_key)"
   ]
  },
  {
   "cell_type": "code",
   "execution_count": 135,
   "id": "8a36dda6",
   "metadata": {},
   "outputs": [
    {
     "data": {
      "text/plain": [
       "['movie',\n",
       " 'film',\n",
       " 'one',\n",
       " 'like',\n",
       " 'good',\n",
       " 'it',\n",
       " 'the',\n",
       " 'would',\n",
       " 'time',\n",
       " 'even',\n",
       " 'story',\n",
       " 'see',\n",
       " 'really',\n",
       " 'well',\n",
       " 'much',\n",
       " 'get',\n",
       " 'bad',\n",
       " 'great',\n",
       " 'people',\n",
       " 'first',\n",
       " 'also',\n",
       " 'made',\n",
       " 'make',\n",
       " 'way',\n",
       " 'movies',\n",
       " 'could',\n",
       " 'think',\n",
       " 'characters',\n",
       " 'watch',\n",
       " 'character',\n",
       " 'films',\n",
       " 'that',\n",
       " 'never',\n",
       " 'little',\n",
       " 'show',\n",
       " 'seen',\n",
       " 'many',\n",
       " 'two',\n",
       " 'love',\n",
       " 'acting',\n",
       " 'plot',\n",
       " 'best',\n",
       " 'know',\n",
       " 'life',\n",
       " 'this',\n",
       " 'ever',\n",
       " 'better',\n",
       " 'man',\n",
       " 'there',\n",
       " 'still',\n",
       " 'say',\n",
       " 'scene',\n",
       " 'end',\n",
       " 'and',\n",
       " 'scenes',\n",
       " 'something',\n",
       " 'go',\n",
       " 'real',\n",
       " 'back',\n",
       " 'watching',\n",
       " 'director',\n",
       " 'actors',\n",
       " 'years',\n",
       " 'thing',\n",
       " 'though',\n",
       " 've',\n",
       " 'work',\n",
       " 'look',\n",
       " 'funny',\n",
       " 'actually',\n",
       " 'old',\n",
       " 'nothing',\n",
       " 'going',\n",
       " 'makes',\n",
       " 'new',\n",
       " 'lot',\n",
       " 'another',\n",
       " 'all',\n",
       " 'every',\n",
       " 'find',\n",
       " 'pretty',\n",
       " 'things',\n",
       " 'part',\n",
       " 'can',\n",
       " 'he',\n",
       " 'us',\n",
       " 'world',\n",
       " 'horror',\n",
       " 'around',\n",
       " 'want',\n",
       " 'big',\n",
       " 'quite',\n",
       " 'cast',\n",
       " 'long',\n",
       " 'young',\n",
       " 'enough',\n",
       " 'in',\n",
       " 'take',\n",
       " 'seems',\n",
       " 'got',\n",
       " 'must',\n",
       " 'however',\n",
       " 'may',\n",
       " 'thought',\n",
       " 'fact',\n",
       " 'right',\n",
       " 'come',\n",
       " 'music',\n",
       " 'comedy',\n",
       " 'give',\n",
       " 'original',\n",
       " 'without',\n",
       " 'action',\n",
       " 'always',\n",
       " 'almost',\n",
       " 'script',\n",
       " 'interesting',\n",
       " 'gets',\n",
       " 'done',\n",
       " 'point',\n",
       " 'anything',\n",
       " 'saw',\n",
       " 'series',\n",
       " 'times',\n",
       " 'since',\n",
       " 'least',\n",
       " 'is',\n",
       " 'might',\n",
       " 'guy',\n",
       " 'role',\n",
       " 'whole',\n",
       " 'feel',\n",
       " 'minutes',\n",
       " 'family',\n",
       " 'bit',\n",
       " 'making',\n",
       " 'me',\n",
       " 'far',\n",
       " 'performance',\n",
       " 'probably',\n",
       " 'girl',\n",
       " 'last',\n",
       " 'woman',\n",
       " 'away',\n",
       " 'but',\n",
       " 'tv',\n",
       " 'yet',\n",
       " 'anyone',\n",
       " 'played',\n",
       " 'sure',\n",
       " 'day',\n",
       " 'rather',\n",
       " 'kind',\n",
       " 'on',\n",
       " 'screen',\n",
       " 'you',\n",
       " 'found',\n",
       " 're',\n",
       " 'hard',\n",
       " 'fun',\n",
       " 'here',\n",
       " 'them',\n",
       " 'out',\n",
       " 'course',\n",
       " 'worst',\n",
       " 'looking',\n",
       " 'up',\n",
       " 'although',\n",
       " 'comes',\n",
       " 'american',\n",
       " 'dvd',\n",
       " 'especially',\n",
       " 'put',\n",
       " 'three',\n",
       " 'book',\n",
       " 'shows',\n",
       " 'him',\n",
       " 'everything',\n",
       " 'so',\n",
       " 'set',\n",
       " 'believe',\n",
       " 'maybe',\n",
       " 'someone',\n",
       " 'place',\n",
       " 'let',\n",
       " 'main',\n",
       " 'money',\n",
       " 'actor',\n",
       " 'trying',\n",
       " 'ending',\n",
       " 'year',\n",
       " 'effects',\n",
       " 'goes',\n",
       " 'watched',\n",
       " 'looks',\n",
       " 'war',\n",
       " 'worth',\n",
       " 'job',\n",
       " 'beautiful',\n",
       " 'again',\n",
       " 'takes',\n",
       " 'sense',\n",
       " 'true',\n",
       " 'different',\n",
       " 'they',\n",
       " 'everyone',\n",
       " 'night',\n",
       " 'idea',\n",
       " 'reason',\n",
       " 'together',\n",
       " 'said',\n",
       " 'john',\n",
       " 'special',\n",
       " 'audience',\n",
       " 'high',\n",
       " 'play',\n",
       " 'seem',\n",
       " 'excellent',\n",
       " 'half',\n",
       " 'instead',\n",
       " 'left',\n",
       " 'shot',\n",
       " 'plays',\n",
       " 'what',\n",
       " 'star',\n",
       " 'used',\n",
       " 'house',\n",
       " 'along',\n",
       " 'budget',\n",
       " 'mind',\n",
       " 'simply',\n",
       " 'version',\n",
       " 'death',\n",
       " 'poor',\n",
       " 'seeing',\n",
       " 'men',\n",
       " 'later',\n",
       " 'else',\n",
       " 'not',\n",
       " 'completely',\n",
       " 'nice',\n",
       " 'wife',\n",
       " 'line',\n",
       " 'father',\n",
       " 'black',\n",
       " 'home',\n",
       " 'dead',\n",
       " 'stupid',\n",
       " 'less',\n",
       " 'fan',\n",
       " 'hollywood',\n",
       " 'second',\n",
       " 'read',\n",
       " 'given',\n",
       " 'use',\n",
       " 'low',\n",
       " 'short',\n",
       " 'kids',\n",
       " 'who',\n",
       " 'couple',\n",
       " 'need',\n",
       " 'camera',\n",
       " 'production',\n",
       " 'friends',\n",
       " 'top',\n",
       " 'women',\n",
       " 'classic',\n",
       " 'boring',\n",
       " 'performances',\n",
       " 'help',\n",
       " 'wrong',\n",
       " 'video',\n",
       " 'her',\n",
       " 'awful',\n",
       " 'tell',\n",
       " 'try',\n",
       " 'either',\n",
       " 'recommend',\n",
       " 'came',\n",
       " 'wonderful',\n",
       " 'rest',\n",
       " 'full',\n",
       " 'game',\n",
       " 'too',\n",
       " 'mother',\n",
       " 'person',\n",
       " 'small',\n",
       " 'next',\n",
       " 'truly',\n",
       " 'playing',\n",
       " 'face',\n",
       " 'terrible',\n",
       " 'children',\n",
       " 'name',\n",
       " 'human',\n",
       " 'remember',\n",
       " 'head',\n",
       " 'keep',\n",
       " 'to',\n",
       " 'finally',\n",
       " 'getting',\n",
       " 'perfect',\n",
       " 'absolutely',\n",
       " 'll',\n",
       " 'piece',\n",
       " 'worse',\n",
       " 'episode',\n",
       " 'stars',\n",
       " 'often',\n",
       " 'enjoy',\n",
       " 'school',\n",
       " 'gives',\n",
       " 'now',\n",
       " 'style',\n",
       " 'mean',\n",
       " 'others',\n",
       " 'understand',\n",
       " 'perhaps',\n",
       " 'sex',\n",
       " 'dialogue',\n",
       " 'start',\n",
       " 'definitely',\n",
       " 'we',\n",
       " 'moments',\n",
       " 'off',\n",
       " 'case',\n",
       " 'become',\n",
       " 'cinema',\n",
       " 'as',\n",
       " 'yes',\n",
       " 'early',\n",
       " 'called',\n",
       " 'went',\n",
       " 'based',\n",
       " 'evil',\n",
       " 'picture',\n",
       " 'title',\n",
       " 'no',\n",
       " 'friend',\n",
       " 'boy',\n",
       " 'certainly',\n",
       " 'laugh',\n",
       " 'oh',\n",
       " 'written',\n",
       " 'lines',\n",
       " 'drama',\n",
       " 'felt',\n",
       " 'guys',\n",
       " 'killer',\n",
       " 'direction',\n",
       " 'beginning',\n",
       " 'totally',\n",
       " 'if',\n",
       " 'fans',\n",
       " 'loved',\n",
       " 'sound',\n",
       " 'entire',\n",
       " 'problem',\n",
       " 'live',\n",
       " 'entertaining',\n",
       " 'for',\n",
       " 'sort',\n",
       " 'several',\n",
       " 'mr',\n",
       " 'lives',\n",
       " 'waste',\n",
       " 'lost',\n",
       " 'liked',\n",
       " 'supposed',\n",
       " 'throughout',\n",
       " 'overall',\n",
       " 'hope',\n",
       " 'despite',\n",
       " 'god',\n",
       " 'town',\n",
       " 'care',\n",
       " 'able',\n",
       " 'fine',\n",
       " 'of',\n",
       " 'days',\n",
       " 'heart',\n",
       " 'history',\n",
       " 'final',\n",
       " 'turn',\n",
       " 'matter',\n",
       " 'already',\n",
       " 'stuff',\n",
       " 'humor',\n",
       " 'close',\n",
       " 'with',\n",
       " 'dark',\n",
       " 'seemed',\n",
       " 'over',\n",
       " 'white',\n",
       " 'side',\n",
       " 'past',\n",
       " 'act',\n",
       " 'gave',\n",
       " 'today',\n",
       " 'michael',\n",
       " 'lead',\n",
       " 'car',\n",
       " 'example',\n",
       " 'quality',\n",
       " 'writing',\n",
       " 'turns',\n",
       " 'or',\n",
       " 'viewer',\n",
       " 'wanted',\n",
       " 'brilliant',\n",
       " 'wants',\n",
       " 'amazing',\n",
       " 'guess',\n",
       " 'son',\n",
       " 'horrible',\n",
       " 'hour',\n",
       " 'kill',\n",
       " 'works',\n",
       " 'eyes',\n",
       " 'child',\n",
       " 'behind',\n",
       " 'do',\n",
       " 'enjoyed',\n",
       " 'unfortunately',\n",
       " 'sometimes',\n",
       " 'tries',\n",
       " 'art',\n",
       " 'favorite',\n",
       " 'late',\n",
       " 'becomes',\n",
       " 'extremely',\n",
       " 'city',\n",
       " 'lack',\n",
       " 'stop',\n",
       " 'etc',\n",
       " 'run',\n",
       " 'soon',\n",
       " 'directed',\n",
       " 'flick',\n",
       " 'be',\n",
       " 'known',\n",
       " 'girls',\n",
       " 'actress',\n",
       " 'fight',\n",
       " 'parts',\n",
       " 'killed',\n",
       " 'type',\n",
       " 'took',\n",
       " 'decent',\n",
       " 'coming',\n",
       " 'feeling',\n",
       " 'starts',\n",
       " 'obviously',\n",
       " 'looked',\n",
       " 'highly',\n",
       " 'genre',\n",
       " 'expect',\n",
       " 'daughter',\n",
       " 'except',\n",
       " 'was',\n",
       " 'involved',\n",
       " 'slow',\n",
       " 'self',\n",
       " 'told',\n",
       " 'hand',\n",
       " 'experience',\n",
       " 'chance',\n",
       " 'thinking',\n",
       " 'police',\n",
       " 'gore',\n",
       " 'murder',\n",
       " 'voice',\n",
       " 'age',\n",
       " 'group',\n",
       " 'says',\n",
       " 'which',\n",
       " 'kid',\n",
       " 'leave',\n",
       " 'reality',\n",
       " 'moment',\n",
       " 'english',\n",
       " 'attempt',\n",
       " 'happen',\n",
       " 'writer',\n",
       " 'saying',\n",
       " 'robert',\n",
       " 'cut',\n",
       " 'then',\n",
       " 'hell',\n",
       " 'word',\n",
       " 'james',\n",
       " 'happens',\n",
       " 'blood',\n",
       " 'ago',\n",
       " 'heard',\n",
       " 'david',\n",
       " 'violence',\n",
       " 'brother',\n",
       " 'anyway',\n",
       " 'simple',\n",
       " 'particularly',\n",
       " 'score',\n",
       " 'roles',\n",
       " 'view',\n",
       " 'opening',\n",
       " 'seriously',\n",
       " 'hilarious',\n",
       " 'serious',\n",
       " 'living',\n",
       " 'obvious',\n",
       " 'number',\n",
       " 'including',\n",
       " 'power',\n",
       " 'save',\n",
       " 'possible',\n",
       " 'cannot',\n",
       " 'ok',\n",
       " 'complete',\n",
       " 'cool',\n",
       " 'stories',\n",
       " 'hero',\n",
       " 'interest',\n",
       " 'annoying',\n",
       " 'across',\n",
       " 'wonder',\n",
       " 'order',\n",
       " 'relationship',\n",
       " 'song',\n",
       " 'none',\n",
       " 'words',\n",
       " 'important',\n",
       " 'ridiculous',\n",
       " 'alone',\n",
       " 'husband',\n",
       " 'body',\n",
       " 'hours',\n",
       " 'scary',\n",
       " 'novel',\n",
       " 'talent',\n",
       " 'jokes',\n",
       " 'more',\n",
       " 'whose',\n",
       " 'documentary',\n",
       " 'huge',\n",
       " 'television',\n",
       " 'released',\n",
       " 'shown',\n",
       " 'started',\n",
       " 'strong',\n",
       " 'non',\n",
       " 'running',\n",
       " 'turned',\n",
       " 'career',\n",
       " 'exactly',\n",
       " 'hit',\n",
       " 'disappointed',\n",
       " 'ones',\n",
       " 'mostly',\n",
       " 'cinematography',\n",
       " 'problems',\n",
       " 'sad',\n",
       " 'taken',\n",
       " 'usually',\n",
       " 'usual',\n",
       " 'die',\n",
       " 'beyond',\n",
       " 'shots',\n",
       " 'cheap',\n",
       " 'happened',\n",
       " 'lots',\n",
       " 'before',\n",
       " 'due',\n",
       " 'rating',\n",
       " 'british',\n",
       " 'other',\n",
       " 'crap',\n",
       " 'apparently',\n",
       " 'upon',\n",
       " 'bring',\n",
       " 'happy',\n",
       " 'space',\n",
       " 'taking',\n",
       " 'silly',\n",
       " 'modern',\n",
       " 'opinion',\n",
       " 'attention',\n",
       " 'call',\n",
       " 'light',\n",
       " 'country',\n",
       " 'rock',\n",
       " 'please',\n",
       " 'basically',\n",
       " 'change',\n",
       " 'songs',\n",
       " 'middle',\n",
       " 'sets',\n",
       " 'episodes',\n",
       " 'comic',\n",
       " 'dull',\n",
       " 'miss',\n",
       " 'hate',\n",
       " 'major',\n",
       " 'musical',\n",
       " 'room',\n",
       " 'single',\n",
       " 'monster',\n",
       " 'level',\n",
       " 'ends',\n",
       " 'clearly',\n",
       " 'local',\n",
       " 'four',\n",
       " 'french',\n",
       " 'knows',\n",
       " 'deal',\n",
       " 'moving',\n",
       " 'strange',\n",
       " 'whether',\n",
       " 'class',\n",
       " 'soundtrack',\n",
       " 'female',\n",
       " 'message',\n",
       " 'jack',\n",
       " 'clear',\n",
       " 'enjoyable',\n",
       " 'wish',\n",
       " 'thriller',\n",
       " 'events',\n",
       " 'filmed',\n",
       " 'actual',\n",
       " 'talking',\n",
       " 'romantic',\n",
       " 'somewhat',\n",
       " 'king',\n",
       " 'finds',\n",
       " 'straight',\n",
       " 'storyline',\n",
       " 'knew',\n",
       " 'suspense',\n",
       " 'sequence',\n",
       " 'tells',\n",
       " 'down',\n",
       " 'supporting',\n",
       " 'needs',\n",
       " 'about',\n",
       " 'buy',\n",
       " 'ten',\n",
       " 'add',\n",
       " 'working',\n",
       " 'talk',\n",
       " 'dance',\n",
       " 'predictable',\n",
       " 'mystery',\n",
       " 'comments',\n",
       " 'bunch',\n",
       " 'easy',\n",
       " 'tried',\n",
       " 'form',\n",
       " 'george',\n",
       " 'fast',\n",
       " 'earth',\n",
       " 'doubt',\n",
       " 'easily',\n",
       " 'sister',\n",
       " 'entertainment',\n",
       " 'review',\n",
       " 'similar',\n",
       " 'surprise',\n",
       " 'team',\n",
       " 'editing',\n",
       " 'eye',\n",
       " 'why',\n",
       " 'five',\n",
       " 'parents',\n",
       " 'typical',\n",
       " 'okay',\n",
       " 'falls',\n",
       " 'within',\n",
       " 'did',\n",
       " 'at',\n",
       " 'feels',\n",
       " 'giving',\n",
       " 'rent',\n",
       " 'average',\n",
       " 'crime',\n",
       " 'check',\n",
       " 'realistic',\n",
       " 'crew',\n",
       " 'disney',\n",
       " 'using',\n",
       " 'greatest',\n",
       " 'period',\n",
       " 'learn',\n",
       " 'points',\n",
       " 'dialog',\n",
       " 'among',\n",
       " 'release',\n",
       " 'appears',\n",
       " 'mention',\n",
       " 'doctor',\n",
       " 'effort',\n",
       " 'memorable',\n",
       " 'surprised',\n",
       " 'stand',\n",
       " 'lady',\n",
       " 'gone',\n",
       " 'expected',\n",
       " 'sorry',\n",
       " 'paul',\n",
       " 'deep',\n",
       " 'romance',\n",
       " 'near',\n",
       " 'believable',\n",
       " 'brought',\n",
       " 'figure',\n",
       " 'showing',\n",
       " 'sequences',\n",
       " 'dr',\n",
       " 'th',\n",
       " 'nearly',\n",
       " 'lame',\n",
       " 'kept',\n",
       " 'ways',\n",
       " 'subject',\n",
       " 'feature',\n",
       " 'indeed',\n",
       " 'sequel',\n",
       " 'named',\n",
       " 'stay',\n",
       " 'elements',\n",
       " 'decided',\n",
       " 'avoid',\n",
       " 'certain',\n",
       " 'material',\n",
       " 'animation',\n",
       " 'forget',\n",
       " 'viewers',\n",
       " 'future',\n",
       " 'wait',\n",
       " 'otherwise',\n",
       " 'killing',\n",
       " 'dog',\n",
       " 'famous',\n",
       " 'means',\n",
       " 'fi',\n",
       " 'fall',\n",
       " 'viewing',\n",
       " 'screenplay',\n",
       " 'sci',\n",
       " 'box',\n",
       " 'note',\n",
       " 'theme',\n",
       " 'minute',\n",
       " 'truth',\n",
       " 'laughs',\n",
       " 'needed',\n",
       " 'sit',\n",
       " 'fantastic',\n",
       " 'begins',\n",
       " 'water',\n",
       " 'theater',\n",
       " 'open',\n",
       " 'america',\n",
       " 'somehow',\n",
       " 'move',\n",
       " 'stage',\n",
       " 'whatever',\n",
       " 'hear',\n",
       " 'tale',\n",
       " 'richard',\n",
       " 'mark',\n",
       " 'york',\n",
       " 'oscar',\n",
       " 'meet',\n",
       " 'footage',\n",
       " 'imagine',\n",
       " 'begin',\n",
       " 'follow',\n",
       " 'worked',\n",
       " 'meets',\n",
       " 'are',\n",
       " 'shame',\n",
       " 'leaves',\n",
       " 'lee',\n",
       " 'question',\n",
       " 'difficult',\n",
       " 'particular',\n",
       " 'imdb',\n",
       " 'crazy',\n",
       " 'weak',\n",
       " 'island',\n",
       " 'total',\n",
       " 'peter',\n",
       " 'de',\n",
       " 'directing',\n",
       " 'baby',\n",
       " 'reviews',\n",
       " 'setting',\n",
       " 'possibly',\n",
       " 'air',\n",
       " 'general',\n",
       " 'hot',\n",
       " 'effect',\n",
       " 'battle',\n",
       " 'credits',\n",
       " 'tom',\n",
       " 'situation',\n",
       " 'towards',\n",
       " 'premise',\n",
       " 'my',\n",
       " 'atmosphere',\n",
       " 'japanese',\n",
       " 'nature',\n",
       " 'realize',\n",
       " 'himself',\n",
       " 'poorly',\n",
       " 'powerful',\n",
       " 'features',\n",
       " 'rate',\n",
       " 'gay',\n",
       " 'cheesy',\n",
       " 'plain',\n",
       " 'plus',\n",
       " 'sounds',\n",
       " 'don',\n",
       " 'forward',\n",
       " 'eventually',\n",
       " 'boys',\n",
       " 'earlier',\n",
       " 'leads',\n",
       " 'rich',\n",
       " 'missing',\n",
       " 'society',\n",
       " 'beauty',\n",
       " 'became',\n",
       " 'business',\n",
       " 'various',\n",
       " 'acted',\n",
       " 'western',\n",
       " 'dumb',\n",
       " 'perfectly',\n",
       " 'party',\n",
       " 'caught',\n",
       " 'creepy',\n",
       " 'era',\n",
       " 'superb',\n",
       " 'telling',\n",
       " 'free',\n",
       " 'brings',\n",
       " 'red',\n",
       " 'fire',\n",
       " 'result',\n",
       " 'badly',\n",
       " 'cop',\n",
       " 'mess',\n",
       " 'personal',\n",
       " 'sexual',\n",
       " 'outside',\n",
       " 'emotional',\n",
       " 'gun',\n",
       " 'reasons',\n",
       " 'directors',\n",
       " 'leading',\n",
       " 'development',\n",
       " 'quickly',\n",
       " 'weird',\n",
       " 'william',\n",
       " 'fairly',\n",
       " 'fails',\n",
       " 'street',\n",
       " 'unless',\n",
       " 'season',\n",
       " 'admit',\n",
       " 'dramatic',\n",
       " 'political',\n",
       " 'masterpiece',\n",
       " 'write',\n",
       " 'secret',\n",
       " 'bill',\n",
       " 'incredibly',\n",
       " 'success',\n",
       " 'return',\n",
       " 'pure',\n",
       " 'hands',\n",
       " 'former',\n",
       " 'dancing',\n",
       " 'list',\n",
       " 'dream',\n",
       " 'mentioned',\n",
       " 'value',\n",
       " 'forced',\n",
       " 'portrayed',\n",
       " 'third',\n",
       " 'background',\n",
       " 'joke',\n",
       " 'villain',\n",
       " 'break',\n",
       " 'keeps',\n",
       " 'casting',\n",
       " 'male',\n",
       " 'unique',\n",
       " 'pay',\n",
       " 'escape',\n",
       " 'while',\n",
       " 'deserves',\n",
       " 'pace',\n",
       " 'reading',\n",
       " 'following',\n",
       " 'girlfriend',\n",
       " 'she',\n",
       " 'wasted',\n",
       " 'missed',\n",
       " 'appear',\n",
       " 'front',\n",
       " 'plenty',\n",
       " 'create',\n",
       " 'from',\n",
       " 'nudity',\n",
       " 'trouble',\n",
       " 'writers',\n",
       " 'zombie',\n",
       " 'ask',\n",
       " 'hold',\n",
       " 'older',\n",
       " 'talented',\n",
       " 'apart',\n",
       " 'joe',\n",
       " 'waiting',\n",
       " 'ideas',\n",
       " 'produced',\n",
       " 'large',\n",
       " 'train',\n",
       " 'alien',\n",
       " 'inside',\n",
       " 'cute',\n",
       " 'band',\n",
       " 'previous',\n",
       " 'attempts',\n",
       " 'law',\n",
       " 'unlike',\n",
       " 'cover',\n",
       " 'expecting',\n",
       " 'clever',\n",
       " 'drug',\n",
       " 'pointless',\n",
       " 'remake',\n",
       " 'filled',\n",
       " 'german',\n",
       " 'popular',\n",
       " 'interested',\n",
       " 'portrayal',\n",
       " 'married',\n",
       " 'moves',\n",
       " 'neither',\n",
       " 'twist',\n",
       " 'spirit',\n",
       " 'hardly',\n",
       " 'fit',\n",
       " 'spent',\n",
       " 'alive',\n",
       " 'company',\n",
       " 'ended',\n",
       " 'laughing',\n",
       " 'agree',\n",
       " 'public',\n",
       " 'tension',\n",
       " 'cold',\n",
       " 'language',\n",
       " 'changed',\n",
       " 'present',\n",
       " 'recently',\n",
       " 'when',\n",
       " 'sees',\n",
       " 'manages',\n",
       " 'co',\n",
       " 'brain',\n",
       " 'store',\n",
       " 'fantasy',\n",
       " 'hair',\n",
       " 'honest',\n",
       " 'comment',\n",
       " 'spoilers',\n",
       " 'fighting',\n",
       " 'tough',\n",
       " 'flat',\n",
       " 'office',\n",
       " 'convincing',\n",
       " 'considering',\n",
       " 'itself',\n",
       " 'fear',\n",
       " 'match',\n",
       " 'slightly',\n",
       " 'basic',\n",
       " 'copy',\n",
       " 'through',\n",
       " 'wrote',\n",
       " 'runs',\n",
       " 'la',\n",
       " 'science',\n",
       " 'values',\n",
       " 'glad',\n",
       " ...]"
      ]
     },
     "execution_count": 135,
     "metadata": {},
     "output_type": "execute_result"
    }
   ],
   "source": [
    "model.wv.index_to_key\n",
    "\n",
    "#words in vocabulary"
   ]
  },
  {
   "cell_type": "code",
   "execution_count": 140,
   "id": "15982935",
   "metadata": {},
   "outputs": [],
   "source": [
    "#code for converting sentences to vector\n",
    "def document_vector(doc):\n",
    "    doc=[word for word in doc.split() if word in model.wv.index_to_key]\n",
    "    return np.mean(model.wv[doc],axis=0)"
   ]
  },
  {
   "cell_type": "code",
   "execution_count": 143,
   "id": "17c3d0d4",
   "metadata": {},
   "outputs": [
    {
     "data": {
      "text/plain": [
       "array([-0.15480669,  0.5123571 ,  0.7093771 ,  0.01027348, -0.22482702,\n",
       "       -0.10647601, -0.35621446,  0.5422294 ,  0.08043259,  0.33000824,\n",
       "       -0.16184959,  0.02080165, -0.32924643, -0.15783866,  0.17598218,\n",
       "       -0.289469  , -0.09516775, -0.54589766,  0.20991078, -0.47521502,\n",
       "        0.281658  ,  0.10068011,  0.36618403,  0.07331216, -0.23769316,\n",
       "        0.24502644,  0.11451492, -0.13874428, -0.670655  ,  0.47252828,\n",
       "       -0.21287984,  0.14188768,  0.264387  ,  0.20148517,  0.2983174 ,\n",
       "       -0.39522105,  0.08999523, -0.4240164 , -0.3897448 , -0.32696787,\n",
       "       -0.20440519, -0.07944923, -0.21955466,  0.01643202, -0.05720714,\n",
       "       -0.14697482, -0.18816398,  0.30110356, -0.10487099,  0.5322978 ,\n",
       "       -0.05295952,  0.15473332, -0.11993817,  0.13147861, -0.34566444,\n",
       "        0.16973987,  0.36161605,  0.4039922 , -0.18764554,  0.10735478,\n",
       "       -0.3668434 ,  0.17806622, -0.5023229 ,  0.07616809, -0.01650833,\n",
       "       -0.18446973,  0.05260963, -0.2723754 , -0.18259984, -0.13921624,\n",
       "        0.5318465 ,  0.03833954,  0.2595103 ,  0.09061188, -0.31393892,\n",
       "        0.5653178 , -0.34391743, -0.10268597, -0.22307965,  0.34031478,\n",
       "       -0.02103949, -0.25829965,  0.19765885,  0.11812267, -0.21345422,\n",
       "        0.03134732, -0.26862445,  0.12412143,  0.02354624,  0.04746228,\n",
       "        0.30806583, -0.45318994,  0.22107126,  0.00481988,  0.7049493 ,\n",
       "        0.32845134,  0.16465786, -0.55185574, -0.11794228,  0.29320097],\n",
       "      dtype=float32)"
      ]
     },
     "execution_count": 143,
     "metadata": {},
     "output_type": "execute_result"
    }
   ],
   "source": [
    "document_vector(df['review'].values[0]) #converting the first review to vector"
   ]
  },
  {
   "cell_type": "code",
   "execution_count": null,
   "id": "b80c8f18",
   "metadata": {},
   "outputs": [],
   "source": [
    "from tqdm import tqdm"
   ]
  },
  {
   "cell_type": "code",
   "execution_count": 147,
   "id": "a970ea04",
   "metadata": {},
   "outputs": [
    {
     "name": "stderr",
     "output_type": "stream",
     "text": [
      "100%|██████████| 9983/9983 [15:08<00:00, 10.99it/s]\n"
     ]
    }
   ],
   "source": [
    "X=[]\n",
    "for doc in tqdm(df['review'].values):\n",
    "    X.append(document_vector(doc))"
   ]
  },
  {
   "cell_type": "code",
   "execution_count": 148,
   "id": "24710500",
   "metadata": {},
   "outputs": [],
   "source": [
    "X=np.array(X)"
   ]
  },
  {
   "cell_type": "code",
   "execution_count": 149,
   "id": "aeb30341",
   "metadata": {},
   "outputs": [
    {
     "data": {
      "text/plain": [
       "(9983, 100)"
      ]
     },
     "execution_count": 149,
     "metadata": {},
     "output_type": "execute_result"
    }
   ],
   "source": [
    "X.shape #there are 9983 reviews, hence 9983 vectors, each of 100 dimensions"
   ]
  },
  {
   "cell_type": "code",
   "execution_count": 151,
   "id": "cf514505",
   "metadata": {},
   "outputs": [],
   "source": [
    "from sklearn.preprocessing import LabelEncoder"
   ]
  },
  {
   "cell_type": "code",
   "execution_count": 152,
   "id": "b1b3395c",
   "metadata": {},
   "outputs": [],
   "source": [
    "y=encoder.fit_transform(df['sentiment'])"
   ]
  },
  {
   "cell_type": "code",
   "execution_count": 153,
   "id": "ac91cf4d",
   "metadata": {},
   "outputs": [
    {
     "data": {
      "text/plain": [
       "array([1, 1, 1, ..., 0, 0, 1])"
      ]
     },
     "execution_count": 153,
     "metadata": {},
     "output_type": "execute_result"
    }
   ],
   "source": [
    "y"
   ]
  },
  {
   "cell_type": "code",
   "execution_count": 154,
   "id": "335c1d96",
   "metadata": {},
   "outputs": [],
   "source": [
    "from sklearn.model_selection import train_test_split\n",
    "X_train,X_test,y_train,y_test=train_test_split(X,y,test_size=0.2,random_state=1)"
   ]
  },
  {
   "cell_type": "code",
   "execution_count": 155,
   "id": "bb841eda",
   "metadata": {},
   "outputs": [],
   "source": [
    "from sklearn.ensemble import RandomForestClassifier\n",
    "from sklearn.metrics import accuracy_score"
   ]
  },
  {
   "cell_type": "code",
   "execution_count": 156,
   "id": "43ef184c",
   "metadata": {},
   "outputs": [
    {
     "data": {
      "text/plain": [
       "0.7696544817225839"
      ]
     },
     "execution_count": 156,
     "metadata": {},
     "output_type": "execute_result"
    }
   ],
   "source": [
    "rf=RandomForestClassifier()\n",
    "rf.fit(X_train,y_train)\n",
    "y_pred=rf.predict(X_test)\n",
    "accuracy_score(y_test,y_pred)"
   ]
  },
  {
   "cell_type": "code",
   "execution_count": null,
   "id": "5a175899",
   "metadata": {},
   "outputs": [],
   "source": []
  },
  {
   "cell_type": "code",
   "execution_count": null,
   "id": "e4b3f851",
   "metadata": {},
   "outputs": [],
   "source": []
  },
  {
   "cell_type": "code",
   "execution_count": null,
   "id": "90342e0f",
   "metadata": {},
   "outputs": [],
   "source": []
  },
  {
   "cell_type": "code",
   "execution_count": null,
   "id": "6f14cb04",
   "metadata": {},
   "outputs": [],
   "source": []
  }
 ],
 "metadata": {
  "kernelspec": {
   "display_name": "Python 3",
   "language": "python",
   "name": "python3"
  },
  "language_info": {
   "codemirror_mode": {
    "name": "ipython",
    "version": 3
   },
   "file_extension": ".py",
   "mimetype": "text/x-python",
   "name": "python",
   "nbconvert_exporter": "python",
   "pygments_lexer": "ipython3",
   "version": "3.8.8"
  }
 },
 "nbformat": 4,
 "nbformat_minor": 5
}
