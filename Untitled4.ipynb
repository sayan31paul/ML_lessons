{
 "cells": [
  {
   "cell_type": "code",
   "execution_count": 1,
   "id": "0b710c60",
   "metadata": {},
   "outputs": [
    {
     "name": "stdout",
     "output_type": "stream",
     "text": [
      "2\n",
      "1.1\n",
      "1.1\n",
      "1.1\n",
      "1.1\n"
     ]
    },
    {
     "data": {
      "text/plain": [
       "0.0"
      ]
     },
     "execution_count": 1,
     "metadata": {},
     "output_type": "execute_result"
    }
   ],
   "source": [
    "import numpy as np\n",
    "N=int(input())\n",
    "c_list=[]\n",
    "for i in range(N):\n",
    "    new_list=[]\n",
    "    for j in range(N):\n",
    "        inp=float(input())\n",
    "        new_list.append(inp)\n",
    "    c_list.append(new_list)\n",
    "np.linalg.det(c_list)"
   ]
  },
  {
   "cell_type": "code",
   "execution_count": 15,
   "id": "82a539f8",
   "metadata": {},
   "outputs": [
    {
     "name": "stdout",
     "output_type": "stream",
     "text": [
      "2\n",
      "1.1 1.1\n",
      "1.1 1.2\n"
     ]
    },
    {
     "data": {
      "text/plain": [
       "0.10999999999999982"
      ]
     },
     "execution_count": 15,
     "metadata": {},
     "output_type": "execute_result"
    }
   ],
   "source": [
    "import numpy as np\n",
    "N=int(input())\n",
    "c_list=[]\n",
    "for i in range(N):\n",
    "    #new_list=[]\n",
    "    #for j in range(N):\n",
    "    inp=input()\n",
    "    c_list.append([float(i) for i in inp.split(\" \")])\n",
    "    #c_list.append(new_list)\n",
    "np.linalg.det(c_list)"
   ]
  },
  {
   "cell_type": "code",
   "execution_count": 8,
   "id": "bb0a5f6a",
   "metadata": {},
   "outputs": [
    {
     "name": "stdout",
     "output_type": "stream",
     "text": [
      "[<generator object <genexpr> at 0x000001D3DB9A9AC0>, <generator object <genexpr> at 0x000001D3DB9A9A50>]\n"
     ]
    }
   ],
   "source": [
    "print(c_list)"
   ]
  },
  {
   "cell_type": "code",
   "execution_count": 11,
   "id": "acef1f19",
   "metadata": {},
   "outputs": [
    {
     "data": {
      "text/plain": [
       "[20.0, 30.0]"
      ]
     },
     "execution_count": 11,
     "metadata": {},
     "output_type": "execute_result"
    }
   ],
   "source": [
    "[float(i) for i in \"20 30\".split(\" \")]"
   ]
  },
  {
   "cell_type": "code",
   "execution_count": 37,
   "id": "aa504773",
   "metadata": {},
   "outputs": [
    {
     "name": "stdout",
     "output_type": "stream",
     "text": [
      "12 25 663 6523\n",
      "{25, 6523, 12, 663}\n"
     ]
    }
   ],
   "source": [
    "while True:\n",
    "    inp=input()\n",
    "    if 0<len(inp.split(\" \"))<501:\n",
    "        \n",
    "        l=[int(i) for i in inp.split(\" \")]\n",
    "        break\n",
    "        \n",
    "A = set(l)\n",
    "print(A)"
   ]
  },
  {
   "cell_type": "code",
   "execution_count": 24,
   "id": "32a31b98",
   "metadata": {},
   "outputs": [
    {
     "name": "stdout",
     "output_type": "stream",
     "text": [
      "5\n"
     ]
    }
   ],
   "source": [
    "while True:\n",
    "    N=int(input())\n",
    "    if 0<N<21:\n",
    "        break\n",
    "    else:\n",
    "        continue\n"
   ]
  },
  {
   "cell_type": "code",
   "execution_count": 31,
   "id": "a635435d",
   "metadata": {},
   "outputs": [
    {
     "name": "stdout",
     "output_type": "stream",
     "text": [
      "12 45\n",
      "78 89\n",
      "45\n",
      "23\n",
      "23 14\n"
     ]
    }
   ],
   "source": [
    "subset_list=[]\n",
    "for i in range(N):\n",
    "    while True:\n",
    "        inp_s=input()\n",
    "        if 0<len(inp_s.split(\" \"))<101:\n",
    "            subset_list.append(set([int(k) for k in inp_s.split(\" \")]))\n",
    "            break\n",
    "        else:\n",
    "            continue"
   ]
  },
  {
   "cell_type": "code",
   "execution_count": 32,
   "id": "79aadf89",
   "metadata": {},
   "outputs": [
    {
     "data": {
      "text/plain": [
       "[{12, 45}, {78, 89}, {45}, {23}, {14, 23}]"
      ]
     },
     "execution_count": 32,
     "metadata": {},
     "output_type": "execute_result"
    }
   ],
   "source": [
    "subset_list"
   ]
  },
  {
   "cell_type": "code",
   "execution_count": 34,
   "id": "59177011",
   "metadata": {},
   "outputs": [],
   "source": [
    "union_set=subset_list[0]\n",
    "for i in subset_list[1:]:\n",
    "    union_set = union_set.union(i)"
   ]
  },
  {
   "cell_type": "code",
   "execution_count": 35,
   "id": "a35c3358",
   "metadata": {},
   "outputs": [
    {
     "data": {
      "text/plain": [
       "{12, 14, 23, 45, 78, 89}"
      ]
     },
     "execution_count": 35,
     "metadata": {},
     "output_type": "execute_result"
    }
   ],
   "source": [
    "union_set"
   ]
  },
  {
   "cell_type": "code",
   "execution_count": null,
   "id": "125e67b1",
   "metadata": {},
   "outputs": [],
   "source": [
    "if A.issuperset(union_set)==True:\n",
    "    if len(A) > len(union_set):\n",
    "        print(True)\n",
    "    else:\n",
    "        print(False)\n",
    "else:\n",
    "    print(False)"
   ]
  },
  {
   "cell_type": "code",
   "execution_count": 44,
   "id": "b57f62e5",
   "metadata": {},
   "outputs": [
    {
     "data": {
      "text/plain": [
       "['83',\n",
       " '47',\n",
       " '85',\n",
       " '21',\n",
       " '49',\n",
       " '62',\n",
       " '95',\n",
       " '96',\n",
       " '73',\n",
       " '6',\n",
       " '97',\n",
       " '49',\n",
       " '91',\n",
       " '90',\n",
       " '56',\n",
       " '55',\n",
       " '70',\n",
       " '87',\n",
       " '55',\n",
       " '78',\n",
       " '11',\n",
       " '50',\n",
       " '6',\n",
       " '50',\n",
       " '66',\n",
       " '81',\n",
       " '45',\n",
       " '89',\n",
       " '31',\n",
       " '97',\n",
       " '41',\n",
       " '1',\n",
       " '86',\n",
       " '85',\n",
       " '2',\n",
       " '80',\n",
       " '88',\n",
       " '60',\n",
       " '49',\n",
       " '36',\n",
       " '41',\n",
       " '50',\n",
       " '98',\n",
       " '86',\n",
       " '84',\n",
       " '5',\n",
       " '94',\n",
       " '39',\n",
       " '52',\n",
       " '59',\n",
       " '69',\n",
       " '10',\n",
       " '27',\n",
       " '2',\n",
       " '14',\n",
       " '51',\n",
       " '54',\n",
       " '48',\n",
       " '17',\n",
       " '22',\n",
       " '45',\n",
       " '70',\n",
       " '44',\n",
       " '10',\n",
       " '98',\n",
       " '28',\n",
       " '55',\n",
       " '57',\n",
       " '85',\n",
       " '29',\n",
       " '15',\n",
       " '65',\n",
       " '51',\n",
       " '22',\n",
       " '64',\n",
       " '88',\n",
       " '56',\n",
       " '9',\n",
       " '78',\n",
       " '17',\n",
       " '55',\n",
       " '67',\n",
       " '21',\n",
       " '85',\n",
       " '51',\n",
       " '14',\n",
       " '98',\n",
       " '63',\n",
       " '83',\n",
       " '78',\n",
       " '42',\n",
       " '5',\n",
       " '71',\n",
       " '41',\n",
       " '95',\n",
       " '74',\n",
       " '4',\n",
       " '11',\n",
       " '81',\n",
       " '69',\n",
       " '86',\n",
       " '11',\n",
       " '81',\n",
       " '33',\n",
       " '21',\n",
       " '89',\n",
       " '14',\n",
       " '45',\n",
       " '99',\n",
       " '61',\n",
       " '92',\n",
       " '66',\n",
       " '68',\n",
       " '76',\n",
       " '9',\n",
       " '57',\n",
       " '64',\n",
       " '56',\n",
       " '51',\n",
       " '85',\n",
       " '32',\n",
       " '77',\n",
       " '17',\n",
       " '4',\n",
       " '53',\n",
       " '22',\n",
       " '79',\n",
       " '26',\n",
       " '75',\n",
       " '27',\n",
       " '92',\n",
       " '40',\n",
       " '0',\n",
       " '27',\n",
       " '37',\n",
       " '20',\n",
       " '42',\n",
       " '95',\n",
       " '6',\n",
       " '16',\n",
       " '68',\n",
       " '89',\n",
       " '54',\n",
       " '97',\n",
       " '3',\n",
       " '11',\n",
       " '20',\n",
       " '48',\n",
       " '80',\n",
       " '42',\n",
       " '45',\n",
       " '51',\n",
       " '63',\n",
       " '84',\n",
       " '43',\n",
       " '32',\n",
       " '35',\n",
       " '71',\n",
       " '14',\n",
       " '36',\n",
       " '8',\n",
       " '44',\n",
       " '30',\n",
       " '38',\n",
       " '7',\n",
       " '90',\n",
       " '23',\n",
       " '37',\n",
       " '54',\n",
       " '63',\n",
       " '10',\n",
       " '24',\n",
       " '1',\n",
       " '50',\n",
       " '65',\n",
       " '74',\n",
       " '30',\n",
       " '66',\n",
       " '44',\n",
       " '69',\n",
       " '98',\n",
       " '21',\n",
       " '17',\n",
       " '88',\n",
       " '82',\n",
       " '39',\n",
       " '66',\n",
       " '90',\n",
       " '80',\n",
       " '78',\n",
       " '21',\n",
       " '2',\n",
       " '11',\n",
       " '8',\n",
       " '0',\n",
       " '67',\n",
       " '70',\n",
       " '90',\n",
       " '56',\n",
       " '22',\n",
       " '10',\n",
       " '32',\n",
       " '65',\n",
       " '59',\n",
       " '30',\n",
       " '95',\n",
       " '77',\n",
       " '83',\n",
       " '91',\n",
       " '89',\n",
       " '94',\n",
       " '25',\n",
       " '45',\n",
       " '16',\n",
       " '3',\n",
       " '41',\n",
       " '30',\n",
       " '53',\n",
       " '96',\n",
       " '85',\n",
       " '40',\n",
       " '13',\n",
       " '95',\n",
       " '89',\n",
       " '1',\n",
       " '10',\n",
       " '1',\n",
       " '86',\n",
       " '86',\n",
       " '53',\n",
       " '0',\n",
       " '53',\n",
       " '39',\n",
       " '2',\n",
       " '99',\n",
       " '13',\n",
       " '36',\n",
       " '96',\n",
       " '68',\n",
       " '75',\n",
       " '69',\n",
       " '98',\n",
       " '88',\n",
       " '20',\n",
       " '41',\n",
       " '94',\n",
       " '72',\n",
       " '73',\n",
       " '5',\n",
       " '65',\n",
       " '79',\n",
       " '42',\n",
       " '96',\n",
       " '81',\n",
       " '76',\n",
       " '95',\n",
       " '15',\n",
       " '99',\n",
       " '51',\n",
       " '15',\n",
       " '36',\n",
       " '31',\n",
       " '50',\n",
       " '10',\n",
       " '50',\n",
       " '2',\n",
       " '2',\n",
       " '37',\n",
       " '63',\n",
       " '75',\n",
       " '19',\n",
       " '89',\n",
       " '90',\n",
       " '32',\n",
       " '27',\n",
       " '1',\n",
       " '40',\n",
       " '28',\n",
       " '42',\n",
       " '44',\n",
       " '30',\n",
       " '3',\n",
       " '66',\n",
       " '66',\n",
       " '18',\n",
       " '53',\n",
       " '14',\n",
       " '0',\n",
       " '43',\n",
       " '60',\n",
       " '15',\n",
       " '79',\n",
       " '43',\n",
       " '55',\n",
       " '92',\n",
       " '52',\n",
       " '72',\n",
       " '6',\n",
       " '79',\n",
       " '23',\n",
       " '17',\n",
       " '9',\n",
       " '66',\n",
       " '21',\n",
       " '4',\n",
       " '1',\n",
       " '37',\n",
       " '86',\n",
       " '39',\n",
       " '7',\n",
       " '57',\n",
       " '72',\n",
       " '72',\n",
       " '55',\n",
       " '31',\n",
       " '46',\n",
       " '52',\n",
       " '46',\n",
       " '79',\n",
       " '19',\n",
       " '44',\n",
       " '41',\n",
       " '65',\n",
       " '9',\n",
       " '69',\n",
       " '3',\n",
       " '11',\n",
       " '9',\n",
       " '44',\n",
       " '52',\n",
       " '26',\n",
       " '79',\n",
       " '11',\n",
       " '50',\n",
       " '99',\n",
       " '38',\n",
       " '8',\n",
       " '72',\n",
       " '84',\n",
       " '40',\n",
       " '15',\n",
       " '48',\n",
       " '75',\n",
       " '64',\n",
       " '57',\n",
       " '9',\n",
       " '0',\n",
       " '87',\n",
       " '34',\n",
       " '4',\n",
       " '18',\n",
       " '93',\n",
       " '72',\n",
       " '87',\n",
       " '49',\n",
       " '61',\n",
       " '77',\n",
       " '96',\n",
       " '24',\n",
       " '33',\n",
       " '88',\n",
       " '65',\n",
       " '76',\n",
       " '97',\n",
       " '32',\n",
       " '27',\n",
       " '34',\n",
       " '74',\n",
       " '11',\n",
       " '27',\n",
       " '10',\n",
       " '39',\n",
       " '54',\n",
       " '69',\n",
       " '59',\n",
       " '79',\n",
       " '70',\n",
       " '72',\n",
       " '26',\n",
       " '97',\n",
       " '86',\n",
       " '20',\n",
       " '6',\n",
       " '74',\n",
       " '0',\n",
       " '2',\n",
       " '24',\n",
       " '71',\n",
       " '2',\n",
       " '25',\n",
       " '42',\n",
       " '55',\n",
       " '92',\n",
       " '53',\n",
       " '99',\n",
       " '59',\n",
       " '40',\n",
       " '1',\n",
       " '67',\n",
       " '86',\n",
       " '23',\n",
       " '38',\n",
       " '49',\n",
       " '24',\n",
       " '60',\n",
       " '3',\n",
       " '59',\n",
       " '45',\n",
       " '74',\n",
       " '42',\n",
       " '76',\n",
       " '41',\n",
       " '5',\n",
       " '20',\n",
       " '19',\n",
       " '66',\n",
       " '63',\n",
       " '81',\n",
       " '98',\n",
       " '85',\n",
       " '71',\n",
       " '10',\n",
       " '4',\n",
       " '52',\n",
       " '80',\n",
       " '94',\n",
       " '25',\n",
       " '54',\n",
       " '58',\n",
       " '24',\n",
       " '13',\n",
       " '39',\n",
       " '48',\n",
       " '51',\n",
       " '58',\n",
       " '25',\n",
       " '21',\n",
       " '70',\n",
       " '72',\n",
       " '4',\n",
       " '60',\n",
       " '11',\n",
       " '46',\n",
       " '53',\n",
       " '60',\n",
       " '9',\n",
       " '78',\n",
       " '97',\n",
       " '57',\n",
       " '68',\n",
       " '63',\n",
       " '97',\n",
       " '80',\n",
       " '56',\n",
       " '92',\n",
       " '70',\n",
       " '55',\n",
       " '23',\n",
       " '40',\n",
       " '14',\n",
       " '95',\n",
       " '45',\n",
       " '60',\n",
       " '47',\n",
       " '6',\n",
       " '7',\n",
       " '32',\n",
       " '10',\n",
       " '31',\n",
       " '17',\n",
       " '79',\n",
       " '4',\n",
       " '75',\n",
       " '64',\n",
       " '74',\n",
       " '16',\n",
       " '1',\n",
       " '2',\n",
       " '84',\n",
       " '82',\n",
       " '7',\n",
       " '38',\n",
       " '83',\n",
       " '65',\n",
       " '26',\n",
       " '22',\n",
       " '26',\n",
       " '12',\n",
       " '48',\n",
       " '8',\n",
       " '44',\n",
       " '20',\n",
       " '33',\n",
       " '83',\n",
       " '54',\n",
       " '34',\n",
       " '19',\n",
       " '57',\n",
       " '17',\n",
       " '62']"
      ]
     },
     "execution_count": 44,
     "metadata": {},
     "output_type": "execute_result"
    }
   ],
   "source": [
    "\"83 47 85 21 49 62 95 96 73 6 97 49 91 90 56 55 70 87 55 78 11 50 6 50 66 81 45 89 31 97 41 1 86 85 2 80 88 60 49 36 41 50 98 86 84 5 94 39 52 59 69 10 27 2 14 51 54 48 17 22 45 70 44 10 98 28 55 57 85 29 15 65 51 22 64 88 56 9 78 17 55 67 21 85 51 14 98 63 83 78 42 5 71 41 95 74 4 11 81 69 86 11 81 33 21 89 14 45 99 61 92 66 68 76 9 57 64 56 51 85 32 77 17 4 53 22 79 26 75 27 92 40 0 27 37 20 42 95 6 16 68 89 54 97 3 11 20 48 80 42 45 51 63 84 43 32 35 71 14 36 8 44 30 38 7 90 23 37 54 63 10 24 1 50 65 74 30 66 44 69 98 21 17 88 82 39 66 90 80 78 21 2 11 8 0 67 70 90 56 22 10 32 65 59 30 95 77 83 91 89 94 25 45 16 3 41 30 53 96 85 40 13 95 89 1 10 1 86 86 53 0 53 39 2 99 13 36 96 68 75 69 98 88 20 41 94 72 73 5 65 79 42 96 81 76 95 15 99 51 15 36 31 50 10 50 2 2 37 63 75 19 89 90 32 27 1 40 28 42 44 30 3 66 66 18 53 14 0 43 60 15 79 43 55 92 52 72 6 79 23 17 9 66 21 4 1 37 86 39 7 57 72 72 55 31 46 52 46 79 19 44 41 65 9 69 3 11 9 44 52 26 79 11 50 99 38 8 72 84 40 15 48 75 64 57 9 0 87 34 4 18 93 72 87 49 61 77 96 24 33 88 65 76 97 32 27 34 74 11 27 10 39 54 69 59 79 70 72 26 97 86 20 6 74 0 2 24 71 2 25 42 55 92 53 99 59 40 1 67 86 23 38 49 24 60 3 59 45 74 42 76 41 5 20 19 66 63 81 98 85 71 10 4 52 80 94 25 54 58 24 13 39 48 51 58 25 21 70 72 4 60 11 46 53 60 9 78 97 57 68 63 97 80 56 92 70 55 23 40 14 95 45 60 47 6 7 32 10 31 17 79 4 75 64 74 16 1 2 84 82 7 38 83 65 26 22 26 12 48 8 44 20 33 83 54 34 19 57 17 62\".split(\" \")"
   ]
  },
  {
   "cell_type": "code",
   "execution_count": 45,
   "id": "e49bd41c",
   "metadata": {},
   "outputs": [
    {
     "name": "stdout",
     "output_type": "stream",
     "text": [
      "Sayan\n",
      "Paul\n",
      "Hello Sayan Paul! You just delved into python\n"
     ]
    }
   ],
   "source": [
    "def print_full_name(first, last):\n",
    "    # Write your code here\n",
    "    print (\"Hello \"+first+\" \"+last+\"! \"+\"You just delved into python\")\n",
    "if __name__ == '__main__':\n",
    "    first_name = input()\n",
    "    last_name = input()\n",
    "    print_full_name(first_name, last_name)"
   ]
  },
  {
   "cell_type": "code",
   "execution_count": 47,
   "id": "29ac8b42",
   "metadata": {},
   "outputs": [
    {
     "name": "stdout",
     "output_type": "stream",
     "text": [
      "abracadabra\n",
      "5 k\n"
     ]
    },
    {
     "ename": "IndexError",
     "evalue": "list assignment index out of range",
     "output_type": "error",
     "traceback": [
      "\u001b[1;31m---------------------------------------------------------------------------\u001b[0m",
      "\u001b[1;31mIndexError\u001b[0m                                Traceback (most recent call last)",
      "\u001b[1;32m<ipython-input-47-50474d22d67a>\u001b[0m in \u001b[0;36m<module>\u001b[1;34m\u001b[0m\n\u001b[0;32m      6\u001b[0m     \u001b[0ms\u001b[0m \u001b[1;33m=\u001b[0m \u001b[0minput\u001b[0m\u001b[1;33m(\u001b[0m\u001b[1;33m)\u001b[0m\u001b[1;33m\u001b[0m\u001b[1;33m\u001b[0m\u001b[0m\n\u001b[0;32m      7\u001b[0m     \u001b[0mi\u001b[0m\u001b[1;33m,\u001b[0m \u001b[0mc\u001b[0m \u001b[1;33m=\u001b[0m \u001b[0minput\u001b[0m\u001b[1;33m(\u001b[0m\u001b[1;33m)\u001b[0m\u001b[1;33m.\u001b[0m\u001b[0msplit\u001b[0m\u001b[1;33m(\u001b[0m\u001b[1;33m)\u001b[0m\u001b[1;33m\u001b[0m\u001b[1;33m\u001b[0m\u001b[0m\n\u001b[1;32m----> 8\u001b[1;33m     \u001b[0ms_new\u001b[0m \u001b[1;33m=\u001b[0m \u001b[0mmutate_string\u001b[0m\u001b[1;33m(\u001b[0m\u001b[0ms\u001b[0m\u001b[1;33m,\u001b[0m \u001b[0mint\u001b[0m\u001b[1;33m(\u001b[0m\u001b[0mi\u001b[0m\u001b[1;33m)\u001b[0m\u001b[1;33m,\u001b[0m \u001b[0mc\u001b[0m\u001b[1;33m)\u001b[0m\u001b[1;33m\u001b[0m\u001b[1;33m\u001b[0m\u001b[0m\n\u001b[0m\u001b[0;32m      9\u001b[0m     \u001b[0mprint\u001b[0m\u001b[1;33m(\u001b[0m\u001b[0ms_new\u001b[0m\u001b[1;33m)\u001b[0m\u001b[1;33m\u001b[0m\u001b[1;33m\u001b[0m\u001b[0m\n",
      "\u001b[1;32m<ipython-input-47-50474d22d67a>\u001b[0m in \u001b[0;36mmutate_string\u001b[1;34m(string, position, character)\u001b[0m\n\u001b[0;32m      1\u001b[0m \u001b[1;32mdef\u001b[0m \u001b[0mmutate_string\u001b[0m\u001b[1;33m(\u001b[0m\u001b[0mstring\u001b[0m\u001b[1;33m,\u001b[0m \u001b[0mposition\u001b[0m\u001b[1;33m,\u001b[0m \u001b[0mcharacter\u001b[0m\u001b[1;33m)\u001b[0m\u001b[1;33m:\u001b[0m\u001b[1;33m\u001b[0m\u001b[1;33m\u001b[0m\u001b[0m\n\u001b[0;32m      2\u001b[0m     \u001b[0ma\u001b[0m \u001b[1;33m=\u001b[0m \u001b[0mstring\u001b[0m\u001b[1;33m.\u001b[0m\u001b[0msplit\u001b[0m\u001b[1;33m(\u001b[0m\u001b[1;33m)\u001b[0m\u001b[1;33m\u001b[0m\u001b[1;33m\u001b[0m\u001b[0m\n\u001b[1;32m----> 3\u001b[1;33m     \u001b[0ma\u001b[0m\u001b[1;33m[\u001b[0m\u001b[0mposition\u001b[0m\u001b[1;33m]\u001b[0m\u001b[1;33m=\u001b[0m\u001b[0mcharacter\u001b[0m\u001b[1;33m\u001b[0m\u001b[1;33m\u001b[0m\u001b[0m\n\u001b[0m\u001b[0;32m      4\u001b[0m     \u001b[1;32mreturn\u001b[0m \u001b[1;34m\" \"\u001b[0m\u001b[1;33m.\u001b[0m\u001b[0mjoin\u001b[0m\u001b[1;33m(\u001b[0m\u001b[0ma\u001b[0m\u001b[1;33m)\u001b[0m\u001b[1;33m\u001b[0m\u001b[1;33m\u001b[0m\u001b[0m\n\u001b[0;32m      5\u001b[0m \u001b[1;32mif\u001b[0m \u001b[0m__name__\u001b[0m \u001b[1;33m==\u001b[0m \u001b[1;34m'__main__'\u001b[0m\u001b[1;33m:\u001b[0m\u001b[1;33m\u001b[0m\u001b[1;33m\u001b[0m\u001b[0m\n",
      "\u001b[1;31mIndexError\u001b[0m: list assignment index out of range"
     ]
    }
   ],
   "source": [
    "def mutate_string(string, position, character):\n",
    "    a = string.split()\n",
    "    a[position]=character\n",
    "    return \" \".join(a)\n",
    "if __name__ == '__main__':\n",
    "    s = input()\n",
    "    i, c = input().split()\n",
    "    s_new = mutate_string(s, int(i), c)\n",
    "    print(s_new)"
   ]
  },
  {
   "cell_type": "code",
   "execution_count": 48,
   "id": "1bb16991",
   "metadata": {},
   "outputs": [
    {
     "data": {
      "text/plain": [
       "['shfb']"
      ]
     },
     "execution_count": 48,
     "metadata": {},
     "output_type": "execute_result"
    }
   ],
   "source": [
    "a=\"shfb\"\n",
    "a.split()"
   ]
  },
  {
   "cell_type": "code",
   "execution_count": 49,
   "id": "56e3b455",
   "metadata": {},
   "outputs": [
    {
     "data": {
      "text/plain": [
       "['s', 'h', 'f', 'b']"
      ]
     },
     "execution_count": 49,
     "metadata": {},
     "output_type": "execute_result"
    }
   ],
   "source": [
    "list(a)"
   ]
  },
  {
   "cell_type": "code",
   "execution_count": 50,
   "id": "d8885126",
   "metadata": {},
   "outputs": [
    {
     "data": {
      "text/plain": [
       "'shfb'"
      ]
     },
     "execution_count": 50,
     "metadata": {},
     "output_type": "execute_result"
    }
   ],
   "source": [
    "a.strip()"
   ]
  },
  {
   "cell_type": "code",
   "execution_count": 61,
   "id": "633f6618",
   "metadata": {},
   "outputs": [
    {
     "name": "stdout",
     "output_type": "stream",
     "text": [
      "ABCDCDC\n",
      "CDC\n",
      "2\n"
     ]
    }
   ],
   "source": [
    "def count_substring(string, sub_string):\n",
    "    a=len(string)\n",
    "    b=len(sub_string)\n",
    "    ckeck_len=a-b+1\n",
    "    count = 0\n",
    "    for i in range(0,a-b+1):\n",
    "        if string[i] == sub_string[0]:\n",
    "            check_str = string[i:i+b]\n",
    "            if check_str == sub_string:\n",
    "                count = count + 1\n",
    "            else:\n",
    "                continue\n",
    "        else:\n",
    "            continue\n",
    "    return count\n",
    "\n",
    "if __name__ == '__main__':\n",
    "    string = input().strip()\n",
    "    sub_string = input().strip()\n",
    "    \n",
    "    count = count_substring(string, sub_string)\n",
    "    print(count)"
   ]
  },
  {
   "cell_type": "code",
   "execution_count": 56,
   "id": "706cea9c",
   "metadata": {},
   "outputs": [],
   "source": [
    "string=\"ABCDCDC\"\n",
    "sub_string=\"CDC\""
   ]
  },
  {
   "cell_type": "code",
   "execution_count": 58,
   "id": "b5b5c57f",
   "metadata": {},
   "outputs": [
    {
     "data": {
      "text/plain": [
       "'C'"
      ]
     },
     "execution_count": 58,
     "metadata": {},
     "output_type": "execute_result"
    }
   ],
   "source": [
    "string[2]"
   ]
  },
  {
   "cell_type": "code",
   "execution_count": 60,
   "id": "29b8089a",
   "metadata": {},
   "outputs": [
    {
     "data": {
      "text/plain": [
       "'D'"
      ]
     },
     "execution_count": 60,
     "metadata": {},
     "output_type": "execute_result"
    }
   ],
   "source": [
    "sub_string[1]"
   ]
  },
  {
   "cell_type": "code",
   "execution_count": 69,
   "id": "9fea26a0",
   "metadata": {},
   "outputs": [
    {
     "name": "stdout",
     "output_type": "stream",
     "text": [
      "qA2\n",
      "True\n",
      "True\n",
      "True\n",
      "True\n",
      "True\n"
     ]
    }
   ],
   "source": [
    "if __name__ == '__main__':\n",
    "    s = input()\n",
    "    if s.isalnum() == True:\n",
    "        print(\"True\")\n",
    "    else:\n",
    "        print(\"False\")\n",
    "        \n",
    "    if s.isalnum() == True:\n",
    "        print(\"True\")\n",
    "    else:\n",
    "        print(\"False\")\n",
    "        \n",
    "    if s.isalnum() == True:\n",
    "        print(\"True\")\n",
    "    else:\n",
    "        print(\"False\")\n",
    "        \n",
    "    low=[]\n",
    "    \n",
    "    for i in list(s):\n",
    "        if i.islower() == True:\n",
    "            low.append(True)\n",
    "            break\n",
    "        else:\n",
    "            low.append(False)\n",
    "    \n",
    "    if True in low:\n",
    "        print(\"True\")\n",
    "    else:\n",
    "        print(\"False\")\n",
    "        \n",
    "    high=[]\n",
    "    for i in list(s):\n",
    "        if i.isupper() == True:\n",
    "            high.append(True)\n",
    "            break\n",
    "        else:\n",
    "            high.append(False)\n",
    "    \n",
    "    if True in high:\n",
    "        print(\"True\")\n",
    "    else:\n",
    "        print(\"False\")\n",
    "        \n",
    "            \n",
    "    \n",
    "            \n",
    "    \n",
    "        \n",
    "        "
   ]
  },
  {
   "cell_type": "code",
   "execution_count": 67,
   "id": "ca5cfda9",
   "metadata": {},
   "outputs": [
    {
     "name": "stdout",
     "output_type": "stream",
     "text": [
      "False\n"
     ]
    }
   ],
   "source": [
    "high=[]\n",
    "for i in list(\"qA2\"):\n",
    "    if i.isupper() == True:\n",
    "        high.append(\"True\")\n",
    "        break\n",
    "    else:\n",
    "        high.append(\"False\")\n",
    "    \n",
    "if True in high:\n",
    "    print(\"True\")\n",
    "else:\n",
    "    print(\"False\")"
   ]
  },
  {
   "cell_type": "code",
   "execution_count": 68,
   "id": "6bc85397",
   "metadata": {},
   "outputs": [
    {
     "data": {
      "text/plain": [
       "['False', 'True']"
      ]
     },
     "execution_count": 68,
     "metadata": {},
     "output_type": "execute_result"
    }
   ],
   "source": [
    "high"
   ]
  },
  {
   "cell_type": "code",
   "execution_count": 76,
   "id": "ed94c663",
   "metadata": {},
   "outputs": [
    {
     "data": {
      "text/plain": [
       "['I', ' ', 'a', 'm', ' ', 'S', 'a', 'y', 'a', 'n']"
      ]
     },
     "execution_count": 76,
     "metadata": {},
     "output_type": "execute_result"
    }
   ],
   "source": [
    "a=list(\"I am Sayan\")\n",
    "a"
   ]
  },
  {
   "cell_type": "code",
   "execution_count": 77,
   "id": "9a608a8f",
   "metadata": {},
   "outputs": [
    {
     "data": {
      "text/plain": [
       "'I am Sayan'"
      ]
     },
     "execution_count": 77,
     "metadata": {},
     "output_type": "execute_result"
    }
   ],
   "source": [
    "''.join(a)"
   ]
  },
  {
   "cell_type": "code",
   "execution_count": 82,
   "id": "a6e10e40",
   "metadata": {},
   "outputs": [
    {
     "ename": "NameError",
     "evalue": "name 'pop' is not defined",
     "output_type": "error",
     "traceback": [
      "\u001b[1;31m---------------------------------------------------------------------------\u001b[0m",
      "\u001b[1;31mNameError\u001b[0m                                 Traceback (most recent call last)",
      "\u001b[1;32m<ipython-input-82-b62c54048930>\u001b[0m in \u001b[0;36m<module>\u001b[1;34m\u001b[0m\n\u001b[1;32m----> 1\u001b[1;33m \u001b[0mb\u001b[0m\u001b[1;33m=\u001b[0m\u001b[1;33m[\u001b[0m\u001b[0mpop\u001b[0m\u001b[1;33m(\u001b[0m\u001b[0mi\u001b[0m\u001b[1;33m)\u001b[0m \u001b[1;32mfor\u001b[0m \u001b[0mi\u001b[0m \u001b[1;32min\u001b[0m \u001b[0ma\u001b[0m \u001b[1;32mif\u001b[0m \u001b[0mi\u001b[0m\u001b[1;33m==\u001b[0m\u001b[1;34m' '\u001b[0m \u001b[1;33m]\u001b[0m\u001b[1;33m\u001b[0m\u001b[1;33m\u001b[0m\u001b[0m\n\u001b[0m",
      "\u001b[1;32m<ipython-input-82-b62c54048930>\u001b[0m in \u001b[0;36m<listcomp>\u001b[1;34m(.0)\u001b[0m\n\u001b[1;32m----> 1\u001b[1;33m \u001b[0mb\u001b[0m\u001b[1;33m=\u001b[0m\u001b[1;33m[\u001b[0m\u001b[0mpop\u001b[0m\u001b[1;33m(\u001b[0m\u001b[0mi\u001b[0m\u001b[1;33m)\u001b[0m \u001b[1;32mfor\u001b[0m \u001b[0mi\u001b[0m \u001b[1;32min\u001b[0m \u001b[0ma\u001b[0m \u001b[1;32mif\u001b[0m \u001b[0mi\u001b[0m\u001b[1;33m==\u001b[0m\u001b[1;34m' '\u001b[0m \u001b[1;33m]\u001b[0m\u001b[1;33m\u001b[0m\u001b[1;33m\u001b[0m\u001b[0m\n\u001b[0m",
      "\u001b[1;31mNameError\u001b[0m: name 'pop' is not defined"
     ]
    }
   ],
   "source": [
    "b=[pop(i) for i in a if i==' ' ]"
   ]
  },
  {
   "cell_type": "code",
   "execution_count": 85,
   "id": "ed061bd7",
   "metadata": {},
   "outputs": [],
   "source": [
    "b=list(filter(lambda x:x.isalnum()==True,a))"
   ]
  },
  {
   "cell_type": "code",
   "execution_count": 86,
   "id": "ac49bfa3",
   "metadata": {},
   "outputs": [
    {
     "data": {
      "text/plain": [
       "['I', 'a', 'm', 'S', 'a', 'y', 'a', 'n']"
      ]
     },
     "execution_count": 86,
     "metadata": {},
     "output_type": "execute_result"
    }
   ],
   "source": [
    "b"
   ]
  },
  {
   "cell_type": "code",
   "execution_count": 87,
   "id": "934b67a2",
   "metadata": {},
   "outputs": [
    {
     "data": {
      "text/plain": [
       "'IamSayan'"
      ]
     },
     "execution_count": 87,
     "metadata": {},
     "output_type": "execute_result"
    }
   ],
   "source": [
    "\"\".join(b)"
   ]
  },
  {
   "cell_type": "code",
   "execution_count": null,
   "id": "525b817a",
   "metadata": {},
   "outputs": [],
   "source": []
  },
  {
   "cell_type": "code",
   "execution_count": 89,
   "id": "bb7cd9a7",
   "metadata": {},
   "outputs": [
    {
     "data": {
      "text/plain": [
       "True"
      ]
     },
     "execution_count": 89,
     "metadata": {},
     "output_type": "execute_result"
    }
   ],
   "source": [
    "\"IamSayan\".isalnum()"
   ]
  },
  {
   "cell_type": "code",
   "execution_count": 88,
   "id": "7cc12b56",
   "metadata": {},
   "outputs": [
    {
     "data": {
      "text/plain": [
       "False"
      ]
     },
     "execution_count": 88,
     "metadata": {},
     "output_type": "execute_result"
    }
   ],
   "source": [
    "\"IamSayan4\".isalpha()"
   ]
  },
  {
   "cell_type": "code",
   "execution_count": 7,
   "id": "6051b046",
   "metadata": {},
   "outputs": [
    {
     "name": "stdout",
     "output_type": "stream",
     "text": [
      "1 2 3 4 5 6 7 89 \n"
     ]
    },
    {
     "data": {
      "text/plain": [
       "[1, 2, 3, 4, 5, 6, 7, 89]"
      ]
     },
     "execution_count": 7,
     "metadata": {},
     "output_type": "execute_result"
    }
   ],
   "source": [
    "list(map(int,input().split()))"
   ]
  },
  {
   "cell_type": "code",
   "execution_count": 11,
   "id": "688baceb",
   "metadata": {},
   "outputs": [
    {
     "data": {
      "text/plain": [
       "34"
      ]
     },
     "execution_count": 11,
     "metadata": {},
     "output_type": "execute_result"
    }
   ],
   "source": [
    "sorted([5,129,34,8])[-2]"
   ]
  },
  {
   "cell_type": "code",
   "execution_count": 20,
   "id": "7759285c",
   "metadata": {},
   "outputs": [
    {
     "name": "stdout",
     "output_type": "stream",
     "text": [
      "5\n"
     ]
    },
    {
     "ename": "KeyboardInterrupt",
     "evalue": "Interrupted by user",
     "output_type": "error",
     "traceback": [
      "\u001b[1;31m---------------------------------------------------------------------------\u001b[0m",
      "\u001b[1;31mKeyboardInterrupt\u001b[0m                         Traceback (most recent call last)",
      "\u001b[1;32m<ipython-input-20-8da15c0ffa04>\u001b[0m in \u001b[0;36m<module>\u001b[1;34m\u001b[0m\n\u001b[0;32m      4\u001b[0m     \u001b[0mstudents_name\u001b[0m\u001b[1;33m=\u001b[0m\u001b[1;33m[\u001b[0m\u001b[1;33m]\u001b[0m\u001b[1;33m\u001b[0m\u001b[1;33m\u001b[0m\u001b[0m\n\u001b[0;32m      5\u001b[0m     \u001b[1;32mfor\u001b[0m \u001b[0m_\u001b[0m \u001b[1;32min\u001b[0m \u001b[0mrange\u001b[0m\u001b[1;33m(\u001b[0m\u001b[0mint\u001b[0m\u001b[1;33m(\u001b[0m\u001b[0minput\u001b[0m\u001b[1;33m(\u001b[0m\u001b[1;33m)\u001b[0m\u001b[1;33m)\u001b[0m\u001b[1;33m)\u001b[0m\u001b[1;33m:\u001b[0m\u001b[1;33m\u001b[0m\u001b[1;33m\u001b[0m\u001b[0m\n\u001b[1;32m----> 6\u001b[1;33m         \u001b[0mname\u001b[0m \u001b[1;33m=\u001b[0m \u001b[0minput\u001b[0m\u001b[1;33m(\u001b[0m\u001b[1;33m)\u001b[0m\u001b[1;33m\u001b[0m\u001b[1;33m\u001b[0m\u001b[0m\n\u001b[0m\u001b[0;32m      7\u001b[0m         \u001b[0mscore\u001b[0m \u001b[1;33m=\u001b[0m \u001b[0mfloat\u001b[0m\u001b[1;33m(\u001b[0m\u001b[0minput\u001b[0m\u001b[1;33m(\u001b[0m\u001b[1;33m)\u001b[0m\u001b[1;33m)\u001b[0m\u001b[1;33m\u001b[0m\u001b[1;33m\u001b[0m\u001b[0m\n\u001b[0;32m      8\u001b[0m         \u001b[0mstudents\u001b[0m\u001b[1;33m.\u001b[0m\u001b[0mappend\u001b[0m\u001b[1;33m(\u001b[0m\u001b[1;33m[\u001b[0m\u001b[0mname\u001b[0m\u001b[1;33m,\u001b[0m\u001b[0mscore\u001b[0m\u001b[1;33m]\u001b[0m\u001b[1;33m)\u001b[0m\u001b[1;33m\u001b[0m\u001b[1;33m\u001b[0m\u001b[0m\n",
      "\u001b[1;32m~\\anaconda3\\lib\\site-packages\\ipykernel\\kernelbase.py\u001b[0m in \u001b[0;36mraw_input\u001b[1;34m(self, prompt)\u001b[0m\n\u001b[0;32m    858\u001b[0m                 \u001b[1;34m\"raw_input was called, but this frontend does not support input requests.\"\u001b[0m\u001b[1;33m\u001b[0m\u001b[1;33m\u001b[0m\u001b[0m\n\u001b[0;32m    859\u001b[0m             )\n\u001b[1;32m--> 860\u001b[1;33m         return self._input_request(str(prompt),\n\u001b[0m\u001b[0;32m    861\u001b[0m             \u001b[0mself\u001b[0m\u001b[1;33m.\u001b[0m\u001b[0m_parent_ident\u001b[0m\u001b[1;33m,\u001b[0m\u001b[1;33m\u001b[0m\u001b[1;33m\u001b[0m\u001b[0m\n\u001b[0;32m    862\u001b[0m             \u001b[0mself\u001b[0m\u001b[1;33m.\u001b[0m\u001b[0m_parent_header\u001b[0m\u001b[1;33m,\u001b[0m\u001b[1;33m\u001b[0m\u001b[1;33m\u001b[0m\u001b[0m\n",
      "\u001b[1;32m~\\anaconda3\\lib\\site-packages\\ipykernel\\kernelbase.py\u001b[0m in \u001b[0;36m_input_request\u001b[1;34m(self, prompt, ident, parent, password)\u001b[0m\n\u001b[0;32m    902\u001b[0m             \u001b[1;32mexcept\u001b[0m \u001b[0mKeyboardInterrupt\u001b[0m\u001b[1;33m:\u001b[0m\u001b[1;33m\u001b[0m\u001b[1;33m\u001b[0m\u001b[0m\n\u001b[0;32m    903\u001b[0m                 \u001b[1;31m# re-raise KeyboardInterrupt, to truncate traceback\u001b[0m\u001b[1;33m\u001b[0m\u001b[1;33m\u001b[0m\u001b[1;33m\u001b[0m\u001b[0m\n\u001b[1;32m--> 904\u001b[1;33m                 \u001b[1;32mraise\u001b[0m \u001b[0mKeyboardInterrupt\u001b[0m\u001b[1;33m(\u001b[0m\u001b[1;34m\"Interrupted by user\"\u001b[0m\u001b[1;33m)\u001b[0m \u001b[1;32mfrom\u001b[0m \u001b[1;32mNone\u001b[0m\u001b[1;33m\u001b[0m\u001b[1;33m\u001b[0m\u001b[0m\n\u001b[0m\u001b[0;32m    905\u001b[0m             \u001b[1;32mexcept\u001b[0m \u001b[0mException\u001b[0m \u001b[1;32mas\u001b[0m \u001b[0me\u001b[0m\u001b[1;33m:\u001b[0m\u001b[1;33m\u001b[0m\u001b[1;33m\u001b[0m\u001b[0m\n\u001b[0;32m    906\u001b[0m                 \u001b[0mself\u001b[0m\u001b[1;33m.\u001b[0m\u001b[0mlog\u001b[0m\u001b[1;33m.\u001b[0m\u001b[0mwarning\u001b[0m\u001b[1;33m(\u001b[0m\u001b[1;34m\"Invalid Message:\"\u001b[0m\u001b[1;33m,\u001b[0m \u001b[0mexc_info\u001b[0m\u001b[1;33m=\u001b[0m\u001b[1;32mTrue\u001b[0m\u001b[1;33m)\u001b[0m\u001b[1;33m\u001b[0m\u001b[1;33m\u001b[0m\u001b[0m\n",
      "\u001b[1;31mKeyboardInterrupt\u001b[0m: Interrupted by user"
     ]
    }
   ],
   "source": [
    "if __name__ == '__main__':\n",
    "    students=[]\n",
    "    students_score=[]\n",
    "    students_name=[]\n",
    "    for _ in range(int(input())):\n",
    "        name = input()\n",
    "        score = float(input())\n",
    "        students.append([name,score])\n",
    "        students_score.append(score)\n",
    "        \n",
    "    slw=list(set(sorted(students_score)))[1]\n",
    "    for i in range(len(students)):\n",
    "        if students[i][1] == slw:\n",
    "            students_name.append(students[i][0])\n",
    "    for i in sorted(students_name):\n",
    "        print(i)"
   ]
  },
  {
   "cell_type": "code",
   "execution_count": 18,
   "id": "d9a5455d",
   "metadata": {},
   "outputs": [
    {
     "data": {
      "text/plain": [
       "[12.0, 56.0, 59.0, 59.0, 69.0]"
      ]
     },
     "execution_count": 18,
     "metadata": {},
     "output_type": "execute_result"
    }
   ],
   "source": [
    "sorted(students_score)"
   ]
  },
  {
   "cell_type": "code",
   "execution_count": null,
   "id": "4e4dcf3f",
   "metadata": {},
   "outputs": [],
   "source": []
  },
  {
   "cell_type": "code",
   "execution_count": 14,
   "id": "9827e977",
   "metadata": {},
   "outputs": [
    {
     "data": {
      "text/plain": [
       "[['sayan', 32.0], ['bhb', 36.0], ['ghh', 56.0]]"
      ]
     },
     "execution_count": 14,
     "metadata": {},
     "output_type": "execute_result"
    }
   ],
   "source": [
    "students"
   ]
  },
  {
   "cell_type": "code",
   "execution_count": 34,
   "id": "07487aef",
   "metadata": {},
   "outputs": [
    {
     "name": "stdout",
     "output_type": "stream",
     "text": [
      "2\n",
      "Harsh 25 26.5 28\n",
      "Anurag 26 28 30\n",
      "Harsh\n"
     ]
    }
   ],
   "source": [
    "if __name__ == '__main__':\n",
    "    n = int(input())\n",
    "    student_marks = {}\n",
    "    for _ in range(n):\n",
    "        name, *line = input().split()\n",
    "        scores = list(map(float, line))\n",
    "        student_marks[name] = scores\n",
    "    query_name = input()"
   ]
  },
  {
   "cell_type": "code",
   "execution_count": 22,
   "id": "fef58f60",
   "metadata": {},
   "outputs": [
    {
     "data": {
      "text/plain": [
       "{'Sayan': [12.0, 36.0, 69.0],\n",
       " 'djhf': [15.0, 26.0, 48.0],\n",
       " 'wswef': [12.0, 23.0, 58.0]}"
      ]
     },
     "execution_count": 22,
     "metadata": {},
     "output_type": "execute_result"
    }
   ],
   "source": [
    "student_marks"
   ]
  },
  {
   "cell_type": "code",
   "execution_count": 24,
   "id": "5821c259",
   "metadata": {},
   "outputs": [
    {
     "data": {
      "text/plain": [
       "['12', '23', '58']"
      ]
     },
     "execution_count": 24,
     "metadata": {},
     "output_type": "execute_result"
    }
   ],
   "source": [
    "line"
   ]
  },
  {
   "cell_type": "code",
   "execution_count": 25,
   "id": "92471e56",
   "metadata": {},
   "outputs": [
    {
     "data": {
      "text/plain": [
       "'wswef'"
      ]
     },
     "execution_count": 25,
     "metadata": {},
     "output_type": "execute_result"
    }
   ],
   "source": [
    "name"
   ]
  },
  {
   "cell_type": "code",
   "execution_count": 28,
   "id": "f602590c",
   "metadata": {},
   "outputs": [
    {
     "ename": "NameError",
     "evalue": "name 'average' is not defined",
     "output_type": "error",
     "traceback": [
      "\u001b[1;31m---------------------------------------------------------------------------\u001b[0m",
      "\u001b[1;31mNameError\u001b[0m                                 Traceback (most recent call last)",
      "\u001b[1;32m<ipython-input-28-26883b5b826a>\u001b[0m in \u001b[0;36m<module>\u001b[1;34m\u001b[0m\n\u001b[1;32m----> 1\u001b[1;33m \u001b[0maverage\u001b[0m\u001b[1;33m(\u001b[0m\u001b[0mstudent_marks\u001b[0m\u001b[1;33m[\u001b[0m\u001b[0mquery_name\u001b[0m\u001b[1;33m]\u001b[0m\u001b[1;33m)\u001b[0m\u001b[1;33m\u001b[0m\u001b[1;33m\u001b[0m\u001b[0m\n\u001b[0m",
      "\u001b[1;31mNameError\u001b[0m: name 'average' is not defined"
     ]
    }
   ],
   "source": [
    "average(student_marks[query_name])"
   ]
  },
  {
   "cell_type": "code",
   "execution_count": 36,
   "id": "e4b4f889",
   "metadata": {},
   "outputs": [
    {
     "name": "stdout",
     "output_type": "stream",
     "text": [
      "26.50\n"
     ]
    }
   ],
   "source": [
    "a=student_marks[query_name]\n",
    "print(format(sum(a)/len(a),\".2f\"))"
   ]
  },
  {
   "cell_type": "code",
   "execution_count": 47,
   "id": "73a227c0",
   "metadata": {},
   "outputs": [
    {
     "name": "stdout",
     "output_type": "stream",
     "text": [
      "6\n",
      "12 25 45 78 89 56\n"
     ]
    }
   ],
   "source": [
    "if __name__ == '__main__':\n",
    "    n = int(input())\n",
    "    integer_list = map(int, input().split())"
   ]
  },
  {
   "cell_type": "code",
   "execution_count": 48,
   "id": "d23e7ca7",
   "metadata": {},
   "outputs": [],
   "source": [
    "t=tuple(integer_list)"
   ]
  },
  {
   "cell_type": "code",
   "execution_count": 52,
   "id": "4553e201",
   "metadata": {},
   "outputs": [
    {
     "data": {
      "text/plain": [
       "(12, 25, 45, 78, 89, 56)"
      ]
     },
     "execution_count": 52,
     "metadata": {},
     "output_type": "execute_result"
    }
   ],
   "source": [
    "t"
   ]
  },
  {
   "cell_type": "code",
   "execution_count": 50,
   "id": "2bcaf306",
   "metadata": {},
   "outputs": [
    {
     "name": "stdout",
     "output_type": "stream",
     "text": [
      "(12, 25, 45, 78, 89, 56)\n"
     ]
    }
   ],
   "source": [
    "print(t)"
   ]
  },
  {
   "cell_type": "code",
   "execution_count": 51,
   "id": "a7190903",
   "metadata": {},
   "outputs": [
    {
     "data": {
      "text/plain": [
       "()"
      ]
     },
     "execution_count": 51,
     "metadata": {},
     "output_type": "execute_result"
    }
   ],
   "source": [
    "tuple(integer_list)"
   ]
  },
  {
   "cell_type": "code",
   "execution_count": 53,
   "id": "c107bb95",
   "metadata": {},
   "outputs": [
    {
     "data": {
      "text/plain": [
       "3474726135157769745"
      ]
     },
     "execution_count": 53,
     "metadata": {},
     "output_type": "execute_result"
    }
   ],
   "source": [
    "hash(t)"
   ]
  },
  {
   "cell_type": "code",
   "execution_count": 54,
   "id": "cefc2125",
   "metadata": {},
   "outputs": [
    {
     "name": "stdout",
     "output_type": "stream",
     "text": [
      "x**3 + x**2 + x + x\n"
     ]
    }
   ],
   "source": [
    "p=input()"
   ]
  },
  {
   "cell_type": "code",
   "execution_count": 55,
   "id": "eadff5cc",
   "metadata": {},
   "outputs": [
    {
     "data": {
      "text/plain": [
       "'x**3 + x**2 + x + x'"
      ]
     },
     "execution_count": 55,
     "metadata": {},
     "output_type": "execute_result"
    }
   ],
   "source": [
    "p"
   ]
  },
  {
   "cell_type": "code",
   "execution_count": 56,
   "id": "03f70d61",
   "metadata": {},
   "outputs": [
    {
     "data": {
      "text/plain": [
       "['x**3', '+', 'x**2', '+', 'x', '+', 'x']"
      ]
     },
     "execution_count": 56,
     "metadata": {},
     "output_type": "execute_result"
    }
   ],
   "source": [
    "p.split()"
   ]
  },
  {
   "cell_type": "code",
   "execution_count": 60,
   "id": "f6ef7e7c",
   "metadata": {},
   "outputs": [
    {
     "data": {
      "text/plain": [
       "['x',\n",
       " '*',\n",
       " '*',\n",
       " '3',\n",
       " ' ',\n",
       " '+',\n",
       " ' ',\n",
       " 'x',\n",
       " '*',\n",
       " '*',\n",
       " '2',\n",
       " ' ',\n",
       " '+',\n",
       " ' ',\n",
       " 'x',\n",
       " ' ',\n",
       " '+',\n",
       " ' ',\n",
       " 'x']"
      ]
     },
     "execution_count": 60,
     "metadata": {},
     "output_type": "execute_result"
    }
   ],
   "source": [
    "list(p)"
   ]
  },
  {
   "cell_type": "code",
   "execution_count": null,
   "id": "5bb7b690",
   "metadata": {},
   "outputs": [],
   "source": [
    "y="
   ]
  },
  {
   "cell_type": "code",
   "execution_count": 61,
   "id": "27f8dbd5",
   "metadata": {},
   "outputs": [
    {
     "data": {
      "text/plain": [
       "'x**3 + x**2 + x + x'"
      ]
     },
     "execution_count": 61,
     "metadata": {},
     "output_type": "execute_result"
    }
   ],
   "source": [
    "p"
   ]
  },
  {
   "cell_type": "code",
   "execution_count": 76,
   "id": "d37c7c52",
   "metadata": {},
   "outputs": [
    {
     "name": "stdout",
     "output_type": "stream",
     "text": [
      "H-------------------\n"
     ]
    }
   ],
   "source": [
    "width = 20\n",
    "print ('H'.ljust(width,'-'))"
   ]
  },
  {
   "cell_type": "code",
   "execution_count": 75,
   "id": "c89336d5",
   "metadata": {},
   "outputs": [
    {
     "name": "stdout",
     "output_type": "stream",
     "text": [
      "-----HackerRank-----\n"
     ]
    }
   ],
   "source": [
    "width = 20\n",
    ">>> print ('HackerRank'.center(width,'-'))"
   ]
  },
  {
   "cell_type": "code",
   "execution_count": 116,
   "id": "7959bbb5",
   "metadata": {},
   "outputs": [
    {
     "name": "stdout",
     "output_type": "stream",
     "text": [
      "         H          \n",
      "        HHH         \n",
      "       HHHHH        \n",
      "      HHHHHHH       \n",
      "     HHHHHHHHH      \n",
      "       HHHHH            HHHHH\n",
      "       HHHHH            HHHHH\n",
      "       HHHHH            HHHHH\n",
      "       HHHHH            HHHHH\n",
      "       HHHHH            HHHHH\n",
      "       HHHHH            HHHHH\n",
      "       HHHHHHHHHHHHHHHHHHHHHHHHHH\n",
      "       HHHHHHHHHHHHHHHHHHHHHHHHHH\n",
      "       HHHHHHHHHHHHHHHHHHHHHHHHHH\n",
      "       HHHHH            HHHHH\n",
      "       HHHHH            HHHHH\n",
      "       HHHHH            HHHHH\n",
      "       HHHHH            HHHHH\n",
      "       HHHHH            HHHHH\n",
      "       HHHHH            HHHHH\n",
      "                      HHHHHHHHH\n",
      "                       HHHHHHH\n",
      "                        HHHHH\n",
      "                         HHH\n",
      "                          H\n"
     ]
    }
   ],
   "source": [
    "for i in range(1,6):\n",
    "    print(('H'*(i*2-1)).center(width,\" \"))\n",
    "    \n",
    "for i in range(1,7):\n",
    "    print((\" \"*7 +\"H\"*5 + \" \"*12 + \"H\"*5).center(width,\" \"))\n",
    "    \n",
    "for i in range(3):\n",
    "    print(\" \"*7 +\"H\"*26)\n",
    "    \n",
    "for i in range(1,7):\n",
    "    print((\" \"*7 +\"H\"*5 + \" \"*12 + \"H\"*5).center(width,\" \"))\n",
    "    \n",
    "for i in list(range(5,0,-1)):\n",
    "    print((\" \"*(5*5-i+2) +'H'*(i*2-1)).center(width,\" \"))"
   ]
  },
  {
   "cell_type": "code",
   "execution_count": null,
   "id": "f1fde47d",
   "metadata": {},
   "outputs": [],
   "source": []
  },
  {
   "cell_type": "code",
   "execution_count": 89,
   "id": "db4d6d84",
   "metadata": {},
   "outputs": [
    {
     "data": {
      "text/plain": [
       "26"
      ]
     },
     "execution_count": 89,
     "metadata": {},
     "output_type": "execute_result"
    }
   ],
   "source": [
    "len(\"HHHHHHHHHHHHHHHHHHHHHHHHH \")"
   ]
  },
  {
   "cell_type": "code",
   "execution_count": 106,
   "id": "0dc62721",
   "metadata": {},
   "outputs": [
    {
     "name": "stdout",
     "output_type": "stream",
     "text": [
      "                             H                             \n",
      "\n",
      "                            HHH                            \n",
      "\n",
      "                           HHHHH                           \n",
      "\n",
      "                          HHHHHHH                          \n",
      "\n",
      "                         HHHHHHHHH                         \n",
      "\n",
      "                        HHHHHHHHHHH                        \n",
      "\n"
     ]
    }
   ],
   "source": [
    "for i in range(1,n*2,2):\n",
    "    print((i * 'H').center(n * 10 - 1 , \" \") + '\\n')"
   ]
  },
  {
   "cell_type": "code",
   "execution_count": 120,
   "id": "e28d3b09",
   "metadata": {},
   "outputs": [
    {
     "name": "stdout",
     "output_type": "stream",
     "text": [
      "10\n",
      "         H         \n",
      "        HHH        \n",
      "       HHHHH       \n",
      "      HHHHHHH      \n",
      "     HHHHHHHHH     \n",
      "    HHHHHHHHHHH    \n",
      "   HHHHHHHHHHHHH   \n",
      "  HHHHHHHHHHHHHHH  \n",
      " HHHHHHHHHHHHHHHHH \n",
      "HHHHHHHHHHHHHHHHHHH\n",
      "     HHHHHHHHHH                              HHHHHHHHHH                         \n",
      "     HHHHHHHHHH                              HHHHHHHHHH                         \n",
      "     HHHHHHHHHH                              HHHHHHHHHH                         \n",
      "     HHHHHHHHHH                              HHHHHHHHHH                         \n",
      "     HHHHHHHHHH                              HHHHHHHHHH                         \n",
      "     HHHHHHHHHH                              HHHHHHHHHH                         \n",
      "     HHHHHHHHHH                              HHHHHHHHHH                         \n",
      "     HHHHHHHHHH                              HHHHHHHHHH                         \n",
      "     HHHHHHHHHH                              HHHHHHHHHH                         \n",
      "     HHHHHHHHHH                              HHHHHHHHHH                         \n",
      "     HHHHHHHHHH                              HHHHHHHHHH                         \n",
      "     HHHHHHHHHHHHHHHHHHHHHHHHHHHHHHHHHHHHHHHHHHHHHHHHHH    \n",
      "     HHHHHHHHHHHHHHHHHHHHHHHHHHHHHHHHHHHHHHHHHHHHHHHHHH    \n",
      "     HHHHHHHHHHHHHHHHHHHHHHHHHHHHHHHHHHHHHHHHHHHHHHHHHH    \n",
      "     HHHHHHHHHHHHHHHHHHHHHHHHHHHHHHHHHHHHHHHHHHHHHHHHHH    \n",
      "     HHHHHHHHHHHHHHHHHHHHHHHHHHHHHHHHHHHHHHHHHHHHHHHHHH    \n",
      "     HHHHHHHHHH                              HHHHHHHHHH                         \n",
      "     HHHHHHHHHH                              HHHHHHHHHH                         \n",
      "     HHHHHHHHHH                              HHHHHHHHHH                         \n",
      "     HHHHHHHHHH                              HHHHHHHHHH                         \n",
      "     HHHHHHHHHH                              HHHHHHHHHH                         \n",
      "     HHHHHHHHHH                              HHHHHHHHHH                         \n",
      "     HHHHHHHHHH                              HHHHHHHHHH                         \n",
      "     HHHHHHHHHH                              HHHHHHHHHH                         \n",
      "     HHHHHHHHHH                              HHHHHHHHHH                         \n",
      "     HHHHHHHHHH                              HHHHHHHHHH                         \n",
      "     HHHHHHHHHH                              HHHHHHHHHH                         \n",
      "                                        HHHHHHHHHHHHHHHHHHH\n",
      "                                         HHHHHHHHHHHHHHHHH \n",
      "                                          HHHHHHHHHHHHHHH  \n",
      "                                           HHHHHHHHHHHHH   \n",
      "                                            HHHHHHHHHHH    \n",
      "                                             HHHHHHHHH     \n",
      "                                              HHHHHHH      \n",
      "                                               HHHHH       \n",
      "                                                HHH        \n",
      "                                                 H         \n",
      "\n"
     ]
    }
   ],
   "source": [
    "if __name__ == '__main__':\n",
    "    n = int(input())\n",
    "    s = ''\n",
    "    \n",
    "# Top cone\n",
    "\n",
    "for i in range(1,n*2,2):\n",
    "    s = s + (i * 'H').center(n * 2 - 1 , \" \") + '\\n'\n",
    "    \n",
    "# Top Square\n",
    "\n",
    "s1 = (n * 'H').center(n * 2 - 1 , \" \") + (n * 2 + 1) * \" \"\n",
    "\n",
    "for i in range(n + 1):\n",
    "    s = s + (2 * s1) + '\\n'\n",
    "\n",
    "# Middle line\n",
    "\n",
    "s2 = (n * 5 * 'H').center(n * 6 - 1 , \" \")\n",
    "\n",
    "for i in range(0 , n , 2):\n",
    "    s = s + s2 + '\\n'\n",
    "\n",
    "# Bottom square\n",
    "\n",
    "s3 = (n * 'H').center(n * 2 - 1 , \" \") + (n * 2 + 1) * \" \"\n",
    "\n",
    "for i in range(n + 1):\n",
    "    s = s + (2 * s3) + '\\n'\n",
    "\n",
    "# Bottom cone\n",
    "\n",
    "for i in range(n * 2 - 1 , 0 , -2):\n",
    "    s = s + (n * 4) * ' ' + (i * 'H').center(n * 2 - 1) + '\\n'\n",
    "\n",
    "print(s)"
   ]
  },
  {
   "cell_type": "code",
   "execution_count": 108,
   "id": "15594313",
   "metadata": {},
   "outputs": [
    {
     "name": "stdout",
     "output_type": "stream",
     "text": [
      "  HHHHH             \n"
     ]
    }
   ],
   "source": [
    "print((n * 'H').center(n * 2 - 1 , \" \") + (n * 2 + 1) * \" \")"
   ]
  },
  {
   "cell_type": "code",
   "execution_count": 109,
   "id": "c8530fbc",
   "metadata": {},
   "outputs": [
    {
     "name": "stdout",
     "output_type": "stream",
     "text": [
      "  HHHHH               HHHHH             \n",
      "\n",
      "  HHHHH               HHHHH             \n",
      "\n",
      "  HHHHH               HHHHH             \n",
      "\n",
      "  HHHHH               HHHHH             \n",
      "\n",
      "  HHHHH               HHHHH             \n",
      "\n",
      "  HHHHH               HHHHH             \n",
      "\n"
     ]
    }
   ],
   "source": [
    "for i in range(n + 1):\n",
    "    print((2 * s1) + '\\n')"
   ]
  },
  {
   "cell_type": "code",
   "execution_count": 119,
   "id": "b814ca7f",
   "metadata": {},
   "outputs": [
    {
     "name": "stdout",
     "output_type": "stream",
     "text": [
      "7\n",
      "         H          \n",
      "        HHH         \n",
      "       HHHHH        \n",
      "      HHHHHHH       \n",
      "     HHHHHHHHH      \n",
      "    HHHHHHHHHHH     \n",
      "   HHHHHHHHHHHHH    \n",
      "         HHHHHHH                HHHHHHH\n",
      "         HHHHHHH                HHHHHHH\n",
      "         HHHHHHH                HHHHHHH\n",
      "         HHHHHHH                HHHHHHH\n",
      "         HHHHHHH                HHHHHHH\n",
      "         HHHHHHH                HHHHHHH\n",
      "         HHHHHHH                HHHHHHH\n",
      "         HHHHHHH                HHHHHHH\n",
      "         HHHHHHHHHHHHHHHHHHHHHHHHHHHHHHHHHHHH\n",
      "         HHHHHHHHHHHHHHHHHHHHHHHHHHHHHHHHHHHH\n",
      "         HHHHHHHHHHHHHHHHHHHHHHHHHHHHHHHHHHHH\n",
      "         HHHHHHHHHHHHHHHHHHHHHHHHHHHHHHHHHHHH\n",
      "         HHHHHHHHHHHHHHHHHHHHHHHHHHHHHHHHHHHH\n",
      "         HHHHHHH                HHHHHHH\n",
      "         HHHHHHH                HHHHHHH\n",
      "         HHHHHHH                HHHHHHH\n",
      "         HHHHHHH                HHHHHHH\n",
      "         HHHHHHH                HHHHHHH\n",
      "         HHHHHHH                HHHHHHH\n",
      "         HHHHHHH                HHHHHHH\n",
      "         HHHHHHH                HHHHHHH\n",
      "                              HHHHHHHHHHHHH\n",
      "                               HHHHHHHHHHH\n",
      "                                HHHHHHHHH\n",
      "                                 HHHHHHH\n",
      "                                  HHHHH\n",
      "                                   HHH\n",
      "                                    H\n"
     ]
    }
   ],
   "source": [
    "n=int(input())\n",
    "for i in range(1,n+1):\n",
    "    print(('H'*(i*2-1)).center(width,\" \"))\n",
    "    \n",
    "for i in range(1,n+2):\n",
    "    print((\" \"*(n+2) +\"H\"*n + \" \"*(n*2+2) + \"H\"*n).center(width,\" \"))\n",
    "    \n",
    "for i in range(n-2):\n",
    "    print(\" \"*(n+2) +\"H\"*(n*5+1))\n",
    "    \n",
    "for i in range(1,n+2):\n",
    "    print((\" \"*(n+2) +\"H\"*n + \" \"*(n*2+2) + \"H\"*n).center(width,\" \"))\n",
    "    \n",
    "for i in list(range(n,0,-1)):\n",
    "    print((\" \"*(n*5-i+2) +'H'*(i*2-1)).center(width,\" \"))"
   ]
  },
  {
   "cell_type": "code",
   "execution_count": 157,
   "id": "142a2b3e",
   "metadata": {},
   "outputs": [
    {
     "data": {
      "text/plain": [
       "[0, 4, 8, 12, 16, 20, 24]"
      ]
     },
     "execution_count": 157,
     "metadata": {},
     "output_type": "execute_result"
    }
   ],
   "source": [
    "list(range(0,26,4))"
   ]
  },
  {
   "cell_type": "code",
   "execution_count": 151,
   "id": "b109fbfc",
   "metadata": {},
   "outputs": [],
   "source": [
    "string='ABCDEFGHIJKLIMNOQRSTUVWXYZ'"
   ]
  },
  {
   "cell_type": "code",
   "execution_count": 158,
   "id": "5a37bbd3",
   "metadata": {},
   "outputs": [
    {
     "data": {
      "text/plain": [
       "'YZ'"
      ]
     },
     "execution_count": 158,
     "metadata": {},
     "output_type": "execute_result"
    }
   ],
   "source": [
    "string[24:28]"
   ]
  },
  {
   "cell_type": "code",
   "execution_count": 140,
   "id": "49166a5c",
   "metadata": {},
   "outputs": [
    {
     "data": {
      "text/plain": [
       "'ABCD'"
      ]
     },
     "execution_count": 140,
     "metadata": {},
     "output_type": "execute_result"
    }
   ],
   "source": [
    "string[0:4]"
   ]
  },
  {
   "cell_type": "code",
   "execution_count": 138,
   "id": "d92d6deb",
   "metadata": {},
   "outputs": [],
   "source": [
    "b=list(range(0,len(string),4))"
   ]
  },
  {
   "cell_type": "code",
   "execution_count": 142,
   "id": "af5809ad",
   "metadata": {},
   "outputs": [
    {
     "data": {
      "text/plain": [
       "[0, 4, 8, 12, 16, 20, 24]"
      ]
     },
     "execution_count": 142,
     "metadata": {},
     "output_type": "execute_result"
    }
   ],
   "source": [
    "b"
   ]
  },
  {
   "cell_type": "code",
   "execution_count": null,
   "id": "d8758e3a",
   "metadata": {},
   "outputs": [],
   "source": []
  },
  {
   "cell_type": "code",
   "execution_count": 143,
   "id": "522b5fac",
   "metadata": {},
   "outputs": [
    {
     "name": "stdout",
     "output_type": "stream",
     "text": [
      "A\n",
      "B\n",
      "C\n",
      "D\n",
      "E\n",
      "F\n",
      "G\n"
     ]
    }
   ],
   "source": [
    "for i in range(len(b)):\n",
    "    if i!=b[-1]:\n",
    "        print(string[i:i+1])\n",
    "    else:\n",
    "        print(string[i:])"
   ]
  },
  {
   "cell_type": "code",
   "execution_count": null,
   "id": "955f1338",
   "metadata": {},
   "outputs": [],
   "source": []
  },
  {
   "cell_type": "code",
   "execution_count": 131,
   "id": "d19abd41",
   "metadata": {},
   "outputs": [],
   "source": [
    "b=list(range(0,len(\"ABCDEFGHIJKLIMNOQRSTUVWXYZ\"),4))"
   ]
  },
  {
   "cell_type": "code",
   "execution_count": 133,
   "id": "9b552f0d",
   "metadata": {},
   "outputs": [
    {
     "data": {
      "text/plain": [
       "24"
      ]
     },
     "execution_count": 133,
     "metadata": {},
     "output_type": "execute_result"
    }
   ],
   "source": [
    "b[-1]"
   ]
  },
  {
   "cell_type": "code",
   "execution_count": 146,
   "id": "d55833fe",
   "metadata": {},
   "outputs": [],
   "source": [
    "s = \"\"\n",
    "for i in range(0, len(\"ABCDEFGHIJKLIMNOQRSTUVWXYZ\"), 4):\n",
    "    s = s + string[i: i + 4] + '\\n'"
   ]
  },
  {
   "cell_type": "code",
   "execution_count": 147,
   "id": "16b11565",
   "metadata": {},
   "outputs": [
    {
     "name": "stdout",
     "output_type": "stream",
     "text": [
      "ABCD\n",
      "EFGH\n",
      "IJKL\n",
      "IMNO\n",
      "QRST\n",
      "UVWX\n",
      "YZ\n",
      "\n"
     ]
    }
   ],
   "source": [
    "print(s)"
   ]
  },
  {
   "cell_type": "code",
   "execution_count": 159,
   "id": "f5351d79",
   "metadata": {},
   "outputs": [
    {
     "data": {
      "text/plain": [
       "21"
      ]
     },
     "execution_count": 159,
     "metadata": {},
     "output_type": "execute_result"
    }
   ],
   "source": [
    "len(\"---------.|.---------\")"
   ]
  },
  {
   "cell_type": "code",
   "execution_count": 160,
   "id": "fbfe838a",
   "metadata": {},
   "outputs": [
    {
     "data": {
      "text/plain": [
       "9"
      ]
     },
     "execution_count": 160,
     "metadata": {},
     "output_type": "execute_result"
    }
   ],
   "source": [
    "len(\"---------\")"
   ]
  },
  {
   "cell_type": "code",
   "execution_count": 161,
   "id": "87393603",
   "metadata": {},
   "outputs": [
    {
     "data": {
      "text/plain": [
       "6"
      ]
     },
     "execution_count": 161,
     "metadata": {},
     "output_type": "execute_result"
    }
   ],
   "source": [
    "len(\"------\")"
   ]
  },
  {
   "cell_type": "code",
   "execution_count": 162,
   "id": "07df6574",
   "metadata": {},
   "outputs": [
    {
     "name": "stdout",
     "output_type": "stream",
     "text": [
      "7\n"
     ]
    },
    {
     "ename": "ValueError",
     "evalue": "not enough values to unpack (expected 2, got 1)",
     "output_type": "error",
     "traceback": [
      "\u001b[1;31m---------------------------------------------------------------------------\u001b[0m",
      "\u001b[1;31mValueError\u001b[0m                                Traceback (most recent call last)",
      "\u001b[1;32m<ipython-input-162-8d71affeb0f4>\u001b[0m in \u001b[0;36m<module>\u001b[1;34m\u001b[0m\n\u001b[0;32m      1\u001b[0m \u001b[1;32mif\u001b[0m \u001b[0m__name__\u001b[0m \u001b[1;33m==\u001b[0m \u001b[1;34m'__main__'\u001b[0m\u001b[1;33m:\u001b[0m\u001b[1;33m\u001b[0m\u001b[1;33m\u001b[0m\u001b[0m\n\u001b[1;32m----> 2\u001b[1;33m     \u001b[0mN\u001b[0m\u001b[1;33m,\u001b[0m \u001b[0mM\u001b[0m \u001b[1;33m=\u001b[0m \u001b[0mmap\u001b[0m\u001b[1;33m(\u001b[0m\u001b[0mint\u001b[0m\u001b[1;33m,\u001b[0m \u001b[0minput\u001b[0m\u001b[1;33m(\u001b[0m\u001b[1;33m)\u001b[0m\u001b[1;33m.\u001b[0m\u001b[0msplit\u001b[0m\u001b[1;33m(\u001b[0m\u001b[1;33m)\u001b[0m\u001b[1;33m)\u001b[0m\u001b[1;33m\u001b[0m\u001b[1;33m\u001b[0m\u001b[0m\n\u001b[0m\u001b[0;32m      3\u001b[0m \u001b[1;33m\u001b[0m\u001b[0m\n\u001b[0;32m      4\u001b[0m     \u001b[0ms\u001b[0m \u001b[1;33m=\u001b[0m \u001b[1;34m''\u001b[0m\u001b[1;33m\u001b[0m\u001b[1;33m\u001b[0m\u001b[0m\n\u001b[0;32m      5\u001b[0m \u001b[1;33m\u001b[0m\u001b[0m\n",
      "\u001b[1;31mValueError\u001b[0m: not enough values to unpack (expected 2, got 1)"
     ]
    }
   ],
   "source": [
    "if __name__ == '__main__':\n",
    "    N, M = map(int, input().split())\n",
    "    \n",
    "    s = ''\n",
    "\n",
    "    for i in range(1, N, 2):\n",
    "\n",
    "        s = s + (i * '.|.').center(M, \"-\") + \"\\n\"\n",
    "\n",
    "    s = s + 'WELCOME'.center(M, \"-\") + \"\\n\"\n",
    "\n",
    "    for i in range(N - 2, 0, -2):\n",
    "        s = s + (i * '.|.').center(M, \"-\") + \"\\n\"\n",
    "        \n",
    "    print(s)"
   ]
  },
  {
   "cell_type": "code",
   "execution_count": 163,
   "id": "83298017",
   "metadata": {},
   "outputs": [
    {
     "name": "stdout",
     "output_type": "stream",
     "text": [
      "7\n"
     ]
    },
    {
     "ename": "ValueError",
     "evalue": "not enough values to unpack (expected 2, got 1)",
     "output_type": "error",
     "traceback": [
      "\u001b[1;31m---------------------------------------------------------------------------\u001b[0m",
      "\u001b[1;31mValueError\u001b[0m                                Traceback (most recent call last)",
      "\u001b[1;32m<ipython-input-163-843bdb93caec>\u001b[0m in \u001b[0;36m<module>\u001b[1;34m\u001b[0m\n\u001b[1;32m----> 1\u001b[1;33m \u001b[0mn\u001b[0m\u001b[1;33m,\u001b[0m\u001b[0mm\u001b[0m \u001b[1;33m=\u001b[0m \u001b[0mmap\u001b[0m\u001b[1;33m(\u001b[0m\u001b[0mint\u001b[0m\u001b[1;33m,\u001b[0m\u001b[0minput\u001b[0m\u001b[1;33m(\u001b[0m\u001b[1;33m)\u001b[0m\u001b[1;33m.\u001b[0m\u001b[0msplit\u001b[0m\u001b[1;33m(\u001b[0m\u001b[1;33m)\u001b[0m\u001b[1;33m)\u001b[0m\u001b[1;33m\u001b[0m\u001b[1;33m\u001b[0m\u001b[0m\n\u001b[0m\u001b[0;32m      2\u001b[0m \u001b[1;33m\u001b[0m\u001b[0m\n\u001b[0;32m      3\u001b[0m \u001b[1;32mif\u001b[0m \u001b[0mn\u001b[0m \u001b[1;33m%\u001b[0m \u001b[1;36m2\u001b[0m \u001b[1;33m!=\u001b[0m \u001b[1;36m0\u001b[0m \u001b[1;32mand\u001b[0m \u001b[0mn\u001b[0m \u001b[1;33m>=\u001b[0m \u001b[1;36m1\u001b[0m\u001b[1;33m:\u001b[0m\u001b[1;33m\u001b[0m\u001b[1;33m\u001b[0m\u001b[0m\n\u001b[0;32m      4\u001b[0m     \u001b[0mm\u001b[0m \u001b[1;33m=\u001b[0m \u001b[0mn\u001b[0m \u001b[1;33m*\u001b[0m \u001b[1;36m3\u001b[0m\u001b[1;33m\u001b[0m\u001b[1;33m\u001b[0m\u001b[0m\n\u001b[0;32m      5\u001b[0m     \u001b[1;32mfor\u001b[0m \u001b[0mi\u001b[0m \u001b[1;32min\u001b[0m \u001b[0mrange\u001b[0m\u001b[1;33m(\u001b[0m\u001b[1;36m0\u001b[0m\u001b[1;33m,\u001b[0m\u001b[0mint\u001b[0m\u001b[1;33m(\u001b[0m\u001b[0mn\u001b[0m \u001b[1;33m/\u001b[0m \u001b[1;36m2\u001b[0m\u001b[1;33m)\u001b[0m\u001b[1;33m)\u001b[0m\u001b[1;33m:\u001b[0m\u001b[1;33m\u001b[0m\u001b[1;33m\u001b[0m\u001b[0m\n",
      "\u001b[1;31mValueError\u001b[0m: not enough values to unpack (expected 2, got 1)"
     ]
    }
   ],
   "source": [
    "n,m = map(int,input().split())\n",
    "\n",
    "if n % 2 != 0 and n >= 1:\n",
    "    m = n * 3\n",
    "    for i in range(0,int(n / 2)):\n",
    "        pattern = '.|.' * ((i * 2) + 1)\n",
    "        print(pattern.center(m,'-'))\n",
    "    print('WELCOME'.center(m,'-'))\n",
    "\n",
    "    for j in range(int(n /2 ), 0, -1):\n",
    "        pattern = '.|.' * ((j * 2) - 1)\n",
    "        print(pattern.center(m,'-'))"
   ]
  },
  {
   "cell_type": "code",
   "execution_count": 164,
   "id": "7a462e1f",
   "metadata": {},
   "outputs": [
    {
     "name": "stdout",
     "output_type": "stream",
     "text": [
      "7\n"
     ]
    },
    {
     "ename": "ValueError",
     "evalue": "not enough values to unpack (expected 2, got 1)",
     "output_type": "error",
     "traceback": [
      "\u001b[1;31m---------------------------------------------------------------------------\u001b[0m",
      "\u001b[1;31mValueError\u001b[0m                                Traceback (most recent call last)",
      "\u001b[1;32m<ipython-input-164-afb28d1eeb15>\u001b[0m in \u001b[0;36m<module>\u001b[1;34m\u001b[0m\n\u001b[1;32m----> 1\u001b[1;33m \u001b[0mn\u001b[0m\u001b[1;33m,\u001b[0m \u001b[0mm\u001b[0m \u001b[1;33m=\u001b[0m \u001b[0mmap\u001b[0m\u001b[1;33m(\u001b[0m\u001b[0mint\u001b[0m\u001b[1;33m,\u001b[0m \u001b[0minput\u001b[0m\u001b[1;33m(\u001b[0m\u001b[1;33m)\u001b[0m\u001b[1;33m.\u001b[0m\u001b[0mstrip\u001b[0m\u001b[1;33m(\u001b[0m\u001b[1;33m)\u001b[0m\u001b[1;33m.\u001b[0m\u001b[0msplit\u001b[0m\u001b[1;33m(\u001b[0m\u001b[1;33m)\u001b[0m\u001b[1;33m)\u001b[0m\u001b[1;33m\u001b[0m\u001b[1;33m\u001b[0m\u001b[0m\n\u001b[0m\u001b[0;32m      2\u001b[0m \u001b[0mpattern\u001b[0m \u001b[1;33m=\u001b[0m \u001b[1;36m1\u001b[0m\u001b[1;33m\u001b[0m\u001b[1;33m\u001b[0m\u001b[0m\n\u001b[0;32m      3\u001b[0m \u001b[0mfull_string\u001b[0m \u001b[1;33m=\u001b[0m \u001b[0mstr\u001b[0m\u001b[1;33m(\u001b[0m\u001b[1;33m)\u001b[0m\u001b[1;33m\u001b[0m\u001b[1;33m\u001b[0m\u001b[0m\n\u001b[0;32m      4\u001b[0m \u001b[1;32mfor\u001b[0m \u001b[0mi\u001b[0m \u001b[1;32min\u001b[0m \u001b[0mrange\u001b[0m\u001b[1;33m(\u001b[0m\u001b[1;36m1\u001b[0m\u001b[1;33m,\u001b[0m \u001b[0mn\u001b[0m\u001b[1;33m+\u001b[0m\u001b[1;36m1\u001b[0m\u001b[1;33m)\u001b[0m\u001b[1;33m:\u001b[0m\u001b[1;33m\u001b[0m\u001b[1;33m\u001b[0m\u001b[0m\n\u001b[0;32m      5\u001b[0m     \u001b[1;32mif\u001b[0m \u001b[0mi\u001b[0m \u001b[1;33m==\u001b[0m \u001b[1;33m(\u001b[0m\u001b[0mn\u001b[0m\u001b[1;33m//\u001b[0m\u001b[1;36m2\u001b[0m\u001b[1;33m)\u001b[0m\u001b[1;33m+\u001b[0m\u001b[1;36m1\u001b[0m\u001b[1;33m:\u001b[0m\u001b[1;33m\u001b[0m\u001b[1;33m\u001b[0m\u001b[0m\n",
      "\u001b[1;31mValueError\u001b[0m: not enough values to unpack (expected 2, got 1)"
     ]
    }
   ],
   "source": [
    "n, m = map(int, input().strip().split())\n",
    "pattern = 1\n",
    "full_string = str()\n",
    "for i in range(1, n+1):\n",
    "    if i == (n//2)+1:\n",
    "        print(\"WELCOME\".center(m, \"-\"))\n",
    "        full_string += \"WELCOME\".center(m, \"-\") + \"\\n\"\n",
    "        pattern -= 2\n",
    "    elif i < (n//2)+1:\n",
    "        print((\".|.\"*pattern).center(m, \"-\"))\n",
    "        full_string += (\".|.\"*pattern).center(m, \"-\") + \"\\n\"\n",
    "        pattern += 2\n",
    "    elif i > (n//2)+1:\n",
    "        print((\".|.\"*pattern).center(m, \"-\"))\n",
    "        full_string += (\".|.\"*pattern).center(m, \"-\") + \"\\n\"\n",
    "        pattern -= 2\n",
    "    \n",
    "#print(full_string[:-1])"
   ]
  },
  {
   "cell_type": "code",
   "execution_count": 165,
   "id": "48b4dffd",
   "metadata": {},
   "outputs": [
    {
     "name": "stdout",
     "output_type": "stream",
     "text": [
      "17\n",
      "    1     1     1     1\n",
      "    2     2     2    10\n",
      "    3     3     3    11\n",
      "    4     4     4   100\n",
      "    5     5     5   101\n",
      "    6     6     6   110\n",
      "    7     7     7   111\n",
      "    8    10     8  1000\n",
      "    9    11     9  1001\n",
      "   10    12     A  1010\n",
      "   11    13     B  1011\n",
      "   12    14     C  1100\n",
      "   13    15     D  1101\n",
      "   14    16     E  1110\n",
      "   15    17     F  1111\n",
      "   16    20    10 10000\n",
      "   17    21    11 10001\n"
     ]
    }
   ],
   "source": [
    "def print_formatted(number):\n",
    "    # Find length of longest binary number\n",
    "    length = len(bin(number)) - 1\n",
    "\n",
    "    \n",
    "    \n",
    "    # Print values\n",
    "    for i in range(1, number+1):\n",
    "        print(str(i).rjust(length-1), end=\"\")\n",
    "        print(str(oct(i))[2:].rjust(length), end=\"\")\n",
    "        print(str(hex(i))[2:].rjust(length).upper(), end=\"\")\n",
    "        print(str(bin(i))[2:].rjust(length), end=\"\")\n",
    "        print(\"\")\n",
    "    \n",
    "\n",
    "if __name__ == '__main__':\n",
    "    n = int(input())\n",
    "    print_formatted(n)"
   ]
  },
  {
   "cell_type": "code",
   "execution_count": 180,
   "id": "887c3670",
   "metadata": {},
   "outputs": [],
   "source": [
    "import string\n",
    "\n",
    "def print_rangoli(size):\n",
    "    letters = string.ascii_lowercase[:size]\n",
    "    width = 4 * size - 3\n",
    "    \n",
    "    for i in range(size-1,0,-1):\n",
    "        line = '-'.join(letters[size - 1: i: -1] + letters[i: size])\n",
    "        print(line.center(width, '-'))\n",
    "    for i in range(size):\n",
    "        line = '-'.join(letters[size - 1: i: -1] + letters[i: size])\n",
    "        print(line.center(width, '-'))"
   ]
  },
  {
   "cell_type": "code",
   "execution_count": 181,
   "id": "546f1323",
   "metadata": {},
   "outputs": [
    {
     "name": "stdout",
     "output_type": "stream",
     "text": [
      "10\n",
      "------------------j------------------\n",
      "----------------j-i-j----------------\n",
      "--------------j-i-h-i-j--------------\n",
      "------------j-i-h-g-h-i-j------------\n",
      "----------j-i-h-g-f-g-h-i-j----------\n",
      "--------j-i-h-g-f-e-f-g-h-i-j--------\n",
      "------j-i-h-g-f-e-d-e-f-g-h-i-j------\n",
      "----j-i-h-g-f-e-d-c-d-e-f-g-h-i-j----\n",
      "--j-i-h-g-f-e-d-c-b-c-d-e-f-g-h-i-j--\n",
      "j-i-h-g-f-e-d-c-b-a-b-c-d-e-f-g-h-i-j\n",
      "--j-i-h-g-f-e-d-c-b-c-d-e-f-g-h-i-j--\n",
      "----j-i-h-g-f-e-d-c-d-e-f-g-h-i-j----\n",
      "------j-i-h-g-f-e-d-e-f-g-h-i-j------\n",
      "--------j-i-h-g-f-e-f-g-h-i-j--------\n",
      "----------j-i-h-g-f-g-h-i-j----------\n",
      "------------j-i-h-g-h-i-j------------\n",
      "--------------j-i-h-i-j--------------\n",
      "----------------j-i-j----------------\n",
      "------------------j------------------\n"
     ]
    }
   ],
   "source": [
    "if __name__ == '__main__':\n",
    "    n = int(input())\n",
    "    print_rangoli(n)"
   ]
  },
  {
   "cell_type": "code",
   "execution_count": 172,
   "id": "6e9b7665",
   "metadata": {},
   "outputs": [],
   "source": [
    "letters = string.ascii_lowercase[:3]"
   ]
  },
  {
   "cell_type": "code",
   "execution_count": 173,
   "id": "083f2003",
   "metadata": {},
   "outputs": [
    {
     "data": {
      "text/plain": [
       "'abc'"
      ]
     },
     "execution_count": 173,
     "metadata": {},
     "output_type": "execute_result"
    }
   ],
   "source": [
    "letters"
   ]
  },
  {
   "cell_type": "code",
   "execution_count": 174,
   "id": "2334638a",
   "metadata": {},
   "outputs": [],
   "source": [
    "size=3"
   ]
  },
  {
   "cell_type": "code",
   "execution_count": 175,
   "id": "7811fdba",
   "metadata": {},
   "outputs": [],
   "source": [
    "width = 4 * size - 3"
   ]
  },
  {
   "cell_type": "code",
   "execution_count": 176,
   "id": "402f7faa",
   "metadata": {},
   "outputs": [
    {
     "data": {
      "text/plain": [
       "9"
      ]
     },
     "execution_count": 176,
     "metadata": {},
     "output_type": "execute_result"
    }
   ],
   "source": [
    "width"
   ]
  },
  {
   "cell_type": "code",
   "execution_count": 177,
   "id": "eff0d296",
   "metadata": {},
   "outputs": [
    {
     "name": "stdout",
     "output_type": "stream",
     "text": [
      "----c----\n",
      "--c-b-c--\n"
     ]
    }
   ],
   "source": [
    "for i in range(size-1,0,-1):\n",
    "    line = '-'.join(letters[size - 1: i: -1] + letters[i: size])\n",
    "    print(line.center(width, '-'))"
   ]
  },
  {
   "cell_type": "code",
   "execution_count": 178,
   "id": "dc962f60",
   "metadata": {},
   "outputs": [],
   "source": [
    " line = '-'.join(letters[size - 1: i: -1] + letters[i: size])"
   ]
  },
  {
   "cell_type": "code",
   "execution_count": 179,
   "id": "7e459dd8",
   "metadata": {},
   "outputs": [
    {
     "data": {
      "text/plain": [
       "'c-b-c'"
      ]
     },
     "execution_count": 179,
     "metadata": {},
     "output_type": "execute_result"
    }
   ],
   "source": [
    "line"
   ]
  },
  {
   "cell_type": "code",
   "execution_count": 182,
   "id": "e9558b15",
   "metadata": {},
   "outputs": [
    {
     "name": "stdout",
     "output_type": "stream",
     "text": [
      "5\n"
     ]
    },
    {
     "ename": "AttributeError",
     "evalue": "module 'string' has no attribute 'acsii_lowercase'",
     "output_type": "error",
     "traceback": [
      "\u001b[1;31m---------------------------------------------------------------------------\u001b[0m",
      "\u001b[1;31mAttributeError\u001b[0m                            Traceback (most recent call last)",
      "\u001b[1;32m<ipython-input-182-2869cc8966e1>\u001b[0m in \u001b[0;36m<module>\u001b[1;34m\u001b[0m\n\u001b[0;32m     13\u001b[0m \u001b[1;32mif\u001b[0m \u001b[0m__name__\u001b[0m \u001b[1;33m==\u001b[0m \u001b[1;34m'__main__'\u001b[0m\u001b[1;33m:\u001b[0m\u001b[1;33m\u001b[0m\u001b[1;33m\u001b[0m\u001b[0m\n\u001b[0;32m     14\u001b[0m     \u001b[0mn\u001b[0m \u001b[1;33m=\u001b[0m \u001b[0mint\u001b[0m\u001b[1;33m(\u001b[0m\u001b[0minput\u001b[0m\u001b[1;33m(\u001b[0m\u001b[1;33m)\u001b[0m\u001b[1;33m)\u001b[0m\u001b[1;33m\u001b[0m\u001b[1;33m\u001b[0m\u001b[0m\n\u001b[1;32m---> 15\u001b[1;33m     \u001b[0mprint_rangoli\u001b[0m\u001b[1;33m(\u001b[0m\u001b[0mn\u001b[0m\u001b[1;33m)\u001b[0m\u001b[1;33m\u001b[0m\u001b[1;33m\u001b[0m\u001b[0m\n\u001b[0m",
      "\u001b[1;32m<ipython-input-182-2869cc8966e1>\u001b[0m in \u001b[0;36mprint_rangoli\u001b[1;34m(size)\u001b[0m\n\u001b[0;32m      1\u001b[0m \u001b[1;32mimport\u001b[0m \u001b[0mstring\u001b[0m\u001b[1;33m\u001b[0m\u001b[1;33m\u001b[0m\u001b[0m\n\u001b[0;32m      2\u001b[0m \u001b[1;32mdef\u001b[0m \u001b[0mprint_rangoli\u001b[0m\u001b[1;33m(\u001b[0m\u001b[0msize\u001b[0m\u001b[1;33m)\u001b[0m\u001b[1;33m:\u001b[0m\u001b[1;33m\u001b[0m\u001b[1;33m\u001b[0m\u001b[0m\n\u001b[1;32m----> 3\u001b[1;33m     \u001b[0mletters\u001b[0m \u001b[1;33m=\u001b[0m \u001b[0mstring\u001b[0m\u001b[1;33m.\u001b[0m\u001b[0macsii_lowercase\u001b[0m\u001b[1;33m[\u001b[0m\u001b[1;33m:\u001b[0m\u001b[0msize\u001b[0m\u001b[1;33m]\u001b[0m\u001b[1;33m\u001b[0m\u001b[1;33m\u001b[0m\u001b[0m\n\u001b[0m\u001b[0;32m      4\u001b[0m     \u001b[0mwidth\u001b[0m \u001b[1;33m=\u001b[0m \u001b[1;36m4\u001b[0m \u001b[1;33m*\u001b[0m \u001b[0msize\u001b[0m \u001b[1;33m-\u001b[0m \u001b[1;36m3\u001b[0m\u001b[1;33m\u001b[0m\u001b[1;33m\u001b[0m\u001b[0m\n\u001b[0;32m      5\u001b[0m \u001b[1;33m\u001b[0m\u001b[0m\n",
      "\u001b[1;31mAttributeError\u001b[0m: module 'string' has no attribute 'acsii_lowercase'"
     ]
    }
   ],
   "source": [
    "import string\n",
    "def print_rangoli(size):\n",
    "    letters = string.acsii_lowercase[:size]\n",
    "    width = 4 * size - 3\n",
    "    \n",
    "    for i in range(size-1, 0, -1):\n",
    "        line = '-'.join(letters[size - 1: i: -1] + letters[i: size])\n",
    "        print(line.center(width, '-'))\n",
    "    for i in range(size):\n",
    "        line = '-'.join(letters[size - 1: i: -1] + letters[i: size])\n",
    "        print(line.center(width,'-'))\n",
    "\n",
    "if __name__ == '__main__':\n",
    "    n = int(input())\n",
    "    print_rangoli(n)"
   ]
  },
  {
   "cell_type": "code",
   "execution_count": 187,
   "id": "0049e7ec",
   "metadata": {},
   "outputs": [
    {
     "data": {
      "text/plain": [
       "['123abc', 'sp']"
      ]
     },
     "execution_count": 187,
     "metadata": {},
     "output_type": "execute_result"
    }
   ],
   "source": [
    "\"123abc sp\".split()"
   ]
  },
  {
   "cell_type": "code",
   "execution_count": 188,
   "id": "78c4fd57",
   "metadata": {},
   "outputs": [
    {
     "ename": "NameError",
     "evalue": "name 'capitalize' is not defined",
     "output_type": "error",
     "traceback": [
      "\u001b[1;31m---------------------------------------------------------------------------\u001b[0m",
      "\u001b[1;31mNameError\u001b[0m                                 Traceback (most recent call last)",
      "\u001b[1;32m<ipython-input-188-ca6e82567156>\u001b[0m in \u001b[0;36m<module>\u001b[1;34m\u001b[0m\n\u001b[1;32m----> 1\u001b[1;33m \u001b[0mlist\u001b[0m\u001b[1;33m(\u001b[0m\u001b[0mmap\u001b[0m\u001b[1;33m(\u001b[0m\u001b[0mcapitalize\u001b[0m\u001b[1;33m(\u001b[0m\u001b[1;33m)\u001b[0m\u001b[1;33m,\u001b[0m\u001b[1;34m\"123abc sp\"\u001b[0m\u001b[1;33m.\u001b[0m\u001b[0msplit\u001b[0m\u001b[1;33m(\u001b[0m\u001b[1;33m)\u001b[0m\u001b[1;33m)\u001b[0m\u001b[1;33m)\u001b[0m\u001b[1;33m\u001b[0m\u001b[1;33m\u001b[0m\u001b[0m\n\u001b[0m",
      "\u001b[1;31mNameError\u001b[0m: name 'capitalize' is not defined"
     ]
    }
   ],
   "source": [
    "list(map(capitalize(),\"123abc sp\".split()))"
   ]
  },
  {
   "cell_type": "code",
   "execution_count": 191,
   "id": "578ab239",
   "metadata": {},
   "outputs": [
    {
     "data": {
      "text/plain": [
       "'Abc'"
      ]
     },
     "execution_count": 191,
     "metadata": {},
     "output_type": "execute_result"
    }
   ],
   "source": [
    "\"abc\".capitalize()"
   ]
  },
  {
   "cell_type": "code",
   "execution_count": 192,
   "id": "aa1e6eaf",
   "metadata": {},
   "outputs": [],
   "source": [
    "a=[x.capitalize() for x in \"123abc sp\".split()]"
   ]
  },
  {
   "cell_type": "code",
   "execution_count": 193,
   "id": "acbb3e24",
   "metadata": {},
   "outputs": [
    {
     "data": {
      "text/plain": [
       "['123abc', 'Sp']"
      ]
     },
     "execution_count": 193,
     "metadata": {},
     "output_type": "execute_result"
    }
   ],
   "source": [
    "a"
   ]
  },
  {
   "cell_type": "code",
   "execution_count": 194,
   "id": "0fb9d540",
   "metadata": {},
   "outputs": [
    {
     "data": {
      "text/plain": [
       "'123abc Sp'"
      ]
     },
     "execution_count": 194,
     "metadata": {},
     "output_type": "execute_result"
    }
   ],
   "source": [
    "\" \".join(a)"
   ]
  },
  {
   "cell_type": "code",
   "execution_count": 196,
   "id": "0c629685",
   "metadata": {},
   "outputs": [
    {
     "name": "stdout",
     "output_type": "stream",
     "text": [
      "Hello World Lol\n"
     ]
    }
   ],
   "source": [
    "a=\"hello   world  lol\".split()\n",
    "b=[x.capitalize() for x in a]\n",
    "print (' '.join(b))"
   ]
  },
  {
   "cell_type": "code",
   "execution_count": 197,
   "id": "1eed0b4e",
   "metadata": {},
   "outputs": [],
   "source": [
    "def solve(s):\n",
    "    c= \"\"\n",
    "    for i in range(0,len(s)):\n",
    "        if i == 0:\n",
    "            c = c + (s[i].upper())\n",
    "        elif s[i-1] == \" \":\n",
    "            c = c + (s[i].upper())\n",
    "        else:\n",
    "            c = c + s[i]\n",
    "    return c"
   ]
  },
  {
   "cell_type": "code",
   "execution_count": 198,
   "id": "c24d7afd",
   "metadata": {},
   "outputs": [
    {
     "data": {
      "text/plain": [
       "'Hello   World  Lol'"
      ]
     },
     "execution_count": 198,
     "metadata": {},
     "output_type": "execute_result"
    }
   ],
   "source": [
    "solve(\"hello   world  lol\")"
   ]
  },
  {
   "cell_type": "code",
   "execution_count": 199,
   "id": "3e6bd0fc",
   "metadata": {},
   "outputs": [
    {
     "name": "stdout",
     "output_type": "stream",
     "text": [
      "10 20 30 50 40 60\n"
     ]
    }
   ],
   "source": [
    "arr = input().strip().split(' ')"
   ]
  },
  {
   "cell_type": "code",
   "execution_count": 200,
   "id": "c06e007d",
   "metadata": {},
   "outputs": [
    {
     "data": {
      "text/plain": [
       "['10', '20', '30', '50', '40', '60']"
      ]
     },
     "execution_count": 200,
     "metadata": {},
     "output_type": "execute_result"
    }
   ],
   "source": [
    "arr"
   ]
  },
  {
   "cell_type": "code",
   "execution_count": 201,
   "id": "15301624",
   "metadata": {},
   "outputs": [
    {
     "name": "stdout",
     "output_type": "stream",
     "text": [
      "10 56 48 752 02\n"
     ]
    }
   ],
   "source": [
    "arr = input().split(' ')"
   ]
  },
  {
   "cell_type": "code",
   "execution_count": 202,
   "id": "f78f8f8c",
   "metadata": {},
   "outputs": [
    {
     "data": {
      "text/plain": [
       "['10', '56', '48', '752', '02']"
      ]
     },
     "execution_count": 202,
     "metadata": {},
     "output_type": "execute_result"
    }
   ],
   "source": [
    "arr"
   ]
  },
  {
   "cell_type": "code",
   "execution_count": 212,
   "id": "8a7af5af",
   "metadata": {},
   "outputs": [
    {
     "name": "stdout",
     "output_type": "stream",
     "text": [
      "1 2 4 6 -8 -10\n",
      "nan\n"
     ]
    }
   ],
   "source": [
    "import numpy\n",
    "\n",
    "def arrays(arr):\n",
    "    arr=arr.reverse()\n",
    "    arr=numpy.array(arr,float)\n",
    "    return arr\n",
    "    \n",
    "\n",
    "arr = input().strip().split(' ')\n",
    "result = arrays(arr)\n",
    "print(result)"
   ]
  },
  {
   "cell_type": "code",
   "execution_count": 205,
   "id": "31f28f83",
   "metadata": {},
   "outputs": [],
   "source": [
    "arr=numpy.array([1,2,3,4,-8,-10].reverse(),float)"
   ]
  },
  {
   "cell_type": "code",
   "execution_count": 206,
   "id": "0da62f45",
   "metadata": {},
   "outputs": [
    {
     "data": {
      "text/plain": [
       "array(nan)"
      ]
     },
     "execution_count": 206,
     "metadata": {},
     "output_type": "execute_result"
    }
   ],
   "source": [
    "arr"
   ]
  },
  {
   "cell_type": "code",
   "execution_count": 209,
   "id": "163ac055",
   "metadata": {},
   "outputs": [
    {
     "data": {
      "text/plain": [
       "<list_reverseiterator at 0x1a16dd2b7f0>"
      ]
     },
     "execution_count": 209,
     "metadata": {},
     "output_type": "execute_result"
    }
   ],
   "source": [
    "reversed([1,2,3,4,-8,-10])"
   ]
  },
  {
   "cell_type": "code",
   "execution_count": 211,
   "id": "a03adea5",
   "metadata": {},
   "outputs": [
    {
     "name": "stdout",
     "output_type": "stream",
     "text": [
      "None\n"
     ]
    }
   ],
   "source": [
    "print([1,2,3,4,-8,-10].reverse())"
   ]
  },
  {
   "cell_type": "code",
   "execution_count": 214,
   "id": "6565f74f",
   "metadata": {},
   "outputs": [
    {
     "ename": "NameError",
     "evalue": "name 'my_1D_array' is not defined",
     "output_type": "error",
     "traceback": [
      "\u001b[1;31m---------------------------------------------------------------------------\u001b[0m",
      "\u001b[1;31mNameError\u001b[0m                                 Traceback (most recent call last)",
      "\u001b[1;32m<ipython-input-214-ca2902f5a9f4>\u001b[0m in \u001b[0;36m<module>\u001b[1;34m\u001b[0m\n\u001b[0;32m      2\u001b[0m \u001b[1;33m\u001b[0m\u001b[0m\n\u001b[0;32m      3\u001b[0m \u001b[0mmy__1D_array\u001b[0m \u001b[1;33m=\u001b[0m \u001b[0mnumpy\u001b[0m\u001b[1;33m.\u001b[0m\u001b[0marray\u001b[0m\u001b[1;33m(\u001b[0m\u001b[1;33m[\u001b[0m\u001b[1;36m1\u001b[0m\u001b[1;33m,\u001b[0m \u001b[1;36m2\u001b[0m\u001b[1;33m,\u001b[0m \u001b[1;36m3\u001b[0m\u001b[1;33m,\u001b[0m \u001b[1;36m4\u001b[0m\u001b[1;33m,\u001b[0m \u001b[1;36m5\u001b[0m\u001b[1;33m]\u001b[0m\u001b[1;33m)\u001b[0m\u001b[1;33m\u001b[0m\u001b[1;33m\u001b[0m\u001b[0m\n\u001b[1;32m----> 4\u001b[1;33m \u001b[0mprint\u001b[0m \u001b[1;33m(\u001b[0m\u001b[0mmy_1D_array\u001b[0m\u001b[1;33m.\u001b[0m\u001b[0mshape\u001b[0m\u001b[1;33m)\u001b[0m     \u001b[1;31m#(5,) -> 1 row and 5 columns\u001b[0m\u001b[1;33m\u001b[0m\u001b[1;33m\u001b[0m\u001b[0m\n\u001b[0m\u001b[0;32m      5\u001b[0m \u001b[1;33m\u001b[0m\u001b[0m\n\u001b[0;32m      6\u001b[0m \u001b[0mmy__2D_array\u001b[0m \u001b[1;33m=\u001b[0m \u001b[0mnumpy\u001b[0m\u001b[1;33m.\u001b[0m\u001b[0marray\u001b[0m\u001b[1;33m(\u001b[0m\u001b[1;33m[\u001b[0m\u001b[1;33m[\u001b[0m\u001b[1;36m1\u001b[0m\u001b[1;33m,\u001b[0m \u001b[1;36m2\u001b[0m\u001b[1;33m]\u001b[0m\u001b[1;33m,\u001b[0m\u001b[1;33m[\u001b[0m\u001b[1;36m3\u001b[0m\u001b[1;33m,\u001b[0m \u001b[1;36m4\u001b[0m\u001b[1;33m]\u001b[0m\u001b[1;33m,\u001b[0m\u001b[1;33m[\u001b[0m\u001b[1;36m6\u001b[0m\u001b[1;33m,\u001b[0m\u001b[1;36m5\u001b[0m\u001b[1;33m]\u001b[0m\u001b[1;33m]\u001b[0m\u001b[1;33m)\u001b[0m\u001b[1;33m\u001b[0m\u001b[1;33m\u001b[0m\u001b[0m\n",
      "\u001b[1;31mNameError\u001b[0m: name 'my_1D_array' is not defined"
     ]
    }
   ],
   "source": [
    "import numpy\n",
    "\n",
    "my__1D_array = numpy.array([1, 2, 3, 4, 5])\n",
    "print (my_1D_array.shape)     #(5,) -> 1 row and 5 columns\n",
    "\n",
    "my__2D_array = numpy.array([[1, 2],[3, 4],[6,5]])\n",
    "print (my_2D_array.shape   )  #(3, 2) -> 3 rows and 2 columns "
   ]
  },
  {
   "cell_type": "code",
   "execution_count": 215,
   "id": "befca901",
   "metadata": {},
   "outputs": [],
   "source": [
    "my__2D_array = numpy.array([[1, 2],[3, 4],[6,5]])"
   ]
  },
  {
   "cell_type": "code",
   "execution_count": 216,
   "id": "3dceed0e",
   "metadata": {},
   "outputs": [
    {
     "data": {
      "text/plain": [
       "array([[1, 2],\n",
       "       [3, 4],\n",
       "       [6, 5]])"
      ]
     },
     "execution_count": 216,
     "metadata": {},
     "output_type": "execute_result"
    }
   ],
   "source": [
    "my__2D_array"
   ]
  },
  {
   "cell_type": "code",
   "execution_count": 222,
   "id": "20a6eddb",
   "metadata": {},
   "outputs": [
    {
     "name": "stdout",
     "output_type": "stream",
     "text": [
      "3 2\n",
      "1 2\n",
      "3 4\n",
      "5 6\n",
      "[[1 3 5]\n",
      " [2 4 6]]\n",
      "[1 2 3 4 5 6]\n"
     ]
    }
   ],
   "source": [
    "import numpy as np\n",
    "N,M=input().split(\" \")\n",
    "M=int(M)\n",
    "N=int(N)\n",
    "arr=[]\n",
    "for i in range(N):\n",
    "    a=input().split()\n",
    "    arr.append([int(x) for x in a])\n",
    "    \n",
    "print(np.transpose(arr))\n",
    "print(np.array(arr).flatten())\n",
    "    "
   ]
  },
  {
   "cell_type": "code",
   "execution_count": 227,
   "id": "891362c5",
   "metadata": {},
   "outputs": [
    {
     "name": "stdout",
     "output_type": "stream",
     "text": [
      "[[1 2 3]\n",
      " [0 0 1]\n",
      " [0 0 0]\n",
      " [7 8 9]]\n"
     ]
    }
   ],
   "source": [
    "import numpy\n",
    "\n",
    "array_1 = numpy.array([[1,2,3],[0,0,1]])\n",
    "array_2 = numpy.array([[0,0,0],[7,8,9]])\n",
    "\n",
    "print (numpy.concatenate((array_1, array_2), axis = 0)   )\n",
    "\n",
    "#Output\n",
    "#[[1 2 3 0 0 0]\n",
    " #[0 0 0 7 8 9]]  "
   ]
  },
  {
   "cell_type": "code",
   "execution_count": 228,
   "id": "43e40f4f",
   "metadata": {},
   "outputs": [
    {
     "ename": "AttributeError",
     "evalue": "'function' object has no attribute 'split'",
     "output_type": "error",
     "traceback": [
      "\u001b[1;31m---------------------------------------------------------------------------\u001b[0m",
      "\u001b[1;31mAttributeError\u001b[0m                            Traceback (most recent call last)",
      "\u001b[1;32m<ipython-input-228-1f6e93e24b9a>\u001b[0m in \u001b[0;36m<module>\u001b[1;34m\u001b[0m\n\u001b[0;32m      1\u001b[0m \u001b[1;32mimport\u001b[0m \u001b[0mnumpy\u001b[0m \u001b[1;32mas\u001b[0m \u001b[0mnp\u001b[0m\u001b[1;33m\u001b[0m\u001b[1;33m\u001b[0m\u001b[0m\n\u001b[1;32m----> 2\u001b[1;33m \u001b[0mN\u001b[0m\u001b[1;33m,\u001b[0m\u001b[0mM\u001b[0m\u001b[1;33m,\u001b[0m\u001b[0mP\u001b[0m\u001b[1;33m=\u001b[0m\u001b[0minput\u001b[0m\u001b[1;33m.\u001b[0m\u001b[0msplit\u001b[0m\u001b[1;33m(\u001b[0m\u001b[1;33m)\u001b[0m\u001b[1;33m\u001b[0m\u001b[1;33m\u001b[0m\u001b[0m\n\u001b[0m\u001b[0;32m      3\u001b[0m \u001b[0mN\u001b[0m\u001b[1;33m=\u001b[0m\u001b[0mint\u001b[0m\u001b[1;33m(\u001b[0m\u001b[0mN\u001b[0m\u001b[1;33m)\u001b[0m\u001b[1;33m\u001b[0m\u001b[1;33m\u001b[0m\u001b[0m\n\u001b[0;32m      4\u001b[0m \u001b[0mM\u001b[0m\u001b[1;33m=\u001b[0m\u001b[0mint\u001b[0m\u001b[1;33m(\u001b[0m\u001b[0mM\u001b[0m\u001b[1;33m)\u001b[0m\u001b[1;33m\u001b[0m\u001b[1;33m\u001b[0m\u001b[0m\n\u001b[0;32m      5\u001b[0m \u001b[0mP\u001b[0m\u001b[1;33m=\u001b[0m\u001b[0mint\u001b[0m\u001b[1;33m(\u001b[0m\u001b[0mP\u001b[0m\u001b[1;33m)\u001b[0m\u001b[1;33m\u001b[0m\u001b[1;33m\u001b[0m\u001b[0m\n",
      "\u001b[1;31mAttributeError\u001b[0m: 'function' object has no attribute 'split'"
     ]
    }
   ],
   "source": [
    "import numpy as np\n",
    "N,M,P=input.split()\n",
    "N=int(N)\n",
    "M=int(M)\n",
    "P=int(P)\n",
    "arr1=[]\n",
    "arr2=[]\n",
    "for i in range(N):\n",
    "    ele_1=[int(x) for x in input().split()]\n",
    "    arr1.append(ele_1)\n",
    "    \n",
    "for j in range(M):\n",
    "    ele_2=[int(y) for y in input().split()]\n",
    "    arr2.append(ele_2)\n",
    "    \n",
    "arr1=np.array(arr1)\n",
    "arr2=np.array(arr2)\n",
    "\n",
    "print(np.concatenate((arr1,arr2),axis=0))"
   ]
  },
  {
   "cell_type": "code",
   "execution_count": 234,
   "id": "95dc8a3a",
   "metadata": {},
   "outputs": [
    {
     "name": "stdout",
     "output_type": "stream",
     "text": [
      "3 2\n",
      "[[0 0]\n",
      " [0 0]\n",
      " [0 0]]\n",
      "[[1 1]\n",
      " [1 1]\n",
      " [1 1]]\n"
     ]
    }
   ],
   "source": [
    "import numpy as np\n",
    "tup=tuple([int(x) for x in input().split()])\n",
    "#M=int(M)\n",
    "#N=int(N)\n",
    "#P=int(P)\n",
    "\n",
    "print(numpy.zeros(tup,dtype = int))\n",
    "print(numpy.ones(tup,dtype = int))"
   ]
  },
  {
   "cell_type": "code",
   "execution_count": null,
   "id": "068b2fde",
   "metadata": {},
   "outputs": [],
   "source": []
  }
 ],
 "metadata": {
  "kernelspec": {
   "display_name": "Python 3",
   "language": "python",
   "name": "python3"
  },
  "language_info": {
   "codemirror_mode": {
    "name": "ipython",
    "version": 3
   },
   "file_extension": ".py",
   "mimetype": "text/x-python",
   "name": "python",
   "nbconvert_exporter": "python",
   "pygments_lexer": "ipython3",
   "version": "3.8.8"
  }
 },
 "nbformat": 4,
 "nbformat_minor": 5
}
