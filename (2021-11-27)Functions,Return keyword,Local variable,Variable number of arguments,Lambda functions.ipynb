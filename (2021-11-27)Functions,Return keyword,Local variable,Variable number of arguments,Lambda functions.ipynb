{
 "cells": [
  {
   "cell_type": "markdown",
   "id": "bfec4e75",
   "metadata": {},
   "source": [
    "# Local variable vs Global variable"
   ]
  },
  {
   "cell_type": "raw",
   "id": "9353e134",
   "metadata": {},
   "source": [
    "Local variable:- Variables present inside a function is known as local variable. They cannot be accessed from outside the function."
   ]
  },
  {
   "cell_type": "code",
   "execution_count": 2,
   "id": "0dee35e2",
   "metadata": {},
   "outputs": [],
   "source": [
    "def multiplyfunction():\n",
    "    m=5                      #m and n are local variables\n",
    "    n=4\n",
    "    z=m*n\n",
    "    print('product of a and b is ',z)"
   ]
  },
  {
   "cell_type": "code",
   "execution_count": 3,
   "id": "f8ed9f5c",
   "metadata": {},
   "outputs": [
    {
     "ename": "NameError",
     "evalue": "name 'm' is not defined",
     "output_type": "error",
     "traceback": [
      "\u001b[1;31m---------------------------------------------------------------------------\u001b[0m",
      "\u001b[1;31mNameError\u001b[0m                                 Traceback (most recent call last)",
      "\u001b[1;32m<ipython-input-3-e655505db80c>\u001b[0m in \u001b[0;36m<module>\u001b[1;34m\u001b[0m\n\u001b[0;32m      1\u001b[0m \u001b[1;31m#trying to access a local variable from ouside a function\u001b[0m\u001b[1;33m\u001b[0m\u001b[1;33m\u001b[0m\u001b[1;33m\u001b[0m\u001b[0m\n\u001b[1;32m----> 2\u001b[1;33m \u001b[0mm\u001b[0m\u001b[1;33m\u001b[0m\u001b[1;33m\u001b[0m\u001b[0m\n\u001b[0m",
      "\u001b[1;31mNameError\u001b[0m: name 'm' is not defined"
     ]
    }
   ],
   "source": [
    "#trying to access a local variable from ouside a function\n",
    "m                 #it is showing that m is not defined since it is inside a function."
   ]
  },
  {
   "cell_type": "code",
   "execution_count": 4,
   "id": "bd489d95",
   "metadata": {},
   "outputs": [],
   "source": [
    "x=10 #x is a global variable."
   ]
  },
  {
   "cell_type": "code",
   "execution_count": 5,
   "id": "70a9a97b",
   "metadata": {},
   "outputs": [
    {
     "data": {
      "text/plain": [
       "10"
      ]
     },
     "execution_count": 5,
     "metadata": {},
     "output_type": "execute_result"
    }
   ],
   "source": [
    "x"
   ]
  },
  {
   "cell_type": "markdown",
   "id": "aa91a33f",
   "metadata": {},
   "source": [
    "# Return keyword"
   ]
  },
  {
   "cell_type": "raw",
   "id": "caa43618",
   "metadata": {},
   "source": [
    "Return keyword helps us to take out any data outside a function.\n",
    "Using return keyword instead to print is a good practice because the output obtained using return keyword can be stored inside a variable."
   ]
  },
  {
   "cell_type": "code",
   "execution_count": 1,
   "id": "04278c51",
   "metadata": {},
   "outputs": [],
   "source": [
    "def additionfunc(a,b):\n",
    "    c=a+b\n",
    "    print(c)"
   ]
  },
  {
   "cell_type": "code",
   "execution_count": 2,
   "id": "c199873c",
   "metadata": {},
   "outputs": [
    {
     "name": "stdout",
     "output_type": "stream",
     "text": [
      "9\n"
     ]
    }
   ],
   "source": [
    "m=additionfunc(4,5)"
   ]
  },
  {
   "cell_type": "code",
   "execution_count": 3,
   "id": "62877592",
   "metadata": {},
   "outputs": [],
   "source": [
    "m   #m is not giving any output because return keyword is not present inside the function additionfunc."
   ]
  },
  {
   "cell_type": "code",
   "execution_count": 23,
   "id": "4eb792d7",
   "metadata": {},
   "outputs": [],
   "source": [
    "def additionfunc_return(a,b):\n",
    "    c=a+b\n",
    "    return(c)"
   ]
  },
  {
   "cell_type": "code",
   "execution_count": 25,
   "id": "7f8ab2ae",
   "metadata": {},
   "outputs": [],
   "source": [
    "n=additionfunc_return(4,5)"
   ]
  },
  {
   "cell_type": "code",
   "execution_count": 29,
   "id": "7bf7cda7",
   "metadata": {},
   "outputs": [
    {
     "data": {
      "text/plain": [
       "9"
      ]
     },
     "execution_count": 29,
     "metadata": {},
     "output_type": "execute_result"
    }
   ],
   "source": [
    "n    #n is not giving any output because return keyword is present inside function additionfunc_return."
   ]
  },
  {
   "cell_type": "markdown",
   "id": "e4578375",
   "metadata": {},
   "source": [
    "# Use of return keyword inside for loop"
   ]
  },
  {
   "cell_type": "code",
   "execution_count": 32,
   "id": "99128cb6",
   "metadata": {},
   "outputs": [],
   "source": [
    "def run():\n",
    "    for x in range(10):\n",
    "        if x==5:\n",
    "            return\n",
    "        print(\"Run\")"
   ]
  },
  {
   "cell_type": "code",
   "execution_count": 33,
   "id": "062db13c",
   "metadata": {},
   "outputs": [
    {
     "name": "stdout",
     "output_type": "stream",
     "text": [
      "Run\n",
      "Run\n",
      "Run\n",
      "Run\n",
      "Run\n"
     ]
    }
   ],
   "source": [
    "run()     #return function is stopping the iteration of the loop as soon as X==5"
   ]
  },
  {
   "cell_type": "code",
   "execution_count": 34,
   "id": "eb729c33",
   "metadata": {},
   "outputs": [],
   "source": [
    "def run2():\n",
    "    for i in range(10):\n",
    "        if i==5:\n",
    "            return\n",
    "        print(i)"
   ]
  },
  {
   "cell_type": "code",
   "execution_count": 35,
   "id": "6485069c",
   "metadata": {},
   "outputs": [
    {
     "name": "stdout",
     "output_type": "stream",
     "text": [
      "0\n",
      "1\n",
      "2\n",
      "3\n",
      "4\n"
     ]
    }
   ],
   "source": [
    "run2()"
   ]
  },
  {
   "cell_type": "code",
   "execution_count": 46,
   "id": "55a23da0",
   "metadata": {},
   "outputs": [],
   "source": [
    "def sumfunc(a1,a2):\n",
    "    tot=a1*a2\n",
    "    print(tot)\n",
    "    return(tot)\n",
    "    "
   ]
  },
  {
   "cell_type": "code",
   "execution_count": 47,
   "id": "7a486791",
   "metadata": {},
   "outputs": [
    {
     "name": "stdout",
     "output_type": "stream",
     "text": [
      "6\n"
     ]
    },
    {
     "data": {
      "text/plain": [
       "6"
      ]
     },
     "execution_count": 47,
     "metadata": {},
     "output_type": "execute_result"
    }
   ],
   "source": [
    "sumfunc(2,3)"
   ]
  },
  {
   "cell_type": "code",
   "execution_count": 48,
   "id": "67e7d12e",
   "metadata": {},
   "outputs": [
    {
     "name": "stdout",
     "output_type": "stream",
     "text": [
      "6\n"
     ]
    }
   ],
   "source": [
    "a=sumfunc(2,3)"
   ]
  },
  {
   "cell_type": "code",
   "execution_count": 41,
   "id": "1b1ed7bf",
   "metadata": {},
   "outputs": [
    {
     "data": {
      "text/plain": [
       "6"
      ]
     },
     "execution_count": 41,
     "metadata": {},
     "output_type": "execute_result"
    }
   ],
   "source": [
    "a #output stored inside a variable because of the return keyword."
   ]
  },
  {
   "cell_type": "code",
   "execution_count": 49,
   "id": "51f34887",
   "metadata": {},
   "outputs": [],
   "source": [
    "def mulfunc(a1,a2):\n",
    "    tot=a1*a2\n",
    "    print('The product is',tot)\n",
    "    return('The product is',tot)\n",
    "    "
   ]
  },
  {
   "cell_type": "code",
   "execution_count": 50,
   "id": "c5ecee06",
   "metadata": {},
   "outputs": [
    {
     "name": "stdout",
     "output_type": "stream",
     "text": [
      "The product is 6\n"
     ]
    },
    {
     "data": {
      "text/plain": [
       "('The product is', 6)"
      ]
     },
     "execution_count": 50,
     "metadata": {},
     "output_type": "execute_result"
    }
   ],
   "source": [
    "mulfunc(2,3)"
   ]
  },
  {
   "cell_type": "code",
   "execution_count": 51,
   "id": "9700620a",
   "metadata": {},
   "outputs": [
    {
     "name": "stdout",
     "output_type": "stream",
     "text": [
      "The product is 6\n"
     ]
    }
   ],
   "source": [
    "a=mulfunc(2,3)"
   ]
  },
  {
   "cell_type": "code",
   "execution_count": 52,
   "id": "5aef4958",
   "metadata": {},
   "outputs": [
    {
     "data": {
      "text/plain": [
       "('The product is', 6)"
      ]
     },
     "execution_count": 52,
     "metadata": {},
     "output_type": "execute_result"
    }
   ],
   "source": [
    "a #variable stored inside a variable because of the return keyword."
   ]
  },
  {
   "cell_type": "markdown",
   "id": "fd4d9ee9",
   "metadata": {},
   "source": [
    "# Variable number of arguments for a function"
   ]
  },
  {
   "cell_type": "raw",
   "id": "56b4e0d1",
   "metadata": {},
   "source": [
    "In case you don't know how many arguments we want to pass to a function, you can use the following syntax with *args."
   ]
  },
  {
   "cell_type": "code",
   "execution_count": 53,
   "id": "35feaed1",
   "metadata": {},
   "outputs": [],
   "source": [
    "def sum_unlimited(*x):\n",
    "    return sum(x)"
   ]
  },
  {
   "cell_type": "code",
   "execution_count": 54,
   "id": "0299d340",
   "metadata": {},
   "outputs": [
    {
     "data": {
      "text/plain": [
       "20"
      ]
     },
     "execution_count": 54,
     "metadata": {},
     "output_type": "execute_result"
    }
   ],
   "source": [
    "sum_unlimited(6,4,10)"
   ]
  },
  {
   "cell_type": "code",
   "execution_count": 55,
   "id": "0a7bf5e3",
   "metadata": {},
   "outputs": [
    {
     "data": {
      "text/plain": [
       "106"
      ]
     },
     "execution_count": 55,
     "metadata": {},
     "output_type": "execute_result"
    }
   ],
   "source": [
    "sum_unlimited(5,23,78)"
   ]
  },
  {
   "cell_type": "code",
   "execution_count": 56,
   "id": "0a79ad9f",
   "metadata": {},
   "outputs": [],
   "source": [
    "def max_unlimited(*x):\n",
    "    return max(x)"
   ]
  },
  {
   "cell_type": "code",
   "execution_count": 57,
   "id": "f665eb76",
   "metadata": {},
   "outputs": [
    {
     "data": {
      "text/plain": [
       "10"
      ]
     },
     "execution_count": 57,
     "metadata": {},
     "output_type": "execute_result"
    }
   ],
   "source": [
    "max_unlimited(6,4,10)"
   ]
  },
  {
   "cell_type": "code",
   "execution_count": 58,
   "id": "891875fb",
   "metadata": {},
   "outputs": [],
   "source": [
    "def min_unlimited(*x):\n",
    "    return max(x)"
   ]
  },
  {
   "cell_type": "code",
   "execution_count": 59,
   "id": "618d9712",
   "metadata": {},
   "outputs": [
    {
     "data": {
      "text/plain": [
       "78"
      ]
     },
     "execution_count": 59,
     "metadata": {},
     "output_type": "execute_result"
    }
   ],
   "source": [
    "min_unlimited(5,23,78)"
   ]
  },
  {
   "cell_type": "code",
   "execution_count": 64,
   "id": "6f7ed071",
   "metadata": {},
   "outputs": [],
   "source": [
    "#adding multiple arguments without using sum()\n",
    "def sum_manual(*numbers):\n",
    "    s=0\n",
    "    for n in numbers:\n",
    "        s=s+n\n",
    "    return(s)"
   ]
  },
  {
   "cell_type": "code",
   "execution_count": 65,
   "id": "5b9a8faf",
   "metadata": {},
   "outputs": [
    {
     "data": {
      "text/plain": [
       "620"
      ]
     },
     "execution_count": 65,
     "metadata": {},
     "output_type": "execute_result"
    }
   ],
   "source": [
    "sum_manual(10,585,25)"
   ]
  },
  {
   "cell_type": "code",
   "execution_count": 6,
   "id": "5215ea6d",
   "metadata": {},
   "outputs": [],
   "source": [
    "#what will happen if we keep return(s) inside the for loop by mistake\n",
    "def sum_manual_wrong(*numbers):\n",
    "    s=0\n",
    "    for n in numbers:\n",
    "        s=s+n\n",
    "        return(s)"
   ]
  },
  {
   "cell_type": "code",
   "execution_count": 7,
   "id": "877babda",
   "metadata": {},
   "outputs": [
    {
     "data": {
      "text/plain": [
       "10"
      ]
     },
     "execution_count": 7,
     "metadata": {},
     "output_type": "execute_result"
    }
   ],
   "source": [
    "sum_manual_wrong(10,585,25)"
   ]
  },
  {
   "cell_type": "code",
   "execution_count": 76,
   "id": "6679c2d8",
   "metadata": {},
   "outputs": [],
   "source": [
    "#how the indentattion matters?\n",
    "def sum_manual_wrong1(*numbers):\n",
    "    s=0\n",
    "    for n in numbers:\n",
    "        s=s+n\n",
    "        print(s)\n",
    "    print('The ultimate result is:',s)"
   ]
  },
  {
   "cell_type": "code",
   "execution_count": 77,
   "id": "e11b5aef",
   "metadata": {},
   "outputs": [
    {
     "name": "stdout",
     "output_type": "stream",
     "text": [
      "10\n",
      "595\n",
      "620\n",
      "The ultimate result is: 620\n"
     ]
    }
   ],
   "source": [
    "sum_manual_wrong1(10,585,25)"
   ]
  },
  {
   "cell_type": "markdown",
   "id": "c48b50e8",
   "metadata": {},
   "source": [
    "# Anonymous function od Lambda functions"
   ]
  },
  {
   "cell_type": "raw",
   "id": "348f6887",
   "metadata": {},
   "source": [
    "A lambda function is a small function containing a single expression. Lambda functions can also act as anonymous functions where they don't require any name. They are very helpful when we have to perform small tasks with less code."
   ]
  },
  {
   "cell_type": "code",
   "execution_count": 78,
   "id": "e0fa6d03",
   "metadata": {},
   "outputs": [],
   "source": [
    "test=lambda x:x*2"
   ]
  },
  {
   "cell_type": "code",
   "execution_count": 79,
   "id": "cfae05a6",
   "metadata": {},
   "outputs": [
    {
     "data": {
      "text/plain": [
       "10"
      ]
     },
     "execution_count": 79,
     "metadata": {},
     "output_type": "execute_result"
    }
   ],
   "source": [
    "test(5)"
   ]
  },
  {
   "cell_type": "code",
   "execution_count": 80,
   "id": "ec8f239e",
   "metadata": {},
   "outputs": [],
   "source": [
    "a=test(10)"
   ]
  },
  {
   "cell_type": "code",
   "execution_count": 81,
   "id": "654f07a5",
   "metadata": {},
   "outputs": [
    {
     "data": {
      "text/plain": [
       "20"
      ]
     },
     "execution_count": 81,
     "metadata": {},
     "output_type": "execute_result"
    }
   ],
   "source": [
    "a"
   ]
  },
  {
   "cell_type": "code",
   "execution_count": 82,
   "id": "ba7e8087",
   "metadata": {},
   "outputs": [],
   "source": [
    "expt=lambda x,y:x+y"
   ]
  },
  {
   "cell_type": "code",
   "execution_count": 83,
   "id": "67c414cf",
   "metadata": {},
   "outputs": [
    {
     "data": {
      "text/plain": [
       "76"
      ]
     },
     "execution_count": 83,
     "metadata": {},
     "output_type": "execute_result"
    }
   ],
   "source": [
    "expt(20,56)"
   ]
  },
  {
   "cell_type": "code",
   "execution_count": 84,
   "id": "54b6b249",
   "metadata": {},
   "outputs": [],
   "source": [
    "b=expt(20,56)"
   ]
  },
  {
   "cell_type": "code",
   "execution_count": 85,
   "id": "4705a297",
   "metadata": {},
   "outputs": [
    {
     "data": {
      "text/plain": [
       "76"
      ]
     },
     "execution_count": 85,
     "metadata": {},
     "output_type": "execute_result"
    }
   ],
   "source": [
    "b"
   ]
  },
  {
   "cell_type": "code",
   "execution_count": 86,
   "id": "6e1fdefa",
   "metadata": {},
   "outputs": [],
   "source": [
    "sqrt=lambda x:x**0.5"
   ]
  },
  {
   "cell_type": "code",
   "execution_count": 87,
   "id": "84991825",
   "metadata": {},
   "outputs": [
    {
     "data": {
      "text/plain": [
       "3.0"
      ]
     },
     "execution_count": 87,
     "metadata": {},
     "output_type": "execute_result"
    }
   ],
   "source": [
    "sqrt(9)"
   ]
  },
  {
   "cell_type": "code",
   "execution_count": 88,
   "id": "6d0ae3bc",
   "metadata": {},
   "outputs": [],
   "source": [
    "#taking unknown number of arguments inside lambda function\n",
    "expt_2=lambda *x:sum(x)"
   ]
  },
  {
   "cell_type": "code",
   "execution_count": 89,
   "id": "10a9a206",
   "metadata": {},
   "outputs": [
    {
     "data": {
      "text/plain": [
       "597"
      ]
     },
     "execution_count": 89,
     "metadata": {},
     "output_type": "execute_result"
    }
   ],
   "source": [
    "expt_2(12,585)"
   ]
  },
  {
   "cell_type": "code",
   "execution_count": 90,
   "id": "ae3611a4",
   "metadata": {},
   "outputs": [],
   "source": [
    "#celcius to farenheit with lambda\n",
    "F=lambda x: (9/5)*x+32"
   ]
  },
  {
   "cell_type": "code",
   "execution_count": 91,
   "id": "d398ea78",
   "metadata": {},
   "outputs": [
    {
     "data": {
      "text/plain": [
       "101.12"
      ]
     },
     "execution_count": 91,
     "metadata": {},
     "output_type": "execute_result"
    }
   ],
   "source": [
    "F(38.4)"
   ]
  },
  {
   "cell_type": "code",
   "execution_count": 6,
   "id": "ba44846f",
   "metadata": {},
   "outputs": [
    {
     "data": {
      "text/plain": [
       "[2, 4, 6, 8]"
      ]
     },
     "execution_count": 6,
     "metadata": {},
     "output_type": "execute_result"
    }
   ],
   "source": [
    "#applying lambda on list\n",
    "mylist=[1,2,3,4]\n",
    "list(map(lambda x: x*2, mylist)) #map() is necessary for applying lambda function on a list"
   ]
  },
  {
   "cell_type": "code",
   "execution_count": null,
   "id": "d22ce603",
   "metadata": {},
   "outputs": [],
   "source": []
  }
 ],
 "metadata": {
  "kernelspec": {
   "display_name": "Python 3",
   "language": "python",
   "name": "python3"
  },
  "language_info": {
   "codemirror_mode": {
    "name": "ipython",
    "version": 3
   },
   "file_extension": ".py",
   "mimetype": "text/x-python",
   "name": "python",
   "nbconvert_exporter": "python",
   "pygments_lexer": "ipython3",
   "version": "3.8.8"
  }
 },
 "nbformat": 4,
 "nbformat_minor": 5
}
