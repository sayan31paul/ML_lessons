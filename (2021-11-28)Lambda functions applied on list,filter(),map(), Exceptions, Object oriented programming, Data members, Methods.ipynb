{
 "cells": [
  {
   "cell_type": "code",
   "execution_count": 1,
   "id": "9799e9bf",
   "metadata": {},
   "outputs": [],
   "source": [
    "F=lambda x: (9/5)*x+32"
   ]
  },
  {
   "cell_type": "code",
   "execution_count": 6,
   "id": "019ec762",
   "metadata": {},
   "outputs": [],
   "source": [
    "C_list=[1,2,3,4]"
   ]
  },
  {
   "cell_type": "code",
   "execution_count": 7,
   "id": "0a9ca6e4",
   "metadata": {},
   "outputs": [],
   "source": [
    "F_list=list(map(lambda x: (9/5)*x+32,C_list))"
   ]
  },
  {
   "cell_type": "code",
   "execution_count": 8,
   "id": "14f533f2",
   "metadata": {},
   "outputs": [
    {
     "data": {
      "text/plain": [
       "[33.8, 35.6, 37.4, 39.2]"
      ]
     },
     "execution_count": 8,
     "metadata": {},
     "output_type": "execute_result"
    }
   ],
   "source": [
    "F_list"
   ]
  },
  {
   "cell_type": "code",
   "execution_count": 12,
   "id": "72b4cdf2",
   "metadata": {},
   "outputs": [],
   "source": [
    "C_list_new1=list(map(lambda x:float(5/9)*(x-32),F_list))"
   ]
  },
  {
   "cell_type": "code",
   "execution_count": 13,
   "id": "7e8e1e61",
   "metadata": {},
   "outputs": [
    {
     "data": {
      "text/plain": [
       "[0.9999999999999984, 2.000000000000001, 2.9999999999999996, 4.000000000000002]"
      ]
     },
     "execution_count": 13,
     "metadata": {},
     "output_type": "execute_result"
    }
   ],
   "source": [
    "C_list_new1"
   ]
  },
  {
   "cell_type": "code",
   "execution_count": 16,
   "id": "c1135f77",
   "metadata": {},
   "outputs": [],
   "source": [
    "#rounding  off entire list to 2 decimal places.\n",
    "new_Clist=list(map(lambda x:round(x,2),C_list_new1))"
   ]
  },
  {
   "cell_type": "code",
   "execution_count": 17,
   "id": "6c5bbd4e",
   "metadata": {},
   "outputs": [
    {
     "data": {
      "text/plain": [
       "[1.0, 2.0, 3.0, 4.0]"
      ]
     },
     "execution_count": 17,
     "metadata": {},
     "output_type": "execute_result"
    }
   ],
   "source": [
    "new_Clist"
   ]
  },
  {
   "cell_type": "code",
   "execution_count": 18,
   "id": "d1a3b7ac",
   "metadata": {},
   "outputs": [],
   "source": [
    "#another method of rounding off without using lambda functions\n",
    "new_Clist1=[round(x,2) for x in C_list_new1]"
   ]
  },
  {
   "cell_type": "code",
   "execution_count": 19,
   "id": "cff08a90",
   "metadata": {},
   "outputs": [
    {
     "data": {
      "text/plain": [
       "[1.0, 2.0, 3.0, 4.0]"
      ]
     },
     "execution_count": 19,
     "metadata": {},
     "output_type": "execute_result"
    }
   ],
   "source": [
    "new_Clist1"
   ]
  },
  {
   "cell_type": "code",
   "execution_count": 27,
   "id": "b549a3be",
   "metadata": {},
   "outputs": [],
   "source": [
    "#another method of rounding off without using lambda functions\n",
    "new_Clist2=list(round(x,2) for x in C_list_new1) #list() functions converts the data into a list"
   ]
  },
  {
   "cell_type": "code",
   "execution_count": 28,
   "id": "ec0e6ee6",
   "metadata": {},
   "outputs": [
    {
     "data": {
      "text/plain": [
       "[1.0, 2.0, 3.0, 4.0]"
      ]
     },
     "execution_count": 28,
     "metadata": {},
     "output_type": "execute_result"
    }
   ],
   "source": [
    "new_Clist2"
   ]
  },
  {
   "cell_type": "code",
   "execution_count": 29,
   "id": "f0bf21d8",
   "metadata": {},
   "outputs": [],
   "source": [
    "#How to get 2 places after the decimal\n",
    "new_list3=['%.2f' %j for j in C_list_new1]"
   ]
  },
  {
   "cell_type": "code",
   "execution_count": 30,
   "id": "4095ce02",
   "metadata": {},
   "outputs": [
    {
     "data": {
      "text/plain": [
       "['1.00', '2.00', '3.00', '4.00']"
      ]
     },
     "execution_count": 30,
     "metadata": {},
     "output_type": "execute_result"
    }
   ],
   "source": [
    "new_list3"
   ]
  },
  {
   "cell_type": "code",
   "execution_count": 36,
   "id": "df197088",
   "metadata": {},
   "outputs": [
    {
     "name": "stdout",
     "output_type": "stream",
     "text": [
      "[25.14, 37.71, 50.29, 62.86]\n"
     ]
    }
   ],
   "source": [
    "radius=[4,6,8,10]\n",
    "cir=list(map(lambda y:2*(22/7)*y,radius))\n",
    "cir_round=list(round(q,2) for q in cir)\n",
    "print(cir_round)"
   ]
  },
  {
   "cell_type": "markdown",
   "id": "d15d0239",
   "metadata": {},
   "source": [
    "# Filter in Lambda"
   ]
  },
  {
   "cell_type": "raw",
   "id": "4736b2e9",
   "metadata": {},
   "source": [
    "filter()\n",
    "It returns the items where function is true.\n",
    "It none of the elements meets condition, it will return nothing. In the code below, we are checking if value is greater than 2."
   ]
  },
  {
   "cell_type": "code",
   "execution_count": 37,
   "id": "9553fa42",
   "metadata": {},
   "outputs": [
    {
     "data": {
      "text/plain": [
       "[3, 4, 5]"
      ]
     },
     "execution_count": 37,
     "metadata": {},
     "output_type": "execute_result"
    }
   ],
   "source": [
    "mylist=[1,2,3,4,5]\n",
    "list(filter(lambda x:x>2,mylist))"
   ]
  },
  {
   "cell_type": "code",
   "execution_count": 40,
   "id": "672fc91f",
   "metadata": {},
   "outputs": [
    {
     "data": {
      "text/plain": [
       "[False, False, True, True, True]"
      ]
     },
     "execution_count": 40,
     "metadata": {},
     "output_type": "execute_result"
    }
   ],
   "source": [
    "list(map(lambda x:x>2,mylist))"
   ]
  },
  {
   "cell_type": "code",
   "execution_count": 38,
   "id": "22989f67",
   "metadata": {},
   "outputs": [
    {
     "data": {
      "text/plain": [
       "[False, True, False, True, False]"
      ]
     },
     "execution_count": 38,
     "metadata": {},
     "output_type": "execute_result"
    }
   ],
   "source": [
    "even=lambda x: x%2==0\n",
    "list(map(even,mylist)) #map()returns the boolean data."
   ]
  },
  {
   "cell_type": "code",
   "execution_count": 39,
   "id": "ba9e95ba",
   "metadata": {},
   "outputs": [
    {
     "data": {
      "text/plain": [
       "[2, 4]"
      ]
     },
     "execution_count": 39,
     "metadata": {},
     "output_type": "execute_result"
    }
   ],
   "source": [
    "#filter() returns the items.\n",
    "list(filter(even,mylist))"
   ]
  },
  {
   "cell_type": "markdown",
   "id": "0822d6bd",
   "metadata": {},
   "source": [
    "# Exception Handling"
   ]
  },
  {
   "cell_type": "raw",
   "id": "9f930ffd",
   "metadata": {},
   "source": [
    "All syntaxes are correct but it is showing rutime error.These are known as exceptions.\n",
    "Runtime error or Exceptions can be handled by exception handling.\n"
   ]
  },
  {
   "cell_type": "raw",
   "id": "d90fbbda",
   "metadata": {},
   "source": [
    "An exception can be defined as an unusual condition in a program resulting in the interruption in the flow of the process.\n",
    "\n",
    "Whenever an exception occurs, the program stops the execution, and thus the further code is not executed. Therefore an exception is the runtime errors that are unable to handle to python script. An exception is a python object that represents an error.\n",
    "\n",
    "Python provides a way to handle the exception so that the code can be executed without any interruption. If we donot handle the exception, the interpreter doesn't execute all the code that  exixts after the exception.\n",
    "\n",
    "ZeroDivisionError: Occurs when a number is divided by zero.\n",
    "NameError: It occurs when a name is not found. It may be global or local.\n",
    "IndentationError: If incorrect indentation is given.\n",
    "IOError: It occurs when input/output operation fails."
   ]
  },
  {
   "cell_type": "code",
   "execution_count": 41,
   "id": "3f57e242",
   "metadata": {},
   "outputs": [
    {
     "ename": "ZeroDivisionError",
     "evalue": "division by zero",
     "output_type": "error",
     "traceback": [
      "\u001b[1;31m---------------------------------------------------------------------------\u001b[0m",
      "\u001b[1;31mZeroDivisionError\u001b[0m                         Traceback (most recent call last)",
      "\u001b[1;32m<ipython-input-41-e8326a161779>\u001b[0m in \u001b[0;36m<module>\u001b[1;34m\u001b[0m\n\u001b[1;32m----> 1\u001b[1;33m \u001b[1;36m2\u001b[0m\u001b[1;33m/\u001b[0m\u001b[1;36m0\u001b[0m\u001b[1;33m\u001b[0m\u001b[1;33m\u001b[0m\u001b[0m\n\u001b[0m",
      "\u001b[1;31mZeroDivisionError\u001b[0m: division by zero"
     ]
    }
   ],
   "source": [
    "2/0                  #Here the syntax is correct but there is runtime error(ZeroDivisionError)."
   ]
  },
  {
   "cell_type": "code",
   "execution_count": 43,
   "id": "85a13347",
   "metadata": {},
   "outputs": [
    {
     "ename": "TypeError",
     "evalue": "can only concatenate str (not \"int\") to str",
     "output_type": "error",
     "traceback": [
      "\u001b[1;31m---------------------------------------------------------------------------\u001b[0m",
      "\u001b[1;31mTypeError\u001b[0m                                 Traceback (most recent call last)",
      "\u001b[1;32m<ipython-input-43-92cdad0f4dba>\u001b[0m in \u001b[0;36m<module>\u001b[1;34m\u001b[0m\n\u001b[1;32m----> 1\u001b[1;33m \u001b[1;34m'5'\u001b[0m\u001b[1;33m+\u001b[0m\u001b[1;36m2\u001b[0m              \u001b[1;31m#No error in syntax but runtime error present(TypeError)\u001b[0m\u001b[1;33m\u001b[0m\u001b[1;33m\u001b[0m\u001b[0m\n\u001b[0m",
      "\u001b[1;31mTypeError\u001b[0m: can only concatenate str (not \"int\") to str"
     ]
    }
   ],
   "source": [
    "'5'+2              #No error in syntax but runtime error present(TypeError)"
   ]
  },
  {
   "cell_type": "code",
   "execution_count": 45,
   "id": "96bfac32",
   "metadata": {},
   "outputs": [
    {
     "ename": "NameError",
     "evalue": "name 'number' is not defined",
     "output_type": "error",
     "traceback": [
      "\u001b[1;31m---------------------------------------------------------------------------\u001b[0m",
      "\u001b[1;31mNameError\u001b[0m                                 Traceback (most recent call last)",
      "\u001b[1;32m<ipython-input-45-c2879f0fbab4>\u001b[0m in \u001b[0;36m<module>\u001b[1;34m\u001b[0m\n\u001b[1;32m----> 1\u001b[1;33m \u001b[1;36m8\u001b[0m\u001b[1;33m+\u001b[0m\u001b[0mnumber\u001b[0m\u001b[1;33m*\u001b[0m\u001b[1;36m2\u001b[0m         \u001b[1;31m#No syatax error but runtime(NameError) is present.\u001b[0m\u001b[1;33m\u001b[0m\u001b[1;33m\u001b[0m\u001b[0m\n\u001b[0m",
      "\u001b[1;31mNameError\u001b[0m: name 'number' is not defined"
     ]
    }
   ],
   "source": [
    "8+number*2         #No syatax error but runtime(NameError) is present."
   ]
  },
  {
   "cell_type": "markdown",
   "id": "9e0b928a",
   "metadata": {},
   "source": [
    "# Handling Exceptions"
   ]
  },
  {
   "cell_type": "raw",
   "id": "f94960dc",
   "metadata": {},
   "source": [
    "The try statement works as follows:-\n",
    "\n",
    "First, the try clause(the statement(s) between the try and except keywords is executed.\n",
    "\n",
    "If no exception occurs, the except clause is skipped and execution of the try statement is finished.\n",
    "\n",
    "If an exception occurs during the execution of the try clause, the rest of the clause is skipped.\n",
    "Then if its type matches the exception named after the except keyword, the except clause is executed, and then execution continues after the try statement."
   ]
  },
  {
   "cell_type": "code",
   "execution_count": 46,
   "id": "f053edf1",
   "metadata": {},
   "outputs": [
    {
     "name": "stdout",
     "output_type": "stream",
     "text": [
      "Handling runtime error: division by zero\n"
     ]
    }
   ],
   "source": [
    "try:\n",
    "    79/0\n",
    "except ZeroDivisionError as err:\n",
    "    print('Handling runtime error:',err)"
   ]
  },
  {
   "cell_type": "code",
   "execution_count": 47,
   "id": "67441564",
   "metadata": {},
   "outputs": [
    {
     "name": "stdout",
     "output_type": "stream",
     "text": [
      "Handling runtime error: name 'm' is not defined\n"
     ]
    }
   ],
   "source": [
    "try:\n",
    "    8+m*2\n",
    "except NameError as err:\n",
    "    print('Handling runtime error:',err)"
   ]
  },
  {
   "cell_type": "code",
   "execution_count": 48,
   "id": "5a7df97d",
   "metadata": {},
   "outputs": [],
   "source": [
    "def divfunc():\n",
    "    a=80\n",
    "    b=0\n",
    "    c=a/b\n",
    "    print(\"the value of f c is:\",c)"
   ]
  },
  {
   "cell_type": "code",
   "execution_count": 50,
   "id": "6a82487e",
   "metadata": {},
   "outputs": [
    {
     "name": "stdout",
     "output_type": "stream",
     "text": [
      "Handling runtime error: division by zero\n"
     ]
    }
   ],
   "source": [
    "try:\n",
    "    divfunc()\n",
    "except ZeroDivisionError as err:\n",
    "    print('Handling runtime error:',err)\n"
   ]
  },
  {
   "cell_type": "code",
   "execution_count": 57,
   "id": "69310e06",
   "metadata": {},
   "outputs": [],
   "source": [
    "def divide(x,y):\n",
    "    try:\n",
    "        result=x/y\n",
    "    except ZeroDivisionError:\n",
    "        print('division by zero')\n",
    "    else:\n",
    "        print(\"result is:\",result)\n",
    "    finally:                               #This statement will be executed at any cost(doesn't matter if there is exception or not)\n",
    "        print(\"executing finally clause\")"
   ]
  },
  {
   "cell_type": "code",
   "execution_count": 58,
   "id": "de4eeced",
   "metadata": {},
   "outputs": [
    {
     "name": "stdout",
     "output_type": "stream",
     "text": [
      "result is: 5.0\n",
      "executing finally clause\n"
     ]
    }
   ],
   "source": [
    "divide(25,5)     #Here else clause os being printed because there is no runtime error."
   ]
  },
  {
   "cell_type": "code",
   "execution_count": 59,
   "id": "c91aea32",
   "metadata": {},
   "outputs": [
    {
     "name": "stdout",
     "output_type": "stream",
     "text": [
      "division by zero\n",
      "executing finally clause\n"
     ]
    }
   ],
   "source": [
    "divide(30,0)     #since there is runtime error, the except clause will be printed."
   ]
  },
  {
   "cell_type": "markdown",
   "id": "15a12a8d",
   "metadata": {},
   "source": [
    "# OBJECT ORIENTED PROGRAMMING SYSTEM"
   ]
  },
  {
   "cell_type": "raw",
   "id": "117b5fb8",
   "metadata": {},
   "source": [
    "Class is a very important part of object oriented programming system.\n",
    "Class is the blueprint of an object. Object is the instance of a class.Class consists of many functions inside it. The components inside class are encapsulated/protected. One needs to create a object from the class to access the methods in it.\n",
    "\n",
    "Mutiple objects can be created from single class.\n",
    "\n",
    "CLass= Plan of house\n",
    "Object= House\n",
    "\n",
    "Multiple house can be constructed from single plan."
   ]
  },
  {
   "cell_type": "raw",
   "id": "a9ffd140",
   "metadata": {},
   "source": [
    "Data Members:- Variables inside a class are known as data members.\n",
    "Methods:- Functions inside a class are known as methods."
   ]
  },
  {
   "cell_type": "code",
   "execution_count": null,
   "id": "a2a9ee78",
   "metadata": {},
   "outputs": [],
   "source": []
  },
  {
   "cell_type": "code",
   "execution_count": null,
   "id": "44615359",
   "metadata": {},
   "outputs": [],
   "source": []
  },
  {
   "cell_type": "code",
   "execution_count": null,
   "id": "9fbb2e13",
   "metadata": {},
   "outputs": [],
   "source": []
  },
  {
   "cell_type": "code",
   "execution_count": null,
   "id": "1c4e15e2",
   "metadata": {},
   "outputs": [],
   "source": []
  },
  {
   "cell_type": "code",
   "execution_count": null,
   "id": "f386b3e3",
   "metadata": {},
   "outputs": [],
   "source": []
  },
  {
   "cell_type": "code",
   "execution_count": null,
   "id": "65870b0b",
   "metadata": {},
   "outputs": [],
   "source": []
  },
  {
   "cell_type": "code",
   "execution_count": null,
   "id": "f1c16733",
   "metadata": {},
   "outputs": [],
   "source": []
  }
 ],
 "metadata": {
  "kernelspec": {
   "display_name": "Python 3",
   "language": "python",
   "name": "python3"
  },
  "language_info": {
   "codemirror_mode": {
    "name": "ipython",
    "version": 3
   },
   "file_extension": ".py",
   "mimetype": "text/x-python",
   "name": "python",
   "nbconvert_exporter": "python",
   "pygments_lexer": "ipython3",
   "version": "3.8.8"
  }
 },
 "nbformat": 4,
 "nbformat_minor": 5
}
