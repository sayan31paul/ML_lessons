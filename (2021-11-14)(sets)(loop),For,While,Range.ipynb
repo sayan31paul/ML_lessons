{
 "cells": [
  {
   "cell_type": "markdown",
   "id": "74d24c71",
   "metadata": {},
   "source": [
    "# Sets"
   ]
  },
  {
   "cell_type": "raw",
   "id": "f9a398ae",
   "metadata": {},
   "source": [
    "Sets are also named collection of values.\n",
    "Sets donot follow indexing.\n",
    "Random data organization occurs in sets.\n",
    "No duplicates are allowed.\n",
    "Immutable(Data cannot be changed after the creation of the set.\n",
    "Enclosed in {} but doesnot have any key-value pair as dictionaries."
   ]
  },
  {
   "cell_type": "code",
   "execution_count": 1,
   "id": "f45edfdb",
   "metadata": {},
   "outputs": [
    {
     "data": {
      "text/plain": [
       "{22, 33, 56, 78, 90}"
      ]
     },
     "execution_count": 1,
     "metadata": {},
     "output_type": "execute_result"
    }
   ],
   "source": [
    "x={22,33,56,78,90}\n",
    "x"
   ]
  },
  {
   "cell_type": "code",
   "execution_count": 2,
   "id": "fe9b282c",
   "metadata": {},
   "outputs": [
    {
     "data": {
      "text/plain": [
       "{33, 44, 55, 66, 77}"
      ]
     },
     "execution_count": 2,
     "metadata": {},
     "output_type": "execute_result"
    }
   ],
   "source": [
    "y=set([33,44,55,66,77])   #List getting converted into set\n",
    "y"
   ]
  },
  {
   "cell_type": "code",
   "execution_count": 3,
   "id": "3bb37b0d",
   "metadata": {},
   "outputs": [
    {
     "data": {
      "text/plain": [
       "{22, 33, 56, 78, 90}"
      ]
     },
     "execution_count": 3,
     "metadata": {},
     "output_type": "execute_result"
    }
   ],
   "source": [
    "#no duplication allowed\n",
    "x={22,33,56,78,90,90,22}\n",
    "x"
   ]
  },
  {
   "cell_type": "code",
   "execution_count": 4,
   "id": "5004cacc",
   "metadata": {},
   "outputs": [
    {
     "data": {
      "text/plain": [
       "{'Monday', 'Thursday', 'Tuesday', 'Wednesday'}"
      ]
     },
     "execution_count": 4,
     "metadata": {},
     "output_type": "execute_result"
    }
   ],
   "source": [
    "day={'Monday','Tuesday','Thursday','Wednesday'}\n",
    "day"
   ]
  },
  {
   "cell_type": "code",
   "execution_count": 6,
   "id": "711438d2",
   "metadata": {},
   "outputs": [
    {
     "data": {
      "text/plain": [
       "{'Monday', 'Sunday', 'Thursday', 'Tuesday', 'Wednesday'}"
      ]
     },
     "execution_count": 6,
     "metadata": {},
     "output_type": "execute_result"
    }
   ],
   "source": [
    "#when adding something to a set, the new data can get added anywhere as there is no indexing.\n",
    "day.add('Sunday')\n",
    "day"
   ]
  },
  {
   "cell_type": "code",
   "execution_count": 7,
   "id": "34263de1",
   "metadata": {},
   "outputs": [
    {
     "ename": "TypeError",
     "evalue": "'set' object is not subscriptable",
     "output_type": "error",
     "traceback": [
      "\u001b[1;31m---------------------------------------------------------------------------\u001b[0m",
      "\u001b[1;31mTypeError\u001b[0m                                 Traceback (most recent call last)",
      "\u001b[1;32m<ipython-input-7-821963524b06>\u001b[0m in \u001b[0;36m<module>\u001b[1;34m\u001b[0m\n\u001b[0;32m      1\u001b[0m \u001b[1;31m#No indexing is there in sets\u001b[0m\u001b[1;33m\u001b[0m\u001b[1;33m\u001b[0m\u001b[1;33m\u001b[0m\u001b[0m\n\u001b[1;32m----> 2\u001b[1;33m \u001b[0mday\u001b[0m\u001b[1;33m[\u001b[0m\u001b[1;36m1\u001b[0m\u001b[1;33m]\u001b[0m\u001b[1;33m\u001b[0m\u001b[1;33m\u001b[0m\u001b[0m\n\u001b[0m",
      "\u001b[1;31mTypeError\u001b[0m: 'set' object is not subscriptable"
     ]
    }
   ],
   "source": [
    "#No indexing is there in sets\n",
    "day[1]"
   ]
  },
  {
   "cell_type": "code",
   "execution_count": 8,
   "id": "f24e85b4",
   "metadata": {},
   "outputs": [
    {
     "data": {
      "text/plain": [
       "{'Monday', 'Sunday', 'Tuesday', 'Wednesday'}"
      ]
     },
     "execution_count": 8,
     "metadata": {},
     "output_type": "execute_result"
    }
   ],
   "source": [
    "#pop() deletes data from anywhere as there is no indexing\n",
    "day.pop()\n",
    "day"
   ]
  },
  {
   "cell_type": "code",
   "execution_count": 9,
   "id": "587303c1",
   "metadata": {},
   "outputs": [
    {
     "data": {
      "text/plain": [
       "set()"
      ]
     },
     "execution_count": 9,
     "metadata": {},
     "output_type": "execute_result"
    }
   ],
   "source": [
    "#deleting all data from the set\n",
    "day.clear()\n",
    "day"
   ]
  },
  {
   "cell_type": "code",
   "execution_count": 10,
   "id": "5cc5cadc",
   "metadata": {},
   "outputs": [],
   "source": [
    "del day "
   ]
  },
  {
   "cell_type": "code",
   "execution_count": 11,
   "id": "e22078c5",
   "metadata": {},
   "outputs": [
    {
     "ename": "NameError",
     "evalue": "name 'day' is not defined",
     "output_type": "error",
     "traceback": [
      "\u001b[1;31m---------------------------------------------------------------------------\u001b[0m",
      "\u001b[1;31mNameError\u001b[0m                                 Traceback (most recent call last)",
      "\u001b[1;32m<ipython-input-11-766a634e4130>\u001b[0m in \u001b[0;36m<module>\u001b[1;34m\u001b[0m\n\u001b[1;32m----> 1\u001b[1;33m \u001b[0mday\u001b[0m\u001b[1;33m\u001b[0m\u001b[1;33m\u001b[0m\u001b[0m\n\u001b[0m",
      "\u001b[1;31mNameError\u001b[0m: name 'day' is not defined"
     ]
    }
   ],
   "source": [
    "day"
   ]
  },
  {
   "cell_type": "markdown",
   "id": "6f86181b",
   "metadata": {},
   "source": [
    "Sets over"
   ]
  },
  {
   "cell_type": "markdown",
   "id": "ee3a6be8",
   "metadata": {},
   "source": [
    "# Loops in python"
   ]
  },
  {
   "cell_type": "raw",
   "id": "6cdac596",
   "metadata": {},
   "source": [
    "Loops are continuous iteration of particular statements.\n",
    "Loops are of two types:-\n",
    "    1. While loop    2. For loop"
   ]
  },
  {
   "cell_type": "markdown",
   "id": "4bd1349a",
   "metadata": {},
   "source": [
    "# While loop"
   ]
  },
  {
   "cell_type": "raw",
   "id": "c5919772",
   "metadata": {},
   "source": [
    "Three things necessary for while loop are:-\n",
    "1. initialization\n",
    "2. condition\n",
    "3. increment"
   ]
  },
  {
   "cell_type": "code",
   "execution_count": 13,
   "id": "703288e3",
   "metadata": {},
   "outputs": [
    {
     "name": "stdout",
     "output_type": "stream",
     "text": [
      "0\n",
      "1\n",
      "2\n",
      "3\n",
      "4\n"
     ]
    }
   ],
   "source": [
    "i=0                   #initilization\n",
    "while(i<5):           #(i<5) is the condition. #while is the keyword\n",
    "    print (i)\n",
    "    i=i+1             #increment"
   ]
  },
  {
   "cell_type": "raw",
   "id": "93eec783",
   "metadata": {},
   "source": [
    "Take care of indentation when writing a loop."
   ]
  },
  {
   "cell_type": "code",
   "execution_count": 19,
   "id": "b8694d31",
   "metadata": {},
   "outputs": [
    {
     "name": "stdout",
     "output_type": "stream",
     "text": [
      "0 2 4 6 8 "
     ]
    }
   ],
   "source": [
    "#suppose we need the output in horizontal manner\n",
    "k=0\n",
    "while(k<10):\n",
    "    print(k,end=\" \")\n",
    "    k=k+2"
   ]
  },
  {
   "cell_type": "code",
   "execution_count": 22,
   "id": "7c61b86f",
   "metadata": {},
   "outputs": [
    {
     "name": "stdout",
     "output_type": "stream",
     "text": [
      "s= 0\n",
      "s= 3\n",
      "s= 6\n",
      "s= 9\n",
      "s= 12\n",
      "s= 15\n",
      "s= 18\n",
      "s= 21\n",
      "s= 24\n",
      "s= 27\n"
     ]
    }
   ],
   "source": [
    "s=0\n",
    "\n",
    "while(s<30):\n",
    "    print(\"s=\",s)\n",
    "    s=s+3"
   ]
  },
  {
   "cell_type": "code",
   "execution_count": 23,
   "id": "0de7a465",
   "metadata": {},
   "outputs": [
    {
     "name": "stdout",
     "output_type": "stream",
     "text": [
      "s= 0 s= 3 s= 6 s= 9 s= 12 s= 15 s= 18 s= 21 s= 24 s= 27 "
     ]
    }
   ],
   "source": [
    "s=0\n",
    "\n",
    "while(s<30):\n",
    "    print(\"s=\",s,end=\" \")\n",
    "    s=s+3"
   ]
  },
  {
   "cell_type": "code",
   "execution_count": 24,
   "id": "30444926",
   "metadata": {},
   "outputs": [
    {
     "name": "stdout",
     "output_type": "stream",
     "text": [
      "k= 1\n",
      "end of loop\n",
      "k= 2\n",
      "end of loop\n",
      "k= 3\n",
      "end of loop\n",
      "k= 4\n",
      "end of loop\n",
      "k= 5\n",
      "end of loop\n",
      "k= 6\n",
      "end of loop\n",
      "k= 7\n",
      "end of loop\n",
      "k= 8\n",
      "end of loop\n",
      "k= 9\n",
      "end of loop\n"
     ]
    }
   ],
   "source": [
    "#importance of proper indentation\n",
    "k=1\n",
    "\n",
    "while(k<10):\n",
    "    print(\"k=\",k)\n",
    "    k=k+1\n",
    "    print(\"end of loop\")"
   ]
  },
  {
   "cell_type": "code",
   "execution_count": 25,
   "id": "00e91032",
   "metadata": {},
   "outputs": [
    {
     "name": "stdout",
     "output_type": "stream",
     "text": [
      "k= 1\n",
      "k= 2\n",
      "k= 3\n",
      "k= 4\n",
      "k= 5\n",
      "k= 6\n",
      "k= 7\n",
      "k= 8\n",
      "k= 9\n",
      "end of loop\n"
     ]
    }
   ],
   "source": [
    "k=1\n",
    "\n",
    "while(k<10):\n",
    "    print(\"k=\",k)\n",
    "    k=k+1\n",
    "print(\"end of loop\")    #not a part of while loop. So it is executed after the loop ends."
   ]
  },
  {
   "cell_type": "code",
   "execution_count": 26,
   "id": "3fb981a9",
   "metadata": {},
   "outputs": [
    {
     "name": "stdout",
     "output_type": "stream",
     "text": [
      "k= 1\n",
      "Rzunning again\n",
      "k= 2\n",
      "Rzunning again\n",
      "k= 3\n",
      "Rzunning again\n",
      "k= 4\n",
      "Rzunning again\n",
      "k= 5\n",
      "Rzunning again\n",
      "k= 6\n",
      "Rzunning again\n",
      "k= 7\n",
      "Rzunning again\n",
      "k= 8\n",
      "Rzunning again\n",
      "k= 9\n",
      "Rzunning again\n",
      "end of loop\n"
     ]
    }
   ],
   "source": [
    "k=1\n",
    "\n",
    "while(k<10):\n",
    "    print(\"k=\",k)\n",
    "    print(\"Rzunning again\")\n",
    "    k=k+1\n",
    "    \n",
    "    \n",
    "print(\"end of loop\")   "
   ]
  },
  {
   "cell_type": "markdown",
   "id": "c1699a31",
   "metadata": {},
   "source": [
    "# For Loop"
   ]
  },
  {
   "cell_type": "raw",
   "id": "3378b550",
   "metadata": {},
   "source": [
    "In for loop:-\n",
    "1. No increment is required. Automatic increment occurs here."
   ]
  },
  {
   "cell_type": "code",
   "execution_count": 1,
   "id": "ad0fcd00",
   "metadata": {},
   "outputs": [
    {
     "name": "stdout",
     "output_type": "stream",
     "text": [
      "1\n",
      "2\n",
      "3\n"
     ]
    }
   ],
   "source": [
    "for i in [1,2,3]:\n",
    "    print(i)"
   ]
  },
  {
   "cell_type": "code",
   "execution_count": 2,
   "id": "d5668e32",
   "metadata": {},
   "outputs": [
    {
     "name": "stdout",
     "output_type": "stream",
     "text": [
      "A\n",
      "B\n",
      "C\n",
      "D\n"
     ]
    }
   ],
   "source": [
    "for i in ['A','B','C','D']:\n",
    "    print (i)"
   ]
  },
  {
   "cell_type": "code",
   "execution_count": 4,
   "id": "f8125a48",
   "metadata": {},
   "outputs": [
    {
     "name": "stdout",
     "output_type": "stream",
     "text": [
      "22\n",
      "33\n",
      "44\n",
      "55\n",
      "78\n",
      "90\n",
      "45\n",
      "25\n",
      "48\n"
     ]
    }
   ],
   "source": [
    "list1=[22,33,44,55,78,90,45,25,48]\n",
    "\n",
    "for p in list1:\n",
    "    print(p)"
   ]
  },
  {
   "cell_type": "code",
   "execution_count": 8,
   "id": "4a73472f",
   "metadata": {},
   "outputs": [
    {
     "name": "stdout",
     "output_type": "stream",
     "text": [
      "numbers= 22  numbers= 33  numbers= 44  numbers= 55  numbers= 78  numbers= 90  numbers= 45  numbers= 25  numbers= 48  "
     ]
    }
   ],
   "source": [
    "list1=[22,33,44,55,78,90,45,25,48]\n",
    "\n",
    "for p in list1:\n",
    "    print('numbers=',p,end=\"  \")"
   ]
  },
  {
   "cell_type": "markdown",
   "id": "f0bbf5b8",
   "metadata": {},
   "source": [
    "# Range"
   ]
  },
  {
   "cell_type": "raw",
   "id": "0090ab2c",
   "metadata": {},
   "source": [
    "Range is an inbuilt function in python which gives a sequence of integers."
   ]
  },
  {
   "cell_type": "code",
   "execution_count": 11,
   "id": "c08f5e09",
   "metadata": {},
   "outputs": [
    {
     "data": {
      "text/plain": [
       "range(0, 5)"
      ]
     },
     "execution_count": 11,
     "metadata": {},
     "output_type": "execute_result"
    }
   ],
   "source": [
    "range(5)"
   ]
  },
  {
   "cell_type": "code",
   "execution_count": 14,
   "id": "d6d2ded3",
   "metadata": {},
   "outputs": [
    {
     "data": {
      "text/plain": [
       "[0, 1, 2, 3, 4]"
      ]
     },
     "execution_count": 14,
     "metadata": {},
     "output_type": "execute_result"
    }
   ],
   "source": [
    "#We need to convert the range into a list to get the values\n",
    "a=list(range(5)) #output starts with 0 and 5 is not included in the output\n",
    "a"
   ]
  },
  {
   "cell_type": "code",
   "execution_count": 16,
   "id": "7731bc75",
   "metadata": {},
   "outputs": [
    {
     "data": {
      "text/plain": [
       "[0, 1, 2, 3, 4, 5, 6, 7, 8, 9]"
      ]
     },
     "execution_count": 16,
     "metadata": {},
     "output_type": "execute_result"
    }
   ],
   "source": [
    "b=range(10)\n",
    "b_list=list(b) #We are converting the range into list using list() function.\n",
    "b_list"
   ]
  },
  {
   "cell_type": "raw",
   "id": "eb81a85f",
   "metadata": {},
   "source": [
    "for loop takes both list and range as input"
   ]
  },
  {
   "cell_type": "code",
   "execution_count": 17,
   "id": "ad92a61f",
   "metadata": {},
   "outputs": [
    {
     "name": "stdout",
     "output_type": "stream",
     "text": [
      "i= 0\n",
      "i= 1\n",
      "i= 2\n",
      "i= 3\n",
      "i= 4\n",
      "i= 5\n",
      "i= 6\n",
      "i= 7\n",
      "i= 8\n",
      "i= 9\n"
     ]
    }
   ],
   "source": [
    "for i in b:            \n",
    "    print('i=',i)"
   ]
  },
  {
   "cell_type": "code",
   "execution_count": 21,
   "id": "beafe3c9",
   "metadata": {},
   "outputs": [
    {
     "name": "stdout",
     "output_type": "stream",
     "text": [
      "i= 0\n",
      "i= 1\n",
      "i= 2\n",
      "i= 3\n",
      "i= 4\n",
      "i= 5\n",
      "i= 6\n",
      "i= 7\n",
      "i= 8\n",
      "i= 9\n"
     ]
    }
   ],
   "source": [
    "for i in b_list:            \n",
    "    print('i=',i)"
   ]
  },
  {
   "cell_type": "code",
   "execution_count": 19,
   "id": "f05424e5",
   "metadata": {},
   "outputs": [
    {
     "name": "stdout",
     "output_type": "stream",
     "text": [
      "0 1 2 3 4 5 6 7 8 9 10 11 12 13 14 15 16 17 18 19 "
     ]
    }
   ],
   "source": [
    "for i in range(20):\n",
    "    print(i,end=\" \")"
   ]
  },
  {
   "cell_type": "code",
   "execution_count": 23,
   "id": "95201bf5",
   "metadata": {},
   "outputs": [
    {
     "data": {
      "text/plain": [
       "[2, 3, 4, 5, 6, 7, 8, 9]"
      ]
     },
     "execution_count": 23,
     "metadata": {},
     "output_type": "execute_result"
    }
   ],
   "source": [
    "list(range(2,10)) #first value is included but last value in not included in the output"
   ]
  },
  {
   "cell_type": "code",
   "execution_count": 24,
   "id": "b3433886",
   "metadata": {},
   "outputs": [
    {
     "name": "stdout",
     "output_type": "stream",
     "text": [
      "2 3 4 5 6 7 8 9 "
     ]
    }
   ],
   "source": [
    "for x in range(2,10):\n",
    "    print (x,end=\" \")\n",
    "    "
   ]
  },
  {
   "cell_type": "code",
   "execution_count": 25,
   "id": "5e519092",
   "metadata": {},
   "outputs": [
    {
     "data": {
      "text/plain": [
       "[5, 8, 11, 14]"
      ]
     },
     "execution_count": 25,
     "metadata": {},
     "output_type": "execute_result"
    }
   ],
   "source": [
    "#How to skip values in range?\n",
    "list(range(5,15,3)) #skipping 3 integers                #() after list indicates list() function which converts range to list"
   ]
  },
  {
   "cell_type": "code",
   "execution_count": 26,
   "id": "ccb0b94b",
   "metadata": {},
   "outputs": [
    {
     "name": "stdout",
     "output_type": "stream",
     "text": [
      "5\n",
      "7\n",
      "9\n",
      "11\n",
      "13\n"
     ]
    }
   ],
   "source": [
    "for i in range(5,15,2):\n",
    "    print(i)"
   ]
  },
  {
   "cell_type": "code",
   "execution_count": null,
   "id": "aecdc303",
   "metadata": {},
   "outputs": [],
   "source": []
  },
  {
   "cell_type": "code",
   "execution_count": null,
   "id": "c8b61e9e",
   "metadata": {},
   "outputs": [],
   "source": []
  },
  {
   "cell_type": "code",
   "execution_count": null,
   "id": "28c10c0e",
   "metadata": {},
   "outputs": [],
   "source": []
  }
 ],
 "metadata": {
  "kernelspec": {
   "display_name": "Python 3",
   "language": "python",
   "name": "python3"
  },
  "language_info": {
   "codemirror_mode": {
    "name": "ipython",
    "version": 3
   },
   "file_extension": ".py",
   "mimetype": "text/x-python",
   "name": "python",
   "nbconvert_exporter": "python",
   "pygments_lexer": "ipython3",
   "version": "3.8.8"
  }
 },
 "nbformat": 4,
 "nbformat_minor": 5
}
