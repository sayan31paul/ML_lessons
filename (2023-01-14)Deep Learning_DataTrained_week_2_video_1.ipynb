{
 "cells": [
  {
   "cell_type": "raw",
   "id": "cbdf23d6",
   "metadata": {},
   "source": [
    "There are three main frameworks:-\n",
    "    1. Tensorflow 2. Keras 3. pytorch"
   ]
  },
  {
   "cell_type": "markdown",
   "id": "34cf7c9f",
   "metadata": {},
   "source": [
    "# Difference between tensorflow and Keras"
   ]
  },
  {
   "cell_type": "raw",
   "id": "4ae56124",
   "metadata": {},
   "source": [
    "Keras is a high level framework while tensorflow is a lowlevel framework. i.e same code can be executed in Keras in single line.\n",
    "Keras un beginner friendly as well as user friendly while tensorflow is not.\n",
    "Keras is easy to debug.\n",
    "Keras is the most used framework.\n",
    "\n",
    "\n",
    "Tensorflow works faster bacause it is built on C and C++ but Keras is built on python.\n",
    "Tensorflow is very flexible. i.e we can make minute changes inside the neural ntework very easily."
   ]
  },
  {
   "cell_type": "code",
   "execution_count": 1,
   "id": "118bcf2c",
   "metadata": {},
   "outputs": [
    {
     "name": "stdout",
     "output_type": "stream",
     "text": [
      "Collecting keras\n",
      "  Downloading keras-2.11.0-py2.py3-none-any.whl (1.7 MB)\n",
      "     ---------------------------------------- 1.7/1.7 MB 1.3 MB/s eta 0:00:00\n",
      "Installing collected packages: keras\n",
      "Successfully installed keras-2.11.0\n"
     ]
    },
    {
     "name": "stderr",
     "output_type": "stream",
     "text": [
      "WARNING: You are using pip version 22.0.4; however, version 22.3.1 is available.\n",
      "You should consider upgrading via the 'c:\\users\\sayan\\anaconda3\\python.exe -m pip install --upgrade pip' command.\n"
     ]
    }
   ],
   "source": [
    "!pip install keras"
   ]
  },
  {
   "cell_type": "code",
   "execution_count": 3,
   "id": "55bca7b5",
   "metadata": {},
   "outputs": [
    {
     "name": "stdout",
     "output_type": "stream",
     "text": [
      "Collecting tensorflow\n",
      "  Downloading tensorflow-2.11.0-cp38-cp38-win_amd64.whl (1.9 kB)\n",
      "Collecting tensorflow-intel==2.11.0\n",
      "  Downloading tensorflow_intel-2.11.0-cp38-cp38-win_amd64.whl (266.3 MB)\n",
      "     ------------------------------------ 266.3/266.3 MB 962.9 kB/s eta 0:00:00\n",
      "Collecting google-pasta>=0.1.1\n",
      "  Downloading google_pasta-0.2.0-py3-none-any.whl (57 kB)\n",
      "     ---------------------------------------- 57.5/57.5 KB 1.5 MB/s eta 0:00:00\n",
      "Requirement already satisfied: typing-extensions>=3.6.6 in c:\\users\\sayan\\anaconda3\\lib\\site-packages (from tensorflow-intel==2.11.0->tensorflow) (3.7.4.3)\n",
      "Requirement already satisfied: h5py>=2.9.0 in c:\\users\\sayan\\anaconda3\\lib\\site-packages (from tensorflow-intel==2.11.0->tensorflow) (2.10.0)\n",
      "Collecting grpcio<2.0,>=1.24.3\n",
      "  Downloading grpcio-1.51.1-cp38-cp38-win_amd64.whl (3.7 MB)\n",
      "     ---------------------------------------- 3.7/3.7 MB 4.1 MB/s eta 0:00:00\n",
      "Collecting termcolor>=1.1.0\n",
      "  Downloading termcolor-2.2.0-py3-none-any.whl (6.6 kB)\n",
      "Collecting tensorflow-io-gcs-filesystem>=0.23.1\n",
      "  Downloading tensorflow_io_gcs_filesystem-0.29.0-cp38-cp38-win_amd64.whl (1.5 MB)\n",
      "     ---------------------------------------- 1.5/1.5 MB 3.6 MB/s eta 0:00:00\n",
      "Collecting libclang>=13.0.0\n",
      "  Downloading libclang-15.0.6.1-py2.py3-none-win_amd64.whl (23.2 MB)\n",
      "     ---------------------------------------- 23.2/23.2 MB 4.2 MB/s eta 0:00:00\n",
      "Collecting astunparse>=1.6.0\n",
      "  Downloading astunparse-1.6.3-py2.py3-none-any.whl (12 kB)\n",
      "Collecting flatbuffers>=2.0\n",
      "  Downloading flatbuffers-23.1.4-py2.py3-none-any.whl (26 kB)\n",
      "Requirement already satisfied: packaging in c:\\users\\sayan\\anaconda3\\lib\\site-packages (from tensorflow-intel==2.11.0->tensorflow) (20.9)\n",
      "Collecting tensorflow-estimator<2.12,>=2.11.0\n",
      "  Downloading tensorflow_estimator-2.11.0-py2.py3-none-any.whl (439 kB)\n",
      "     -------------------------------------- 439.2/439.2 KB 2.7 MB/s eta 0:00:00\n",
      "Collecting opt-einsum>=2.3.2\n",
      "  Downloading opt_einsum-3.3.0-py3-none-any.whl (65 kB)\n",
      "     ---------------------------------------- 65.5/65.5 KB 1.7 MB/s eta 0:00:00\n",
      "Requirement already satisfied: wrapt>=1.11.0 in c:\\users\\sayan\\anaconda3\\lib\\site-packages (from tensorflow-intel==2.11.0->tensorflow) (1.12.1)\n",
      "Requirement already satisfied: protobuf<3.20,>=3.9.2 in c:\\users\\sayan\\anaconda3\\lib\\site-packages (from tensorflow-intel==2.11.0->tensorflow) (3.19.4)\n",
      "Collecting gast<=0.4.0,>=0.2.1\n",
      "  Downloading gast-0.4.0-py3-none-any.whl (9.8 kB)\n",
      "Requirement already satisfied: six>=1.12.0 in c:\\users\\sayan\\anaconda3\\lib\\site-packages (from tensorflow-intel==2.11.0->tensorflow) (1.15.0)\n",
      "Collecting absl-py>=1.0.0\n",
      "  Downloading absl_py-1.4.0-py3-none-any.whl (126 kB)\n",
      "     -------------------------------------- 126.5/126.5 KB 3.8 MB/s eta 0:00:00\n",
      "Requirement already satisfied: setuptools in c:\\users\\sayan\\anaconda3\\lib\\site-packages (from tensorflow-intel==2.11.0->tensorflow) (62.1.0)\n",
      "Collecting tensorboard<2.12,>=2.11\n",
      "  Downloading tensorboard-2.11.2-py3-none-any.whl (6.0 MB)\n",
      "     ---------------------------------------- 6.0/6.0 MB 4.5 MB/s eta 0:00:00\n",
      "Requirement already satisfied: keras<2.12,>=2.11.0 in c:\\users\\sayan\\anaconda3\\lib\\site-packages (from tensorflow-intel==2.11.0->tensorflow) (2.11.0)\n",
      "Requirement already satisfied: numpy>=1.20 in c:\\users\\sayan\\anaconda3\\lib\\site-packages (from tensorflow-intel==2.11.0->tensorflow) (1.20.1)\n",
      "Requirement already satisfied: wheel<1.0,>=0.23.0 in c:\\users\\sayan\\anaconda3\\lib\\site-packages (from astunparse>=1.6.0->tensorflow-intel==2.11.0->tensorflow) (0.37.1)\n",
      "Requirement already satisfied: werkzeug>=1.0.1 in c:\\users\\sayan\\anaconda3\\lib\\site-packages (from tensorboard<2.12,>=2.11->tensorflow-intel==2.11.0->tensorflow) (1.0.1)\n",
      "Collecting google-auth<3,>=1.6.3\n",
      "  Downloading google_auth-2.16.0-py2.py3-none-any.whl (177 kB)\n",
      "     -------------------------------------- 177.8/177.8 KB 3.6 MB/s eta 0:00:00\n",
      "Collecting google-auth-oauthlib<0.5,>=0.4.1\n",
      "  Downloading google_auth_oauthlib-0.4.6-py2.py3-none-any.whl (18 kB)\n",
      "Collecting markdown>=2.6.8\n",
      "  Downloading Markdown-3.4.1-py3-none-any.whl (93 kB)\n",
      "     ---------------------------------------- 93.3/93.3 KB 2.7 MB/s eta 0:00:00\n",
      "Requirement already satisfied: requests<3,>=2.21.0 in c:\\users\\sayan\\anaconda3\\lib\\site-packages (from tensorboard<2.12,>=2.11->tensorflow-intel==2.11.0->tensorflow) (2.25.1)\n",
      "Collecting tensorboard-plugin-wit>=1.6.0\n",
      "  Downloading tensorboard_plugin_wit-1.8.1-py3-none-any.whl (781 kB)\n",
      "     -------------------------------------- 781.3/781.3 KB 3.8 MB/s eta 0:00:00\n"
     ]
    },
    {
     "name": "stderr",
     "output_type": "stream",
     "text": [
      "WARNING: You are using pip version 22.0.4; however, version 22.3.1 is available.\n",
      "You should consider upgrading via the 'c:\\users\\sayan\\anaconda3\\python.exe -m pip install --upgrade pip' command.\n"
     ]
    },
    {
     "name": "stdout",
     "output_type": "stream",
     "text": [
      "Collecting tensorboard-data-server<0.7.0,>=0.6.0\n",
      "  Downloading tensorboard_data_server-0.6.1-py3-none-any.whl (2.4 kB)\n",
      "Requirement already satisfied: pyparsing>=2.0.2 in c:\\users\\sayan\\anaconda3\\lib\\site-packages (from packaging->tensorflow-intel==2.11.0->tensorflow) (2.4.7)\n",
      "Collecting rsa<5,>=3.1.4\n",
      "  Downloading rsa-4.9-py3-none-any.whl (34 kB)\n",
      "Collecting pyasn1-modules>=0.2.1\n",
      "  Downloading pyasn1_modules-0.2.8-py2.py3-none-any.whl (155 kB)\n",
      "     -------------------------------------- 155.3/155.3 KB 4.7 MB/s eta 0:00:00\n",
      "Requirement already satisfied: cachetools<6.0,>=2.0.0 in c:\\users\\sayan\\anaconda3\\lib\\site-packages (from google-auth<3,>=1.6.3->tensorboard<2.12,>=2.11->tensorflow-intel==2.11.0->tensorflow) (5.0.0)\n",
      "Collecting requests-oauthlib>=0.7.0\n",
      "  Downloading requests_oauthlib-1.3.1-py2.py3-none-any.whl (23 kB)\n",
      "Collecting importlib-metadata>=4.4\n",
      "  Downloading importlib_metadata-6.0.0-py3-none-any.whl (21 kB)\n",
      "Requirement already satisfied: chardet<5,>=3.0.2 in c:\\users\\sayan\\anaconda3\\lib\\site-packages (from requests<3,>=2.21.0->tensorboard<2.12,>=2.11->tensorflow-intel==2.11.0->tensorflow) (4.0.0)\n",
      "Requirement already satisfied: certifi>=2017.4.17 in c:\\users\\sayan\\anaconda3\\lib\\site-packages (from requests<3,>=2.21.0->tensorboard<2.12,>=2.11->tensorflow-intel==2.11.0->tensorflow) (2020.12.5)\n",
      "Requirement already satisfied: urllib3<1.27,>=1.21.1 in c:\\users\\sayan\\anaconda3\\lib\\site-packages (from requests<3,>=2.21.0->tensorboard<2.12,>=2.11->tensorflow-intel==2.11.0->tensorflow) (1.26.4)\n",
      "Requirement already satisfied: idna<3,>=2.5 in c:\\users\\sayan\\anaconda3\\lib\\site-packages (from requests<3,>=2.21.0->tensorboard<2.12,>=2.11->tensorflow-intel==2.11.0->tensorflow) (2.10)\n",
      "Requirement already satisfied: zipp>=0.5 in c:\\users\\sayan\\anaconda3\\lib\\site-packages (from importlib-metadata>=4.4->markdown>=2.6.8->tensorboard<2.12,>=2.11->tensorflow-intel==2.11.0->tensorflow) (3.4.1)\n",
      "Collecting pyasn1<0.5.0,>=0.4.6\n",
      "  Downloading pyasn1-0.4.8-py2.py3-none-any.whl (77 kB)\n",
      "     ---------------------------------------- 77.1/77.1 KB 4.2 MB/s eta 0:00:00\n",
      "Collecting oauthlib>=3.0.0\n",
      "  Downloading oauthlib-3.2.2-py3-none-any.whl (151 kB)\n",
      "     -------------------------------------- 151.7/151.7 KB 2.2 MB/s eta 0:00:00\n",
      "Installing collected packages: tensorboard-plugin-wit, pyasn1, libclang, flatbuffers, termcolor, tensorflow-io-gcs-filesystem, tensorflow-estimator, tensorboard-data-server, rsa, pyasn1-modules, opt-einsum, oauthlib, importlib-metadata, grpcio, google-pasta, gast, astunparse, absl-py, requests-oauthlib, markdown, google-auth, google-auth-oauthlib, tensorboard, tensorflow-intel, tensorflow\n",
      "  Attempting uninstall: importlib-metadata\n",
      "    Found existing installation: importlib-metadata 3.10.0\n",
      "    Uninstalling importlib-metadata-3.10.0:\n",
      "      Successfully uninstalled importlib-metadata-3.10.0\n",
      "Successfully installed absl-py-1.4.0 astunparse-1.6.3 flatbuffers-23.1.4 gast-0.4.0 google-auth-2.16.0 google-auth-oauthlib-0.4.6 google-pasta-0.2.0 grpcio-1.51.1 importlib-metadata-6.0.0 libclang-15.0.6.1 markdown-3.4.1 oauthlib-3.2.2 opt-einsum-3.3.0 pyasn1-0.4.8 pyasn1-modules-0.2.8 requests-oauthlib-1.3.1 rsa-4.9 tensorboard-2.11.2 tensorboard-data-server-0.6.1 tensorboard-plugin-wit-1.8.1 tensorflow-2.11.0 tensorflow-estimator-2.11.0 tensorflow-intel-2.11.0 tensorflow-io-gcs-filesystem-0.29.0 termcolor-2.2.0\n"
     ]
    }
   ],
   "source": [
    "!pip install tensorflow"
   ]
  },
  {
   "cell_type": "code",
   "execution_count": 45,
   "id": "91aa7c45",
   "metadata": {},
   "outputs": [
    {
     "name": "stdout",
     "output_type": "stream",
     "text": [
      "Collecting pydot\n",
      "  Downloading pydot-1.4.2-py2.py3-none-any.whl (21 kB)\n",
      "Requirement already satisfied: pyparsing>=2.1.4 in c:\\users\\sayan\\anaconda3\\lib\\site-packages (from pydot) (2.4.7)\n",
      "Installing collected packages: pydot\n",
      "Successfully installed pydot-1.4.2\n"
     ]
    },
    {
     "name": "stderr",
     "output_type": "stream",
     "text": [
      "WARNING: You are using pip version 22.0.4; however, version 22.3.1 is available.\n",
      "You should consider upgrading via the 'c:\\users\\sayan\\anaconda3\\python.exe -m pip install --upgrade pip' command.\n"
     ]
    }
   ],
   "source": [
    "!pip install pydot"
   ]
  },
  {
   "cell_type": "code",
   "execution_count": 4,
   "id": "7a6587dc",
   "metadata": {},
   "outputs": [],
   "source": [
    "import matplotlib.pyplot as plt\n",
    "from keras.layers import Dense, Flatten #layers sub module is to write the layers im MLP\n",
    "from keras.models import Sequential\n",
    "from keras.utils import to_categorical\n",
    "from keras.datasets import mnist\n",
    "from keras import utils"
   ]
  },
  {
   "cell_type": "code",
   "execution_count": 81,
   "id": "3677abe0",
   "metadata": {},
   "outputs": [],
   "source": [
    "import numpy as np\n",
    "import pandas as pd"
   ]
  },
  {
   "cell_type": "code",
   "execution_count": 5,
   "id": "7a5321b6",
   "metadata": {},
   "outputs": [
    {
     "name": "stdout",
     "output_type": "stream",
     "text": [
      "Downloading data from https://storage.googleapis.com/tensorflow/tf-keras-datasets/mnist.npz\n",
      "11490434/11490434 [==============================] - 4s 0us/step\n"
     ]
    }
   ],
   "source": [
    "(X_train,Y_train),(X_test,Y_test)=mnist.load_data()"
   ]
  },
  {
   "cell_type": "code",
   "execution_count": 9,
   "id": "50decf6d",
   "metadata": {},
   "outputs": [
    {
     "data": {
      "text/plain": [
       "(10000,)"
      ]
     },
     "execution_count": 9,
     "metadata": {},
     "output_type": "execute_result"
    }
   ],
   "source": [
    "Y_test.shape"
   ]
  },
  {
   "cell_type": "code",
   "execution_count": 12,
   "id": "f58d0100",
   "metadata": {},
   "outputs": [
    {
     "data": {
      "text/plain": [
       "(60000, 28, 28)"
      ]
     },
     "execution_count": 12,
     "metadata": {},
     "output_type": "execute_result"
    }
   ],
   "source": [
    "X_train.shape #There are 60000 rows each containing an image of 28 pixels*28 pixels"
   ]
  },
  {
   "cell_type": "code",
   "execution_count": 39,
   "id": "dd8adfb0",
   "metadata": {},
   "outputs": [
    {
     "data": {
      "text/plain": [
       "(60000,)"
      ]
     },
     "execution_count": 39,
     "metadata": {},
     "output_type": "execute_result"
    }
   ],
   "source": [
    "Y_train.shape"
   ]
  },
  {
   "cell_type": "code",
   "execution_count": 24,
   "id": "5b477104",
   "metadata": {},
   "outputs": [
    {
     "data": {
      "image/png": "[encoded data removed]",
      "text/plain": [
       "<Figure size 1440x288 with 10 Axes>"
      ]
     },
     "metadata": {
      "needs_background": "light"
     },
     "output_type": "display_data"
    }
   ],
   "source": [
    "fig,axes=plt.subplots(ncols=10,sharex=False,sharey=True,figsize=(20,4))\n",
    "for i in range(10):\n",
    "    axes[i].set_title(Y_train[i])\n",
    "    axes[i].imshow(X_train[i],cmap='gray')\n",
    "    axes[i].get_xaxis().set_visible(False)\n",
    "    axes[i].get_yaxis().set_visible(False)\n",
    "plt.show()"
   ]
  },
  {
   "cell_type": "code",
   "execution_count": 26,
   "id": "a539049b",
   "metadata": {},
   "outputs": [
    {
     "data": {
      "text/plain": [
       "array([5, 0, 4, ..., 5, 6, 8], dtype=uint8)"
      ]
     },
     "execution_count": 26,
     "metadata": {},
     "output_type": "execute_result"
    }
   ],
   "source": [
    "Y_train"
   ]
  },
  {
   "cell_type": "code",
   "execution_count": 36,
   "id": "e2dad2c4",
   "metadata": {},
   "outputs": [],
   "source": [
    "y_train=to_categorical(Y_train)\n",
    "y_test=to_categorical(Y_test)"
   ]
  },
  {
   "cell_type": "code",
   "execution_count": 37,
   "id": "9dbefce9",
   "metadata": {},
   "outputs": [
    {
     "data": {
      "text/plain": [
       "array([0., 0., 0., 0., 0., 1., 0., 0., 0., 0.], dtype=float32)"
      ]
     },
     "execution_count": 37,
     "metadata": {},
     "output_type": "execute_result"
    }
   ],
   "source": [
    "y_train[0]"
   ]
  },
  {
   "cell_type": "code",
   "execution_count": 38,
   "id": "8a7b46bc",
   "metadata": {},
   "outputs": [
    {
     "data": {
      "text/plain": [
       "5"
      ]
     },
     "execution_count": 38,
     "metadata": {},
     "output_type": "execute_result"
    }
   ],
   "source": [
    "Y_train[0]"
   ]
  },
  {
   "cell_type": "code",
   "execution_count": 41,
   "id": "02fd3f7a",
   "metadata": {},
   "outputs": [
    {
     "data": {
      "text/plain": [
       "(60000, 10)"
      ]
     },
     "execution_count": 41,
     "metadata": {},
     "output_type": "execute_result"
    }
   ],
   "source": [
    "y_train.shape"
   ]
  },
  {
   "cell_type": "code",
   "execution_count": 42,
   "id": "f448f387",
   "metadata": {},
   "outputs": [],
   "source": [
    "model=Sequential()\n",
    "model.add(Flatten(input_shape=(28,28))) #we have to flatten the matrix since MLP takes only one dimensional data.\n",
    "#the input layer is made automatically. Here the input layer has (28*28=784) nodes.\n",
    "model.add(Dense(10,activation='sigmoid')) #first hidden layer is added #dense indicates that the networks are fully connected.\n",
    "model.add(Dense(5,activation='sigmoid'))\n",
    "model.add(Dense(10,activation='softmax')) #for multiclass classification we prefer softmax activation in the last layer."
   ]
  },
  {
   "cell_type": "code",
   "execution_count": 43,
   "id": "2bef3fdd",
   "metadata": {},
   "outputs": [
    {
     "name": "stdout",
     "output_type": "stream",
     "text": [
      "Model: \"sequential\"\n",
      "_________________________________________________________________\n",
      " Layer (type)                Output Shape              Param #   \n",
      "=================================================================\n",
      " flatten (Flatten)           (None, 784)               0         \n",
      "                                                                 \n",
      " dense (Dense)               (None, 10)                7850      \n",
      "                                                                 \n",
      " dense_1 (Dense)             (None, 5)                 55        \n",
      "                                                                 \n",
      " dense_2 (Dense)             (None, 10)                60        \n",
      "                                                                 \n",
      "=================================================================\n",
      "Total params: 7,965\n",
      "Trainable params: 7,965\n",
      "Non-trainable params: 0\n",
      "_________________________________________________________________\n"
     ]
    }
   ],
   "source": [
    "model.summary()"
   ]
  },
  {
   "cell_type": "code",
   "execution_count": 44,
   "id": "3f121def",
   "metadata": {},
   "outputs": [
    {
     "name": "stdout",
     "output_type": "stream",
     "text": [
      "You must install pydot (`pip install pydot`) and install graphviz (see instructions at https://graphviz.gitlab.io/download/) for plot_model to work.\n"
     ]
    }
   ],
   "source": [
    "utils.plot_model(model,show_shapes=True)"
   ]
  },
  {
   "cell_type": "code",
   "execution_count": 47,
   "id": "97119495",
   "metadata": {},
   "outputs": [],
   "source": [
    "model.compile(loss='categorical_crossentropy',optimizer='adam',metrics=['acc'])\n",
    "#since this is multiclass classifiation, we are using 'categorical_crossentropy' loss function"
   ]
  },
  {
   "cell_type": "code",
   "execution_count": 48,
   "id": "21a7b18c",
   "metadata": {},
   "outputs": [
    {
     "name": "stdout",
     "output_type": "stream",
     "text": [
      "Epoch 1/20\n",
      "1875/1875 [==============================] - 7s 3ms/step - loss: 1.8529 - acc: 0.3564 - val_loss: 1.4914 - val_acc: 0.4829\n",
      "Epoch 2/20\n",
      "1875/1875 [==============================] - 6s 3ms/step - loss: 1.3542 - acc: 0.5389 - val_loss: 1.2159 - val_acc: 0.5655\n",
      "Epoch 3/20\n",
      "1875/1875 [==============================] - 5s 3ms/step - loss: 1.1253 - acc: 0.5928 - val_loss: 1.0761 - val_acc: 0.6055\n",
      "Epoch 4/20\n",
      "1875/1875 [==============================] - 6s 3ms/step - loss: 1.0484 - acc: 0.6235 - val_loss: 1.0095 - val_acc: 0.6214\n",
      "Epoch 5/20\n",
      "1875/1875 [==============================] - 5s 3ms/step - loss: 1.0030 - acc: 0.6398 - val_loss: 0.9632 - val_acc: 0.6653\n",
      "Epoch 6/20\n",
      "1875/1875 [==============================] - 5s 3ms/step - loss: 0.9571 - acc: 0.6668 - val_loss: 0.8922 - val_acc: 0.6858\n",
      "Epoch 7/20\n",
      "1875/1875 [==============================] - 6s 3ms/step - loss: 0.9047 - acc: 0.6806 - val_loss: 0.8969 - val_acc: 0.6882\n",
      "Epoch 8/20\n",
      "1875/1875 [==============================] - 5s 3ms/step - loss: 0.8884 - acc: 0.6944 - val_loss: 0.8661 - val_acc: 0.6921\n",
      "Epoch 9/20\n",
      "1875/1875 [==============================] - 5s 3ms/step - loss: 0.8573 - acc: 0.7033 - val_loss: 0.8435 - val_acc: 0.6951\n",
      "Epoch 10/20\n",
      "1875/1875 [==============================] - 6s 3ms/step - loss: 0.8370 - acc: 0.7089 - val_loss: 0.8188 - val_acc: 0.7141\n",
      "Epoch 11/20\n",
      "1875/1875 [==============================] - 5s 3ms/step - loss: 0.8142 - acc: 0.7231 - val_loss: 0.7942 - val_acc: 0.7375\n",
      "Epoch 12/20\n",
      "1875/1875 [==============================] - 6s 3ms/step - loss: 0.7987 - acc: 0.7313 - val_loss: 0.7728 - val_acc: 0.7486\n",
      "Epoch 13/20\n",
      "1875/1875 [==============================] - 5s 3ms/step - loss: 0.7887 - acc: 0.7382 - val_loss: 0.7928 - val_acc: 0.7421\n",
      "Epoch 14/20\n",
      "1875/1875 [==============================] - 5s 3ms/step - loss: 0.7901 - acc: 0.7428 - val_loss: 0.7346 - val_acc: 0.7683\n",
      "Epoch 15/20\n",
      "1875/1875 [==============================] - 5s 3ms/step - loss: 0.7254 - acc: 0.7772 - val_loss: 0.7314 - val_acc: 0.7746\n",
      "Epoch 16/20\n",
      "1875/1875 [==============================] - 6s 3ms/step - loss: 0.7164 - acc: 0.7857 - val_loss: 0.6997 - val_acc: 0.7854\n",
      "Epoch 17/20\n",
      "1875/1875 [==============================] - 5s 3ms/step - loss: 0.6611 - acc: 0.8062 - val_loss: 0.6222 - val_acc: 0.8215\n",
      "Epoch 18/20\n",
      "1875/1875 [==============================] - 5s 3ms/step - loss: 0.6580 - acc: 0.8092 - val_loss: 0.5966 - val_acc: 0.8368\n",
      "Epoch 19/20\n",
      "1875/1875 [==============================] - 6s 3ms/step - loss: 0.6191 - acc: 0.8239 - val_loss: 0.6455 - val_acc: 0.8114\n",
      "Epoch 20/20\n",
      "1875/1875 [==============================] - 5s 3ms/step - loss: 0.6144 - acc: 0.8236 - val_loss: 0.5948 - val_acc: 0.8351\n"
     ]
    },
    {
     "data": {
      "text/plain": [
       "<keras.callbacks.History at 0x1eda90413a0>"
      ]
     },
     "execution_count": 48,
     "metadata": {},
     "output_type": "execute_result"
    }
   ],
   "source": [
    "model.fit(X_train,y_train,epochs=20,validation_data=(X_test,y_test))\n",
    "#Here we have not mentioned any batch size. So the model takes batch size 32 as default.\n",
    "#60000/32=1875\n",
    "#Out of 60000 images, only 1875 images are being sent in one epoch."
   ]
  },
  {
   "cell_type": "code",
   "execution_count": 49,
   "id": "557b5062",
   "metadata": {},
   "outputs": [],
   "source": [
    "model.save('mnist_model.h5')"
   ]
  },
  {
   "cell_type": "code",
   "execution_count": 52,
   "id": "f7ead960",
   "metadata": {},
   "outputs": [
    {
     "name": "stdout",
     "output_type": "stream",
     "text": [
      "Epoch 1/20\n",
      "1875/1875 [==============================] - 6s 3ms/step - loss: 0.6189 - acc: 0.8213 - val_loss: 0.5590 - val_acc: 0.8390\n",
      "Epoch 2/20\n",
      "1875/1875 [==============================] - 5s 3ms/step - loss: 0.5801 - acc: 0.8329 - val_loss: 0.5382 - val_acc: 0.8467\n",
      "Epoch 3/20\n",
      "1875/1875 [==============================] - 5s 3ms/step - loss: 0.5747 - acc: 0.8345 - val_loss: 0.5508 - val_acc: 0.8471\n",
      "Epoch 4/20\n",
      "1875/1875 [==============================] - 6s 3ms/step - loss: 0.6109 - acc: 0.8207 - val_loss: 0.5691 - val_acc: 0.8280\n",
      "Epoch 5/20\n",
      "1875/1875 [==============================] - 5s 3ms/step - loss: 0.5666 - acc: 0.8301 - val_loss: 0.5674 - val_acc: 0.8264\n",
      "Epoch 6/20\n",
      "1875/1875 [==============================] - 5s 3ms/step - loss: 0.5558 - acc: 0.8370 - val_loss: 0.5393 - val_acc: 0.8482\n",
      "Epoch 7/20\n",
      "1875/1875 [==============================] - 6s 3ms/step - loss: 0.5617 - acc: 0.8332 - val_loss: 0.5678 - val_acc: 0.8332\n",
      "Epoch 8/20\n",
      "1875/1875 [==============================] - 5s 3ms/step - loss: 0.5593 - acc: 0.8396 - val_loss: 0.5365 - val_acc: 0.8446\n",
      "Epoch 9/20\n",
      "1875/1875 [==============================] - 5s 3ms/step - loss: 0.5626 - acc: 0.8355 - val_loss: 0.5286 - val_acc: 0.8430\n",
      "Epoch 10/20\n",
      "1875/1875 [==============================] - 6s 3ms/step - loss: 0.5329 - acc: 0.8416 - val_loss: 0.5507 - val_acc: 0.8346\n",
      "Epoch 11/20\n",
      "1875/1875 [==============================] - 5s 3ms/step - loss: 0.5416 - acc: 0.8450 - val_loss: 0.6070 - val_acc: 0.8038\n",
      "Epoch 12/20\n",
      "1875/1875 [==============================] - 5s 3ms/step - loss: 0.5589 - acc: 0.8367 - val_loss: 0.5552 - val_acc: 0.8383\n",
      "Epoch 13/20\n",
      "1875/1875 [==============================] - 6s 3ms/step - loss: 0.5333 - acc: 0.8482 - val_loss: 0.5095 - val_acc: 0.8560\n",
      "Epoch 14/20\n",
      "1875/1875 [==============================] - 5s 3ms/step - loss: 0.5253 - acc: 0.8481 - val_loss: 0.5399 - val_acc: 0.8413\n",
      "Epoch 15/20\n",
      "1875/1875 [==============================] - 5s 3ms/step - loss: 0.5244 - acc: 0.8477 - val_loss: 0.5222 - val_acc: 0.8506\n",
      "Epoch 16/20\n",
      "1875/1875 [==============================] - 6s 3ms/step - loss: 0.5136 - acc: 0.8506 - val_loss: 0.4967 - val_acc: 0.8575\n",
      "Epoch 17/20\n",
      "1875/1875 [==============================] - 5s 3ms/step - loss: 0.5198 - acc: 0.8530 - val_loss: 0.5023 - val_acc: 0.8577\n",
      "Epoch 18/20\n",
      "1875/1875 [==============================] - 6s 3ms/step - loss: 0.5184 - acc: 0.8492 - val_loss: 0.5361 - val_acc: 0.8437\n",
      "Epoch 19/20\n",
      "1875/1875 [==============================] - 6s 3ms/step - loss: 0.5199 - acc: 0.8495 - val_loss: 0.4891 - val_acc: 0.8611\n",
      "Epoch 20/20\n",
      "1875/1875 [==============================] - 5s 3ms/step - loss: 0.5108 - acc: 0.8502 - val_loss: 0.5034 - val_acc: 0.8518\n"
     ]
    }
   ],
   "source": [
    "history=model.fit(X_train,y_train,epochs=20,validation_data=(X_test,y_test))"
   ]
  },
  {
   "cell_type": "code",
   "execution_count": 66,
   "id": "0c3edf5c",
   "metadata": {},
   "outputs": [
    {
     "data": {
      "text/plain": [
       "{'loss': [0.6188963055610657,\n",
       "  0.5801178216934204,\n",
       "  0.5747296810150146,\n",
       "  0.6108883023262024,\n",
       "  0.5665664076805115,\n",
       "  0.5558371543884277,\n",
       "  0.5617020130157471,\n",
       "  0.5592845678329468,\n",
       "  0.5626295208930969,\n",
       "  0.532870352268219,\n",
       "  0.541639506816864,\n",
       "  0.5588958859443665,\n",
       "  0.5333086252212524,\n",
       "  0.5253068208694458,\n",
       "  0.5244407653808594,\n",
       "  0.5135942101478577,\n",
       "  0.5197857022285461,\n",
       "  0.5183530449867249,\n",
       "  0.5199321508407593,\n",
       "  0.510842502117157],\n",
       " 'acc': [0.8212500214576721,\n",
       "  0.8329499959945679,\n",
       "  0.8344833254814148,\n",
       "  0.8207166790962219,\n",
       "  0.830133318901062,\n",
       "  0.8369666934013367,\n",
       "  0.8331999778747559,\n",
       "  0.8396333456039429,\n",
       "  0.8354833126068115,\n",
       "  0.8416333198547363,\n",
       "  0.8450333476066589,\n",
       "  0.8367166519165039,\n",
       "  0.8482333421707153,\n",
       "  0.8481000065803528,\n",
       "  0.8477333188056946,\n",
       "  0.8505666851997375,\n",
       "  0.8530333042144775,\n",
       "  0.8492333292961121,\n",
       "  0.8495000004768372,\n",
       "  0.8501666784286499],\n",
       " 'val_loss': [0.5589768290519714,\n",
       "  0.5382113456726074,\n",
       "  0.5508282780647278,\n",
       "  0.5691471695899963,\n",
       "  0.5674042701721191,\n",
       "  0.5392860770225525,\n",
       "  0.5678188800811768,\n",
       "  0.536505937576294,\n",
       "  0.528617799282074,\n",
       "  0.5507455468177795,\n",
       "  0.6070439219474792,\n",
       "  0.5551648139953613,\n",
       "  0.5095127820968628,\n",
       "  0.5399063229560852,\n",
       "  0.5222395658493042,\n",
       "  0.49669507145881653,\n",
       "  0.5023126006126404,\n",
       "  0.5360844731330872,\n",
       "  0.48914432525634766,\n",
       "  0.5033606290817261],\n",
       " 'val_acc': [0.8389999866485596,\n",
       "  0.8467000126838684,\n",
       "  0.847100019454956,\n",
       "  0.828000009059906,\n",
       "  0.8263999819755554,\n",
       "  0.8482000231742859,\n",
       "  0.8331999778747559,\n",
       "  0.8446000218391418,\n",
       "  0.8429999947547913,\n",
       "  0.8345999717712402,\n",
       "  0.8037999868392944,\n",
       "  0.8382999897003174,\n",
       "  0.8560000061988831,\n",
       "  0.8413000106811523,\n",
       "  0.850600004196167,\n",
       "  0.8575000166893005,\n",
       "  0.857699990272522,\n",
       "  0.8436999917030334,\n",
       "  0.8611000180244446,\n",
       "  0.8518000245094299]}"
      ]
     },
     "execution_count": 66,
     "metadata": {},
     "output_type": "execute_result"
    }
   ],
   "source": [
    "history.history"
   ]
  },
  {
   "cell_type": "code",
   "execution_count": 72,
   "id": "cf7f96fc",
   "metadata": {},
   "outputs": [
    {
     "data": {
      "text/plain": [
       "<matplotlib.legend.Legend at 0x1edba88bfd0>"
      ]
     },
     "execution_count": 72,
     "metadata": {},
     "output_type": "execute_result"
    },
    {
     "data": {
      "image/png": "[encoded data removed]",
      "text/plain": [
       "<Figure size 432x288 with 1 Axes>"
      ]
     },
     "metadata": {
      "needs_background": "light"
     },
     "output_type": "display_data"
    }
   ],
   "source": [
    "plt.plot(history.history['loss'],label='Training loss')\n",
    "plt.plot(history.history['val_loss'],label='Validation loss')\n",
    "plt.legend()"
   ]
  },
  {
   "cell_type": "code",
   "execution_count": 73,
   "id": "ae39b1e0",
   "metadata": {},
   "outputs": [
    {
     "data": {
      "text/plain": [
       "<matplotlib.legend.Legend at 0x1edba902f70>"
      ]
     },
     "execution_count": 73,
     "metadata": {},
     "output_type": "execute_result"
    },
    {
     "data": {
      "image/png": "[encoded data removed]",
      "text/plain": [
       "<Figure size 432x288 with 1 Axes>"
      ]
     },
     "metadata": {
      "needs_background": "light"
     },
     "output_type": "display_data"
    }
   ],
   "source": [
    "plt.plot(history.history['acc'],label='Training accuracy')\n",
    "plt.plot(history.history['val_acc'],label='Validation accuracy')\n",
    "plt.legend()"
   ]
  },
  {
   "cell_type": "code",
   "execution_count": 75,
   "id": "69f15598",
   "metadata": {},
   "outputs": [],
   "source": [
    "from keras import models"
   ]
  },
  {
   "cell_type": "code",
   "execution_count": 76,
   "id": "82d886bb",
   "metadata": {},
   "outputs": [],
   "source": [
    "model=models.load_model('mnist_model.h5')"
   ]
  },
  {
   "cell_type": "code",
   "execution_count": 79,
   "id": "888abbc2",
   "metadata": {},
   "outputs": [
    {
     "data": {
      "text/plain": [
       "<matplotlib.image.AxesImage at 0x1eda9991100>"
      ]
     },
     "execution_count": 79,
     "metadata": {},
     "output_type": "execute_result"
    },
    {
     "data": {
      "image/png": "[encoded data removed]",
      "text/plain": [
       "<Figure size 432x288 with 1 Axes>"
      ]
     },
     "metadata": {
      "needs_background": "light"
     },
     "output_type": "display_data"
    }
   ],
   "source": [
    "plt.imshow(X_test[0],cmap='gray')"
   ]
  },
  {
   "cell_type": "code",
   "execution_count": 87,
   "id": "610d3a8f",
   "metadata": {},
   "outputs": [
    {
     "name": "stdout",
     "output_type": "stream",
     "text": [
      "1/1 [==============================] - 0s 35ms/step\n",
      "[[3.7945374e-05 8.3194818e-06 1.4317493e-02 1.8486148e-02 4.2634722e-04\n",
      "  2.5930439e-04 2.8480605e-05 9.2223763e-01 1.0324671e-02 3.3873670e-02]]\n",
      "1/1 [==============================] - 0s 33ms/step\n"
     ]
    },
    {
     "data": {
      "text/plain": [
       "7"
      ]
     },
     "execution_count": 87,
     "metadata": {},
     "output_type": "execute_result"
    }
   ],
   "source": [
    "x0=np.reshape(X_test[0],(1,28,28)) \n",
    "print(model.predict(x0)) #the model is a siftmax model which is returning the probality of each class\n",
    "np.argmax(model.predict(x0)) #np.argmax returns the class for which probability is maximum."
   ]
  },
  {
   "cell_type": "raw",
   "id": "087ef604",
   "metadata": {},
   "source": [
    "CPU- central processing unit\n",
    "GPU- graphic processing unit\n",
    "TPU- tensor processing unit"
   ]
  },
  {
   "cell_type": "code",
   "execution_count": null,
   "id": "6eed50df",
   "metadata": {},
   "outputs": [],
   "source": []
  },
  {
   "cell_type": "code",
   "execution_count": null,
   "id": "e19d7c42",
   "metadata": {},
   "outputs": [],
   "source": []
  },
  {
   "cell_type": "code",
   "execution_count": null,
   "id": "74ee7583",
   "metadata": {},
   "outputs": [],
   "source": []
  },
  {
   "cell_type": "code",
   "execution_count": null,
   "id": "41653d90",
   "metadata": {},
   "outputs": [],
   "source": []
  }
 ],
 "metadata": {
  "kernelspec": {
   "display_name": "Python 3",
   "language": "python",
   "name": "python3"
  },
  "language_info": {
   "codemirror_mode": {
    "name": "ipython",
    "version": 3
   },
   "file_extension": ".py",
   "mimetype": "text/x-python",
   "name": "python",
   "nbconvert_exporter": "python",
   "pygments_lexer": "ipython3",
   "version": "3.8.8"
  }
 },
 "nbformat": 4,
 "nbformat_minor": 5
}
