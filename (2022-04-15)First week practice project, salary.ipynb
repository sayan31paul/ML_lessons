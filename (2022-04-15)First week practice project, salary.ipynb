{
 "cells": [
  {
   "cell_type": "code",
   "execution_count": 287,
   "id": "d7330fa8",
   "metadata": {},
   "outputs": [],
   "source": [
    "import pandas as pd\n",
    "import numpy as np\n",
    "import matplotlib.pyplot as plt\n",
    "import seaborn as sns\n",
    "import sqlite3\n",
    "from sklearn import preprocessing\n",
    "from sklearn.linear_model import LinearRegression\n",
    "\n",
    "import warnings\n",
    "warnings.filterwarnings('ignore')"
   ]
  },
  {
   "cell_type": "code",
   "execution_count": 288,
   "id": "690e7146",
   "metadata": {},
   "outputs": [
    {
     "data": {
      "text/html": [
       "<div>\n",
       "<style scoped>\n",
       "    .dataframe tbody tr th:only-of-type {\n",
       "        vertical-align: middle;\n",
       "    }\n",
       "\n",
       "    .dataframe tbody tr th {\n",
       "        vertical-align: top;\n",
       "    }\n",
       "\n",
       "    .dataframe thead th {\n",
       "        text-align: right;\n",
       "    }\n",
       "</style>\n",
       "<table border=\"1\" class=\"dataframe\">\n",
       "  <thead>\n",
       "    <tr style=\"text-align: right;\">\n",
       "      <th></th>\n",
       "      <th>rank</th>\n",
       "      <th>discipline</th>\n",
       "      <th>yrs.since.phd</th>\n",
       "      <th>yrs.service</th>\n",
       "      <th>sex</th>\n",
       "      <th>salary</th>\n",
       "    </tr>\n",
       "  </thead>\n",
       "  <tbody>\n",
       "    <tr>\n",
       "      <th>0</th>\n",
       "      <td>Prof</td>\n",
       "      <td>B</td>\n",
       "      <td>19</td>\n",
       "      <td>18</td>\n",
       "      <td>Male</td>\n",
       "      <td>139750</td>\n",
       "    </tr>\n",
       "    <tr>\n",
       "      <th>1</th>\n",
       "      <td>Prof</td>\n",
       "      <td>B</td>\n",
       "      <td>20</td>\n",
       "      <td>16</td>\n",
       "      <td>Male</td>\n",
       "      <td>173200</td>\n",
       "    </tr>\n",
       "    <tr>\n",
       "      <th>2</th>\n",
       "      <td>AsstProf</td>\n",
       "      <td>B</td>\n",
       "      <td>4</td>\n",
       "      <td>3</td>\n",
       "      <td>Male</td>\n",
       "      <td>79750</td>\n",
       "    </tr>\n",
       "    <tr>\n",
       "      <th>3</th>\n",
       "      <td>Prof</td>\n",
       "      <td>B</td>\n",
       "      <td>45</td>\n",
       "      <td>39</td>\n",
       "      <td>Male</td>\n",
       "      <td>115000</td>\n",
       "    </tr>\n",
       "    <tr>\n",
       "      <th>4</th>\n",
       "      <td>Prof</td>\n",
       "      <td>B</td>\n",
       "      <td>40</td>\n",
       "      <td>41</td>\n",
       "      <td>Male</td>\n",
       "      <td>141500</td>\n",
       "    </tr>\n",
       "    <tr>\n",
       "      <th>...</th>\n",
       "      <td>...</td>\n",
       "      <td>...</td>\n",
       "      <td>...</td>\n",
       "      <td>...</td>\n",
       "      <td>...</td>\n",
       "      <td>...</td>\n",
       "    </tr>\n",
       "    <tr>\n",
       "      <th>392</th>\n",
       "      <td>Prof</td>\n",
       "      <td>A</td>\n",
       "      <td>33</td>\n",
       "      <td>30</td>\n",
       "      <td>Male</td>\n",
       "      <td>103106</td>\n",
       "    </tr>\n",
       "    <tr>\n",
       "      <th>393</th>\n",
       "      <td>Prof</td>\n",
       "      <td>A</td>\n",
       "      <td>31</td>\n",
       "      <td>19</td>\n",
       "      <td>Male</td>\n",
       "      <td>150564</td>\n",
       "    </tr>\n",
       "    <tr>\n",
       "      <th>394</th>\n",
       "      <td>Prof</td>\n",
       "      <td>A</td>\n",
       "      <td>42</td>\n",
       "      <td>25</td>\n",
       "      <td>Male</td>\n",
       "      <td>101738</td>\n",
       "    </tr>\n",
       "    <tr>\n",
       "      <th>395</th>\n",
       "      <td>Prof</td>\n",
       "      <td>A</td>\n",
       "      <td>25</td>\n",
       "      <td>15</td>\n",
       "      <td>Male</td>\n",
       "      <td>95329</td>\n",
       "    </tr>\n",
       "    <tr>\n",
       "      <th>396</th>\n",
       "      <td>AsstProf</td>\n",
       "      <td>A</td>\n",
       "      <td>8</td>\n",
       "      <td>4</td>\n",
       "      <td>Male</td>\n",
       "      <td>81035</td>\n",
       "    </tr>\n",
       "  </tbody>\n",
       "</table>\n",
       "<p>397 rows × 6 columns</p>\n",
       "</div>"
      ],
      "text/plain": [
       "         rank discipline  yrs.since.phd  yrs.service   sex  salary\n",
       "0        Prof          B             19           18  Male  139750\n",
       "1        Prof          B             20           16  Male  173200\n",
       "2    AsstProf          B              4            3  Male   79750\n",
       "3        Prof          B             45           39  Male  115000\n",
       "4        Prof          B             40           41  Male  141500\n",
       "..        ...        ...            ...          ...   ...     ...\n",
       "392      Prof          A             33           30  Male  103106\n",
       "393      Prof          A             31           19  Male  150564\n",
       "394      Prof          A             42           25  Male  101738\n",
       "395      Prof          A             25           15  Male   95329\n",
       "396  AsstProf          A              8            4  Male   81035\n",
       "\n",
       "[397 rows x 6 columns]"
      ]
     },
     "execution_count": 288,
     "metadata": {},
     "output_type": "execute_result"
    }
   ],
   "source": [
    "df=pd.read_csv('prof_salary.csv')\n",
    "df=pd.DataFrame(data=df)\n",
    "df"
   ]
  },
  {
   "cell_type": "code",
   "execution_count": 289,
   "id": "6ec5ed16",
   "metadata": {},
   "outputs": [
    {
     "data": {
      "text/plain": [
       "array(['Prof', 'AsstProf', 'AssocProf'], dtype=object)"
      ]
     },
     "execution_count": 289,
     "metadata": {},
     "output_type": "execute_result"
    }
   ],
   "source": [
    "df['rank'].unique()"
   ]
  },
  {
   "cell_type": "code",
   "execution_count": 290,
   "id": "ccf66f3b",
   "metadata": {},
   "outputs": [
    {
     "data": {
      "text/plain": [
       "array(['B', 'A'], dtype=object)"
      ]
     },
     "execution_count": 290,
     "metadata": {},
     "output_type": "execute_result"
    }
   ],
   "source": [
    "df['discipline'].unique()"
   ]
  },
  {
   "cell_type": "code",
   "execution_count": 291,
   "id": "ae96c65c",
   "metadata": {},
   "outputs": [
    {
     "data": {
      "text/plain": [
       "Index(['rank', 'discipline', 'yrs.since.phd', 'yrs.service', 'sex', 'salary'], dtype='object')"
      ]
     },
     "execution_count": 291,
     "metadata": {},
     "output_type": "execute_result"
    }
   ],
   "source": [
    "df.columns"
   ]
  },
  {
   "cell_type": "code",
   "execution_count": 292,
   "id": "337e3b00",
   "metadata": {},
   "outputs": [
    {
     "data": {
      "text/html": [
       "<div>\n",
       "<style scoped>\n",
       "    .dataframe tbody tr th:only-of-type {\n",
       "        vertical-align: middle;\n",
       "    }\n",
       "\n",
       "    .dataframe tbody tr th {\n",
       "        vertical-align: top;\n",
       "    }\n",
       "\n",
       "    .dataframe thead th {\n",
       "        text-align: right;\n",
       "    }\n",
       "</style>\n",
       "<table border=\"1\" class=\"dataframe\">\n",
       "  <thead>\n",
       "    <tr style=\"text-align: right;\">\n",
       "      <th></th>\n",
       "      <th>rank</th>\n",
       "      <th>discipline</th>\n",
       "      <th>yrs.since.phd</th>\n",
       "      <th>yrs.service</th>\n",
       "      <th>sex</th>\n",
       "      <th>salary</th>\n",
       "    </tr>\n",
       "  </thead>\n",
       "  <tbody>\n",
       "    <tr>\n",
       "      <th>0</th>\n",
       "      <td>2</td>\n",
       "      <td>1</td>\n",
       "      <td>19</td>\n",
       "      <td>18</td>\n",
       "      <td>1</td>\n",
       "      <td>139750</td>\n",
       "    </tr>\n",
       "    <tr>\n",
       "      <th>1</th>\n",
       "      <td>2</td>\n",
       "      <td>1</td>\n",
       "      <td>20</td>\n",
       "      <td>16</td>\n",
       "      <td>1</td>\n",
       "      <td>173200</td>\n",
       "    </tr>\n",
       "    <tr>\n",
       "      <th>2</th>\n",
       "      <td>1</td>\n",
       "      <td>1</td>\n",
       "      <td>4</td>\n",
       "      <td>3</td>\n",
       "      <td>1</td>\n",
       "      <td>79750</td>\n",
       "    </tr>\n",
       "    <tr>\n",
       "      <th>3</th>\n",
       "      <td>2</td>\n",
       "      <td>1</td>\n",
       "      <td>45</td>\n",
       "      <td>39</td>\n",
       "      <td>1</td>\n",
       "      <td>115000</td>\n",
       "    </tr>\n",
       "    <tr>\n",
       "      <th>4</th>\n",
       "      <td>2</td>\n",
       "      <td>1</td>\n",
       "      <td>40</td>\n",
       "      <td>41</td>\n",
       "      <td>1</td>\n",
       "      <td>141500</td>\n",
       "    </tr>\n",
       "    <tr>\n",
       "      <th>...</th>\n",
       "      <td>...</td>\n",
       "      <td>...</td>\n",
       "      <td>...</td>\n",
       "      <td>...</td>\n",
       "      <td>...</td>\n",
       "      <td>...</td>\n",
       "    </tr>\n",
       "    <tr>\n",
       "      <th>392</th>\n",
       "      <td>2</td>\n",
       "      <td>0</td>\n",
       "      <td>33</td>\n",
       "      <td>30</td>\n",
       "      <td>1</td>\n",
       "      <td>103106</td>\n",
       "    </tr>\n",
       "    <tr>\n",
       "      <th>393</th>\n",
       "      <td>2</td>\n",
       "      <td>0</td>\n",
       "      <td>31</td>\n",
       "      <td>19</td>\n",
       "      <td>1</td>\n",
       "      <td>150564</td>\n",
       "    </tr>\n",
       "    <tr>\n",
       "      <th>394</th>\n",
       "      <td>2</td>\n",
       "      <td>0</td>\n",
       "      <td>42</td>\n",
       "      <td>25</td>\n",
       "      <td>1</td>\n",
       "      <td>101738</td>\n",
       "    </tr>\n",
       "    <tr>\n",
       "      <th>395</th>\n",
       "      <td>2</td>\n",
       "      <td>0</td>\n",
       "      <td>25</td>\n",
       "      <td>15</td>\n",
       "      <td>1</td>\n",
       "      <td>95329</td>\n",
       "    </tr>\n",
       "    <tr>\n",
       "      <th>396</th>\n",
       "      <td>1</td>\n",
       "      <td>0</td>\n",
       "      <td>8</td>\n",
       "      <td>4</td>\n",
       "      <td>1</td>\n",
       "      <td>81035</td>\n",
       "    </tr>\n",
       "  </tbody>\n",
       "</table>\n",
       "<p>397 rows × 6 columns</p>\n",
       "</div>"
      ],
      "text/plain": [
       "     rank  discipline  yrs.since.phd  yrs.service  sex  salary\n",
       "0       2           1             19           18    1  139750\n",
       "1       2           1             20           16    1  173200\n",
       "2       1           1              4            3    1   79750\n",
       "3       2           1             45           39    1  115000\n",
       "4       2           1             40           41    1  141500\n",
       "..    ...         ...            ...          ...  ...     ...\n",
       "392     2           0             33           30    1  103106\n",
       "393     2           0             31           19    1  150564\n",
       "394     2           0             42           25    1  101738\n",
       "395     2           0             25           15    1   95329\n",
       "396     1           0              8            4    1   81035\n",
       "\n",
       "[397 rows x 6 columns]"
      ]
     },
     "execution_count": 292,
     "metadata": {},
     "output_type": "execute_result"
    }
   ],
   "source": [
    "label_encoder=preprocessing.LabelEncoder()\n",
    "df['rank']=label_encoder.fit_transform(df['rank'])\n",
    "df['sex']=label_encoder.fit_transform(df['sex'])\n",
    "df['discipline']=label_encoder.fit_transform(df['discipline'])\n",
    "df"
   ]
  },
  {
   "cell_type": "raw",
   "id": "26b12b7f",
   "metadata": {},
   "source": [
    "AssocProf has been encoded as 0\n",
    "AsstProf has been encoded as 1\n",
    "Prof has been encoded as 2\n",
    "\n",
    "Female has been encoded as 0\n",
    "Male has been encoded as 1"
   ]
  },
  {
   "cell_type": "code",
   "execution_count": null,
   "id": "90f4b936",
   "metadata": {},
   "outputs": [],
   "source": []
  },
  {
   "cell_type": "code",
   "execution_count": 293,
   "id": "5195935e",
   "metadata": {},
   "outputs": [
    {
     "data": {
      "text/plain": [
       "rank             0\n",
       "discipline       0\n",
       "yrs.since.phd    0\n",
       "yrs.service      0\n",
       "sex              0\n",
       "salary           0\n",
       "dtype: int64"
      ]
     },
     "execution_count": 293,
     "metadata": {},
     "output_type": "execute_result"
    }
   ],
   "source": [
    "df.isnull().sum()\n",
    "#No null values present"
   ]
  },
  {
   "cell_type": "markdown",
   "id": "4a5675f2",
   "metadata": {},
   "source": [
    "# EDA"
   ]
  },
  {
   "cell_type": "code",
   "execution_count": 294,
   "id": "2665fca7",
   "metadata": {},
   "outputs": [
    {
     "data": {
      "image/png": "[encoded data removed]",
      "text/plain": [
       "<Figure size 1080x1080 with 42 Axes>"
      ]
     },
     "metadata": {
      "needs_background": "light"
     },
     "output_type": "display_data"
    }
   ],
   "source": [
    "sns.pairplot(df)\n",
    "plt.show()"
   ]
  },
  {
   "cell_type": "raw",
   "id": "1551c034",
   "metadata": {},
   "source": [
    "We have obtanined all the necessary scatterplot in the last row of the pairplots\n",
    "\n",
    "The ponts noted from the scatterplots are:-\n",
    "1.The salary of professors vary over a very high range and they get higher salary as comaped to assocprofs and asstprofs.\n",
    "2.Salary increases with years since phd and years of service.\n",
    "3.Some male professors get a bit higher salary than female professors.\n",
    "4.There is some skewness present in salary data. "
   ]
  },
  {
   "cell_type": "code",
   "execution_count": 295,
   "id": "b55f4f9a",
   "metadata": {},
   "outputs": [
    {
     "data": {
      "text/plain": [
       "<AxesSubplot:>"
      ]
     },
     "execution_count": 295,
     "metadata": {},
     "output_type": "execute_result"
    },
    {
     "data": {
      "image/png": "[encoded data removed]",
      "text/plain": [
       "<Figure size 720x432 with 2 Axes>"
      ]
     },
     "metadata": {
      "needs_background": "light"
     },
     "output_type": "display_data"
    }
   ],
   "source": [
    "plt.figure(figsize=(10,6))\n",
    "sns.heatmap(df.corr(),annot=True)"
   ]
  },
  {
   "cell_type": "raw",
   "id": "39be78d3",
   "metadata": {},
   "source": [
    "Discipline and sex has very less correlation with salary but we will not remove the columns because the number of columns is already very less and there is a chance of underfitting."
   ]
  },
  {
   "cell_type": "code",
   "execution_count": 296,
   "id": "98b7ef13",
   "metadata": {},
   "outputs": [
    {
     "data": {
      "text/html": [
       "<div>\n",
       "<style scoped>\n",
       "    .dataframe tbody tr th:only-of-type {\n",
       "        vertical-align: middle;\n",
       "    }\n",
       "\n",
       "    .dataframe tbody tr th {\n",
       "        vertical-align: top;\n",
       "    }\n",
       "\n",
       "    .dataframe thead th {\n",
       "        text-align: right;\n",
       "    }\n",
       "</style>\n",
       "<table border=\"1\" class=\"dataframe\">\n",
       "  <thead>\n",
       "    <tr style=\"text-align: right;\">\n",
       "      <th></th>\n",
       "      <th>rank</th>\n",
       "      <th>discipline</th>\n",
       "      <th>yrs.since.phd</th>\n",
       "      <th>yrs.service</th>\n",
       "      <th>sex</th>\n",
       "      <th>salary</th>\n",
       "    </tr>\n",
       "  </thead>\n",
       "  <tbody>\n",
       "    <tr>\n",
       "      <th>count</th>\n",
       "      <td>397.000000</td>\n",
       "      <td>397.000000</td>\n",
       "      <td>397.000000</td>\n",
       "      <td>397.000000</td>\n",
       "      <td>397.000000</td>\n",
       "      <td>397.000000</td>\n",
       "    </tr>\n",
       "    <tr>\n",
       "      <th>mean</th>\n",
       "      <td>1.508816</td>\n",
       "      <td>0.544081</td>\n",
       "      <td>22.314861</td>\n",
       "      <td>17.614610</td>\n",
       "      <td>0.901763</td>\n",
       "      <td>113706.458438</td>\n",
       "    </tr>\n",
       "    <tr>\n",
       "      <th>std</th>\n",
       "      <td>0.757486</td>\n",
       "      <td>0.498682</td>\n",
       "      <td>12.887003</td>\n",
       "      <td>13.006024</td>\n",
       "      <td>0.298010</td>\n",
       "      <td>30289.038695</td>\n",
       "    </tr>\n",
       "    <tr>\n",
       "      <th>min</th>\n",
       "      <td>0.000000</td>\n",
       "      <td>0.000000</td>\n",
       "      <td>1.000000</td>\n",
       "      <td>0.000000</td>\n",
       "      <td>0.000000</td>\n",
       "      <td>57800.000000</td>\n",
       "    </tr>\n",
       "    <tr>\n",
       "      <th>25%</th>\n",
       "      <td>1.000000</td>\n",
       "      <td>0.000000</td>\n",
       "      <td>12.000000</td>\n",
       "      <td>7.000000</td>\n",
       "      <td>1.000000</td>\n",
       "      <td>91000.000000</td>\n",
       "    </tr>\n",
       "    <tr>\n",
       "      <th>50%</th>\n",
       "      <td>2.000000</td>\n",
       "      <td>1.000000</td>\n",
       "      <td>21.000000</td>\n",
       "      <td>16.000000</td>\n",
       "      <td>1.000000</td>\n",
       "      <td>107300.000000</td>\n",
       "    </tr>\n",
       "    <tr>\n",
       "      <th>75%</th>\n",
       "      <td>2.000000</td>\n",
       "      <td>1.000000</td>\n",
       "      <td>32.000000</td>\n",
       "      <td>27.000000</td>\n",
       "      <td>1.000000</td>\n",
       "      <td>134185.000000</td>\n",
       "    </tr>\n",
       "    <tr>\n",
       "      <th>max</th>\n",
       "      <td>2.000000</td>\n",
       "      <td>1.000000</td>\n",
       "      <td>56.000000</td>\n",
       "      <td>60.000000</td>\n",
       "      <td>1.000000</td>\n",
       "      <td>231545.000000</td>\n",
       "    </tr>\n",
       "  </tbody>\n",
       "</table>\n",
       "</div>"
      ],
      "text/plain": [
       "             rank  discipline  yrs.since.phd  yrs.service         sex  \\\n",
       "count  397.000000  397.000000     397.000000   397.000000  397.000000   \n",
       "mean     1.508816    0.544081      22.314861    17.614610    0.901763   \n",
       "std      0.757486    0.498682      12.887003    13.006024    0.298010   \n",
       "min      0.000000    0.000000       1.000000     0.000000    0.000000   \n",
       "25%      1.000000    0.000000      12.000000     7.000000    1.000000   \n",
       "50%      2.000000    1.000000      21.000000    16.000000    1.000000   \n",
       "75%      2.000000    1.000000      32.000000    27.000000    1.000000   \n",
       "max      2.000000    1.000000      56.000000    60.000000    1.000000   \n",
       "\n",
       "              salary  \n",
       "count     397.000000  \n",
       "mean   113706.458438  \n",
       "std     30289.038695  \n",
       "min     57800.000000  \n",
       "25%     91000.000000  \n",
       "50%    107300.000000  \n",
       "75%    134185.000000  \n",
       "max    231545.000000  "
      ]
     },
     "execution_count": 296,
     "metadata": {},
     "output_type": "execute_result"
    }
   ],
   "source": [
    "df.describe()"
   ]
  },
  {
   "cell_type": "raw",
   "id": "687e5e32",
   "metadata": {},
   "source": [
    "Some outliers might be present in yrs.since.phd , yrs.service, salary.\n",
    "High skewness might be present in rank."
   ]
  },
  {
   "cell_type": "code",
   "execution_count": 297,
   "id": "715b5086",
   "metadata": {},
   "outputs": [
    {
     "data": {
      "text/plain": [
       "rank            -1.151164\n",
       "discipline      -0.177684\n",
       "yrs.since.phd    0.300880\n",
       "yrs.service      0.650569\n",
       "sex             -2.709958\n",
       "salary           0.714568\n",
       "dtype: float64"
      ]
     },
     "execution_count": 297,
     "metadata": {},
     "output_type": "execute_result"
    }
   ],
   "source": [
    "df.skew()"
   ]
  },
  {
   "cell_type": "raw",
   "id": "6bd2d97c",
   "metadata": {},
   "source": [
    "Skewness threshold is taken as +/- 0.65\n",
    "\n",
    "columns having skewness are:-\n",
    "1.rank\n",
    "2.yrs.service\n",
    "3.sex\n",
    "4.salary"
   ]
  },
  {
   "cell_type": "code",
   "execution_count": 298,
   "id": "620ad2ca",
   "metadata": {},
   "outputs": [
    {
     "data": {
      "text/plain": [
       "rank                AxesSubplot(0.125,0.657941;0.168478x0.222059)\n",
       "discipline       AxesSubplot(0.327174,0.657941;0.168478x0.222059)\n",
       "yrs.since.phd    AxesSubplot(0.529348,0.657941;0.168478x0.222059)\n",
       "yrs.service      AxesSubplot(0.731522,0.657941;0.168478x0.222059)\n",
       "sex                 AxesSubplot(0.125,0.391471;0.168478x0.222059)\n",
       "salary           AxesSubplot(0.327174,0.391471;0.168478x0.222059)\n",
       "dtype: object"
      ]
     },
     "execution_count": 298,
     "metadata": {},
     "output_type": "execute_result"
    },
    {
     "data": {
      "image/png": "[encoded data removed]",
      "text/plain": [
       "<Figure size 720x720 with 12 Axes>"
      ]
     },
     "metadata": {
      "needs_background": "light"
     },
     "output_type": "display_data"
    }
   ],
   "source": [
    "df.plot(kind='box',subplots=True,layout=(3,4),figsize=(10,10),color='green')"
   ]
  },
  {
   "cell_type": "markdown",
   "id": "b78fc803",
   "metadata": {},
   "source": [
    "# Removing outliers"
   ]
  },
  {
   "cell_type": "code",
   "execution_count": 299,
   "id": "3674dde2",
   "metadata": {},
   "outputs": [],
   "source": [
    "from scipy.stats import zscore\n",
    "z=np.abs(zscore(df))"
   ]
  },
  {
   "cell_type": "code",
   "execution_count": 300,
   "id": "9fc4a603",
   "metadata": {},
   "outputs": [
    {
     "name": "stdout",
     "output_type": "stream",
     "text": [
      "(array([  9,  19,  24,  34,  35,  43,  47,  48,  52,  63,  68,  84,  90,\n",
      "       103, 114, 119, 123, 127, 131, 132, 133, 148, 153, 179, 186, 218,\n",
      "       230, 231, 233, 237, 245, 253, 254, 274, 316, 323, 330, 332, 334,\n",
      "       341, 358, 361, 364], dtype=int64), array([4, 4, 4, 4, 4, 5, 4, 4, 4, 4, 4, 4, 4, 4, 4, 4, 4, 4, 3, 4, 4, 4,\n",
      "       4, 4, 4, 4, 4, 4, 4, 4, 4, 4, 4, 4, 4, 4, 3, 4, 4, 4, 4, 4, 5],\n",
      "      dtype=int64))\n"
     ]
    }
   ],
   "source": [
    "print(np.where(z>3))"
   ]
  },
  {
   "cell_type": "code",
   "execution_count": 301,
   "id": "eac23df9",
   "metadata": {},
   "outputs": [
    {
     "data": {
      "text/html": [
       "<div>\n",
       "<style scoped>\n",
       "    .dataframe tbody tr th:only-of-type {\n",
       "        vertical-align: middle;\n",
       "    }\n",
       "\n",
       "    .dataframe tbody tr th {\n",
       "        vertical-align: top;\n",
       "    }\n",
       "\n",
       "    .dataframe thead th {\n",
       "        text-align: right;\n",
       "    }\n",
       "</style>\n",
       "<table border=\"1\" class=\"dataframe\">\n",
       "  <thead>\n",
       "    <tr style=\"text-align: right;\">\n",
       "      <th></th>\n",
       "      <th>rank</th>\n",
       "      <th>discipline</th>\n",
       "      <th>yrs.since.phd</th>\n",
       "      <th>yrs.service</th>\n",
       "      <th>sex</th>\n",
       "      <th>salary</th>\n",
       "    </tr>\n",
       "  </thead>\n",
       "  <tbody>\n",
       "    <tr>\n",
       "      <th>0</th>\n",
       "      <td>2</td>\n",
       "      <td>1</td>\n",
       "      <td>19</td>\n",
       "      <td>18</td>\n",
       "      <td>1</td>\n",
       "      <td>139750</td>\n",
       "    </tr>\n",
       "    <tr>\n",
       "      <th>1</th>\n",
       "      <td>2</td>\n",
       "      <td>1</td>\n",
       "      <td>20</td>\n",
       "      <td>16</td>\n",
       "      <td>1</td>\n",
       "      <td>173200</td>\n",
       "    </tr>\n",
       "    <tr>\n",
       "      <th>2</th>\n",
       "      <td>1</td>\n",
       "      <td>1</td>\n",
       "      <td>4</td>\n",
       "      <td>3</td>\n",
       "      <td>1</td>\n",
       "      <td>79750</td>\n",
       "    </tr>\n",
       "    <tr>\n",
       "      <th>3</th>\n",
       "      <td>2</td>\n",
       "      <td>1</td>\n",
       "      <td>45</td>\n",
       "      <td>39</td>\n",
       "      <td>1</td>\n",
       "      <td>115000</td>\n",
       "    </tr>\n",
       "    <tr>\n",
       "      <th>4</th>\n",
       "      <td>2</td>\n",
       "      <td>1</td>\n",
       "      <td>40</td>\n",
       "      <td>41</td>\n",
       "      <td>1</td>\n",
       "      <td>141500</td>\n",
       "    </tr>\n",
       "    <tr>\n",
       "      <th>...</th>\n",
       "      <td>...</td>\n",
       "      <td>...</td>\n",
       "      <td>...</td>\n",
       "      <td>...</td>\n",
       "      <td>...</td>\n",
       "      <td>...</td>\n",
       "    </tr>\n",
       "    <tr>\n",
       "      <th>392</th>\n",
       "      <td>2</td>\n",
       "      <td>0</td>\n",
       "      <td>33</td>\n",
       "      <td>30</td>\n",
       "      <td>1</td>\n",
       "      <td>103106</td>\n",
       "    </tr>\n",
       "    <tr>\n",
       "      <th>393</th>\n",
       "      <td>2</td>\n",
       "      <td>0</td>\n",
       "      <td>31</td>\n",
       "      <td>19</td>\n",
       "      <td>1</td>\n",
       "      <td>150564</td>\n",
       "    </tr>\n",
       "    <tr>\n",
       "      <th>394</th>\n",
       "      <td>2</td>\n",
       "      <td>0</td>\n",
       "      <td>42</td>\n",
       "      <td>25</td>\n",
       "      <td>1</td>\n",
       "      <td>101738</td>\n",
       "    </tr>\n",
       "    <tr>\n",
       "      <th>395</th>\n",
       "      <td>2</td>\n",
       "      <td>0</td>\n",
       "      <td>25</td>\n",
       "      <td>15</td>\n",
       "      <td>1</td>\n",
       "      <td>95329</td>\n",
       "    </tr>\n",
       "    <tr>\n",
       "      <th>396</th>\n",
       "      <td>1</td>\n",
       "      <td>0</td>\n",
       "      <td>8</td>\n",
       "      <td>4</td>\n",
       "      <td>1</td>\n",
       "      <td>81035</td>\n",
       "    </tr>\n",
       "  </tbody>\n",
       "</table>\n",
       "<p>354 rows × 6 columns</p>\n",
       "</div>"
      ],
      "text/plain": [
       "     rank  discipline  yrs.since.phd  yrs.service  sex  salary\n",
       "0       2           1             19           18    1  139750\n",
       "1       2           1             20           16    1  173200\n",
       "2       1           1              4            3    1   79750\n",
       "3       2           1             45           39    1  115000\n",
       "4       2           1             40           41    1  141500\n",
       "..    ...         ...            ...          ...  ...     ...\n",
       "392     2           0             33           30    1  103106\n",
       "393     2           0             31           19    1  150564\n",
       "394     2           0             42           25    1  101738\n",
       "395     2           0             25           15    1   95329\n",
       "396     1           0              8            4    1   81035\n",
       "\n",
       "[354 rows x 6 columns]"
      ]
     },
     "execution_count": 301,
     "metadata": {},
     "output_type": "execute_result"
    }
   ],
   "source": [
    "df_new=df[(z<3).all(axis=1)]\n",
    "df_new"
   ]
  },
  {
   "cell_type": "code",
   "execution_count": 302,
   "id": "8be4495d",
   "metadata": {},
   "outputs": [
    {
     "data": {
      "text/plain": [
       "(397, 6)"
      ]
     },
     "execution_count": 302,
     "metadata": {},
     "output_type": "execute_result"
    }
   ],
   "source": [
    "df.shape"
   ]
  },
  {
   "cell_type": "code",
   "execution_count": 303,
   "id": "e03eab75",
   "metadata": {},
   "outputs": [
    {
     "data": {
      "text/plain": [
       "(354, 6)"
      ]
     },
     "execution_count": 303,
     "metadata": {},
     "output_type": "execute_result"
    }
   ],
   "source": [
    "df_new.shape"
   ]
  },
  {
   "cell_type": "code",
   "execution_count": 304,
   "id": "4944ce70",
   "metadata": {},
   "outputs": [
    {
     "name": "stdout",
     "output_type": "stream",
     "text": [
      "Loss_percent= 10.831234256926953\n"
     ]
    }
   ],
   "source": [
    "print('Loss_percent=',(397-354)/397*100)"
   ]
  },
  {
   "cell_type": "code",
   "execution_count": 305,
   "id": "a6f59b7f",
   "metadata": {},
   "outputs": [],
   "source": [
    "x=df_new.iloc[:,0:-1]\n",
    "y=df_new.iloc[:,-1]"
   ]
  },
  {
   "cell_type": "markdown",
   "id": "1f783a02",
   "metadata": {},
   "source": [
    "# Transforming data to remove skewness"
   ]
  },
  {
   "cell_type": "code",
   "execution_count": 306,
   "id": "2350b051",
   "metadata": {},
   "outputs": [
    {
     "data": {
      "text/plain": [
       "array([[ 0.66261867,  0.9133438 , -0.16993349,  0.21391071,  0.        ],\n",
       "       [ 0.66261867,  0.9133438 , -0.09133723,  0.06567291,  0.        ],\n",
       "       [-1.18533666,  0.9133438 , -1.64343352, -1.32485378,  0.        ],\n",
       "       ...,\n",
       "       [ 0.66261867, -1.09487797,  1.38580057,  0.67335521,  0.        ],\n",
       "       [ 0.66261867, -1.09487797,  0.28223854, -0.0121133 ,  0.        ],\n",
       "       [-1.18533666, -1.09487797, -1.16828402, -1.16384273,  0.        ]])"
      ]
     },
     "execution_count": 306,
     "metadata": {},
     "output_type": "execute_result"
    }
   ],
   "source": [
    "from sklearn.preprocessing import power_transform\n",
    "x=power_transform(x,method='yeo-johnson')\n",
    "x"
   ]
  },
  {
   "cell_type": "code",
   "execution_count": 307,
   "id": "e3a53e49",
   "metadata": {},
   "outputs": [
    {
     "data": {
      "text/plain": [
       "array([[ 0.66261867,  0.9133438 , -0.16993349,  0.21391071,  0.        ],\n",
       "       [ 0.66261867,  0.9133438 , -0.09133723,  0.06567291,  0.        ],\n",
       "       [-1.18533666,  0.9133438 , -1.64343352, -1.32485378,  0.        ],\n",
       "       ...,\n",
       "       [ 0.66261867, -1.09487797,  1.38580057,  0.67335521,  0.        ],\n",
       "       [ 0.66261867, -1.09487797,  0.28223854, -0.0121133 ,  0.        ],\n",
       "       [-1.18533666, -1.09487797, -1.16828402, -1.16384273,  0.        ]])"
      ]
     },
     "execution_count": 307,
     "metadata": {},
     "output_type": "execute_result"
    }
   ],
   "source": [
    "from sklearn.preprocessing import StandardScaler\n",
    "sc=StandardScaler()\n",
    "x=sc.fit_transform(x)\n",
    "x"
   ]
  },
  {
   "cell_type": "markdown",
   "id": "0c6d62ff",
   "metadata": {},
   "source": [
    "# Now we will be checking various models and hyperparametrs and decide the best model"
   ]
  },
  {
   "cell_type": "code",
   "execution_count": 308,
   "id": "9da5941f",
   "metadata": {},
   "outputs": [],
   "source": [
    "from sklearn.preprocessing import PolynomialFeatures\n",
    "from sklearn.model_selection import cross_val_score\n",
    "from sklearn.model_selection import train_test_split\n",
    "from sklearn.metrics import mean_squared_error,r2_score\n"
   ]
  },
  {
   "cell_type": "code",
   "execution_count": 309,
   "id": "02052b95",
   "metadata": {},
   "outputs": [
    {
     "name": "stdout",
     "output_type": "stream",
     "text": [
      "0.2571523384059329\n"
     ]
    }
   ],
   "source": [
    "poly = PolynomialFeatures(1)\n",
    "X_=poly.fit_transform(x)\n",
    "lr =LinearRegression()\n",
    "lsscore=cross_val_score(lr,X_,y,cv=20)\n",
    "print(lsscore.mean())"
   ]
  },
  {
   "cell_type": "code",
   "execution_count": 310,
   "id": "497368a8",
   "metadata": {},
   "outputs": [
    {
     "name": "stdout",
     "output_type": "stream",
     "text": [
      "0.349019042659954\n"
     ]
    }
   ],
   "source": [
    "poly = PolynomialFeatures(2)\n",
    "X_=poly.fit_transform(x)\n",
    "lr =LinearRegression()\n",
    "lsscore=cross_val_score(lr,X_,y,cv=20)\n",
    "print(lsscore.mean())"
   ]
  },
  {
   "cell_type": "code",
   "execution_count": 311,
   "id": "da0e96d6",
   "metadata": {},
   "outputs": [
    {
     "name": "stdout",
     "output_type": "stream",
     "text": [
      "-1.7848567870369005\n"
     ]
    }
   ],
   "source": [
    "poly = PolynomialFeatures(5)\n",
    "X_=poly.fit_transform(x)\n",
    "lr =LinearRegression()\n",
    "lsscore=cross_val_score(lr,X_,y,cv=20)\n",
    "print(lsscore.mean())"
   ]
  },
  {
   "cell_type": "code",
   "execution_count": 312,
   "id": "6f4254d1",
   "metadata": {},
   "outputs": [
    {
     "name": "stdout",
     "output_type": "stream",
     "text": [
      "-0.3796237848012062\n"
     ]
    }
   ],
   "source": [
    "poly = PolynomialFeatures(4)\n",
    "X_=poly.fit_transform(x)\n",
    "lr =LinearRegression()\n",
    "lsscore=cross_val_score(lr,X_,y,cv=20)\n",
    "print(lsscore.mean())"
   ]
  },
  {
   "cell_type": "code",
   "execution_count": 313,
   "id": "d2ae0d96",
   "metadata": {},
   "outputs": [
    {
     "name": "stdout",
     "output_type": "stream",
     "text": [
      "0.25579901472896216\n"
     ]
    }
   ],
   "source": [
    "poly = PolynomialFeatures(3)\n",
    "X_=poly.fit_transform(x)\n",
    "lr =LinearRegression()\n",
    "lsscore=cross_val_score(lr,X_,y,cv=20)\n",
    "print(lsscore.mean())"
   ]
  },
  {
   "cell_type": "raw",
   "id": "37909536",
   "metadata": {},
   "source": [
    "we are getting the highest cross validation score for polynomial with degree 2 "
   ]
  },
  {
   "cell_type": "markdown",
   "id": "4ec4b4dc",
   "metadata": {},
   "source": [
    "# Now building poynomial models with degree 2 and varying random_state"
   ]
  },
  {
   "cell_type": "code",
   "execution_count": 314,
   "id": "c2e40a6a",
   "metadata": {},
   "outputs": [
    {
     "name": "stdout",
     "output_type": "stream",
     "text": [
      "[0, 1, 2, 3, 4, 5, 6, 7, 8, 9, 10, 11, 12, 13, 14, 15, 16, 17, 18, 19, 20, 21, 22, 23, 24, 25, 26, 27, 28, 29, 30, 31, 32, 33, 34, 35, 36, 37, 38, 39, 40, 41, 42, 43, 44, 45, 46, 47, 48, 49, 50, 51, 52, 53, 54, 55, 56, 57, 58, 59, 60, 61, 62, 63, 64, 65, 66, 67, 68, 69, 70, 71, 72, 73, 74, 75, 76, 77, 78, 79, 80, 81, 82, 83, 84, 85, 86, 87, 88, 89, 90, 91, 92, 93, 94, 95, 96, 97, 98, 99]\n",
      "[20189.67843084295, 22798.103036665627, 22115.411347409772, 20236.166539423113, 20008.87960592764, 21096.938028945886, 18479.710096957842, 22003.1337873674, 22732.281593522086, 23288.78319274306, 20524.437907590436, 22158.037396526008, 20902.43679675299, 19936.7819528078, 19629.255726241816, 22025.230502223043, 22015.055220922834, 21420.183973316012, 19872.73040845983, 22422.26411027633, 20516.061786791262, 16410.988896141993, 21793.424281869462, 20138.77407864851, 18901.2059433433, 23130.2358320854, 21230.646871717057, 22091.157321489904, 19583.02797650131, 22201.628510564868, 19778.222197196847, 22902.376784139153, 20445.11568104391, 21163.006198034065, 19976.27277758559, 20511.783537908887, 21240.59340816508, 19597.935749662192, 21488.49266586785, 20488.757205279715, 19937.04166465096, 23991.62757631427, 19580.417986014552, 21435.475413041313, 19009.858902129527, 19572.38631733314, 18791.807701874382, 18950.97390897343, 21718.029653511618, 21531.403554860364, 21109.244814055248, 24166.351541283624, 22670.46070035184, 23198.885454347663, 25982.427669864075, 20910.639861202948, 20663.86543114182, 20475.283318475253, 21664.516043066407, 21966.426746928348, 23305.58478954095, 19362.137694443543, 23427.27915228043, 21714.003654583546, 22197.540214253026, 22498.622829527856, 19864.32510240929, 20215.61021886618, 23391.407335016764, 23551.29938970803, 24427.694128521827, 19619.193047036908, 22224.48259541272, 19366.055135391984, 18162.744985372232, 22379.635163847095, 22646.471151277274, 19636.02093057337, 20345.020930227827, 18964.196914798144, 20388.923843934343, 21584.3631774173, 21948.921708571794, 24217.17684426362, 22240.90147005274, 21828.080999315447, 20689.82233440269, 24964.25733543578, 16961.455127501693, 19554.181646367993, 20542.26651030216, 17577.151316250485, 18791.777434128013, 22981.17780602449, 23058.487003734837, 25734.365138555622, 21076.183334028425, 20972.212116089555, 21198.76975762499, 20636.393544784205]\n",
      "[0.5176768623586447, 0.49203034820481706, 0.4484169910960143, 0.5206922114577522, 0.6256762952445627, 0.4559757089963039, 0.5445186183962483, 0.4433343505230316, 0.48903593160798686, 0.3672005750887043, 0.5417969671896806, 0.4474735102906049, 0.4892905118726918, 0.4529587454451115, 0.5167608865139837, 0.40458581671651894, 0.48923319877402693, 0.49659495139280063, 0.45532942344890104, 0.5049081783335809, 0.4779024856743652, 0.611921027224159, 0.40148167332151496, 0.47875960243293136, 0.4929733317729036, 0.4940666592865536, 0.5029392877884418, 0.3309262603027183, 0.5058848224446693, 0.4880542232808647, 0.5620070810734346, 0.44257338292185766, 0.5046602225610846, 0.4262380797487162, 0.5058033657594698, 0.5030398045387046, 0.4141466118686977, 0.558599427380197, 0.5346534268078085, 0.35290991418288786, 0.332679148314061, 0.3938133815225813, 0.4610584611088647, 0.4493723216479609, 0.4423471971338927, 0.5217858447501831, 0.49245621120089833, 0.4466977401838629, 0.45854627249863056, 0.36390655720057097, 0.4297578990849591, 0.3391020397063693, 0.489934703956898, 0.2830843859474734, 0.3818642475315407, 0.4394264871772904, 0.5040464676735967, 0.5013038569994899, 0.4039404444246941, 0.5177597800555975, 0.3499779513971092, 0.5645402609361254, 0.4866696836020553, 0.4295068302187308, 0.5073454450808826, 0.2944988388270118, 0.5426409107646379, 0.3714957314155768, 0.36157098204794735, 0.3467202112708032, 0.2882186920241433, 0.5477284911629823, 0.44494675791343175, 0.5194603065177326, 0.6138688585866494, 0.3887385775181499, 0.45303248322739476, 0.510173394912393, 0.4637707162396738, 0.6088567912951885, 0.478925637591349, 0.46226273985904687, 0.31665835085772354, 0.3534663970607107, 0.5288624685888839, 0.5042992844829938, 0.44062513463889874, 0.3693470399145786, 0.5695324979907598, 0.5040324721426954, 0.4729862468220656, 0.49611217746751646, 0.4802123460968676, 0.46449249093181144, 0.47108372964779854, 0.35631091411508853, 0.4477116784648888, 0.4144322611689457, 0.4791138752448023, 0.42709301191261106]\n"
     ]
    }
   ],
   "source": [
    "rand_state=[]\n",
    "RMS_error=[]\n",
    "r2score=[]\n",
    "for i in range(0,100):\n",
    "    poly = PolynomialFeatures(2)\n",
    "    X_=poly.fit_transform(x)\n",
    "    lr =LinearRegression()\n",
    "    x_train,x_test,y_train,y_test=train_test_split(X_,y,random_state=i,test_size=0.20)\n",
    "    lr.fit(x_train,y_train)\n",
    "    y_pred=lr.predict(x_test)\n",
    "    rand_state.append(i)\n",
    "    RMS_error.append((mean_squared_error(y_test,y_pred))**0.5)\n",
    "    r2score.append(r2_score(y_test,y_pred))\n",
    "print(rand_state)\n",
    "print(RMS_error)\n",
    "print(r2score)"
   ]
  },
  {
   "cell_type": "code",
   "execution_count": 315,
   "id": "54b2d309",
   "metadata": {},
   "outputs": [
    {
     "data": {
      "text/html": [
       "<div>\n",
       "<style scoped>\n",
       "    .dataframe tbody tr th:only-of-type {\n",
       "        vertical-align: middle;\n",
       "    }\n",
       "\n",
       "    .dataframe tbody tr th {\n",
       "        vertical-align: top;\n",
       "    }\n",
       "\n",
       "    .dataframe thead th {\n",
       "        text-align: right;\n",
       "    }\n",
       "</style>\n",
       "<table border=\"1\" class=\"dataframe\">\n",
       "  <thead>\n",
       "    <tr style=\"text-align: right;\">\n",
       "      <th></th>\n",
       "      <th>rand_state</th>\n",
       "      <th>RMS_error</th>\n",
       "      <th>r2score</th>\n",
       "    </tr>\n",
       "  </thead>\n",
       "  <tbody>\n",
       "    <tr>\n",
       "      <th>0</th>\n",
       "      <td>0</td>\n",
       "      <td>20189.678431</td>\n",
       "      <td>0.517677</td>\n",
       "    </tr>\n",
       "    <tr>\n",
       "      <th>1</th>\n",
       "      <td>1</td>\n",
       "      <td>22798.103037</td>\n",
       "      <td>0.492030</td>\n",
       "    </tr>\n",
       "    <tr>\n",
       "      <th>2</th>\n",
       "      <td>2</td>\n",
       "      <td>22115.411347</td>\n",
       "      <td>0.448417</td>\n",
       "    </tr>\n",
       "    <tr>\n",
       "      <th>3</th>\n",
       "      <td>3</td>\n",
       "      <td>20236.166539</td>\n",
       "      <td>0.520692</td>\n",
       "    </tr>\n",
       "    <tr>\n",
       "      <th>4</th>\n",
       "      <td>4</td>\n",
       "      <td>20008.879606</td>\n",
       "      <td>0.625676</td>\n",
       "    </tr>\n",
       "    <tr>\n",
       "      <th>...</th>\n",
       "      <td>...</td>\n",
       "      <td>...</td>\n",
       "      <td>...</td>\n",
       "    </tr>\n",
       "    <tr>\n",
       "      <th>95</th>\n",
       "      <td>95</td>\n",
       "      <td>25734.365139</td>\n",
       "      <td>0.356311</td>\n",
       "    </tr>\n",
       "    <tr>\n",
       "      <th>96</th>\n",
       "      <td>96</td>\n",
       "      <td>21076.183334</td>\n",
       "      <td>0.447712</td>\n",
       "    </tr>\n",
       "    <tr>\n",
       "      <th>97</th>\n",
       "      <td>97</td>\n",
       "      <td>20972.212116</td>\n",
       "      <td>0.414432</td>\n",
       "    </tr>\n",
       "    <tr>\n",
       "      <th>98</th>\n",
       "      <td>98</td>\n",
       "      <td>21198.769758</td>\n",
       "      <td>0.479114</td>\n",
       "    </tr>\n",
       "    <tr>\n",
       "      <th>99</th>\n",
       "      <td>99</td>\n",
       "      <td>20636.393545</td>\n",
       "      <td>0.427093</td>\n",
       "    </tr>\n",
       "  </tbody>\n",
       "</table>\n",
       "<p>100 rows × 3 columns</p>\n",
       "</div>"
      ],
      "text/plain": [
       "    rand_state     RMS_error   r2score\n",
       "0            0  20189.678431  0.517677\n",
       "1            1  22798.103037  0.492030\n",
       "2            2  22115.411347  0.448417\n",
       "3            3  20236.166539  0.520692\n",
       "4            4  20008.879606  0.625676\n",
       "..         ...           ...       ...\n",
       "95          95  25734.365139  0.356311\n",
       "96          96  21076.183334  0.447712\n",
       "97          97  20972.212116  0.414432\n",
       "98          98  21198.769758  0.479114\n",
       "99          99  20636.393545  0.427093\n",
       "\n",
       "[100 rows x 3 columns]"
      ]
     },
     "execution_count": 315,
     "metadata": {},
     "output_type": "execute_result"
    }
   ],
   "source": [
    "acc = pd.DataFrame(list(zip(rand_state, RMS_error,r2score)),\n",
    "               columns =['rand_state', 'RMS_error','r2score'])\n",
    "acc"
   ]
  },
  {
   "cell_type": "code",
   "execution_count": 316,
   "id": "3f6105ac",
   "metadata": {},
   "outputs": [
    {
     "data": {
      "text/html": [
       "<div>\n",
       "<style scoped>\n",
       "    .dataframe tbody tr th:only-of-type {\n",
       "        vertical-align: middle;\n",
       "    }\n",
       "\n",
       "    .dataframe tbody tr th {\n",
       "        vertical-align: top;\n",
       "    }\n",
       "\n",
       "    .dataframe thead th {\n",
       "        text-align: right;\n",
       "    }\n",
       "</style>\n",
       "<table border=\"1\" class=\"dataframe\">\n",
       "  <thead>\n",
       "    <tr style=\"text-align: right;\">\n",
       "      <th></th>\n",
       "      <th>rand_state</th>\n",
       "      <th>RMS_error</th>\n",
       "      <th>r2score</th>\n",
       "    </tr>\n",
       "  </thead>\n",
       "  <tbody>\n",
       "    <tr>\n",
       "      <th>4</th>\n",
       "      <td>4</td>\n",
       "      <td>20008.879606</td>\n",
       "      <td>0.625676</td>\n",
       "    </tr>\n",
       "  </tbody>\n",
       "</table>\n",
       "</div>"
      ],
      "text/plain": [
       "   rand_state     RMS_error   r2score\n",
       "4           4  20008.879606  0.625676"
      ]
     },
     "execution_count": 316,
     "metadata": {},
     "output_type": "execute_result"
    }
   ],
   "source": [
    "acc[acc['r2score']==acc['r2score'].max()]"
   ]
  },
  {
   "cell_type": "raw",
   "id": "c329bd6a",
   "metadata": {},
   "source": [
    "Since r2_score is low and RMS_error is high, it is better to go for ensemble techniques"
   ]
  },
  {
   "cell_type": "code",
   "execution_count": 317,
   "id": "a43177ac",
   "metadata": {},
   "outputs": [],
   "source": [
    "#from sklearn.ensemble import VotingRegressor\n",
    "#from sklearn.linear_model import LinearRegression\n",
    "#from sklearn.tree import DecisionTreeRegressor\n",
    "#from sklearn.svm import SVR\n",
    "#from sklearn.neighbors import KNeighborsRegressor"
   ]
  },
  {
   "cell_type": "code",
   "execution_count": 318,
   "id": "cadbd67f",
   "metadata": {},
   "outputs": [],
   "source": [
    "\n",
    "    \n",
    "#rand_state=[]\n",
    "#RMS_error=[]\n",
    "#r2score=[]\n",
    "#estimator=[]\n",
    "#estimator.append(('LR',LinearRegression()))\n",
    "#estimator.append(('DTR',DecisionTreeRegressor()))\n",
    "#estimator.append(('SVR',SVR()))\n",
    "#estimator.append(('KNNR',KNeighborsRegressor()))\n",
    "#for i in range(0,100):\n",
    "\n",
    "\n",
    "\n",
    "\n",
    "    \n",
    "\n",
    "    #vot_soft=VotingRegressor(estimators=estimator)\n",
    "    #x_train,x_test,y_train,y_test=train_test_split(X_,y,random_state=4,test_size=0.20)\n",
    "    #vot_soft.fit(x_train,y_train)\n",
    "    #y_pred=vot_soft.predict(x_test)\n",
    "#print(y_pred)\n",
    "    #RMS_error.append((mean_squared_error(y_test,y_pred))**0.5)\n",
    "    #r2score.append(r2_score(y_test,y_pred))\n",
    "\n",
    "#print(np.array(RMS_error).min())\n",
    "#print(np.array(r2score).max())"
   ]
  },
  {
   "cell_type": "raw",
   "id": "6caf6ab4",
   "metadata": {},
   "source": [
    "After trying different combinations of multiple regressors, i am coming to the conclusion that using LinearRegression is the best solution "
   ]
  },
  {
   "cell_type": "markdown",
   "id": "ba3602cb",
   "metadata": {},
   "source": [
    "# Now biuldng the final algorithm"
   ]
  },
  {
   "cell_type": "code",
   "execution_count": 319,
   "id": "d84d92f5",
   "metadata": {},
   "outputs": [
    {
     "name": "stdout",
     "output_type": "stream",
     "text": [
      "Mean_squared_error: 20008.87960592764\n",
      "r2score: 0.6256762952445627\n"
     ]
    }
   ],
   "source": [
    "poly = PolynomialFeatures(2)\n",
    "X_=poly.fit_transform(x)\n",
    "lr =LinearRegression()\n",
    "x_train,x_test,y_train,y_test=train_test_split(X_,y,random_state=4,test_size=0.20)\n",
    "lr.fit(x_train,y_train)\n",
    "y_pred=lr.predict(x_test)\n",
    "print('Mean_squared_error:',(mean_squared_error(y_test,y_pred))**0.5)\n",
    "print('r2score:',r2_score(y_test,y_pred))"
   ]
  },
  {
   "cell_type": "markdown",
   "id": "5e6b6c6f",
   "metadata": {},
   "source": [
    "# Model saving"
   ]
  },
  {
   "cell_type": "code",
   "execution_count": 321,
   "id": "a9cd2135",
   "metadata": {},
   "outputs": [],
   "source": [
    "import pickle\n",
    "filename='prof_salary.pkl'\n",
    "pickle.dump(lr,open(filename,'wb'))"
   ]
  },
  {
   "cell_type": "code",
   "execution_count": null,
   "id": "8b24a500",
   "metadata": {},
   "outputs": [],
   "source": []
  }
 ],
 "metadata": {
  "kernelspec": {
   "display_name": "Python 3",
   "language": "python",
   "name": "python3"
  },
  "language_info": {
   "codemirror_mode": {
    "name": "ipython",
    "version": 3
   },
   "file_extension": ".py",
   "mimetype": "text/x-python",
   "name": "python",
   "nbconvert_exporter": "python",
   "pygments_lexer": "ipython3",
   "version": "3.8.8"
  }
 },
 "nbformat": 4,
 "nbformat_minor": 5
}
