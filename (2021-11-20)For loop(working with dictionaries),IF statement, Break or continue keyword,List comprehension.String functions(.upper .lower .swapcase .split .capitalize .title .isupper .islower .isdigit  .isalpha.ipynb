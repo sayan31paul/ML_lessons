{
 "cells": [
  {
   "cell_type": "markdown",
   "id": "beca4a1e",
   "metadata": {},
   "source": [
    "# Iterating through the dictionary"
   ]
  },
  {
   "cell_type": "code",
   "execution_count": 6,
   "id": "267d2bd6",
   "metadata": {},
   "outputs": [
    {
     "name": "stdout",
     "output_type": "stream",
     "text": [
      "1\n",
      "2\n",
      "3\n",
      "4\n"
     ]
    }
   ],
   "source": [
    "d={1:'sky',2:'earth',3:'water',4:'Forest'}\n",
    "#printing the keys\n",
    "for k in d:\n",
    "    print(k)"
   ]
  },
  {
   "cell_type": "code",
   "execution_count": 8,
   "id": "7c20156c",
   "metadata": {},
   "outputs": [
    {
     "name": "stdout",
     "output_type": "stream",
     "text": [
      "sky\n",
      "earth\n",
      "water\n",
      "Forest\n"
     ]
    }
   ],
   "source": [
    "#printing the values\n",
    "for k in d:\n",
    "    print(d[k]) #k=[1,2,3,4] as obtained earlier. #d[1]=sky, d[2]=earth and so on"
   ]
  },
  {
   "cell_type": "code",
   "execution_count": 9,
   "id": "ef1d617c",
   "metadata": {},
   "outputs": [
    {
     "name": "stdout",
     "output_type": "stream",
     "text": [
      "1 --> sky\n",
      "2 --> earth\n",
      "3 --> water\n",
      "4 --> Forest\n"
     ]
    }
   ],
   "source": [
    "#print both keys and values\n",
    "for k in d:\n",
    "    print(k,'-->',d[k])"
   ]
  },
  {
   "cell_type": "code",
   "execution_count": 10,
   "id": "2a0f9d10",
   "metadata": {},
   "outputs": [
    {
     "data": {
      "text/plain": [
       "{1: 'Books', 2: 'Copy', 3: 'Pen', 4: 'Pencil'}"
      ]
     },
     "execution_count": 10,
     "metadata": {},
     "output_type": "execute_result"
    }
   ],
   "source": [
    "e={1:'Books',2:'Copy',3:'Pen',4:'Pencil'}\n",
    "e"
   ]
  },
  {
   "cell_type": "code",
   "execution_count": 12,
   "id": "3759c790",
   "metadata": {},
   "outputs": [
    {
     "name": "stdout",
     "output_type": "stream",
     "text": [
      "1 --> Books\n",
      "2 --> Copy\n",
      "3 --> Pen\n",
      "4 --> Pencil\n"
     ]
    }
   ],
   "source": [
    "for i in e:\n",
    "    print(i,'-->',e[i])"
   ]
  },
  {
   "cell_type": "markdown",
   "id": "667166df",
   "metadata": {},
   "source": [
    "# IF condition"
   ]
  },
  {
   "cell_type": "code",
   "execution_count": 15,
   "id": "1195f32b",
   "metadata": {},
   "outputs": [
    {
     "name": "stdout",
     "output_type": "stream",
     "text": [
      "good\n"
     ]
    }
   ],
   "source": [
    "marks=72\n",
    "if marks>50:\n",
    "    print('good')\n",
    "else:                            #take care of indentation\n",
    "    print('average')"
   ]
  },
  {
   "cell_type": "code",
   "execution_count": 16,
   "id": "558e39a3",
   "metadata": {},
   "outputs": [
    {
     "name": "stdout",
     "output_type": "stream",
     "text": [
      "average\n"
     ]
    }
   ],
   "source": [
    "marks=10\n",
    "if marks>50:\n",
    "    print('good')\n",
    "else:                            #take care of indentation\n",
    "    print('average')"
   ]
  },
  {
   "cell_type": "code",
   "execution_count": 23,
   "id": "31fb1080",
   "metadata": {},
   "outputs": [
    {
     "name": "stdout",
     "output_type": "stream",
     "text": [
      "even\n",
      "end\n"
     ]
    }
   ],
   "source": [
    "fact=2\n",
    "num=12\n",
    "if num%fact==0:\n",
    "    print('even')\n",
    "else:\n",
    "    print('odd')\n",
    "print('end')  #not a part of if or else statement. Hence it will always be executed"
   ]
  },
  {
   "cell_type": "code",
   "execution_count": 22,
   "id": "be6e9cf4",
   "metadata": {},
   "outputs": [
    {
     "name": "stdout",
     "output_type": "stream",
     "text": [
      "enter the number : 19\n",
      "19 is odd\n"
     ]
    }
   ],
   "source": [
    "#giving user input(dynamic value)\n",
    "fact=2\n",
    "num=int(input('enter the number : ')) #type casting of string to integer. Because python takes input in string format by default.\n",
    "if num%fact==0:\n",
    "    print(num,'is even')\n",
    "else:\n",
    "    print(num,'is odd')"
   ]
  },
  {
   "cell_type": "code",
   "execution_count": 24,
   "id": "f2645220",
   "metadata": {},
   "outputs": [
    {
     "name": "stdout",
     "output_type": "stream",
     "text": [
      "apple\n",
      "mango\n",
      "oranges\n",
      "banana\n"
     ]
    }
   ],
   "source": [
    "for i in ['apple','mango','oranges','banana']:\n",
    "    print(i)"
   ]
  },
  {
   "cell_type": "markdown",
   "id": "a550fe7f",
   "metadata": {},
   "source": [
    "# Break statement"
   ]
  },
  {
   "cell_type": "raw",
   "id": "43499f17",
   "metadata": {},
   "source": [
    "Break statement finishes the loop as soon as condition is satisfied. The control passes on to the statement outside the loop"
   ]
  },
  {
   "cell_type": "code",
   "execution_count": 29,
   "id": "d91b6fb4",
   "metadata": {},
   "outputs": [
    {
     "name": "stdout",
     "output_type": "stream",
     "text": [
      "apple\n",
      "mango\n"
     ]
    }
   ],
   "source": [
    "for i in ['apple','mango','oranges','banana']:\n",
    "    if i=='oranges':\n",
    "        break\n",
    "    print(i)"
   ]
  },
  {
   "cell_type": "code",
   "execution_count": 30,
   "id": "3c45bb55",
   "metadata": {},
   "outputs": [
    {
     "name": "stdout",
     "output_type": "stream",
     "text": [
      "oranges\n"
     ]
    }
   ],
   "source": [
    "for i in ['apple','mango','oranges','banana']:\n",
    "    if i=='oranges':\n",
    "        break\n",
    "print(i)"
   ]
  },
  {
   "cell_type": "markdown",
   "id": "aac5ad96",
   "metadata": {},
   "source": [
    "# Continue statement"
   ]
  },
  {
   "cell_type": "raw",
   "id": "61ebaab4",
   "metadata": {},
   "source": [
    "Continue statement skips and moves on to the next iteration."
   ]
  },
  {
   "cell_type": "code",
   "execution_count": 32,
   "id": "06f2f47d",
   "metadata": {},
   "outputs": [
    {
     "name": "stdout",
     "output_type": "stream",
     "text": [
      "apple\n",
      "mango\n",
      "banana\n"
     ]
    }
   ],
   "source": [
    "for i in ['apple','mango','oranges','banana']:\n",
    "    if i=='oranges':\n",
    "        continue\n",
    "    print(i)"
   ]
  },
  {
   "cell_type": "code",
   "execution_count": 33,
   "id": "63ce1d10",
   "metadata": {},
   "outputs": [
    {
     "name": "stdout",
     "output_type": "stream",
     "text": [
      "banana\n"
     ]
    }
   ],
   "source": [
    "for i in ['apple','mango','oranges','banana']:\n",
    "    if i=='oranges':\n",
    "        continue\n",
    "print(i)"
   ]
  },
  {
   "cell_type": "markdown",
   "id": "5700db6f",
   "metadata": {},
   "source": [
    "# List comprehension"
   ]
  },
  {
   "cell_type": "raw",
   "id": "b64f3569",
   "metadata": {},
   "source": [
    "Creating a list from another list is known as list comprehension.\n",
    "Storing the components of a list in another list.\n",
    "Benefit of list comprehension is that we can give a certain condition and fetch out particular datas in form of another list."
   ]
  },
  {
   "cell_type": "code",
   "execution_count": 37,
   "id": "99cb9e4f",
   "metadata": {},
   "outputs": [
    {
     "data": {
      "text/plain": [
       "[1, 2, 3, 4, 5]"
      ]
     },
     "execution_count": 37,
     "metadata": {},
     "output_type": "execute_result"
    }
   ],
   "source": [
    "var=[d for d in [1,2,3,4,5]]\n",
    "var"
   ]
  },
  {
   "cell_type": "code",
   "execution_count": 39,
   "id": "9e08aaf2",
   "metadata": {},
   "outputs": [
    {
     "data": {
      "text/plain": [
       "[1, 2, 3, 4, 5]"
      ]
     },
     "execution_count": 39,
     "metadata": {},
     "output_type": "execute_result"
    }
   ],
   "source": [
    "list1=[1,2,3,4,5]\n",
    "m=[d for d in list1]\n",
    "m"
   ]
  },
  {
   "cell_type": "code",
   "execution_count": 40,
   "id": "44edbdc8",
   "metadata": {},
   "outputs": [
    {
     "data": {
      "text/plain": [
       "[0, 1, 2, 3, 4, 5, 6, 7, 8, 9, 10, 11, 12, 13, 14, 15, 16, 17, 18, 19]"
      ]
     },
     "execution_count": 40,
     "metadata": {},
     "output_type": "execute_result"
    }
   ],
   "source": [
    "m=[d for d in range(20)]\n",
    "m"
   ]
  },
  {
   "cell_type": "code",
   "execution_count": 41,
   "id": "4e0a6c95",
   "metadata": {},
   "outputs": [
    {
     "name": "stdout",
     "output_type": "stream",
     "text": [
      "[2, 4, 6, 8]\n"
     ]
    }
   ],
   "source": [
    "#store the even numbers only using list comprehension\n",
    "data=range(1,9)\n",
    "m=[d for d in data if d%2==0]\n",
    "print(m)"
   ]
  },
  {
   "cell_type": "code",
   "execution_count": 42,
   "id": "772e57d7",
   "metadata": {},
   "outputs": [
    {
     "name": "stdout",
     "output_type": "stream",
     "text": [
      "[1, 3, 5, 7]\n"
     ]
    }
   ],
   "source": [
    "#store the odd numbers only using list comprehension\n",
    "data=range(1,9)\n",
    "m=[d for d in data if d%2==1]\n",
    "print(m)"
   ]
  },
  {
   "cell_type": "code",
   "execution_count": 43,
   "id": "85c6fa3e",
   "metadata": {},
   "outputs": [
    {
     "data": {
      "text/plain": [
       "[0, 5, 10, 15]"
      ]
     },
     "execution_count": 43,
     "metadata": {},
     "output_type": "execute_result"
    }
   ],
   "source": [
    "m=[d for d in range(0,20,5)]\n",
    "m"
   ]
  },
  {
   "cell_type": "markdown",
   "id": "dff58ac0",
   "metadata": {},
   "source": [
    "# String functions"
   ]
  },
  {
   "cell_type": "code",
   "execution_count": 44,
   "id": "f0a2d5d9",
   "metadata": {},
   "outputs": [
    {
     "data": {
      "text/plain": [
       "'PYTHON'"
      ]
     },
     "execution_count": 44,
     "metadata": {},
     "output_type": "execute_result"
    }
   ],
   "source": [
    "word='python'\n",
    "word.upper()"
   ]
  },
  {
   "cell_type": "code",
   "execution_count": 45,
   "id": "143dac61",
   "metadata": {},
   "outputs": [
    {
     "data": {
      "text/plain": [
       "'data'"
      ]
     },
     "execution_count": 45,
     "metadata": {},
     "output_type": "execute_result"
    }
   ],
   "source": [
    "word='DATA'\n",
    "word.lower()"
   ]
  },
  {
   "cell_type": "code",
   "execution_count": 46,
   "id": "c3de08b3",
   "metadata": {},
   "outputs": [
    {
     "data": {
      "text/plain": [
       "'dATA sCIENCE'"
      ]
     },
     "execution_count": 46,
     "metadata": {},
     "output_type": "execute_result"
    }
   ],
   "source": [
    "word1='Data Science'\n",
    "word1.swapcase()"
   ]
  },
  {
   "cell_type": "code",
   "execution_count": 49,
   "id": "5848be88",
   "metadata": {},
   "outputs": [
    {
     "data": {
      "text/plain": [
       "['Data', 'Science']"
      ]
     },
     "execution_count": 49,
     "metadata": {},
     "output_type": "execute_result"
    }
   ],
   "source": [
    "#split() splits the strings as spaces between them and create new strings from them. \n",
    "word2='Data Science'\n",
    "list2=word2.split()\n",
    "list2"
   ]
  },
  {
   "cell_type": "code",
   "execution_count": 50,
   "id": "c78502ed",
   "metadata": {},
   "outputs": [
    {
     "data": {
      "text/plain": [
       "'Python'"
      ]
     },
     "execution_count": 50,
     "metadata": {},
     "output_type": "execute_result"
    }
   ],
   "source": [
    "word='python'\n",
    "word.capitalize()"
   ]
  },
  {
   "cell_type": "code",
   "execution_count": 53,
   "id": "ed15f446",
   "metadata": {},
   "outputs": [
    {
     "data": {
      "text/plain": [
       "'String Functions In Python'"
      ]
     },
     "execution_count": 53,
     "metadata": {},
     "output_type": "execute_result"
    }
   ],
   "source": [
    "word2='string functions in python'\n",
    "word2.title()   #capitalizes the first letters of each word of the sentence."
   ]
  },
  {
   "cell_type": "code",
   "execution_count": 51,
   "id": "363d0d45",
   "metadata": {},
   "outputs": [
    {
     "data": {
      "text/plain": [
       "True"
      ]
     },
     "execution_count": 51,
     "metadata": {},
     "output_type": "execute_result"
    }
   ],
   "source": [
    "word3='python'\n",
    "word3.islower()"
   ]
  },
  {
   "cell_type": "code",
   "execution_count": 52,
   "id": "73185eff",
   "metadata": {},
   "outputs": [
    {
     "data": {
      "text/plain": [
       "False"
      ]
     },
     "execution_count": 52,
     "metadata": {},
     "output_type": "execute_result"
    }
   ],
   "source": [
    "word3='Python'\n",
    "word3.islower()"
   ]
  },
  {
   "cell_type": "code",
   "execution_count": 1,
   "id": "53fd9c93",
   "metadata": {},
   "outputs": [
    {
     "data": {
      "text/plain": [
       "['python']"
      ]
     },
     "execution_count": 1,
     "metadata": {},
     "output_type": "execute_result"
    }
   ],
   "source": [
    "\"python\".split()"
   ]
  },
  {
   "cell_type": "code",
   "execution_count": null,
   "id": "6a967139",
   "metadata": {},
   "outputs": [],
   "source": []
  },
  {
   "cell_type": "code",
   "execution_count": null,
   "id": "b5d854a7",
   "metadata": {},
   "outputs": [],
   "source": []
  },
  {
   "cell_type": "code",
   "execution_count": null,
   "id": "a6d1aa37",
   "metadata": {},
   "outputs": [],
   "source": []
  },
  {
   "cell_type": "code",
   "execution_count": null,
   "id": "45fa08b9",
   "metadata": {},
   "outputs": [],
   "source": []
  },
  {
   "cell_type": "code",
   "execution_count": null,
   "id": "9d9debc2",
   "metadata": {},
   "outputs": [],
   "source": []
  },
  {
   "cell_type": "code",
   "execution_count": null,
   "id": "57088222",
   "metadata": {},
   "outputs": [],
   "source": []
  }
 ],
 "metadata": {
  "kernelspec": {
   "display_name": "Python 3",
   "language": "python",
   "name": "python3"
  },
  "language_info": {
   "codemirror_mode": {
    "name": "ipython",
    "version": 3
   },
   "file_extension": ".py",
   "mimetype": "text/x-python",
   "name": "python",
   "nbconvert_exporter": "python",
   "pygments_lexer": "ipython3",
   "version": "3.8.8"
  }
 },
 "nbformat": 4,
 "nbformat_minor": 5
}
