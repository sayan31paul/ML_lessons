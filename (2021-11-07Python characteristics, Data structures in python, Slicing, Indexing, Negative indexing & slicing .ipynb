{
 "cells": [
  {
   "cell_type": "markdown",
   "id": "9d795fa0",
   "metadata": {},
   "source": [
    "# Python characteristics"
   ]
  },
  {
   "cell_type": "raw",
   "id": "7af67d61",
   "metadata": {},
   "source": [
    "1. Python is case sensitive\n",
    "2. Python is strongly typed/dynamically implicitly typed language.\n",
    "3. It has both interpreter and compiler.\n",
    "4. It is an object oriented language\n"
   ]
  },
  {
   "cell_type": "raw",
   "id": "bd1be84d",
   "metadata": {},
   "source": [
    "Strongly typed language:- In the old programming languages like C & C++ we had to write the data type before writing a variable(Ex- [int a=7]) but in python we can directly write a=7. Python automatically detects that 7 is an integer. "
   ]
  },
  {
   "cell_type": "raw",
   "id": "d2b70636",
   "metadata": {},
   "source": [
    "Interpreter:- Programming languages are high level languages. Computer understands only binary language. Interpreter converts high level language to binary language line by line\n",
    "\n",
    "Compiler:- It coverts multiple lines of high level language into binary language.    \n",
    "    "
   ]
  },
  {
   "cell_type": "code",
   "execution_count": 3,
   "id": "b6ca1ddc",
   "metadata": {},
   "outputs": [
    {
     "data": {
      "text/plain": [
       "int"
      ]
     },
     "execution_count": 3,
     "metadata": {},
     "output_type": "execute_result"
    }
   ],
   "source": [
    "#how to know the data type of a variable\n",
    "#multiple lines of high level language converted to binary language.(compiler is used)    \n",
    "a=7\n",
    "type(a)"
   ]
  },
  {
   "cell_type": "code",
   "execution_count": 4,
   "id": "1ed9f849",
   "metadata": {},
   "outputs": [
    {
     "data": {
      "text/plain": [
       "int"
      ]
     },
     "execution_count": 4,
     "metadata": {},
     "output_type": "execute_result"
    }
   ],
   "source": [
    "type(a) #one line of high level language converted to binary language.(interpreter is used) "
   ]
  },
  {
   "cell_type": "raw",
   "id": "3bc048ca",
   "metadata": {},
   "source": [
    "Object oriented language:-Python inherited the property of OOPS from C++. It will be elaborated later"
   ]
  },
  {
   "cell_type": "markdown",
   "id": "d7ff5b75",
   "metadata": {},
   "source": [
    "# Data structures in python"
   ]
  },
  {
   "cell_type": "raw",
   "id": "a1c0096a",
   "metadata": {},
   "source": [
    "1. List\n",
    "2. Tuples\n",
    "3. Dictionaries\n",
    "4. Sets"
   ]
  },
  {
   "cell_type": "markdown",
   "id": "171dccae",
   "metadata": {},
   "source": [
    "List"
   ]
  },
  {
   "cell_type": "code",
   "execution_count": 6,
   "id": "1136be56",
   "metadata": {},
   "outputs": [],
   "source": [
    "list_a=[1,2,3,4,5]"
   ]
  },
  {
   "cell_type": "code",
   "execution_count": 7,
   "id": "84be8640",
   "metadata": {},
   "outputs": [
    {
     "data": {
      "text/plain": [
       "list"
      ]
     },
     "execution_count": 7,
     "metadata": {},
     "output_type": "execute_result"
    }
   ],
   "source": [
    "type(list_a)"
   ]
  },
  {
   "cell_type": "code",
   "execution_count": 8,
   "id": "1dd32d1d",
   "metadata": {},
   "outputs": [
    {
     "data": {
      "text/plain": [
       "[1, 2, 3, 4, 5]"
      ]
     },
     "execution_count": 8,
     "metadata": {},
     "output_type": "execute_result"
    }
   ],
   "source": [
    "list_a"
   ]
  },
  {
   "cell_type": "code",
   "execution_count": 9,
   "id": "41bc78da",
   "metadata": {},
   "outputs": [],
   "source": [
    "#lists takes all data types(int,float,char,boolean)\n",
    "list_b=[45,89.34,66,'A','Delhi',True]"
   ]
  },
  {
   "cell_type": "code",
   "execution_count": 10,
   "id": "88732276",
   "metadata": {},
   "outputs": [
    {
     "data": {
      "text/plain": [
       "[45, 89.34, 66, 'A', 'Delhi', True]"
      ]
     },
     "execution_count": 10,
     "metadata": {},
     "output_type": "execute_result"
    }
   ],
   "source": [
    "list_b"
   ]
  },
  {
   "cell_type": "code",
   "execution_count": 11,
   "id": "2360e698",
   "metadata": {},
   "outputs": [],
   "source": [
    "planetlist=['Mercury','Venus','Earth','etc']"
   ]
  },
  {
   "cell_type": "code",
   "execution_count": 12,
   "id": "7c086929",
   "metadata": {},
   "outputs": [
    {
     "data": {
      "text/plain": [
       "['Mercury', 'Venus', 'Earth', 'etc']"
      ]
     },
     "execution_count": 12,
     "metadata": {},
     "output_type": "execute_result"
    }
   ],
   "source": [
    "planetlist"
   ]
  },
  {
   "cell_type": "code",
   "execution_count": 13,
   "id": "5acf49b5",
   "metadata": {},
   "outputs": [],
   "source": [
    "#lists allows duplicate entries too\n",
    "planetlist_d=['Mercury','Venus','Earth','etc','etc']"
   ]
  },
  {
   "cell_type": "code",
   "execution_count": 14,
   "id": "708d6071",
   "metadata": {},
   "outputs": [
    {
     "data": {
      "text/plain": [
       "['Mercury', 'Venus', 'Earth', 'etc', 'etc']"
      ]
     },
     "execution_count": 14,
     "metadata": {},
     "output_type": "execute_result"
    }
   ],
   "source": [
    "planetlist_d"
   ]
  },
  {
   "cell_type": "markdown",
   "id": "5e8f933b",
   "metadata": {},
   "source": [
    "# Indexing in list"
   ]
  },
  {
   "cell_type": "code",
   "execution_count": 21,
   "id": "75885c3a",
   "metadata": {},
   "outputs": [
    {
     "data": {
      "text/plain": [
       "'Earth'"
      ]
     },
     "execution_count": 21,
     "metadata": {},
     "output_type": "execute_result"
    }
   ],
   "source": [
    "#every list have built in indexes in python\n",
    "#first element of the list has index=0 and so on.\n",
    "#changes are temporary\n",
    "#indexing pattern is 0,1,2,3.........\n",
    "planetlist_d[2]"
   ]
  },
  {
   "cell_type": "markdown",
   "id": "0bc1452e",
   "metadata": {},
   "source": [
    "# Slicing in list"
   ]
  },
  {
   "cell_type": "code",
   "execution_count": 16,
   "id": "e72459f3",
   "metadata": {},
   "outputs": [
    {
     "data": {
      "text/plain": [
       "[45, 89.34, 66]"
      ]
     },
     "execution_count": 16,
     "metadata": {},
     "output_type": "execute_result"
    }
   ],
   "source": [
    "list_b[:3] #3rd element is not included. Only elements with index 0,1,2 are shown. Changes are temporary"
   ]
  },
  {
   "cell_type": "code",
   "execution_count": 17,
   "id": "0a3dbc5a",
   "metadata": {},
   "outputs": [
    {
     "data": {
      "text/plain": [
       "[89.34, 66, 'A']"
      ]
     },
     "execution_count": 17,
     "metadata": {},
     "output_type": "execute_result"
    }
   ],
   "source": [
    "list_b[1:4] #only elemnts with index 1,2,3 are shown. element with index 4 is excluded.Changes are temporary"
   ]
  },
  {
   "cell_type": "code",
   "execution_count": 18,
   "id": "8529d791",
   "metadata": {},
   "outputs": [
    {
     "data": {
      "text/plain": [
       "6"
      ]
     },
     "execution_count": 18,
     "metadata": {},
     "output_type": "execute_result"
    }
   ],
   "source": [
    "#find the number pf elements in the list\n",
    "len(list_b)"
   ]
  },
  {
   "cell_type": "code",
   "execution_count": 19,
   "id": "75d42638",
   "metadata": {},
   "outputs": [
    {
     "data": {
      "text/plain": [
       "4"
      ]
     },
     "execution_count": 19,
     "metadata": {},
     "output_type": "execute_result"
    }
   ],
   "source": [
    "len(planetlist)"
   ]
  },
  {
   "cell_type": "code",
   "execution_count": 22,
   "id": "a9ecb10e",
   "metadata": {},
   "outputs": [],
   "source": [
    "#To store the results after slicing we have to store it in another variable\n",
    "list_new=list_b[1:4]"
   ]
  },
  {
   "cell_type": "code",
   "execution_count": 23,
   "id": "1357b49d",
   "metadata": {},
   "outputs": [
    {
     "data": {
      "text/plain": [
       "[89.34, 66, 'A']"
      ]
     },
     "execution_count": 23,
     "metadata": {},
     "output_type": "execute_result"
    }
   ],
   "source": [
    "list_new  #sliced results stored in new variable"
   ]
  },
  {
   "cell_type": "code",
   "execution_count": 28,
   "id": "cdfb284e",
   "metadata": {},
   "outputs": [
    {
     "data": {
      "text/plain": [
       "[45, 89.34, 66, 'A', 'Delhi', True]"
      ]
     },
     "execution_count": 28,
     "metadata": {},
     "output_type": "execute_result"
    }
   ],
   "source": [
    "list_b[:] #gives the entire list"
   ]
  },
  {
   "cell_type": "code",
   "execution_count": 30,
   "id": "dc2fa5b4",
   "metadata": {},
   "outputs": [
    {
     "data": {
      "text/plain": [
       "['Mercury', 'Venus', 'Earth', 'etc']"
      ]
     },
     "execution_count": 30,
     "metadata": {},
     "output_type": "execute_result"
    }
   ],
   "source": [
    "planetlist"
   ]
  },
  {
   "cell_type": "code",
   "execution_count": 31,
   "id": "14c92a69",
   "metadata": {},
   "outputs": [
    {
     "data": {
      "text/plain": [
       "['Venus', 'Earth', 'etc']"
      ]
     },
     "execution_count": 31,
     "metadata": {},
     "output_type": "execute_result"
    }
   ],
   "source": [
    "planetlist[1:]"
   ]
  },
  {
   "cell_type": "markdown",
   "id": "25123334",
   "metadata": {},
   "source": [
    "# Negative indexing"
   ]
  },
  {
   "cell_type": "code",
   "execution_count": 24,
   "id": "88c2678b",
   "metadata": {},
   "outputs": [
    {
     "data": {
      "text/plain": [
       "'A'"
      ]
     },
     "execution_count": 24,
     "metadata": {},
     "output_type": "execute_result"
    }
   ],
   "source": [
    "#negative indexing is ......,-3,-2,-1\n",
    "#negative endexing ends with -1\n",
    "list_new[-1]"
   ]
  },
  {
   "cell_type": "code",
   "execution_count": 25,
   "id": "6b5088f2",
   "metadata": {},
   "outputs": [
    {
     "data": {
      "text/plain": [
       "89.34"
      ]
     },
     "execution_count": 25,
     "metadata": {},
     "output_type": "execute_result"
    }
   ],
   "source": [
    "list_new[-3]"
   ]
  },
  {
   "cell_type": "markdown",
   "id": "ce39d695",
   "metadata": {},
   "source": [
    "# Negative slicing"
   ]
  },
  {
   "cell_type": "code",
   "execution_count": 27,
   "id": "d8ee31af",
   "metadata": {},
   "outputs": [
    {
     "data": {
      "text/plain": [
       "[45, 89.34, 66, 'A', 'Delhi', True]"
      ]
     },
     "execution_count": 27,
     "metadata": {},
     "output_type": "execute_result"
    }
   ],
   "source": [
    "list_b"
   ]
  },
  {
   "cell_type": "code",
   "execution_count": 26,
   "id": "1e47e056",
   "metadata": {},
   "outputs": [
    {
     "data": {
      "text/plain": [
       "[66, 'A']"
      ]
     },
     "execution_count": 26,
     "metadata": {},
     "output_type": "execute_result"
    }
   ],
   "source": [
    "list_b[-4:-2]"
   ]
  },
  {
   "cell_type": "code",
   "execution_count": 32,
   "id": "c71cf06d",
   "metadata": {},
   "outputs": [
    {
     "data": {
      "text/plain": [
       "[89.34, 66, 'A', 'Delhi', True]"
      ]
     },
     "execution_count": 32,
     "metadata": {},
     "output_type": "execute_result"
    }
   ],
   "source": [
    "list_b[-5:]"
   ]
  },
  {
   "cell_type": "code",
   "execution_count": null,
   "id": "24cbb55a",
   "metadata": {},
   "outputs": [],
   "source": []
  }
 ],
 "metadata": {
  "kernelspec": {
   "display_name": "Python 3",
   "language": "python",
   "name": "python3"
  },
  "language_info": {
   "codemirror_mode": {
    "name": "ipython",
    "version": 3
   },
   "file_extension": ".py",
   "mimetype": "text/x-python",
   "name": "python",
   "nbconvert_exporter": "python",
   "pygments_lexer": "ipython3",
   "version": "3.8.8"
  }
 },
 "nbformat": 4,
 "nbformat_minor": 5
}
