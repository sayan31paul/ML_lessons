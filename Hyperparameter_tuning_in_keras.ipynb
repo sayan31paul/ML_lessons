{
  "nbformat": 4,
  "nbformat_minor": 0,
  "metadata": {
    "colab": {
      "provenance": []
    },
    "kernelspec": {
      "name": "python3",
      "display_name": "Python 3"
    },
    "language_info": {
      "name": "python"
    }
  },
  "cells": [
    {
      "cell_type": "code",
      "execution_count": 43,
      "metadata": {
        "id": "1H0jxzaZ8N7-"
      },
      "outputs": [],
      "source": [
        "import numpy as np\n",
        "import pandas as pd\n",
        "import sklearn"
      ]
    },
    {
      "cell_type": "code",
      "source": [
        "df=pd.read_csv(\"diabetes.csv\")"
      ],
      "metadata": {
        "id": "khAC0Gpr_1v6"
      },
      "execution_count": 44,
      "outputs": []
    },
    {
      "cell_type": "code",
      "source": [
        "df.shape"
      ],
      "metadata": {
        "colab": {
          "base_uri": "https://localhost:8080/"
        },
        "id": "XVGWhZSA_8gn",
        "outputId": "2dbdbdab-5b20-4975-b0d0-2fc558b80564"
      },
      "execution_count": 45,
      "outputs": [
        {
          "output_type": "execute_result",
          "data": {
            "text/plain": [
              "(768, 9)"
            ]
          },
          "metadata": {},
          "execution_count": 45
        }
      ]
    },
    {
      "cell_type": "code",
      "source": [
        "df.corr()['Outcome']"
      ],
      "metadata": {
        "colab": {
          "base_uri": "https://localhost:8080/"
        },
        "id": "f9YoEayx__HX",
        "outputId": "69aedda2-b97d-439b-988f-76645c6913d2"
      },
      "execution_count": 4,
      "outputs": [
        {
          "output_type": "execute_result",
          "data": {
            "text/plain": [
              "Pregnancies                 0.221898\n",
              "Glucose                     0.466581\n",
              "BloodPressure               0.065068\n",
              "SkinThickness               0.074752\n",
              "Insulin                     0.130548\n",
              "BMI                         0.292695\n",
              "DiabetesPedigreeFunction    0.173844\n",
              "Age                         0.238356\n",
              "Outcome                     1.000000\n",
              "Name: Outcome, dtype: float64"
            ]
          },
          "metadata": {},
          "execution_count": 4
        }
      ]
    },
    {
      "cell_type": "code",
      "source": [
        "x = df.iloc[:,0:-1].values\n",
        "y = df.iloc[:,-1].values"
      ],
      "metadata": {
        "id": "0bKl7xfBAWEP"
      },
      "execution_count": 46,
      "outputs": []
    },
    {
      "cell_type": "code",
      "source": [
        "from sklearn.preprocessing import StandardScaler\n",
        "scaler = StandardScaler()"
      ],
      "metadata": {
        "id": "-lNMOjQCA1C9"
      },
      "execution_count": 47,
      "outputs": []
    },
    {
      "cell_type": "code",
      "source": [
        "x = scaler.fit_transform(x)"
      ],
      "metadata": {
        "id": "Hyl8RpghBFXf"
      },
      "execution_count": 48,
      "outputs": []
    },
    {
      "cell_type": "code",
      "source": [
        "from sklearn.model_selection import train_test_split\n",
        "X_train,X_test,y_train,y_test = train_test_split(x,y,test_size = 0.2,random_state = 42)"
      ],
      "metadata": {
        "id": "v8w9VywEBJIe"
      },
      "execution_count": 49,
      "outputs": []
    },
    {
      "cell_type": "code",
      "source": [
        "import tensorflow\n",
        "from tensorflow import keras\n",
        "from keras import Sequential\n",
        "from keras.layers import Dense,Dropout"
      ],
      "metadata": {
        "id": "yMsqJpHiBmpO"
      },
      "execution_count": 96,
      "outputs": []
    },
    {
      "cell_type": "code",
      "source": [
        "model = Sequential()\n",
        "model.add(Dense(32,activation = 'relu',input_dim = 8))\n",
        "model.add(Dense(1,activation = 'sigmoid'))\n",
        "\n",
        "model.compile(optimizer = 'Adam', loss = 'binary_crossentropy', metrics = ['accuracy'] )"
      ],
      "metadata": {
        "id": "yulG6IbFB62V"
      },
      "execution_count": 51,
      "outputs": []
    },
    {
      "cell_type": "code",
      "source": [
        "model.fit(X_train,y_train,batch_size = 32,epochs = 10, validation_data = (X_test,y_test))"
      ],
      "metadata": {
        "colab": {
          "base_uri": "https://localhost:8080/"
        },
        "id": "LxYK0ipZQ0n9",
        "outputId": "fabd42c2-9557-40fb-df56-34538bd9f5fd"
      },
      "execution_count": 52,
      "outputs": [
        {
          "output_type": "stream",
          "name": "stdout",
          "text": [
            "Epoch 1/10\n",
            "20/20 [==============================] - 1s 12ms/step - loss: 0.7207 - accuracy: 0.5423 - val_loss: 0.6725 - val_accuracy: 0.6104\n",
            "Epoch 2/10\n",
            "20/20 [==============================] - 0s 4ms/step - loss: 0.6554 - accuracy: 0.6759 - val_loss: 0.6192 - val_accuracy: 0.6948\n",
            "Epoch 3/10\n",
            "20/20 [==============================] - 0s 5ms/step - loss: 0.6090 - accuracy: 0.7215 - val_loss: 0.5859 - val_accuracy: 0.7208\n",
            "Epoch 4/10\n",
            "20/20 [==============================] - 0s 5ms/step - loss: 0.5738 - accuracy: 0.7313 - val_loss: 0.5616 - val_accuracy: 0.7532\n",
            "Epoch 5/10\n",
            "20/20 [==============================] - 0s 4ms/step - loss: 0.5475 - accuracy: 0.7427 - val_loss: 0.5419 - val_accuracy: 0.7662\n",
            "Epoch 6/10\n",
            "20/20 [==============================] - 0s 4ms/step - loss: 0.5258 - accuracy: 0.7410 - val_loss: 0.5290 - val_accuracy: 0.7727\n",
            "Epoch 7/10\n",
            "20/20 [==============================] - 0s 4ms/step - loss: 0.5102 - accuracy: 0.7508 - val_loss: 0.5211 - val_accuracy: 0.7532\n",
            "Epoch 8/10\n",
            "20/20 [==============================] - 0s 4ms/step - loss: 0.4975 - accuracy: 0.7508 - val_loss: 0.5160 - val_accuracy: 0.7468\n",
            "Epoch 9/10\n",
            "20/20 [==============================] - 0s 4ms/step - loss: 0.4879 - accuracy: 0.7557 - val_loss: 0.5130 - val_accuracy: 0.7597\n",
            "Epoch 10/10\n",
            "20/20 [==============================] - 0s 4ms/step - loss: 0.4802 - accuracy: 0.7590 - val_loss: 0.5119 - val_accuracy: 0.7662\n"
          ]
        },
        {
          "output_type": "execute_result",
          "data": {
            "text/plain": [
              "<keras.callbacks.History at 0x79fff9732080>"
            ]
          },
          "metadata": {},
          "execution_count": 52
        }
      ]
    },
    {
      "cell_type": "code",
      "source": [
        "#1.how to select appropriate optimiser\n",
        "#2.number of nodes in a layer\n",
        "#3.how to select number of hidden layers\n",
        "#4.All in one model"
      ],
      "metadata": {
        "id": "KnXUHvorRRJk"
      },
      "execution_count": 19,
      "outputs": []
    },
    {
      "cell_type": "code",
      "source": [
        "!pip install keras-tuner"
      ],
      "metadata": {
        "colab": {
          "base_uri": "https://localhost:8080/"
        },
        "id": "kkAH5WxDSV9m",
        "outputId": "d726fab4-be4b-480c-8c92-235203bb6bcb"
      },
      "execution_count": 22,
      "outputs": [
        {
          "output_type": "stream",
          "name": "stdout",
          "text": [
            "Collecting keras-tuner\n",
            "  Downloading keras_tuner-1.3.5-py3-none-any.whl (176 kB)\n",
            "\u001b[?25l     \u001b[90m━━━━━━━━━━━━━━━━━━━━━━━━━━━━━━━━━━━━━━━━\u001b[0m \u001b[32m0.0/176.1 kB\u001b[0m \u001b[31m?\u001b[0m eta \u001b[36m-:--:--\u001b[0m\r\u001b[2K     \u001b[91m━━━━━━━━\u001b[0m\u001b[91m╸\u001b[0m\u001b[90m━━━━━━━━━━━━━━━━━━━━━━━━━━━━━\u001b[0m \u001b[32m41.0/176.1 kB\u001b[0m \u001b[31m985.9 kB/s\u001b[0m eta \u001b[36m0:00:01\u001b[0m\r\u001b[2K     \u001b[90m━━━━━━━━━━━━━━━━━━━━━━━━━━━━━━━━━━━━━━━\u001b[0m \u001b[32m176.1/176.1 kB\u001b[0m \u001b[31m2.4 MB/s\u001b[0m eta \u001b[36m0:00:00\u001b[0m\n",
            "\u001b[?25hRequirement already satisfied: packaging in /usr/local/lib/python3.10/dist-packages (from keras-tuner) (23.1)\n",
            "Requirement already satisfied: requests in /usr/local/lib/python3.10/dist-packages (from keras-tuner) (2.27.1)\n",
            "Collecting kt-legacy (from keras-tuner)\n",
            "  Downloading kt_legacy-1.0.5-py3-none-any.whl (9.6 kB)\n",
            "Requirement already satisfied: urllib3<1.27,>=1.21.1 in /usr/local/lib/python3.10/dist-packages (from requests->keras-tuner) (1.26.16)\n",
            "Requirement already satisfied: certifi>=2017.4.17 in /usr/local/lib/python3.10/dist-packages (from requests->keras-tuner) (2023.7.22)\n",
            "Requirement already satisfied: charset-normalizer~=2.0.0 in /usr/local/lib/python3.10/dist-packages (from requests->keras-tuner) (2.0.12)\n",
            "Requirement already satisfied: idna<4,>=2.5 in /usr/local/lib/python3.10/dist-packages (from requests->keras-tuner) (3.4)\n",
            "Installing collected packages: kt-legacy, keras-tuner\n",
            "Successfully installed keras-tuner-1.3.5 kt-legacy-1.0.5\n"
          ]
        }
      ]
    },
    {
      "cell_type": "code",
      "source": [
        "import kerastuner as kt"
      ],
      "metadata": {
        "id": "miOIvijiAvCG"
      },
      "execution_count": 53,
      "outputs": []
    },
    {
      "cell_type": "code",
      "source": [
        "def build_model(hp):\n",
        "\n",
        "  model = Sequential()\n",
        "  model.add(Dense(32,activation = 'relu', input_dim = 8))\n",
        "  model.add(Dense(1,activation = 'sigmoid'))\n",
        "\n",
        "  model.compile(optimizer=hp.Choice('optimizer',values=['sgd','adadelta','rmsprop','adam']), loss = 'binary_crossentropy', metrics =['accuracy'])\n",
        "\n",
        "  return model"
      ],
      "metadata": {
        "id": "7MgnRDOPSUp7"
      },
      "execution_count": 62,
      "outputs": []
    },
    {
      "cell_type": "code",
      "source": [
        "tuner = kt.RandomSearch(build_model,\n",
        "                        objective = 'val_accuracy',\n",
        "                        max_trials = 5)"
      ],
      "metadata": {
        "id": "pFxLKWpmUwBC"
      },
      "execution_count": 63,
      "outputs": []
    },
    {
      "cell_type": "code",
      "source": [
        "tuner.search(X_train,y_train,epochs = 5, validation_data = (X_test,y_test))"
      ],
      "metadata": {
        "id": "XwwnREUYVfHj"
      },
      "execution_count": 64,
      "outputs": []
    },
    {
      "cell_type": "code",
      "source": [
        "tuner.get_best_hyperparameters()[0].values"
      ],
      "metadata": {
        "colab": {
          "base_uri": "https://localhost:8080/"
        },
        "id": "PM0nSgjrYQkx",
        "outputId": "5d4ef05b-4861-4a3d-fa89-dfb347daee4f"
      },
      "execution_count": 65,
      "outputs": [
        {
          "output_type": "execute_result",
          "data": {
            "text/plain": [
              "{'optimizer': 'adam'}"
            ]
          },
          "metadata": {},
          "execution_count": 65
        }
      ]
    },
    {
      "cell_type": "code",
      "source": [
        "model  = tuner.get_best_models(num_models=1)[0]"
      ],
      "metadata": {
        "id": "ifihY9aZZbuf"
      },
      "execution_count": 66,
      "outputs": []
    },
    {
      "cell_type": "code",
      "source": [
        "model.summary()"
      ],
      "metadata": {
        "colab": {
          "base_uri": "https://localhost:8080/"
        },
        "id": "wkZ77ChkZ3Yh",
        "outputId": "bc256d2d-176d-4191-ee55-36051d00d512"
      },
      "execution_count": 67,
      "outputs": [
        {
          "output_type": "stream",
          "name": "stdout",
          "text": [
            "Model: \"sequential\"\n",
            "_________________________________________________________________\n",
            " Layer (type)                Output Shape              Param #   \n",
            "=================================================================\n",
            " dense (Dense)               (None, 32)                288       \n",
            "                                                                 \n",
            " dense_1 (Dense)             (None, 1)                 33        \n",
            "                                                                 \n",
            "=================================================================\n",
            "Total params: 321\n",
            "Trainable params: 321\n",
            "Non-trainable params: 0\n",
            "_________________________________________________________________\n"
          ]
        }
      ]
    },
    {
      "cell_type": "code",
      "source": [
        "model.fit(X_train,y_train,batch_size=32,epochs = 100, initial_epoch=6,validation_data=(X_test,y_test))"
      ],
      "metadata": {
        "colab": {
          "base_uri": "https://localhost:8080/"
        },
        "id": "x4XdZDMPZ60Y",
        "outputId": "1a62a2e4-571f-4703-8693-52be08e58cd8"
      },
      "execution_count": 70,
      "outputs": [
        {
          "output_type": "stream",
          "name": "stdout",
          "text": [
            "Epoch 7/100\n",
            "20/20 [==============================] - 1s 13ms/step - loss: 0.5395 - accuracy: 0.7541 - val_loss: 0.5661 - val_accuracy: 0.7143\n",
            "Epoch 8/100\n",
            "20/20 [==============================] - 0s 4ms/step - loss: 0.5214 - accuracy: 0.7590 - val_loss: 0.5495 - val_accuracy: 0.7403\n",
            "Epoch 9/100\n",
            "20/20 [==============================] - 0s 4ms/step - loss: 0.5067 - accuracy: 0.7606 - val_loss: 0.5377 - val_accuracy: 0.7403\n",
            "Epoch 10/100\n",
            "20/20 [==============================] - 0s 4ms/step - loss: 0.4952 - accuracy: 0.7671 - val_loss: 0.5278 - val_accuracy: 0.7597\n",
            "Epoch 11/100\n",
            "20/20 [==============================] - 0s 4ms/step - loss: 0.4851 - accuracy: 0.7671 - val_loss: 0.5191 - val_accuracy: 0.7597\n",
            "Epoch 12/100\n",
            "20/20 [==============================] - 0s 4ms/step - loss: 0.4772 - accuracy: 0.7720 - val_loss: 0.5133 - val_accuracy: 0.7662\n",
            "Epoch 13/100\n",
            "20/20 [==============================] - 0s 4ms/step - loss: 0.4707 - accuracy: 0.7720 - val_loss: 0.5095 - val_accuracy: 0.7727\n",
            "Epoch 14/100\n",
            "20/20 [==============================] - 0s 4ms/step - loss: 0.4655 - accuracy: 0.7671 - val_loss: 0.5058 - val_accuracy: 0.7662\n",
            "Epoch 15/100\n",
            "20/20 [==============================] - 0s 5ms/step - loss: 0.4610 - accuracy: 0.7720 - val_loss: 0.5040 - val_accuracy: 0.7727\n",
            "Epoch 16/100\n",
            "20/20 [==============================] - 0s 4ms/step - loss: 0.4575 - accuracy: 0.7752 - val_loss: 0.5019 - val_accuracy: 0.7792\n",
            "Epoch 17/100\n",
            "20/20 [==============================] - 0s 4ms/step - loss: 0.4540 - accuracy: 0.7785 - val_loss: 0.4992 - val_accuracy: 0.7727\n",
            "Epoch 18/100\n",
            "20/20 [==============================] - 0s 4ms/step - loss: 0.4511 - accuracy: 0.7769 - val_loss: 0.4987 - val_accuracy: 0.7662\n",
            "Epoch 19/100\n",
            "20/20 [==============================] - 0s 4ms/step - loss: 0.4486 - accuracy: 0.7785 - val_loss: 0.4997 - val_accuracy: 0.7662\n",
            "Epoch 20/100\n",
            "20/20 [==============================] - 0s 5ms/step - loss: 0.4468 - accuracy: 0.7752 - val_loss: 0.4986 - val_accuracy: 0.7662\n",
            "Epoch 21/100\n",
            "20/20 [==============================] - 0s 4ms/step - loss: 0.4452 - accuracy: 0.7801 - val_loss: 0.5009 - val_accuracy: 0.7662\n",
            "Epoch 22/100\n",
            "20/20 [==============================] - 0s 4ms/step - loss: 0.4441 - accuracy: 0.7850 - val_loss: 0.5009 - val_accuracy: 0.7662\n",
            "Epoch 23/100\n",
            "20/20 [==============================] - 0s 4ms/step - loss: 0.4432 - accuracy: 0.7866 - val_loss: 0.5005 - val_accuracy: 0.7662\n",
            "Epoch 24/100\n",
            "20/20 [==============================] - 0s 4ms/step - loss: 0.4415 - accuracy: 0.7866 - val_loss: 0.5017 - val_accuracy: 0.7662\n",
            "Epoch 25/100\n",
            "20/20 [==============================] - 0s 4ms/step - loss: 0.4405 - accuracy: 0.7850 - val_loss: 0.5023 - val_accuracy: 0.7662\n",
            "Epoch 26/100\n",
            "20/20 [==============================] - 0s 4ms/step - loss: 0.4404 - accuracy: 0.7866 - val_loss: 0.5021 - val_accuracy: 0.7662\n",
            "Epoch 27/100\n",
            "20/20 [==============================] - 0s 4ms/step - loss: 0.4389 - accuracy: 0.7883 - val_loss: 0.5021 - val_accuracy: 0.7727\n",
            "Epoch 28/100\n",
            "20/20 [==============================] - 0s 4ms/step - loss: 0.4377 - accuracy: 0.7883 - val_loss: 0.5035 - val_accuracy: 0.7727\n",
            "Epoch 29/100\n",
            "20/20 [==============================] - 0s 4ms/step - loss: 0.4370 - accuracy: 0.7948 - val_loss: 0.5037 - val_accuracy: 0.7727\n",
            "Epoch 30/100\n",
            "20/20 [==============================] - 0s 4ms/step - loss: 0.4366 - accuracy: 0.7899 - val_loss: 0.5044 - val_accuracy: 0.7727\n",
            "Epoch 31/100\n",
            "20/20 [==============================] - 0s 5ms/step - loss: 0.4358 - accuracy: 0.7932 - val_loss: 0.5061 - val_accuracy: 0.7662\n",
            "Epoch 32/100\n",
            "20/20 [==============================] - 0s 4ms/step - loss: 0.4346 - accuracy: 0.7866 - val_loss: 0.5065 - val_accuracy: 0.7662\n",
            "Epoch 33/100\n",
            "20/20 [==============================] - 0s 4ms/step - loss: 0.4339 - accuracy: 0.7932 - val_loss: 0.5086 - val_accuracy: 0.7727\n",
            "Epoch 34/100\n",
            "20/20 [==============================] - 0s 4ms/step - loss: 0.4336 - accuracy: 0.7948 - val_loss: 0.5128 - val_accuracy: 0.7727\n",
            "Epoch 35/100\n",
            "20/20 [==============================] - 0s 4ms/step - loss: 0.4324 - accuracy: 0.7964 - val_loss: 0.5108 - val_accuracy: 0.7662\n",
            "Epoch 36/100\n",
            "20/20 [==============================] - 0s 4ms/step - loss: 0.4318 - accuracy: 0.7948 - val_loss: 0.5096 - val_accuracy: 0.7662\n",
            "Epoch 37/100\n",
            "20/20 [==============================] - 0s 4ms/step - loss: 0.4308 - accuracy: 0.7899 - val_loss: 0.5105 - val_accuracy: 0.7662\n",
            "Epoch 38/100\n",
            "20/20 [==============================] - 0s 4ms/step - loss: 0.4308 - accuracy: 0.7866 - val_loss: 0.5093 - val_accuracy: 0.7727\n",
            "Epoch 39/100\n",
            "20/20 [==============================] - 0s 4ms/step - loss: 0.4296 - accuracy: 0.7899 - val_loss: 0.5098 - val_accuracy: 0.7727\n",
            "Epoch 40/100\n",
            "20/20 [==============================] - 0s 4ms/step - loss: 0.4292 - accuracy: 0.7899 - val_loss: 0.5125 - val_accuracy: 0.7727\n",
            "Epoch 41/100\n",
            "20/20 [==============================] - 0s 5ms/step - loss: 0.4282 - accuracy: 0.7964 - val_loss: 0.5129 - val_accuracy: 0.7727\n",
            "Epoch 42/100\n",
            "20/20 [==============================] - 0s 4ms/step - loss: 0.4272 - accuracy: 0.7980 - val_loss: 0.5110 - val_accuracy: 0.7727\n",
            "Epoch 43/100\n",
            "20/20 [==============================] - 0s 4ms/step - loss: 0.4270 - accuracy: 0.7932 - val_loss: 0.5108 - val_accuracy: 0.7727\n",
            "Epoch 44/100\n",
            "20/20 [==============================] - 0s 4ms/step - loss: 0.4260 - accuracy: 0.7948 - val_loss: 0.5101 - val_accuracy: 0.7727\n",
            "Epoch 45/100\n",
            "20/20 [==============================] - 0s 4ms/step - loss: 0.4251 - accuracy: 0.7964 - val_loss: 0.5117 - val_accuracy: 0.7727\n",
            "Epoch 46/100\n",
            "20/20 [==============================] - 0s 4ms/step - loss: 0.4245 - accuracy: 0.8013 - val_loss: 0.5133 - val_accuracy: 0.7727\n",
            "Epoch 47/100\n",
            "20/20 [==============================] - 0s 4ms/step - loss: 0.4240 - accuracy: 0.7980 - val_loss: 0.5156 - val_accuracy: 0.7662\n",
            "Epoch 48/100\n",
            "20/20 [==============================] - 0s 4ms/step - loss: 0.4229 - accuracy: 0.8013 - val_loss: 0.5137 - val_accuracy: 0.7727\n",
            "Epoch 49/100\n",
            "20/20 [==============================] - 0s 5ms/step - loss: 0.4227 - accuracy: 0.7997 - val_loss: 0.5151 - val_accuracy: 0.7662\n",
            "Epoch 50/100\n",
            "20/20 [==============================] - 0s 4ms/step - loss: 0.4219 - accuracy: 0.7980 - val_loss: 0.5151 - val_accuracy: 0.7662\n",
            "Epoch 51/100\n",
            "20/20 [==============================] - 0s 5ms/step - loss: 0.4212 - accuracy: 0.7980 - val_loss: 0.5141 - val_accuracy: 0.7662\n",
            "Epoch 52/100\n",
            "20/20 [==============================] - 0s 4ms/step - loss: 0.4209 - accuracy: 0.7980 - val_loss: 0.5140 - val_accuracy: 0.7662\n",
            "Epoch 53/100\n",
            "20/20 [==============================] - 0s 7ms/step - loss: 0.4205 - accuracy: 0.7997 - val_loss: 0.5144 - val_accuracy: 0.7662\n",
            "Epoch 54/100\n",
            "20/20 [==============================] - 0s 7ms/step - loss: 0.4200 - accuracy: 0.8013 - val_loss: 0.5145 - val_accuracy: 0.7727\n",
            "Epoch 55/100\n",
            "20/20 [==============================] - 0s 7ms/step - loss: 0.4200 - accuracy: 0.8029 - val_loss: 0.5148 - val_accuracy: 0.7727\n",
            "Epoch 56/100\n",
            "20/20 [==============================] - 0s 7ms/step - loss: 0.4199 - accuracy: 0.8046 - val_loss: 0.5136 - val_accuracy: 0.7727\n",
            "Epoch 57/100\n",
            "20/20 [==============================] - 0s 6ms/step - loss: 0.4186 - accuracy: 0.8046 - val_loss: 0.5132 - val_accuracy: 0.7662\n",
            "Epoch 58/100\n",
            "20/20 [==============================] - 0s 5ms/step - loss: 0.4179 - accuracy: 0.8013 - val_loss: 0.5157 - val_accuracy: 0.7662\n",
            "Epoch 59/100\n",
            "20/20 [==============================] - 0s 5ms/step - loss: 0.4181 - accuracy: 0.7997 - val_loss: 0.5175 - val_accuracy: 0.7727\n",
            "Epoch 60/100\n",
            "20/20 [==============================] - 0s 6ms/step - loss: 0.4169 - accuracy: 0.7964 - val_loss: 0.5173 - val_accuracy: 0.7727\n",
            "Epoch 61/100\n",
            "20/20 [==============================] - 0s 6ms/step - loss: 0.4162 - accuracy: 0.7932 - val_loss: 0.5178 - val_accuracy: 0.7662\n",
            "Epoch 62/100\n",
            "20/20 [==============================] - 0s 7ms/step - loss: 0.4157 - accuracy: 0.7948 - val_loss: 0.5198 - val_accuracy: 0.7662\n",
            "Epoch 63/100\n",
            "20/20 [==============================] - 0s 6ms/step - loss: 0.4153 - accuracy: 0.7980 - val_loss: 0.5187 - val_accuracy: 0.7662\n",
            "Epoch 64/100\n",
            "20/20 [==============================] - 0s 5ms/step - loss: 0.4146 - accuracy: 0.7980 - val_loss: 0.5198 - val_accuracy: 0.7662\n",
            "Epoch 65/100\n",
            "20/20 [==============================] - 0s 5ms/step - loss: 0.4145 - accuracy: 0.7964 - val_loss: 0.5192 - val_accuracy: 0.7662\n",
            "Epoch 66/100\n",
            "20/20 [==============================] - 0s 6ms/step - loss: 0.4135 - accuracy: 0.7948 - val_loss: 0.5208 - val_accuracy: 0.7662\n",
            "Epoch 67/100\n",
            "20/20 [==============================] - 0s 5ms/step - loss: 0.4135 - accuracy: 0.7948 - val_loss: 0.5213 - val_accuracy: 0.7662\n",
            "Epoch 68/100\n",
            "20/20 [==============================] - 0s 6ms/step - loss: 0.4127 - accuracy: 0.7964 - val_loss: 0.5217 - val_accuracy: 0.7662\n",
            "Epoch 69/100\n",
            "20/20 [==============================] - 0s 6ms/step - loss: 0.4123 - accuracy: 0.7980 - val_loss: 0.5228 - val_accuracy: 0.7727\n",
            "Epoch 70/100\n",
            "20/20 [==============================] - 0s 6ms/step - loss: 0.4123 - accuracy: 0.7964 - val_loss: 0.5219 - val_accuracy: 0.7727\n",
            "Epoch 71/100\n",
            "20/20 [==============================] - 0s 7ms/step - loss: 0.4117 - accuracy: 0.8029 - val_loss: 0.5224 - val_accuracy: 0.7662\n",
            "Epoch 72/100\n",
            "20/20 [==============================] - 0s 6ms/step - loss: 0.4114 - accuracy: 0.7980 - val_loss: 0.5216 - val_accuracy: 0.7662\n",
            "Epoch 73/100\n",
            "20/20 [==============================] - 0s 6ms/step - loss: 0.4107 - accuracy: 0.7964 - val_loss: 0.5225 - val_accuracy: 0.7727\n",
            "Epoch 74/100\n",
            "20/20 [==============================] - 0s 7ms/step - loss: 0.4104 - accuracy: 0.7997 - val_loss: 0.5211 - val_accuracy: 0.7727\n",
            "Epoch 75/100\n",
            "20/20 [==============================] - 0s 6ms/step - loss: 0.4100 - accuracy: 0.7948 - val_loss: 0.5214 - val_accuracy: 0.7727\n",
            "Epoch 76/100\n",
            "20/20 [==============================] - 0s 7ms/step - loss: 0.4096 - accuracy: 0.7964 - val_loss: 0.5220 - val_accuracy: 0.7727\n",
            "Epoch 77/100\n",
            "20/20 [==============================] - 0s 5ms/step - loss: 0.4091 - accuracy: 0.8029 - val_loss: 0.5246 - val_accuracy: 0.7727\n",
            "Epoch 78/100\n",
            "20/20 [==============================] - 0s 5ms/step - loss: 0.4087 - accuracy: 0.8013 - val_loss: 0.5241 - val_accuracy: 0.7727\n",
            "Epoch 79/100\n",
            "20/20 [==============================] - 0s 4ms/step - loss: 0.4083 - accuracy: 0.8029 - val_loss: 0.5244 - val_accuracy: 0.7727\n",
            "Epoch 80/100\n",
            "20/20 [==============================] - 0s 4ms/step - loss: 0.4083 - accuracy: 0.8029 - val_loss: 0.5253 - val_accuracy: 0.7727\n",
            "Epoch 81/100\n",
            "20/20 [==============================] - 0s 4ms/step - loss: 0.4081 - accuracy: 0.8013 - val_loss: 0.5232 - val_accuracy: 0.7662\n",
            "Epoch 82/100\n",
            "20/20 [==============================] - 0s 5ms/step - loss: 0.4077 - accuracy: 0.7997 - val_loss: 0.5269 - val_accuracy: 0.7727\n",
            "Epoch 83/100\n",
            "20/20 [==============================] - 0s 4ms/step - loss: 0.4066 - accuracy: 0.8029 - val_loss: 0.5252 - val_accuracy: 0.7727\n",
            "Epoch 84/100\n",
            "20/20 [==============================] - 0s 4ms/step - loss: 0.4068 - accuracy: 0.8046 - val_loss: 0.5250 - val_accuracy: 0.7727\n",
            "Epoch 85/100\n",
            "20/20 [==============================] - 0s 5ms/step - loss: 0.4058 - accuracy: 0.8013 - val_loss: 0.5258 - val_accuracy: 0.7727\n",
            "Epoch 86/100\n",
            "20/20 [==============================] - 0s 4ms/step - loss: 0.4058 - accuracy: 0.7997 - val_loss: 0.5259 - val_accuracy: 0.7727\n",
            "Epoch 87/100\n",
            "20/20 [==============================] - 0s 4ms/step - loss: 0.4057 - accuracy: 0.8029 - val_loss: 0.5279 - val_accuracy: 0.7727\n",
            "Epoch 88/100\n",
            "20/20 [==============================] - 0s 4ms/step - loss: 0.4052 - accuracy: 0.8013 - val_loss: 0.5273 - val_accuracy: 0.7662\n",
            "Epoch 89/100\n",
            "20/20 [==============================] - 0s 4ms/step - loss: 0.4048 - accuracy: 0.8062 - val_loss: 0.5283 - val_accuracy: 0.7727\n",
            "Epoch 90/100\n",
            "20/20 [==============================] - 0s 4ms/step - loss: 0.4046 - accuracy: 0.8046 - val_loss: 0.5297 - val_accuracy: 0.7727\n",
            "Epoch 91/100\n",
            "20/20 [==============================] - 0s 4ms/step - loss: 0.4054 - accuracy: 0.7980 - val_loss: 0.5299 - val_accuracy: 0.7597\n",
            "Epoch 92/100\n",
            "20/20 [==============================] - 0s 5ms/step - loss: 0.4035 - accuracy: 0.8094 - val_loss: 0.5319 - val_accuracy: 0.7662\n",
            "Epoch 93/100\n",
            "20/20 [==============================] - 0s 4ms/step - loss: 0.4036 - accuracy: 0.8127 - val_loss: 0.5325 - val_accuracy: 0.7727\n",
            "Epoch 94/100\n",
            "20/20 [==============================] - 0s 4ms/step - loss: 0.4032 - accuracy: 0.8062 - val_loss: 0.5323 - val_accuracy: 0.7662\n",
            "Epoch 95/100\n",
            "20/20 [==============================] - 0s 4ms/step - loss: 0.4030 - accuracy: 0.8046 - val_loss: 0.5311 - val_accuracy: 0.7662\n",
            "Epoch 96/100\n",
            "20/20 [==============================] - 0s 4ms/step - loss: 0.4025 - accuracy: 0.8046 - val_loss: 0.5350 - val_accuracy: 0.7727\n",
            "Epoch 97/100\n",
            "20/20 [==============================] - 0s 4ms/step - loss: 0.4020 - accuracy: 0.8078 - val_loss: 0.5346 - val_accuracy: 0.7662\n",
            "Epoch 98/100\n",
            "20/20 [==============================] - 0s 4ms/step - loss: 0.4017 - accuracy: 0.8046 - val_loss: 0.5353 - val_accuracy: 0.7662\n",
            "Epoch 99/100\n",
            "20/20 [==============================] - 0s 5ms/step - loss: 0.4007 - accuracy: 0.8046 - val_loss: 0.5347 - val_accuracy: 0.7597\n",
            "Epoch 100/100\n",
            "20/20 [==============================] - 0s 4ms/step - loss: 0.4010 - accuracy: 0.8127 - val_loss: 0.5357 - val_accuracy: 0.7597\n"
          ]
        },
        {
          "output_type": "execute_result",
          "data": {
            "text/plain": [
              "<keras.callbacks.History at 0x79fff977ba30>"
            ]
          },
          "metadata": {},
          "execution_count": 70
        }
      ]
    },
    {
      "cell_type": "code",
      "source": [
        "#what should be the number of neurons in a particular layer\n",
        "def build_model(hp):\n",
        "\n",
        "  model = Sequential()\n",
        "  units = hp.Int('units',min_value=8,max_value=128,step = 8)\n",
        "  model.add(Dense(units=units,activation = 'relu',input_dim = 8))\n",
        "  model.add(Dense(1,activation='sigmoid'))\n",
        "\n",
        "  model.compile(optimizer = 'adam', loss='binary_crossentropy',metrics = ['accuracy'])\n",
        "\n",
        "  return model"
      ],
      "metadata": {
        "id": "0d5P_3--mWUC"
      },
      "execution_count": 73,
      "outputs": []
    },
    {
      "cell_type": "code",
      "source": [
        "tuner = kt.RandomSearch(build_model,\n",
        "                        objective='val_accuracy',\n",
        "                        max_trials = 5,\n",
        "                        directory = 'mydir')"
      ],
      "metadata": {
        "id": "lyxjlAzTZJ5Y"
      },
      "execution_count": 76,
      "outputs": []
    },
    {
      "cell_type": "code",
      "source": [
        "tuner.search(X_train,y_train,epochs=5,validation_data=(X_test,y_test))\n"
      ],
      "metadata": {
        "colab": {
          "base_uri": "https://localhost:8080/"
        },
        "id": "H-fPdWyhYPha",
        "outputId": "34351a68-0490-40af-cd51-78f08c610158"
      },
      "execution_count": 77,
      "outputs": [
        {
          "output_type": "stream",
          "name": "stdout",
          "text": [
            "Trial 5 Complete [00h 00m 03s]\n",
            "val_accuracy: 0.6883116960525513\n",
            "\n",
            "Best val_accuracy So Far: 0.7792207598686218\n",
            "Total elapsed time: 00h 00m 11s\n"
          ]
        }
      ]
    },
    {
      "cell_type": "code",
      "source": [
        "tuner.get_best_hyperparameters()[0].values"
      ],
      "metadata": {
        "colab": {
          "base_uri": "https://localhost:8080/"
        },
        "id": "jBkBUCnuX7ux",
        "outputId": "d121b4ad-a8b7-423e-c337-ad5d646e523a"
      },
      "execution_count": 78,
      "outputs": [
        {
          "output_type": "execute_result",
          "data": {
            "text/plain": [
              "{'units': 104}"
            ]
          },
          "metadata": {},
          "execution_count": 78
        }
      ]
    },
    {
      "cell_type": "code",
      "source": [
        "model = tuner.get_best_models(num_models=1)[0]"
      ],
      "metadata": {
        "id": "uJKX7BdKr06P"
      },
      "execution_count": 79,
      "outputs": []
    },
    {
      "cell_type": "code",
      "source": [
        "model.fit(X_train,y_train,batch_size=32,epochs = 100, initial_epoch=6)"
      ],
      "metadata": {
        "colab": {
          "base_uri": "https://localhost:8080/"
        },
        "id": "Nn8O9wVDsp5u",
        "outputId": "0e119598-8881-44c3-9a5f-5b50f5745bf7"
      },
      "execution_count": 80,
      "outputs": [
        {
          "output_type": "stream",
          "name": "stdout",
          "text": [
            "Epoch 7/100\n",
            "20/20 [==============================] - 1s 2ms/step - loss: 0.4863 - accuracy: 0.7655\n",
            "Epoch 8/100\n",
            "20/20 [==============================] - 0s 3ms/step - loss: 0.4724 - accuracy: 0.7687\n",
            "Epoch 9/100\n",
            "20/20 [==============================] - 0s 2ms/step - loss: 0.4631 - accuracy: 0.7704\n",
            "Epoch 10/100\n",
            "20/20 [==============================] - 0s 2ms/step - loss: 0.4559 - accuracy: 0.7818\n",
            "Epoch 11/100\n",
            "20/20 [==============================] - 0s 2ms/step - loss: 0.4508 - accuracy: 0.7866\n",
            "Epoch 12/100\n",
            "20/20 [==============================] - 0s 2ms/step - loss: 0.4474 - accuracy: 0.7866\n",
            "Epoch 13/100\n",
            "20/20 [==============================] - 0s 2ms/step - loss: 0.4431 - accuracy: 0.7883\n",
            "Epoch 14/100\n",
            "20/20 [==============================] - 0s 4ms/step - loss: 0.4407 - accuracy: 0.7964\n",
            "Epoch 15/100\n",
            "20/20 [==============================] - 0s 2ms/step - loss: 0.4377 - accuracy: 0.7932\n",
            "Epoch 16/100\n",
            "20/20 [==============================] - 0s 2ms/step - loss: 0.4354 - accuracy: 0.7883\n",
            "Epoch 17/100\n",
            "20/20 [==============================] - 0s 3ms/step - loss: 0.4329 - accuracy: 0.7932\n",
            "Epoch 18/100\n",
            "20/20 [==============================] - 0s 2ms/step - loss: 0.4318 - accuracy: 0.7932\n",
            "Epoch 19/100\n",
            "20/20 [==============================] - 0s 2ms/step - loss: 0.4300 - accuracy: 0.7932\n",
            "Epoch 20/100\n",
            "20/20 [==============================] - 0s 2ms/step - loss: 0.4285 - accuracy: 0.7964\n",
            "Epoch 21/100\n",
            "20/20 [==============================] - 0s 2ms/step - loss: 0.4270 - accuracy: 0.7980\n",
            "Epoch 22/100\n",
            "20/20 [==============================] - 0s 2ms/step - loss: 0.4256 - accuracy: 0.8029\n",
            "Epoch 23/100\n",
            "20/20 [==============================] - 0s 2ms/step - loss: 0.4242 - accuracy: 0.7964\n",
            "Epoch 24/100\n",
            "20/20 [==============================] - 0s 2ms/step - loss: 0.4238 - accuracy: 0.7964\n",
            "Epoch 25/100\n",
            "20/20 [==============================] - 0s 2ms/step - loss: 0.4216 - accuracy: 0.7964\n",
            "Epoch 26/100\n",
            "20/20 [==============================] - 0s 2ms/step - loss: 0.4204 - accuracy: 0.7964\n",
            "Epoch 27/100\n",
            "20/20 [==============================] - 0s 3ms/step - loss: 0.4195 - accuracy: 0.7980\n",
            "Epoch 28/100\n",
            "20/20 [==============================] - 0s 2ms/step - loss: 0.4183 - accuracy: 0.8062\n",
            "Epoch 29/100\n",
            "20/20 [==============================] - 0s 2ms/step - loss: 0.4177 - accuracy: 0.8143\n",
            "Epoch 30/100\n",
            "20/20 [==============================] - 0s 3ms/step - loss: 0.4170 - accuracy: 0.7997\n",
            "Epoch 31/100\n",
            "20/20 [==============================] - 0s 2ms/step - loss: 0.4157 - accuracy: 0.7915\n",
            "Epoch 32/100\n",
            "20/20 [==============================] - 0s 2ms/step - loss: 0.4144 - accuracy: 0.8078\n",
            "Epoch 33/100\n",
            "20/20 [==============================] - 0s 2ms/step - loss: 0.4133 - accuracy: 0.8062\n",
            "Epoch 34/100\n",
            "20/20 [==============================] - 0s 2ms/step - loss: 0.4122 - accuracy: 0.7980\n",
            "Epoch 35/100\n",
            "20/20 [==============================] - 0s 2ms/step - loss: 0.4114 - accuracy: 0.8029\n",
            "Epoch 36/100\n",
            "20/20 [==============================] - 0s 2ms/step - loss: 0.4112 - accuracy: 0.8078\n",
            "Epoch 37/100\n",
            "20/20 [==============================] - 0s 2ms/step - loss: 0.4098 - accuracy: 0.8094\n",
            "Epoch 38/100\n",
            "20/20 [==============================] - 0s 2ms/step - loss: 0.4088 - accuracy: 0.8046\n",
            "Epoch 39/100\n",
            "20/20 [==============================] - 0s 2ms/step - loss: 0.4070 - accuracy: 0.8111\n",
            "Epoch 40/100\n",
            "20/20 [==============================] - 0s 2ms/step - loss: 0.4068 - accuracy: 0.8078\n",
            "Epoch 41/100\n",
            "20/20 [==============================] - 0s 2ms/step - loss: 0.4061 - accuracy: 0.8046\n",
            "Epoch 42/100\n",
            "20/20 [==============================] - 0s 2ms/step - loss: 0.4055 - accuracy: 0.8078\n",
            "Epoch 43/100\n",
            "20/20 [==============================] - 0s 2ms/step - loss: 0.4044 - accuracy: 0.8094\n",
            "Epoch 44/100\n",
            "20/20 [==============================] - 0s 2ms/step - loss: 0.4039 - accuracy: 0.8094\n",
            "Epoch 45/100\n",
            "20/20 [==============================] - 0s 2ms/step - loss: 0.4037 - accuracy: 0.8111\n",
            "Epoch 46/100\n",
            "20/20 [==============================] - 0s 2ms/step - loss: 0.4016 - accuracy: 0.8094\n",
            "Epoch 47/100\n",
            "20/20 [==============================] - 0s 2ms/step - loss: 0.4011 - accuracy: 0.8094\n",
            "Epoch 48/100\n",
            "20/20 [==============================] - 0s 2ms/step - loss: 0.4005 - accuracy: 0.8078\n",
            "Epoch 49/100\n",
            "20/20 [==============================] - 0s 2ms/step - loss: 0.4000 - accuracy: 0.8111\n",
            "Epoch 50/100\n",
            "20/20 [==============================] - 0s 2ms/step - loss: 0.3993 - accuracy: 0.8127\n",
            "Epoch 51/100\n",
            "20/20 [==============================] - 0s 2ms/step - loss: 0.3987 - accuracy: 0.8127\n",
            "Epoch 52/100\n",
            "20/20 [==============================] - 0s 2ms/step - loss: 0.3985 - accuracy: 0.8127\n",
            "Epoch 53/100\n",
            "20/20 [==============================] - 0s 2ms/step - loss: 0.3975 - accuracy: 0.8111\n",
            "Epoch 54/100\n",
            "20/20 [==============================] - 0s 2ms/step - loss: 0.3959 - accuracy: 0.8160\n",
            "Epoch 55/100\n",
            "20/20 [==============================] - 0s 2ms/step - loss: 0.3957 - accuracy: 0.8176\n",
            "Epoch 56/100\n",
            "20/20 [==============================] - 0s 2ms/step - loss: 0.3953 - accuracy: 0.8160\n",
            "Epoch 57/100\n",
            "20/20 [==============================] - 0s 2ms/step - loss: 0.3966 - accuracy: 0.8241\n",
            "Epoch 58/100\n",
            "20/20 [==============================] - 0s 2ms/step - loss: 0.3932 - accuracy: 0.8225\n",
            "Epoch 59/100\n",
            "20/20 [==============================] - 0s 2ms/step - loss: 0.3935 - accuracy: 0.8208\n",
            "Epoch 60/100\n",
            "20/20 [==============================] - 0s 2ms/step - loss: 0.3933 - accuracy: 0.8192\n",
            "Epoch 61/100\n",
            "20/20 [==============================] - 0s 2ms/step - loss: 0.3925 - accuracy: 0.8241\n",
            "Epoch 62/100\n",
            "20/20 [==============================] - 0s 2ms/step - loss: 0.3914 - accuracy: 0.8225\n",
            "Epoch 63/100\n",
            "20/20 [==============================] - 0s 2ms/step - loss: 0.3905 - accuracy: 0.8143\n",
            "Epoch 64/100\n",
            "20/20 [==============================] - 0s 2ms/step - loss: 0.3917 - accuracy: 0.8225\n",
            "Epoch 65/100\n",
            "20/20 [==============================] - 0s 3ms/step - loss: 0.3894 - accuracy: 0.8225\n",
            "Epoch 66/100\n",
            "20/20 [==============================] - 0s 3ms/step - loss: 0.3906 - accuracy: 0.8192\n",
            "Epoch 67/100\n",
            "20/20 [==============================] - 0s 2ms/step - loss: 0.3890 - accuracy: 0.8225\n",
            "Epoch 68/100\n",
            "20/20 [==============================] - 0s 2ms/step - loss: 0.3884 - accuracy: 0.8208\n",
            "Epoch 69/100\n",
            "20/20 [==============================] - 0s 2ms/step - loss: 0.3879 - accuracy: 0.8241\n",
            "Epoch 70/100\n",
            "20/20 [==============================] - 0s 2ms/step - loss: 0.3880 - accuracy: 0.8225\n",
            "Epoch 71/100\n",
            "20/20 [==============================] - 0s 2ms/step - loss: 0.3869 - accuracy: 0.8225\n",
            "Epoch 72/100\n",
            "20/20 [==============================] - 0s 2ms/step - loss: 0.3871 - accuracy: 0.8225\n",
            "Epoch 73/100\n",
            "20/20 [==============================] - 0s 2ms/step - loss: 0.3856 - accuracy: 0.8322\n",
            "Epoch 74/100\n",
            "20/20 [==============================] - 0s 2ms/step - loss: 0.3849 - accuracy: 0.8290\n",
            "Epoch 75/100\n",
            "20/20 [==============================] - 0s 2ms/step - loss: 0.3845 - accuracy: 0.8257\n",
            "Epoch 76/100\n",
            "20/20 [==============================] - 0s 2ms/step - loss: 0.3841 - accuracy: 0.8257\n",
            "Epoch 77/100\n",
            "20/20 [==============================] - 0s 2ms/step - loss: 0.3842 - accuracy: 0.8241\n",
            "Epoch 78/100\n",
            "20/20 [==============================] - 0s 2ms/step - loss: 0.3837 - accuracy: 0.8225\n",
            "Epoch 79/100\n",
            "20/20 [==============================] - 0s 2ms/step - loss: 0.3832 - accuracy: 0.8225\n",
            "Epoch 80/100\n",
            "20/20 [==============================] - 0s 2ms/step - loss: 0.3821 - accuracy: 0.8241\n",
            "Epoch 81/100\n",
            "20/20 [==============================] - 0s 3ms/step - loss: 0.3814 - accuracy: 0.8257\n",
            "Epoch 82/100\n",
            "20/20 [==============================] - 0s 2ms/step - loss: 0.3819 - accuracy: 0.8241\n",
            "Epoch 83/100\n",
            "20/20 [==============================] - 0s 2ms/step - loss: 0.3811 - accuracy: 0.8208\n",
            "Epoch 84/100\n",
            "20/20 [==============================] - 0s 2ms/step - loss: 0.3802 - accuracy: 0.8225\n",
            "Epoch 85/100\n",
            "20/20 [==============================] - 0s 2ms/step - loss: 0.3801 - accuracy: 0.8257\n",
            "Epoch 86/100\n",
            "20/20 [==============================] - 0s 2ms/step - loss: 0.3778 - accuracy: 0.8241\n",
            "Epoch 87/100\n",
            "20/20 [==============================] - 0s 2ms/step - loss: 0.3781 - accuracy: 0.8274\n",
            "Epoch 88/100\n",
            "20/20 [==============================] - 0s 2ms/step - loss: 0.3784 - accuracy: 0.8306\n",
            "Epoch 89/100\n",
            "20/20 [==============================] - 0s 2ms/step - loss: 0.3778 - accuracy: 0.8322\n",
            "Epoch 90/100\n",
            "20/20 [==============================] - 0s 2ms/step - loss: 0.3787 - accuracy: 0.8192\n",
            "Epoch 91/100\n",
            "20/20 [==============================] - 0s 2ms/step - loss: 0.3767 - accuracy: 0.8225\n",
            "Epoch 92/100\n",
            "20/20 [==============================] - 0s 2ms/step - loss: 0.3767 - accuracy: 0.8225\n",
            "Epoch 93/100\n",
            "20/20 [==============================] - 0s 2ms/step - loss: 0.3780 - accuracy: 0.8306\n",
            "Epoch 94/100\n",
            "20/20 [==============================] - 0s 2ms/step - loss: 0.3749 - accuracy: 0.8241\n",
            "Epoch 95/100\n",
            "20/20 [==============================] - 0s 2ms/step - loss: 0.3752 - accuracy: 0.8274\n",
            "Epoch 96/100\n",
            "20/20 [==============================] - 0s 2ms/step - loss: 0.3744 - accuracy: 0.8339\n",
            "Epoch 97/100\n",
            "20/20 [==============================] - 0s 2ms/step - loss: 0.3732 - accuracy: 0.8274\n",
            "Epoch 98/100\n",
            "20/20 [==============================] - 0s 2ms/step - loss: 0.3743 - accuracy: 0.8290\n",
            "Epoch 99/100\n",
            "20/20 [==============================] - 0s 2ms/step - loss: 0.3732 - accuracy: 0.8322\n",
            "Epoch 100/100\n",
            "20/20 [==============================] - 0s 2ms/step - loss: 0.3730 - accuracy: 0.8322\n"
          ]
        },
        {
          "output_type": "execute_result",
          "data": {
            "text/plain": [
              "<keras.callbacks.History at 0x79fff9ec7520>"
            ]
          },
          "metadata": {},
          "execution_count": 80
        }
      ]
    },
    {
      "cell_type": "code",
      "source": [
        "#How to select number of layers?"
      ],
      "metadata": {
        "id": "sNkp6UlMtKyx"
      },
      "execution_count": 81,
      "outputs": []
    },
    {
      "cell_type": "code",
      "source": [
        "def build_model(hp):\n",
        "\n",
        "  model = Sequential()\n",
        "\n",
        "  model.add(Dense(104,activation='relu',input_dim=8))\n",
        "\n",
        "  for i in range(hp.Int('num_layers',min_value = 1,max_value = 10,step = 1)):\n",
        "    model.add(Dense(104,activation='relu'))\n",
        "\n",
        "  model.add(Dense(1,activation = 'sigmoid'))\n",
        "\n",
        "  model.compile(optimizer='adam',loss='binary_crossentropy',metrics = ['accuracy'])\n",
        "\n",
        "  return model"
      ],
      "metadata": {
        "id": "wjDSZCD5uCJV"
      },
      "execution_count": 84,
      "outputs": []
    },
    {
      "cell_type": "code",
      "source": [
        "tuner = kt.RandomSearch(build_model,\n",
        "                        objective = 'val_accuracy',\n",
        "                        max_trials= 5,\n",
        "                        directory = 'mydir',\n",
        "                        project_name='num_layers')"
      ],
      "metadata": {
        "id": "LDeXhM8qvsQG"
      },
      "execution_count": 85,
      "outputs": []
    },
    {
      "cell_type": "code",
      "source": [
        "tuner.search(X_train,y_train,epochs = 5,validation_data = (X_test,y_test))"
      ],
      "metadata": {
        "colab": {
          "base_uri": "https://localhost:8080/"
        },
        "id": "eGpbzsEOwQ_2",
        "outputId": "31b8ca44-accf-46a8-d4f1-d9296aa27660"
      },
      "execution_count": 86,
      "outputs": [
        {
          "output_type": "stream",
          "name": "stdout",
          "text": [
            "Trial 5 Complete [00h 00m 04s]\n",
            "val_accuracy: 0.7272727489471436\n",
            "\n",
            "Best val_accuracy So Far: 0.7857142686843872\n",
            "Total elapsed time: 00h 00m 17s\n"
          ]
        }
      ]
    },
    {
      "cell_type": "code",
      "source": [
        "tuner.get_best_hyperparameters()[0].values"
      ],
      "metadata": {
        "colab": {
          "base_uri": "https://localhost:8080/"
        },
        "id": "894karzmwmMF",
        "outputId": "5ccef519-cae0-4571-b764-16cd7c0e7add"
      },
      "execution_count": 87,
      "outputs": [
        {
          "output_type": "execute_result",
          "data": {
            "text/plain": [
              "{'num_layers': 2}"
            ]
          },
          "metadata": {},
          "execution_count": 87
        }
      ]
    },
    {
      "cell_type": "code",
      "source": [
        "model = tuner.get_best_models(num_models=1)[0]"
      ],
      "metadata": {
        "id": "4i51BBL-w41l"
      },
      "execution_count": 88,
      "outputs": []
    },
    {
      "cell_type": "code",
      "source": [
        "model.fit(X_train,y_train,epochs = 100,initial_epoch=6,validation_data=(X_test,y_test))"
      ],
      "metadata": {
        "colab": {
          "base_uri": "https://localhost:8080/"
        },
        "id": "-evOdDCcxF3t",
        "outputId": "53a56725-8dd2-451e-b685-d2fadf9cdaca"
      },
      "execution_count": 89,
      "outputs": [
        {
          "output_type": "stream",
          "name": "stdout",
          "text": [
            "Epoch 7/100\n",
            "20/20 [==============================] - 2s 14ms/step - loss: 0.4573 - accuracy: 0.7899 - val_loss: 0.5058 - val_accuracy: 0.7727\n",
            "Epoch 8/100\n",
            "20/20 [==============================] - 0s 6ms/step - loss: 0.4386 - accuracy: 0.7932 - val_loss: 0.5155 - val_accuracy: 0.7597\n",
            "Epoch 9/100\n",
            "20/20 [==============================] - 0s 7ms/step - loss: 0.4281 - accuracy: 0.8046 - val_loss: 0.5142 - val_accuracy: 0.7727\n",
            "Epoch 10/100\n",
            "20/20 [==============================] - 0s 7ms/step - loss: 0.4190 - accuracy: 0.8078 - val_loss: 0.5277 - val_accuracy: 0.7662\n",
            "Epoch 11/100\n",
            "20/20 [==============================] - 0s 7ms/step - loss: 0.4152 - accuracy: 0.8029 - val_loss: 0.5405 - val_accuracy: 0.7468\n",
            "Epoch 12/100\n",
            "20/20 [==============================] - 0s 7ms/step - loss: 0.4029 - accuracy: 0.8029 - val_loss: 0.5297 - val_accuracy: 0.7403\n",
            "Epoch 13/100\n",
            "20/20 [==============================] - 0s 7ms/step - loss: 0.3958 - accuracy: 0.8160 - val_loss: 0.5402 - val_accuracy: 0.7532\n",
            "Epoch 14/100\n",
            "20/20 [==============================] - 0s 7ms/step - loss: 0.3933 - accuracy: 0.8257 - val_loss: 0.5420 - val_accuracy: 0.7597\n",
            "Epoch 15/100\n",
            "20/20 [==============================] - 0s 6ms/step - loss: 0.3892 - accuracy: 0.8225 - val_loss: 0.5440 - val_accuracy: 0.7403\n",
            "Epoch 16/100\n",
            "20/20 [==============================] - 0s 6ms/step - loss: 0.3699 - accuracy: 0.8371 - val_loss: 0.5619 - val_accuracy: 0.7597\n",
            "Epoch 17/100\n",
            "20/20 [==============================] - 0s 6ms/step - loss: 0.3889 - accuracy: 0.8322 - val_loss: 0.5604 - val_accuracy: 0.7403\n",
            "Epoch 18/100\n",
            "20/20 [==============================] - 0s 7ms/step - loss: 0.3715 - accuracy: 0.8355 - val_loss: 0.5513 - val_accuracy: 0.7468\n",
            "Epoch 19/100\n",
            "20/20 [==============================] - 0s 7ms/step - loss: 0.3565 - accuracy: 0.8436 - val_loss: 0.5643 - val_accuracy: 0.7532\n",
            "Epoch 20/100\n",
            "20/20 [==============================] - 0s 7ms/step - loss: 0.3557 - accuracy: 0.8339 - val_loss: 0.5822 - val_accuracy: 0.7403\n",
            "Epoch 21/100\n",
            "20/20 [==============================] - 0s 7ms/step - loss: 0.3491 - accuracy: 0.8404 - val_loss: 0.5698 - val_accuracy: 0.7468\n",
            "Epoch 22/100\n",
            "20/20 [==============================] - 0s 7ms/step - loss: 0.3428 - accuracy: 0.8469 - val_loss: 0.5785 - val_accuracy: 0.7403\n",
            "Epoch 23/100\n",
            "20/20 [==============================] - 0s 6ms/step - loss: 0.3329 - accuracy: 0.8469 - val_loss: 0.5979 - val_accuracy: 0.7403\n",
            "Epoch 24/100\n",
            "20/20 [==============================] - 0s 7ms/step - loss: 0.3232 - accuracy: 0.8664 - val_loss: 0.5991 - val_accuracy: 0.7403\n",
            "Epoch 25/100\n",
            "20/20 [==============================] - 0s 7ms/step - loss: 0.3196 - accuracy: 0.8616 - val_loss: 0.6066 - val_accuracy: 0.7338\n",
            "Epoch 26/100\n",
            "20/20 [==============================] - 0s 7ms/step - loss: 0.3003 - accuracy: 0.8616 - val_loss: 0.5982 - val_accuracy: 0.7403\n",
            "Epoch 27/100\n",
            "20/20 [==============================] - 0s 8ms/step - loss: 0.2948 - accuracy: 0.8844 - val_loss: 0.6273 - val_accuracy: 0.7273\n",
            "Epoch 28/100\n",
            "20/20 [==============================] - 0s 8ms/step - loss: 0.3056 - accuracy: 0.8779 - val_loss: 0.6492 - val_accuracy: 0.7208\n",
            "Epoch 29/100\n",
            "20/20 [==============================] - 0s 6ms/step - loss: 0.2884 - accuracy: 0.8876 - val_loss: 0.6579 - val_accuracy: 0.7468\n",
            "Epoch 30/100\n",
            "20/20 [==============================] - 0s 4ms/step - loss: 0.2703 - accuracy: 0.8860 - val_loss: 0.6601 - val_accuracy: 0.7143\n",
            "Epoch 31/100\n",
            "20/20 [==============================] - 0s 4ms/step - loss: 0.2605 - accuracy: 0.8941 - val_loss: 0.6980 - val_accuracy: 0.7208\n",
            "Epoch 32/100\n",
            "20/20 [==============================] - 0s 5ms/step - loss: 0.2512 - accuracy: 0.9088 - val_loss: 0.7074 - val_accuracy: 0.7273\n",
            "Epoch 33/100\n",
            "20/20 [==============================] - 0s 4ms/step - loss: 0.2541 - accuracy: 0.9039 - val_loss: 0.7514 - val_accuracy: 0.7273\n",
            "Epoch 34/100\n",
            "20/20 [==============================] - 0s 5ms/step - loss: 0.2442 - accuracy: 0.8974 - val_loss: 0.7608 - val_accuracy: 0.7338\n",
            "Epoch 35/100\n",
            "20/20 [==============================] - 0s 6ms/step - loss: 0.2573 - accuracy: 0.8941 - val_loss: 0.7522 - val_accuracy: 0.7403\n",
            "Epoch 36/100\n",
            "20/20 [==============================] - 0s 6ms/step - loss: 0.2360 - accuracy: 0.9186 - val_loss: 0.7807 - val_accuracy: 0.7403\n",
            "Epoch 37/100\n",
            "20/20 [==============================] - 0s 5ms/step - loss: 0.2121 - accuracy: 0.9251 - val_loss: 0.7791 - val_accuracy: 0.7208\n",
            "Epoch 38/100\n",
            "20/20 [==============================] - 0s 4ms/step - loss: 0.2087 - accuracy: 0.9169 - val_loss: 0.8277 - val_accuracy: 0.7403\n",
            "Epoch 39/100\n",
            "20/20 [==============================] - 0s 5ms/step - loss: 0.2012 - accuracy: 0.9267 - val_loss: 0.8663 - val_accuracy: 0.7273\n",
            "Epoch 40/100\n",
            "20/20 [==============================] - 0s 4ms/step - loss: 0.1866 - accuracy: 0.9365 - val_loss: 0.8792 - val_accuracy: 0.7273\n",
            "Epoch 41/100\n",
            "20/20 [==============================] - 0s 5ms/step - loss: 0.1782 - accuracy: 0.9414 - val_loss: 0.8952 - val_accuracy: 0.7338\n",
            "Epoch 42/100\n",
            "20/20 [==============================] - 0s 4ms/step - loss: 0.1662 - accuracy: 0.9560 - val_loss: 0.9149 - val_accuracy: 0.7273\n",
            "Epoch 43/100\n",
            "20/20 [==============================] - 0s 4ms/step - loss: 0.1717 - accuracy: 0.9511 - val_loss: 0.9782 - val_accuracy: 0.7208\n",
            "Epoch 44/100\n",
            "20/20 [==============================] - 0s 4ms/step - loss: 0.1551 - accuracy: 0.9511 - val_loss: 0.9686 - val_accuracy: 0.7143\n",
            "Epoch 45/100\n",
            "20/20 [==============================] - 0s 5ms/step - loss: 0.1518 - accuracy: 0.9528 - val_loss: 1.0168 - val_accuracy: 0.7208\n",
            "Epoch 46/100\n",
            "20/20 [==============================] - 0s 4ms/step - loss: 0.1589 - accuracy: 0.9593 - val_loss: 0.9480 - val_accuracy: 0.7532\n",
            "Epoch 47/100\n",
            "20/20 [==============================] - 0s 6ms/step - loss: 0.1476 - accuracy: 0.9463 - val_loss: 1.0027 - val_accuracy: 0.7403\n",
            "Epoch 48/100\n",
            "20/20 [==============================] - 0s 4ms/step - loss: 0.1352 - accuracy: 0.9560 - val_loss: 1.0682 - val_accuracy: 0.7208\n",
            "Epoch 49/100\n",
            "20/20 [==============================] - 0s 4ms/step - loss: 0.1246 - accuracy: 0.9658 - val_loss: 1.0392 - val_accuracy: 0.7143\n",
            "Epoch 50/100\n",
            "20/20 [==============================] - 0s 5ms/step - loss: 0.1185 - accuracy: 0.9658 - val_loss: 1.1844 - val_accuracy: 0.7208\n",
            "Epoch 51/100\n",
            "20/20 [==============================] - 0s 5ms/step - loss: 0.1392 - accuracy: 0.9528 - val_loss: 1.2644 - val_accuracy: 0.7208\n",
            "Epoch 52/100\n",
            "20/20 [==============================] - 0s 4ms/step - loss: 0.1553 - accuracy: 0.9446 - val_loss: 1.1609 - val_accuracy: 0.7338\n",
            "Epoch 53/100\n",
            "20/20 [==============================] - 0s 4ms/step - loss: 0.1169 - accuracy: 0.9625 - val_loss: 1.1047 - val_accuracy: 0.7597\n",
            "Epoch 54/100\n",
            "20/20 [==============================] - 0s 4ms/step - loss: 0.1077 - accuracy: 0.9723 - val_loss: 1.2174 - val_accuracy: 0.7468\n",
            "Epoch 55/100\n",
            "20/20 [==============================] - 0s 5ms/step - loss: 0.0980 - accuracy: 0.9739 - val_loss: 1.2248 - val_accuracy: 0.7208\n",
            "Epoch 56/100\n",
            "20/20 [==============================] - 0s 5ms/step - loss: 0.0943 - accuracy: 0.9739 - val_loss: 1.2885 - val_accuracy: 0.7403\n",
            "Epoch 57/100\n",
            "20/20 [==============================] - 0s 5ms/step - loss: 0.0911 - accuracy: 0.9756 - val_loss: 1.2426 - val_accuracy: 0.7338\n",
            "Epoch 58/100\n",
            "20/20 [==============================] - 0s 4ms/step - loss: 0.1670 - accuracy: 0.9414 - val_loss: 1.4505 - val_accuracy: 0.7013\n",
            "Epoch 59/100\n",
            "20/20 [==============================] - 0s 5ms/step - loss: 0.1146 - accuracy: 0.9625 - val_loss: 1.3014 - val_accuracy: 0.7078\n",
            "Epoch 60/100\n",
            "20/20 [==============================] - 0s 4ms/step - loss: 0.0969 - accuracy: 0.9674 - val_loss: 1.3251 - val_accuracy: 0.7208\n",
            "Epoch 61/100\n",
            "20/20 [==============================] - 0s 4ms/step - loss: 0.0760 - accuracy: 0.9805 - val_loss: 1.4127 - val_accuracy: 0.7273\n",
            "Epoch 62/100\n",
            "20/20 [==============================] - 0s 5ms/step - loss: 0.0674 - accuracy: 0.9853 - val_loss: 1.4503 - val_accuracy: 0.7273\n",
            "Epoch 63/100\n",
            "20/20 [==============================] - 0s 6ms/step - loss: 0.0631 - accuracy: 0.9886 - val_loss: 1.4053 - val_accuracy: 0.7338\n",
            "Epoch 64/100\n",
            "20/20 [==============================] - 0s 4ms/step - loss: 0.0535 - accuracy: 0.9886 - val_loss: 1.4620 - val_accuracy: 0.7403\n",
            "Epoch 65/100\n",
            "20/20 [==============================] - 0s 5ms/step - loss: 0.0662 - accuracy: 0.9805 - val_loss: 1.4430 - val_accuracy: 0.7273\n",
            "Epoch 66/100\n",
            "20/20 [==============================] - 0s 4ms/step - loss: 0.0577 - accuracy: 0.9788 - val_loss: 1.5303 - val_accuracy: 0.7403\n",
            "Epoch 67/100\n",
            "20/20 [==============================] - 0s 5ms/step - loss: 0.0739 - accuracy: 0.9805 - val_loss: 1.5027 - val_accuracy: 0.7273\n",
            "Epoch 68/100\n",
            "20/20 [==============================] - 0s 4ms/step - loss: 0.0532 - accuracy: 0.9886 - val_loss: 1.5490 - val_accuracy: 0.7143\n",
            "Epoch 69/100\n",
            "20/20 [==============================] - 0s 5ms/step - loss: 0.0474 - accuracy: 0.9853 - val_loss: 1.5932 - val_accuracy: 0.7338\n",
            "Epoch 70/100\n",
            "20/20 [==============================] - 0s 4ms/step - loss: 0.0447 - accuracy: 0.9870 - val_loss: 1.6422 - val_accuracy: 0.7403\n",
            "Epoch 71/100\n",
            "20/20 [==============================] - 0s 4ms/step - loss: 0.0426 - accuracy: 0.9902 - val_loss: 1.6205 - val_accuracy: 0.7338\n",
            "Epoch 72/100\n",
            "20/20 [==============================] - 0s 6ms/step - loss: 0.0395 - accuracy: 0.9902 - val_loss: 1.6654 - val_accuracy: 0.7273\n",
            "Epoch 73/100\n",
            "20/20 [==============================] - 0s 6ms/step - loss: 0.0336 - accuracy: 0.9951 - val_loss: 1.6985 - val_accuracy: 0.7208\n",
            "Epoch 74/100\n",
            "20/20 [==============================] - 0s 4ms/step - loss: 0.0364 - accuracy: 0.9919 - val_loss: 1.6641 - val_accuracy: 0.7273\n",
            "Epoch 75/100\n",
            "20/20 [==============================] - 0s 4ms/step - loss: 0.0512 - accuracy: 0.9886 - val_loss: 1.7127 - val_accuracy: 0.7143\n",
            "Epoch 76/100\n",
            "20/20 [==============================] - 0s 5ms/step - loss: 0.0398 - accuracy: 0.9919 - val_loss: 1.6959 - val_accuracy: 0.7338\n",
            "Epoch 77/100\n",
            "20/20 [==============================] - 0s 4ms/step - loss: 0.0358 - accuracy: 0.9935 - val_loss: 1.7633 - val_accuracy: 0.7273\n",
            "Epoch 78/100\n",
            "20/20 [==============================] - 0s 4ms/step - loss: 0.0379 - accuracy: 0.9886 - val_loss: 1.7840 - val_accuracy: 0.7273\n",
            "Epoch 79/100\n",
            "20/20 [==============================] - 0s 5ms/step - loss: 0.0314 - accuracy: 0.9951 - val_loss: 1.7928 - val_accuracy: 0.7208\n",
            "Epoch 80/100\n",
            "20/20 [==============================] - 0s 6ms/step - loss: 0.0284 - accuracy: 0.9919 - val_loss: 1.8586 - val_accuracy: 0.7273\n",
            "Epoch 81/100\n",
            "20/20 [==============================] - 0s 4ms/step - loss: 0.0229 - accuracy: 0.9967 - val_loss: 1.8336 - val_accuracy: 0.7403\n",
            "Epoch 82/100\n",
            "20/20 [==============================] - 0s 5ms/step - loss: 0.0231 - accuracy: 0.9935 - val_loss: 1.8889 - val_accuracy: 0.7403\n",
            "Epoch 83/100\n",
            "20/20 [==============================] - 0s 4ms/step - loss: 0.0187 - accuracy: 0.9967 - val_loss: 1.8971 - val_accuracy: 0.7403\n",
            "Epoch 84/100\n",
            "20/20 [==============================] - 0s 5ms/step - loss: 0.0182 - accuracy: 0.9984 - val_loss: 1.9398 - val_accuracy: 0.7208\n",
            "Epoch 85/100\n",
            "20/20 [==============================] - 0s 4ms/step - loss: 0.0197 - accuracy: 0.9967 - val_loss: 1.9576 - val_accuracy: 0.7273\n",
            "Epoch 86/100\n",
            "20/20 [==============================] - 0s 5ms/step - loss: 0.0308 - accuracy: 0.9902 - val_loss: 2.1130 - val_accuracy: 0.7078\n",
            "Epoch 87/100\n",
            "20/20 [==============================] - 0s 5ms/step - loss: 0.0250 - accuracy: 0.9967 - val_loss: 2.0617 - val_accuracy: 0.7208\n",
            "Epoch 88/100\n",
            "20/20 [==============================] - 0s 4ms/step - loss: 0.0378 - accuracy: 0.9805 - val_loss: 2.1568 - val_accuracy: 0.7013\n",
            "Epoch 89/100\n",
            "20/20 [==============================] - 0s 4ms/step - loss: 0.0739 - accuracy: 0.9772 - val_loss: 2.3092 - val_accuracy: 0.6688\n",
            "Epoch 90/100\n",
            "20/20 [==============================] - 0s 5ms/step - loss: 0.0574 - accuracy: 0.9805 - val_loss: 2.0016 - val_accuracy: 0.7208\n",
            "Epoch 91/100\n",
            "20/20 [==============================] - 0s 4ms/step - loss: 0.0696 - accuracy: 0.9821 - val_loss: 2.0527 - val_accuracy: 0.6948\n",
            "Epoch 92/100\n",
            "20/20 [==============================] - 0s 5ms/step - loss: 0.0523 - accuracy: 0.9853 - val_loss: 1.9744 - val_accuracy: 0.7013\n",
            "Epoch 93/100\n",
            "20/20 [==============================] - 0s 4ms/step - loss: 0.0549 - accuracy: 0.9772 - val_loss: 1.8948 - val_accuracy: 0.7273\n",
            "Epoch 94/100\n",
            "20/20 [==============================] - 0s 5ms/step - loss: 0.0428 - accuracy: 0.9853 - val_loss: 2.0970 - val_accuracy: 0.7208\n",
            "Epoch 95/100\n",
            "20/20 [==============================] - 0s 5ms/step - loss: 0.0444 - accuracy: 0.9919 - val_loss: 2.0435 - val_accuracy: 0.7143\n",
            "Epoch 96/100\n",
            "20/20 [==============================] - 0s 6ms/step - loss: 0.0697 - accuracy: 0.9821 - val_loss: 2.1535 - val_accuracy: 0.6883\n",
            "Epoch 97/100\n",
            "20/20 [==============================] - 0s 5ms/step - loss: 0.0499 - accuracy: 0.9772 - val_loss: 2.1001 - val_accuracy: 0.7078\n",
            "Epoch 98/100\n",
            "20/20 [==============================] - 0s 4ms/step - loss: 0.0219 - accuracy: 0.9967 - val_loss: 2.2075 - val_accuracy: 0.7078\n",
            "Epoch 99/100\n",
            "20/20 [==============================] - 0s 5ms/step - loss: 0.0202 - accuracy: 0.9951 - val_loss: 2.1045 - val_accuracy: 0.7208\n",
            "Epoch 100/100\n",
            "20/20 [==============================] - 0s 5ms/step - loss: 0.0161 - accuracy: 0.9967 - val_loss: 2.1703 - val_accuracy: 0.7078\n"
          ]
        },
        {
          "output_type": "execute_result",
          "data": {
            "text/plain": [
              "<keras.callbacks.History at 0x79fffa70b250>"
            ]
          },
          "metadata": {},
          "execution_count": 89
        }
      ]
    },
    {
      "cell_type": "code",
      "source": [
        "#hypertuning multiple parameters\n",
        "\n",
        "def build_model(hp):\n",
        "  model = Sequential()\n",
        "\n",
        "  counter = 0\n",
        "\n",
        "  for i in range(hp.Int('num_layers',min_value = 1,max_value = 10,step = 1)):\n",
        "    if counter == 0:\n",
        "      model.add(Dense(hp.Int('units'+str(i),min_value = 8, max_value = 128,step = 8),\n",
        "                      activation = hp.Choice(\"activation\"+str(i),values=['relu','tanh','sigmoid','elu']),\n",
        "                      input_dim = 8))\n",
        "      model.add(Dropout(hp.Choice('Dropout'+str(i),values=[0.1,0.2,0.3,0.4,0.5,0.6,0.7,0.8,0.9])))\n",
        "    else:\n",
        "      model.add(Dense(hp.Int('units'+str(i),min_value = 8, max_value = 128,step = 8),\n",
        "                      activation = hp.Choice(\"activation\"+str(i),values=['relu','tanh','sigmoid','elu'])))\n",
        "      model.add(Dropout(hp.Choice('Dropout'+str(i),values=[0.1,0.2,0.3,0.4,0.5,0.6,0.7,0.8,0.9])))\n",
        "\n",
        "    counter+=1\n",
        "\n",
        "  model.add(Dense(1,activation = 'sigmoid'))\n",
        "\n",
        "  model.compile(optimizer = hp.Choice('optimizer',values=['rmsprop','adam','sgd','adadelta','nadam']),\n",
        "                loss = 'binary_crossentropy',\n",
        "                metrics = ['accuracy'])\n",
        "\n",
        "  return model"
      ],
      "metadata": {
        "id": "RvHcOsdMxYJ9"
      },
      "execution_count": 107,
      "outputs": []
    },
    {
      "cell_type": "code",
      "source": [
        "tuner = kt.RandomSearch(build_model,\n",
        "                        objective = 'val_accuracy',\n",
        "                        max_trials = 3,\n",
        "                        directory = 'mydir',\n",
        "                        project_name = 'final_1')"
      ],
      "metadata": {
        "id": "tH6IslhC4XH3"
      },
      "execution_count": 108,
      "outputs": []
    },
    {
      "cell_type": "code",
      "source": [
        "tuner.search(X_train,y_train,epochs = 5,validation_data = (X_test,y_test))"
      ],
      "metadata": {
        "colab": {
          "base_uri": "https://localhost:8080/"
        },
        "id": "lo8dGb-S4zMN",
        "outputId": "c869668e-4090-4a29-888c-abb3b861fb7f"
      },
      "execution_count": 109,
      "outputs": [
        {
          "output_type": "stream",
          "name": "stdout",
          "text": [
            "Trial 3 Complete [00h 00m 02s]\n",
            "val_accuracy: 0.6428571343421936\n",
            "\n",
            "Best val_accuracy So Far: 0.7272727489471436\n",
            "Total elapsed time: 00h 00m 08s\n"
          ]
        }
      ]
    },
    {
      "cell_type": "code",
      "source": [
        "tuner.get_best_hyperparameters()[0].values"
      ],
      "metadata": {
        "colab": {
          "base_uri": "https://localhost:8080/"
        },
        "id": "kSGUdSxp5Kw5",
        "outputId": "ee4741d4-3f14-4445-86b8-6d752914a4a3"
      },
      "execution_count": 110,
      "outputs": [
        {
          "output_type": "execute_result",
          "data": {
            "text/plain": [
              "{'num_layers': 3,\n",
              " 'units0': 112,\n",
              " 'activation0': 'relu',\n",
              " 'Dropout0': 0.6,\n",
              " 'optimizer': 'adam',\n",
              " 'units1': 8,\n",
              " 'activation1': 'relu',\n",
              " 'Dropout1': 0.1,\n",
              " 'units2': 8,\n",
              " 'activation2': 'relu',\n",
              " 'Dropout2': 0.1}"
            ]
          },
          "metadata": {},
          "execution_count": 110
        }
      ]
    },
    {
      "cell_type": "code",
      "source": [
        "model = tuner.get_best_models(num_models=1)[0]"
      ],
      "metadata": {
        "id": "N6tqOila5WQK"
      },
      "execution_count": 111,
      "outputs": []
    },
    {
      "cell_type": "code",
      "source": [
        "model.fit(X_train,y_train,epochs = 200,initial_epoch = 6, validation_data = (X_test,y_test))"
      ],
      "metadata": {
        "colab": {
          "base_uri": "https://localhost:8080/"
        },
        "id": "LSP9xWQV5qkQ",
        "outputId": "2b6a1b0f-f52a-46b6-d71f-7b5c1b1b7c03"
      },
      "execution_count": 112,
      "outputs": [
        {
          "output_type": "stream",
          "name": "stdout",
          "text": [
            "Epoch 7/200\n",
            "20/20 [==============================] - 1s 14ms/step - loss: 0.5306 - accuracy: 0.7215 - val_loss: 0.5391 - val_accuracy: 0.7338\n",
            "Epoch 8/200\n",
            "20/20 [==============================] - 0s 7ms/step - loss: 0.5185 - accuracy: 0.7443 - val_loss: 0.5320 - val_accuracy: 0.7532\n",
            "Epoch 9/200\n",
            "20/20 [==============================] - 0s 8ms/step - loss: 0.5194 - accuracy: 0.7264 - val_loss: 0.5270 - val_accuracy: 0.7597\n",
            "Epoch 10/200\n",
            "20/20 [==============================] - 0s 8ms/step - loss: 0.4886 - accuracy: 0.7557 - val_loss: 0.5214 - val_accuracy: 0.7532\n",
            "Epoch 11/200\n",
            "20/20 [==============================] - 0s 6ms/step - loss: 0.4774 - accuracy: 0.7720 - val_loss: 0.5185 - val_accuracy: 0.7403\n",
            "Epoch 12/200\n",
            "20/20 [==============================] - 0s 6ms/step - loss: 0.4900 - accuracy: 0.7459 - val_loss: 0.5162 - val_accuracy: 0.7532\n",
            "Epoch 13/200\n",
            "20/20 [==============================] - 0s 6ms/step - loss: 0.4879 - accuracy: 0.7622 - val_loss: 0.5175 - val_accuracy: 0.7403\n",
            "Epoch 14/200\n",
            "20/20 [==============================] - 0s 7ms/step - loss: 0.4696 - accuracy: 0.7720 - val_loss: 0.5153 - val_accuracy: 0.7468\n",
            "Epoch 15/200\n",
            "20/20 [==============================] - 0s 6ms/step - loss: 0.5034 - accuracy: 0.7459 - val_loss: 0.5151 - val_accuracy: 0.7597\n",
            "Epoch 16/200\n",
            "20/20 [==============================] - 0s 7ms/step - loss: 0.4855 - accuracy: 0.7638 - val_loss: 0.5159 - val_accuracy: 0.7532\n",
            "Epoch 17/200\n",
            "20/20 [==============================] - 0s 6ms/step - loss: 0.4583 - accuracy: 0.7785 - val_loss: 0.5174 - val_accuracy: 0.7532\n",
            "Epoch 18/200\n",
            "20/20 [==============================] - 0s 6ms/step - loss: 0.4844 - accuracy: 0.7769 - val_loss: 0.5199 - val_accuracy: 0.7532\n",
            "Epoch 19/200\n",
            "20/20 [==============================] - 0s 6ms/step - loss: 0.4691 - accuracy: 0.7655 - val_loss: 0.5163 - val_accuracy: 0.7468\n",
            "Epoch 20/200\n",
            "20/20 [==============================] - 0s 6ms/step - loss: 0.4734 - accuracy: 0.7606 - val_loss: 0.5147 - val_accuracy: 0.7532\n",
            "Epoch 21/200\n",
            "20/20 [==============================] - 0s 6ms/step - loss: 0.4820 - accuracy: 0.7524 - val_loss: 0.5157 - val_accuracy: 0.7468\n",
            "Epoch 22/200\n",
            "20/20 [==============================] - 0s 6ms/step - loss: 0.4770 - accuracy: 0.7655 - val_loss: 0.5161 - val_accuracy: 0.7597\n",
            "Epoch 23/200\n",
            "20/20 [==============================] - 0s 6ms/step - loss: 0.4618 - accuracy: 0.7769 - val_loss: 0.5188 - val_accuracy: 0.7597\n",
            "Epoch 24/200\n",
            "20/20 [==============================] - 0s 8ms/step - loss: 0.4683 - accuracy: 0.7687 - val_loss: 0.5184 - val_accuracy: 0.7532\n",
            "Epoch 25/200\n",
            "20/20 [==============================] - 0s 7ms/step - loss: 0.4544 - accuracy: 0.7769 - val_loss: 0.5206 - val_accuracy: 0.7532\n",
            "Epoch 26/200\n",
            "20/20 [==============================] - 0s 7ms/step - loss: 0.4818 - accuracy: 0.7524 - val_loss: 0.5192 - val_accuracy: 0.7597\n",
            "Epoch 27/200\n",
            "20/20 [==============================] - 0s 7ms/step - loss: 0.4784 - accuracy: 0.7671 - val_loss: 0.5203 - val_accuracy: 0.7662\n",
            "Epoch 28/200\n",
            "20/20 [==============================] - 0s 7ms/step - loss: 0.4737 - accuracy: 0.7720 - val_loss: 0.5178 - val_accuracy: 0.7597\n",
            "Epoch 29/200\n",
            "20/20 [==============================] - 0s 5ms/step - loss: 0.4743 - accuracy: 0.7687 - val_loss: 0.5166 - val_accuracy: 0.7597\n",
            "Epoch 30/200\n",
            "20/20 [==============================] - 0s 4ms/step - loss: 0.4595 - accuracy: 0.7671 - val_loss: 0.5177 - val_accuracy: 0.7597\n",
            "Epoch 31/200\n",
            "20/20 [==============================] - 0s 4ms/step - loss: 0.4599 - accuracy: 0.7850 - val_loss: 0.5181 - val_accuracy: 0.7662\n",
            "Epoch 32/200\n",
            "20/20 [==============================] - 0s 5ms/step - loss: 0.4689 - accuracy: 0.7638 - val_loss: 0.5201 - val_accuracy: 0.7597\n",
            "Epoch 33/200\n",
            "20/20 [==============================] - 0s 4ms/step - loss: 0.4454 - accuracy: 0.7883 - val_loss: 0.5211 - val_accuracy: 0.7597\n",
            "Epoch 34/200\n",
            "20/20 [==============================] - 0s 4ms/step - loss: 0.4448 - accuracy: 0.7769 - val_loss: 0.5235 - val_accuracy: 0.7597\n",
            "Epoch 35/200\n",
            "20/20 [==============================] - 0s 4ms/step - loss: 0.4337 - accuracy: 0.7915 - val_loss: 0.5250 - val_accuracy: 0.7727\n",
            "Epoch 36/200\n",
            "20/20 [==============================] - 0s 4ms/step - loss: 0.4678 - accuracy: 0.7720 - val_loss: 0.5231 - val_accuracy: 0.7662\n",
            "Epoch 37/200\n",
            "20/20 [==============================] - 0s 4ms/step - loss: 0.4576 - accuracy: 0.7866 - val_loss: 0.5219 - val_accuracy: 0.7727\n",
            "Epoch 38/200\n",
            "20/20 [==============================] - 0s 4ms/step - loss: 0.4509 - accuracy: 0.7866 - val_loss: 0.5218 - val_accuracy: 0.7792\n",
            "Epoch 39/200\n",
            "20/20 [==============================] - 0s 4ms/step - loss: 0.4595 - accuracy: 0.7752 - val_loss: 0.5226 - val_accuracy: 0.7727\n",
            "Epoch 40/200\n",
            "20/20 [==============================] - 0s 4ms/step - loss: 0.4468 - accuracy: 0.7736 - val_loss: 0.5228 - val_accuracy: 0.7792\n",
            "Epoch 41/200\n",
            "20/20 [==============================] - 0s 4ms/step - loss: 0.4604 - accuracy: 0.7834 - val_loss: 0.5238 - val_accuracy: 0.7727\n",
            "Epoch 42/200\n",
            "20/20 [==============================] - 0s 4ms/step - loss: 0.4568 - accuracy: 0.7752 - val_loss: 0.5236 - val_accuracy: 0.7792\n",
            "Epoch 43/200\n",
            "20/20 [==============================] - 0s 4ms/step - loss: 0.4668 - accuracy: 0.7704 - val_loss: 0.5228 - val_accuracy: 0.7727\n",
            "Epoch 44/200\n",
            "20/20 [==============================] - 0s 5ms/step - loss: 0.4437 - accuracy: 0.7883 - val_loss: 0.5243 - val_accuracy: 0.7727\n",
            "Epoch 45/200\n",
            "20/20 [==============================] - 0s 4ms/step - loss: 0.4575 - accuracy: 0.7785 - val_loss: 0.5213 - val_accuracy: 0.7727\n",
            "Epoch 46/200\n",
            "20/20 [==============================] - 0s 4ms/step - loss: 0.4566 - accuracy: 0.7736 - val_loss: 0.5232 - val_accuracy: 0.7727\n",
            "Epoch 47/200\n",
            "20/20 [==============================] - 0s 4ms/step - loss: 0.4445 - accuracy: 0.7785 - val_loss: 0.5249 - val_accuracy: 0.7727\n",
            "Epoch 48/200\n",
            "20/20 [==============================] - 0s 4ms/step - loss: 0.4578 - accuracy: 0.7818 - val_loss: 0.5257 - val_accuracy: 0.7727\n",
            "Epoch 49/200\n",
            "20/20 [==============================] - 0s 5ms/step - loss: 0.4504 - accuracy: 0.7785 - val_loss: 0.5219 - val_accuracy: 0.7727\n",
            "Epoch 50/200\n",
            "20/20 [==============================] - 0s 5ms/step - loss: 0.4548 - accuracy: 0.7801 - val_loss: 0.5210 - val_accuracy: 0.7727\n",
            "Epoch 51/200\n",
            "20/20 [==============================] - 0s 5ms/step - loss: 0.4477 - accuracy: 0.7801 - val_loss: 0.5214 - val_accuracy: 0.7727\n",
            "Epoch 52/200\n",
            "20/20 [==============================] - 0s 4ms/step - loss: 0.4389 - accuracy: 0.7915 - val_loss: 0.5207 - val_accuracy: 0.7857\n",
            "Epoch 53/200\n",
            "20/20 [==============================] - 0s 5ms/step - loss: 0.4433 - accuracy: 0.7899 - val_loss: 0.5210 - val_accuracy: 0.7857\n",
            "Epoch 54/200\n",
            "20/20 [==============================] - 0s 4ms/step - loss: 0.4481 - accuracy: 0.7883 - val_loss: 0.5230 - val_accuracy: 0.7792\n",
            "Epoch 55/200\n",
            "20/20 [==============================] - 0s 4ms/step - loss: 0.4556 - accuracy: 0.7866 - val_loss: 0.5238 - val_accuracy: 0.7792\n",
            "Epoch 56/200\n",
            "20/20 [==============================] - 0s 4ms/step - loss: 0.4490 - accuracy: 0.7883 - val_loss: 0.5229 - val_accuracy: 0.7792\n",
            "Epoch 57/200\n",
            "20/20 [==============================] - 0s 5ms/step - loss: 0.4551 - accuracy: 0.7638 - val_loss: 0.5233 - val_accuracy: 0.7792\n",
            "Epoch 58/200\n",
            "20/20 [==============================] - 0s 4ms/step - loss: 0.4462 - accuracy: 0.7736 - val_loss: 0.5270 - val_accuracy: 0.7792\n",
            "Epoch 59/200\n",
            "20/20 [==============================] - 0s 4ms/step - loss: 0.4450 - accuracy: 0.7980 - val_loss: 0.5287 - val_accuracy: 0.7792\n",
            "Epoch 60/200\n",
            "20/20 [==============================] - 0s 4ms/step - loss: 0.4475 - accuracy: 0.7818 - val_loss: 0.5271 - val_accuracy: 0.7792\n",
            "Epoch 61/200\n",
            "20/20 [==============================] - 0s 5ms/step - loss: 0.4577 - accuracy: 0.7834 - val_loss: 0.5291 - val_accuracy: 0.7727\n",
            "Epoch 62/200\n",
            "20/20 [==============================] - 0s 4ms/step - loss: 0.4394 - accuracy: 0.7899 - val_loss: 0.5303 - val_accuracy: 0.7727\n",
            "Epoch 63/200\n",
            "20/20 [==============================] - 0s 5ms/step - loss: 0.4418 - accuracy: 0.7785 - val_loss: 0.5355 - val_accuracy: 0.7857\n",
            "Epoch 64/200\n",
            "20/20 [==============================] - 0s 4ms/step - loss: 0.4408 - accuracy: 0.7883 - val_loss: 0.5353 - val_accuracy: 0.7792\n",
            "Epoch 65/200\n",
            "20/20 [==============================] - 0s 5ms/step - loss: 0.4477 - accuracy: 0.7818 - val_loss: 0.5325 - val_accuracy: 0.7662\n",
            "Epoch 66/200\n",
            "20/20 [==============================] - 0s 5ms/step - loss: 0.4631 - accuracy: 0.7687 - val_loss: 0.5310 - val_accuracy: 0.7662\n",
            "Epoch 67/200\n",
            "20/20 [==============================] - 0s 4ms/step - loss: 0.4239 - accuracy: 0.7899 - val_loss: 0.5307 - val_accuracy: 0.7792\n",
            "Epoch 68/200\n",
            "20/20 [==============================] - 0s 5ms/step - loss: 0.4330 - accuracy: 0.7883 - val_loss: 0.5320 - val_accuracy: 0.7792\n",
            "Epoch 69/200\n",
            "20/20 [==============================] - 0s 4ms/step - loss: 0.4413 - accuracy: 0.7752 - val_loss: 0.5338 - val_accuracy: 0.7792\n",
            "Epoch 70/200\n",
            "20/20 [==============================] - 0s 4ms/step - loss: 0.4432 - accuracy: 0.7850 - val_loss: 0.5353 - val_accuracy: 0.7727\n",
            "Epoch 71/200\n",
            "20/20 [==============================] - 0s 4ms/step - loss: 0.4327 - accuracy: 0.7948 - val_loss: 0.5331 - val_accuracy: 0.7792\n",
            "Epoch 72/200\n",
            "20/20 [==============================] - 0s 4ms/step - loss: 0.4528 - accuracy: 0.8029 - val_loss: 0.5328 - val_accuracy: 0.7662\n",
            "Epoch 73/200\n",
            "20/20 [==============================] - 0s 4ms/step - loss: 0.4478 - accuracy: 0.7899 - val_loss: 0.5298 - val_accuracy: 0.7662\n",
            "Epoch 74/200\n",
            "20/20 [==============================] - 0s 4ms/step - loss: 0.4353 - accuracy: 0.7850 - val_loss: 0.5287 - val_accuracy: 0.7792\n",
            "Epoch 75/200\n",
            "20/20 [==============================] - 0s 4ms/step - loss: 0.4265 - accuracy: 0.7932 - val_loss: 0.5297 - val_accuracy: 0.7792\n",
            "Epoch 76/200\n",
            "20/20 [==============================] - 0s 4ms/step - loss: 0.4400 - accuracy: 0.8029 - val_loss: 0.5289 - val_accuracy: 0.7792\n",
            "Epoch 77/200\n",
            "20/20 [==============================] - 0s 4ms/step - loss: 0.4511 - accuracy: 0.7883 - val_loss: 0.5273 - val_accuracy: 0.7792\n",
            "Epoch 78/200\n",
            "20/20 [==============================] - 0s 4ms/step - loss: 0.4446 - accuracy: 0.7785 - val_loss: 0.5251 - val_accuracy: 0.7792\n",
            "Epoch 79/200\n",
            "20/20 [==============================] - 0s 5ms/step - loss: 0.4497 - accuracy: 0.7850 - val_loss: 0.5260 - val_accuracy: 0.7727\n",
            "Epoch 80/200\n",
            "20/20 [==============================] - 0s 4ms/step - loss: 0.4489 - accuracy: 0.7801 - val_loss: 0.5292 - val_accuracy: 0.7727\n",
            "Epoch 81/200\n",
            "20/20 [==============================] - 0s 5ms/step - loss: 0.4374 - accuracy: 0.7818 - val_loss: 0.5297 - val_accuracy: 0.7662\n",
            "Epoch 82/200\n",
            "20/20 [==============================] - 0s 4ms/step - loss: 0.4348 - accuracy: 0.7769 - val_loss: 0.5313 - val_accuracy: 0.7662\n",
            "Epoch 83/200\n",
            "20/20 [==============================] - 0s 4ms/step - loss: 0.4355 - accuracy: 0.7752 - val_loss: 0.5312 - val_accuracy: 0.7532\n",
            "Epoch 84/200\n",
            "20/20 [==============================] - 0s 4ms/step - loss: 0.4436 - accuracy: 0.7883 - val_loss: 0.5310 - val_accuracy: 0.7597\n",
            "Epoch 85/200\n",
            "20/20 [==============================] - 0s 4ms/step - loss: 0.4206 - accuracy: 0.7866 - val_loss: 0.5327 - val_accuracy: 0.7597\n",
            "Epoch 86/200\n",
            "20/20 [==============================] - 0s 5ms/step - loss: 0.4377 - accuracy: 0.7850 - val_loss: 0.5317 - val_accuracy: 0.7662\n",
            "Epoch 87/200\n",
            "20/20 [==============================] - 0s 5ms/step - loss: 0.4415 - accuracy: 0.7850 - val_loss: 0.5334 - val_accuracy: 0.7727\n",
            "Epoch 88/200\n",
            "20/20 [==============================] - 0s 4ms/step - loss: 0.4259 - accuracy: 0.8094 - val_loss: 0.5341 - val_accuracy: 0.7662\n",
            "Epoch 89/200\n",
            "20/20 [==============================] - 0s 5ms/step - loss: 0.4344 - accuracy: 0.7883 - val_loss: 0.5359 - val_accuracy: 0.7597\n",
            "Epoch 90/200\n",
            "20/20 [==============================] - 0s 4ms/step - loss: 0.4340 - accuracy: 0.7915 - val_loss: 0.5387 - val_accuracy: 0.7662\n",
            "Epoch 91/200\n",
            "20/20 [==============================] - 0s 5ms/step - loss: 0.4211 - accuracy: 0.8029 - val_loss: 0.5356 - val_accuracy: 0.7727\n",
            "Epoch 92/200\n",
            "20/20 [==============================] - 0s 5ms/step - loss: 0.4532 - accuracy: 0.8029 - val_loss: 0.5347 - val_accuracy: 0.7662\n",
            "Epoch 93/200\n",
            "20/20 [==============================] - 0s 4ms/step - loss: 0.4591 - accuracy: 0.7818 - val_loss: 0.5355 - val_accuracy: 0.7597\n",
            "Epoch 94/200\n",
            "20/20 [==============================] - 0s 4ms/step - loss: 0.4457 - accuracy: 0.7752 - val_loss: 0.5314 - val_accuracy: 0.7727\n",
            "Epoch 95/200\n",
            "20/20 [==============================] - 0s 4ms/step - loss: 0.4269 - accuracy: 0.7850 - val_loss: 0.5324 - val_accuracy: 0.7662\n",
            "Epoch 96/200\n",
            "20/20 [==============================] - 0s 5ms/step - loss: 0.4443 - accuracy: 0.7915 - val_loss: 0.5353 - val_accuracy: 0.7727\n",
            "Epoch 97/200\n",
            "20/20 [==============================] - 0s 4ms/step - loss: 0.4276 - accuracy: 0.7932 - val_loss: 0.5353 - val_accuracy: 0.7727\n",
            "Epoch 98/200\n",
            "20/20 [==============================] - 0s 4ms/step - loss: 0.4260 - accuracy: 0.8029 - val_loss: 0.5328 - val_accuracy: 0.7727\n",
            "Epoch 99/200\n",
            "20/20 [==============================] - 0s 4ms/step - loss: 0.4362 - accuracy: 0.8127 - val_loss: 0.5317 - val_accuracy: 0.7727\n",
            "Epoch 100/200\n",
            "20/20 [==============================] - 0s 4ms/step - loss: 0.4107 - accuracy: 0.8029 - val_loss: 0.5325 - val_accuracy: 0.7727\n",
            "Epoch 101/200\n",
            "20/20 [==============================] - 0s 4ms/step - loss: 0.4224 - accuracy: 0.8046 - val_loss: 0.5377 - val_accuracy: 0.7727\n",
            "Epoch 102/200\n",
            "20/20 [==============================] - 0s 4ms/step - loss: 0.4147 - accuracy: 0.8046 - val_loss: 0.5380 - val_accuracy: 0.7727\n",
            "Epoch 103/200\n",
            "20/20 [==============================] - 0s 4ms/step - loss: 0.4308 - accuracy: 0.7899 - val_loss: 0.5415 - val_accuracy: 0.7662\n",
            "Epoch 104/200\n",
            "20/20 [==============================] - 0s 5ms/step - loss: 0.4193 - accuracy: 0.7932 - val_loss: 0.5405 - val_accuracy: 0.7597\n",
            "Epoch 105/200\n",
            "20/20 [==============================] - 0s 4ms/step - loss: 0.4369 - accuracy: 0.7915 - val_loss: 0.5422 - val_accuracy: 0.7597\n",
            "Epoch 106/200\n",
            "20/20 [==============================] - 0s 4ms/step - loss: 0.4252 - accuracy: 0.7980 - val_loss: 0.5389 - val_accuracy: 0.7662\n",
            "Epoch 107/200\n",
            "20/20 [==============================] - 0s 4ms/step - loss: 0.4174 - accuracy: 0.7980 - val_loss: 0.5407 - val_accuracy: 0.7662\n",
            "Epoch 108/200\n",
            "20/20 [==============================] - 0s 5ms/step - loss: 0.4228 - accuracy: 0.8013 - val_loss: 0.5463 - val_accuracy: 0.7662\n",
            "Epoch 109/200\n",
            "20/20 [==============================] - 0s 5ms/step - loss: 0.4150 - accuracy: 0.7883 - val_loss: 0.5463 - val_accuracy: 0.7597\n",
            "Epoch 110/200\n",
            "20/20 [==============================] - 0s 4ms/step - loss: 0.4381 - accuracy: 0.7915 - val_loss: 0.5440 - val_accuracy: 0.7597\n",
            "Epoch 111/200\n",
            "20/20 [==============================] - 0s 4ms/step - loss: 0.4369 - accuracy: 0.8029 - val_loss: 0.5419 - val_accuracy: 0.7597\n",
            "Epoch 112/200\n",
            "20/20 [==============================] - 0s 5ms/step - loss: 0.4154 - accuracy: 0.8192 - val_loss: 0.5458 - val_accuracy: 0.7662\n",
            "Epoch 113/200\n",
            "20/20 [==============================] - 0s 4ms/step - loss: 0.4280 - accuracy: 0.7850 - val_loss: 0.5450 - val_accuracy: 0.7662\n",
            "Epoch 114/200\n",
            "20/20 [==============================] - 0s 4ms/step - loss: 0.4319 - accuracy: 0.8062 - val_loss: 0.5427 - val_accuracy: 0.7662\n",
            "Epoch 115/200\n",
            "20/20 [==============================] - 0s 5ms/step - loss: 0.4338 - accuracy: 0.8013 - val_loss: 0.5434 - val_accuracy: 0.7727\n",
            "Epoch 116/200\n",
            "20/20 [==============================] - 0s 5ms/step - loss: 0.4252 - accuracy: 0.7932 - val_loss: 0.5446 - val_accuracy: 0.7727\n",
            "Epoch 117/200\n",
            "20/20 [==============================] - 0s 4ms/step - loss: 0.4068 - accuracy: 0.8046 - val_loss: 0.5440 - val_accuracy: 0.7727\n",
            "Epoch 118/200\n",
            "20/20 [==============================] - 0s 5ms/step - loss: 0.4247 - accuracy: 0.7964 - val_loss: 0.5445 - val_accuracy: 0.7662\n",
            "Epoch 119/200\n",
            "20/20 [==============================] - 0s 4ms/step - loss: 0.4389 - accuracy: 0.7834 - val_loss: 0.5434 - val_accuracy: 0.7727\n",
            "Epoch 120/200\n",
            "20/20 [==============================] - 0s 5ms/step - loss: 0.4054 - accuracy: 0.7997 - val_loss: 0.5441 - val_accuracy: 0.7727\n",
            "Epoch 121/200\n",
            "20/20 [==============================] - 0s 4ms/step - loss: 0.4202 - accuracy: 0.7980 - val_loss: 0.5431 - val_accuracy: 0.7792\n",
            "Epoch 122/200\n",
            "20/20 [==============================] - 0s 4ms/step - loss: 0.4162 - accuracy: 0.8143 - val_loss: 0.5455 - val_accuracy: 0.7727\n",
            "Epoch 123/200\n",
            "20/20 [==============================] - 0s 4ms/step - loss: 0.3947 - accuracy: 0.8094 - val_loss: 0.5485 - val_accuracy: 0.7727\n",
            "Epoch 124/200\n",
            "20/20 [==============================] - 0s 6ms/step - loss: 0.4399 - accuracy: 0.7948 - val_loss: 0.5461 - val_accuracy: 0.7727\n",
            "Epoch 125/200\n",
            "20/20 [==============================] - 0s 4ms/step - loss: 0.4301 - accuracy: 0.8013 - val_loss: 0.5465 - val_accuracy: 0.7662\n",
            "Epoch 126/200\n",
            "20/20 [==============================] - 0s 4ms/step - loss: 0.4384 - accuracy: 0.7964 - val_loss: 0.5480 - val_accuracy: 0.7662\n",
            "Epoch 127/200\n",
            "20/20 [==============================] - 0s 4ms/step - loss: 0.4306 - accuracy: 0.8013 - val_loss: 0.5456 - val_accuracy: 0.7662\n",
            "Epoch 128/200\n",
            "20/20 [==============================] - 0s 4ms/step - loss: 0.4258 - accuracy: 0.7932 - val_loss: 0.5455 - val_accuracy: 0.7727\n",
            "Epoch 129/200\n",
            "20/20 [==============================] - 0s 5ms/step - loss: 0.4290 - accuracy: 0.8094 - val_loss: 0.5467 - val_accuracy: 0.7662\n",
            "Epoch 130/200\n",
            "20/20 [==============================] - 0s 4ms/step - loss: 0.4154 - accuracy: 0.8062 - val_loss: 0.5436 - val_accuracy: 0.7662\n",
            "Epoch 131/200\n",
            "20/20 [==============================] - 0s 4ms/step - loss: 0.4272 - accuracy: 0.8029 - val_loss: 0.5466 - val_accuracy: 0.7662\n",
            "Epoch 132/200\n",
            "20/20 [==============================] - 0s 5ms/step - loss: 0.4156 - accuracy: 0.7997 - val_loss: 0.5493 - val_accuracy: 0.7662\n",
            "Epoch 133/200\n",
            "20/20 [==============================] - 0s 7ms/step - loss: 0.4262 - accuracy: 0.7980 - val_loss: 0.5506 - val_accuracy: 0.7727\n",
            "Epoch 134/200\n",
            "20/20 [==============================] - 0s 6ms/step - loss: 0.4264 - accuracy: 0.8094 - val_loss: 0.5531 - val_accuracy: 0.7662\n",
            "Epoch 135/200\n",
            "20/20 [==============================] - 0s 7ms/step - loss: 0.4361 - accuracy: 0.7866 - val_loss: 0.5541 - val_accuracy: 0.7662\n",
            "Epoch 136/200\n",
            "20/20 [==============================] - 0s 6ms/step - loss: 0.4243 - accuracy: 0.7932 - val_loss: 0.5520 - val_accuracy: 0.7727\n",
            "Epoch 137/200\n",
            "20/20 [==============================] - 0s 6ms/step - loss: 0.4088 - accuracy: 0.8046 - val_loss: 0.5550 - val_accuracy: 0.7727\n",
            "Epoch 138/200\n",
            "20/20 [==============================] - 0s 8ms/step - loss: 0.4207 - accuracy: 0.8078 - val_loss: 0.5550 - val_accuracy: 0.7662\n",
            "Epoch 139/200\n",
            "20/20 [==============================] - 0s 7ms/step - loss: 0.4121 - accuracy: 0.7980 - val_loss: 0.5544 - val_accuracy: 0.7727\n",
            "Epoch 140/200\n",
            "20/20 [==============================] - 0s 6ms/step - loss: 0.4183 - accuracy: 0.8013 - val_loss: 0.5599 - val_accuracy: 0.7727\n",
            "Epoch 141/200\n",
            "20/20 [==============================] - 0s 6ms/step - loss: 0.4062 - accuracy: 0.8274 - val_loss: 0.5606 - val_accuracy: 0.7662\n",
            "Epoch 142/200\n",
            "20/20 [==============================] - 0s 6ms/step - loss: 0.4280 - accuracy: 0.8062 - val_loss: 0.5587 - val_accuracy: 0.7662\n",
            "Epoch 143/200\n",
            "20/20 [==============================] - 0s 6ms/step - loss: 0.4067 - accuracy: 0.8078 - val_loss: 0.5603 - val_accuracy: 0.7662\n",
            "Epoch 144/200\n",
            "20/20 [==============================] - 0s 6ms/step - loss: 0.4037 - accuracy: 0.8225 - val_loss: 0.5601 - val_accuracy: 0.7662\n",
            "Epoch 145/200\n",
            "20/20 [==============================] - 0s 6ms/step - loss: 0.4221 - accuracy: 0.8078 - val_loss: 0.5551 - val_accuracy: 0.7468\n",
            "Epoch 146/200\n",
            "20/20 [==============================] - 0s 7ms/step - loss: 0.4154 - accuracy: 0.8013 - val_loss: 0.5565 - val_accuracy: 0.7597\n",
            "Epoch 147/200\n",
            "20/20 [==============================] - 0s 7ms/step - loss: 0.4268 - accuracy: 0.8094 - val_loss: 0.5526 - val_accuracy: 0.7468\n",
            "Epoch 148/200\n",
            "20/20 [==============================] - 0s 8ms/step - loss: 0.4054 - accuracy: 0.8094 - val_loss: 0.5508 - val_accuracy: 0.7468\n",
            "Epoch 149/200\n",
            "20/20 [==============================] - 0s 6ms/step - loss: 0.4245 - accuracy: 0.7980 - val_loss: 0.5519 - val_accuracy: 0.7468\n",
            "Epoch 150/200\n",
            "20/20 [==============================] - 0s 7ms/step - loss: 0.4105 - accuracy: 0.7997 - val_loss: 0.5563 - val_accuracy: 0.7597\n",
            "Epoch 151/200\n",
            "20/20 [==============================] - 0s 7ms/step - loss: 0.4312 - accuracy: 0.7964 - val_loss: 0.5583 - val_accuracy: 0.7468\n",
            "Epoch 152/200\n",
            "20/20 [==============================] - 0s 7ms/step - loss: 0.3877 - accuracy: 0.8127 - val_loss: 0.5661 - val_accuracy: 0.7468\n",
            "Epoch 153/200\n",
            "20/20 [==============================] - 0s 8ms/step - loss: 0.4296 - accuracy: 0.7883 - val_loss: 0.5615 - val_accuracy: 0.7597\n",
            "Epoch 154/200\n",
            "20/20 [==============================] - 0s 7ms/step - loss: 0.4184 - accuracy: 0.8029 - val_loss: 0.5616 - val_accuracy: 0.7662\n",
            "Epoch 155/200\n",
            "20/20 [==============================] - 0s 7ms/step - loss: 0.4188 - accuracy: 0.7980 - val_loss: 0.5617 - val_accuracy: 0.7662\n",
            "Epoch 156/200\n",
            "20/20 [==============================] - 0s 5ms/step - loss: 0.4221 - accuracy: 0.8078 - val_loss: 0.5621 - val_accuracy: 0.7532\n",
            "Epoch 157/200\n",
            "20/20 [==============================] - 0s 4ms/step - loss: 0.3988 - accuracy: 0.8306 - val_loss: 0.5640 - val_accuracy: 0.7532\n",
            "Epoch 158/200\n",
            "20/20 [==============================] - 0s 4ms/step - loss: 0.4247 - accuracy: 0.7964 - val_loss: 0.5611 - val_accuracy: 0.7597\n",
            "Epoch 159/200\n",
            "20/20 [==============================] - 0s 4ms/step - loss: 0.4158 - accuracy: 0.7915 - val_loss: 0.5569 - val_accuracy: 0.7597\n",
            "Epoch 160/200\n",
            "20/20 [==============================] - 0s 4ms/step - loss: 0.4273 - accuracy: 0.8013 - val_loss: 0.5560 - val_accuracy: 0.7597\n",
            "Epoch 161/200\n",
            "20/20 [==============================] - 0s 4ms/step - loss: 0.4100 - accuracy: 0.8143 - val_loss: 0.5599 - val_accuracy: 0.7597\n",
            "Epoch 162/200\n",
            "20/20 [==============================] - 0s 5ms/step - loss: 0.4059 - accuracy: 0.7997 - val_loss: 0.5634 - val_accuracy: 0.7597\n",
            "Epoch 163/200\n",
            "20/20 [==============================] - 0s 6ms/step - loss: 0.4167 - accuracy: 0.8225 - val_loss: 0.5546 - val_accuracy: 0.7662\n",
            "Epoch 164/200\n",
            "20/20 [==============================] - 0s 5ms/step - loss: 0.4024 - accuracy: 0.8111 - val_loss: 0.5558 - val_accuracy: 0.7727\n",
            "Epoch 165/200\n",
            "20/20 [==============================] - 0s 5ms/step - loss: 0.3998 - accuracy: 0.8078 - val_loss: 0.5571 - val_accuracy: 0.7662\n",
            "Epoch 166/200\n",
            "20/20 [==============================] - 0s 4ms/step - loss: 0.4098 - accuracy: 0.7964 - val_loss: 0.5549 - val_accuracy: 0.7727\n",
            "Epoch 167/200\n",
            "20/20 [==============================] - 0s 5ms/step - loss: 0.4107 - accuracy: 0.8062 - val_loss: 0.5571 - val_accuracy: 0.7662\n",
            "Epoch 168/200\n",
            "20/20 [==============================] - 0s 5ms/step - loss: 0.4055 - accuracy: 0.8046 - val_loss: 0.5579 - val_accuracy: 0.7662\n",
            "Epoch 169/200\n",
            "20/20 [==============================] - 0s 5ms/step - loss: 0.4204 - accuracy: 0.7980 - val_loss: 0.5567 - val_accuracy: 0.7532\n",
            "Epoch 170/200\n",
            "20/20 [==============================] - 0s 4ms/step - loss: 0.3948 - accuracy: 0.8339 - val_loss: 0.5605 - val_accuracy: 0.7532\n",
            "Epoch 171/200\n",
            "20/20 [==============================] - 0s 5ms/step - loss: 0.3925 - accuracy: 0.7997 - val_loss: 0.5653 - val_accuracy: 0.7532\n",
            "Epoch 172/200\n",
            "20/20 [==============================] - 0s 4ms/step - loss: 0.3979 - accuracy: 0.8192 - val_loss: 0.5662 - val_accuracy: 0.7468\n",
            "Epoch 173/200\n",
            "20/20 [==============================] - 0s 5ms/step - loss: 0.4261 - accuracy: 0.8078 - val_loss: 0.5658 - val_accuracy: 0.7532\n",
            "Epoch 174/200\n",
            "20/20 [==============================] - 0s 4ms/step - loss: 0.4003 - accuracy: 0.8078 - val_loss: 0.5701 - val_accuracy: 0.7468\n",
            "Epoch 175/200\n",
            "20/20 [==============================] - 0s 5ms/step - loss: 0.4225 - accuracy: 0.8143 - val_loss: 0.5717 - val_accuracy: 0.7532\n",
            "Epoch 176/200\n",
            "20/20 [==============================] - 0s 5ms/step - loss: 0.3982 - accuracy: 0.7932 - val_loss: 0.5722 - val_accuracy: 0.7532\n",
            "Epoch 177/200\n",
            "20/20 [==============================] - 0s 4ms/step - loss: 0.4022 - accuracy: 0.7980 - val_loss: 0.5795 - val_accuracy: 0.7532\n",
            "Epoch 178/200\n",
            "20/20 [==============================] - 0s 4ms/step - loss: 0.3917 - accuracy: 0.8192 - val_loss: 0.5779 - val_accuracy: 0.7597\n",
            "Epoch 179/200\n",
            "20/20 [==============================] - 0s 4ms/step - loss: 0.4020 - accuracy: 0.8127 - val_loss: 0.5795 - val_accuracy: 0.7532\n",
            "Epoch 180/200\n",
            "20/20 [==============================] - 0s 5ms/step - loss: 0.4042 - accuracy: 0.8176 - val_loss: 0.5830 - val_accuracy: 0.7597\n",
            "Epoch 181/200\n",
            "20/20 [==============================] - 0s 4ms/step - loss: 0.3988 - accuracy: 0.8127 - val_loss: 0.5825 - val_accuracy: 0.7597\n",
            "Epoch 182/200\n",
            "20/20 [==============================] - 0s 4ms/step - loss: 0.3940 - accuracy: 0.8192 - val_loss: 0.5787 - val_accuracy: 0.7597\n",
            "Epoch 183/200\n",
            "20/20 [==============================] - 0s 5ms/step - loss: 0.3910 - accuracy: 0.7932 - val_loss: 0.5768 - val_accuracy: 0.7532\n",
            "Epoch 184/200\n",
            "20/20 [==============================] - 0s 5ms/step - loss: 0.4122 - accuracy: 0.8062 - val_loss: 0.5742 - val_accuracy: 0.7532\n",
            "Epoch 185/200\n",
            "20/20 [==============================] - 0s 5ms/step - loss: 0.3858 - accuracy: 0.8208 - val_loss: 0.5747 - val_accuracy: 0.7468\n",
            "Epoch 186/200\n",
            "20/20 [==============================] - 0s 5ms/step - loss: 0.4007 - accuracy: 0.8192 - val_loss: 0.5754 - val_accuracy: 0.7468\n",
            "Epoch 187/200\n",
            "20/20 [==============================] - 0s 5ms/step - loss: 0.4069 - accuracy: 0.8160 - val_loss: 0.5757 - val_accuracy: 0.7403\n",
            "Epoch 188/200\n",
            "20/20 [==============================] - 0s 4ms/step - loss: 0.4230 - accuracy: 0.8094 - val_loss: 0.5715 - val_accuracy: 0.7338\n",
            "Epoch 189/200\n",
            "20/20 [==============================] - 0s 4ms/step - loss: 0.4034 - accuracy: 0.8094 - val_loss: 0.5734 - val_accuracy: 0.7338\n",
            "Epoch 190/200\n",
            "20/20 [==============================] - 0s 5ms/step - loss: 0.4152 - accuracy: 0.8029 - val_loss: 0.5696 - val_accuracy: 0.7468\n",
            "Epoch 191/200\n",
            "20/20 [==============================] - 0s 5ms/step - loss: 0.4107 - accuracy: 0.8143 - val_loss: 0.5737 - val_accuracy: 0.7468\n",
            "Epoch 192/200\n",
            "20/20 [==============================] - 0s 5ms/step - loss: 0.3989 - accuracy: 0.8111 - val_loss: 0.5777 - val_accuracy: 0.7468\n",
            "Epoch 193/200\n",
            "20/20 [==============================] - 0s 4ms/step - loss: 0.4002 - accuracy: 0.8046 - val_loss: 0.5746 - val_accuracy: 0.7532\n",
            "Epoch 194/200\n",
            "20/20 [==============================] - 0s 5ms/step - loss: 0.3864 - accuracy: 0.8127 - val_loss: 0.5802 - val_accuracy: 0.7403\n",
            "Epoch 195/200\n",
            "20/20 [==============================] - 0s 5ms/step - loss: 0.4065 - accuracy: 0.8078 - val_loss: 0.5794 - val_accuracy: 0.7403\n",
            "Epoch 196/200\n",
            "20/20 [==============================] - 0s 4ms/step - loss: 0.4072 - accuracy: 0.8111 - val_loss: 0.5786 - val_accuracy: 0.7468\n",
            "Epoch 197/200\n",
            "20/20 [==============================] - 0s 5ms/step - loss: 0.4076 - accuracy: 0.8192 - val_loss: 0.5732 - val_accuracy: 0.7468\n",
            "Epoch 198/200\n",
            "20/20 [==============================] - 0s 5ms/step - loss: 0.4084 - accuracy: 0.8192 - val_loss: 0.5736 - val_accuracy: 0.7338\n",
            "Epoch 199/200\n",
            "20/20 [==============================] - 0s 5ms/step - loss: 0.3958 - accuracy: 0.8274 - val_loss: 0.5703 - val_accuracy: 0.7403\n",
            "Epoch 200/200\n",
            "20/20 [==============================] - 0s 4ms/step - loss: 0.4173 - accuracy: 0.8094 - val_loss: 0.5703 - val_accuracy: 0.7597\n"
          ]
        },
        {
          "output_type": "execute_result",
          "data": {
            "text/plain": [
              "<keras.callbacks.History at 0x79fffa2822f0>"
            ]
          },
          "metadata": {},
          "execution_count": 112
        }
      ]
    },
    {
      "cell_type": "code",
      "source": [],
      "metadata": {
        "id": "D9FQVaqF5_Zx"
      },
      "execution_count": null,
      "outputs": []
    }
  ]
}