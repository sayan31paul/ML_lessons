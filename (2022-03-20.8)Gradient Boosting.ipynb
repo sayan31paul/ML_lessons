{
 "cells": [
  {
   "cell_type": "code",
   "execution_count": 20,
   "id": "6641f797",
   "metadata": {},
   "outputs": [],
   "source": [
    "import numpy as np\n",
    "import matplotlib.pyplot as plt"
   ]
  },
  {
   "cell_type": "code",
   "execution_count": 21,
   "id": "2930a267",
   "metadata": {},
   "outputs": [],
   "source": [
    "X=np.random.rand(100,1)-0.5\n",
    "y=3*X[:,0]**2+0.05+np.random.randn(100)"
   ]
  },
  {
   "cell_type": "code",
   "execution_count": 22,
   "id": "822a60e7",
   "metadata": {},
   "outputs": [],
   "source": [
    "import pandas as pd"
   ]
  },
  {
   "cell_type": "code",
   "execution_count": 23,
   "id": "5ba46708",
   "metadata": {},
   "outputs": [],
   "source": [
    "df=pd.DataFrame()"
   ]
  },
  {
   "cell_type": "code",
   "execution_count": 24,
   "id": "c7f503e6",
   "metadata": {},
   "outputs": [],
   "source": [
    "df['X']=X.reshape(100)\n",
    "df['y']=y"
   ]
  },
  {
   "cell_type": "code",
   "execution_count": 25,
   "id": "211f876e",
   "metadata": {},
   "outputs": [
    {
     "data": {
      "text/html": [
       "<div>\n",
       "<style scoped>\n",
       "    .dataframe tbody tr th:only-of-type {\n",
       "        vertical-align: middle;\n",
       "    }\n",
       "\n",
       "    .dataframe tbody tr th {\n",
       "        vertical-align: top;\n",
       "    }\n",
       "\n",
       "    .dataframe thead th {\n",
       "        text-align: right;\n",
       "    }\n",
       "</style>\n",
       "<table border=\"1\" class=\"dataframe\">\n",
       "  <thead>\n",
       "    <tr style=\"text-align: right;\">\n",
       "      <th></th>\n",
       "      <th>X</th>\n",
       "      <th>y</th>\n",
       "    </tr>\n",
       "  </thead>\n",
       "  <tbody>\n",
       "    <tr>\n",
       "      <th>0</th>\n",
       "      <td>0.248625</td>\n",
       "      <td>1.389998</td>\n",
       "    </tr>\n",
       "    <tr>\n",
       "      <th>1</th>\n",
       "      <td>-0.162305</td>\n",
       "      <td>0.029118</td>\n",
       "    </tr>\n",
       "    <tr>\n",
       "      <th>2</th>\n",
       "      <td>-0.441693</td>\n",
       "      <td>0.846146</td>\n",
       "    </tr>\n",
       "    <tr>\n",
       "      <th>3</th>\n",
       "      <td>-0.240254</td>\n",
       "      <td>1.321074</td>\n",
       "    </tr>\n",
       "    <tr>\n",
       "      <th>4</th>\n",
       "      <td>0.030138</td>\n",
       "      <td>-0.248742</td>\n",
       "    </tr>\n",
       "    <tr>\n",
       "      <th>...</th>\n",
       "      <td>...</td>\n",
       "      <td>...</td>\n",
       "    </tr>\n",
       "    <tr>\n",
       "      <th>95</th>\n",
       "      <td>0.359677</td>\n",
       "      <td>-1.465467</td>\n",
       "    </tr>\n",
       "    <tr>\n",
       "      <th>96</th>\n",
       "      <td>0.287195</td>\n",
       "      <td>-0.634895</td>\n",
       "    </tr>\n",
       "    <tr>\n",
       "      <th>97</th>\n",
       "      <td>0.034685</td>\n",
       "      <td>-1.048480</td>\n",
       "    </tr>\n",
       "    <tr>\n",
       "      <th>98</th>\n",
       "      <td>-0.308238</td>\n",
       "      <td>-0.328590</td>\n",
       "    </tr>\n",
       "    <tr>\n",
       "      <th>99</th>\n",
       "      <td>-0.397775</td>\n",
       "      <td>-0.476436</td>\n",
       "    </tr>\n",
       "  </tbody>\n",
       "</table>\n",
       "<p>100 rows × 2 columns</p>\n",
       "</div>"
      ],
      "text/plain": [
       "           X         y\n",
       "0   0.248625  1.389998\n",
       "1  -0.162305  0.029118\n",
       "2  -0.441693  0.846146\n",
       "3  -0.240254  1.321074\n",
       "4   0.030138 -0.248742\n",
       "..       ...       ...\n",
       "95  0.359677 -1.465467\n",
       "96  0.287195 -0.634895\n",
       "97  0.034685 -1.048480\n",
       "98 -0.308238 -0.328590\n",
       "99 -0.397775 -0.476436\n",
       "\n",
       "[100 rows x 2 columns]"
      ]
     },
     "execution_count": 25,
     "metadata": {},
     "output_type": "execute_result"
    }
   ],
   "source": [
    "df"
   ]
  },
  {
   "cell_type": "code",
   "execution_count": 26,
   "id": "20292cf0",
   "metadata": {},
   "outputs": [
    {
     "data": {
      "text/plain": [
       "<matplotlib.collections.PathCollection at 0x16497377940>"
      ]
     },
     "execution_count": 26,
     "metadata": {},
     "output_type": "execute_result"
    },
    {
     "data": {
      "image/png": "[encoded data removed]",
      "text/plain": [
       "<Figure size 432x288 with 1 Axes>"
      ]
     },
     "metadata": {
      "needs_background": "light"
     },
     "output_type": "display_data"
    }
   ],
   "source": [
    "plt.scatter(df['X'],df['y'])"
   ]
  },
  {
   "cell_type": "code",
   "execution_count": 27,
   "id": "46b751f0",
   "metadata": {},
   "outputs": [],
   "source": [
    "df['pred1']=df['y'].mean()"
   ]
  },
  {
   "cell_type": "code",
   "execution_count": 28,
   "id": "a3f68715",
   "metadata": {},
   "outputs": [
    {
     "data": {
      "text/html": [
       "<div>\n",
       "<style scoped>\n",
       "    .dataframe tbody tr th:only-of-type {\n",
       "        vertical-align: middle;\n",
       "    }\n",
       "\n",
       "    .dataframe tbody tr th {\n",
       "        vertical-align: top;\n",
       "    }\n",
       "\n",
       "    .dataframe thead th {\n",
       "        text-align: right;\n",
       "    }\n",
       "</style>\n",
       "<table border=\"1\" class=\"dataframe\">\n",
       "  <thead>\n",
       "    <tr style=\"text-align: right;\">\n",
       "      <th></th>\n",
       "      <th>X</th>\n",
       "      <th>y</th>\n",
       "      <th>pred1</th>\n",
       "    </tr>\n",
       "  </thead>\n",
       "  <tbody>\n",
       "    <tr>\n",
       "      <th>0</th>\n",
       "      <td>0.248625</td>\n",
       "      <td>1.389998</td>\n",
       "      <td>0.101048</td>\n",
       "    </tr>\n",
       "    <tr>\n",
       "      <th>1</th>\n",
       "      <td>-0.162305</td>\n",
       "      <td>0.029118</td>\n",
       "      <td>0.101048</td>\n",
       "    </tr>\n",
       "    <tr>\n",
       "      <th>2</th>\n",
       "      <td>-0.441693</td>\n",
       "      <td>0.846146</td>\n",
       "      <td>0.101048</td>\n",
       "    </tr>\n",
       "    <tr>\n",
       "      <th>3</th>\n",
       "      <td>-0.240254</td>\n",
       "      <td>1.321074</td>\n",
       "      <td>0.101048</td>\n",
       "    </tr>\n",
       "    <tr>\n",
       "      <th>4</th>\n",
       "      <td>0.030138</td>\n",
       "      <td>-0.248742</td>\n",
       "      <td>0.101048</td>\n",
       "    </tr>\n",
       "    <tr>\n",
       "      <th>...</th>\n",
       "      <td>...</td>\n",
       "      <td>...</td>\n",
       "      <td>...</td>\n",
       "    </tr>\n",
       "    <tr>\n",
       "      <th>95</th>\n",
       "      <td>0.359677</td>\n",
       "      <td>-1.465467</td>\n",
       "      <td>0.101048</td>\n",
       "    </tr>\n",
       "    <tr>\n",
       "      <th>96</th>\n",
       "      <td>0.287195</td>\n",
       "      <td>-0.634895</td>\n",
       "      <td>0.101048</td>\n",
       "    </tr>\n",
       "    <tr>\n",
       "      <th>97</th>\n",
       "      <td>0.034685</td>\n",
       "      <td>-1.048480</td>\n",
       "      <td>0.101048</td>\n",
       "    </tr>\n",
       "    <tr>\n",
       "      <th>98</th>\n",
       "      <td>-0.308238</td>\n",
       "      <td>-0.328590</td>\n",
       "      <td>0.101048</td>\n",
       "    </tr>\n",
       "    <tr>\n",
       "      <th>99</th>\n",
       "      <td>-0.397775</td>\n",
       "      <td>-0.476436</td>\n",
       "      <td>0.101048</td>\n",
       "    </tr>\n",
       "  </tbody>\n",
       "</table>\n",
       "<p>100 rows × 3 columns</p>\n",
       "</div>"
      ],
      "text/plain": [
       "           X         y     pred1\n",
       "0   0.248625  1.389998  0.101048\n",
       "1  -0.162305  0.029118  0.101048\n",
       "2  -0.441693  0.846146  0.101048\n",
       "3  -0.240254  1.321074  0.101048\n",
       "4   0.030138 -0.248742  0.101048\n",
       "..       ...       ...       ...\n",
       "95  0.359677 -1.465467  0.101048\n",
       "96  0.287195 -0.634895  0.101048\n",
       "97  0.034685 -1.048480  0.101048\n",
       "98 -0.308238 -0.328590  0.101048\n",
       "99 -0.397775 -0.476436  0.101048\n",
       "\n",
       "[100 rows x 3 columns]"
      ]
     },
     "execution_count": 28,
     "metadata": {},
     "output_type": "execute_result"
    }
   ],
   "source": [
    "df"
   ]
  },
  {
   "cell_type": "code",
   "execution_count": 29,
   "id": "22a98c0e",
   "metadata": {},
   "outputs": [],
   "source": [
    "df['res1']=df['y']-df['pred1']"
   ]
  },
  {
   "cell_type": "code",
   "execution_count": 30,
   "id": "8fccf803",
   "metadata": {},
   "outputs": [
    {
     "data": {
      "text/html": [
       "<div>\n",
       "<style scoped>\n",
       "    .dataframe tbody tr th:only-of-type {\n",
       "        vertical-align: middle;\n",
       "    }\n",
       "\n",
       "    .dataframe tbody tr th {\n",
       "        vertical-align: top;\n",
       "    }\n",
       "\n",
       "    .dataframe thead th {\n",
       "        text-align: right;\n",
       "    }\n",
       "</style>\n",
       "<table border=\"1\" class=\"dataframe\">\n",
       "  <thead>\n",
       "    <tr style=\"text-align: right;\">\n",
       "      <th></th>\n",
       "      <th>X</th>\n",
       "      <th>y</th>\n",
       "      <th>pred1</th>\n",
       "      <th>res1</th>\n",
       "    </tr>\n",
       "  </thead>\n",
       "  <tbody>\n",
       "    <tr>\n",
       "      <th>0</th>\n",
       "      <td>0.248625</td>\n",
       "      <td>1.389998</td>\n",
       "      <td>0.101048</td>\n",
       "      <td>1.288950</td>\n",
       "    </tr>\n",
       "    <tr>\n",
       "      <th>1</th>\n",
       "      <td>-0.162305</td>\n",
       "      <td>0.029118</td>\n",
       "      <td>0.101048</td>\n",
       "      <td>-0.071930</td>\n",
       "    </tr>\n",
       "    <tr>\n",
       "      <th>2</th>\n",
       "      <td>-0.441693</td>\n",
       "      <td>0.846146</td>\n",
       "      <td>0.101048</td>\n",
       "      <td>0.745097</td>\n",
       "    </tr>\n",
       "    <tr>\n",
       "      <th>3</th>\n",
       "      <td>-0.240254</td>\n",
       "      <td>1.321074</td>\n",
       "      <td>0.101048</td>\n",
       "      <td>1.220026</td>\n",
       "    </tr>\n",
       "    <tr>\n",
       "      <th>4</th>\n",
       "      <td>0.030138</td>\n",
       "      <td>-0.248742</td>\n",
       "      <td>0.101048</td>\n",
       "      <td>-0.349790</td>\n",
       "    </tr>\n",
       "    <tr>\n",
       "      <th>...</th>\n",
       "      <td>...</td>\n",
       "      <td>...</td>\n",
       "      <td>...</td>\n",
       "      <td>...</td>\n",
       "    </tr>\n",
       "    <tr>\n",
       "      <th>95</th>\n",
       "      <td>0.359677</td>\n",
       "      <td>-1.465467</td>\n",
       "      <td>0.101048</td>\n",
       "      <td>-1.566516</td>\n",
       "    </tr>\n",
       "    <tr>\n",
       "      <th>96</th>\n",
       "      <td>0.287195</td>\n",
       "      <td>-0.634895</td>\n",
       "      <td>0.101048</td>\n",
       "      <td>-0.735943</td>\n",
       "    </tr>\n",
       "    <tr>\n",
       "      <th>97</th>\n",
       "      <td>0.034685</td>\n",
       "      <td>-1.048480</td>\n",
       "      <td>0.101048</td>\n",
       "      <td>-1.149528</td>\n",
       "    </tr>\n",
       "    <tr>\n",
       "      <th>98</th>\n",
       "      <td>-0.308238</td>\n",
       "      <td>-0.328590</td>\n",
       "      <td>0.101048</td>\n",
       "      <td>-0.429639</td>\n",
       "    </tr>\n",
       "    <tr>\n",
       "      <th>99</th>\n",
       "      <td>-0.397775</td>\n",
       "      <td>-0.476436</td>\n",
       "      <td>0.101048</td>\n",
       "      <td>-0.577484</td>\n",
       "    </tr>\n",
       "  </tbody>\n",
       "</table>\n",
       "<p>100 rows × 4 columns</p>\n",
       "</div>"
      ],
      "text/plain": [
       "           X         y     pred1      res1\n",
       "0   0.248625  1.389998  0.101048  1.288950\n",
       "1  -0.162305  0.029118  0.101048 -0.071930\n",
       "2  -0.441693  0.846146  0.101048  0.745097\n",
       "3  -0.240254  1.321074  0.101048  1.220026\n",
       "4   0.030138 -0.248742  0.101048 -0.349790\n",
       "..       ...       ...       ...       ...\n",
       "95  0.359677 -1.465467  0.101048 -1.566516\n",
       "96  0.287195 -0.634895  0.101048 -0.735943\n",
       "97  0.034685 -1.048480  0.101048 -1.149528\n",
       "98 -0.308238 -0.328590  0.101048 -0.429639\n",
       "99 -0.397775 -0.476436  0.101048 -0.577484\n",
       "\n",
       "[100 rows x 4 columns]"
      ]
     },
     "execution_count": 30,
     "metadata": {},
     "output_type": "execute_result"
    }
   ],
   "source": [
    "df"
   ]
  },
  {
   "cell_type": "code",
   "execution_count": 31,
   "id": "95248d0b",
   "metadata": {},
   "outputs": [
    {
     "data": {
      "image/png": "[encoded data removed]",
      "text/plain": [
       "<Figure size 432x288 with 1 Axes>"
      ]
     },
     "metadata": {
      "needs_background": "light"
     },
     "output_type": "display_data"
    }
   ],
   "source": [
    "plt.scatter(df['X'],df['y'])\n",
    "plt.plot(df['X'],df['pred1'],color='red')\n",
    "plt.show()"
   ]
  },
  {
   "cell_type": "code",
   "execution_count": 32,
   "id": "90faff83",
   "metadata": {},
   "outputs": [],
   "source": [
    "from sklearn.tree import DecisionTreeRegressor"
   ]
  },
  {
   "cell_type": "code",
   "execution_count": 33,
   "id": "86aaac90",
   "metadata": {},
   "outputs": [],
   "source": [
    "tree1=DecisionTreeRegressor(max_leaf_nodes=8)"
   ]
  },
  {
   "cell_type": "code",
   "execution_count": 35,
   "id": "ae1071d1",
   "metadata": {},
   "outputs": [
    {
     "data": {
      "text/plain": [
       "DecisionTreeRegressor(max_leaf_nodes=8)"
      ]
     },
     "execution_count": 35,
     "metadata": {},
     "output_type": "execute_result"
    }
   ],
   "source": [
    "tree1.fit(df['X'].values.reshape(100,1),df['res1'].values)"
   ]
  },
  {
   "cell_type": "code",
   "execution_count": 37,
   "id": "587acf14",
   "metadata": {},
   "outputs": [
    {
     "data": {
      "image/png": "[encoded data removed]",
      "text/plain": [
       "<Figure size 864x720 with 1 Axes>"
      ]
     },
     "metadata": {
      "needs_background": "light"
     },
     "output_type": "display_data"
    }
   ],
   "source": [
    "from sklearn.tree import plot_tree\n",
    "plt.figure(figsize=(12,10))\n",
    "plot_tree(tree1)\n",
    "plt.show()"
   ]
  },
  {
   "cell_type": "code",
   "execution_count": 40,
   "id": "99c59e20",
   "metadata": {},
   "outputs": [],
   "source": [
    "X_test=np.linspace(-0.5,0.5,500)"
   ]
  },
  {
   "cell_type": "code",
   "execution_count": 42,
   "id": "22073e18",
   "metadata": {},
   "outputs": [],
   "source": [
    "y_pred=0.101048+tree1.predict(X_test.reshape(500,1))"
   ]
  },
  {
   "cell_type": "code",
   "execution_count": 43,
   "id": "255c71fd",
   "metadata": {},
   "outputs": [
    {
     "data": {
      "text/plain": [
       "<matplotlib.collections.PathCollection at 0x164998f3340>"
      ]
     },
     "execution_count": 43,
     "metadata": {},
     "output_type": "execute_result"
    },
    {
     "data": {
      "image/png": "[encoded data removed]",
      "text/plain": [
       "<Figure size 1008x288 with 1 Axes>"
      ]
     },
     "metadata": {
      "needs_background": "light"
     },
     "output_type": "display_data"
    }
   ],
   "source": [
    "plt.figure(figsize=(14,4))\n",
    "plt.subplot(121)\n",
    "plt.plot(X_test,y_pred,linewidth=2,color='red')\n",
    "plt.scatter(df['X'],df['y'])"
   ]
  },
  {
   "cell_type": "code",
   "execution_count": 44,
   "id": "72595849",
   "metadata": {},
   "outputs": [],
   "source": [
    "df['pred2']=0.101048+tree1.predict(df['X'].values.reshape(100,1))"
   ]
  },
  {
   "cell_type": "code",
   "execution_count": 45,
   "id": "55916b67",
   "metadata": {},
   "outputs": [
    {
     "data": {
      "text/html": [
       "<div>\n",
       "<style scoped>\n",
       "    .dataframe tbody tr th:only-of-type {\n",
       "        vertical-align: middle;\n",
       "    }\n",
       "\n",
       "    .dataframe tbody tr th {\n",
       "        vertical-align: top;\n",
       "    }\n",
       "\n",
       "    .dataframe thead th {\n",
       "        text-align: right;\n",
       "    }\n",
       "</style>\n",
       "<table border=\"1\" class=\"dataframe\">\n",
       "  <thead>\n",
       "    <tr style=\"text-align: right;\">\n",
       "      <th></th>\n",
       "      <th>X</th>\n",
       "      <th>y</th>\n",
       "      <th>pred1</th>\n",
       "      <th>res1</th>\n",
       "      <th>pred2</th>\n",
       "    </tr>\n",
       "  </thead>\n",
       "  <tbody>\n",
       "    <tr>\n",
       "      <th>0</th>\n",
       "      <td>0.248625</td>\n",
       "      <td>1.389998</td>\n",
       "      <td>0.101048</td>\n",
       "      <td>1.288950</td>\n",
       "      <td>0.197731</td>\n",
       "    </tr>\n",
       "    <tr>\n",
       "      <th>1</th>\n",
       "      <td>-0.162305</td>\n",
       "      <td>0.029118</td>\n",
       "      <td>0.101048</td>\n",
       "      <td>-0.071930</td>\n",
       "      <td>-0.326257</td>\n",
       "    </tr>\n",
       "    <tr>\n",
       "      <th>2</th>\n",
       "      <td>-0.441693</td>\n",
       "      <td>0.846146</td>\n",
       "      <td>0.101048</td>\n",
       "      <td>0.745097</td>\n",
       "      <td>0.334797</td>\n",
       "    </tr>\n",
       "    <tr>\n",
       "      <th>3</th>\n",
       "      <td>-0.240254</td>\n",
       "      <td>1.321074</td>\n",
       "      <td>0.101048</td>\n",
       "      <td>1.220026</td>\n",
       "      <td>1.224723</td>\n",
       "    </tr>\n",
       "    <tr>\n",
       "      <th>4</th>\n",
       "      <td>0.030138</td>\n",
       "      <td>-0.248742</td>\n",
       "      <td>0.101048</td>\n",
       "      <td>-0.349790</td>\n",
       "      <td>-0.326257</td>\n",
       "    </tr>\n",
       "    <tr>\n",
       "      <th>...</th>\n",
       "      <td>...</td>\n",
       "      <td>...</td>\n",
       "      <td>...</td>\n",
       "      <td>...</td>\n",
       "      <td>...</td>\n",
       "    </tr>\n",
       "    <tr>\n",
       "      <th>95</th>\n",
       "      <td>0.359677</td>\n",
       "      <td>-1.465467</td>\n",
       "      <td>0.101048</td>\n",
       "      <td>-1.566516</td>\n",
       "      <td>0.197731</td>\n",
       "    </tr>\n",
       "    <tr>\n",
       "      <th>96</th>\n",
       "      <td>0.287195</td>\n",
       "      <td>-0.634895</td>\n",
       "      <td>0.101048</td>\n",
       "      <td>-0.735943</td>\n",
       "      <td>0.197731</td>\n",
       "    </tr>\n",
       "    <tr>\n",
       "      <th>97</th>\n",
       "      <td>0.034685</td>\n",
       "      <td>-1.048480</td>\n",
       "      <td>0.101048</td>\n",
       "      <td>-1.149528</td>\n",
       "      <td>-0.326257</td>\n",
       "    </tr>\n",
       "    <tr>\n",
       "      <th>98</th>\n",
       "      <td>-0.308238</td>\n",
       "      <td>-0.328590</td>\n",
       "      <td>0.101048</td>\n",
       "      <td>-0.429639</td>\n",
       "      <td>0.334797</td>\n",
       "    </tr>\n",
       "    <tr>\n",
       "      <th>99</th>\n",
       "      <td>-0.397775</td>\n",
       "      <td>-0.476436</td>\n",
       "      <td>0.101048</td>\n",
       "      <td>-0.577484</td>\n",
       "      <td>0.334797</td>\n",
       "    </tr>\n",
       "  </tbody>\n",
       "</table>\n",
       "<p>100 rows × 5 columns</p>\n",
       "</div>"
      ],
      "text/plain": [
       "           X         y     pred1      res1     pred2\n",
       "0   0.248625  1.389998  0.101048  1.288950  0.197731\n",
       "1  -0.162305  0.029118  0.101048 -0.071930 -0.326257\n",
       "2  -0.441693  0.846146  0.101048  0.745097  0.334797\n",
       "3  -0.240254  1.321074  0.101048  1.220026  1.224723\n",
       "4   0.030138 -0.248742  0.101048 -0.349790 -0.326257\n",
       "..       ...       ...       ...       ...       ...\n",
       "95  0.359677 -1.465467  0.101048 -1.566516  0.197731\n",
       "96  0.287195 -0.634895  0.101048 -0.735943  0.197731\n",
       "97  0.034685 -1.048480  0.101048 -1.149528 -0.326257\n",
       "98 -0.308238 -0.328590  0.101048 -0.429639  0.334797\n",
       "99 -0.397775 -0.476436  0.101048 -0.577484  0.334797\n",
       "\n",
       "[100 rows x 5 columns]"
      ]
     },
     "execution_count": 45,
     "metadata": {},
     "output_type": "execute_result"
    }
   ],
   "source": [
    "df"
   ]
  },
  {
   "cell_type": "code",
   "execution_count": 46,
   "id": "791d89b4",
   "metadata": {},
   "outputs": [],
   "source": [
    "df['res2']=df['y']-df['pred2']"
   ]
  },
  {
   "cell_type": "code",
   "execution_count": 47,
   "id": "532c8700",
   "metadata": {},
   "outputs": [
    {
     "data": {
      "text/html": [
       "<div>\n",
       "<style scoped>\n",
       "    .dataframe tbody tr th:only-of-type {\n",
       "        vertical-align: middle;\n",
       "    }\n",
       "\n",
       "    .dataframe tbody tr th {\n",
       "        vertical-align: top;\n",
       "    }\n",
       "\n",
       "    .dataframe thead th {\n",
       "        text-align: right;\n",
       "    }\n",
       "</style>\n",
       "<table border=\"1\" class=\"dataframe\">\n",
       "  <thead>\n",
       "    <tr style=\"text-align: right;\">\n",
       "      <th></th>\n",
       "      <th>X</th>\n",
       "      <th>y</th>\n",
       "      <th>pred1</th>\n",
       "      <th>res1</th>\n",
       "      <th>pred2</th>\n",
       "      <th>res2</th>\n",
       "    </tr>\n",
       "  </thead>\n",
       "  <tbody>\n",
       "    <tr>\n",
       "      <th>0</th>\n",
       "      <td>0.248625</td>\n",
       "      <td>1.389998</td>\n",
       "      <td>0.101048</td>\n",
       "      <td>1.288950</td>\n",
       "      <td>0.197731</td>\n",
       "      <td>1.192266</td>\n",
       "    </tr>\n",
       "    <tr>\n",
       "      <th>1</th>\n",
       "      <td>-0.162305</td>\n",
       "      <td>0.029118</td>\n",
       "      <td>0.101048</td>\n",
       "      <td>-0.071930</td>\n",
       "      <td>-0.326257</td>\n",
       "      <td>0.355376</td>\n",
       "    </tr>\n",
       "    <tr>\n",
       "      <th>2</th>\n",
       "      <td>-0.441693</td>\n",
       "      <td>0.846146</td>\n",
       "      <td>0.101048</td>\n",
       "      <td>0.745097</td>\n",
       "      <td>0.334797</td>\n",
       "      <td>0.511348</td>\n",
       "    </tr>\n",
       "    <tr>\n",
       "      <th>3</th>\n",
       "      <td>-0.240254</td>\n",
       "      <td>1.321074</td>\n",
       "      <td>0.101048</td>\n",
       "      <td>1.220026</td>\n",
       "      <td>1.224723</td>\n",
       "      <td>0.096351</td>\n",
       "    </tr>\n",
       "    <tr>\n",
       "      <th>4</th>\n",
       "      <td>0.030138</td>\n",
       "      <td>-0.248742</td>\n",
       "      <td>0.101048</td>\n",
       "      <td>-0.349790</td>\n",
       "      <td>-0.326257</td>\n",
       "      <td>0.077515</td>\n",
       "    </tr>\n",
       "    <tr>\n",
       "      <th>...</th>\n",
       "      <td>...</td>\n",
       "      <td>...</td>\n",
       "      <td>...</td>\n",
       "      <td>...</td>\n",
       "      <td>...</td>\n",
       "      <td>...</td>\n",
       "    </tr>\n",
       "    <tr>\n",
       "      <th>95</th>\n",
       "      <td>0.359677</td>\n",
       "      <td>-1.465467</td>\n",
       "      <td>0.101048</td>\n",
       "      <td>-1.566516</td>\n",
       "      <td>0.197731</td>\n",
       "      <td>-1.663199</td>\n",
       "    </tr>\n",
       "    <tr>\n",
       "      <th>96</th>\n",
       "      <td>0.287195</td>\n",
       "      <td>-0.634895</td>\n",
       "      <td>0.101048</td>\n",
       "      <td>-0.735943</td>\n",
       "      <td>0.197731</td>\n",
       "      <td>-0.832626</td>\n",
       "    </tr>\n",
       "    <tr>\n",
       "      <th>97</th>\n",
       "      <td>0.034685</td>\n",
       "      <td>-1.048480</td>\n",
       "      <td>0.101048</td>\n",
       "      <td>-1.149528</td>\n",
       "      <td>-0.326257</td>\n",
       "      <td>-0.722222</td>\n",
       "    </tr>\n",
       "    <tr>\n",
       "      <th>98</th>\n",
       "      <td>-0.308238</td>\n",
       "      <td>-0.328590</td>\n",
       "      <td>0.101048</td>\n",
       "      <td>-0.429639</td>\n",
       "      <td>0.334797</td>\n",
       "      <td>-0.663388</td>\n",
       "    </tr>\n",
       "    <tr>\n",
       "      <th>99</th>\n",
       "      <td>-0.397775</td>\n",
       "      <td>-0.476436</td>\n",
       "      <td>0.101048</td>\n",
       "      <td>-0.577484</td>\n",
       "      <td>0.334797</td>\n",
       "      <td>-0.811234</td>\n",
       "    </tr>\n",
       "  </tbody>\n",
       "</table>\n",
       "<p>100 rows × 6 columns</p>\n",
       "</div>"
      ],
      "text/plain": [
       "           X         y     pred1      res1     pred2      res2\n",
       "0   0.248625  1.389998  0.101048  1.288950  0.197731  1.192266\n",
       "1  -0.162305  0.029118  0.101048 -0.071930 -0.326257  0.355376\n",
       "2  -0.441693  0.846146  0.101048  0.745097  0.334797  0.511348\n",
       "3  -0.240254  1.321074  0.101048  1.220026  1.224723  0.096351\n",
       "4   0.030138 -0.248742  0.101048 -0.349790 -0.326257  0.077515\n",
       "..       ...       ...       ...       ...       ...       ...\n",
       "95  0.359677 -1.465467  0.101048 -1.566516  0.197731 -1.663199\n",
       "96  0.287195 -0.634895  0.101048 -0.735943  0.197731 -0.832626\n",
       "97  0.034685 -1.048480  0.101048 -1.149528 -0.326257 -0.722222\n",
       "98 -0.308238 -0.328590  0.101048 -0.429639  0.334797 -0.663388\n",
       "99 -0.397775 -0.476436  0.101048 -0.577484  0.334797 -0.811234\n",
       "\n",
       "[100 rows x 6 columns]"
      ]
     },
     "execution_count": 47,
     "metadata": {},
     "output_type": "execute_result"
    }
   ],
   "source": [
    "df"
   ]
  },
  {
   "cell_type": "code",
   "execution_count": 48,
   "id": "44719818",
   "metadata": {},
   "outputs": [],
   "source": [
    "tree2=DecisionTreeRegressor(max_leaf_nodes=8)"
   ]
  },
  {
   "cell_type": "code",
   "execution_count": 49,
   "id": "b85d9a2a",
   "metadata": {},
   "outputs": [
    {
     "data": {
      "text/plain": [
       "DecisionTreeRegressor(max_leaf_nodes=8)"
      ]
     },
     "execution_count": 49,
     "metadata": {},
     "output_type": "execute_result"
    }
   ],
   "source": [
    "tree2.fit(df['X'].values.reshape(100,1),df['res2'].values)"
   ]
  },
  {
   "cell_type": "code",
   "execution_count": 50,
   "id": "f5f13c58",
   "metadata": {},
   "outputs": [],
   "source": [
    "y_pred=0.101048+sum(regressor.predict(X_test.reshape(-1,1)) for regressor in [tree1,tree2])"
   ]
  },
  {
   "cell_type": "code",
   "execution_count": 53,
   "id": "88de2113",
   "metadata": {},
   "outputs": [
    {
     "data": {
      "text/plain": [
       "<matplotlib.collections.PathCollection at 0x16499b614c0>"
      ]
     },
     "execution_count": 53,
     "metadata": {},
     "output_type": "execute_result"
    },
    {
     "data": {
      "image/png": "[encoded data removed]",
      "text/plain": [
       "<Figure size 1008x288 with 1 Axes>"
      ]
     },
     "metadata": {
      "needs_background": "light"
     },
     "output_type": "display_data"
    }
   ],
   "source": [
    "plt.figure(figsize=(14,4))\n",
    "plt.subplot(121)\n",
    "plt.plot(X_test,y_pred,linewidth=2,color='red')\n",
    "plt.scatter(df['X'],df['y'])"
   ]
  },
  {
   "cell_type": "code",
   "execution_count": null,
   "id": "d4abc8b5",
   "metadata": {},
   "outputs": [],
   "source": []
  },
  {
   "cell_type": "code",
   "execution_count": null,
   "id": "16cea087",
   "metadata": {},
   "outputs": [],
   "source": []
  },
  {
   "cell_type": "code",
   "execution_count": null,
   "id": "a4fbc5b2",
   "metadata": {},
   "outputs": [],
   "source": []
  },
  {
   "cell_type": "code",
   "execution_count": null,
   "id": "1299cf74",
   "metadata": {},
   "outputs": [],
   "source": []
  },
  {
   "cell_type": "code",
   "execution_count": null,
   "id": "b671e253",
   "metadata": {},
   "outputs": [],
   "source": []
  },
  {
   "cell_type": "code",
   "execution_count": null,
   "id": "bb1965a5",
   "metadata": {},
   "outputs": [],
   "source": []
  }
 ],
 "metadata": {
  "kernelspec": {
   "display_name": "Python 3",
   "language": "python",
   "name": "python3"
  },
  "language_info": {
   "codemirror_mode": {
    "name": "ipython",
    "version": 3
   },
   "file_extension": ".py",
   "mimetype": "text/x-python",
   "name": "python",
   "nbconvert_exporter": "python",
   "pygments_lexer": "ipython3",
   "version": "3.8.8"
  }
 },
 "nbformat": 4,
 "nbformat_minor": 5
}
