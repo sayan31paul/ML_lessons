{
 "cells": [
  {
   "cell_type": "code",
   "execution_count": 2,
   "id": "69f85a0c",
   "metadata": {},
   "outputs": [
    {
     "name": "stdout",
     "output_type": "stream",
     "text": [
      "Collecting pygame\n",
      "  Downloading pygame-2.1.2-cp38-cp38-win_amd64.whl (8.4 MB)\n",
      "     ---------------------------------------- 8.4/8.4 MB 7.9 MB/s eta 0:00:00\n",
      "Installing collected packages: pygame\n",
      "Successfully installed pygame-2.1.2\n",
      "Note: you may need to restart the kernel to use updated packages.\n"
     ]
    },
    {
     "name": "stderr",
     "output_type": "stream",
     "text": [
      "WARNING: You are using pip version 22.0.4; however, version 22.3.1 is available.\n",
      "You should consider upgrading via the 'C:\\Users\\sayan\\anaconda3\\python.exe -m pip install --upgrade pip' command.\n"
     ]
    }
   ],
   "source": [
    "pip install pygame"
   ]
  },
  {
   "cell_type": "code",
   "execution_count": 17,
   "id": "5870a6d2",
   "metadata": {},
   "outputs": [],
   "source": [
    "import datetime\n",
    "from datetime import datetime\n",
    "#print(datetime.now().date())\n",
    "\n",
    "file1 = open(\"Health.txt\",\"a\")\n",
    "file1.write(f\"Today's date is {datetime.now().date()}\")\n",
    "file1.write(\"\\n\")\n",
    "file1.close()\n",
    "\n",
    "# if(datetime.datetime.now().time() == (6, 20, 0, 0)):\n",
    "from pygame import mixer\n",
    "def playmusic():\n",
    "    mixer.init()\n",
    "    mixer.music.load(\"song.mp3\")\n",
    "    mixer.music.set_volume(0.7)\n",
    "    mixer.music.play()\n",
    "    x=input(\"enter stop to stop\")\n",
    "    if x==\"stop\":\n",
    "        mixer.music.stop()\n",
    "    #break\n",
    "\n",
    "def record(item):\n",
    "    file1 = open(\"Health.txt\", \"a\")\n",
    "    file1.write(f\"You {item} on {datetime.now.time()}\")\n",
    "    file1.close()\n",
    "\n",
    "\n",
    "current_time=datetime.now().time()\n",
    "if (current_time.hour<9):\n",
    "    print(\"Your office time has not started yet\")\n",
    "elif(current_time.hour>17):\n",
    "    print(\"Your office time is over\")\n",
    "else:\n",
    "    from datetime import time\n",
    "    current_modified_water=time(9,0,0)\n",
    "    current_modified_eyes = time(9, 0, 0)\n",
    "    current_modified_exercise = time(9, 0, 0)\n",
    "\n",
    "    while(datetime.now().time().hour<17 and datetime.now().time().minute<30):\n",
    "        if (datetime.now().time()==current_modified_water):\n",
    "            playmusic()\n",
    "            record(\"had water\")\n",
    "            #if a==stop:\n",
    "                #stop the alarm\n",
    "            current_modified_water=current_modified_water+datetime.timedelta(minutes=30)\n",
    "\n",
    "        if (datetime.now().time()==current_modified_eyes):\n",
    "            playmusic()\n",
    "            record(\"had eye exercise\")\n",
    "            # if a==stop:\n",
    "            # stop the alarm\n",
    "            current_modified_eyes = current_modified_eyes + datetime.timedelta(minutes=45)\n",
    "\n",
    "\n",
    "        if (datetime.now().time()==current_modified_exercise):\n",
    "            playmusic()\n",
    "            record(\"had workout\")\n",
    "            # if a==stop:\n",
    "            # stop the alarm\n",
    "            current_modified_exercise = current_modified_exercise + datetime.timedelta(minutes=30)\n"
   ]
  },
  {
   "cell_type": "code",
   "execution_count": null,
   "id": "8675bf1d",
   "metadata": {},
   "outputs": [],
   "source": []
  }
 ],
 "metadata": {
  "kernelspec": {
   "display_name": "Python 3",
   "language": "python",
   "name": "python3"
  },
  "language_info": {
   "codemirror_mode": {
    "name": "ipython",
    "version": 3
   },
   "file_extension": ".py",
   "mimetype": "text/x-python",
   "name": "python",
   "nbconvert_exporter": "python",
   "pygments_lexer": "ipython3",
   "version": "3.8.8"
  }
 },
 "nbformat": 4,
 "nbformat_minor": 5
}
