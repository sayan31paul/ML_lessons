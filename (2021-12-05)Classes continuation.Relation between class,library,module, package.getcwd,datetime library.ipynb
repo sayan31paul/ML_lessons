{
 "cells": [
  {
   "cell_type": "raw",
   "id": "16394073",
   "metadata": {},
   "source": [
    "Attributes=Data members and methods inside a function is known as attributes."
   ]
  },
  {
   "cell_type": "code",
   "execution_count": 3,
   "id": "4896b7e2",
   "metadata": {},
   "outputs": [],
   "source": [
    "class company:\n",
    "    #class variable\n",
    "    revenue=80000    #variables outside any method are known as class variables.\n",
    "    \n",
    "    \n",
    "    def __init__(self,name,location,number_of_employees): #name,location,number_of_employees are instance variables.\n",
    "        self.name=name\n",
    "        self.location=location\n",
    "        self.number_of_employees=number_of_employees"
   ]
  },
  {
   "cell_type": "code",
   "execution_count": 4,
   "id": "edb224a4",
   "metadata": {},
   "outputs": [
    {
     "name": "stdout",
     "output_type": "stream",
     "text": [
      "George\n",
      "London\n",
      "400\n"
     ]
    }
   ],
   "source": [
    "c=company(\"George\",'London',400)\n",
    "print(c.name)\n",
    "print(c.location)\n",
    "print(c.number_of_employees)"
   ]
  },
  {
   "cell_type": "code",
   "execution_count": 5,
   "id": "3e4c21d1",
   "metadata": {},
   "outputs": [
    {
     "data": {
      "text/plain": [
       "80000"
      ]
     },
     "execution_count": 5,
     "metadata": {},
     "output_type": "execute_result"
    }
   ],
   "source": [
    "#accessing class variable\n",
    "c.revenue"
   ]
  },
  {
   "cell_type": "code",
   "execution_count": 7,
   "id": "8d8c3d03",
   "metadata": {},
   "outputs": [
    {
     "data": {
      "text/plain": [
       "80000"
      ]
     },
     "execution_count": 7,
     "metadata": {},
     "output_type": "execute_result"
    }
   ],
   "source": [
    "company.revenue #class variables can be accessed using class name.\n",
    "#instance variables cannot be accessed using class name.\n",
    "#company.name is not possible"
   ]
  },
  {
   "cell_type": "code",
   "execution_count": 8,
   "id": "b9cea6f4",
   "metadata": {},
   "outputs": [
    {
     "ename": "AttributeError",
     "evalue": "type object 'company' has no attribute 'name'",
     "output_type": "error",
     "traceback": [
      "\u001b[1;31m---------------------------------------------------------------------------\u001b[0m",
      "\u001b[1;31mAttributeError\u001b[0m                            Traceback (most recent call last)",
      "\u001b[1;32m<ipython-input-8-a7e2f04603f0>\u001b[0m in \u001b[0;36m<module>\u001b[1;34m\u001b[0m\n\u001b[1;32m----> 1\u001b[1;33m \u001b[0mcompany\u001b[0m\u001b[1;33m.\u001b[0m\u001b[0mname\u001b[0m\u001b[1;33m\u001b[0m\u001b[1;33m\u001b[0m\u001b[0m\n\u001b[0m",
      "\u001b[1;31mAttributeError\u001b[0m: type object 'company' has no attribute 'name'"
     ]
    }
   ],
   "source": [
    "company.name #instance variables cannot be called using class name."
   ]
  },
  {
   "cell_type": "code",
   "execution_count": 9,
   "id": "bf1e4cfd",
   "metadata": {},
   "outputs": [],
   "source": [
    "class car:\n",
    "    \n",
    "    #constructor to initialize\n",
    "    def __init__(self,company,color):\n",
    "        self.company=company\n",
    "        self.color=color\n",
    "        \n",
    "    #function to print car company and color\n",
    "    def display(self):\n",
    "        print('This is a',self.color,self.company)"
   ]
  },
  {
   "cell_type": "code",
   "execution_count": 14,
   "id": "ddfd9fdb",
   "metadata": {},
   "outputs": [],
   "source": [
    "def main():\n",
    "    c=car(\"Ferrari\",\"Red\") #Object creation and value inserting.\n",
    "    c.display()"
   ]
  },
  {
   "cell_type": "code",
   "execution_count": 15,
   "id": "767a0fea",
   "metadata": {},
   "outputs": [
    {
     "name": "stdout",
     "output_type": "stream",
     "text": [
      "This is a Red Ferrari\n"
     ]
    }
   ],
   "source": [
    "if __name__=='__main__':\n",
    "    main()\n"
   ]
  },
  {
   "cell_type": "code",
   "execution_count": 16,
   "id": "cf53f1f0",
   "metadata": {},
   "outputs": [
    {
     "name": "stdout",
     "output_type": "stream",
     "text": [
      "This is a Red Ferrari\n"
     ]
    }
   ],
   "source": [
    "main()"
   ]
  },
  {
   "cell_type": "code",
   "execution_count": 19,
   "id": "a02a9e81",
   "metadata": {},
   "outputs": [],
   "source": [
    "class employee:\n",
    "     def __init__(self,name,age):\n",
    "            print(\"initialized method called\")\n",
    "            self.name=name\n",
    "            self.age=age\n",
    "            \n",
    "     def getdata(self,name,age):\n",
    "        print(\"getdata method called\")\n",
    "        self.name=name\n",
    "        self.age=age\n",
    "        \n",
    "     def displaydata(self):\n",
    "        print(\"Hello\",self.name,self.age)\n",
    "            \n",
    "    "
   ]
  },
  {
   "cell_type": "code",
   "execution_count": 28,
   "id": "b1504d50",
   "metadata": {},
   "outputs": [],
   "source": [
    "def main():\n",
    "    e=employee(\"William\",35) #here initialize will work. __init__ will be invoked automatically.\n",
    "    e.displaydata()\n",
    "    \n",
    "    e.getdata(\"John\",25)     #getdata need to be invoked separately\n",
    "    e.displaydata()"
   ]
  },
  {
   "cell_type": "code",
   "execution_count": 29,
   "id": "2f5b544f",
   "metadata": {},
   "outputs": [
    {
     "name": "stdout",
     "output_type": "stream",
     "text": [
      "initialized method called\n",
      "Hello William 35\n",
      "getdata method called\n",
      "Hello John 25\n"
     ]
    }
   ],
   "source": [
    "main()"
   ]
  },
  {
   "cell_type": "code",
   "execution_count": 34,
   "id": "fd395ae2",
   "metadata": {},
   "outputs": [
    {
     "name": "stdout",
     "output_type": "stream",
     "text": [
      "initialized method called\n",
      "Hello William 35\n",
      "getdata method called\n",
      "Hello John 25\n"
     ]
    }
   ],
   "source": [
    "if __name__==\"__main__\":\n",
    "    main()"
   ]
  },
  {
   "cell_type": "code",
   "execution_count": 35,
   "id": "916b1ab5",
   "metadata": {},
   "outputs": [],
   "source": [
    "class Player:\n",
    "    def __init__(self,name,age,sport):\n",
    "        print(\"Initialized data for players\")\n",
    "        self.name=name\n",
    "        self.age=age\n",
    "        self.sport=sport\n",
    "        \n",
    "    def getdata(self,name,age,sport):\n",
    "        print(\"Getting data for players\")\n",
    "        self.name=name\n",
    "        self.age=age\n",
    "        self.sport=sport\n",
    "        \n",
    "    def displaydata(self):\n",
    "        print(\"Player details:\",self.name,self.age,self.sport)\n",
    "        \n",
    "    "
   ]
  },
  {
   "cell_type": "code",
   "execution_count": 40,
   "id": "afbd9a45",
   "metadata": {},
   "outputs": [],
   "source": [
    "def main():\n",
    "    p=Player(\"Virat\",35,\"Cricket\")\n",
    "    p.displaydata()\n",
    "    \n",
    "    p.getdata(\"Richard\",45,\"Tennis\")\n",
    "    p.displaydata()"
   ]
  },
  {
   "cell_type": "code",
   "execution_count": 41,
   "id": "760161b0",
   "metadata": {},
   "outputs": [
    {
     "name": "stdout",
     "output_type": "stream",
     "text": [
      "Initialized data for players\n",
      "Player details: Virat 35 Cricket\n",
      "Getting data for players\n",
      "Player details: Richard 45 Tennis\n"
     ]
    }
   ],
   "source": [
    "if __name__==\"__main__\":\n",
    "    main()"
   ]
  },
  {
   "cell_type": "code",
   "execution_count": 52,
   "id": "eba2068d",
   "metadata": {},
   "outputs": [],
   "source": [
    "def main1():\n",
    "    p1=Player(\"Virat\",35,\"Cricket\") #Object cretaed\n",
    "    p1.displaydata()\n",
    "    \n",
    "    p1.getdata(\"Richard\",45,\"Tennis\")\n",
    "    p1.displaydata()\n",
    "    \n",
    "    p2=Player(\"Dhoni\",35,\"Cricket\") #new object created\n",
    "    p2.displaydata()\n",
    "    \n",
    "    p2.getdata(\"Rohit\",45,\"Tennis\")\n",
    "    p2.displaydata()"
   ]
  },
  {
   "cell_type": "code",
   "execution_count": 53,
   "id": "6f9541af",
   "metadata": {},
   "outputs": [
    {
     "name": "stdout",
     "output_type": "stream",
     "text": [
      "Initialized data for players\n",
      "Player details: Virat 35 Cricket\n",
      "Getting data for players\n",
      "Player details: Richard 45 Tennis\n",
      "Initialized data for players\n",
      "Player details: Dhoni 35 Cricket\n",
      "Getting data for players\n",
      "Player details: Rohit 45 Tennis\n"
     ]
    }
   ],
   "source": [
    "main1()"
   ]
  },
  {
   "cell_type": "code",
   "execution_count": 54,
   "id": "32080f89",
   "metadata": {},
   "outputs": [],
   "source": [
    "#In future we are not going to create classes.\n",
    "#we are having ample classes in python. We are going to heavily call these classes"
   ]
  },
  {
   "cell_type": "markdown",
   "id": "67c8721c",
   "metadata": {},
   "source": [
    "# Relation between classes, modules, packages"
   ]
  },
  {
   "cell_type": "raw",
   "id": "71e5a1c5",
   "metadata": {},
   "source": [
    "Methods are contained in classes\n",
    "\n",
    "Classes are contained in modules/libraries.\n",
    "\n",
    "modules/libraries are contained in packages."
   ]
  },
  {
   "cell_type": "code",
   "execution_count": 55,
   "id": "0ab4ecdc",
   "metadata": {},
   "outputs": [],
   "source": [
    "#import modulename\n",
    "import keyword"
   ]
  },
  {
   "cell_type": "code",
   "execution_count": 56,
   "id": "6f3cdb2b",
   "metadata": {},
   "outputs": [
    {
     "name": "stdout",
     "output_type": "stream",
     "text": [
      "['False', 'None', 'True', 'and', 'as', 'assert', 'async', 'await', 'break', 'class', 'continue', 'def', 'del', 'elif', 'else', 'except', 'finally', 'for', 'from', 'global', 'if', 'import', 'in', 'is', 'lambda', 'nonlocal', 'not', 'or', 'pass', 'raise', 'return', 'try', 'while', 'with', 'yield']\n"
     ]
    }
   ],
   "source": [
    "print(keyword.kwlist)  #keywords present in python."
   ]
  },
  {
   "cell_type": "markdown",
   "id": "348a96b1",
   "metadata": {},
   "source": [
    "Python module search path\n",
    "\n",
    "While importing a module, Python looks at several places. Interpreter first looks for built in module then(if not found) into a list of directories defined in sys path. The search is in this order. The current directory."
   ]
  },
  {
   "cell_type": "code",
   "execution_count": 57,
   "id": "645be852",
   "metadata": {},
   "outputs": [
    {
     "data": {
      "text/plain": [
       "['C:\\\\Users\\\\sayan',\n",
       " 'C:\\\\Users\\\\sayan\\\\anaconda3\\\\python38.zip',\n",
       " 'C:\\\\Users\\\\sayan\\\\anaconda3\\\\DLLs',\n",
       " 'C:\\\\Users\\\\sayan\\\\anaconda3\\\\lib',\n",
       " 'C:\\\\Users\\\\sayan\\\\anaconda3',\n",
       " '',\n",
       " 'C:\\\\Users\\\\sayan\\\\anaconda3\\\\lib\\\\site-packages',\n",
       " 'C:\\\\Users\\\\sayan\\\\anaconda3\\\\lib\\\\site-packages\\\\locket-0.2.1-py3.8.egg',\n",
       " 'C:\\\\Users\\\\sayan\\\\anaconda3\\\\lib\\\\site-packages\\\\win32',\n",
       " 'C:\\\\Users\\\\sayan\\\\anaconda3\\\\lib\\\\site-packages\\\\win32\\\\lib',\n",
       " 'C:\\\\Users\\\\sayan\\\\anaconda3\\\\lib\\\\site-packages\\\\Pythonwin',\n",
       " 'C:\\\\Users\\\\sayan\\\\anaconda3\\\\lib\\\\site-packages\\\\IPython\\\\extensions',\n",
       " 'C:\\\\Users\\\\sayan\\\\.ipython']"
      ]
     },
     "execution_count": 57,
     "metadata": {},
     "output_type": "execute_result"
    }
   ],
   "source": [
    "import sys\n",
    "sys.path #Shows the paths available on homepage."
   ]
  },
  {
   "cell_type": "code",
   "execution_count": 61,
   "id": "49b69813",
   "metadata": {},
   "outputs": [
    {
     "data": {
      "text/plain": [
       "'C:\\\\Users\\\\sayan'"
      ]
     },
     "execution_count": 61,
     "metadata": {},
     "output_type": "execute_result"
    }
   ],
   "source": [
    "import os\n",
    "os.getcwd() #Gives the current working directory."
   ]
  },
  {
   "cell_type": "code",
   "execution_count": null,
   "id": "ba3ef926",
   "metadata": {},
   "outputs": [],
   "source": [
    "#Changing the directory\n",
    "# We can change the current working directory using chdir() method.\n",
    "#os.chdir('C:\\\\Users')\n",
    "#os.getcwd()"
   ]
  },
  {
   "cell_type": "code",
   "execution_count": 62,
   "id": "95ab40ea",
   "metadata": {},
   "outputs": [
    {
     "data": {
      "text/plain": [
       "['(2021-11-06)Python basics(Operators ,Data Types, String concatenation, User input, Type Casting).ipynb',\n",
       " '(2021-11-07Python characteristics, Data structures in python, Slicing, Indexing, Negative indexing & slicing .ipynb',\n",
       " '(2021-11-13)List(append ,insert ,sort ,reverse ,pop ,remove, append vs extend, list concatenation ),Tuples, Dictionary.ipynb',\n",
       " '(2021-11-14)(sets)(loop),For,While,Range.ipynb',\n",
       " '(2021-11-20)For loop(working with dictionaries),IF statement, Break or continue keyword,List comprehension.String functions(.upper .lower .swapcase .split .capitalize .title .isupper .islower .isdigit  .isalpha.ipynb',\n",
       " '(2021-11-21)Print statements in different format,Functions,Local, Global variable.ipynb',\n",
       " '(2021-11-27)Functions,Return keyword,Local variable,Variable number of arguments,Lambda functions.ipynb',\n",
       " '(2021-11-28)Lambda functions applied on list,filter(),map(), Exceptions, Object oriented programming, Data members, Methods.ipynb',\n",
       " '(2021-12-04)OOPS continued, Constructor.ipynb',\n",
       " '(2021-12-05)Classes continuation.Relation between class,library,module, package.getcwd.ipynb',\n",
       " '(2022-01-22)data visualization (matplotlib+seaborn).ipynb',\n",
       " '(2022-01-29)Statistics.ipynb',\n",
       " '(2022-01-30)Statistics-2(percentile), Probability,skewness.ipynb',\n",
       " '(2022-02-05)Statistics-2, Inferential statistics,Z score(Hypothesis testing,TTest,corelation test,chi square test),Confusion matrix,ANOVA.ipynb',\n",
       " '(2022-02-06)Outliers(All operations related to outliers),EDA.ipynb',\n",
       " '(2022-02-06)Performing EDA on some datasets.ipynb',\n",
       " '(2022-11-20)For loop(working with dictionaries),IF statement, Break or continue keyword,List comprehension.String functions(.upper .lower .swapcase .split .capitalize .title .isupper .islower .isdigit .ipynb',\n",
       " '.cfx',\n",
       " '.conda',\n",
       " '.condarc',\n",
       " '.continuum',\n",
       " '.cxlayout.ini',\n",
       " '.flrecent',\n",
       " '.fluentconf',\n",
       " '.ipynb_checkpoints',\n",
       " '.ipython',\n",
       " '.jupyter',\n",
       " '.matplotlib',\n",
       " '3D Objects',\n",
       " 'anaconda3',\n",
       " 'AppData',\n",
       " 'Application Data',\n",
       " 'Autodesk',\n",
       " 'brain_size.csv',\n",
       " 'Contacts',\n",
       " 'Cookies',\n",
       " 'Data Visualization(Basic plotting with python).ipynb',\n",
       " 'Data Visualization(Introduction).ipynb',\n",
       " 'Desktop',\n",
       " 'Documents',\n",
       " 'Downloads',\n",
       " 'empl.csv',\n",
       " 'empl.csv.txt',\n",
       " 'emptest.csv',\n",
       " 'Favorites',\n",
       " 'flower.obj',\n",
       " 'house_price_data_median.csv',\n",
       " 'hrdata.csv',\n",
       " 'HR_attrition_rate.csv',\n",
       " 'IntelGraphicsProfiles',\n",
       " 'iris.csv',\n",
       " 'Links',\n",
       " 'Local Settings',\n",
       " 'matplotlib_histogram.png',\n",
       " 'MicrosoftEdgeBackups',\n",
       " 'Music',\n",
       " 'My Documents',\n",
       " 'NetHood',\n",
       " 'NTUSER.DAT',\n",
       " 'ntuser.dat.LOG1',\n",
       " 'ntuser.dat.LOG2',\n",
       " 'NTUSER.DAT{53b39e88-18c4-11ea-a811-000d3aa4692b}.TM.blf',\n",
       " 'NTUSER.DAT{53b39e88-18c4-11ea-a811-000d3aa4692b}.TMContainer00000000000000000001.regtrans-ms',\n",
       " 'NTUSER.DAT{53b39e88-18c4-11ea-a811-000d3aa4692b}.TMContainer00000000000000000002.regtrans-ms',\n",
       " 'ntuser.ini',\n",
       " 'OneDrive',\n",
       " 'pandas for machine learning(Data Cleaning, Hierarchical indexing).ipynb',\n",
       " 'pandas for machine learning(data manipulation).ipynb',\n",
       " 'pandas for machine learning(data manipulation_1).ipynb',\n",
       " 'pandas for machine learning(DataFrame manipulation).ipynb',\n",
       " 'pandas for machine learning(Series Manipulation).ipynb',\n",
       " 'Pictures',\n",
       " 'president_heights.csv',\n",
       " 'PrintHood',\n",
       " 'Recent',\n",
       " 'role_website.csv',\n",
       " 'Saved Games',\n",
       " 'Scores_file.csv',\n",
       " 'seaborn-data',\n",
       " 'Searches',\n",
       " 'SendTo',\n",
       " 'Start Menu',\n",
       " 'student_database.db',\n",
       " 'student_database.db-journal',\n",
       " 'student_marks.csv',\n",
       " 'Templates',\n",
       " 'titanic_train.csv',\n",
       " 'Untitled.ipynb',\n",
       " 'Untitled1.ipynb',\n",
       " 'Untitled10.ipynb',\n",
       " 'Untitled11.ipynb',\n",
       " 'Untitled12.ipynb',\n",
       " 'Untitled13.ipynb',\n",
       " 'Untitled14.ipynb',\n",
       " 'Untitled15.ipynb',\n",
       " 'Untitled16.ipynb',\n",
       " 'Untitled17.ipynb',\n",
       " 'Untitled18.ipynb',\n",
       " 'Untitled19.ipynb',\n",
       " 'Untitled2.ipynb',\n",
       " 'Untitled20.ipynb',\n",
       " 'Untitled21.ipynb',\n",
       " 'Untitled22.ipynb',\n",
       " 'Untitled23.ipynb',\n",
       " 'Untitled24.ipynb',\n",
       " 'Untitled25.ipynb',\n",
       " 'Untitled26.ipynb',\n",
       " 'Untitled27.ipynb',\n",
       " 'Untitled28.ipynb',\n",
       " 'Untitled29.ipynb',\n",
       " 'Untitled3.ipynb',\n",
       " 'Untitled30.ipynb',\n",
       " 'Untitled31.ipynb',\n",
       " 'Untitled32.ipynb',\n",
       " 'Untitled33.ipynb',\n",
       " 'Untitled34.ipynb',\n",
       " 'Untitled35.ipynb',\n",
       " 'Untitled36.ipynb',\n",
       " 'Untitled37.ipynb',\n",
       " 'Untitled38.ipynb',\n",
       " 'Untitled39.ipynb',\n",
       " 'Untitled4.ipynb',\n",
       " 'Untitled40.ipynb',\n",
       " 'Untitled5.ipynb',\n",
       " 'Untitled6.ipynb',\n",
       " 'Untitled7.ipynb',\n",
       " 'Untitled8.ipynb',\n",
       " 'Untitled9.ipynb',\n",
       " 'Videos',\n",
       " 'winequality-red.csv']"
      ]
     },
     "execution_count": 62,
     "metadata": {},
     "output_type": "execute_result"
    }
   ],
   "source": [
    "#Show the files and folders present in current working directory\n",
    "os.listdir()"
   ]
  },
  {
   "cell_type": "code",
   "execution_count": 63,
   "id": "3de843dc",
   "metadata": {},
   "outputs": [],
   "source": [
    "import math"
   ]
  },
  {
   "cell_type": "code",
   "execution_count": 64,
   "id": "ff0cf243",
   "metadata": {},
   "outputs": [
    {
     "data": {
      "text/plain": [
       "3.141592653589793"
      ]
     },
     "execution_count": 64,
     "metadata": {},
     "output_type": "execute_result"
    }
   ],
   "source": [
    "math.pi"
   ]
  },
  {
   "cell_type": "code",
   "execution_count": 65,
   "id": "7d638155",
   "metadata": {},
   "outputs": [
    {
     "data": {
      "text/plain": [
       "4.0"
      ]
     },
     "execution_count": 65,
     "metadata": {},
     "output_type": "execute_result"
    }
   ],
   "source": [
    "math.sqrt(16)"
   ]
  },
  {
   "cell_type": "code",
   "execution_count": 67,
   "id": "5adaee5e",
   "metadata": {},
   "outputs": [
    {
     "data": {
      "text/plain": [
       "3.0"
      ]
     },
     "execution_count": 67,
     "metadata": {},
     "output_type": "execute_result"
    }
   ],
   "source": [
    "math.pow(27,(1/3))"
   ]
  },
  {
   "cell_type": "code",
   "execution_count": 68,
   "id": "0c3f36c6",
   "metadata": {},
   "outputs": [
    {
     "data": {
      "text/plain": [
       "8.0"
      ]
     },
     "execution_count": 68,
     "metadata": {},
     "output_type": "execute_result"
    }
   ],
   "source": [
    "math.pow(2,3)"
   ]
  },
  {
   "cell_type": "code",
   "execution_count": 72,
   "id": "8adc5ffc",
   "metadata": {},
   "outputs": [
    {
     "data": {
      "text/plain": [
       "3.141592653589793"
      ]
     },
     "execution_count": 72,
     "metadata": {},
     "output_type": "execute_result"
    }
   ],
   "source": [
    "#Think that we donot need the entire math library.\n",
    "#We need only the pi\n",
    "from math import pi\n",
    "pi"
   ]
  },
  {
   "cell_type": "code",
   "execution_count": 71,
   "id": "0ea1c16b",
   "metadata": {},
   "outputs": [
    {
     "data": {
      "text/plain": [
       "3.0"
      ]
     },
     "execution_count": 71,
     "metadata": {},
     "output_type": "execute_result"
    }
   ],
   "source": [
    "from math import sqrt\n",
    "sqrt(9)"
   ]
  },
  {
   "cell_type": "code",
   "execution_count": 2,
   "id": "32f93a6f",
   "metadata": {},
   "outputs": [],
   "source": [
    "import datetime"
   ]
  },
  {
   "cell_type": "code",
   "execution_count": 3,
   "id": "75ab5658",
   "metadata": {},
   "outputs": [
    {
     "data": {
      "text/plain": [
       "datetime.datetime(2022, 3, 25, 4, 40, 22, 466582)"
      ]
     },
     "execution_count": 3,
     "metadata": {},
     "output_type": "execute_result"
    }
   ],
   "source": [
    "#Get current date and time.\n",
    "dt=datetime.datetime.now() #module name-datetime, classname-datetime, method-now()\n",
    "dt"
   ]
  },
  {
   "cell_type": "code",
   "execution_count": 76,
   "id": "1dd060d4",
   "metadata": {},
   "outputs": [
    {
     "data": {
      "text/plain": [
       "datetime.date(2022, 2, 12)"
      ]
     },
     "execution_count": 76,
     "metadata": {},
     "output_type": "execute_result"
    }
   ],
   "source": [
    "#Get current date\n",
    "dt=datetime.date.today() #module-datetime, classname-date, method-today()\n",
    "dt"
   ]
  },
  {
   "cell_type": "code",
   "execution_count": 77,
   "id": "14d9b4ac",
   "metadata": {},
   "outputs": [
    {
     "data": {
      "text/plain": [
       "datetime.date(2021, 5, 25)"
      ]
     },
     "execution_count": 77,
     "metadata": {},
     "output_type": "execute_result"
    }
   ],
   "source": [
    "#Storing a date in a variable\n",
    "d=datetime.date(2021,5,25)\n",
    "d"
   ]
  },
  {
   "cell_type": "code",
   "execution_count": 78,
   "id": "cca459f4",
   "metadata": {},
   "outputs": [
    {
     "data": {
      "text/plain": [
       "datetime.date(2021, 5, 26)"
      ]
     },
     "execution_count": 78,
     "metadata": {},
     "output_type": "execute_result"
    }
   ],
   "source": [
    "from datetime import date\n",
    "a=date(2021,5,26)\n",
    "a"
   ]
  },
  {
   "cell_type": "code",
   "execution_count": 81,
   "id": "c56024f5",
   "metadata": {},
   "outputs": [
    {
     "data": {
      "text/plain": [
       "datetime.date(2022, 2, 12)"
      ]
     },
     "execution_count": 81,
     "metadata": {},
     "output_type": "execute_result"
    }
   ],
   "source": [
    "#get current date\n",
    "td=date.today()\n",
    "td"
   ]
  },
  {
   "cell_type": "code",
   "execution_count": 82,
   "id": "75fcbea9",
   "metadata": {},
   "outputs": [
    {
     "name": "stdout",
     "output_type": "stream",
     "text": [
      "Year= 2022\n",
      "Month= 2\n",
      "Date= 12\n"
     ]
    }
   ],
   "source": [
    "print(\"Year=\",td.year)\n",
    "print(\"Month=\",td.month)\n",
    "print(\"Date=\",td.day)"
   ]
  },
  {
   "cell_type": "markdown",
   "id": "ab9cdd14",
   "metadata": {},
   "source": [
    "A time object instantiated from time class represents the local time"
   ]
  },
  {
   "cell_type": "code",
   "execution_count": 1,
   "id": "d38b1e30",
   "metadata": {},
   "outputs": [
    {
     "name": "stdout",
     "output_type": "stream",
     "text": [
      "00:00:00\n",
      "21:35:56\n"
     ]
    }
   ],
   "source": [
    "from datetime import time\n",
    "a=time()\n",
    "print(a)\n",
    "\n",
    "#time(hour,minute,second)\n",
    "b=time(21,35,56)\n",
    "print(b)"
   ]
  },
  {
   "cell_type": "code",
   "execution_count": 84,
   "id": "a5c7347a",
   "metadata": {},
   "outputs": [
    {
     "name": "stdout",
     "output_type": "stream",
     "text": [
      "Hour= 11\n",
      "Minute= 35\n",
      "Second= 56\n"
     ]
    }
   ],
   "source": [
    "print(\"Hour=\",b.hour)\n",
    "print(\"Minute=\",b.minute)\n",
    "print(\"Second=\",b.second)"
   ]
  },
  {
   "cell_type": "code",
   "execution_count": 85,
   "id": "ff265085",
   "metadata": {},
   "outputs": [
    {
     "name": "stdout",
     "output_type": "stream",
     "text": [
      "2021-04-26 00:00:00\n"
     ]
    }
   ],
   "source": [
    "from datetime import datetime\n",
    "a=datetime(2021,4,26)\n",
    "print(a)"
   ]
  },
  {
   "cell_type": "code",
   "execution_count": 86,
   "id": "4913987c",
   "metadata": {},
   "outputs": [
    {
     "name": "stdout",
     "output_type": "stream",
     "text": [
      "Year= 2021\n",
      "Month= 2\n",
      "Date= 27\n",
      "Hour= 17\n",
      "Minute= 30\n",
      "Second= 50\n"
     ]
    }
   ],
   "source": [
    "#datetime(year,month,date,hour,minute,second)\n",
    "b=datetime(2021,2,27,17,30,50)\n",
    "print(\"Year=\",b.year)\n",
    "print(\"Month=\",b.month)\n",
    "print(\"Date=\",b.day)\n",
    "print(\"Hour=\",b.hour)\n",
    "print(\"Minute=\",b.minute)\n",
    "print(\"Second=\",b.second)"
   ]
  },
  {
   "cell_type": "code",
   "execution_count": null,
   "id": "6373d915",
   "metadata": {},
   "outputs": [],
   "source": []
  },
  {
   "cell_type": "code",
   "execution_count": null,
   "id": "1714a141",
   "metadata": {},
   "outputs": [],
   "source": []
  },
  {
   "cell_type": "code",
   "execution_count": null,
   "id": "cd205d6e",
   "metadata": {},
   "outputs": [],
   "source": []
  },
  {
   "cell_type": "code",
   "execution_count": null,
   "id": "d6308a7a",
   "metadata": {},
   "outputs": [],
   "source": []
  },
  {
   "cell_type": "code",
   "execution_count": null,
   "id": "267068d5",
   "metadata": {},
   "outputs": [],
   "source": []
  },
  {
   "cell_type": "code",
   "execution_count": null,
   "id": "57823e76",
   "metadata": {},
   "outputs": [],
   "source": []
  },
  {
   "cell_type": "code",
   "execution_count": null,
   "id": "d9bcb05e",
   "metadata": {},
   "outputs": [],
   "source": []
  },
  {
   "cell_type": "markdown",
   "id": "4dc139b7",
   "metadata": {},
   "source": []
  },
  {
   "cell_type": "code",
   "execution_count": null,
   "id": "7982762b",
   "metadata": {},
   "outputs": [],
   "source": []
  },
  {
   "cell_type": "code",
   "execution_count": null,
   "id": "8ded9256",
   "metadata": {},
   "outputs": [],
   "source": []
  },
  {
   "cell_type": "code",
   "execution_count": null,
   "id": "83d0b507",
   "metadata": {},
   "outputs": [],
   "source": []
  },
  {
   "cell_type": "code",
   "execution_count": null,
   "id": "7919d536",
   "metadata": {},
   "outputs": [],
   "source": []
  },
  {
   "cell_type": "code",
   "execution_count": null,
   "id": "0cb686f0",
   "metadata": {},
   "outputs": [],
   "source": []
  }
 ],
 "metadata": {
  "kernelspec": {
   "display_name": "Python 3",
   "language": "python",
   "name": "python3"
  },
  "language_info": {
   "codemirror_mode": {
    "name": "ipython",
    "version": 3
   },
   "file_extension": ".py",
   "mimetype": "text/x-python",
   "name": "python",
   "nbconvert_exporter": "python",
   "pygments_lexer": "ipython3",
   "version": "3.8.8"
  }
 },
 "nbformat": 4,
 "nbformat_minor": 5
}
