{
 "cells": [
  {
   "cell_type": "code",
   "execution_count": null,
   "id": "089a3e7c",
   "metadata": {},
   "outputs": [],
   "source": [
    "Tensorflow is of two types:-\n",
    "    1. TensorFlow 1.0 (Most researches are based on Tensorflow 1)\n",
    "    This is very difficlut to code, but very fast and flexible because it is based on C and C++\n",
    "    2. TensorFlow 2.0 (TensorFlow 2 is integrated with Keras and we can use a large part of keras in Tensorflow 2)\n",
    "    Comparatively easy than Tensorflow1"
   ]
  },
  {
   "cell_type": "markdown",
   "id": "3fc94067",
   "metadata": {},
   "source": [
    "# Architecture of TensorFlow"
   ]
  },
  {
   "cell_type": "code",
   "execution_count": null,
   "id": "4a9aa8f9",
   "metadata": {},
   "outputs": [],
   "source": [
    "Architecture of tensorflow has the follwing parts:\n",
    "    1. Graph\n",
    "    2. Sessions\n",
    "    \n",
    "    Graph helps to build the whole model architecture.\n",
    "    After the architecture has been built, it is sent to the sessions where the get the values and compute the graph."
   ]
  }
 ],
 "metadata": {
  "kernelspec": {
   "display_name": "Python 3",
   "language": "python",
   "name": "python3"
  },
  "language_info": {
   "codemirror_mode": {
    "name": "ipython",
    "version": 3
   },
   "file_extension": ".py",
   "mimetype": "text/x-python",
   "name": "python",
   "nbconvert_exporter": "python",
   "pygments_lexer": "ipython3",
   "version": "3.8.8"
  }
 },
 "nbformat": 4,
 "nbformat_minor": 5
}
