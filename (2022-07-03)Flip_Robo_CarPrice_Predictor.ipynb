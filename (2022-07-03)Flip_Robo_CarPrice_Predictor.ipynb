{
 "cells": [
  {
   "cell_type": "code",
   "execution_count": 1,
   "id": "3c0fe89b",
   "metadata": {},
   "outputs": [],
   "source": [
    "import pandas as pd\n",
    "import numpy as np\n",
    "import matplotlib.pyplot as plt\n",
    "import seaborn as sns\n",
    "import datetime\n",
    "import warnings\n",
    "warnings.filterwarnings('ignore')\n",
    "from sklearn.preprocessing import LabelEncoder\n",
    "from sklearn.preprocessing import StandardScaler,power_transform\n",
    "from sklearn.preprocessing import PowerTransformer\n",
    "from sklearn.decomposition import PCA\n",
    "from sklearn.model_selection import train_test_split\n",
    "from sklearn.linear_model import LinearRegression,Lasso,Ridge\n",
    "from sklearn.neighbors import KNeighborsRegressor\n",
    "from sklearn.ensemble import RandomForestRegressor\n",
    "from sklearn.preprocessing import PolynomialFeatures\n",
    "from sklearn.model_selection import cross_val_score\n",
    "from sklearn.metrics import mean_squared_error,r2_score,mean_absolute_error\n",
    "from sklearn.model_selection import GridSearchCV"
   ]
  },
  {
   "cell_type": "code",
   "execution_count": 2,
   "id": "536bae46",
   "metadata": {},
   "outputs": [],
   "source": [
    "from sklearn.model_selection import train_test_split\n",
    "from sklearn.linear_model import LinearRegression,Lasso,Ridge\n",
    "from sklearn.neighbors import KNeighborsRegressor\n",
    "from sklearn.ensemble import RandomForestRegressor\n",
    "from sklearn.preprocessing import PolynomialFeatures\n",
    "from sklearn.model_selection import cross_val_score\n",
    "from sklearn.metrics import mean_squared_error,r2_score,mean_absolute_error\n",
    "from sklearn.ensemble import GradientBoostingRegressor\n",
    "from sklearn.model_selection import GridSearchCV"
   ]
  },
  {
   "cell_type": "code",
   "execution_count": 3,
   "id": "eff37e05",
   "metadata": {},
   "outputs": [
    {
     "data": {
      "text/html": [
       "<div>\n",
       "<style scoped>\n",
       "    .dataframe tbody tr th:only-of-type {\n",
       "        vertical-align: middle;\n",
       "    }\n",
       "\n",
       "    .dataframe tbody tr th {\n",
       "        vertical-align: top;\n",
       "    }\n",
       "\n",
       "    .dataframe thead th {\n",
       "        text-align: right;\n",
       "    }\n",
       "</style>\n",
       "<table border=\"1\" class=\"dataframe\">\n",
       "  <thead>\n",
       "    <tr style=\"text-align: right;\">\n",
       "      <th></th>\n",
       "      <th>Unnamed: 0</th>\n",
       "      <th>brand_name</th>\n",
       "      <th>model</th>\n",
       "      <th>year</th>\n",
       "      <th>variant</th>\n",
       "      <th>distance</th>\n",
       "      <th>city</th>\n",
       "      <th>num_of_owners</th>\n",
       "      <th>price</th>\n",
       "    </tr>\n",
       "  </thead>\n",
       "  <tbody>\n",
       "    <tr>\n",
       "      <th>0</th>\n",
       "      <td>0</td>\n",
       "      <td>Honda</td>\n",
       "      <td>Jazz</td>\n",
       "      <td>2018</td>\n",
       "      <td>V CVT</td>\n",
       "      <td>64554</td>\n",
       "      <td>Amhedabad</td>\n",
       "      <td>1</td>\n",
       "      <td>7.05</td>\n",
       "    </tr>\n",
       "    <tr>\n",
       "      <th>1</th>\n",
       "      <td>1</td>\n",
       "      <td>Hyundai</td>\n",
       "      <td>Verna</td>\n",
       "      <td>2018</td>\n",
       "      <td>VTVT 1.6 SX Option</td>\n",
       "      <td>54195</td>\n",
       "      <td>Amhedabad</td>\n",
       "      <td>1</td>\n",
       "      <td>10.00</td>\n",
       "    </tr>\n",
       "    <tr>\n",
       "      <th>2</th>\n",
       "      <td>2</td>\n",
       "      <td>Honda</td>\n",
       "      <td>Jazz</td>\n",
       "      <td>2016</td>\n",
       "      <td>V CVT</td>\n",
       "      <td>39821</td>\n",
       "      <td>Amhedabad</td>\n",
       "      <td>1</td>\n",
       "      <td>6.25</td>\n",
       "    </tr>\n",
       "    <tr>\n",
       "      <th>3</th>\n",
       "      <td>3</td>\n",
       "      <td>Honda</td>\n",
       "      <td>Jazz</td>\n",
       "      <td>2017</td>\n",
       "      <td>1.2 S i VTEC</td>\n",
       "      <td>54966</td>\n",
       "      <td>Amhedabad</td>\n",
       "      <td>1</td>\n",
       "      <td>5.12</td>\n",
       "    </tr>\n",
       "    <tr>\n",
       "      <th>4</th>\n",
       "      <td>4</td>\n",
       "      <td>Hyundai</td>\n",
       "      <td>i20</td>\n",
       "      <td>2018</td>\n",
       "      <td>1.2 Spotz</td>\n",
       "      <td>29771</td>\n",
       "      <td>Amhedabad</td>\n",
       "      <td>1</td>\n",
       "      <td>6.37</td>\n",
       "    </tr>\n",
       "    <tr>\n",
       "      <th>...</th>\n",
       "      <td>...</td>\n",
       "      <td>...</td>\n",
       "      <td>...</td>\n",
       "      <td>...</td>\n",
       "      <td>...</td>\n",
       "      <td>...</td>\n",
       "      <td>...</td>\n",
       "      <td>...</td>\n",
       "      <td>...</td>\n",
       "    </tr>\n",
       "    <tr>\n",
       "      <th>5152</th>\n",
       "      <td>5152</td>\n",
       "      <td>Mahindra</td>\n",
       "      <td>Thar</td>\n",
       "      <td>2014</td>\n",
       "      <td>CRDe AC</td>\n",
       "      <td>12000</td>\n",
       "      <td>Pune</td>\n",
       "      <td>2</td>\n",
       "      <td>7.75</td>\n",
       "    </tr>\n",
       "    <tr>\n",
       "      <th>5153</th>\n",
       "      <td>5153</td>\n",
       "      <td>Toyota</td>\n",
       "      <td>Etios</td>\n",
       "      <td>2013</td>\n",
       "      <td>V</td>\n",
       "      <td>71000</td>\n",
       "      <td>Pune</td>\n",
       "      <td>2</td>\n",
       "      <td>3.65</td>\n",
       "    </tr>\n",
       "    <tr>\n",
       "      <th>5154</th>\n",
       "      <td>5154</td>\n",
       "      <td>Hyundai</td>\n",
       "      <td>i10</td>\n",
       "      <td>2008</td>\n",
       "      <td>Magna</td>\n",
       "      <td>90000</td>\n",
       "      <td>Pune</td>\n",
       "      <td>2</td>\n",
       "      <td>1.90</td>\n",
       "    </tr>\n",
       "    <tr>\n",
       "      <th>5155</th>\n",
       "      <td>5155</td>\n",
       "      <td>Hyundai</td>\n",
       "      <td>Santa_Fe</td>\n",
       "      <td>2012</td>\n",
       "      <td>4x4 AT</td>\n",
       "      <td>126000</td>\n",
       "      <td>Pune</td>\n",
       "      <td>2</td>\n",
       "      <td>7.75</td>\n",
       "    </tr>\n",
       "    <tr>\n",
       "      <th>5156</th>\n",
       "      <td>5156</td>\n",
       "      <td>Mercedes-Benz</td>\n",
       "      <td>C-Class</td>\n",
       "      <td>2011</td>\n",
       "      <td>C 250 CDI Avantgarde</td>\n",
       "      <td>75000</td>\n",
       "      <td>Pune</td>\n",
       "      <td>2</td>\n",
       "      <td>11.90</td>\n",
       "    </tr>\n",
       "  </tbody>\n",
       "</table>\n",
       "<p>5157 rows × 9 columns</p>\n",
       "</div>"
      ],
      "text/plain": [
       "      Unnamed: 0     brand_name     model  year               variant  \\\n",
       "0              0          Honda      Jazz  2018                 V CVT   \n",
       "1              1        Hyundai     Verna  2018    VTVT 1.6 SX Option   \n",
       "2              2          Honda      Jazz  2016                 V CVT   \n",
       "3              3          Honda      Jazz  2017          1.2 S i VTEC   \n",
       "4              4        Hyundai       i20  2018             1.2 Spotz   \n",
       "...          ...            ...       ...   ...                   ...   \n",
       "5152        5152       Mahindra      Thar  2014               CRDe AC   \n",
       "5153        5153         Toyota     Etios  2013                     V   \n",
       "5154        5154        Hyundai       i10  2008                 Magna   \n",
       "5155        5155        Hyundai  Santa_Fe  2012                4x4 AT   \n",
       "5156        5156  Mercedes-Benz   C-Class  2011  C 250 CDI Avantgarde   \n",
       "\n",
       "      distance       city  num_of_owners  price  \n",
       "0        64554  Amhedabad              1   7.05  \n",
       "1        54195  Amhedabad              1  10.00  \n",
       "2        39821  Amhedabad              1   6.25  \n",
       "3        54966  Amhedabad              1   5.12  \n",
       "4        29771  Amhedabad              1   6.37  \n",
       "...        ...        ...            ...    ...  \n",
       "5152     12000       Pune              2   7.75  \n",
       "5153     71000       Pune              2   3.65  \n",
       "5154     90000       Pune              2   1.90  \n",
       "5155    126000       Pune              2   7.75  \n",
       "5156     75000       Pune              2  11.90  \n",
       "\n",
       "[5157 rows x 9 columns]"
      ]
     },
     "execution_count": 3,
     "metadata": {},
     "output_type": "execute_result"
    }
   ],
   "source": [
    "df=pd.read_csv('car_price.csv')\n",
    "df"
   ]
  },
  {
   "cell_type": "code",
   "execution_count": 4,
   "id": "dc4d681f",
   "metadata": {},
   "outputs": [],
   "source": [
    "df=df.drop(columns=['Unnamed: 0'],axis=1)"
   ]
  },
  {
   "cell_type": "code",
   "execution_count": 5,
   "id": "3f703eac",
   "metadata": {},
   "outputs": [
    {
     "data": {
      "text/html": [
       "<div>\n",
       "<style scoped>\n",
       "    .dataframe tbody tr th:only-of-type {\n",
       "        vertical-align: middle;\n",
       "    }\n",
       "\n",
       "    .dataframe tbody tr th {\n",
       "        vertical-align: top;\n",
       "    }\n",
       "\n",
       "    .dataframe thead th {\n",
       "        text-align: right;\n",
       "    }\n",
       "</style>\n",
       "<table border=\"1\" class=\"dataframe\">\n",
       "  <thead>\n",
       "    <tr style=\"text-align: right;\">\n",
       "      <th></th>\n",
       "      <th>brand_name</th>\n",
       "      <th>model</th>\n",
       "      <th>year</th>\n",
       "      <th>variant</th>\n",
       "      <th>distance</th>\n",
       "      <th>city</th>\n",
       "      <th>num_of_owners</th>\n",
       "      <th>price</th>\n",
       "    </tr>\n",
       "  </thead>\n",
       "  <tbody>\n",
       "    <tr>\n",
       "      <th>0</th>\n",
       "      <td>Honda</td>\n",
       "      <td>Jazz</td>\n",
       "      <td>2018</td>\n",
       "      <td>V CVT</td>\n",
       "      <td>64554</td>\n",
       "      <td>Amhedabad</td>\n",
       "      <td>1</td>\n",
       "      <td>7.05</td>\n",
       "    </tr>\n",
       "    <tr>\n",
       "      <th>1</th>\n",
       "      <td>Hyundai</td>\n",
       "      <td>Verna</td>\n",
       "      <td>2018</td>\n",
       "      <td>VTVT 1.6 SX Option</td>\n",
       "      <td>54195</td>\n",
       "      <td>Amhedabad</td>\n",
       "      <td>1</td>\n",
       "      <td>10.00</td>\n",
       "    </tr>\n",
       "    <tr>\n",
       "      <th>2</th>\n",
       "      <td>Honda</td>\n",
       "      <td>Jazz</td>\n",
       "      <td>2016</td>\n",
       "      <td>V CVT</td>\n",
       "      <td>39821</td>\n",
       "      <td>Amhedabad</td>\n",
       "      <td>1</td>\n",
       "      <td>6.25</td>\n",
       "    </tr>\n",
       "    <tr>\n",
       "      <th>3</th>\n",
       "      <td>Honda</td>\n",
       "      <td>Jazz</td>\n",
       "      <td>2017</td>\n",
       "      <td>1.2 S i VTEC</td>\n",
       "      <td>54966</td>\n",
       "      <td>Amhedabad</td>\n",
       "      <td>1</td>\n",
       "      <td>5.12</td>\n",
       "    </tr>\n",
       "    <tr>\n",
       "      <th>4</th>\n",
       "      <td>Hyundai</td>\n",
       "      <td>i20</td>\n",
       "      <td>2018</td>\n",
       "      <td>1.2 Spotz</td>\n",
       "      <td>29771</td>\n",
       "      <td>Amhedabad</td>\n",
       "      <td>1</td>\n",
       "      <td>6.37</td>\n",
       "    </tr>\n",
       "    <tr>\n",
       "      <th>...</th>\n",
       "      <td>...</td>\n",
       "      <td>...</td>\n",
       "      <td>...</td>\n",
       "      <td>...</td>\n",
       "      <td>...</td>\n",
       "      <td>...</td>\n",
       "      <td>...</td>\n",
       "      <td>...</td>\n",
       "    </tr>\n",
       "    <tr>\n",
       "      <th>5152</th>\n",
       "      <td>Mahindra</td>\n",
       "      <td>Thar</td>\n",
       "      <td>2014</td>\n",
       "      <td>CRDe AC</td>\n",
       "      <td>12000</td>\n",
       "      <td>Pune</td>\n",
       "      <td>2</td>\n",
       "      <td>7.75</td>\n",
       "    </tr>\n",
       "    <tr>\n",
       "      <th>5153</th>\n",
       "      <td>Toyota</td>\n",
       "      <td>Etios</td>\n",
       "      <td>2013</td>\n",
       "      <td>V</td>\n",
       "      <td>71000</td>\n",
       "      <td>Pune</td>\n",
       "      <td>2</td>\n",
       "      <td>3.65</td>\n",
       "    </tr>\n",
       "    <tr>\n",
       "      <th>5154</th>\n",
       "      <td>Hyundai</td>\n",
       "      <td>i10</td>\n",
       "      <td>2008</td>\n",
       "      <td>Magna</td>\n",
       "      <td>90000</td>\n",
       "      <td>Pune</td>\n",
       "      <td>2</td>\n",
       "      <td>1.90</td>\n",
       "    </tr>\n",
       "    <tr>\n",
       "      <th>5155</th>\n",
       "      <td>Hyundai</td>\n",
       "      <td>Santa_Fe</td>\n",
       "      <td>2012</td>\n",
       "      <td>4x4 AT</td>\n",
       "      <td>126000</td>\n",
       "      <td>Pune</td>\n",
       "      <td>2</td>\n",
       "      <td>7.75</td>\n",
       "    </tr>\n",
       "    <tr>\n",
       "      <th>5156</th>\n",
       "      <td>Mercedes-Benz</td>\n",
       "      <td>C-Class</td>\n",
       "      <td>2011</td>\n",
       "      <td>C 250 CDI Avantgarde</td>\n",
       "      <td>75000</td>\n",
       "      <td>Pune</td>\n",
       "      <td>2</td>\n",
       "      <td>11.90</td>\n",
       "    </tr>\n",
       "  </tbody>\n",
       "</table>\n",
       "<p>5157 rows × 8 columns</p>\n",
       "</div>"
      ],
      "text/plain": [
       "         brand_name     model  year               variant  distance  \\\n",
       "0             Honda      Jazz  2018                 V CVT     64554   \n",
       "1           Hyundai     Verna  2018    VTVT 1.6 SX Option     54195   \n",
       "2             Honda      Jazz  2016                 V CVT     39821   \n",
       "3             Honda      Jazz  2017          1.2 S i VTEC     54966   \n",
       "4           Hyundai       i20  2018             1.2 Spotz     29771   \n",
       "...             ...       ...   ...                   ...       ...   \n",
       "5152       Mahindra      Thar  2014               CRDe AC     12000   \n",
       "5153         Toyota     Etios  2013                     V     71000   \n",
       "5154        Hyundai       i10  2008                 Magna     90000   \n",
       "5155        Hyundai  Santa_Fe  2012                4x4 AT    126000   \n",
       "5156  Mercedes-Benz   C-Class  2011  C 250 CDI Avantgarde     75000   \n",
       "\n",
       "           city  num_of_owners  price  \n",
       "0     Amhedabad              1   7.05  \n",
       "1     Amhedabad              1  10.00  \n",
       "2     Amhedabad              1   6.25  \n",
       "3     Amhedabad              1   5.12  \n",
       "4     Amhedabad              1   6.37  \n",
       "...         ...            ...    ...  \n",
       "5152       Pune              2   7.75  \n",
       "5153       Pune              2   3.65  \n",
       "5154       Pune              2   1.90  \n",
       "5155       Pune              2   7.75  \n",
       "5156       Pune              2  11.90  \n",
       "\n",
       "[5157 rows x 8 columns]"
      ]
     },
     "execution_count": 5,
     "metadata": {},
     "output_type": "execute_result"
    }
   ],
   "source": [
    "df"
   ]
  },
  {
   "cell_type": "markdown",
   "id": "64112013",
   "metadata": {},
   "source": [
    "# EDA"
   ]
  },
  {
   "cell_type": "code",
   "execution_count": 6,
   "id": "99bf490e",
   "metadata": {},
   "outputs": [
    {
     "data": {
      "text/plain": [
       "brand_name       0\n",
       "model            0\n",
       "year             0\n",
       "variant          0\n",
       "distance         0\n",
       "city             0\n",
       "num_of_owners    0\n",
       "price            0\n",
       "dtype: int64"
      ]
     },
     "execution_count": 6,
     "metadata": {},
     "output_type": "execute_result"
    }
   ],
   "source": [
    "df.isnull().sum()\n",
    "#no null values present"
   ]
  },
  {
   "cell_type": "code",
   "execution_count": 7,
   "id": "398a089d",
   "metadata": {},
   "outputs": [
    {
     "data": {
      "text/plain": [
       "brand_name        object\n",
       "model             object\n",
       "year               int64\n",
       "variant           object\n",
       "distance           int64\n",
       "city              object\n",
       "num_of_owners      int64\n",
       "price            float64\n",
       "dtype: object"
      ]
     },
     "execution_count": 7,
     "metadata": {},
     "output_type": "execute_result"
    }
   ],
   "source": [
    "df.dtypes"
   ]
  },
  {
   "cell_type": "code",
   "execution_count": 7,
   "id": "735a3eef",
   "metadata": {},
   "outputs": [
    {
     "data": {
      "text/plain": [
       "array(['Honda', 'Hyundai', 'Tata', 'Maruti', 'Renault', 'Jeep',\n",
       "       'Mahindra', 'Nissan', 'MG', 'Volkswagen', 'Datsun', 'Skoda',\n",
       "       'Toyota', 'BMW', 'Chevrolet', 'Ford', 'Jaguar', 'Mercedes-Benz',\n",
       "       'Land', 'Fiat', 'Kia', 'Audi', 'Volvo', 'Porsche', 'Mitsubishi',\n",
       "       'Isuzu', 'Aston', 'Mini', 'Ambassador', 'Lexus', 'Maserati'],\n",
       "      dtype=object)"
      ]
     },
     "execution_count": 7,
     "metadata": {},
     "output_type": "execute_result"
    }
   ],
   "source": [
    "df['brand_name'].unique()"
   ]
  },
  {
   "cell_type": "code",
   "execution_count": 8,
   "id": "41cb65bb",
   "metadata": {},
   "outputs": [
    {
     "data": {
      "text/plain": [
       "31"
      ]
     },
     "execution_count": 8,
     "metadata": {},
     "output_type": "execute_result"
    }
   ],
   "source": [
    "df['brand_name'].nunique()"
   ]
  },
  {
   "cell_type": "code",
   "execution_count": 9,
   "id": "23d66922",
   "metadata": {},
   "outputs": [
    {
     "data": {
      "text/plain": [
       "array(['Jazz', 'Verna', 'i20', 'Tiago', 'Grand_i10', 'Ignis', 'KWID',\n",
       "       'Duster', 'Tucson', 'Compass', 'Ciaz', 'KUV_100', 'Vitara_Brezza',\n",
       "       'Magnite', 'EON', 'Baleno', 'Hector', 'Alto_800', 'City', 'Lodgy',\n",
       "       'Alto_K10', 'Swift', 'Polo', 'RediGO', 'Santro', 'Xcent',\n",
       "       'Terrano', 'Tigor', 'i10', 'Brio', 'SX4_S', 'Marazzo', 'Wagon_R',\n",
       "       'S-Presso', 'Swift_Dzire', 'Vento', 'Amaze', 'CR-V', 'Creta',\n",
       "       'XUV500', 'Rapid', 'GO', 'Micra_Active', 'Thar', 'Mobilio',\n",
       "       'Ertiga', 'Eeco', '800', 'Innova_Crysta', 'Bolero_Power',\n",
       "       '5_Series', 'Innova', 'Corolla_Altis', 'Sunny', 'Civic', 'WR-V',\n",
       "       'X1', 'Sonata', 'Ritz', 'Cruze', 'Harrier', 'Ecosport', 'XL6',\n",
       "       'New_Safari', 'Pulse', 'XUV300', 'XF', 'S-Class', 'Wrangler',\n",
       "       'Endeavour', 'Zest', 'Astor', 'Figo', 'Rover_Discovery', 'Punto',\n",
       "       'Micra', 'Sonet', 'GLA_Class', 'TUV_300', 'Q3', 'Seltos',\n",
       "       'Fortuner', 'E-Class', 'Elantra', 'Celerio', 'Xylo', 'Nexon',\n",
       "       'Scorpio', 'Fiesta', 'SX4', 'Qualis', 'Kizashi', 'Santro_Xing',\n",
       "       'Zen_Estilo', 'S60', 'Corolla', 'Q5', 'Aria', '3_Series',\n",
       "       'Cayenne', 'Spark', 'Logan', 'Santa_Fe', 'Kodiaq', 'Alto',\n",
       "       'Superb', 'V-Class', 'Accent', 'Verito_Vibe', 'Beat',\n",
       "       'Ssangyong_Rexton', 'Yaris', 'Urban_cruiser', 'Triber',\n",
       "       'i20_Active', 'Baleno_RS', 'Venue', 'Hector_Plus', 'Captur',\n",
       "       'Kicks', 'Octavia', 'A-Star', 'Etios', 'Aura', 'Manza', 'GLC',\n",
       "       'Q7', 'C-Class', 'Bolero', 'X5', 'X3', 'Ameo', 'Etios_Liva', 'A6',\n",
       "       'Accord', 'Rover_Range', 'Teana', 'Getz', 'Fluence', 'Scala',\n",
       "       'Freestyle', 'Avventura', 'Nano', 'Camry', 'Linea', 'Fusion',\n",
       "       'GL-Class', '7_Series', 'Cedia', 'Esteem', 'Sail', 'Safari_Storme',\n",
       "       'Captiva', 'Enjoy', 'M-Class', 'Pajero', 'Palio', 'Celerio_X',\n",
       "       'Tiguan', 'MU-X', 'BR-V', 'Altroz', 'Hexa', 'Kiger', 'Etios_Cross',\n",
       "       'Jetta', 'Fabia', 'CLA', 'Passat', 'XC60', 'Martin_Vantage',\n",
       "       'B_Class', 'Etios_2014-2016', 'V40', 'Indica', 'Indigo',\n",
       "       'Yodha_Pickup', 'Bolt', 'GLS', 'Tavera', 'Omni', 'XC90', 'S5',\n",
       "       'Alturas_G4', 'Platinum_Etios', 'Alcazar', 'Sumo', 'Sumo_Victa',\n",
       "       'A3', 'A_Class', 'GO_Plus', 'E_Verito', 'Beetle',\n",
       "       'Rover_Freelander', 'A4', 'X6', 'Glanza', 'Cooper', 'Kushaq',\n",
       "       'Bolero_Maxi', 'Quanto', 'GLE', 'D-Max', 'X7', 'Outlander',\n",
       "       'AMG_A', 'XC40', 'XJ', 'M_Series', 'not given', '3_DOOR', 'SLC',\n",
       "       'A8', '6_Series', 'Koleos', 'Cooper_SE', 'Tiago_NRG', 'ES', 'TT',\n",
       "       'GTI', 'Gloster', 'NuvoSport', 'Land_Cruiser', 'Yeti',\n",
       "       'Indica_eV2', 'Classic', 'New_Laura', 'Ikon', 'Aveo', 'CrossPolo',\n",
       "       'Verito', 'Bolero_Pik', 'Ghibli', 'Q8', 'Zen', 'X4', 'Aspire',\n",
       "       'S_80', 'GLC_Coupe', '718', 'A3_cabriolet', 'MU_7', 'Optra'],\n",
       "      dtype=object)"
      ]
     },
     "execution_count": 9,
     "metadata": {},
     "output_type": "execute_result"
    }
   ],
   "source": [
    "df['model'].unique()"
   ]
  },
  {
   "cell_type": "code",
   "execution_count": 10,
   "id": "ff197877",
   "metadata": {},
   "outputs": [
    {
     "data": {
      "text/plain": [
       "243"
      ]
     },
     "execution_count": 10,
     "metadata": {},
     "output_type": "execute_result"
    }
   ],
   "source": [
    "df['model'].nunique()"
   ]
  },
  {
   "cell_type": "code",
   "execution_count": 12,
   "id": "8a1d2dd6",
   "metadata": {},
   "outputs": [
    {
     "data": {
      "text/plain": [
       "1493"
      ]
     },
     "execution_count": 12,
     "metadata": {},
     "output_type": "execute_result"
    }
   ],
   "source": [
    "df['variant'].nunique()"
   ]
  },
  {
   "cell_type": "code",
   "execution_count": 12,
   "id": "5b0d9e71",
   "metadata": {},
   "outputs": [
    {
     "data": {
      "text/plain": [
       "Index(['brand_name', 'model', 'year', 'variant', 'distance', 'city',\n",
       "       'num_of_owners', 'price'],\n",
       "      dtype='object')"
      ]
     },
     "execution_count": 12,
     "metadata": {},
     "output_type": "execute_result"
    }
   ],
   "source": [
    "df.columns"
   ]
  },
  {
   "cell_type": "code",
   "execution_count": 18,
   "id": "4754aebb",
   "metadata": {},
   "outputs": [
    {
     "data": {
      "image/png": "[encoded data removed]",
      "text/plain": [
       "<Figure size 432x288 with 1 Axes>"
      ]
     },
     "metadata": {
      "needs_background": "light"
     },
     "output_type": "display_data"
    }
   ],
   "source": [
    "sns.histplot(df['year'])\n",
    "plt.show()\n",
    "\n",
    "#skewness is clearly visible\n",
    "#newer cars are more in number."
   ]
  },
  {
   "cell_type": "code",
   "execution_count": 19,
   "id": "46522ea3",
   "metadata": {},
   "outputs": [
    {
     "data": {
      "text/plain": [
       "<AxesSubplot:xlabel='year', ylabel='price'>"
      ]
     },
     "execution_count": 19,
     "metadata": {},
     "output_type": "execute_result"
    },
    {
     "data": {
      "image/png": "[encoded data removed]",
      "text/plain": [
       "<Figure size 432x288 with 1 Axes>"
      ]
     },
     "metadata": {
      "needs_background": "light"
     },
     "output_type": "display_data"
    }
   ],
   "source": [
    "sns.scatterplot(df['year'],df['price'])\n",
    "\n",
    "#relatively newer cars are sold at higher price."
   ]
  },
  {
   "cell_type": "code",
   "execution_count": 21,
   "id": "3bd02965",
   "metadata": {},
   "outputs": [
    {
     "data": {
      "image/png": "[encoded data removed]",
      "text/plain": [
       "<Figure size 432x288 with 1 Axes>"
      ]
     },
     "metadata": {
      "needs_background": "light"
     },
     "output_type": "display_data"
    }
   ],
   "source": [
    "sns.distplot(df['price'])\n",
    "plt.show()"
   ]
  },
  {
   "cell_type": "code",
   "execution_count": 32,
   "id": "fa414bde",
   "metadata": {},
   "outputs": [
    {
     "data": {
      "image/png": "[encoded data removed]",
      "text/plain": [
       "<Figure size 432x288 with 1 Axes>"
      ]
     },
     "metadata": {
      "needs_background": "light"
     },
     "output_type": "display_data"
    }
   ],
   "source": [
    "sns.distplot(df['distance'])\n",
    "plt.show()"
   ]
  },
  {
   "cell_type": "code",
   "execution_count": 22,
   "id": "6c999c04",
   "metadata": {},
   "outputs": [
    {
     "data": {
      "text/plain": [
       "15.35001034307279"
      ]
     },
     "execution_count": 22,
     "metadata": {},
     "output_type": "execute_result"
    }
   ],
   "source": [
    "df['price'].skew()"
   ]
  },
  {
   "cell_type": "code",
   "execution_count": 23,
   "id": "be8ad492",
   "metadata": {},
   "outputs": [
    {
     "data": {
      "text/plain": [
       "<AxesSubplot:xlabel='num_of_owners', ylabel='count'>"
      ]
     },
     "execution_count": 23,
     "metadata": {},
     "output_type": "execute_result"
    },
    {
     "data": {
      "image/png": "[encoded data removed]",
      "text/plain": [
       "<Figure size 432x288 with 1 Axes>"
      ]
     },
     "metadata": {
      "needs_background": "light"
     },
     "output_type": "display_data"
    }
   ],
   "source": [
    "sns.countplot(df['num_of_owners'])"
   ]
  },
  {
   "cell_type": "code",
   "execution_count": 27,
   "id": "56c800c0",
   "metadata": {},
   "outputs": [
    {
     "data": {
      "image/png": "[encoded data removed]",
      "text/plain": [
       "<Figure size 1080x576 with 1 Axes>"
      ]
     },
     "metadata": {
      "needs_background": "light"
     },
     "output_type": "display_data"
    }
   ],
   "source": [
    "plt.figure(figsize=(15,8))\n",
    "plt.hist(df['brand_name'])\n",
    "plt.xticks(rotation=90)\n",
    "plt.show()\n",
    "\n",
    "#some cars are present in very high numbers while some cars are present in very low numbers."
   ]
  },
  {
   "cell_type": "code",
   "execution_count": 31,
   "id": "49a6a73d",
   "metadata": {},
   "outputs": [
    {
     "data": {
      "image/png": "[encoded data removed]",
      "text/plain": [
       "<Figure size 1080x576 with 1 Axes>"
      ]
     },
     "metadata": {
      "needs_background": "light"
     },
     "output_type": "display_data"
    }
   ],
   "source": [
    "plt.figure(figsize=(15,8))\n",
    "plt.bar(df['brand_name'],df['price'])\n",
    "plt.xticks(rotation=90)\n",
    "plt.show()"
   ]
  },
  {
   "attachments": {
    "Capture.PNG": {
     "image/png": "[encoded data removed]"
    }
   },
   "cell_type": "markdown",
   "id": "ea0cfee1",
   "metadata": {},
   "source": [
    "![Capture.PNG](attachment:Capture.PNG)"
   ]
  },
  {
   "cell_type": "code",
   "execution_count": null,
   "id": "a5532552",
   "metadata": {},
   "outputs": [],
   "source": [
    "#this graph is showing the sum of price of all the cars in a particulars brand."
   ]
  },
  {
   "cell_type": "code",
   "execution_count": null,
   "id": "6f563234",
   "metadata": {},
   "outputs": [],
   "source": []
  },
  {
   "attachments": {
    "Capture1.PNG": {
     "image/png": "[encoded data removed]"
    }
   },
   "cell_type": "markdown",
   "id": "dbbad3b8",
   "metadata": {},
   "source": [
    "![Capture1.PNG](attachment:Capture1.PNG)"
   ]
  },
  {
   "cell_type": "code",
   "execution_count": null,
   "id": "2de2d5b9",
   "metadata": {},
   "outputs": [],
   "source": [
    "#this is showing the average price of all the cars of a particular brand.\n",
    "#The luxury cars are having higher average price."
   ]
  },
  {
   "cell_type": "code",
   "execution_count": 33,
   "id": "afa1b6a0",
   "metadata": {},
   "outputs": [
    {
     "data": {
      "text/plain": [
       "<AxesSubplot:xlabel='distance', ylabel='price'>"
      ]
     },
     "execution_count": 33,
     "metadata": {},
     "output_type": "execute_result"
    },
    {
     "data": {
      "image/png": "[encoded data removed]",
      "text/plain": [
       "<Figure size 432x288 with 1 Axes>"
      ]
     },
     "metadata": {
      "needs_background": "light"
     },
     "output_type": "display_data"
    }
   ],
   "source": [
    "sns.scatterplot(df['distance'],df['price'])\n",
    "#outliers might be present in data.\n",
    "#maximum price is decreasing with distance."
   ]
  },
  {
   "cell_type": "code",
   "execution_count": 34,
   "id": "2370b9de",
   "metadata": {},
   "outputs": [
    {
     "data": {
      "text/plain": [
       "<AxesSubplot:xlabel='price', ylabel='Density'>"
      ]
     },
     "execution_count": 34,
     "metadata": {},
     "output_type": "execute_result"
    },
    {
     "data": {
      "image/png": "[encoded data removed]",
      "text/plain": [
       "<Figure size 432x288 with 1 Axes>"
      ]
     },
     "metadata": {
      "needs_background": "light"
     },
     "output_type": "display_data"
    }
   ],
   "source": [
    "sns.distplot(df['price'])"
   ]
  },
  {
   "cell_type": "code",
   "execution_count": 36,
   "id": "aebc9d2d",
   "metadata": {},
   "outputs": [
    {
     "data": {
      "image/png": "[encoded data removed]",
      "text/plain": [
       "<Figure size 1080x576 with 1 Axes>"
      ]
     },
     "metadata": {
      "needs_background": "light"
     },
     "output_type": "display_data"
    }
   ],
   "source": [
    "plt.figure(figsize=(15,8))\n",
    "sns.histplot(data=df,x='brand_name',bins=20,kde=True,hue='num_of_owners')\n",
    "plt.xticks(rotation=90)\n",
    "plt.show()\n"
   ]
  },
  {
   "cell_type": "code",
   "execution_count": 42,
   "id": "a9423aa6",
   "metadata": {},
   "outputs": [
    {
     "data": {
      "text/plain": [
       "<Figure size 1080x576 with 0 Axes>"
      ]
     },
     "metadata": {},
     "output_type": "display_data"
    },
    {
     "data": {
      "image/png": "[encoded data removed]",
      "text/plain": [
       "<Figure size 446x360 with 1 Axes>"
      ]
     },
     "metadata": {
      "needs_background": "light"
     },
     "output_type": "display_data"
    }
   ],
   "source": [
    "plt.figure(figsize=(15,8))\n",
    "sns.catplot(x=\"brand_name\",y=\"price\",hue=\"num_of_owners\",data=df,kind=\"bar\")#Multivariate since two columns are given as input\n",
    "plt.xticks(rotation=90)\n",
    "plt.show()"
   ]
  },
  {
   "cell_type": "code",
   "execution_count": 43,
   "id": "371d6b17",
   "metadata": {},
   "outputs": [
    {
     "data": {
      "text/plain": [
       "<Figure size 1080x576 with 0 Axes>"
      ]
     },
     "metadata": {},
     "output_type": "display_data"
    },
    {
     "data": {
      "image/png": "[encoded data removed]",
      "text/plain": [
       "<Figure size 446x360 with 1 Axes>"
      ]
     },
     "metadata": {
      "needs_background": "light"
     },
     "output_type": "display_data"
    }
   ],
   "source": [
    "plt.figure(figsize=(15,8))\n",
    "sns.catplot(x=\"model\",y=\"price\",hue=\"num_of_owners\",data=df,kind=\"bar\")#Multivariate since two columns are given as input\n",
    "plt.xticks(rotation=90)\n",
    "plt.show()"
   ]
  },
  {
   "cell_type": "code",
   "execution_count": 34,
   "id": "bddc660a",
   "metadata": {},
   "outputs": [
    {
     "data": {
      "text/plain": [
       "Index(['brand_name', 'model', 'year', 'variant', 'distance', 'city',\n",
       "       'num_of_owners', 'price'],\n",
       "      dtype='object')"
      ]
     },
     "execution_count": 34,
     "metadata": {},
     "output_type": "execute_result"
    }
   ],
   "source": [
    "df.columns"
   ]
  },
  {
   "cell_type": "markdown",
   "id": "cd64b76b",
   "metadata": {},
   "source": [
    "# Data Preprocessing"
   ]
  },
  {
   "cell_type": "code",
   "execution_count": 8,
   "id": "2a9026c9",
   "metadata": {},
   "outputs": [
    {
     "data": {
      "text/html": [
       "<div>\n",
       "<style scoped>\n",
       "    .dataframe tbody tr th:only-of-type {\n",
       "        vertical-align: middle;\n",
       "    }\n",
       "\n",
       "    .dataframe tbody tr th {\n",
       "        vertical-align: top;\n",
       "    }\n",
       "\n",
       "    .dataframe thead th {\n",
       "        text-align: right;\n",
       "    }\n",
       "</style>\n",
       "<table border=\"1\" class=\"dataframe\">\n",
       "  <thead>\n",
       "    <tr style=\"text-align: right;\">\n",
       "      <th></th>\n",
       "      <th>brand_name</th>\n",
       "      <th>model</th>\n",
       "      <th>year</th>\n",
       "      <th>variant</th>\n",
       "      <th>distance</th>\n",
       "      <th>city</th>\n",
       "      <th>num_of_owners</th>\n",
       "      <th>price</th>\n",
       "    </tr>\n",
       "  </thead>\n",
       "  <tbody>\n",
       "    <tr>\n",
       "      <th>0</th>\n",
       "      <td>Honda</td>\n",
       "      <td>Jazz</td>\n",
       "      <td>2018</td>\n",
       "      <td>V CVT</td>\n",
       "      <td>64554</td>\n",
       "      <td>Amhedabad</td>\n",
       "      <td>1</td>\n",
       "      <td>7.05</td>\n",
       "    </tr>\n",
       "    <tr>\n",
       "      <th>1</th>\n",
       "      <td>Hyundai</td>\n",
       "      <td>Verna</td>\n",
       "      <td>2018</td>\n",
       "      <td>VTVT 1.6 SX Option</td>\n",
       "      <td>54195</td>\n",
       "      <td>Amhedabad</td>\n",
       "      <td>1</td>\n",
       "      <td>10.00</td>\n",
       "    </tr>\n",
       "    <tr>\n",
       "      <th>2</th>\n",
       "      <td>Honda</td>\n",
       "      <td>Jazz</td>\n",
       "      <td>2016</td>\n",
       "      <td>V CVT</td>\n",
       "      <td>39821</td>\n",
       "      <td>Amhedabad</td>\n",
       "      <td>1</td>\n",
       "      <td>6.25</td>\n",
       "    </tr>\n",
       "    <tr>\n",
       "      <th>3</th>\n",
       "      <td>Honda</td>\n",
       "      <td>Jazz</td>\n",
       "      <td>2017</td>\n",
       "      <td>1.2 S i VTEC</td>\n",
       "      <td>54966</td>\n",
       "      <td>Amhedabad</td>\n",
       "      <td>1</td>\n",
       "      <td>5.12</td>\n",
       "    </tr>\n",
       "    <tr>\n",
       "      <th>4</th>\n",
       "      <td>Hyundai</td>\n",
       "      <td>i20</td>\n",
       "      <td>2018</td>\n",
       "      <td>1.2 Spotz</td>\n",
       "      <td>29771</td>\n",
       "      <td>Amhedabad</td>\n",
       "      <td>1</td>\n",
       "      <td>6.37</td>\n",
       "    </tr>\n",
       "    <tr>\n",
       "      <th>...</th>\n",
       "      <td>...</td>\n",
       "      <td>...</td>\n",
       "      <td>...</td>\n",
       "      <td>...</td>\n",
       "      <td>...</td>\n",
       "      <td>...</td>\n",
       "      <td>...</td>\n",
       "      <td>...</td>\n",
       "    </tr>\n",
       "    <tr>\n",
       "      <th>5152</th>\n",
       "      <td>Mahindra</td>\n",
       "      <td>Thar</td>\n",
       "      <td>2014</td>\n",
       "      <td>CRDe AC</td>\n",
       "      <td>12000</td>\n",
       "      <td>Pune</td>\n",
       "      <td>2</td>\n",
       "      <td>7.75</td>\n",
       "    </tr>\n",
       "    <tr>\n",
       "      <th>5153</th>\n",
       "      <td>Toyota</td>\n",
       "      <td>Etios</td>\n",
       "      <td>2013</td>\n",
       "      <td>V</td>\n",
       "      <td>71000</td>\n",
       "      <td>Pune</td>\n",
       "      <td>2</td>\n",
       "      <td>3.65</td>\n",
       "    </tr>\n",
       "    <tr>\n",
       "      <th>5154</th>\n",
       "      <td>Hyundai</td>\n",
       "      <td>i10</td>\n",
       "      <td>2008</td>\n",
       "      <td>Magna</td>\n",
       "      <td>90000</td>\n",
       "      <td>Pune</td>\n",
       "      <td>2</td>\n",
       "      <td>1.90</td>\n",
       "    </tr>\n",
       "    <tr>\n",
       "      <th>5155</th>\n",
       "      <td>Hyundai</td>\n",
       "      <td>Santa_Fe</td>\n",
       "      <td>2012</td>\n",
       "      <td>4x4 AT</td>\n",
       "      <td>126000</td>\n",
       "      <td>Pune</td>\n",
       "      <td>2</td>\n",
       "      <td>7.75</td>\n",
       "    </tr>\n",
       "    <tr>\n",
       "      <th>5156</th>\n",
       "      <td>Mercedes-Benz</td>\n",
       "      <td>C-Class</td>\n",
       "      <td>2011</td>\n",
       "      <td>C 250 CDI Avantgarde</td>\n",
       "      <td>75000</td>\n",
       "      <td>Pune</td>\n",
       "      <td>2</td>\n",
       "      <td>11.90</td>\n",
       "    </tr>\n",
       "  </tbody>\n",
       "</table>\n",
       "<p>5157 rows × 8 columns</p>\n",
       "</div>"
      ],
      "text/plain": [
       "         brand_name     model  year               variant  distance  \\\n",
       "0             Honda      Jazz  2018                 V CVT     64554   \n",
       "1           Hyundai     Verna  2018    VTVT 1.6 SX Option     54195   \n",
       "2             Honda      Jazz  2016                 V CVT     39821   \n",
       "3             Honda      Jazz  2017          1.2 S i VTEC     54966   \n",
       "4           Hyundai       i20  2018             1.2 Spotz     29771   \n",
       "...             ...       ...   ...                   ...       ...   \n",
       "5152       Mahindra      Thar  2014               CRDe AC     12000   \n",
       "5153         Toyota     Etios  2013                     V     71000   \n",
       "5154        Hyundai       i10  2008                 Magna     90000   \n",
       "5155        Hyundai  Santa_Fe  2012                4x4 AT    126000   \n",
       "5156  Mercedes-Benz   C-Class  2011  C 250 CDI Avantgarde     75000   \n",
       "\n",
       "           city  num_of_owners  price  \n",
       "0     Amhedabad              1   7.05  \n",
       "1     Amhedabad              1  10.00  \n",
       "2     Amhedabad              1   6.25  \n",
       "3     Amhedabad              1   5.12  \n",
       "4     Amhedabad              1   6.37  \n",
       "...         ...            ...    ...  \n",
       "5152       Pune              2   7.75  \n",
       "5153       Pune              2   3.65  \n",
       "5154       Pune              2   1.90  \n",
       "5155       Pune              2   7.75  \n",
       "5156       Pune              2  11.90  \n",
       "\n",
       "[5157 rows x 8 columns]"
      ]
     },
     "execution_count": 8,
     "metadata": {},
     "output_type": "execute_result"
    }
   ],
   "source": [
    "df"
   ]
  },
  {
   "cell_type": "code",
   "execution_count": 9,
   "id": "431358fa",
   "metadata": {},
   "outputs": [],
   "source": [
    "le_brand=LabelEncoder()\n",
    "df['brand_name']=le_brand.fit_transform(df['brand_name'])"
   ]
  },
  {
   "cell_type": "code",
   "execution_count": 11,
   "id": "5c3ad038",
   "metadata": {},
   "outputs": [
    {
     "data": {
      "text/plain": [
       "array([ 8,  9, 27, 18, 25, 12, 17, 23, 16, 29,  5, 26, 28,  3,  4,  7, 11,\n",
       "       20, 14,  6, 13,  2, 30, 24, 22, 10,  1, 21,  0, 15, 19])"
      ]
     },
     "execution_count": 11,
     "metadata": {},
     "output_type": "execute_result"
    }
   ],
   "source": [
    "df['brand_name'].unique()"
   ]
  },
  {
   "cell_type": "code",
   "execution_count": 12,
   "id": "0542e3af",
   "metadata": {},
   "outputs": [],
   "source": [
    "le_model=LabelEncoder()\n",
    "df['model']=le_model.fit_transform(df['model'])"
   ]
  },
  {
   "cell_type": "code",
   "execution_count": 19,
   "id": "055c8c6a",
   "metadata": {},
   "outputs": [],
   "source": [
    "le_variant=LabelEncoder()\n",
    "df['variant']=le_variant.fit_transform(df['variant'])"
   ]
  },
  {
   "cell_type": "code",
   "execution_count": 20,
   "id": "1c69c483",
   "metadata": {},
   "outputs": [],
   "source": [
    "le_city=LabelEncoder()\n",
    "df['city']=le_city.fit_transform(df['city'])"
   ]
  },
  {
   "cell_type": "code",
   "execution_count": 21,
   "id": "afefc24d",
   "metadata": {},
   "outputs": [
    {
     "data": {
      "text/html": [
       "<div>\n",
       "<style scoped>\n",
       "    .dataframe tbody tr th:only-of-type {\n",
       "        vertical-align: middle;\n",
       "    }\n",
       "\n",
       "    .dataframe tbody tr th {\n",
       "        vertical-align: top;\n",
       "    }\n",
       "\n",
       "    .dataframe thead th {\n",
       "        text-align: right;\n",
       "    }\n",
       "</style>\n",
       "<table border=\"1\" class=\"dataframe\">\n",
       "  <thead>\n",
       "    <tr style=\"text-align: right;\">\n",
       "      <th></th>\n",
       "      <th>brand_name</th>\n",
       "      <th>model</th>\n",
       "      <th>year</th>\n",
       "      <th>variant</th>\n",
       "      <th>distance</th>\n",
       "      <th>city</th>\n",
       "      <th>num_of_owners</th>\n",
       "      <th>price</th>\n",
       "    </tr>\n",
       "  </thead>\n",
       "  <tbody>\n",
       "    <tr>\n",
       "      <th>0</th>\n",
       "      <td>8</td>\n",
       "      <td>114</td>\n",
       "      <td>2018</td>\n",
       "      <td>1213</td>\n",
       "      <td>64554</td>\n",
       "      <td>0</td>\n",
       "      <td>1</td>\n",
       "      <td>7.05</td>\n",
       "    </tr>\n",
       "    <tr>\n",
       "      <th>1</th>\n",
       "      <td>9</td>\n",
       "      <td>212</td>\n",
       "      <td>2018</td>\n",
       "      <td>1246</td>\n",
       "      <td>54195</td>\n",
       "      <td>0</td>\n",
       "      <td>1</td>\n",
       "      <td>10.00</td>\n",
       "    </tr>\n",
       "    <tr>\n",
       "      <th>2</th>\n",
       "      <td>8</td>\n",
       "      <td>114</td>\n",
       "      <td>2016</td>\n",
       "      <td>1213</td>\n",
       "      <td>39821</td>\n",
       "      <td>0</td>\n",
       "      <td>1</td>\n",
       "      <td>6.25</td>\n",
       "    </tr>\n",
       "    <tr>\n",
       "      <th>3</th>\n",
       "      <td>8</td>\n",
       "      <td>114</td>\n",
       "      <td>2017</td>\n",
       "      <td>100</td>\n",
       "      <td>54966</td>\n",
       "      <td>0</td>\n",
       "      <td>1</td>\n",
       "      <td>5.12</td>\n",
       "    </tr>\n",
       "    <tr>\n",
       "      <th>4</th>\n",
       "      <td>9</td>\n",
       "      <td>240</td>\n",
       "      <td>2018</td>\n",
       "      <td>107</td>\n",
       "      <td>29771</td>\n",
       "      <td>0</td>\n",
       "      <td>1</td>\n",
       "      <td>6.37</td>\n",
       "    </tr>\n",
       "    <tr>\n",
       "      <th>...</th>\n",
       "      <td>...</td>\n",
       "      <td>...</td>\n",
       "      <td>...</td>\n",
       "      <td>...</td>\n",
       "      <td>...</td>\n",
       "      <td>...</td>\n",
       "      <td>...</td>\n",
       "      <td>...</td>\n",
       "    </tr>\n",
       "    <tr>\n",
       "      <th>5152</th>\n",
       "      <td>17</td>\n",
       "      <td>198</td>\n",
       "      <td>2014</td>\n",
       "      <td>672</td>\n",
       "      <td>12000</td>\n",
       "      <td>13</td>\n",
       "      <td>2</td>\n",
       "      <td>7.75</td>\n",
       "    </tr>\n",
       "    <tr>\n",
       "      <th>5153</th>\n",
       "      <td>28</td>\n",
       "      <td>78</td>\n",
       "      <td>2013</td>\n",
       "      <td>1210</td>\n",
       "      <td>71000</td>\n",
       "      <td>13</td>\n",
       "      <td>2</td>\n",
       "      <td>3.65</td>\n",
       "    </tr>\n",
       "    <tr>\n",
       "      <th>5154</th>\n",
       "      <td>9</td>\n",
       "      <td>239</td>\n",
       "      <td>2008</td>\n",
       "      <td>962</td>\n",
       "      <td>90000</td>\n",
       "      <td>13</td>\n",
       "      <td>2</td>\n",
       "      <td>1.90</td>\n",
       "    </tr>\n",
       "    <tr>\n",
       "      <th>5155</th>\n",
       "      <td>9</td>\n",
       "      <td>177</td>\n",
       "      <td>2012</td>\n",
       "      <td>538</td>\n",
       "      <td>126000</td>\n",
       "      <td>13</td>\n",
       "      <td>2</td>\n",
       "      <td>7.75</td>\n",
       "    </tr>\n",
       "    <tr>\n",
       "      <th>5156</th>\n",
       "      <td>20</td>\n",
       "      <td>43</td>\n",
       "      <td>2011</td>\n",
       "      <td>662</td>\n",
       "      <td>75000</td>\n",
       "      <td>13</td>\n",
       "      <td>2</td>\n",
       "      <td>11.90</td>\n",
       "    </tr>\n",
       "  </tbody>\n",
       "</table>\n",
       "<p>5157 rows × 8 columns</p>\n",
       "</div>"
      ],
      "text/plain": [
       "      brand_name  model  year  variant  distance  city  num_of_owners  price\n",
       "0              8    114  2018     1213     64554     0              1   7.05\n",
       "1              9    212  2018     1246     54195     0              1  10.00\n",
       "2              8    114  2016     1213     39821     0              1   6.25\n",
       "3              8    114  2017      100     54966     0              1   5.12\n",
       "4              9    240  2018      107     29771     0              1   6.37\n",
       "...          ...    ...   ...      ...       ...   ...            ...    ...\n",
       "5152          17    198  2014      672     12000    13              2   7.75\n",
       "5153          28     78  2013     1210     71000    13              2   3.65\n",
       "5154           9    239  2008      962     90000    13              2   1.90\n",
       "5155           9    177  2012      538    126000    13              2   7.75\n",
       "5156          20     43  2011      662     75000    13              2  11.90\n",
       "\n",
       "[5157 rows x 8 columns]"
      ]
     },
     "execution_count": 21,
     "metadata": {},
     "output_type": "execute_result"
    }
   ],
   "source": [
    "df"
   ]
  },
  {
   "cell_type": "code",
   "execution_count": 22,
   "id": "cb9d8bcb",
   "metadata": {},
   "outputs": [
    {
     "data": {
      "text/html": [
       "<div>\n",
       "<style scoped>\n",
       "    .dataframe tbody tr th:only-of-type {\n",
       "        vertical-align: middle;\n",
       "    }\n",
       "\n",
       "    .dataframe tbody tr th {\n",
       "        vertical-align: top;\n",
       "    }\n",
       "\n",
       "    .dataframe thead th {\n",
       "        text-align: right;\n",
       "    }\n",
       "</style>\n",
       "<table border=\"1\" class=\"dataframe\">\n",
       "  <thead>\n",
       "    <tr style=\"text-align: right;\">\n",
       "      <th></th>\n",
       "      <th>brand_name</th>\n",
       "      <th>model</th>\n",
       "      <th>year</th>\n",
       "      <th>variant</th>\n",
       "      <th>distance</th>\n",
       "      <th>city</th>\n",
       "      <th>num_of_owners</th>\n",
       "      <th>price</th>\n",
       "    </tr>\n",
       "  </thead>\n",
       "  <tbody>\n",
       "    <tr>\n",
       "      <th>brand_name</th>\n",
       "      <td>1.000000</td>\n",
       "      <td>0.042176</td>\n",
       "      <td>0.087298</td>\n",
       "      <td>-0.053723</td>\n",
       "      <td>0.046338</td>\n",
       "      <td>0.038688</td>\n",
       "      <td>-0.042419</td>\n",
       "      <td>-0.030039</td>\n",
       "    </tr>\n",
       "    <tr>\n",
       "      <th>model</th>\n",
       "      <td>0.042176</td>\n",
       "      <td>1.000000</td>\n",
       "      <td>-0.045917</td>\n",
       "      <td>0.139909</td>\n",
       "      <td>0.056834</td>\n",
       "      <td>0.007908</td>\n",
       "      <td>-0.014275</td>\n",
       "      <td>-0.067354</td>\n",
       "    </tr>\n",
       "    <tr>\n",
       "      <th>year</th>\n",
       "      <td>0.087298</td>\n",
       "      <td>-0.045917</td>\n",
       "      <td>1.000000</td>\n",
       "      <td>0.009861</td>\n",
       "      <td>-0.386364</td>\n",
       "      <td>0.001829</td>\n",
       "      <td>-0.414067</td>\n",
       "      <td>0.200679</td>\n",
       "    </tr>\n",
       "    <tr>\n",
       "      <th>variant</th>\n",
       "      <td>-0.053723</td>\n",
       "      <td>0.139909</td>\n",
       "      <td>0.009861</td>\n",
       "      <td>1.000000</td>\n",
       "      <td>-0.020886</td>\n",
       "      <td>0.018220</td>\n",
       "      <td>-0.051954</td>\n",
       "      <td>-0.031256</td>\n",
       "    </tr>\n",
       "    <tr>\n",
       "      <th>distance</th>\n",
       "      <td>0.046338</td>\n",
       "      <td>0.056834</td>\n",
       "      <td>-0.386364</td>\n",
       "      <td>-0.020886</td>\n",
       "      <td>1.000000</td>\n",
       "      <td>0.021031</td>\n",
       "      <td>0.203597</td>\n",
       "      <td>-0.082874</td>\n",
       "    </tr>\n",
       "    <tr>\n",
       "      <th>city</th>\n",
       "      <td>0.038688</td>\n",
       "      <td>0.007908</td>\n",
       "      <td>0.001829</td>\n",
       "      <td>0.018220</td>\n",
       "      <td>0.021031</td>\n",
       "      <td>1.000000</td>\n",
       "      <td>-0.011397</td>\n",
       "      <td>-0.054463</td>\n",
       "    </tr>\n",
       "    <tr>\n",
       "      <th>num_of_owners</th>\n",
       "      <td>-0.042419</td>\n",
       "      <td>-0.014275</td>\n",
       "      <td>-0.414067</td>\n",
       "      <td>-0.051954</td>\n",
       "      <td>0.203597</td>\n",
       "      <td>-0.011397</td>\n",
       "      <td>1.000000</td>\n",
       "      <td>0.035767</td>\n",
       "    </tr>\n",
       "    <tr>\n",
       "      <th>price</th>\n",
       "      <td>-0.030039</td>\n",
       "      <td>-0.067354</td>\n",
       "      <td>0.200679</td>\n",
       "      <td>-0.031256</td>\n",
       "      <td>-0.082874</td>\n",
       "      <td>-0.054463</td>\n",
       "      <td>0.035767</td>\n",
       "      <td>1.000000</td>\n",
       "    </tr>\n",
       "  </tbody>\n",
       "</table>\n",
       "</div>"
      ],
      "text/plain": [
       "               brand_name     model      year   variant  distance      city  \\\n",
       "brand_name       1.000000  0.042176  0.087298 -0.053723  0.046338  0.038688   \n",
       "model            0.042176  1.000000 -0.045917  0.139909  0.056834  0.007908   \n",
       "year             0.087298 -0.045917  1.000000  0.009861 -0.386364  0.001829   \n",
       "variant         -0.053723  0.139909  0.009861  1.000000 -0.020886  0.018220   \n",
       "distance         0.046338  0.056834 -0.386364 -0.020886  1.000000  0.021031   \n",
       "city             0.038688  0.007908  0.001829  0.018220  0.021031  1.000000   \n",
       "num_of_owners   -0.042419 -0.014275 -0.414067 -0.051954  0.203597 -0.011397   \n",
       "price           -0.030039 -0.067354  0.200679 -0.031256 -0.082874 -0.054463   \n",
       "\n",
       "               num_of_owners     price  \n",
       "brand_name         -0.042419 -0.030039  \n",
       "model              -0.014275 -0.067354  \n",
       "year               -0.414067  0.200679  \n",
       "variant            -0.051954 -0.031256  \n",
       "distance            0.203597 -0.082874  \n",
       "city               -0.011397 -0.054463  \n",
       "num_of_owners       1.000000  0.035767  \n",
       "price               0.035767  1.000000  "
      ]
     },
     "execution_count": 22,
     "metadata": {},
     "output_type": "execute_result"
    }
   ],
   "source": [
    "df.corr()"
   ]
  },
  {
   "cell_type": "code",
   "execution_count": 25,
   "id": "481ef335",
   "metadata": {},
   "outputs": [
    {
     "data": {
      "text/plain": [
       "<AxesSubplot:>"
      ]
     },
     "execution_count": 25,
     "metadata": {},
     "output_type": "execute_result"
    },
    {
     "data": {
      "image/png": "[encoded data removed]",
      "text/plain": [
       "<Figure size 432x288 with 2 Axes>"
      ]
     },
     "metadata": {
      "needs_background": "light"
     },
     "output_type": "display_data"
    }
   ],
   "source": [
    "sns.heatmap(df.corr(),annot=True)\n",
    "\n",
    "#since all columns has low correlation with the target, we are not dropping any column."
   ]
  },
  {
   "cell_type": "code",
   "execution_count": 27,
   "id": "fbd9a42f",
   "metadata": {},
   "outputs": [
    {
     "data": {
      "image/png": "[encoded data removed]",
      "text/plain": [
       "<Figure size 720x1440 with 45 Axes>"
      ]
     },
     "metadata": {
      "needs_background": "light"
     },
     "output_type": "display_data"
    }
   ],
   "source": [
    "df.plot(kind='box',subplots=True,layout=(15,3),figsize=(10,20),color='green')\n",
    "plt.show()"
   ]
  },
  {
   "cell_type": "code",
   "execution_count": 28,
   "id": "9e2b99f7",
   "metadata": {},
   "outputs": [
    {
     "name": "stdout",
     "output_type": "stream",
     "text": [
      "(5157, 8)\n",
      "(4988, 8)\n",
      "loss_percent=  3.2770990886174136\n"
     ]
    }
   ],
   "source": [
    "#outlier removal\n",
    "from scipy.stats import zscore\n",
    "z=np.abs(zscore(df))\n",
    "\n",
    "\n",
    "df_new=df[(z<3.0).all(axis=1)]\n",
    "print(df.shape)\n",
    "print(df_new.shape)\n",
    "\n",
    "print(\"loss_percent= \",(df.shape[0]-df_new.shape[0])/df.shape[0]*100)"
   ]
  },
  {
   "cell_type": "code",
   "execution_count": 29,
   "id": "3e090c43",
   "metadata": {},
   "outputs": [],
   "source": [
    "df=df_new"
   ]
  },
  {
   "cell_type": "markdown",
   "id": "295e87ff",
   "metadata": {},
   "source": [
    "# Model testing starts"
   ]
  },
  {
   "cell_type": "code",
   "execution_count": 30,
   "id": "bde629d5",
   "metadata": {},
   "outputs": [
    {
     "name": "stdout",
     "output_type": "stream",
     "text": [
      "r2_score is: 0.17706485742176625\n",
      "root_mean_sqaured_error: 5.074068941276743\n",
      "mean_absolute_error: 3.330587564047331\n"
     ]
    }
   ],
   "source": [
    "x=df.iloc[:,0:-1]\n",
    "y=df.iloc[:,-1]\n",
    "\n",
    "x_train,x_test,y_train,y_test=train_test_split(x,y,test_size=0.20,random_state=42)\n",
    "lr=LinearRegression()\n",
    "lr.fit(x_train,y_train)\n",
    "y_pred=lr.predict(x_test)\n",
    "print('r2_score is:',r2_score(y_test,y_pred))\n",
    "print('root_mean_sqaured_error:',mean_squared_error(y_test,y_pred)**0.5)\n",
    "print('mean_absolute_error:',mean_absolute_error(y_test,y_pred))"
   ]
  },
  {
   "cell_type": "code",
   "execution_count": 32,
   "id": "a8eab6cb",
   "metadata": {},
   "outputs": [
    {
     "name": "stdout",
     "output_type": "stream",
     "text": [
      "r2_score for RandomForestRegression is:  0.848835572898778\n",
      "root_mean_sqaured_error: 2.174695022786188\n",
      "mean_absolute_error: 0.9801297564078155\n"
     ]
    }
   ],
   "source": [
    "rfr=RandomForestRegressor()\n",
    "rfr.fit(x_train,y_train)\n",
    "y_pred_rfr=rfr.predict(x_test)\n",
    "print(\"r2_score for RandomForestRegression is: \",r2_score(y_test,y_pred_rfr))\n",
    "print('root_mean_sqaured_error:',mean_squared_error(y_test,y_pred_rfr)**0.5)\n",
    "print('mean_absolute_error:',mean_absolute_error(y_test,y_pred_rfr))"
   ]
  },
  {
   "cell_type": "code",
   "execution_count": 45,
   "id": "59bc6485",
   "metadata": {},
   "outputs": [
    {
     "name": "stdout",
     "output_type": "stream",
     "text": [
      "r2_score for RandomForestRegression is:  0.49970038995060073\n",
      "root_mean_sqaured_error: 3.9562947657558447\n",
      "mean_absolute_error: 2.140323647294589\n"
     ]
    }
   ],
   "source": [
    "x=df.iloc[:,0:-1]\n",
    "y=df.iloc[:,-1]\n",
    "\n",
    "scaler = StandardScaler()\n",
    "x_knc=scaler.fit_transform(x)\n",
    "\n",
    "scaler_y=StandardScaler()\n",
    "\n",
    "\n",
    "x_train,x_test,y_train,y_test=train_test_split(x_knc,y,test_size=0.20,random_state=42)\n",
    "\n",
    "rfr=KNeighborsRegressor()\n",
    "rfr.fit(x_train,scaler_y.fit_transform(y_train.values.reshape(-1,1)))\n",
    "y_pred_rfr=rfr.predict(x_test)\n",
    "print(\"r2_score for RandomForestRegression is: \",r2_score(y_test,scaler_y.inverse_transform(y_pred_rfr)))\n",
    "print('root_mean_sqaured_error:',mean_squared_error(y_test,scaler_y.inverse_transform(y_pred_rfr))**0.5)\n",
    "print('mean_absolute_error:',mean_absolute_error(y_test,scaler_y.inverse_transform(y_pred_rfr)))"
   ]
  },
  {
   "cell_type": "code",
   "execution_count": 43,
   "id": "1bfdae7d",
   "metadata": {},
   "outputs": [
    {
     "data": {
      "text/plain": [
       "(4988, 7)"
      ]
     },
     "execution_count": 43,
     "metadata": {},
     "output_type": "execute_result"
    }
   ],
   "source": [
    "x.shape"
   ]
  },
  {
   "cell_type": "code",
   "execution_count": 44,
   "id": "815f9989",
   "metadata": {},
   "outputs": [
    {
     "data": {
      "text/plain": [
       "(4988,)"
      ]
     },
     "execution_count": 44,
     "metadata": {},
     "output_type": "execute_result"
    }
   ],
   "source": [
    "y.shape"
   ]
  },
  {
   "cell_type": "code",
   "execution_count": 46,
   "id": "1e59e528",
   "metadata": {},
   "outputs": [
    {
     "name": "stdout",
     "output_type": "stream",
     "text": [
      "r2_score for RandomForestRegression is:  0.49970038995060073\n",
      "root_mean_sqaured_error: 3.9562947657558447\n",
      "mean_absolute_error: 2.140323647294589\n"
     ]
    }
   ],
   "source": [
    "x=df.iloc[:,0:-1]\n",
    "y=df.iloc[:,-1]\n",
    "\n",
    "scaler = StandardScaler()\n",
    "x_knc=scaler.fit_transform(x)\n",
    "\n",
    "x_train,x_test,y_train,y_test=train_test_split(x_knc,y,test_size=0.20,random_state=42)\n",
    "knr=KNeighborsRegressor()\n",
    "knr.fit(x_train,y_train)\n",
    "y_pred=knr.predict(x_test)\n",
    "print(\"r2_score for RandomForestRegression is: \",r2_score(y_test,y_pred))\n",
    "print('root_mean_sqaured_error:',mean_squared_error(y_test,y_pred)**0.5)\n",
    "print('mean_absolute_error:',mean_absolute_error(y_test,y_pred))\n"
   ]
  },
  {
   "cell_type": "code",
   "execution_count": 47,
   "id": "76755dd3",
   "metadata": {},
   "outputs": [
    {
     "name": "stdout",
     "output_type": "stream",
     "text": [
      "r2_score for RandomForestRegression is:  0.020839533470466298\n",
      "root_mean_sqaured_error: 5.534781677388693\n",
      "mean_absolute_error: 3.8037605156312626\n"
     ]
    }
   ],
   "source": [
    "x=df.iloc[:,0:-1]\n",
    "y=df.iloc[:,-1]\n",
    "\n",
    "#scaler = StandardScaler()\n",
    "#x_knc=scaler.fit_transform(x)\n",
    "\n",
    "x_train,x_test,y_train,y_test=train_test_split(x,y,test_size=0.20,random_state=42)\n",
    "knr=KNeighborsRegressor()\n",
    "knr.fit(x_train,y_train)\n",
    "y_pred=knr.predict(x_test)\n",
    "print(\"r2_score for RandomForestRegression is: \",r2_score(y_test,y_pred))\n",
    "print('root_mean_sqaured_error:',mean_squared_error(y_test,y_pred)**0.5)\n",
    "print('mean_absolute_error:',mean_absolute_error(y_test,y_pred))\n"
   ]
  },
  {
   "cell_type": "code",
   "execution_count": 49,
   "id": "0940456d",
   "metadata": {},
   "outputs": [
    {
     "name": "stdout",
     "output_type": "stream",
     "text": [
      "r2_score for RandomForestRegression is:  0.5006472190608073\n",
      "root_mean_sqaured_error: 3.9525493010635606\n",
      "mean_absolute_error: 1.998341931713735\n"
     ]
    }
   ],
   "source": [
    "x=df.iloc[:,0:-1]\n",
    "y=df.iloc[:,-1]\n",
    "\n",
    "pt_x=PowerTransformer()\n",
    "x_pt=pt_x.fit_transform(x)\n",
    "\n",
    "pt_y=PowerTransformer()\n",
    "\n",
    "x_train,x_test,y_train,y_test=train_test_split(x_pt,y,test_size=0.20,random_state=42)\n",
    "knr=KNeighborsRegressor()\n",
    "knr.fit(x_train,pt_y.fit_transform(y_train.values.reshape(-1,1)))\n",
    "y_pred=knr.predict(x_test)\n",
    "print(\"r2_score for RandomForestRegression is: \",r2_score(y_test,pt_y.inverse_transform(y_pred)))\n",
    "print('root_mean_sqaured_error:',mean_squared_error(y_test,pt_y.inverse_transform(y_pred))**0.5)\n",
    "print('mean_absolute_error:',mean_absolute_error(y_test,pt_y.inverse_transform(y_pred)))\n"
   ]
  },
  {
   "cell_type": "code",
   "execution_count": 51,
   "id": "99ab45bb",
   "metadata": {},
   "outputs": [
    {
     "data": {
      "text/plain": [
       "array([[ 2.80545643],\n",
       "       [ 5.23472964],\n",
       "       [ 8.58246848],\n",
       "       [ 6.45046517],\n",
       "       [ 1.20863016],\n",
       "       [ 4.63297742],\n",
       "       [ 3.88362951],\n",
       "       [ 5.93215465],\n",
       "       [ 1.92336904],\n",
       "       [ 2.65080913],\n",
       "       [ 5.71434436],\n",
       "       [ 5.43544451],\n",
       "       [ 5.71152694],\n",
       "       [ 9.53208601],\n",
       "       [ 5.95045381],\n",
       "       [10.37933306],\n",
       "       [ 7.52386947],\n",
       "       [ 3.50945922],\n",
       "       [ 6.38352427],\n",
       "       [ 3.6899221 ],\n",
       "       [ 3.25521513],\n",
       "       [ 3.87036539],\n",
       "       [ 4.13852522],\n",
       "       [ 7.47985029],\n",
       "       [ 8.05700109],\n",
       "       [ 6.73540692],\n",
       "       [ 3.49289513],\n",
       "       [ 4.62306426],\n",
       "       [ 4.74431189],\n",
       "       [12.15231042],\n",
       "       [ 3.83711986],\n",
       "       [ 2.88497636],\n",
       "       [ 2.90277305],\n",
       "       [ 9.44947797],\n",
       "       [ 5.14942033],\n",
       "       [ 6.96574722],\n",
       "       [10.91230778],\n",
       "       [ 9.46441244],\n",
       "       [ 1.98400784],\n",
       "       [ 3.74721631],\n",
       "       [ 9.62320582],\n",
       "       [ 4.25285256],\n",
       "       [ 6.66311255],\n",
       "       [ 3.29263452],\n",
       "       [ 2.48339895],\n",
       "       [ 7.64439947],\n",
       "       [11.82518274],\n",
       "       [ 6.08249723],\n",
       "       [ 4.93588431],\n",
       "       [ 7.33141773],\n",
       "       [ 4.12955197],\n",
       "       [ 8.30945826],\n",
       "       [ 2.98444022],\n",
       "       [ 4.59083721],\n",
       "       [ 8.49084749],\n",
       "       [ 4.32170211],\n",
       "       [ 6.32785265],\n",
       "       [ 9.5816598 ],\n",
       "       [ 4.89707044],\n",
       "       [ 3.91737271],\n",
       "       [ 4.1636683 ],\n",
       "       [ 6.73044437],\n",
       "       [ 5.42679131],\n",
       "       [ 2.30666661],\n",
       "       [12.18358005],\n",
       "       [ 5.98274993],\n",
       "       [ 4.358755  ],\n",
       "       [17.24539743],\n",
       "       [ 3.33105024],\n",
       "       [23.48897176],\n",
       "       [ 8.17541421],\n",
       "       [ 5.18380832],\n",
       "       [ 6.22268568],\n",
       "       [ 6.17718667],\n",
       "       [ 2.76414877],\n",
       "       [ 2.65316051],\n",
       "       [ 5.04306987],\n",
       "       [ 1.96266088],\n",
       "       [ 2.73448718],\n",
       "       [ 7.2030076 ],\n",
       "       [ 3.91395557],\n",
       "       [ 7.69181824],\n",
       "       [ 9.81836124],\n",
       "       [ 5.66648227],\n",
       "       [ 5.4978236 ],\n",
       "       [ 3.12120733],\n",
       "       [ 3.93385635],\n",
       "       [ 7.5927995 ],\n",
       "       [ 8.58905332],\n",
       "       [ 4.30633771],\n",
       "       [ 8.35718852],\n",
       "       [ 3.85587324],\n",
       "       [ 2.86860236],\n",
       "       [19.35289392],\n",
       "       [ 5.89596154],\n",
       "       [ 4.76018315],\n",
       "       [ 2.48320164],\n",
       "       [ 9.23509296],\n",
       "       [ 3.33655047],\n",
       "       [ 6.8675616 ],\n",
       "       [ 3.17554184],\n",
       "       [ 5.94538647],\n",
       "       [ 4.54301735],\n",
       "       [18.82797541],\n",
       "       [ 4.78958417],\n",
       "       [ 8.02096059],\n",
       "       [ 6.1099643 ],\n",
       "       [ 1.68554122],\n",
       "       [ 7.35078354],\n",
       "       [ 7.37054759],\n",
       "       [ 9.03406272],\n",
       "       [ 7.72818177],\n",
       "       [ 6.1042197 ],\n",
       "       [ 4.44418733],\n",
       "       [ 4.24371835],\n",
       "       [ 8.2997716 ],\n",
       "       [ 2.20257995],\n",
       "       [ 9.54679513],\n",
       "       [ 4.35430204],\n",
       "       [ 6.39909292],\n",
       "       [ 2.11609971],\n",
       "       [ 9.64552581],\n",
       "       [ 7.16943217],\n",
       "       [ 4.15298776],\n",
       "       [ 9.43429413],\n",
       "       [ 5.26879399],\n",
       "       [ 8.09675941],\n",
       "       [ 4.33967336],\n",
       "       [ 2.76837407],\n",
       "       [ 6.81930671],\n",
       "       [ 5.16043344],\n",
       "       [ 5.41271179],\n",
       "       [ 3.54863997],\n",
       "       [ 7.16973775],\n",
       "       [ 8.61308676],\n",
       "       [ 3.81286397],\n",
       "       [ 5.43835447],\n",
       "       [ 7.07662792],\n",
       "       [ 3.97409904],\n",
       "       [ 3.4547567 ],\n",
       "       [ 5.58392326],\n",
       "       [10.39520463],\n",
       "       [ 6.90194916],\n",
       "       [ 9.71735141],\n",
       "       [ 7.45317407],\n",
       "       [ 9.44947797],\n",
       "       [ 6.89512669],\n",
       "       [10.47211767],\n",
       "       [13.05456683],\n",
       "       [10.2946316 ],\n",
       "       [ 6.77019059],\n",
       "       [ 6.02118634],\n",
       "       [ 5.83769026],\n",
       "       [ 8.79146469],\n",
       "       [ 4.27744337],\n",
       "       [ 9.7598105 ],\n",
       "       [ 6.8675616 ],\n",
       "       [ 5.3985505 ],\n",
       "       [10.86424357],\n",
       "       [ 6.19371894],\n",
       "       [ 4.63781076],\n",
       "       [ 2.98267578],\n",
       "       [ 2.40634964],\n",
       "       [ 3.33655047],\n",
       "       [ 4.70809262],\n",
       "       [11.06432854],\n",
       "       [ 5.62071765],\n",
       "       [13.47196724],\n",
       "       [13.41370959],\n",
       "       [ 3.25780537],\n",
       "       [ 9.86040284],\n",
       "       [ 3.97202456],\n",
       "       [10.10712855],\n",
       "       [20.58744977],\n",
       "       [ 6.20688515],\n",
       "       [ 8.06321785],\n",
       "       [ 4.67746604],\n",
       "       [11.58503771],\n",
       "       [ 7.41254965],\n",
       "       [ 3.13378525],\n",
       "       [ 4.65352691],\n",
       "       [ 4.24906607],\n",
       "       [ 8.1207896 ],\n",
       "       [ 2.69925831],\n",
       "       [ 5.32819234],\n",
       "       [ 4.97275805],\n",
       "       [ 7.40097512],\n",
       "       [ 2.09838672],\n",
       "       [20.13264956],\n",
       "       [ 6.29142083],\n",
       "       [ 4.37267034],\n",
       "       [10.29400961],\n",
       "       [10.98536131],\n",
       "       [ 3.99089615],\n",
       "       [14.16627862],\n",
       "       [ 6.06269484],\n",
       "       [ 4.81962448],\n",
       "       [ 6.0719076 ],\n",
       "       [ 9.49071098],\n",
       "       [12.16678948],\n",
       "       [ 4.99554961],\n",
       "       [ 8.26655932],\n",
       "       [ 6.62697712],\n",
       "       [ 7.56620262],\n",
       "       [ 1.89121118],\n",
       "       [ 7.75277853],\n",
       "       [ 7.41487566],\n",
       "       [ 6.94785123],\n",
       "       [ 5.32748265],\n",
       "       [ 5.33531648],\n",
       "       [16.20942737],\n",
       "       [ 3.80123587],\n",
       "       [ 2.00318186],\n",
       "       [ 8.42937058],\n",
       "       [ 8.01775326],\n",
       "       [ 6.29594393],\n",
       "       [ 2.34469102],\n",
       "       [ 3.19916339],\n",
       "       [ 2.18685081],\n",
       "       [ 5.3354109 ],\n",
       "       [ 7.91113321],\n",
       "       [ 4.50462931],\n",
       "       [ 4.76000728],\n",
       "       [ 8.70546912],\n",
       "       [ 7.14954733],\n",
       "       [10.93802018],\n",
       "       [ 8.76505543],\n",
       "       [ 1.88504707],\n",
       "       [ 4.10017466],\n",
       "       [17.0322427 ],\n",
       "       [ 4.23304435],\n",
       "       [ 3.48206531],\n",
       "       [ 9.42146728],\n",
       "       [21.89214631],\n",
       "       [ 5.17205498],\n",
       "       [ 4.62471158],\n",
       "       [ 7.08950438],\n",
       "       [ 3.17454441],\n",
       "       [ 7.61731567],\n",
       "       [ 5.51353664],\n",
       "       [11.85624409],\n",
       "       [ 9.53061999],\n",
       "       [ 4.16892502],\n",
       "       [ 5.41780767],\n",
       "       [ 6.84461879],\n",
       "       [ 3.00305599],\n",
       "       [ 3.75268954],\n",
       "       [14.97092119],\n",
       "       [ 6.15399016],\n",
       "       [ 3.81513354],\n",
       "       [ 3.09615117],\n",
       "       [11.59745124],\n",
       "       [ 4.82288066],\n",
       "       [ 3.17523471],\n",
       "       [ 6.28302937],\n",
       "       [ 6.94785123],\n",
       "       [ 3.88600355],\n",
       "       [ 3.52979163],\n",
       "       [ 6.50220101],\n",
       "       [ 5.50997997],\n",
       "       [ 5.50283238],\n",
       "       [ 7.63653504],\n",
       "       [11.08459995],\n",
       "       [23.48897176],\n",
       "       [ 3.99889803],\n",
       "       [ 3.68969173],\n",
       "       [ 6.83412309],\n",
       "       [ 4.76017915],\n",
       "       [ 2.19041952],\n",
       "       [12.14825177],\n",
       "       [ 5.69652615],\n",
       "       [ 6.3931351 ],\n",
       "       [ 3.18530868],\n",
       "       [10.7419138 ],\n",
       "       [ 4.83689142],\n",
       "       [ 8.31654128],\n",
       "       [ 4.97804191],\n",
       "       [ 2.9813109 ],\n",
       "       [ 5.15960815],\n",
       "       [ 8.19183941],\n",
       "       [18.20214868],\n",
       "       [ 5.93070635],\n",
       "       [ 4.65111179],\n",
       "       [ 6.17512863],\n",
       "       [ 1.42858069],\n",
       "       [ 4.76394748],\n",
       "       [ 4.84690165],\n",
       "       [19.80011777],\n",
       "       [ 5.8434527 ],\n",
       "       [ 6.45832429],\n",
       "       [ 6.06520127],\n",
       "       [12.3171798 ],\n",
       "       [ 2.784365  ],\n",
       "       [ 2.47326316],\n",
       "       [12.86579149],\n",
       "       [ 6.49964506],\n",
       "       [ 6.42642183],\n",
       "       [ 9.23742515],\n",
       "       [ 3.01635803],\n",
       "       [ 5.07324467],\n",
       "       [ 3.47195938],\n",
       "       [11.14991442],\n",
       "       [ 5.17282491],\n",
       "       [ 4.78786826],\n",
       "       [ 1.69896992],\n",
       "       [ 5.31002934],\n",
       "       [ 8.02360408],\n",
       "       [ 7.92292638],\n",
       "       [ 2.44474576],\n",
       "       [11.45750572],\n",
       "       [ 5.33095607],\n",
       "       [ 5.45118405],\n",
       "       [ 5.24037453],\n",
       "       [ 1.53219856],\n",
       "       [ 6.65623231],\n",
       "       [ 8.62405221],\n",
       "       [ 8.80727147],\n",
       "       [ 1.93047673],\n",
       "       [ 2.51649852],\n",
       "       [ 2.35677822],\n",
       "       [ 4.21222557],\n",
       "       [ 3.61730723],\n",
       "       [ 7.15576293],\n",
       "       [ 8.43325158],\n",
       "       [14.62519524],\n",
       "       [ 5.73859661],\n",
       "       [ 5.55832499],\n",
       "       [ 6.12879549],\n",
       "       [13.2959205 ],\n",
       "       [ 4.21094283],\n",
       "       [ 7.2581192 ],\n",
       "       [ 6.60477746],\n",
       "       [ 3.67787513],\n",
       "       [14.69087307],\n",
       "       [ 5.09090124],\n",
       "       [ 4.8587227 ],\n",
       "       [ 6.62277833],\n",
       "       [ 5.78939962],\n",
       "       [ 1.51143258],\n",
       "       [ 9.1899996 ],\n",
       "       [ 6.08981201],\n",
       "       [ 6.04917408],\n",
       "       [ 5.18849647],\n",
       "       [ 5.86626994],\n",
       "       [ 8.19410096],\n",
       "       [ 1.37913084],\n",
       "       [ 7.49367327],\n",
       "       [13.04251551],\n",
       "       [ 4.8055863 ],\n",
       "       [ 5.62847779],\n",
       "       [ 4.76167017],\n",
       "       [ 3.03975139],\n",
       "       [ 3.3166422 ],\n",
       "       [ 8.06427761],\n",
       "       [ 2.77347048],\n",
       "       [ 6.550074  ],\n",
       "       [ 8.80727147],\n",
       "       [ 5.78153422],\n",
       "       [ 4.20590749],\n",
       "       [ 4.40071883],\n",
       "       [ 5.66289168],\n",
       "       [ 3.63004682],\n",
       "       [ 5.21130356],\n",
       "       [ 6.81451337],\n",
       "       [15.53002435],\n",
       "       [ 2.66476272],\n",
       "       [ 5.59551095],\n",
       "       [ 2.35876051],\n",
       "       [ 3.57673641],\n",
       "       [ 8.53994903],\n",
       "       [13.0866944 ],\n",
       "       [ 6.10467824],\n",
       "       [16.11803215],\n",
       "       [ 4.61694419],\n",
       "       [ 3.44617497],\n",
       "       [ 6.84219503],\n",
       "       [ 8.10466257],\n",
       "       [10.32712764],\n",
       "       [12.28288408],\n",
       "       [ 6.44032189],\n",
       "       [ 8.71473285],\n",
       "       [ 4.50796386],\n",
       "       [ 4.53116245],\n",
       "       [10.56530817],\n",
       "       [ 3.67271433],\n",
       "       [ 5.9374994 ],\n",
       "       [ 4.87908034],\n",
       "       [ 4.33140188],\n",
       "       [ 2.65316051],\n",
       "       [ 3.09799845],\n",
       "       [ 2.5563386 ],\n",
       "       [ 5.32165174],\n",
       "       [ 2.92413031],\n",
       "       [ 5.97650939],\n",
       "       [10.59760939],\n",
       "       [ 3.23957467],\n",
       "       [ 4.85475052],\n",
       "       [ 5.95366311],\n",
       "       [ 7.83516517],\n",
       "       [ 2.76142037],\n",
       "       [ 4.66823413],\n",
       "       [ 7.44069455],\n",
       "       [ 7.19640934],\n",
       "       [ 6.43091553],\n",
       "       [ 4.71579669],\n",
       "       [21.45543015],\n",
       "       [ 6.53590149],\n",
       "       [ 4.25714341],\n",
       "       [ 4.52094755],\n",
       "       [ 3.89495262],\n",
       "       [17.11409482],\n",
       "       [ 3.03627326],\n",
       "       [ 6.88317088],\n",
       "       [ 4.12918493],\n",
       "       [ 4.61727935],\n",
       "       [ 3.97508254],\n",
       "       [10.56997656],\n",
       "       [ 6.66571961],\n",
       "       [ 6.32202001],\n",
       "       [ 9.3260591 ],\n",
       "       [ 6.03638335],\n",
       "       [ 9.23742515],\n",
       "       [16.72440869],\n",
       "       [ 9.49682939],\n",
       "       [ 3.41100191],\n",
       "       [ 5.07406779],\n",
       "       [ 8.57875617],\n",
       "       [10.06382161],\n",
       "       [ 5.01061867],\n",
       "       [ 5.32911512],\n",
       "       [ 2.98444022],\n",
       "       [16.02255772],\n",
       "       [ 3.92477669],\n",
       "       [ 5.98475109],\n",
       "       [ 4.12528895],\n",
       "       [ 5.4644185 ],\n",
       "       [ 3.23419562],\n",
       "       [ 3.55111186],\n",
       "       [ 8.16576606],\n",
       "       [ 4.17023231],\n",
       "       [11.04116597],\n",
       "       [ 6.73402136],\n",
       "       [ 6.40402516],\n",
       "       [ 4.93334688],\n",
       "       [ 4.25124871],\n",
       "       [ 7.01379213],\n",
       "       [16.89993856],\n",
       "       [ 3.53527848],\n",
       "       [ 5.24306735],\n",
       "       [19.62076961],\n",
       "       [ 4.48906037],\n",
       "       [ 4.60771393],\n",
       "       [ 6.20434492],\n",
       "       [ 3.87312303],\n",
       "       [ 9.2424706 ],\n",
       "       [ 6.37440793],\n",
       "       [ 4.3978963 ],\n",
       "       [ 4.24089457],\n",
       "       [ 4.62925827],\n",
       "       [ 4.10421318],\n",
       "       [ 8.74377341],\n",
       "       [ 4.37745358],\n",
       "       [ 4.41137474],\n",
       "       [11.53599897],\n",
       "       [26.46065259],\n",
       "       [ 6.3769309 ],\n",
       "       [ 2.39038916],\n",
       "       [ 4.13842623],\n",
       "       [ 9.66050845],\n",
       "       [ 9.7289498 ],\n",
       "       [ 6.8240891 ],\n",
       "       [19.24376424],\n",
       "       [ 2.61793016],\n",
       "       [ 3.11720449],\n",
       "       [ 4.8587227 ],\n",
       "       [ 1.56876884],\n",
       "       [ 5.34153609],\n",
       "       [ 3.66271178],\n",
       "       [ 4.01181199],\n",
       "       [ 7.73334334],\n",
       "       [ 5.51578176],\n",
       "       [ 4.1439929 ],\n",
       "       [ 3.72247973],\n",
       "       [ 3.89805204],\n",
       "       [ 7.15838984],\n",
       "       [ 6.84989655],\n",
       "       [ 3.39530038],\n",
       "       [11.65066967],\n",
       "       [ 4.56856175],\n",
       "       [ 8.10980413],\n",
       "       [ 7.10131411],\n",
       "       [ 9.40741726],\n",
       "       [ 7.72768929],\n",
       "       [ 6.73634854],\n",
       "       [ 3.27755371],\n",
       "       [ 6.37945394],\n",
       "       [10.25716383],\n",
       "       [ 7.6260307 ],\n",
       "       [ 4.21812872],\n",
       "       [ 4.48775261],\n",
       "       [ 7.87376669],\n",
       "       [ 2.99329793],\n",
       "       [ 8.52033138],\n",
       "       [ 8.70919837],\n",
       "       [26.64088745],\n",
       "       [ 5.97861828],\n",
       "       [ 5.79279627],\n",
       "       [10.01030999],\n",
       "       [ 5.3183524 ],\n",
       "       [ 4.66823413],\n",
       "       [ 3.85627963],\n",
       "       [ 5.73911294],\n",
       "       [ 3.32889389],\n",
       "       [ 4.0123259 ],\n",
       "       [ 2.84556567],\n",
       "       [ 4.36717283],\n",
       "       [12.80619305],\n",
       "       [ 4.27685713],\n",
       "       [ 4.27310636],\n",
       "       [ 5.79669579],\n",
       "       [ 6.67116617],\n",
       "       [ 7.23247749],\n",
       "       [ 7.20283687],\n",
       "       [13.64336762],\n",
       "       [ 7.59108481],\n",
       "       [ 3.38403425],\n",
       "       [ 5.95990629],\n",
       "       [ 4.51767823],\n",
       "       [ 7.0974883 ],\n",
       "       [ 3.27859731],\n",
       "       [ 3.87542559],\n",
       "       [ 5.14785993],\n",
       "       [ 8.9861928 ],\n",
       "       [ 3.80640497],\n",
       "       [ 5.60299977],\n",
       "       [ 8.76267858],\n",
       "       [10.82595304],\n",
       "       [ 5.3878772 ],\n",
       "       [14.75183983],\n",
       "       [10.26220473],\n",
       "       [10.29668593],\n",
       "       [ 6.03999967],\n",
       "       [ 6.91253689],\n",
       "       [13.66584684],\n",
       "       [ 6.12630285],\n",
       "       [ 2.872383  ],\n",
       "       [ 5.02602136],\n",
       "       [ 4.6460934 ],\n",
       "       [ 5.13454145],\n",
       "       [ 5.05207484],\n",
       "       [10.18767174],\n",
       "       [ 4.8718153 ],\n",
       "       [ 6.58555335],\n",
       "       [ 2.50699292],\n",
       "       [ 6.38767149],\n",
       "       [ 3.32907692],\n",
       "       [ 6.51249735],\n",
       "       [ 6.14559808],\n",
       "       [ 3.10205531],\n",
       "       [ 6.99178453],\n",
       "       [ 2.47568616],\n",
       "       [ 4.58817735],\n",
       "       [ 4.71701202],\n",
       "       [ 5.94735857],\n",
       "       [17.33049354],\n",
       "       [ 5.6052827 ],\n",
       "       [ 3.58359886],\n",
       "       [ 6.77019059],\n",
       "       [ 4.50329369],\n",
       "       [ 2.63957519],\n",
       "       [ 6.96170995],\n",
       "       [11.04928923],\n",
       "       [ 4.20549312],\n",
       "       [ 8.76035328],\n",
       "       [ 4.27310636],\n",
       "       [ 8.13304812],\n",
       "       [ 3.91573853],\n",
       "       [ 7.5343846 ],\n",
       "       [ 8.10698695],\n",
       "       [ 3.89470192],\n",
       "       [ 7.46477874],\n",
       "       [ 3.40180355],\n",
       "       [ 8.57023089],\n",
       "       [ 2.14487724],\n",
       "       [ 3.65152877],\n",
       "       [ 1.8706333 ],\n",
       "       [ 6.46665352],\n",
       "       [ 3.78769854],\n",
       "       [ 5.81502158],\n",
       "       [ 6.23232404],\n",
       "       [ 9.29328423],\n",
       "       [ 7.73676702],\n",
       "       [ 4.61060414],\n",
       "       [ 4.87211686],\n",
       "       [ 2.22395723],\n",
       "       [ 5.32911512],\n",
       "       [ 3.51663747],\n",
       "       [ 7.97096704],\n",
       "       [ 6.79677724],\n",
       "       [ 5.57410756],\n",
       "       [ 9.53061999],\n",
       "       [ 6.8518883 ],\n",
       "       [ 3.10796349],\n",
       "       [ 6.85549083],\n",
       "       [ 7.35306925],\n",
       "       [ 8.52822874],\n",
       "       [ 3.63175701],\n",
       "       [ 3.52917474],\n",
       "       [ 4.8727279 ],\n",
       "       [ 5.8911616 ],\n",
       "       [ 6.81260731],\n",
       "       [ 2.32094494],\n",
       "       [ 6.01355504],\n",
       "       [ 4.03308769],\n",
       "       [ 3.23282313],\n",
       "       [ 3.94829654],\n",
       "       [ 4.36252067],\n",
       "       [ 4.4735875 ],\n",
       "       [ 5.26705778],\n",
       "       [ 8.90395148],\n",
       "       [ 6.93360377],\n",
       "       [ 4.66459424],\n",
       "       [ 3.19192937],\n",
       "       [16.22442157],\n",
       "       [ 3.57522721],\n",
       "       [ 5.01116333],\n",
       "       [ 4.74648172],\n",
       "       [ 2.1762246 ],\n",
       "       [18.82797541],\n",
       "       [ 3.98298117],\n",
       "       [ 6.6322099 ],\n",
       "       [ 4.07623277],\n",
       "       [ 5.43266592],\n",
       "       [12.8938132 ],\n",
       "       [ 4.44128506],\n",
       "       [ 4.10832792],\n",
       "       [ 5.50753082],\n",
       "       [13.23849661],\n",
       "       [ 4.72223726],\n",
       "       [ 7.18015724],\n",
       "       [ 5.50166839],\n",
       "       [21.2648251 ],\n",
       "       [ 5.94166706],\n",
       "       [ 8.78413136],\n",
       "       [ 6.61859423],\n",
       "       [ 3.33305692],\n",
       "       [ 4.14264303],\n",
       "       [ 2.40197084],\n",
       "       [ 6.48169663],\n",
       "       [ 8.72298969],\n",
       "       [ 6.01100609],\n",
       "       [ 7.08548307],\n",
       "       [ 5.82616706],\n",
       "       [ 9.66587128],\n",
       "       [ 7.36067865],\n",
       "       [18.99570696],\n",
       "       [ 5.695955  ],\n",
       "       [ 5.59163396],\n",
       "       [11.80343497],\n",
       "       [ 1.67055726],\n",
       "       [ 2.3776183 ],\n",
       "       [ 8.80676583],\n",
       "       [14.30003254],\n",
       "       [ 6.63314411],\n",
       "       [10.41761831],\n",
       "       [ 2.51609687],\n",
       "       [20.27436047],\n",
       "       [ 4.11681411],\n",
       "       [ 9.66587128],\n",
       "       [ 3.77165303],\n",
       "       [ 5.83923137],\n",
       "       [ 2.59641798],\n",
       "       [17.58987988],\n",
       "       [ 4.02940387],\n",
       "       [ 5.24215027],\n",
       "       [ 5.22485937],\n",
       "       [10.39286479],\n",
       "       [ 5.94284736],\n",
       "       [ 4.14943882],\n",
       "       [ 3.67830553],\n",
       "       [ 9.26332811],\n",
       "       [ 2.41822549],\n",
       "       [ 9.63506264],\n",
       "       [ 2.40449265],\n",
       "       [ 5.09770856],\n",
       "       [ 9.78481362],\n",
       "       [ 2.75326757],\n",
       "       [ 6.84461879],\n",
       "       [ 8.9023197 ],\n",
       "       [ 8.82708246],\n",
       "       [ 6.37507382],\n",
       "       [ 5.53883144],\n",
       "       [ 2.99618955],\n",
       "       [ 3.88352337],\n",
       "       [ 2.95326649],\n",
       "       [ 3.10371051],\n",
       "       [11.49247297],\n",
       "       [ 5.03271424],\n",
       "       [ 4.37420753],\n",
       "       [ 3.08083746],\n",
       "       [10.71093869],\n",
       "       [ 7.57451858],\n",
       "       [ 4.9198691 ],\n",
       "       [ 4.18850186],\n",
       "       [ 2.66493189],\n",
       "       [ 2.50562712],\n",
       "       [ 8.27421484],\n",
       "       [ 8.58220636],\n",
       "       [ 3.46254218],\n",
       "       [ 7.21639603],\n",
       "       [ 6.10884821],\n",
       "       [ 5.19857289],\n",
       "       [ 3.73739645],\n",
       "       [ 7.78836508],\n",
       "       [ 6.48028125],\n",
       "       [ 5.70970649],\n",
       "       [ 6.59158022],\n",
       "       [ 5.61356492],\n",
       "       [ 5.3210321 ],\n",
       "       [ 6.26438921],\n",
       "       [ 3.19447111],\n",
       "       [ 6.14328606],\n",
       "       [ 6.02021737],\n",
       "       [ 3.40174465],\n",
       "       [ 4.94528663],\n",
       "       [ 2.66778326],\n",
       "       [ 8.43325158],\n",
       "       [ 6.64129472],\n",
       "       [ 5.31904921],\n",
       "       [ 6.0015827 ],\n",
       "       [ 5.96784196],\n",
       "       [ 6.13634219],\n",
       "       [14.73816623],\n",
       "       [ 4.84690165],\n",
       "       [ 2.35259674],\n",
       "       [ 8.9042121 ],\n",
       "       [ 7.94628657],\n",
       "       [ 5.54495138],\n",
       "       [ 4.7285681 ],\n",
       "       [ 5.19892345],\n",
       "       [ 6.73481726],\n",
       "       [ 4.15979508],\n",
       "       [ 5.84721174],\n",
       "       [ 5.72406459],\n",
       "       [ 5.1536034 ],\n",
       "       [ 8.07841804],\n",
       "       [ 3.33092174],\n",
       "       [ 5.75822455],\n",
       "       [ 1.80132908],\n",
       "       [ 3.79579465],\n",
       "       [13.47196724],\n",
       "       [ 6.02992583],\n",
       "       [ 4.96665699],\n",
       "       [11.17911624],\n",
       "       [ 4.62364745],\n",
       "       [ 2.6871071 ],\n",
       "       [ 3.41045596],\n",
       "       [17.80326246],\n",
       "       [12.85188084],\n",
       "       [ 5.91978268],\n",
       "       [ 4.99299529],\n",
       "       [ 5.71764117],\n",
       "       [ 6.65756541],\n",
       "       [ 7.93198926],\n",
       "       [ 2.82037601],\n",
       "       [ 2.86488904],\n",
       "       [ 3.67644224],\n",
       "       [ 6.3745316 ],\n",
       "       [ 7.33561249],\n",
       "       [ 2.52608319],\n",
       "       [ 6.03724334],\n",
       "       [ 3.49958708],\n",
       "       [ 6.92608856],\n",
       "       [ 5.02072101],\n",
       "       [ 7.84534215],\n",
       "       [ 3.31925235],\n",
       "       [10.24837036],\n",
       "       [ 1.89528961],\n",
       "       [ 5.79017158],\n",
       "       [21.47691002],\n",
       "       [ 5.93069442],\n",
       "       [ 4.7020603 ],\n",
       "       [ 4.43724024],\n",
       "       [ 2.82912954],\n",
       "       [ 7.67007096],\n",
       "       [ 7.99708094],\n",
       "       [ 3.57839837],\n",
       "       [ 5.04950982],\n",
       "       [ 9.78839478],\n",
       "       [ 5.27506964],\n",
       "       [ 6.80377718],\n",
       "       [ 4.6792035 ],\n",
       "       [ 7.27924996],\n",
       "       [ 6.55535756],\n",
       "       [ 3.18530868],\n",
       "       [ 2.9017966 ],\n",
       "       [ 5.35496922],\n",
       "       [ 4.68517422],\n",
       "       [ 4.41503955],\n",
       "       [ 2.01127878],\n",
       "       [ 4.49405703],\n",
       "       [11.84159412],\n",
       "       [ 7.59811918],\n",
       "       [ 5.50936932],\n",
       "       [ 5.39940849],\n",
       "       [15.04982724],\n",
       "       [10.02735698],\n",
       "       [ 7.55125643],\n",
       "       [ 5.98148512],\n",
       "       [ 3.84093796],\n",
       "       [ 2.46594917],\n",
       "       [11.89283926],\n",
       "       [ 4.14970597],\n",
       "       [ 9.78209119],\n",
       "       [10.56997656],\n",
       "       [ 4.68837535],\n",
       "       [ 3.64117215],\n",
       "       [ 3.37743216],\n",
       "       [ 5.42840602],\n",
       "       [ 6.49256911],\n",
       "       [ 2.59716819],\n",
       "       [ 2.41778606],\n",
       "       [ 4.0375305 ],\n",
       "       [ 6.70511778],\n",
       "       [ 7.35663378],\n",
       "       [13.72157394],\n",
       "       [ 3.05527035],\n",
       "       [ 5.08579435],\n",
       "       [ 7.80221423],\n",
       "       [ 9.29281883],\n",
       "       [ 7.15576293],\n",
       "       [ 6.37850928],\n",
       "       [ 8.89571838],\n",
       "       [ 2.30773095],\n",
       "       [ 9.64421653],\n",
       "       [ 5.05184029],\n",
       "       [ 4.89889046],\n",
       "       [13.93266655],\n",
       "       [ 2.07819831],\n",
       "       [ 5.97470855],\n",
       "       [ 2.4608812 ],\n",
       "       [ 6.79568286],\n",
       "       [ 2.84556567],\n",
       "       [ 1.94489401],\n",
       "       [ 2.24329462],\n",
       "       [ 1.61820443],\n",
       "       [ 5.90499311],\n",
       "       [ 5.3573359 ],\n",
       "       [ 6.43975202],\n",
       "       [ 6.20260573],\n",
       "       [ 4.81463621],\n",
       "       [19.56476887],\n",
       "       [ 8.27480415],\n",
       "       [12.8611456 ],\n",
       "       [ 5.17507407],\n",
       "       [ 6.36507377],\n",
       "       [ 4.87470377],\n",
       "       [ 5.56096327],\n",
       "       [ 3.12990719],\n",
       "       [ 7.19162962],\n",
       "       [ 7.59776961],\n",
       "       [ 7.02410912],\n",
       "       [ 3.67335708],\n",
       "       [ 5.03928598],\n",
       "       [ 4.65557475],\n",
       "       [ 6.15451538],\n",
       "       [ 5.31120848],\n",
       "       [ 5.57521719],\n",
       "       [ 3.01645984],\n",
       "       [12.6539251 ],\n",
       "       [ 2.94818363],\n",
       "       [ 9.62605633],\n",
       "       [ 6.69504834],\n",
       "       [ 2.55025403],\n",
       "       [ 6.34559471],\n",
       "       [ 3.32144457],\n",
       "       [ 8.06805863],\n",
       "       [ 4.08223055],\n",
       "       [ 3.18543454],\n",
       "       [ 3.28123054],\n",
       "       [ 6.07258376],\n",
       "       [12.81405161],\n",
       "       [ 5.70330929],\n",
       "       [15.05361416],\n",
       "       [ 5.6874346 ],\n",
       "       [ 5.69523296],\n",
       "       [ 6.85677459],\n",
       "       [ 9.5895376 ],\n",
       "       [ 4.29897518],\n",
       "       [21.89950072],\n",
       "       [ 5.95940039],\n",
       "       [ 4.62815748],\n",
       "       [ 9.46823716],\n",
       "       [ 4.81980179],\n",
       "       [ 4.51208054],\n",
       "       [ 6.17917115],\n",
       "       [ 7.56098964],\n",
       "       [ 6.20095507],\n",
       "       [ 3.68482697],\n",
       "       [10.20237329],\n",
       "       [ 5.83252135],\n",
       "       [ 5.37483966],\n",
       "       [ 5.06163212],\n",
       "       [ 3.41931696],\n",
       "       [ 4.81249195],\n",
       "       [ 2.45717914],\n",
       "       [19.76586054],\n",
       "       [ 6.37223074],\n",
       "       [ 4.06825286],\n",
       "       [ 2.83665729],\n",
       "       [ 8.07104076],\n",
       "       [ 3.59917255],\n",
       "       [ 3.15334656],\n",
       "       [ 5.35733764],\n",
       "       [ 8.335197  ],\n",
       "       [ 5.50283238],\n",
       "       [10.7978401 ],\n",
       "       [ 5.54146357],\n",
       "       [ 5.13396076],\n",
       "       [ 3.20936712],\n",
       "       [10.26052873],\n",
       "       [ 7.3269288 ],\n",
       "       [ 2.73681735],\n",
       "       [12.25950976],\n",
       "       [ 3.95446819],\n",
       "       [ 7.35215514],\n",
       "       [ 4.01042037],\n",
       "       [ 3.44483159],\n",
       "       [ 8.72897491],\n",
       "       [ 4.98795447],\n",
       "       [ 3.66713639],\n",
       "       [12.12247516],\n",
       "       [ 9.43693604],\n",
       "       [ 7.05607184],\n",
       "       [ 4.56987175],\n",
       "       [ 3.97537593],\n",
       "       [ 4.31547669],\n",
       "       [ 6.46665352],\n",
       "       [ 7.16379494],\n",
       "       [ 3.31235922],\n",
       "       [ 6.66967849],\n",
       "       [ 9.63357534],\n",
       "       [18.33751184],\n",
       "       [ 2.34017654],\n",
       "       [10.4432705 ],\n",
       "       [ 6.01327965],\n",
       "       [ 4.59367887],\n",
       "       [10.3687744 ],\n",
       "       [ 3.3603836 ],\n",
       "       [ 4.03637721],\n",
       "       [ 4.55007374],\n",
       "       [ 4.96295898],\n",
       "       [ 5.07090218],\n",
       "       [ 3.82873514],\n",
       "       [19.32750722],\n",
       "       [ 3.04974102],\n",
       "       [16.35772504],\n",
       "       [ 4.53176748],\n",
       "       [ 5.22688001],\n",
       "       [ 3.44396073],\n",
       "       [ 8.84345526],\n",
       "       [ 7.71241429],\n",
       "       [ 7.4057691 ],\n",
       "       [ 5.97485006],\n",
       "       [ 3.92947876],\n",
       "       [ 2.92413031],\n",
       "       [ 9.3619082 ],\n",
       "       [ 5.99201997],\n",
       "       [ 7.24122575],\n",
       "       [ 7.46603588],\n",
       "       [ 7.05276011],\n",
       "       [10.40724044],\n",
       "       [ 3.9855284 ],\n",
       "       [ 4.10413629],\n",
       "       [ 6.42651591],\n",
       "       [13.92380174],\n",
       "       [ 6.63235392],\n",
       "       [ 2.27628135],\n",
       "       [ 3.94097088],\n",
       "       [11.95447618],\n",
       "       [ 8.04920478],\n",
       "       [ 2.62017068],\n",
       "       [14.09270475],\n",
       "       [12.4490514 ],\n",
       "       [ 5.0985188 ],\n",
       "       [10.13293941],\n",
       "       [ 5.79674192],\n",
       "       [ 9.45633839],\n",
       "       [ 5.9164257 ],\n",
       "       [13.06194319],\n",
       "       [ 4.78413183],\n",
       "       [ 6.71409062],\n",
       "       [ 6.20864904],\n",
       "       [ 7.33269163],\n",
       "       [ 3.78260725],\n",
       "       [ 3.27977228],\n",
       "       [ 8.50535433],\n",
       "       [ 5.80254539]])"
      ]
     },
     "execution_count": 51,
     "metadata": {},
     "output_type": "execute_result"
    }
   ],
   "source": [
    "pt_y.inverse_transform(y_pred)"
   ]
  },
  {
   "cell_type": "code",
   "execution_count": 55,
   "id": "4cb98aec",
   "metadata": {},
   "outputs": [
    {
     "name": "stdout",
     "output_type": "stream",
     "text": [
      "r2_score for RandomForestRegression is:  0.828843847284777\n",
      "root_mean_sqaured_error: 2.31403443381842\n",
      "mean_absolute_error: 0.992889870074131\n"
     ]
    }
   ],
   "source": [
    "x=df.iloc[:,0:-1]\n",
    "y=df.iloc[:,-1]\n",
    "\n",
    "pt_x=PowerTransformer()\n",
    "x_pt=pt_x.fit_transform(x)\n",
    "\n",
    "pt_y=PowerTransformer()\n",
    "\n",
    "x_train,x_test,y_train,y_test=train_test_split(x_pt,y,test_size=0.20,random_state=42)\n",
    "knr=RandomForestRegressor()\n",
    "knr.fit(x_train,pt_y.fit_transform(y_train.values.reshape(-1,1)))\n",
    "y_pred=knr.predict(x_test)\n",
    "print(\"r2_score for RandomForestRegression is: \",r2_score(y_test,pt_y.inverse_transform(y_pred.reshape(-1,1))))\n",
    "print('root_mean_sqaured_error:',mean_squared_error(y_test,pt_y.inverse_transform(y_pred.reshape(-1,1)))**0.5)\n",
    "print('mean_absolute_error:',mean_absolute_error(y_test,pt_y.inverse_transform(y_pred.reshape(-1,1))))"
   ]
  },
  {
   "cell_type": "code",
   "execution_count": 65,
   "id": "c885d899",
   "metadata": {},
   "outputs": [
    {
     "name": "stdout",
     "output_type": "stream",
     "text": [
      "r2_score for RandomForestRegression is:  0.8572431983698174\n",
      "root_mean_sqaured_error: 2.11335260703799\n",
      "mean_absolute_error: 0.9619232212542764\n"
     ]
    }
   ],
   "source": [
    "x=df.iloc[:,0:-1]\n",
    "y=df.iloc[:,-1]\n",
    "\n",
    "pt_x=PowerTransformer()\n",
    "x_pt=pt_x.fit_transform(x)\n",
    "\n",
    "pt_y=PowerTransformer()\n",
    "\n",
    "x_train,x_test,y_train,y_test=train_test_split(x_pt,y,test_size=0.20,random_state=42)\n",
    "knr=RandomForestRegressor(n_estimators=1000)\n",
    "knr.fit(x_train,y_train)\n",
    "y_pred=knr.predict(x_test)\n",
    "print(\"r2_score for RandomForestRegression is: \",r2_score(y_test,y_pred))\n",
    "print('root_mean_sqaured_error:',mean_squared_error(y_test,y_pred)**0.5)\n",
    "print('mean_absolute_error:',mean_absolute_error(y_test,y_pred))"
   ]
  },
  {
   "cell_type": "code",
   "execution_count": 63,
   "id": "a5ff1540",
   "metadata": {},
   "outputs": [
    {
     "name": "stdout",
     "output_type": "stream",
     "text": [
      "r2_score for RandomForestRegression is:  0.9123660423970945\n",
      "root_mean_sqaured_error: 1.6558072195370166\n",
      "mean_absolute_error: 0.9223267417133751\n"
     ]
    }
   ],
   "source": [
    "from sklearn.ensemble import GradientBoostingRegressor\n",
    "x=df.iloc[:,0:-1]\n",
    "y=df.iloc[:,-1]\n",
    "\n",
    "pt_x=PowerTransformer()\n",
    "x_pt=pt_x.fit_transform(x)\n",
    "\n",
    "pt_y=PowerTransformer()\n",
    "\n",
    "x_train,x_test,y_train,y_test=train_test_split(x_pt,y,test_size=0.20,random_state=42)\n",
    "knr=GradientBoostingRegressor(n_estimators=1000)\n",
    "knr.fit(x_train,y_train)\n",
    "y_pred=knr.predict(x_test)\n",
    "print(\"r2_score for RandomForestRegression is: \",r2_score(y_test,y_pred))\n",
    "print('root_mean_sqaured_error:',mean_squared_error(y_test,y_pred)**0.5)\n",
    "print('mean_absolute_error:',mean_absolute_error(y_test,y_pred))"
   ]
  },
  {
   "cell_type": "code",
   "execution_count": 70,
   "id": "33f065db",
   "metadata": {},
   "outputs": [
    {
     "name": "stdout",
     "output_type": "stream",
     "text": [
      "r2_score for RandomForestRegression is:  0.8576562372940134\n",
      "root_mean_sqaured_error: 2.1102931059091348\n",
      "mean_absolute_error: 0.9617743792080752\n"
     ]
    }
   ],
   "source": [
    "x=df.iloc[:,0:-1]\n",
    "y=df.iloc[:,-1]\n",
    "\n",
    "pt_year=PowerTransformer()\n",
    "x['year']=pt_year.fit_transform(x['year'].values.reshape(-1,1))\n",
    "\n",
    "pt_distance=PowerTransformer()\n",
    "x['distance']=pt_distance.fit_transform(x['distance'].values.reshape(-1,1))\n",
    "\n",
    "#pt_x=PowerTransformer()\n",
    "#x_pt=pt_x.fit_transform(x)\n",
    "\n",
    "#pt_y=PowerTransformer()\n",
    "\n",
    "x_train,x_test,y_train,y_test=train_test_split(x,y,test_size=0.20,random_state=42)\n",
    "knr=RandomForestRegressor(n_estimators=1000)\n",
    "knr.fit(x_train,y_train)\n",
    "y_pred=knr.predict(x_test)\n",
    "print(\"r2_score for RandomForestRegression is: \",r2_score(y_test,y_pred))\n",
    "print('root_mean_sqaured_error:',mean_squared_error(y_test,y_pred)**0.5)\n",
    "print('mean_absolute_error:',mean_absolute_error(y_test,y_pred))"
   ]
  },
  {
   "cell_type": "code",
   "execution_count": 67,
   "id": "4732aede",
   "metadata": {},
   "outputs": [
    {
     "data": {
      "text/html": [
       "<div>\n",
       "<style scoped>\n",
       "    .dataframe tbody tr th:only-of-type {\n",
       "        vertical-align: middle;\n",
       "    }\n",
       "\n",
       "    .dataframe tbody tr th {\n",
       "        vertical-align: top;\n",
       "    }\n",
       "\n",
       "    .dataframe thead th {\n",
       "        text-align: right;\n",
       "    }\n",
       "</style>\n",
       "<table border=\"1\" class=\"dataframe\">\n",
       "  <thead>\n",
       "    <tr style=\"text-align: right;\">\n",
       "      <th></th>\n",
       "      <th>brand_name</th>\n",
       "      <th>model</th>\n",
       "      <th>year</th>\n",
       "      <th>variant</th>\n",
       "      <th>distance</th>\n",
       "      <th>city</th>\n",
       "      <th>num_of_owners</th>\n",
       "      <th>price</th>\n",
       "    </tr>\n",
       "  </thead>\n",
       "  <tbody>\n",
       "    <tr>\n",
       "      <th>0</th>\n",
       "      <td>8</td>\n",
       "      <td>114</td>\n",
       "      <td>2018</td>\n",
       "      <td>1213</td>\n",
       "      <td>64554</td>\n",
       "      <td>0</td>\n",
       "      <td>1</td>\n",
       "      <td>7.05</td>\n",
       "    </tr>\n",
       "    <tr>\n",
       "      <th>1</th>\n",
       "      <td>9</td>\n",
       "      <td>212</td>\n",
       "      <td>2018</td>\n",
       "      <td>1246</td>\n",
       "      <td>54195</td>\n",
       "      <td>0</td>\n",
       "      <td>1</td>\n",
       "      <td>10.00</td>\n",
       "    </tr>\n",
       "    <tr>\n",
       "      <th>2</th>\n",
       "      <td>8</td>\n",
       "      <td>114</td>\n",
       "      <td>2016</td>\n",
       "      <td>1213</td>\n",
       "      <td>39821</td>\n",
       "      <td>0</td>\n",
       "      <td>1</td>\n",
       "      <td>6.25</td>\n",
       "    </tr>\n",
       "  </tbody>\n",
       "</table>\n",
       "</div>"
      ],
      "text/plain": [
       "   brand_name  model  year  variant  distance  city  num_of_owners  price\n",
       "0           8    114  2018     1213     64554     0              1   7.05\n",
       "1           9    212  2018     1246     54195     0              1  10.00\n",
       "2           8    114  2016     1213     39821     0              1   6.25"
      ]
     },
     "execution_count": 67,
     "metadata": {},
     "output_type": "execute_result"
    }
   ],
   "source": [
    "df.head(3)"
   ]
  },
  {
   "cell_type": "code",
   "execution_count": null,
   "id": "79ca0898",
   "metadata": {},
   "outputs": [],
   "source": [
    "After trying multuiple models under multiple conditions, I am coming to the conclusion that:-\n",
    "1. Models like LinearRegression, LassoRegression, RidgeRegression, ElasticNet,SGDRegressor is not going to preform well here.\n",
    "2. Models like KNNRegressor, RandomForestRegressor, GradientBoostingRegressor might perform well.\n",
    "\n",
    "So from from now we are focusing on increasing the accuracy of KNNRegressor, RandomForestRegressor, GradientBoostingRegressor."
   ]
  },
  {
   "cell_type": "markdown",
   "id": "104d6a63",
   "metadata": {},
   "source": [
    "# Model training and hyperparameter tuning."
   ]
  },
  {
   "cell_type": "markdown",
   "id": "784ac124",
   "metadata": {},
   "source": [
    "##### Trying KNN Regressor"
   ]
  },
  {
   "cell_type": "code",
   "execution_count": 71,
   "id": "9061ae51",
   "metadata": {},
   "outputs": [
    {
     "name": "stdout",
     "output_type": "stream",
     "text": [
      "{'algorithm': 'ball_tree', 'n_neighbors': 7, 'p': 1, 'weights': 'distance'}\n",
      "0.5977441490180386\n"
     ]
    }
   ],
   "source": [
    "#Applying GridSearchCV on KNeighborsRegressor \n",
    "\n",
    "x=df.iloc[:,0:-1]\n",
    "y=df.iloc[:,-1]\n",
    "\n",
    "scaler = StandardScaler()\n",
    "x_knc=scaler.fit_transform(x)\n",
    "\n",
    "knr=KNeighborsRegressor()\n",
    "parameters={'n_neighbors':[5,6,7,9,10,11],\"weights\":['uniform','distance'],'algorithm':['auto', 'ball_tree', 'kd_tree', 'brute'],'p':[1,2]}\n",
    "gd_sr=GridSearchCV(estimator=knr, param_grid= parameters,scoring='r2')\n",
    "gd_sr.fit(x_knc,y)\n",
    "best_parameters=gd_sr.best_params_\n",
    "print(best_parameters)\n",
    "best_result=gd_sr.best_score_\n",
    "print(best_result)"
   ]
  },
  {
   "cell_type": "code",
   "execution_count": 72,
   "id": "174308f9",
   "metadata": {},
   "outputs": [
    {
     "name": "stdout",
     "output_type": "stream",
     "text": [
      "0.7067148004690142\n",
      "78\n"
     ]
    }
   ],
   "source": [
    "#Lets find the best random_state for the  above obtained parameters.\n",
    "\n",
    "max_r2_score=0\n",
    "best_rand_state=0\n",
    "x=df.iloc[:,0:-1]\n",
    "y=df.iloc[:,-1]\n",
    "\n",
    "scaler = StandardScaler()\n",
    "x_knc=scaler.fit_transform(x)\n",
    "\n",
    "for i in range(0,100):\n",
    "    x_train,x_test,y_train,y_test=train_test_split(x_knc,y,test_size=0.20,random_state=i)\n",
    "    knr=KNeighborsRegressor(algorithm='ball_tree',n_neighbors=7,weights='distance',p=1)\n",
    "    knr.fit(x_train,y_train)\n",
    "    y_pred=knr.predict(x_test)\n",
    "    \n",
    "    if r2_score(y_test,y_pred)>max_r2_score:\n",
    "        max_r2_score=r2_score(y_test,y_pred)\n",
    "        best_rand_state=i\n",
    "\n",
    "print(max_r2_score)\n",
    "print(best_rand_state)"
   ]
  },
  {
   "cell_type": "code",
   "execution_count": 73,
   "id": "d52fb447",
   "metadata": {},
   "outputs": [
    {
     "name": "stdout",
     "output_type": "stream",
     "text": [
      "r2_score is: 0.7067148004690142\n",
      "root_mean_sqaured_error: 3.082893561972058\n",
      "mean_absolute_error: 1.7560399830665432\n"
     ]
    }
   ],
   "source": [
    "#training the final KNNRegressor model\n",
    "x=df.iloc[:,0:-1]\n",
    "y=df.iloc[:,-1]\n",
    "\n",
    "scaler_knn = StandardScaler()\n",
    "x_knc=scaler_knn.fit_transform(x)\n",
    "\n",
    "x_train,x_test,y_train,y_test=train_test_split(x_knc,y,test_size=0.20,random_state=78)\n",
    "knr=KNeighborsRegressor(algorithm='ball_tree',n_neighbors=7,weights='distance',p=1)\n",
    "knr.fit(x_train,y_train)\n",
    "y_pred=knr.predict(x_test)\n",
    "print('r2_score is:',r2_score(y_test,y_pred))\n",
    "print('root_mean_sqaured_error:',mean_squared_error(y_test,y_pred)**0.5)\n",
    "print('mean_absolute_error:',mean_absolute_error(y_test,y_pred)) "
   ]
  },
  {
   "cell_type": "markdown",
   "id": "ce0aaded",
   "metadata": {},
   "source": [
    "##### Trying RandomForestRegressor"
   ]
  },
  {
   "cell_type": "code",
   "execution_count": 74,
   "id": "f4877819",
   "metadata": {},
   "outputs": [
    {
     "name": "stdout",
     "output_type": "stream",
     "text": [
      "{'criterion': 'squared_error', 'max_depth': 17, 'max_features': 'sqrt', 'n_estimators': 100}\n",
      "0.7839631386106723\n"
     ]
    }
   ],
   "source": [
    "#Applying GridSearchCV on RandomForestRegressor.\n",
    "x=df.iloc[:,0:-1]\n",
    "y=df.iloc[:,-1]\n",
    "\n",
    "pt_year=PowerTransformer()\n",
    "x['year']=pt_year.fit_transform(x['year'].values.reshape(-1,1))\n",
    "\n",
    "pt_distance=PowerTransformer()\n",
    "x['distance']=pt_distance.fit_transform(x['distance'].values.reshape(-1,1))\n",
    "\n",
    "\n",
    "rfr=RandomForestRegressor()\n",
    "parameters={'n_estimators':[80,90,100,110,120],'criterion':['squared_error','absolute_error','poisson'],'max_depth':[10,12,13,15,17,'None'],'max_features':['sqrt','log2','None']}\n",
    "gd_sr=GridSearchCV(estimator=rfr, param_grid= parameters,scoring='r2')\n",
    "gd_sr.fit(x,y)\n",
    "best_parameters=gd_sr.best_params_\n",
    "print(best_parameters)\n",
    "best_result=gd_sr.best_score_\n",
    "print(best_result)"
   ]
  },
  {
   "cell_type": "code",
   "execution_count": 76,
   "id": "92a78227",
   "metadata": {},
   "outputs": [
    {
     "name": "stdout",
     "output_type": "stream",
     "text": [
      "{'max_depth': 40, 'n_estimators': 110}\n",
      "0.8452684474127372\n"
     ]
    }
   ],
   "source": [
    "#Applying GridSearchCV on RandomForestRegressor.\n",
    "x=df.iloc[:,0:-1]\n",
    "y=df.iloc[:,-1]\n",
    "\n",
    "pt_year=PowerTransformer()\n",
    "x['year']=pt_year.fit_transform(x['year'].values.reshape(-1,1))\n",
    "\n",
    "pt_distance=PowerTransformer()\n",
    "x['distance']=pt_distance.fit_transform(x['distance'].values.reshape(-1,1))\n",
    "\n",
    "\n",
    "rfr=RandomForestRegressor()\n",
    "parameters={'n_estimators':[80,90,100,110,120],'max_depth':[13,15,17,20,30,40,'None']}\n",
    "gd_sr=GridSearchCV(estimator=rfr, param_grid= parameters,scoring='r2')\n",
    "gd_sr.fit(x,y)\n",
    "best_parameters=gd_sr.best_params_\n",
    "print(best_parameters)\n",
    "best_result=gd_sr.best_score_\n",
    "print(best_result)"
   ]
  },
  {
   "cell_type": "code",
   "execution_count": 77,
   "id": "0b066843",
   "metadata": {},
   "outputs": [
    {
     "name": "stdout",
     "output_type": "stream",
     "text": [
      "{'max_depth': 40, 'n_estimators': 110}\n",
      "0.8447927699614457\n"
     ]
    }
   ],
   "source": [
    "#Applying GridSearchCV on RandomForestRegressor.\n",
    "x=df.iloc[:,0:-1]\n",
    "y=df.iloc[:,-1]\n",
    "\n",
    "pt_year=PowerTransformer()\n",
    "x['year']=pt_year.fit_transform(x['year'].values.reshape(-1,1))\n",
    "\n",
    "pt_distance=PowerTransformer()\n",
    "x['distance']=pt_distance.fit_transform(x['distance'].values.reshape(-1,1))\n",
    "\n",
    "\n",
    "rfr=RandomForestRegressor()\n",
    "parameters={'n_estimators':[80,90,100,105,110,115,120],'max_depth':[17,20,30,40,50,60,70,80,'None']}\n",
    "gd_sr=GridSearchCV(estimator=rfr, param_grid= parameters,scoring='r2')\n",
    "gd_sr.fit(x,y)\n",
    "best_parameters=gd_sr.best_params_\n",
    "print(best_parameters)\n",
    "best_result=gd_sr.best_score_\n",
    "print(best_result)"
   ]
  },
  {
   "cell_type": "code",
   "execution_count": 78,
   "id": "68faeedd",
   "metadata": {},
   "outputs": [
    {
     "name": "stdout",
     "output_type": "stream",
     "text": [
      "{'max_depth': 50, 'n_estimators': 107}\n",
      "0.8454884963415761\n"
     ]
    }
   ],
   "source": [
    "#Applying GridSearchCV on RandomForestRegressor.\n",
    "x=df.iloc[:,0:-1]\n",
    "y=df.iloc[:,-1]\n",
    "\n",
    "pt_year=PowerTransformer()\n",
    "x['year']=pt_year.fit_transform(x['year'].values.reshape(-1,1))\n",
    "\n",
    "pt_distance=PowerTransformer()\n",
    "x['distance']=pt_distance.fit_transform(x['distance'].values.reshape(-1,1))\n",
    "\n",
    "\n",
    "rfr=RandomForestRegressor()\n",
    "parameters={'n_estimators':[105,107,110,113,115,120],'max_depth':[35,37,40,42,45,47,50,'None']}\n",
    "gd_sr=GridSearchCV(estimator=rfr, param_grid= parameters,scoring='r2')\n",
    "gd_sr.fit(x,y)\n",
    "best_parameters=gd_sr.best_params_\n",
    "print(best_parameters)\n",
    "best_result=gd_sr.best_score_\n",
    "print(best_result)"
   ]
  },
  {
   "cell_type": "code",
   "execution_count": 79,
   "id": "742acf55",
   "metadata": {},
   "outputs": [
    {
     "name": "stdout",
     "output_type": "stream",
     "text": [
      "{'max_depth': 47, 'n_estimators': 100}\n",
      "0.8469893718646343\n"
     ]
    }
   ],
   "source": [
    "#Applying GridSearchCV on RandomForestRegressor.\n",
    "x=df.iloc[:,0:-1]\n",
    "y=df.iloc[:,-1]\n",
    "\n",
    "pt_year=PowerTransformer()\n",
    "x['year']=pt_year.fit_transform(x['year'].values.reshape(-1,1))\n",
    "\n",
    "pt_distance=PowerTransformer()\n",
    "x['distance']=pt_distance.fit_transform(x['distance'].values.reshape(-1,1))\n",
    "\n",
    "\n",
    "rfr=RandomForestRegressor()\n",
    "parameters={'n_estimators':[100,105,107,110,113,115],'max_depth':[40,42,45,47,50,52,55,'None']}\n",
    "gd_sr=GridSearchCV(estimator=rfr, param_grid= parameters,scoring='r2')\n",
    "gd_sr.fit(x,y)\n",
    "best_parameters=gd_sr.best_params_\n",
    "print(best_parameters)\n",
    "best_result=gd_sr.best_score_\n",
    "print(best_result)"
   ]
  },
  {
   "cell_type": "code",
   "execution_count": 81,
   "id": "e6cba31a",
   "metadata": {},
   "outputs": [
    {
     "name": "stdout",
     "output_type": "stream",
     "text": [
      "0.9160974981349562\n",
      "49\n"
     ]
    }
   ],
   "source": [
    "##finding out the best random state for random forest classifier model\n",
    "#parameters are obtained from hyperparameter tuning.\n",
    "#'max_depth'=15, 'n_estimators'=90\n",
    "max_r2_score=0\n",
    "best_rand_state=0\n",
    "\n",
    "x=df.iloc[:,0:-1]\n",
    "y=df.iloc[:,-1]\n",
    "\n",
    "pt_year=PowerTransformer()\n",
    "x['year']=pt_year.fit_transform(x['year'].values.reshape(-1,1))\n",
    "\n",
    "pt_distance=PowerTransformer()\n",
    "x['distance']=pt_distance.fit_transform(x['distance'].values.reshape(-1,1))\n",
    "\n",
    "for i in range(0,100):\n",
    "    x_train,x_test,y_train,y_test=train_test_split(x,y,test_size=0.20,random_state=i)\n",
    "    rfr=RandomForestRegressor(max_depth=47,n_estimators=100)\n",
    "    rfr.fit(x_train,y_train)\n",
    "    y_pred=rfr.predict(x_test)\n",
    "    \n",
    "    if r2_score(y_test,y_pred)>max_r2_score:\n",
    "        max_r2_score=r2_score(y_test,y_pred)\n",
    "        best_rand_state=i\n",
    "\n",
    "print(max_r2_score)\n",
    "print(best_rand_state)"
   ]
  },
  {
   "cell_type": "code",
   "execution_count": 86,
   "id": "8486017b",
   "metadata": {},
   "outputs": [
    {
     "name": "stdout",
     "output_type": "stream",
     "text": [
      "r2_score is: 0.9138416665754213\n",
      "root_mean_sqaured_error: 1.6552513822410895\n",
      "mean_absolute_error: 0.9311173338577156\n"
     ]
    }
   ],
   "source": [
    "#training the final random forest regressor model.\n",
    "x=df.iloc[:,0:-1]\n",
    "y=df.iloc[:,-1]\n",
    "\n",
    "pt_year=PowerTransformer()\n",
    "x['year']=pt_year.fit_transform(x['year'].values.reshape(-1,1))\n",
    "\n",
    "pt_distance=PowerTransformer()\n",
    "x['distance']=pt_distance.fit_transform(x['distance'].values.reshape(-1,1))\n",
    "\n",
    "x_train,x_test,y_train,y_test=train_test_split(x,y,test_size=0.20,random_state=49)\n",
    "rfr=RandomForestRegressor(max_depth=47,n_estimators=100)\n",
    "rfr.fit(x_train,y_train)\n",
    "y_pred=rfr.predict(x_test)\n",
    "print('r2_score is:',r2_score(y_test,y_pred))\n",
    "print('root_mean_sqaured_error:',mean_squared_error(y_test,y_pred)**0.5)\n",
    "print('mean_absolute_error:',mean_absolute_error(y_test,y_pred)) \n"
   ]
  },
  {
   "cell_type": "markdown",
   "id": "97d0e458",
   "metadata": {},
   "source": [
    "##### Trying the GradientBoostRegressor"
   ]
  },
  {
   "cell_type": "code",
   "execution_count": 87,
   "id": "fc0eec66",
   "metadata": {},
   "outputs": [
    {
     "name": "stdout",
     "output_type": "stream",
     "text": [
      "{'criterion': 'squared_error', 'learning_rate': 0.1, 'loss': 'squared_error', 'max_depth': 4, 'min_samples_leaf': 4}\n",
      "0.8565735439728831\n"
     ]
    }
   ],
   "source": [
    "#Applying GridSearchCV on RandomForestRegressor.\n",
    "x=df.iloc[:,0:-1]\n",
    "y=df.iloc[:,-1]\n",
    "\n",
    "pt_year=PowerTransformer()\n",
    "x['year']=pt_year.fit_transform(x['year'].values.reshape(-1,1))\n",
    "\n",
    "pt_distance=PowerTransformer()\n",
    "x['distance']=pt_distance.fit_transform(x['distance'].values.reshape(-1,1))\n",
    "\n",
    "\n",
    "gbr=GradientBoostingRegressor(n_estimators=1000)\n",
    "parameters={'criterion':['friedman_mse','squared_error','mse'],'loss':['squared_error','absolute_error'],'learning_rate': [0.01,0.5,0.1],'max_depth': [3,4,5],'min_samples_leaf': [4,5,6]}\n",
    "gd_sr=GridSearchCV(estimator=gbr, param_grid= parameters,scoring='r2')\n",
    "gd_sr.fit(x,y)\n",
    "best_parameters=gd_sr.best_params_\n",
    "print(best_parameters)\n",
    "best_result=gd_sr.best_score_\n",
    "print(best_result)"
   ]
  },
  {
   "cell_type": "code",
   "execution_count": 97,
   "id": "c8f06c50",
   "metadata": {},
   "outputs": [
    {
     "name": "stdout",
     "output_type": "stream",
     "text": [
      "0.9262776756921448\n",
      "24\n"
     ]
    }
   ],
   "source": [
    "##finding out the best random state for random forest classifier model\n",
    "#parameters are obtained from hyperparameter tuning.\n",
    "#'max_depth'=15, 'n_estimators'=90\n",
    "max_r2_score=0\n",
    "best_rand_state=0\n",
    "\n",
    "x=df.iloc[:,0:-1]\n",
    "y=df.iloc[:,-1]\n",
    "\n",
    "pt_year=PowerTransformer()\n",
    "x['year']=pt_year.fit_transform(x['year'].values.reshape(-1,1))\n",
    "\n",
    "pt_distance=PowerTransformer()\n",
    "x['distance']=pt_distance.fit_transform(x['distance'].values.reshape(-1,1))\n",
    "\n",
    "for i in range(0,100):\n",
    "    x_train,x_test,y_train,y_test=train_test_split(x,y,test_size=0.20,random_state=i)\n",
    "    gbr=GradientBoostingRegressor(n_estimators=1000,criterion='squared_error',max_depth=4,min_samples_leaf=1)\n",
    "    gbr.fit(x_train,y_train)\n",
    "    y_pred=gbr.predict(x_test)\n",
    "    \n",
    "    if r2_score(y_test,y_pred)>max_r2_score:\n",
    "        max_r2_score=r2_score(y_test,y_pred)\n",
    "        best_rand_state=i\n",
    "\n",
    "print(max_r2_score)\n",
    "print(best_rand_state)"
   ]
  },
  {
   "cell_type": "code",
   "execution_count": 109,
   "id": "19eb2a34",
   "metadata": {},
   "outputs": [
    {
     "name": "stdout",
     "output_type": "stream",
     "text": [
      "r2_score is: 0.925243931699905\n",
      "root_mean_sqaured_error: 1.5623217648024375\n",
      "mean_absolute_error: 0.8361678447997473\n"
     ]
    }
   ],
   "source": [
    "#training the final GradientBoostingRegressor model.\n",
    "x=df.iloc[:,0:-1]\n",
    "y=df.iloc[:,-1]\n",
    "\n",
    "pt_year=PowerTransformer()\n",
    "x['year']=pt_year.fit_transform(x['year'].values.reshape(-1,1))\n",
    "\n",
    "pt_distance=PowerTransformer()\n",
    "x['distance']=pt_distance.fit_transform(x['distance'].values.reshape(-1,1))\n",
    "\n",
    "x_train,x_test,y_train,y_test=train_test_split(x,y,test_size=0.20,random_state=24)\n",
    "gbr=GradientBoostingRegressor(n_estimators=1000,criterion='squared_error',max_depth=4,min_samples_leaf=1)\n",
    "gbr.fit(x_train,y_train)\n",
    "y_pred=gbr.predict(x_test)\n",
    "print('r2_score is:',r2_score(y_test,y_pred))\n",
    "print('root_mean_sqaured_error:',mean_squared_error(y_test,y_pred)**0.5)\n",
    "print('mean_absolute_error:',mean_absolute_error(y_test,y_pred)) \n",
    "\n",
    "#Since this model is giving the best accuarcy. This is our final model."
   ]
  },
  {
   "cell_type": "markdown",
   "id": "59f3426b",
   "metadata": {},
   "source": [
    "# Saving the final model"
   ]
  },
  {
   "cell_type": "code",
   "execution_count": 110,
   "id": "fcb18a70",
   "metadata": {},
   "outputs": [],
   "source": [
    "import pickle\n",
    "filename='car_price.pkl'\n",
    "pickle.dump(gbr,open(filename,'wb'))"
   ]
  },
  {
   "cell_type": "code",
   "execution_count": null,
   "id": "0ae5a9b6",
   "metadata": {},
   "outputs": [],
   "source": []
  },
  {
   "cell_type": "code",
   "execution_count": null,
   "id": "de4c5592",
   "metadata": {},
   "outputs": [],
   "source": []
  },
  {
   "cell_type": "code",
   "execution_count": null,
   "id": "c4690223",
   "metadata": {},
   "outputs": [],
   "source": []
  },
  {
   "cell_type": "code",
   "execution_count": null,
   "id": "888174a0",
   "metadata": {},
   "outputs": [],
   "source": []
  },
  {
   "cell_type": "code",
   "execution_count": null,
   "id": "87530a5c",
   "metadata": {},
   "outputs": [],
   "source": []
  },
  {
   "cell_type": "code",
   "execution_count": null,
   "id": "af5839c2",
   "metadata": {},
   "outputs": [],
   "source": []
  }
 ],
 "metadata": {
  "kernelspec": {
   "display_name": "Python 3",
   "language": "python",
   "name": "python3"
  },
  "language_info": {
   "codemirror_mode": {
    "name": "ipython",
    "version": 3
   },
   "file_extension": ".py",
   "mimetype": "text/x-python",
   "name": "python",
   "nbconvert_exporter": "python",
   "pygments_lexer": "ipython3",
   "version": "3.8.8"
  }
 },
 "nbformat": 4,
 "nbformat_minor": 5
}
